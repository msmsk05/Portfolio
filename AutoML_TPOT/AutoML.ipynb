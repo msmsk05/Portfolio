{
 "cells": [
  {
   "cell_type": "markdown",
   "id": "senior-patient",
   "metadata": {},
   "source": [
    "# Auto ML Models - HyperoptEstimator and TPOT"
   ]
  },
  {
   "cell_type": "code",
   "execution_count": 1,
   "id": "bright-river",
   "metadata": {},
   "outputs": [],
   "source": [
    "import pandas as pd\n",
    "import numpy as np"
   ]
  },
  {
   "cell_type": "code",
   "execution_count": 2,
   "id": "pointed-legislation",
   "metadata": {},
   "outputs": [
    {
     "data": {
      "text/html": [
       "<div>\n",
       "<style scoped>\n",
       "    .dataframe tbody tr th:only-of-type {\n",
       "        vertical-align: middle;\n",
       "    }\n",
       "\n",
       "    .dataframe tbody tr th {\n",
       "        vertical-align: top;\n",
       "    }\n",
       "\n",
       "    .dataframe thead th {\n",
       "        text-align: right;\n",
       "    }\n",
       "</style>\n",
       "<table border=\"1\" class=\"dataframe\">\n",
       "  <thead>\n",
       "    <tr style=\"text-align: right;\">\n",
       "      <th></th>\n",
       "      <th>Pregnancies</th>\n",
       "      <th>Glucose</th>\n",
       "      <th>BloodPressure</th>\n",
       "      <th>SkinThickness</th>\n",
       "      <th>Insulin</th>\n",
       "      <th>BMI</th>\n",
       "      <th>DiabetesPedigreeFunction</th>\n",
       "      <th>Age</th>\n",
       "      <th>Outcome</th>\n",
       "    </tr>\n",
       "  </thead>\n",
       "  <tbody>\n",
       "    <tr>\n",
       "      <th>0</th>\n",
       "      <td>6</td>\n",
       "      <td>148</td>\n",
       "      <td>72</td>\n",
       "      <td>35</td>\n",
       "      <td>0</td>\n",
       "      <td>33.6</td>\n",
       "      <td>0.627</td>\n",
       "      <td>50</td>\n",
       "      <td>1</td>\n",
       "    </tr>\n",
       "    <tr>\n",
       "      <th>1</th>\n",
       "      <td>1</td>\n",
       "      <td>85</td>\n",
       "      <td>66</td>\n",
       "      <td>29</td>\n",
       "      <td>0</td>\n",
       "      <td>26.6</td>\n",
       "      <td>0.351</td>\n",
       "      <td>31</td>\n",
       "      <td>0</td>\n",
       "    </tr>\n",
       "    <tr>\n",
       "      <th>2</th>\n",
       "      <td>8</td>\n",
       "      <td>183</td>\n",
       "      <td>64</td>\n",
       "      <td>0</td>\n",
       "      <td>0</td>\n",
       "      <td>23.3</td>\n",
       "      <td>0.672</td>\n",
       "      <td>32</td>\n",
       "      <td>1</td>\n",
       "    </tr>\n",
       "    <tr>\n",
       "      <th>3</th>\n",
       "      <td>1</td>\n",
       "      <td>89</td>\n",
       "      <td>66</td>\n",
       "      <td>23</td>\n",
       "      <td>94</td>\n",
       "      <td>28.1</td>\n",
       "      <td>0.167</td>\n",
       "      <td>21</td>\n",
       "      <td>0</td>\n",
       "    </tr>\n",
       "    <tr>\n",
       "      <th>4</th>\n",
       "      <td>0</td>\n",
       "      <td>137</td>\n",
       "      <td>40</td>\n",
       "      <td>35</td>\n",
       "      <td>168</td>\n",
       "      <td>43.1</td>\n",
       "      <td>2.288</td>\n",
       "      <td>33</td>\n",
       "      <td>1</td>\n",
       "    </tr>\n",
       "  </tbody>\n",
       "</table>\n",
       "</div>"
      ],
      "text/plain": [
       "   Pregnancies  Glucose  BloodPressure  SkinThickness  Insulin   BMI  \\\n",
       "0            6      148             72             35        0  33.6   \n",
       "1            1       85             66             29        0  26.6   \n",
       "2            8      183             64              0        0  23.3   \n",
       "3            1       89             66             23       94  28.1   \n",
       "4            0      137             40             35      168  43.1   \n",
       "\n",
       "   DiabetesPedigreeFunction  Age  Outcome  \n",
       "0                     0.627   50        1  \n",
       "1                     0.351   31        0  \n",
       "2                     0.672   32        1  \n",
       "3                     0.167   21        0  \n",
       "4                     2.288   33        1  "
      ]
     },
     "execution_count": 2,
     "metadata": {},
     "output_type": "execute_result"
    }
   ],
   "source": [
    "df=pd.read_csv(\"diabetes.csv\")\n",
    "df.head()"
   ]
  },
  {
   "cell_type": "code",
   "execution_count": 3,
   "id": "romance-bottle",
   "metadata": {},
   "outputs": [
    {
     "data": {
      "text/plain": [
       "(768, 9)"
      ]
     },
     "execution_count": 3,
     "metadata": {},
     "output_type": "execute_result"
    }
   ],
   "source": [
    "df.shape"
   ]
  },
  {
   "cell_type": "code",
   "execution_count": 4,
   "id": "temporal-dallas",
   "metadata": {},
   "outputs": [],
   "source": [
    "X=df.drop(\"Outcome\", axis=1)\n",
    "y=df.Outcome"
   ]
  },
  {
   "cell_type": "code",
   "execution_count": 15,
   "id": "alone-nevada",
   "metadata": {},
   "outputs": [
    {
     "name": "stdout",
     "output_type": "stream",
     "text": [
      "100%|██████████████████████████████████████████████████| 1/1 [00:06<00:00,  6.29s/trial, best loss: 0.5714285714285714]\n",
      "100%|██████████████████████████████████████████████████| 2/2 [00:03<00:00,  3.33s/trial, best loss: 0.5714285714285714]\n",
      "100%|██████████████████████████████████████████████████| 3/3 [00:03<00:00,  3.79s/trial, best loss: 0.5714285714285714]\n",
      "100%|██████████████████████████████████████████████████| 4/4 [00:03<00:00,  3.59s/trial, best loss: 0.1428571428571429]\n",
      "100%|██████████████████████████████████████████████████| 5/5 [00:04<00:00,  4.29s/trial, best loss: 0.1428571428571429]\n",
      "100%|██████████████████████████████████████████████████| 6/6 [00:03<00:00,  3.89s/trial, best loss: 0.1428571428571429]\n",
      "100%|██████████████████████████████████████████████████| 7/7 [00:04<00:00,  4.29s/trial, best loss: 0.1428571428571429]\n",
      "100%|██████████████████████████████████████████████████| 8/8 [00:05<00:00,  5.81s/trial, best loss: 0.1428571428571429]\n",
      "100%|█████████████████████████████████████████████████████████████████| 9/9 [00:03<00:00,  3.99s/trial, best loss: 0.0]\n",
      "100%|███████████████████████████████████████████████████████████████| 10/10 [00:04<00:00,  4.18s/trial, best loss: 0.0]\n",
      "100%|███████████████████████████████████████████████████████████████| 11/11 [00:07<00:00,  7.37s/trial, best loss: 0.0]\n",
      "100%|███████████████████████████████████████████████████████████████| 12/12 [00:07<00:00,  7.52s/trial, best loss: 0.0]\n",
      "100%|███████████████████████████████████████████████████████████████| 13/13 [00:07<00:00,  7.45s/trial, best loss: 0.0]\n",
      "100%|███████████████████████████████████████████████████████████████| 14/14 [00:05<00:00,  5.04s/trial, best loss: 0.0]\n",
      "100%|███████████████████████████████████████████████████████████████| 15/15 [00:04<00:00,  4.79s/trial, best loss: 0.0]\n",
      "100%|███████████████████████████████████████████████████████████████| 16/16 [00:04<00:00,  4.96s/trial, best loss: 0.0]\n",
      "100%|███████████████████████████████████████████████████████████████| 17/17 [00:07<00:00,  7.46s/trial, best loss: 0.0]\n",
      "100%|███████████████████████████████████████████████████████████████| 18/18 [00:07<00:00,  7.22s/trial, best loss: 0.0]\n",
      "100%|███████████████████████████████████████████████████████████████| 19/19 [00:06<00:00,  6.63s/trial, best loss: 0.0]\n",
      "100%|███████████████████████████████████████████████████████████████| 20/20 [00:04<00:00,  4.76s/trial, best loss: 0.0]\n",
      "100%|███████████████████████████████████████████████████████████████| 21/21 [00:06<00:00,  6.85s/trial, best loss: 0.0]\n",
      "100%|███████████████████████████████████████████████████████████████| 22/22 [00:05<00:00,  5.08s/trial, best loss: 0.0]\n",
      "100%|███████████████████████████████████████████████████████████████| 23/23 [00:05<00:00,  5.49s/trial, best loss: 0.0]\n",
      "100%|███████████████████████████████████████████████████████████████| 24/24 [00:05<00:00,  5.29s/trial, best loss: 0.0]\n",
      "100%|███████████████████████████████████████████████████████████████| 25/25 [00:11<00:00, 11.07s/trial, best loss: 0.0]\n",
      "100%|███████████████████████████████████████████████████████████████| 26/26 [00:05<00:00,  5.10s/trial, best loss: 0.0]\n",
      "100%|███████████████████████████████████████████████████████████████| 27/27 [00:04<00:00,  4.33s/trial, best loss: 0.0]\n",
      "100%|███████████████████████████████████████████████████████████████| 28/28 [00:05<00:00,  5.64s/trial, best loss: 0.0]\n",
      "100%|███████████████████████████████████████████████████████████████| 29/29 [00:04<00:00,  4.83s/trial, best loss: 0.0]\n",
      "100%|███████████████████████████████████████████████████████████████| 30/30 [00:04<00:00,  4.76s/trial, best loss: 0.0]\n",
      "Accuracy: 0.941\n",
      "{'learner': SGDClassifier(alpha=3.199092349137468e-05, class_weight='balanced',\n",
      "              eta0=0.00424107101567429, l1_ratio=0.8103607708593458,\n",
      "              max_iter=550633259.0, n_jobs=1, power_t=0.3461027246603213,\n",
      "              random_state=0, tol=0.008463848010221821, verbose=False), 'preprocs': (), 'ex_preprocs': ()}\n"
     ]
    }
   ],
   "source": [
    "# example of hyperopt-sklearn for a classification dataset\n",
    "from sklearn.datasets import make_classification\n",
    "from sklearn.model_selection import train_test_split\n",
    "from hpsklearn import HyperoptEstimator\n",
    "from hpsklearn import any_classifier\n",
    "from hpsklearn import any_preprocessing\n",
    "from hyperopt import tpe\n",
    "# define dataset\n",
    "X, y = make_classification(n_samples=50, n_features=8, n_informative=8, n_redundant=0, random_state=1)\n",
    "# split into train and test sets\n",
    "X_train, X_test, y_train, y_test = train_test_split(X, y, test_size=0.33, random_state=1)\n",
    "# define search\n",
    "model = HyperoptEstimator(classifier=any_classifier('cla'), preprocessing=any_preprocessing('pre'), algo=tpe.suggest, max_evals=30, trial_timeout=10)\n",
    "# perform the search\n",
    "model.fit(X_train, y_train)\n",
    "# summarize performance\n",
    "acc = model.score(X_test, y_test)\n",
    "print(\"Accuracy: %.3f\" % acc)\n",
    "# summarize the best model\n",
    "print(model.best_model())"
   ]
  },
  {
   "cell_type": "code",
   "execution_count": 12,
   "id": "gothic-myrtle",
   "metadata": {},
   "outputs": [
    {
     "data": {
      "text/html": [
       "<div>\n",
       "<style scoped>\n",
       "    .dataframe tbody tr th:only-of-type {\n",
       "        vertical-align: middle;\n",
       "    }\n",
       "\n",
       "    .dataframe tbody tr th {\n",
       "        vertical-align: top;\n",
       "    }\n",
       "\n",
       "    .dataframe thead th {\n",
       "        text-align: right;\n",
       "    }\n",
       "</style>\n",
       "<table border=\"1\" class=\"dataframe\">\n",
       "  <thead>\n",
       "    <tr style=\"text-align: right;\">\n",
       "      <th></th>\n",
       "      <th>PassengerId</th>\n",
       "      <th>Survived</th>\n",
       "      <th>Pclass</th>\n",
       "      <th>Name</th>\n",
       "      <th>Sex</th>\n",
       "      <th>Age</th>\n",
       "      <th>SibSp</th>\n",
       "      <th>Parch</th>\n",
       "      <th>Ticket</th>\n",
       "      <th>Fare</th>\n",
       "      <th>Cabin</th>\n",
       "      <th>Embarked</th>\n",
       "    </tr>\n",
       "  </thead>\n",
       "  <tbody>\n",
       "    <tr>\n",
       "      <th>0</th>\n",
       "      <td>1</td>\n",
       "      <td>0</td>\n",
       "      <td>3</td>\n",
       "      <td>Braund, Mr. Owen Harris</td>\n",
       "      <td>male</td>\n",
       "      <td>22.0</td>\n",
       "      <td>1</td>\n",
       "      <td>0</td>\n",
       "      <td>A/5 21171</td>\n",
       "      <td>7.2500</td>\n",
       "      <td>NaN</td>\n",
       "      <td>S</td>\n",
       "    </tr>\n",
       "    <tr>\n",
       "      <th>1</th>\n",
       "      <td>2</td>\n",
       "      <td>1</td>\n",
       "      <td>1</td>\n",
       "      <td>Cumings, Mrs. John Bradley (Florence Briggs Th...</td>\n",
       "      <td>female</td>\n",
       "      <td>38.0</td>\n",
       "      <td>1</td>\n",
       "      <td>0</td>\n",
       "      <td>PC 17599</td>\n",
       "      <td>71.2833</td>\n",
       "      <td>C85</td>\n",
       "      <td>C</td>\n",
       "    </tr>\n",
       "    <tr>\n",
       "      <th>2</th>\n",
       "      <td>3</td>\n",
       "      <td>1</td>\n",
       "      <td>3</td>\n",
       "      <td>Heikkinen, Miss. Laina</td>\n",
       "      <td>female</td>\n",
       "      <td>26.0</td>\n",
       "      <td>0</td>\n",
       "      <td>0</td>\n",
       "      <td>STON/O2. 3101282</td>\n",
       "      <td>7.9250</td>\n",
       "      <td>NaN</td>\n",
       "      <td>S</td>\n",
       "    </tr>\n",
       "    <tr>\n",
       "      <th>3</th>\n",
       "      <td>4</td>\n",
       "      <td>1</td>\n",
       "      <td>1</td>\n",
       "      <td>Futrelle, Mrs. Jacques Heath (Lily May Peel)</td>\n",
       "      <td>female</td>\n",
       "      <td>35.0</td>\n",
       "      <td>1</td>\n",
       "      <td>0</td>\n",
       "      <td>113803</td>\n",
       "      <td>53.1000</td>\n",
       "      <td>C123</td>\n",
       "      <td>S</td>\n",
       "    </tr>\n",
       "    <tr>\n",
       "      <th>4</th>\n",
       "      <td>5</td>\n",
       "      <td>0</td>\n",
       "      <td>3</td>\n",
       "      <td>Allen, Mr. William Henry</td>\n",
       "      <td>male</td>\n",
       "      <td>35.0</td>\n",
       "      <td>0</td>\n",
       "      <td>0</td>\n",
       "      <td>373450</td>\n",
       "      <td>8.0500</td>\n",
       "      <td>NaN</td>\n",
       "      <td>S</td>\n",
       "    </tr>\n",
       "  </tbody>\n",
       "</table>\n",
       "</div>"
      ],
      "text/plain": [
       "   PassengerId  Survived  Pclass  \\\n",
       "0            1         0       3   \n",
       "1            2         1       1   \n",
       "2            3         1       3   \n",
       "3            4         1       1   \n",
       "4            5         0       3   \n",
       "\n",
       "                                                Name     Sex   Age  SibSp  \\\n",
       "0                            Braund, Mr. Owen Harris    male  22.0      1   \n",
       "1  Cumings, Mrs. John Bradley (Florence Briggs Th...  female  38.0      1   \n",
       "2                             Heikkinen, Miss. Laina  female  26.0      0   \n",
       "3       Futrelle, Mrs. Jacques Heath (Lily May Peel)  female  35.0      1   \n",
       "4                           Allen, Mr. William Henry    male  35.0      0   \n",
       "\n",
       "   Parch            Ticket     Fare Cabin Embarked  \n",
       "0      0         A/5 21171   7.2500   NaN        S  \n",
       "1      0          PC 17599  71.2833   C85        C  \n",
       "2      0  STON/O2. 3101282   7.9250   NaN        S  \n",
       "3      0            113803  53.1000  C123        S  \n",
       "4      0            373450   8.0500   NaN        S  "
      ]
     },
     "execution_count": 12,
     "metadata": {},
     "output_type": "execute_result"
    }
   ],
   "source": [
    "titanic=pd.read_csv(\"titanic_train.csv\")\n",
    "titanic.head()"
   ]
  },
  {
   "cell_type": "code",
   "execution_count": 13,
   "id": "acoustic-prior",
   "metadata": {},
   "outputs": [],
   "source": [
    "titanic['Sex'] = titanic['Sex'].apply(lambda x: 1 if x == 'male' else 0)\n",
    "titanic['Age'] = titanic['Age'].fillna(titanic['Age'].mean())\n",
    "titanic['Embarked'].fillna(titanic['Embarked'].mode()[0], inplace=True)\n",
    "titanic=titanic.drop([\"PassengerId\", \"Cabin\", \"Name\", \"Ticket\"], axis=1)"
   ]
  },
  {
   "cell_type": "code",
   "execution_count": 14,
   "id": "israeli-steal",
   "metadata": {},
   "outputs": [],
   "source": [
    "titanic=pd.get_dummies(titanic, columns=[\"Embarked\"], drop_first=True)"
   ]
  },
  {
   "cell_type": "code",
   "execution_count": 15,
   "id": "national-james",
   "metadata": {},
   "outputs": [],
   "source": [
    "X = titanic.drop('Survived', axis = 1)\n",
    "y = titanic['Survived']"
   ]
  },
  {
   "cell_type": "code",
   "execution_count": 16,
   "id": "underlying-disorder",
   "metadata": {},
   "outputs": [],
   "source": [
    "from sklearn.model_selection import train_test_split\n",
    "X_train, X_test, y_train, y_test = train_test_split(X, y, test_size=0.20, random_state=1)"
   ]
  },
  {
   "cell_type": "code",
   "execution_count": 17,
   "id": "transsexual-better",
   "metadata": {},
   "outputs": [
    {
     "data": {
      "application/vnd.jupyter.widget-view+json": {
       "model_id": "",
       "version_major": 2,
       "version_minor": 0
      },
      "text/plain": [
       "HBox(children=(HTML(value='Optimization Progress'), FloatProgress(value=0.0, max=240.0), HTML(value='')))"
      ]
     },
     "metadata": {},
     "output_type": "display_data"
    },
    {
     "name": "stdout",
     "output_type": "stream",
     "text": [
      "\n",
      "Generation 1 - Current best internal CV score: 0.8278756592974974\n",
      "\n",
      "Generation 2 - Current best internal CV score: 0.8338570306362921\n",
      "\n",
      "Generation 3 - Current best internal CV score: 0.8338570306362921\n",
      "\n",
      "Generation 4 - Current best internal CV score: 0.8353046796094714\n",
      "\n",
      "Generation 5 - Current best internal CV score: 0.839838401975087\n",
      "\n",
      "Best pipeline: GradientBoostingClassifier(PolynomialFeatures(input_matrix, degree=2, include_bias=False, interaction_only=False), learning_rate=0.1, max_depth=3, max_features=1.0, min_samples_leaf=6, min_samples_split=17, n_estimators=100, subsample=0.8500000000000001)\n",
      "0.8475336322869955\n"
     ]
    }
   ],
   "source": [
    "from tpot import TPOTClassifier\n",
    "from sklearn.model_selection import train_test_split\n",
    "from sklearn.metrics import make_scorer\n",
    "\n",
    "X_train, X_test, y_train, y_test = train_test_split(X, y,test_size=0.25)\n",
    "# Make a custom metric function\n",
    "def my_custom_accuracy(y_true, y_pred):\n",
    "    return float(sum(y_pred == y_true)) / len(y_true)\n",
    "\n",
    "# Make a custom a scorer from the custom metric function\n",
    "# Note: greater_is_better=False in make_scorer below would mean that the scoring function should be minimized.\n",
    "my_custom_scorer = make_scorer(my_custom_accuracy, greater_is_better=True)\n",
    "\n",
    "tpot = TPOTClassifier(generations=5, population_size=40, verbosity=2,\n",
    "                      scoring=my_custom_scorer)\n",
    "tpot.fit(X_train, y_train)\n",
    "print(tpot.score(X_test, y_test))"
   ]
  },
  {
   "cell_type": "code",
   "execution_count": 18,
   "id": "virtual-archive",
   "metadata": {},
   "outputs": [],
   "source": [
    "from sklearn.ensemble import GradientBoostingClassifier\n",
    "from sklearn.preprocessing import PolynomialFeatures\n",
    "from sklearn.pipeline import make_pipeline\n",
    "\n",
    "model = make_pipeline(PolynomialFeatures(degree=2, include_bias=False, interaction_only=False),\n",
    "GradientBoostingClassifier(learning_rate=0.1, max_depth=3, max_features=1.0, min_samples_leaf=6, \n",
    "                           min_samples_split=17, n_estimators=100, subsample=0.8500000000000001))\n",
    "\n",
    "model.fit(X_train, y_train)\n",
    "results = model.predict(X_test)"
   ]
  },
  {
   "cell_type": "code",
   "execution_count": 19,
   "id": "several-screen",
   "metadata": {},
   "outputs": [],
   "source": [
    "from sklearn.metrics import classification_report, confusion_matrix, accuracy_score"
   ]
  },
  {
   "cell_type": "code",
   "execution_count": 20,
   "id": "impossible-hardware",
   "metadata": {},
   "outputs": [
    {
     "name": "stdout",
     "output_type": "stream",
     "text": [
      "              precision    recall  f1-score   support\n",
      "\n",
      "           0       0.86      0.89      0.87       146\n",
      "           1       0.77      0.71      0.74        77\n",
      "\n",
      "    accuracy                           0.83       223\n",
      "   macro avg       0.81      0.80      0.81       223\n",
      "weighted avg       0.83      0.83      0.83       223\n",
      "\n"
     ]
    }
   ],
   "source": [
    "print(classification_report(y_test, results))"
   ]
  },
  {
   "cell_type": "code",
   "execution_count": 23,
   "id": "statutory-municipality",
   "metadata": {},
   "outputs": [
    {
     "name": "stdout",
     "output_type": "stream",
     "text": [
      "[[130  16]\n",
      " [ 22  55]]\n"
     ]
    }
   ],
   "source": [
    "print(confusion_matrix(y_test,results))"
   ]
  },
  {
   "cell_type": "code",
   "execution_count": 22,
   "id": "bizarre-saint",
   "metadata": {},
   "outputs": [
    {
     "name": "stdout",
     "output_type": "stream",
     "text": [
      "0.8295964125560538\n"
     ]
    }
   ],
   "source": [
    "print(accuracy_score(y_test,results))"
   ]
  },
  {
   "cell_type": "code",
   "execution_count": null,
   "id": "necessary-noise",
   "metadata": {},
   "outputs": [],
   "source": []
  }
 ],
 "metadata": {
  "kernelspec": {
   "display_name": "Python 3",
   "language": "python",
   "name": "python3"
  },
  "language_info": {
   "codemirror_mode": {
    "name": "ipython",
    "version": 3
   },
   "file_extension": ".py",
   "mimetype": "text/x-python",
   "name": "python",
   "nbconvert_exporter": "python",
   "pygments_lexer": "ipython3",
   "version": "3.8.6"
  }
 },
 "nbformat": 4,
 "nbformat_minor": 5
}
