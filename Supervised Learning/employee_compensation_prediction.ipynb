{
  "nbformat": 4,
  "nbformat_minor": 0,
  "metadata": {
    "colab": {
      "name": "employee-compensation.ipynb",
      "provenance": []
    },
    "kernelspec": {
      "display_name": "Python 3",
      "language": "python",
      "name": "python3"
    },
    "language_info": {
      "codemirror_mode": {
        "name": "ipython",
        "version": 3
      },
      "file_extension": ".py",
      "mimetype": "text/x-python",
      "name": "python",
      "nbconvert_exporter": "python",
      "pygments_lexer": "ipython3",
      "version": "3.8.3"
    }
  },
  "cells": [
    {
      "cell_type": "markdown",
      "metadata": {
        "id": "qCfCO8Z90f0c"
      },
      "source": [
        "# Loading Libraries\n",
        "\n"
      ]
    },
    {
      "cell_type": "code",
      "metadata": {
        "id": "AdgJJlH40_bQ"
      },
      "source": [
        "import numpy as np        # Fundamental package for linear algebra and multidimensional arrays\n",
        "import pandas as pd       # Data analysis and manipultion tool"
      ],
      "execution_count": 1,
      "outputs": []
    },
    {
      "cell_type": "markdown",
      "metadata": {
        "id": "Y1NzvInd1kx6"
      },
      "source": [
        "# Loading Dataset\n"
      ]
    },
    {
      "cell_type": "code",
      "metadata": {
        "id": "5inGNMiR1hKx"
      },
      "source": [
        "train_data  = pd.read_csv(\"train_set.csv\")"
      ],
      "execution_count": 2,
      "outputs": []
    },
    {
      "cell_type": "code",
      "metadata": {
        "colab": {
          "base_uri": "https://localhost:8080/",
          "height": 391
        },
        "id": "Bu-mrn9isa6L",
        "outputId": "d0ba0402-ce5e-4cc6-820d-8732f28548dc"
      },
      "source": [
        "train_data.head()"
      ],
      "execution_count": 3,
      "outputs": [
        {
          "output_type": "execute_result",
          "data": {
            "text/html": [
              "<div>\n",
              "<style scoped>\n",
              "    .dataframe tbody tr th:only-of-type {\n",
              "        vertical-align: middle;\n",
              "    }\n",
              "\n",
              "    .dataframe tbody tr th {\n",
              "        vertical-align: top;\n",
              "    }\n",
              "\n",
              "    .dataframe thead th {\n",
              "        text-align: right;\n",
              "    }\n",
              "</style>\n",
              "<table border=\"1\" class=\"dataframe\">\n",
              "  <thead>\n",
              "    <tr style=\"text-align: right;\">\n",
              "      <th></th>\n",
              "      <th>Year</th>\n",
              "      <th>OGC</th>\n",
              "      <th>OG</th>\n",
              "      <th>DC</th>\n",
              "      <th>Dept</th>\n",
              "      <th>UC</th>\n",
              "      <th>Union</th>\n",
              "      <th>JF</th>\n",
              "      <th>Job</th>\n",
              "      <th>EI</th>\n",
              "      <th>Salaries</th>\n",
              "      <th>Overtime</th>\n",
              "      <th>H/D</th>\n",
              "      <th>YT</th>\n",
              "      <th>Total_Compensation</th>\n",
              "    </tr>\n",
              "  </thead>\n",
              "  <tbody>\n",
              "    <tr>\n",
              "      <th>0</th>\n",
              "      <td>2015</td>\n",
              "      <td>4</td>\n",
              "      <td>Community Health</td>\n",
              "      <td>DPH</td>\n",
              "      <td>Public Health</td>\n",
              "      <td>250</td>\n",
              "      <td>SEIU - Health Workers, Local 1021</td>\n",
              "      <td>Med Therapy &amp; Auxiliary</td>\n",
              "      <td>Morgue Attendant</td>\n",
              "      <td>6725</td>\n",
              "      <td>12196</td>\n",
              "      <td>0</td>\n",
              "      <td>0.00</td>\n",
              "      <td>Calendar</td>\n",
              "      <td>16158</td>\n",
              "    </tr>\n",
              "    <tr>\n",
              "      <th>1</th>\n",
              "      <td>2013</td>\n",
              "      <td>4</td>\n",
              "      <td>Community Health</td>\n",
              "      <td>DPH</td>\n",
              "      <td>Public Health</td>\n",
              "      <td>39</td>\n",
              "      <td>Stationary Engineers, Local 39</td>\n",
              "      <td>Journeyman Trade</td>\n",
              "      <td>Stationary Engineer</td>\n",
              "      <td>25058</td>\n",
              "      <td>74639</td>\n",
              "      <td>2820</td>\n",
              "      <td>12703.31</td>\n",
              "      <td>Fiscal</td>\n",
              "      <td>115784</td>\n",
              "    </tr>\n",
              "    <tr>\n",
              "      <th>2</th>\n",
              "      <td>2015</td>\n",
              "      <td>6</td>\n",
              "      <td>General Administration &amp; Finance</td>\n",
              "      <td>ASR</td>\n",
              "      <td>Assessor/Recorder</td>\n",
              "      <td>21</td>\n",
              "      <td>Prof &amp; Tech Engineers - Miscellaneous, Local 21</td>\n",
              "      <td>Appraisal &amp; Taxation</td>\n",
              "      <td>Senior Real Property Appraiser</td>\n",
              "      <td>46108</td>\n",
              "      <td>100554</td>\n",
              "      <td>0</td>\n",
              "      <td>12424.50</td>\n",
              "      <td>Calendar</td>\n",
              "      <td>144708</td>\n",
              "    </tr>\n",
              "    <tr>\n",
              "      <th>3</th>\n",
              "      <td>2016</td>\n",
              "      <td>1</td>\n",
              "      <td>Public Protection</td>\n",
              "      <td>POL</td>\n",
              "      <td>Police</td>\n",
              "      <td>911</td>\n",
              "      <td>Police Officers' Association</td>\n",
              "      <td>Police Services</td>\n",
              "      <td>Sergeant 3</td>\n",
              "      <td>33369</td>\n",
              "      <td>140164</td>\n",
              "      <td>52754</td>\n",
              "      <td>13043.87</td>\n",
              "      <td>Fiscal</td>\n",
              "      <td>242323</td>\n",
              "    </tr>\n",
              "    <tr>\n",
              "      <th>4</th>\n",
              "      <td>2013</td>\n",
              "      <td>2</td>\n",
              "      <td>Public Works, Transportation &amp; Commerce</td>\n",
              "      <td>HHP</td>\n",
              "      <td>PUC Hetch Hetchy</td>\n",
              "      <td>21</td>\n",
              "      <td>Prof &amp; Tech Engineers - Miscellaneous, Local 21</td>\n",
              "      <td>Information Systems</td>\n",
              "      <td>IS Engineer-Journey</td>\n",
              "      <td>28684</td>\n",
              "      <td>58813</td>\n",
              "      <td>0</td>\n",
              "      <td>7655.28</td>\n",
              "      <td>Calendar</td>\n",
              "      <td>82106</td>\n",
              "    </tr>\n",
              "  </tbody>\n",
              "</table>\n",
              "</div>"
            ],
            "text/plain": [
              "   Year  OGC  ...        YT Total_Compensation\n",
              "0  2015    4  ...  Calendar              16158\n",
              "1  2013    4  ...    Fiscal             115784\n",
              "2  2015    6  ...  Calendar             144708\n",
              "3  2016    1  ...    Fiscal             242323\n",
              "4  2013    2  ...  Calendar              82106\n",
              "\n",
              "[5 rows x 15 columns]"
            ]
          },
          "metadata": {
            "tags": []
          },
          "execution_count": 3
        }
      ]
    },
    {
      "cell_type": "code",
      "metadata": {
        "colab": {
          "base_uri": "https://localhost:8080/"
        },
        "id": "o03acb9Ysa6M",
        "outputId": "1b5d2887-12fb-42b3-a7d1-cc9b28e9ba86"
      },
      "source": [
        "train_data.info()"
      ],
      "execution_count": 4,
      "outputs": [
        {
          "output_type": "stream",
          "text": [
            "<class 'pandas.core.frame.DataFrame'>\n",
            "RangeIndex: 287836 entries, 0 to 287835\n",
            "Data columns (total 15 columns):\n",
            " #   Column              Non-Null Count   Dtype  \n",
            "---  ------              --------------   -----  \n",
            " 0   Year                287836 non-null  int64  \n",
            " 1   OGC                 287836 non-null  int64  \n",
            " 2   OG                  287836 non-null  object \n",
            " 3   DC                  287836 non-null  object \n",
            " 4   Dept                287836 non-null  object \n",
            " 5   UC                  287836 non-null  int64  \n",
            " 6   Union               287800 non-null  object \n",
            " 7   JF                  287798 non-null  object \n",
            " 8   Job                 287836 non-null  object \n",
            " 9   EI                  287836 non-null  int64  \n",
            " 10  Salaries            287836 non-null  int64  \n",
            " 11  Overtime            287836 non-null  int64  \n",
            " 12  H/D                 287836 non-null  float64\n",
            " 13  YT                  287836 non-null  object \n",
            " 14  Total_Compensation  287836 non-null  int64  \n",
            "dtypes: float64(1), int64(7), object(7)\n",
            "memory usage: 32.9+ MB\n"
          ],
          "name": "stdout"
        }
      ]
    },
    {
      "cell_type": "code",
      "metadata": {
        "colab": {
          "base_uri": "https://localhost:8080/",
          "height": 297
        },
        "id": "cd7plCVVLTlD",
        "outputId": "28b4c841-4459-4332-97e4-b46c1d48e53e"
      },
      "source": [
        "train_data.describe()"
      ],
      "execution_count": 5,
      "outputs": [
        {
          "output_type": "execute_result",
          "data": {
            "text/html": [
              "<div>\n",
              "<style scoped>\n",
              "    .dataframe tbody tr th:only-of-type {\n",
              "        vertical-align: middle;\n",
              "    }\n",
              "\n",
              "    .dataframe tbody tr th {\n",
              "        vertical-align: top;\n",
              "    }\n",
              "\n",
              "    .dataframe thead th {\n",
              "        text-align: right;\n",
              "    }\n",
              "</style>\n",
              "<table border=\"1\" class=\"dataframe\">\n",
              "  <thead>\n",
              "    <tr style=\"text-align: right;\">\n",
              "      <th></th>\n",
              "      <th>Year</th>\n",
              "      <th>OGC</th>\n",
              "      <th>UC</th>\n",
              "      <th>EI</th>\n",
              "      <th>Salaries</th>\n",
              "      <th>Overtime</th>\n",
              "      <th>H/D</th>\n",
              "      <th>Total_Compensation</th>\n",
              "    </tr>\n",
              "  </thead>\n",
              "  <tbody>\n",
              "    <tr>\n",
              "      <th>count</th>\n",
              "      <td>287836.000000</td>\n",
              "      <td>287836.000000</td>\n",
              "      <td>287836.000000</td>\n",
              "      <td>287836.000000</td>\n",
              "      <td>287836.000000</td>\n",
              "      <td>287836.000000</td>\n",
              "      <td>287836.000000</td>\n",
              "      <td>287836.000000</td>\n",
              "    </tr>\n",
              "    <tr>\n",
              "      <th>mean</th>\n",
              "      <td>2014.250104</td>\n",
              "      <td>2.976007</td>\n",
              "      <td>490.540186</td>\n",
              "      <td>26913.060020</td>\n",
              "      <td>63262.713139</td>\n",
              "      <td>4401.037115</td>\n",
              "      <td>8932.876472</td>\n",
              "      <td>97990.329882</td>\n",
              "    </tr>\n",
              "    <tr>\n",
              "      <th>std</th>\n",
              "      <td>1.016282</td>\n",
              "      <td>1.575586</td>\n",
              "      <td>333.238723</td>\n",
              "      <td>15539.719696</td>\n",
              "      <td>44638.657748</td>\n",
              "      <td>11079.137749</td>\n",
              "      <td>4894.072024</td>\n",
              "      <td>67750.020573</td>\n",
              "    </tr>\n",
              "    <tr>\n",
              "      <th>min</th>\n",
              "      <td>2013.000000</td>\n",
              "      <td>1.000000</td>\n",
              "      <td>1.000000</td>\n",
              "      <td>1.000000</td>\n",
              "      <td>-68771.000000</td>\n",
              "      <td>-12308.000000</td>\n",
              "      <td>-2940.470000</td>\n",
              "      <td>-74082.000000</td>\n",
              "    </tr>\n",
              "    <tr>\n",
              "      <th>25%</th>\n",
              "      <td>2013.000000</td>\n",
              "      <td>2.000000</td>\n",
              "      <td>236.000000</td>\n",
              "      <td>13434.000000</td>\n",
              "      <td>23406.000000</td>\n",
              "      <td>0.000000</td>\n",
              "      <td>4358.347500</td>\n",
              "      <td>35977.000000</td>\n",
              "    </tr>\n",
              "    <tr>\n",
              "      <th>50%</th>\n",
              "      <td>2014.000000</td>\n",
              "      <td>2.000000</td>\n",
              "      <td>535.000000</td>\n",
              "      <td>27013.000000</td>\n",
              "      <td>62504.500000</td>\n",
              "      <td>0.000000</td>\n",
              "      <td>11982.035000</td>\n",
              "      <td>98033.000000</td>\n",
              "    </tr>\n",
              "    <tr>\n",
              "      <th>75%</th>\n",
              "      <td>2015.000000</td>\n",
              "      <td>4.000000</td>\n",
              "      <td>790.000000</td>\n",
              "      <td>40397.250000</td>\n",
              "      <td>93000.250000</td>\n",
              "      <td>2738.000000</td>\n",
              "      <td>12801.790000</td>\n",
              "      <td>142138.250000</td>\n",
              "    </tr>\n",
              "    <tr>\n",
              "      <th>max</th>\n",
              "      <td>2016.000000</td>\n",
              "      <td>7.000000</td>\n",
              "      <td>990.000000</td>\n",
              "      <td>53794.000000</td>\n",
              "      <td>515101.000000</td>\n",
              "      <td>227313.000000</td>\n",
              "      <td>21872.800000</td>\n",
              "      <td>653498.000000</td>\n",
              "    </tr>\n",
              "  </tbody>\n",
              "</table>\n",
              "</div>"
            ],
            "text/plain": [
              "                Year            OGC  ...            H/D  Total_Compensation\n",
              "count  287836.000000  287836.000000  ...  287836.000000       287836.000000\n",
              "mean     2014.250104       2.976007  ...    8932.876472        97990.329882\n",
              "std         1.016282       1.575586  ...    4894.072024        67750.020573\n",
              "min      2013.000000       1.000000  ...   -2940.470000       -74082.000000\n",
              "25%      2013.000000       2.000000  ...    4358.347500        35977.000000\n",
              "50%      2014.000000       2.000000  ...   11982.035000        98033.000000\n",
              "75%      2015.000000       4.000000  ...   12801.790000       142138.250000\n",
              "max      2016.000000       7.000000  ...   21872.800000       653498.000000\n",
              "\n",
              "[8 rows x 8 columns]"
            ]
          },
          "metadata": {
            "tags": []
          },
          "execution_count": 5
        }
      ]
    },
    {
      "cell_type": "code",
      "metadata": {
        "id": "-ekmUIBKLWXe"
      },
      "source": [
        "train_data['Overtime'] = train_data['Overtime'].apply(lambda x: 0 if x<=0 else x)\n",
        "train_data['Salaries'] = train_data['Salaries'].apply(lambda x: 0 if x<=0 else x)\n",
        "train_data['H/D'] = train_data['H/D'].apply(lambda x: 0 if x<=0 else x)"
      ],
      "execution_count": 6,
      "outputs": []
    },
    {
      "cell_type": "code",
      "metadata": {
        "colab": {
          "base_uri": "https://localhost:8080/"
        },
        "id": "nyB0LZ-CHanY",
        "outputId": "181903e2-dc2d-4653-80e8-97d69f682e2e"
      },
      "source": [
        "train_data.Year=train_data.Year.astype(int)\n",
        "train_data[\"Year\"]= 2021- train_data.Year\n",
        "train_data.Year"
      ],
      "execution_count": 7,
      "outputs": [
        {
          "output_type": "execute_result",
          "data": {
            "text/plain": [
              "0         6\n",
              "1         8\n",
              "2         6\n",
              "3         5\n",
              "4         8\n",
              "         ..\n",
              "287831    5\n",
              "287832    6\n",
              "287833    7\n",
              "287834    8\n",
              "287835    6\n",
              "Name: Year, Length: 287836, dtype: int64"
            ]
          },
          "metadata": {
            "tags": []
          },
          "execution_count": 7
        }
      ]
    },
    {
      "cell_type": "code",
      "metadata": {
        "id": "T-C9_OvrLuGo"
      },
      "source": [
        "train_data=train_data.dropna()"
      ],
      "execution_count": 8,
      "outputs": []
    },
    {
      "cell_type": "code",
      "metadata": {
        "id": "zPJ45LgNsa6N"
      },
      "source": [
        "train_data = train_data.select_dtypes(exclude='object')"
      ],
      "execution_count": 9,
      "outputs": []
    },
    {
      "cell_type": "code",
      "metadata": {
        "colab": {
          "base_uri": "https://localhost:8080/",
          "height": 111
        },
        "id": "fNkpq9D3t475",
        "outputId": "26ff07a0-697d-492d-bbf4-3ecdefafe921"
      },
      "source": [
        "train_data.head(2)"
      ],
      "execution_count": 10,
      "outputs": [
        {
          "output_type": "execute_result",
          "data": {
            "text/html": [
              "<div>\n",
              "<style scoped>\n",
              "    .dataframe tbody tr th:only-of-type {\n",
              "        vertical-align: middle;\n",
              "    }\n",
              "\n",
              "    .dataframe tbody tr th {\n",
              "        vertical-align: top;\n",
              "    }\n",
              "\n",
              "    .dataframe thead th {\n",
              "        text-align: right;\n",
              "    }\n",
              "</style>\n",
              "<table border=\"1\" class=\"dataframe\">\n",
              "  <thead>\n",
              "    <tr style=\"text-align: right;\">\n",
              "      <th></th>\n",
              "      <th>Year</th>\n",
              "      <th>OGC</th>\n",
              "      <th>UC</th>\n",
              "      <th>EI</th>\n",
              "      <th>Salaries</th>\n",
              "      <th>Overtime</th>\n",
              "      <th>H/D</th>\n",
              "      <th>Total_Compensation</th>\n",
              "    </tr>\n",
              "  </thead>\n",
              "  <tbody>\n",
              "    <tr>\n",
              "      <th>0</th>\n",
              "      <td>6</td>\n",
              "      <td>4</td>\n",
              "      <td>250</td>\n",
              "      <td>6725</td>\n",
              "      <td>12196</td>\n",
              "      <td>0</td>\n",
              "      <td>0.00</td>\n",
              "      <td>16158</td>\n",
              "    </tr>\n",
              "    <tr>\n",
              "      <th>1</th>\n",
              "      <td>8</td>\n",
              "      <td>4</td>\n",
              "      <td>39</td>\n",
              "      <td>25058</td>\n",
              "      <td>74639</td>\n",
              "      <td>2820</td>\n",
              "      <td>12703.31</td>\n",
              "      <td>115784</td>\n",
              "    </tr>\n",
              "  </tbody>\n",
              "</table>\n",
              "</div>"
            ],
            "text/plain": [
              "   Year  OGC   UC     EI  Salaries  Overtime       H/D  Total_Compensation\n",
              "0     6    4  250   6725     12196         0      0.00               16158\n",
              "1     8    4   39  25058     74639      2820  12703.31              115784"
            ]
          },
          "metadata": {
            "tags": []
          },
          "execution_count": 10
        }
      ]
    },
    {
      "cell_type": "code",
      "metadata": {
        "colab": {
          "base_uri": "https://localhost:8080/"
        },
        "id": "NlGDOu1FMa7W",
        "outputId": "81d5625c-0765-4821-f4a5-942991b2f4d0"
      },
      "source": [
        "for i in train_data.columns:\n",
        "  print(\"number of unique values in\", i, train_data[i].nunique())"
      ],
      "execution_count": 11,
      "outputs": [
        {
          "output_type": "stream",
          "text": [
            "number of unique values in Year 4\n",
            "number of unique values in OGC 7\n",
            "number of unique values in UC 789\n",
            "number of unique values in EI 52392\n",
            "number of unique values in Salaries 104375\n",
            "number of unique values in Overtime 33609\n",
            "number of unique values in H/D 113568\n",
            "number of unique values in Total_Compensation 155957\n"
          ],
          "name": "stdout"
        }
      ]
    },
    {
      "cell_type": "code",
      "metadata": {
        "colab": {
          "base_uri": "https://localhost:8080/",
          "height": 1000
        },
        "id": "1eHFUgPeM0cg",
        "outputId": "90b6716d-3ee9-4611-af3a-fa432ec1c978"
      },
      "source": [
        "import seaborn as sns\n",
        "import matplotlib.pyplot as plt\n",
        "for i, col in enumerate(train_data.columns):\n",
        "    plt.figure(i)\n",
        "    sns.histplot(train_data[col])\n"
      ],
      "execution_count": 12,
      "outputs": [
        {
          "output_type": "display_data",
          "data": {
            "image/png": "[encoded data removed]",
            "text/plain": [
              "<Figure size 432x288 with 1 Axes>"
            ]
          },
          "metadata": {
            "tags": [],
            "needs_background": "light"
          }
        },
        {
          "output_type": "display_data",
          "data": {
            "image/png": "[encoded data removed]",
            "text/plain": [
              "<Figure size 432x288 with 1 Axes>"
            ]
          },
          "metadata": {
            "tags": [],
            "needs_background": "light"
          }
        },
        {
          "output_type": "display_data",
          "data": {
            "image/png": "[encoded data removed]",
            "text/plain": [
              "<Figure size 432x288 with 1 Axes>"
            ]
          },
          "metadata": {
            "tags": [],
            "needs_background": "light"
          }
        },
        {
          "output_type": "display_data",
          "data": {
            "image/png": "[encoded data removed]",
            "text/plain": [
              "<Figure size 432x288 with 1 Axes>"
            ]
          },
          "metadata": {
            "tags": [],
            "needs_background": "light"
          }
        },
        {
          "output_type": "display_data",
          "data": {
            "image/png": "[encoded data removed]",
            "text/plain": [
              "<Figure size 432x288 with 1 Axes>"
            ]
          },
          "metadata": {
            "tags": [],
            "needs_background": "light"
          }
        },
        {
          "output_type": "display_data",
          "data": {
            "image/png": "[encoded data removed]",
            "text/plain": [
              "<Figure size 432x288 with 1 Axes>"
            ]
          },
          "metadata": {
            "tags": [],
            "needs_background": "light"
          }
        },
        {
          "output_type": "display_data",
          "data": {
            "image/png": "[encoded data removed]",
            "text/plain": [
              "<Figure size 432x288 with 1 Axes>"
            ]
          },
          "metadata": {
            "tags": [],
            "needs_background": "light"
          }
        },
        {
          "output_type": "display_data",
          "data": {
            "image/png": "[encoded data removed]",
            "text/plain": [
              "<Figure size 432x288 with 1 Axes>"
            ]
          },
          "metadata": {
            "tags": [],
            "needs_background": "light"
          }
        }
      ]
    },
    {
      "cell_type": "markdown",
      "metadata": {
        "id": "SJZTl-Hn6SqG"
      },
      "source": [
        "# Separating Input Features and Output Features\n",
        "Before building any machine learning model, we always separate the input variables and output variables. Input variables are those quantities whose values are changed naturally in an experiment, whereas output variable is the one whose values are dependent on the input variables. So, input variables are also known as independent variables as its values are not dependent on any other quantity, and output variable/s are also known as dependent variables as its values are dependent on other variable i.e. input variables. Like here in this data, we want to predict the compensation of the employees, so the 'Total_Compensation' variable is our target variable and remaining features are input variable.\n",
        "\n",
        "By convention input variables are represented with 'X' and output variables are represented with 'y'."
      ]
    },
    {
      "cell_type": "code",
      "metadata": {
        "id": "bG7oHnzB1_NJ"
      },
      "source": [
        "# Input/independent variables\n",
        "X = train_data.drop('Total_Compensation', axis = 1)   # her we are droping the 'Total_Compensation' feature as this is the target and 'X' is input features, the changes are not \n",
        "                                              # made inplace as we have not used 'inplace = True'\n",
        "\n",
        "y = train_data['Total_Compensation']             # Output/Dependent variable"
      ],
      "execution_count": 13,
      "outputs": []
    },
    {
      "cell_type": "markdown",
      "metadata": {
        "id": "ydj91s_E64Uu"
      },
      "source": [
        "# Splitting the data into Train and Validation Set\n",
        "We want to check the performance of the model that we built. For this purpose, we always split (both input and output data) the given data into training set which will be used to train the model, and test set which will be used to check how accurately the model is predicting outcomes.\n",
        "\n",
        "For this purpose we have a class called 'train_test_split' in the 'sklearn.model_selection' module.\n",
        "\n"
      ]
    },
    {
      "cell_type": "code",
      "metadata": {
        "id": "m7EGP5w360BD"
      },
      "source": [
        "# import train_test_split\n",
        "from sklearn.model_selection import train_test_split"
      ],
      "execution_count": 14,
      "outputs": []
    },
    {
      "cell_type": "code",
      "metadata": {
        "id": "Dj5_kJ2Y7FnS"
      },
      "source": [
        "# split the data\n",
        "X_train, X_val, y_train, y_val = train_test_split(X,y,test_size=0.3, random_state = 42)"
      ],
      "execution_count": 15,
      "outputs": []
    },
    {
      "cell_type": "markdown",
      "metadata": {
        "id": "HsxciXev7Q_i"
      },
      "source": [
        "# Building Model\n",
        "Now we are finally ready, and we can train the model.\n",
        "\n",
        "There are tons of Machine Learning models like Linear Regression, Random Forest, Decision Tree, etc. to say you some. However here we are using Linear Regressor (again, using the sklearn library).\n",
        "\n",
        "Then we would feed the model both with the data (X_train) and the answers for that data (y_train)"
      ]
    },
    {
      "cell_type": "code",
      "metadata": {
        "id": "ay4pnyq87LO8"
      },
      "source": [
        "from sklearn.model_selection import KFold\n",
        "from sklearn.model_selection import StratifiedKFold\n",
        "from sklearn.model_selection import cross_val_score\n",
        "from sklearn.model_selection import GridSearchCV\n",
        "from sklearn.pipeline import Pipeline\n",
        "from sklearn.linear_model import LinearRegression\n",
        "from sklearn.tree import DecisionTreeRegressor\n",
        "from sklearn.ensemble import AdaBoostRegressor\n",
        "from sklearn.ensemble import GradientBoostingRegressor\n",
        "from sklearn.ensemble import RandomForestRegressor\n",
        "from sklearn.ensemble import ExtraTreesRegressor\n",
        "from xgboost import XGBRegressor\n",
        "from sklearn.metrics import mean_squared_error\n",
        "from sklearn.impute import SimpleImputer\n",
        "from sklearn.svm import LinearSVR\n",
        "from sklearn.model_selection import cross_validate\n",
        "from lightgbm import LGBMRegressor"
      ],
      "execution_count": 16,
      "outputs": []
    },
    {
      "cell_type": "code",
      "metadata": {
        "id": "sE6vHN6t763C"
      },
      "source": [
        "from sklearn.preprocessing import StandardScaler\n",
        "scaler=StandardScaler().fit(X_train)\n",
        "X_train=scaler.transform(X_train)\n",
        "X_val=scaler.transform(X_val)"
      ],
      "execution_count": 17,
      "outputs": []
    },
    {
      "cell_type": "markdown",
      "metadata": {
        "id": "e23pEgaC8G8l"
      },
      "source": [
        "### Train the model"
      ]
    },
    {
      "cell_type": "code",
      "metadata": {
        "id": "4YmXvx3B7-FH",
        "colab": {
          "base_uri": "https://localhost:8080/"
        },
        "outputId": "d05036a7-fee3-4f40-dfe4-5c4bbcf6ae78"
      },
      "source": [
        "models = [RandomForestRegressor(random_state=42),XGBRegressor(random_state=42),ExtraTreesRegressor(random_state=42),\n",
        "          LinearRegression(),LinearSVR(random_state=42), LGBMRegressor(random_state=42)]\n",
        "for model in models:\n",
        "    print(f\"********************{model}*********************\")\n",
        "    cv = cross_validate(model,X_train,y_train,cv=5,scoring=['neg_root_mean_squared_error'])\n",
        "    print(cv['test_neg_root_mean_squared_error'].mean())"
      ],
      "execution_count": 20,
      "outputs": [
        {
          "output_type": "stream",
          "text": [
            "********************RandomForestRegressor(bootstrap=True, ccp_alpha=0.0, criterion='mse',\n",
            "                      max_depth=None, max_features='auto', max_leaf_nodes=None,\n",
            "                      max_samples=None, min_impurity_decrease=0.0,\n",
            "                      min_impurity_split=None, min_samples_leaf=1,\n",
            "                      min_samples_split=2, min_weight_fraction_leaf=0.0,\n",
            "                      n_estimators=100, n_jobs=None, oob_score=False,\n",
            "                      random_state=42, verbose=0, warm_start=False)*********************\n",
            "-6803.281817131657\n",
            "********************XGBRegressor(base_score=0.5, booster='gbtree', colsample_bylevel=1,\n",
            "             colsample_bynode=1, colsample_bytree=1, gamma=0,\n",
            "             importance_type='gain', learning_rate=0.1, max_delta_step=0,\n",
            "             max_depth=3, min_child_weight=1, missing=None, n_estimators=100,\n",
            "             n_jobs=1, nthread=None, objective='reg:linear', random_state=42,\n",
            "             reg_alpha=0, reg_lambda=1, scale_pos_weight=1, seed=None,\n",
            "             silent=None, subsample=1, verbosity=1)*********************\n",
            "[20:21:09] WARNING: /workspace/src/objective/regression_obj.cu:152: reg:linear is now deprecated in favor of reg:squarederror.\n",
            "[20:21:17] WARNING: /workspace/src/objective/regression_obj.cu:152: reg:linear is now deprecated in favor of reg:squarederror.\n",
            "[20:21:26] WARNING: /workspace/src/objective/regression_obj.cu:152: reg:linear is now deprecated in favor of reg:squarederror.\n",
            "[20:21:35] WARNING: /workspace/src/objective/regression_obj.cu:152: reg:linear is now deprecated in favor of reg:squarederror.\n",
            "[20:21:43] WARNING: /workspace/src/objective/regression_obj.cu:152: reg:linear is now deprecated in favor of reg:squarederror.\n",
            "-7375.138971267976\n",
            "********************ExtraTreesRegressor(bootstrap=False, ccp_alpha=0.0, criterion='mse',\n",
            "                    max_depth=None, max_features='auto', max_leaf_nodes=None,\n",
            "                    max_samples=None, min_impurity_decrease=0.0,\n",
            "                    min_impurity_split=None, min_samples_leaf=1,\n",
            "                    min_samples_split=2, min_weight_fraction_leaf=0.0,\n",
            "                    n_estimators=100, n_jobs=None, oob_score=False,\n",
            "                    random_state=42, verbose=0, warm_start=False)*********************\n",
            "-6690.798147241758\n",
            "********************LinearRegression(copy_X=True, fit_intercept=True, n_jobs=None, normalize=False)*********************\n",
            "-7725.825422232022\n",
            "********************LinearSVR(C=1.0, dual=True, epsilon=0.0, fit_intercept=True,\n",
            "          intercept_scaling=1.0, loss='epsilon_insensitive', max_iter=1000,\n",
            "          random_state=42, tol=0.0001, verbose=0)*********************\n",
            "-14136.204323844097\n",
            "********************LGBMRegressor(boosting_type='gbdt', class_weight=None, colsample_bytree=1.0,\n",
            "              importance_type='split', learning_rate=0.1, max_depth=-1,\n",
            "              min_child_samples=20, min_child_weight=0.001, min_split_gain=0.0,\n",
            "              n_estimators=100, n_jobs=-1, num_leaves=31, objective=None,\n",
            "              random_state=42, reg_alpha=0.0, reg_lambda=0.0, silent=True,\n",
            "              subsample=1.0, subsample_for_bin=200000, subsample_freq=0)*********************\n",
            "-7064.081710843372\n"
          ],
          "name": "stdout"
        }
      ]
    },
    {
      "cell_type": "code",
      "metadata": {
        "id": "phSd7xt90pPx",
        "colab": {
          "base_uri": "https://localhost:8080/"
        },
        "outputId": "1d45147d-67d8-49e6-b67f-c3c766d921d7"
      },
      "source": [
        "for i in range(100,1001,50):\n",
        "    print(f\"result for n_estimator: {i}\")\n",
        "    ext = ExtraTreesRegressor(random_state=42,n_estimators=i)\n",
        "    ext.fit(X_train,y_train)\n",
        "    print(np.sqrt(mean_squared_error(y_val,ext.predict(X_val))))"
      ],
      "execution_count": null,
      "outputs": [
        {
          "output_type": "stream",
          "text": [
            "result for n_estimator 100\n",
            "6504.014255589795\n",
            "result for n_estimator 150\n",
            "6491.576445924451\n",
            "result for n_estimator 200\n",
            "6484.87454730577\n",
            "result for n_estimator 250\n",
            "6482.2963450606785\n",
            "result for n_estimator 300\n",
            "6474.888326277029\n",
            "result for n_estimator 350\n",
            "6473.83106716503\n",
            "result for n_estimator 400\n",
            "6472.716889553399\n",
            "result for n_estimator 450\n",
            "6471.653853457074\n",
            "result for n_estimator 500\n"
          ],
          "name": "stdout"
        }
      ]
    },
    {
      "cell_type": "code",
      "metadata": {
        "colab": {
          "base_uri": "https://localhost:8080/"
        },
        "id": "7BTMBimo0pM6",
        "outputId": "fc669d8f-47a8-4da0-d994-d8af84a64846"
      },
      "source": [
        "for i in range(10,31,1):\n",
        "    print(f\"result for max_depth {i}\")\n",
        "    ext = ExtraTreesRegressor(random_state=42,n_estimators=450,max_depth=i)\n",
        "    ext.fit(X_train,y_train)\n",
        "    print(np.sqrt(mean_squared_error(y_val,ext.predict(X_val))))"
      ],
      "execution_count": 18,
      "outputs": [
        {
          "output_type": "stream",
          "text": [
            "result for max_depth 10\n",
            "7455.973435446812\n",
            "result for max_depth 11\n",
            "7117.44797546692\n",
            "result for max_depth 12\n",
            "6843.942003006923\n",
            "result for max_depth 13\n",
            "6696.038091157883\n",
            "result for max_depth 14\n",
            "6582.705700623317\n",
            "result for max_depth 15\n",
            "6482.1321192626365\n",
            "result for max_depth 16\n",
            "6410.250069128377\n",
            "result for max_depth 17\n",
            "6358.175712264838\n",
            "result for max_depth 18\n",
            "6312.6497592766045\n",
            "result for max_depth 19\n",
            "6284.92395090951\n",
            "result for max_depth 20\n",
            "6273.765611297779\n",
            "result for max_depth 21\n",
            "6279.499101879161\n",
            "result for max_depth 22\n",
            "6288.563958690283\n",
            "result for max_depth 23\n",
            "6300.232978546407\n",
            "result for max_depth 24\n",
            "6320.4180211784305\n",
            "result for max_depth 25\n",
            "6347.276118767775\n",
            "result for max_depth 26\n",
            "6365.603709753865\n",
            "result for max_depth 27\n",
            "6388.920118568165\n",
            "result for max_depth 28\n",
            "6414.4300188144125\n",
            "result for max_depth 29\n",
            "6421.432596619207\n",
            "result for max_depth 30\n",
            "6433.996956160881\n"
          ],
          "name": "stdout"
        }
      ]
    },
    {
      "cell_type": "code",
      "metadata": {
        "colab": {
          "base_uri": "https://localhost:8080/"
        },
        "id": "ozBXy98u0pKJ",
        "outputId": "b39d99ea-cf39-47a9-cddd-252ea7c1a8d6"
      },
      "source": [
        "ext = ExtraTreesRegressor(random_state=42,n_estimators=450,max_depth=20)\n",
        "ext.fit(X_train,y_train)"
      ],
      "execution_count": 19,
      "outputs": [
        {
          "output_type": "execute_result",
          "data": {
            "text/plain": [
              "ExtraTreesRegressor(bootstrap=False, ccp_alpha=0.0, criterion='mse',\n",
              "                    max_depth=20, max_features='auto', max_leaf_nodes=None,\n",
              "                    max_samples=None, min_impurity_decrease=0.0,\n",
              "                    min_impurity_split=None, min_samples_leaf=1,\n",
              "                    min_samples_split=2, min_weight_fraction_leaf=0.0,\n",
              "                    n_estimators=450, n_jobs=None, oob_score=False,\n",
              "                    random_state=42, verbose=0, warm_start=False)"
            ]
          },
          "metadata": {
            "tags": []
          },
          "execution_count": 19
        }
      ]
    },
    {
      "cell_type": "markdown",
      "metadata": {
        "id": "wKO513vA8Vhu"
      },
      "source": [
        "# Validate The Model\n",
        "### Predict on the validation data (X_val)\n",
        "Now we predict using our trained model on the validation set we created i.e. X_val and evaluate our model on unforeseen data."
      ]
    },
    {
      "cell_type": "code",
      "metadata": {
        "id": "0d5YdS-W8RD1"
      },
      "source": [
        "pred = ext.predict(X_val)"
      ],
      "execution_count": 20,
      "outputs": []
    },
    {
      "cell_type": "markdown",
      "metadata": {
        "id": "zYD_9rcY9xkl"
      },
      "source": [
        "## Model Evaluation\n",
        "Evaluating performance of the machine learning model that we have built is an essential part of any machine learning project. Performance of our model is done using some evaluation metrics.\n",
        "\n",
        "There are so many evaluation metrics to use for regression problem, naming some - Mean Squared Error (in short MSE), Mean Absolute Error (in short MAE), Root Mean Squared Erro (in short RMSE), Root Mean Squared Log Error (in short RMSLE) etc. However, **RMSE** is the metric for this data sprint. "
      ]
    },
    {
      "cell_type": "code",
      "metadata": {
        "id": "ce4XV0GS-u_r"
      },
      "source": [
        "# import mean squared error from sklearn.metric\n",
        "from sklearn.metrics import mean_squared_error"
      ],
      "execution_count": 21,
      "outputs": []
    },
    {
      "cell_type": "code",
      "metadata": {
        "id": "LBI7JwY1-40F",
        "colab": {
          "base_uri": "https://localhost:8080/"
        },
        "outputId": "719994cc-b5a9-4344-ab6f-302f8a46e3cd"
      },
      "source": [
        "print('Root Mean Squared Error is: ', np.sqrt(mean_squared_error(y_val, pred))) \n",
        "\n",
        "# y_val is the original target value of the validation set (X_val)\n",
        "# pred is the predicted target value of the validation set"
      ],
      "execution_count": 22,
      "outputs": [
        {
          "output_type": "stream",
          "text": [
            "Root Mean Squared Error is:  6273.765611297779\n"
          ],
          "name": "stdout"
        }
      ]
    },
    {
      "cell_type": "markdown",
      "metadata": {
        "id": "-b1C_HVx_lKV"
      },
      "source": [
        "# Predict The Output For Testing Dataset\n",
        "\n"
      ]
    },
    {
      "cell_type": "markdown",
      "metadata": {
        "id": "4BlJRzftAjTO"
      },
      "source": [
        "## Load Test Set"
      ]
    },
    {
      "cell_type": "code",
      "metadata": {
        "id": "N_LHXg8ZAilM"
      },
      "source": [
        "test_data = pd.read_csv('test_set.csv')"
      ],
      "execution_count": 32,
      "outputs": []
    },
    {
      "cell_type": "code",
      "metadata": {
        "id": "U9-2Prbvsa6c",
        "colab": {
          "base_uri": "https://localhost:8080/",
          "height": 462
        },
        "outputId": "61f88e57-572d-4d2a-8d30-47e9de4c1737"
      },
      "source": [
        "test_data.head()"
      ],
      "execution_count": 33,
      "outputs": [
        {
          "output_type": "execute_result",
          "data": {
            "text/html": [
              "<div>\n",
              "<style scoped>\n",
              "    .dataframe tbody tr th:only-of-type {\n",
              "        vertical-align: middle;\n",
              "    }\n",
              "\n",
              "    .dataframe tbody tr th {\n",
              "        vertical-align: top;\n",
              "    }\n",
              "\n",
              "    .dataframe thead th {\n",
              "        text-align: right;\n",
              "    }\n",
              "</style>\n",
              "<table border=\"1\" class=\"dataframe\">\n",
              "  <thead>\n",
              "    <tr style=\"text-align: right;\">\n",
              "      <th></th>\n",
              "      <th>Year</th>\n",
              "      <th>OGC</th>\n",
              "      <th>OG</th>\n",
              "      <th>DC</th>\n",
              "      <th>Dept</th>\n",
              "      <th>UC</th>\n",
              "      <th>Union</th>\n",
              "      <th>JF</th>\n",
              "      <th>Job</th>\n",
              "      <th>EI</th>\n",
              "      <th>Salaries</th>\n",
              "      <th>Overtime</th>\n",
              "      <th>H/D</th>\n",
              "      <th>YT</th>\n",
              "    </tr>\n",
              "  </thead>\n",
              "  <tbody>\n",
              "    <tr>\n",
              "      <th>0</th>\n",
              "      <td>2016</td>\n",
              "      <td>2</td>\n",
              "      <td>Public Works, Transportation &amp; Commerce</td>\n",
              "      <td>AIR</td>\n",
              "      <td>Airport Commission</td>\n",
              "      <td>790</td>\n",
              "      <td>SEIU - Miscellaneous, Local 1021</td>\n",
              "      <td>Budget, Admn &amp; Stats Analysis</td>\n",
              "      <td>Management Assistant</td>\n",
              "      <td>6161</td>\n",
              "      <td>74526</td>\n",
              "      <td>0</td>\n",
              "      <td>13068.800000</td>\n",
              "      <td>Fiscal</td>\n",
              "    </tr>\n",
              "    <tr>\n",
              "      <th>1</th>\n",
              "      <td>2013</td>\n",
              "      <td>3</td>\n",
              "      <td>Human Welfare &amp; Neighborhood Development</td>\n",
              "      <td>DSS</td>\n",
              "      <td>Human Services</td>\n",
              "      <td>1</td>\n",
              "      <td>Miscellaneous Unrepresented Employees</td>\n",
              "      <td>Public Service Aide</td>\n",
              "      <td>Public Svc Aide-Public Works</td>\n",
              "      <td>17890</td>\n",
              "      <td>7219</td>\n",
              "      <td>0</td>\n",
              "      <td>3328.053046</td>\n",
              "      <td>Calendar</td>\n",
              "    </tr>\n",
              "    <tr>\n",
              "      <th>2</th>\n",
              "      <td>2016</td>\n",
              "      <td>2</td>\n",
              "      <td>Public Works, Transportation &amp; Commerce</td>\n",
              "      <td>PUC</td>\n",
              "      <td>PUC Public Utilities Commission</td>\n",
              "      <td>21</td>\n",
              "      <td>Prof &amp; Tech Engineers - Miscellaneous, Local 21</td>\n",
              "      <td>Sub-Professional Engineering</td>\n",
              "      <td>Stdntdsgntrain1, Arch/Eng/Plng</td>\n",
              "      <td>15092</td>\n",
              "      <td>4616</td>\n",
              "      <td>0</td>\n",
              "      <td>1147.260000</td>\n",
              "      <td>Fiscal</td>\n",
              "    </tr>\n",
              "    <tr>\n",
              "      <th>3</th>\n",
              "      <td>2015</td>\n",
              "      <td>3</td>\n",
              "      <td>Human Welfare &amp; Neighborhood Development</td>\n",
              "      <td>DSS</td>\n",
              "      <td>Human Services</td>\n",
              "      <td>535</td>\n",
              "      <td>SEIU - Human Services, Local 1021</td>\n",
              "      <td>Human Services</td>\n",
              "      <td>Eligibility Worker</td>\n",
              "      <td>5144</td>\n",
              "      <td>6345</td>\n",
              "      <td>0</td>\n",
              "      <td>1433.600000</td>\n",
              "      <td>Calendar</td>\n",
              "    </tr>\n",
              "    <tr>\n",
              "      <th>4</th>\n",
              "      <td>2015</td>\n",
              "      <td>2</td>\n",
              "      <td>Public Works, Transportation &amp; Commerce</td>\n",
              "      <td>HHP</td>\n",
              "      <td>PUC Hetch Hetchy</td>\n",
              "      <td>6</td>\n",
              "      <td>Electrical Workers, Local 6</td>\n",
              "      <td>Journeyman Trade</td>\n",
              "      <td>Trans And Dist Line Worker</td>\n",
              "      <td>40128</td>\n",
              "      <td>105851</td>\n",
              "      <td>153</td>\n",
              "      <td>12242.440000</td>\n",
              "      <td>Calendar</td>\n",
              "    </tr>\n",
              "  </tbody>\n",
              "</table>\n",
              "</div>"
            ],
            "text/plain": [
              "   Year  OGC  ...           H/D        YT\n",
              "0  2016    2  ...  13068.800000    Fiscal\n",
              "1  2013    3  ...   3328.053046  Calendar\n",
              "2  2016    2  ...   1147.260000    Fiscal\n",
              "3  2015    3  ...   1433.600000  Calendar\n",
              "4  2015    2  ...  12242.440000  Calendar\n",
              "\n",
              "[5 rows x 14 columns]"
            ]
          },
          "metadata": {
            "tags": []
          },
          "execution_count": 33
        }
      ]
    },
    {
      "cell_type": "code",
      "metadata": {
        "id": "lJEFPoCKsa6d",
        "colab": {
          "base_uri": "https://localhost:8080/"
        },
        "outputId": "5cf34465-b95b-4d5d-a2c8-b65e3f89ddbf"
      },
      "source": [
        "test_data.info()"
      ],
      "execution_count": 34,
      "outputs": [
        {
          "output_type": "stream",
          "text": [
            "<class 'pandas.core.frame.DataFrame'>\n",
            "RangeIndex: 47860 entries, 0 to 47859\n",
            "Data columns (total 14 columns):\n",
            " #   Column    Non-Null Count  Dtype  \n",
            "---  ------    --------------  -----  \n",
            " 0   Year      47860 non-null  int64  \n",
            " 1   OGC       47860 non-null  int64  \n",
            " 2   OG        47860 non-null  object \n",
            " 3   DC        47860 non-null  object \n",
            " 4   Dept      47860 non-null  object \n",
            " 5   UC        47860 non-null  int64  \n",
            " 6   Union     47853 non-null  object \n",
            " 7   JF        47853 non-null  object \n",
            " 8   Job       47860 non-null  object \n",
            " 9   EI        47860 non-null  int64  \n",
            " 10  Salaries  47860 non-null  int64  \n",
            " 11  Overtime  47860 non-null  int64  \n",
            " 12  H/D       47860 non-null  float64\n",
            " 13  YT        47860 non-null  object \n",
            "dtypes: float64(1), int64(6), object(7)\n",
            "memory usage: 5.1+ MB\n"
          ],
          "name": "stdout"
        }
      ]
    },
    {
      "cell_type": "code",
      "metadata": {
        "id": "gx-ex_FoOQiL"
      },
      "source": [
        "test_data['Overtime'] = test_data['Overtime'].apply(lambda x: 0 if x<=0 else x)\n",
        "test_data['Salaries'] = test_data['Salaries'].apply(lambda x: 0 if x<=0 else x)\n",
        "test_data['H/D'] = test_data['H/D'].apply(lambda x: 0 if x<=0 else x)"
      ],
      "execution_count": 35,
      "outputs": []
    },
    {
      "cell_type": "code",
      "metadata": {
        "id": "CnaUUyqAM8wq",
        "colab": {
          "base_uri": "https://localhost:8080/"
        },
        "outputId": "9b2f88f9-62bd-48dd-8d87-00ccd8135f13"
      },
      "source": [
        "test_data.Year=test_data.Year.astype(int)\n",
        "test_data[\"Year\"]= 2021- test_data.Year\n",
        "test_data.Year"
      ],
      "execution_count": 36,
      "outputs": [
        {
          "output_type": "execute_result",
          "data": {
            "text/plain": [
              "0        5\n",
              "1        8\n",
              "2        5\n",
              "3        6\n",
              "4        6\n",
              "        ..\n",
              "47855    6\n",
              "47856    8\n",
              "47857    6\n",
              "47858    8\n",
              "47859    6\n",
              "Name: Year, Length: 47860, dtype: int64"
            ]
          },
          "metadata": {
            "tags": []
          },
          "execution_count": 36
        }
      ]
    },
    {
      "cell_type": "code",
      "metadata": {
        "id": "mebLMAzEsa6e"
      },
      "source": [
        "test_data = test_data.select_dtypes(exclude='object')\n",
        "test_data=scaler.transform(test_data)"
      ],
      "execution_count": 37,
      "outputs": []
    },
    {
      "cell_type": "markdown",
      "metadata": {
        "id": "Q1VWI-oiCp3t"
      },
      "source": [
        "## Make Prediction on Test Dataset"
      ]
    },
    {
      "cell_type": "code",
      "metadata": {
        "id": "i3Fsfy9iA1N7"
      },
      "source": [
        "target = ext.predict(test_data)"
      ],
      "execution_count": 38,
      "outputs": []
    },
    {
      "cell_type": "code",
      "metadata": {
        "id": "JgcOUpjKDzzI"
      },
      "source": [
        "res = pd.DataFrame(target) \n",
        "res.columns = [\"Compensation\"]\n",
        "res.to_csv(\"submission.csv\", index = False)"
      ],
      "execution_count": 39,
      "outputs": []
    },
    {
      "cell_type": "code",
      "metadata": {
        "id": "QYgAoNRHzFOE"
      },
      "source": [
        ""
      ],
      "execution_count": null,
      "outputs": []
    }
  ]
}