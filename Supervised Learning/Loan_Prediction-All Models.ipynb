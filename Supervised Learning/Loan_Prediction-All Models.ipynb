{
 "cells": [
  {
   "cell_type": "code",
   "execution_count": 1,
   "metadata": {
    "id": "AdgJJlH40_bQ"
   },
   "outputs": [],
   "source": [
    "import numpy as np        \n",
    "import pandas as pd     \n",
    "import seaborn as sns\n",
    "import matplotlib.pyplot as plt\n",
    "# to ignore warnings\n",
    "import warnings\n",
    "warnings.filterwarnings(\"ignore\")\n",
    "pd.set_option('display.max_rows', 500)\n",
    "pd.set_option('display.max_columns', 500)\n",
    "pd.set_option('display.width', 1000)"
   ]
  },
  {
   "cell_type": "markdown",
   "metadata": {
    "id": "Y1NzvInd1kx6"
   },
   "source": [
    "# Loading Dataset"
   ]
  },
  {
   "cell_type": "code",
   "execution_count": 2,
   "metadata": {
    "id": "5inGNMiR1hKx"
   },
   "outputs": [],
   "source": [
    "df = pd.read_csv(\"Bank_Personal_Loan_Modelling.csv\")"
   ]
  },
  {
   "cell_type": "markdown",
   "metadata": {
    "id": "wIDMrCje8oXu"
   },
   "source": [
    "## Basic EDA"
   ]
  },
  {
   "cell_type": "code",
   "execution_count": 3,
   "metadata": {
    "colab": {
     "base_uri": "https://localhost:8080/",
     "height": 195
    },
    "id": "bp6SaZm68qz-",
    "outputId": "5229c548-2d7a-44df-aae8-6cdb3d3b40d5"
   },
   "outputs": [
    {
     "data": {
      "text/html": [
       "<div>\n",
       "<style scoped>\n",
       "    .dataframe tbody tr th:only-of-type {\n",
       "        vertical-align: middle;\n",
       "    }\n",
       "\n",
       "    .dataframe tbody tr th {\n",
       "        vertical-align: top;\n",
       "    }\n",
       "\n",
       "    .dataframe thead th {\n",
       "        text-align: right;\n",
       "    }\n",
       "</style>\n",
       "<table border=\"1\" class=\"dataframe\">\n",
       "  <thead>\n",
       "    <tr style=\"text-align: right;\">\n",
       "      <th></th>\n",
       "      <th>ID</th>\n",
       "      <th>Age</th>\n",
       "      <th>Experience</th>\n",
       "      <th>Income</th>\n",
       "      <th>ZIP Code</th>\n",
       "      <th>Family</th>\n",
       "      <th>CCAvg</th>\n",
       "      <th>Education</th>\n",
       "      <th>Mortgage</th>\n",
       "      <th>Personal Loan</th>\n",
       "      <th>Securities Account</th>\n",
       "      <th>CD Account</th>\n",
       "      <th>Online</th>\n",
       "      <th>CreditCard</th>\n",
       "    </tr>\n",
       "  </thead>\n",
       "  <tbody>\n",
       "    <tr>\n",
       "      <th>0</th>\n",
       "      <td>1</td>\n",
       "      <td>25</td>\n",
       "      <td>1</td>\n",
       "      <td>49</td>\n",
       "      <td>91107</td>\n",
       "      <td>4</td>\n",
       "      <td>1.6</td>\n",
       "      <td>1</td>\n",
       "      <td>0</td>\n",
       "      <td>0</td>\n",
       "      <td>1</td>\n",
       "      <td>0</td>\n",
       "      <td>0</td>\n",
       "      <td>0</td>\n",
       "    </tr>\n",
       "    <tr>\n",
       "      <th>1</th>\n",
       "      <td>2</td>\n",
       "      <td>45</td>\n",
       "      <td>19</td>\n",
       "      <td>34</td>\n",
       "      <td>90089</td>\n",
       "      <td>3</td>\n",
       "      <td>1.5</td>\n",
       "      <td>1</td>\n",
       "      <td>0</td>\n",
       "      <td>0</td>\n",
       "      <td>1</td>\n",
       "      <td>0</td>\n",
       "      <td>0</td>\n",
       "      <td>0</td>\n",
       "    </tr>\n",
       "    <tr>\n",
       "      <th>2</th>\n",
       "      <td>3</td>\n",
       "      <td>39</td>\n",
       "      <td>15</td>\n",
       "      <td>11</td>\n",
       "      <td>94720</td>\n",
       "      <td>1</td>\n",
       "      <td>1.0</td>\n",
       "      <td>1</td>\n",
       "      <td>0</td>\n",
       "      <td>0</td>\n",
       "      <td>0</td>\n",
       "      <td>0</td>\n",
       "      <td>0</td>\n",
       "      <td>0</td>\n",
       "    </tr>\n",
       "    <tr>\n",
       "      <th>3</th>\n",
       "      <td>4</td>\n",
       "      <td>35</td>\n",
       "      <td>9</td>\n",
       "      <td>100</td>\n",
       "      <td>94112</td>\n",
       "      <td>1</td>\n",
       "      <td>2.7</td>\n",
       "      <td>2</td>\n",
       "      <td>0</td>\n",
       "      <td>0</td>\n",
       "      <td>0</td>\n",
       "      <td>0</td>\n",
       "      <td>0</td>\n",
       "      <td>0</td>\n",
       "    </tr>\n",
       "    <tr>\n",
       "      <th>4</th>\n",
       "      <td>5</td>\n",
       "      <td>35</td>\n",
       "      <td>8</td>\n",
       "      <td>45</td>\n",
       "      <td>91330</td>\n",
       "      <td>4</td>\n",
       "      <td>1.0</td>\n",
       "      <td>2</td>\n",
       "      <td>0</td>\n",
       "      <td>0</td>\n",
       "      <td>0</td>\n",
       "      <td>0</td>\n",
       "      <td>0</td>\n",
       "      <td>1</td>\n",
       "    </tr>\n",
       "  </tbody>\n",
       "</table>\n",
       "</div>"
      ],
      "text/plain": [
       "   ID  Age  Experience  Income  ZIP Code  Family  CCAvg  Education  Mortgage  Personal Loan  Securities Account  CD Account  Online  CreditCard\n",
       "0   1   25           1      49     91107       4    1.6          1         0              0                   1           0       0           0\n",
       "1   2   45          19      34     90089       3    1.5          1         0              0                   1           0       0           0\n",
       "2   3   39          15      11     94720       1    1.0          1         0              0                   0           0       0           0\n",
       "3   4   35           9     100     94112       1    2.7          2         0              0                   0           0       0           0\n",
       "4   5   35           8      45     91330       4    1.0          2         0              0                   0           0       0           1"
      ]
     },
     "execution_count": 3,
     "metadata": {},
     "output_type": "execute_result"
    }
   ],
   "source": [
    "df.head()"
   ]
  },
  {
   "cell_type": "code",
   "execution_count": 23,
   "metadata": {
    "colab": {
     "base_uri": "https://localhost:8080/"
    },
    "id": "l0VymVqb8vam",
    "outputId": "e9f707cc-cad8-4312-c929-9425689e7815"
   },
   "outputs": [
    {
     "name": "stdout",
     "output_type": "stream",
     "text": [
      "<class 'pandas.core.frame.DataFrame'>\n",
      "RangeIndex: 5000 entries, 0 to 4999\n",
      "Data columns (total 14 columns):\n",
      " #   Column              Non-Null Count  Dtype  \n",
      "---  ------              --------------  -----  \n",
      " 0   ID                  5000 non-null   int64  \n",
      " 1   Age                 5000 non-null   int64  \n",
      " 2   Experience          5000 non-null   int64  \n",
      " 3   Income              5000 non-null   int64  \n",
      " 4   ZIP Code            5000 non-null   int64  \n",
      " 5   Family              5000 non-null   int64  \n",
      " 6   CCAvg               5000 non-null   float64\n",
      " 7   Education           5000 non-null   int64  \n",
      " 8   Mortgage            5000 non-null   int64  \n",
      " 9   Personal Loan       5000 non-null   int64  \n",
      " 10  Securities Account  5000 non-null   int64  \n",
      " 11  CD Account          5000 non-null   int64  \n",
      " 12  Online              5000 non-null   int64  \n",
      " 13  CreditCard          5000 non-null   int64  \n",
      "dtypes: float64(1), int64(13)\n",
      "memory usage: 547.0 KB\n"
     ]
    }
   ],
   "source": [
    "df.info()"
   ]
  },
  {
   "cell_type": "code",
   "execution_count": 24,
   "metadata": {},
   "outputs": [
    {
     "data": {
      "text/plain": [
       "ID                    0\n",
       "Age                   0\n",
       "Experience            0\n",
       "Income                0\n",
       "ZIP Code              0\n",
       "Family                0\n",
       "CCAvg                 0\n",
       "Education             0\n",
       "Mortgage              0\n",
       "Personal Loan         0\n",
       "Securities Account    0\n",
       "CD Account            0\n",
       "Online                0\n",
       "CreditCard            0\n",
       "dtype: int64"
      ]
     },
     "execution_count": 24,
     "metadata": {},
     "output_type": "execute_result"
    }
   ],
   "source": [
    "df.isnull().sum()"
   ]
  },
  {
   "cell_type": "code",
   "execution_count": 25,
   "metadata": {},
   "outputs": [
    {
     "data": {
      "text/html": [
       "<div>\n",
       "<style scoped>\n",
       "    .dataframe tbody tr th:only-of-type {\n",
       "        vertical-align: middle;\n",
       "    }\n",
       "\n",
       "    .dataframe tbody tr th {\n",
       "        vertical-align: top;\n",
       "    }\n",
       "\n",
       "    .dataframe thead th {\n",
       "        text-align: right;\n",
       "    }\n",
       "</style>\n",
       "<table border=\"1\" class=\"dataframe\">\n",
       "  <thead>\n",
       "    <tr style=\"text-align: right;\">\n",
       "      <th></th>\n",
       "      <th>ID</th>\n",
       "      <th>Age</th>\n",
       "      <th>Experience</th>\n",
       "      <th>Income</th>\n",
       "      <th>ZIP Code</th>\n",
       "      <th>Family</th>\n",
       "      <th>CCAvg</th>\n",
       "      <th>Education</th>\n",
       "      <th>Mortgage</th>\n",
       "      <th>Personal Loan</th>\n",
       "      <th>Securities Account</th>\n",
       "      <th>CD Account</th>\n",
       "      <th>Online</th>\n",
       "      <th>CreditCard</th>\n",
       "    </tr>\n",
       "  </thead>\n",
       "  <tbody>\n",
       "    <tr>\n",
       "      <th>count</th>\n",
       "      <td>5000.000000</td>\n",
       "      <td>5000.000000</td>\n",
       "      <td>5000.000000</td>\n",
       "      <td>5000.000000</td>\n",
       "      <td>5000.000000</td>\n",
       "      <td>5000.000000</td>\n",
       "      <td>5000.000000</td>\n",
       "      <td>5000.000000</td>\n",
       "      <td>5000.000000</td>\n",
       "      <td>5000.000000</td>\n",
       "      <td>5000.000000</td>\n",
       "      <td>5000.00000</td>\n",
       "      <td>5000.000000</td>\n",
       "      <td>5000.000000</td>\n",
       "    </tr>\n",
       "    <tr>\n",
       "      <th>mean</th>\n",
       "      <td>2500.500000</td>\n",
       "      <td>45.338400</td>\n",
       "      <td>20.104600</td>\n",
       "      <td>73.774200</td>\n",
       "      <td>93152.503000</td>\n",
       "      <td>2.396400</td>\n",
       "      <td>1.937938</td>\n",
       "      <td>1.881000</td>\n",
       "      <td>56.498800</td>\n",
       "      <td>0.096000</td>\n",
       "      <td>0.104400</td>\n",
       "      <td>0.06040</td>\n",
       "      <td>0.596800</td>\n",
       "      <td>0.294000</td>\n",
       "    </tr>\n",
       "    <tr>\n",
       "      <th>std</th>\n",
       "      <td>1443.520003</td>\n",
       "      <td>11.463166</td>\n",
       "      <td>11.467954</td>\n",
       "      <td>46.033729</td>\n",
       "      <td>2121.852197</td>\n",
       "      <td>1.147663</td>\n",
       "      <td>1.747659</td>\n",
       "      <td>0.839869</td>\n",
       "      <td>101.713802</td>\n",
       "      <td>0.294621</td>\n",
       "      <td>0.305809</td>\n",
       "      <td>0.23825</td>\n",
       "      <td>0.490589</td>\n",
       "      <td>0.455637</td>\n",
       "    </tr>\n",
       "    <tr>\n",
       "      <th>min</th>\n",
       "      <td>1.000000</td>\n",
       "      <td>23.000000</td>\n",
       "      <td>-3.000000</td>\n",
       "      <td>8.000000</td>\n",
       "      <td>9307.000000</td>\n",
       "      <td>1.000000</td>\n",
       "      <td>0.000000</td>\n",
       "      <td>1.000000</td>\n",
       "      <td>0.000000</td>\n",
       "      <td>0.000000</td>\n",
       "      <td>0.000000</td>\n",
       "      <td>0.00000</td>\n",
       "      <td>0.000000</td>\n",
       "      <td>0.000000</td>\n",
       "    </tr>\n",
       "    <tr>\n",
       "      <th>25%</th>\n",
       "      <td>1250.750000</td>\n",
       "      <td>35.000000</td>\n",
       "      <td>10.000000</td>\n",
       "      <td>39.000000</td>\n",
       "      <td>91911.000000</td>\n",
       "      <td>1.000000</td>\n",
       "      <td>0.700000</td>\n",
       "      <td>1.000000</td>\n",
       "      <td>0.000000</td>\n",
       "      <td>0.000000</td>\n",
       "      <td>0.000000</td>\n",
       "      <td>0.00000</td>\n",
       "      <td>0.000000</td>\n",
       "      <td>0.000000</td>\n",
       "    </tr>\n",
       "    <tr>\n",
       "      <th>50%</th>\n",
       "      <td>2500.500000</td>\n",
       "      <td>45.000000</td>\n",
       "      <td>20.000000</td>\n",
       "      <td>64.000000</td>\n",
       "      <td>93437.000000</td>\n",
       "      <td>2.000000</td>\n",
       "      <td>1.500000</td>\n",
       "      <td>2.000000</td>\n",
       "      <td>0.000000</td>\n",
       "      <td>0.000000</td>\n",
       "      <td>0.000000</td>\n",
       "      <td>0.00000</td>\n",
       "      <td>1.000000</td>\n",
       "      <td>0.000000</td>\n",
       "    </tr>\n",
       "    <tr>\n",
       "      <th>75%</th>\n",
       "      <td>3750.250000</td>\n",
       "      <td>55.000000</td>\n",
       "      <td>30.000000</td>\n",
       "      <td>98.000000</td>\n",
       "      <td>94608.000000</td>\n",
       "      <td>3.000000</td>\n",
       "      <td>2.500000</td>\n",
       "      <td>3.000000</td>\n",
       "      <td>101.000000</td>\n",
       "      <td>0.000000</td>\n",
       "      <td>0.000000</td>\n",
       "      <td>0.00000</td>\n",
       "      <td>1.000000</td>\n",
       "      <td>1.000000</td>\n",
       "    </tr>\n",
       "    <tr>\n",
       "      <th>max</th>\n",
       "      <td>5000.000000</td>\n",
       "      <td>67.000000</td>\n",
       "      <td>43.000000</td>\n",
       "      <td>224.000000</td>\n",
       "      <td>96651.000000</td>\n",
       "      <td>4.000000</td>\n",
       "      <td>10.000000</td>\n",
       "      <td>3.000000</td>\n",
       "      <td>635.000000</td>\n",
       "      <td>1.000000</td>\n",
       "      <td>1.000000</td>\n",
       "      <td>1.00000</td>\n",
       "      <td>1.000000</td>\n",
       "      <td>1.000000</td>\n",
       "    </tr>\n",
       "  </tbody>\n",
       "</table>\n",
       "</div>"
      ],
      "text/plain": [
       "                ID          Age   Experience       Income      ZIP Code  \\\n",
       "count  5000.000000  5000.000000  5000.000000  5000.000000   5000.000000   \n",
       "mean   2500.500000    45.338400    20.104600    73.774200  93152.503000   \n",
       "std    1443.520003    11.463166    11.467954    46.033729   2121.852197   \n",
       "min       1.000000    23.000000    -3.000000     8.000000   9307.000000   \n",
       "25%    1250.750000    35.000000    10.000000    39.000000  91911.000000   \n",
       "50%    2500.500000    45.000000    20.000000    64.000000  93437.000000   \n",
       "75%    3750.250000    55.000000    30.000000    98.000000  94608.000000   \n",
       "max    5000.000000    67.000000    43.000000   224.000000  96651.000000   \n",
       "\n",
       "            Family        CCAvg    Education     Mortgage  Personal Loan  \\\n",
       "count  5000.000000  5000.000000  5000.000000  5000.000000    5000.000000   \n",
       "mean      2.396400     1.937938     1.881000    56.498800       0.096000   \n",
       "std       1.147663     1.747659     0.839869   101.713802       0.294621   \n",
       "min       1.000000     0.000000     1.000000     0.000000       0.000000   \n",
       "25%       1.000000     0.700000     1.000000     0.000000       0.000000   \n",
       "50%       2.000000     1.500000     2.000000     0.000000       0.000000   \n",
       "75%       3.000000     2.500000     3.000000   101.000000       0.000000   \n",
       "max       4.000000    10.000000     3.000000   635.000000       1.000000   \n",
       "\n",
       "       Securities Account  CD Account       Online   CreditCard  \n",
       "count         5000.000000  5000.00000  5000.000000  5000.000000  \n",
       "mean             0.104400     0.06040     0.596800     0.294000  \n",
       "std              0.305809     0.23825     0.490589     0.455637  \n",
       "min              0.000000     0.00000     0.000000     0.000000  \n",
       "25%              0.000000     0.00000     0.000000     0.000000  \n",
       "50%              0.000000     0.00000     1.000000     0.000000  \n",
       "75%              0.000000     0.00000     1.000000     1.000000  \n",
       "max              1.000000     1.00000     1.000000     1.000000  "
      ]
     },
     "execution_count": 25,
     "metadata": {},
     "output_type": "execute_result"
    }
   ],
   "source": [
    "df.describe(include='all')"
   ]
  },
  {
   "cell_type": "code",
   "execution_count": 26,
   "metadata": {},
   "outputs": [
    {
     "data": {
      "text/plain": [
       "<AxesSubplot:>"
      ]
     },
     "execution_count": 26,
     "metadata": {},
     "output_type": "execute_result"
    },
    {
     "data": {
      "image/png": "[encoded data removed]",
      "text/plain": [
       "<Figure size 864x504 with 2 Axes>"
      ]
     },
     "metadata": {
      "needs_background": "light"
     },
     "output_type": "display_data"
    }
   ],
   "source": [
    "plt.figure(figsize=(12,7))\n",
    "sns.heatmap(df.corr(), annot=True)"
   ]
  },
  {
   "cell_type": "code",
   "execution_count": 27,
   "metadata": {},
   "outputs": [
    {
     "data": {
      "text/plain": [
       "0    4520\n",
       "1     480\n",
       "Name: Personal Loan, dtype: int64"
      ]
     },
     "execution_count": 27,
     "metadata": {},
     "output_type": "execute_result"
    }
   ],
   "source": [
    "df[\"Personal Loan\"].value_counts()"
   ]
  },
  {
   "cell_type": "code",
   "execution_count": 28,
   "metadata": {
    "id": "4GF7yYtVsBQq"
   },
   "outputs": [
    {
     "data": {
      "text/plain": [
       "0    0.904\n",
       "1    0.096\n",
       "Name: Personal Loan, dtype: float64"
      ]
     },
     "execution_count": 28,
     "metadata": {},
     "output_type": "execute_result"
    }
   ],
   "source": [
    "df[\"Personal Loan\"].value_counts(normalize=True)"
   ]
  },
  {
   "cell_type": "markdown",
   "metadata": {
    "id": "SJZTl-Hn6SqG"
   },
   "source": [
    "# Separating Input Features and Output Features"
   ]
  },
  {
   "cell_type": "code",
   "execution_count": 29,
   "metadata": {
    "id": "bG7oHnzB1_NJ"
   },
   "outputs": [],
   "source": [
    "X = df.drop(['Personal Loan', \"ID\", \"ZIP Code\"], axis = 1)                                           \n",
    "y = df['Personal Loan']             "
   ]
  },
  {
   "cell_type": "markdown",
   "metadata": {
    "id": "ydj91s_E64Uu"
   },
   "source": [
    "# Splitting the data into Train and Validation Set\n"
   ]
  },
  {
   "cell_type": "code",
   "execution_count": 30,
   "metadata": {
    "id": "m7EGP5w360BD"
   },
   "outputs": [],
   "source": [
    "# import train_test_split\n",
    "from sklearn.model_selection import train_test_split"
   ]
  },
  {
   "cell_type": "code",
   "execution_count": 31,
   "metadata": {
    "id": "Dj5_kJ2Y7FnS"
   },
   "outputs": [],
   "source": [
    "# split the data\n",
    "X_train, X_test, y_train, y_test = train_test_split(X,y,test_size=0.3, random_state = 42)"
   ]
  },
  {
   "cell_type": "code",
   "execution_count": 32,
   "metadata": {},
   "outputs": [],
   "source": [
    "from imblearn import over_sampling\n",
    "from imblearn.over_sampling import SMOTE"
   ]
  },
  {
   "cell_type": "code",
   "execution_count": 33,
   "metadata": {},
   "outputs": [
    {
     "name": "stdout",
     "output_type": "stream",
     "text": [
      "Before OverSampling, counts of label '1': 323\n",
      "Before OverSampling, counts of label '0': 3177 \n",
      "\n",
      "After OverSampling, the shape of X_train_new: (6354, 11)\n",
      "After OverSampling, the shape of y_train_new: (6354,) \n",
      "\n",
      "After OverSampling, counts of label '1': 3177\n",
      "After OverSampling, counts of label '0': 3177\n"
     ]
    }
   ],
   "source": [
    "print(\"Before OverSampling, counts of label '1': {}\".format(sum(y_train==1)))\n",
    "print(\"Before OverSampling, counts of label '0': {} \\n\".format(sum(y_train==0)))\n",
    "\n",
    "sm = SMOTE(random_state=41)\n",
    "X_train_new, y_train_new = sm.fit_sample(X_train, y_train)\n",
    "\n",
    "print('After OverSampling, the shape of X_train_new: {}'.format(X_train_new.shape))\n",
    "print('After OverSampling, the shape of y_train_new: {} \\n'.format(y_train_new.shape))\n",
    "\n",
    "print(\"After OverSampling, counts of label '1': {}\".format(sum(y_train_new==1)))\n",
    "print(\"After OverSampling, counts of label '0': {}\".format(sum(y_train_new==0)))"
   ]
  },
  {
   "cell_type": "code",
   "execution_count": null,
   "metadata": {},
   "outputs": [],
   "source": []
  },
  {
   "cell_type": "markdown",
   "metadata": {
    "id": "HsxciXev7Q_i"
   },
   "source": [
    "# Building Model"
   ]
  },
  {
   "cell_type": "code",
   "execution_count": 34,
   "metadata": {
    "id": "ay4pnyq87LO8"
   },
   "outputs": [],
   "source": [
    "from sklearn.preprocessing import StandardScaler\n",
    "from sklearn.model_selection import train_test_split\n",
    "from sklearn.model_selection import KFold\n",
    "from sklearn.model_selection import StratifiedKFold\n",
    "from sklearn.model_selection import cross_val_score\n",
    "from sklearn.model_selection import GridSearchCV\n",
    "from sklearn.metrics import classification_report\n",
    "from sklearn.metrics import confusion_matrix\n",
    "from sklearn.metrics import accuracy_score\n",
    "from sklearn.pipeline import Pipeline\n",
    "from sklearn.linear_model import LogisticRegression\n",
    "from sklearn.tree import DecisionTreeClassifier\n",
    "from sklearn.neighbors import KNeighborsClassifier\n",
    "from sklearn.discriminant_analysis import LinearDiscriminantAnalysis\n",
    "from sklearn.naive_bayes import GaussianNB\n",
    "from sklearn.svm import SVC\n",
    "from sklearn.ensemble import AdaBoostClassifier\n",
    "from sklearn.ensemble import GradientBoostingClassifier\n",
    "from sklearn.ensemble import RandomForestClassifier\n",
    "from sklearn.ensemble import ExtraTreesClassifier"
   ]
  },
  {
   "cell_type": "code",
   "execution_count": 35,
   "metadata": {
    "id": "sE6vHN6t763C"
   },
   "outputs": [],
   "source": [
    "def GetBasedModel():\n",
    "    basedModels = []\n",
    "    basedModels.append(('LR'   , LogisticRegression()))\n",
    "    basedModels.append(('LDA'  , LinearDiscriminantAnalysis()))\n",
    "    basedModels.append(('KNN'  , KNeighborsClassifier()))\n",
    "    basedModels.append(('CART' , DecisionTreeClassifier()))\n",
    "    basedModels.append(('NB'   , GaussianNB()))\n",
    "    basedModels.append(('SVM'  , SVC(probability=True)))\n",
    "    basedModels.append(('AB'   , AdaBoostClassifier()))\n",
    "    basedModels.append(('GBM'  , GradientBoostingClassifier()))\n",
    "    basedModels.append(('RF'   , RandomForestClassifier()))\n",
    "    basedModels.append(('ET'   , ExtraTreesClassifier()))\n",
    "    \n",
    "    return basedModels"
   ]
  },
  {
   "cell_type": "code",
   "execution_count": 36,
   "metadata": {},
   "outputs": [],
   "source": [
    "def BasedLine2(X_train, y_train,models):\n",
    "    num_folds = 10\n",
    "    scoring = 'accuracy'\n",
    "    results = []\n",
    "    names = []\n",
    "    for name, model in models:\n",
    "        kfold = StratifiedKFold(n_splits=num_folds)\n",
    "        cv_results = cross_val_score(model, X_train, y_train, cv=kfold, scoring=scoring)\n",
    "        results.append(cv_results)\n",
    "        names.append(name)\n",
    "        msg = \"%s: %f (%f)\" % (name, cv_results.mean(), cv_results.std())\n",
    "        print(msg)\n",
    "        \n",
    "    return names, results"
   ]
  },
  {
   "cell_type": "code",
   "execution_count": 37,
   "metadata": {},
   "outputs": [
    {
     "name": "stdout",
     "output_type": "stream",
     "text": [
      "LR: 0.950286 (0.008685)\n",
      "LDA: 0.942286 (0.008834)\n",
      "KNN: 0.906571 (0.010694)\n",
      "CART: 0.983714 (0.005577)\n",
      "NB: 0.881714 (0.015237)\n",
      "SVM: 0.910571 (0.003143)\n",
      "AB: 0.962286 (0.006975)\n",
      "GBM: 0.984571 (0.005299)\n",
      "RF: 0.983143 (0.004857)\n",
      "ET: 0.979714 (0.005778)\n"
     ]
    }
   ],
   "source": [
    "models = GetBasedModel()\n",
    "names,results = BasedLine2(X_train, y_train,models)"
   ]
  },
  {
   "cell_type": "markdown",
   "metadata": {},
   "source": [
    "**It looks like RandomForestClassifier is the best model**"
   ]
  },
  {
   "cell_type": "markdown",
   "metadata": {},
   "source": [
    "### Scaling the data"
   ]
  },
  {
   "cell_type": "code",
   "execution_count": 38,
   "metadata": {},
   "outputs": [],
   "source": [
    "scaler=StandardScaler()\n",
    "X_train_new=scaler.fit_transform(X_train_new)\n",
    "X_test=scaler.transform(X_test)"
   ]
  },
  {
   "cell_type": "markdown",
   "metadata": {},
   "source": [
    "### Building a RF model"
   ]
  },
  {
   "cell_type": "code",
   "execution_count": 52,
   "metadata": {},
   "outputs": [],
   "source": [
    "rf=RandomForestClassifier(max_depth=13, n_estimators=600).fit(X_train_new, y_train_new)\n",
    "y_pred=rf.predict(X_test)"
   ]
  },
  {
   "cell_type": "code",
   "execution_count": 53,
   "metadata": {},
   "outputs": [
    {
     "name": "stdout",
     "output_type": "stream",
     "text": [
      "0.9680271850738199\n",
      "--------------\n",
      "0.9554140127388535\n",
      "--------------\n",
      "0.8522727272727273\n",
      "--------------\n",
      "0.978\n",
      "--------------\n",
      "[[1317   26]\n",
      " [   7  150]]\n",
      "--------------\n",
      "              precision    recall  f1-score   support\n",
      "\n",
      "           0       0.99      0.98      0.99      1343\n",
      "           1       0.85      0.96      0.90       157\n",
      "\n",
      "    accuracy                           0.98      1500\n",
      "   macro avg       0.92      0.97      0.94      1500\n",
      "weighted avg       0.98      0.98      0.98      1500\n",
      "\n"
     ]
    }
   ],
   "source": [
    "from sklearn.metrics import accuracy_score, recall_score, precision_score, roc_auc_score, roc_curve, confusion_matrix, classification_report,precision_recall_curve\n",
    "print(roc_auc_score(y_test, y_pred))\n",
    "print(\"--------------\")\n",
    "print(recall_score(y_test, y_pred))\n",
    "print(\"--------------\")\n",
    "print(precision_score(y_test, y_pred))\n",
    "print(\"--------------\")\n",
    "print(accuracy_score(y_test, y_pred))\n",
    "print(\"--------------\")\n",
    "print(confusion_matrix(y_test, y_pred))\n",
    "print(\"--------------\")\n",
    "print(classification_report(y_test, y_pred))"
   ]
  },
  {
   "cell_type": "code",
   "execution_count": 63,
   "metadata": {},
   "outputs": [],
   "source": [
    "lr=LogisticRegression().fit(X_train_new, y_train_new)"
   ]
  },
  {
   "cell_type": "code",
   "execution_count": 64,
   "metadata": {},
   "outputs": [],
   "source": [
    "y_predlr=lr.predict(X_test)"
   ]
  },
  {
   "cell_type": "code",
   "execution_count": 65,
   "metadata": {},
   "outputs": [
    {
     "name": "stdout",
     "output_type": "stream",
     "text": [
      "0.8898487557564345\n",
      "--------------\n",
      "0.8980891719745223\n",
      "--------------\n",
      "0.47\n",
      "--------------\n",
      "0.8833333333333333\n",
      "--------------\n",
      "[[1184  159]\n",
      " [  16  141]]\n",
      "--------------\n",
      "              precision    recall  f1-score   support\n",
      "\n",
      "           0       0.99      0.88      0.93      1343\n",
      "           1       0.47      0.90      0.62       157\n",
      "\n",
      "    accuracy                           0.88      1500\n",
      "   macro avg       0.73      0.89      0.77      1500\n",
      "weighted avg       0.93      0.88      0.90      1500\n",
      "\n"
     ]
    }
   ],
   "source": [
    "print(roc_auc_score(y_test, y_predlr))\n",
    "print(\"--------------\")\n",
    "print(recall_score(y_test, y_predlr))\n",
    "print(\"--------------\")\n",
    "print(precision_score(y_test, y_predlr))\n",
    "print(\"--------------\")\n",
    "print(accuracy_score(y_test, y_predlr))\n",
    "print(\"--------------\")\n",
    "print(confusion_matrix(y_test, y_predlr))\n",
    "print(\"--------------\")\n",
    "print(classification_report(y_test, y_predlr))"
   ]
  },
  {
   "cell_type": "code",
   "execution_count": 1,
   "metadata": {},
   "outputs": [],
   "source": [
    "from pycaret import *"
   ]
  },
  {
   "cell_type": "code",
   "execution_count": 9,
   "metadata": {},
   "outputs": [
    {
     "name": "stdout",
     "output_type": "stream",
     "text": [
      "Data for Modeling: (4500, 12)\n",
      "Unseen Data For Predictions: (500, 12)\n"
     ]
    }
   ],
   "source": [
    "df=df.drop([\"ZIP Code\", \"ID\"], axis=1)\n",
    "data = df.sample(frac=0.9, random_state=786)\n",
    "data_unseen = df.drop(data.index)\n",
    "\n",
    "data.reset_index(drop=True, inplace=True)\n",
    "data_unseen.reset_index(drop=True, inplace=True)\n",
    "\n",
    "print('Data for Modeling: ' + str(data.shape))\n",
    "print('Unseen Data For Predictions: ' + str(data_unseen.shape))"
   ]
  },
  {
   "cell_type": "code",
   "execution_count": 6,
   "metadata": {},
   "outputs": [],
   "source": [
    "from pycaret.classification import *"
   ]
  },
  {
   "cell_type": "code",
   "execution_count": 11,
   "metadata": {},
   "outputs": [
    {
     "data": {
      "text/html": [
       "<style  type=\"text/css\" >\n",
       "#T_0baa4f66_870b_11eb_8862_9893ac470ac0row29_col1,#T_0baa4f66_870b_11eb_8862_9893ac470ac0row56_col1{\n",
       "            background-color:  lightgreen;\n",
       "        }</style><table id=\"T_0baa4f66_870b_11eb_8862_9893ac470ac0\" ><thead>    <tr>        <th class=\"blank level0\" ></th>        <th class=\"col_heading level0 col0\" >Description</th>        <th class=\"col_heading level0 col1\" >Value</th>    </tr></thead><tbody>\n",
       "                <tr>\n",
       "                        <th id=\"T_0baa4f66_870b_11eb_8862_9893ac470ac0level0_row0\" class=\"row_heading level0 row0\" >0</th>\n",
       "                        <td id=\"T_0baa4f66_870b_11eb_8862_9893ac470ac0row0_col0\" class=\"data row0 col0\" >session_id</td>\n",
       "                        <td id=\"T_0baa4f66_870b_11eb_8862_9893ac470ac0row0_col1\" class=\"data row0 col1\" >123</td>\n",
       "            </tr>\n",
       "            <tr>\n",
       "                        <th id=\"T_0baa4f66_870b_11eb_8862_9893ac470ac0level0_row1\" class=\"row_heading level0 row1\" >1</th>\n",
       "                        <td id=\"T_0baa4f66_870b_11eb_8862_9893ac470ac0row1_col0\" class=\"data row1 col0\" >Target</td>\n",
       "                        <td id=\"T_0baa4f66_870b_11eb_8862_9893ac470ac0row1_col1\" class=\"data row1 col1\" >Personal Loan</td>\n",
       "            </tr>\n",
       "            <tr>\n",
       "                        <th id=\"T_0baa4f66_870b_11eb_8862_9893ac470ac0level0_row2\" class=\"row_heading level0 row2\" >2</th>\n",
       "                        <td id=\"T_0baa4f66_870b_11eb_8862_9893ac470ac0row2_col0\" class=\"data row2 col0\" >Target Type</td>\n",
       "                        <td id=\"T_0baa4f66_870b_11eb_8862_9893ac470ac0row2_col1\" class=\"data row2 col1\" >Binary</td>\n",
       "            </tr>\n",
       "            <tr>\n",
       "                        <th id=\"T_0baa4f66_870b_11eb_8862_9893ac470ac0level0_row3\" class=\"row_heading level0 row3\" >3</th>\n",
       "                        <td id=\"T_0baa4f66_870b_11eb_8862_9893ac470ac0row3_col0\" class=\"data row3 col0\" >Label Encoded</td>\n",
       "                        <td id=\"T_0baa4f66_870b_11eb_8862_9893ac470ac0row3_col1\" class=\"data row3 col1\" >0: 0, 1: 1</td>\n",
       "            </tr>\n",
       "            <tr>\n",
       "                        <th id=\"T_0baa4f66_870b_11eb_8862_9893ac470ac0level0_row4\" class=\"row_heading level0 row4\" >4</th>\n",
       "                        <td id=\"T_0baa4f66_870b_11eb_8862_9893ac470ac0row4_col0\" class=\"data row4 col0\" >Original Data</td>\n",
       "                        <td id=\"T_0baa4f66_870b_11eb_8862_9893ac470ac0row4_col1\" class=\"data row4 col1\" >(4500, 12)</td>\n",
       "            </tr>\n",
       "            <tr>\n",
       "                        <th id=\"T_0baa4f66_870b_11eb_8862_9893ac470ac0level0_row5\" class=\"row_heading level0 row5\" >5</th>\n",
       "                        <td id=\"T_0baa4f66_870b_11eb_8862_9893ac470ac0row5_col0\" class=\"data row5 col0\" >Missing Values</td>\n",
       "                        <td id=\"T_0baa4f66_870b_11eb_8862_9893ac470ac0row5_col1\" class=\"data row5 col1\" >False</td>\n",
       "            </tr>\n",
       "            <tr>\n",
       "                        <th id=\"T_0baa4f66_870b_11eb_8862_9893ac470ac0level0_row6\" class=\"row_heading level0 row6\" >6</th>\n",
       "                        <td id=\"T_0baa4f66_870b_11eb_8862_9893ac470ac0row6_col0\" class=\"data row6 col0\" >Numeric Features</td>\n",
       "                        <td id=\"T_0baa4f66_870b_11eb_8862_9893ac470ac0row6_col1\" class=\"data row6 col1\" >11</td>\n",
       "            </tr>\n",
       "            <tr>\n",
       "                        <th id=\"T_0baa4f66_870b_11eb_8862_9893ac470ac0level0_row7\" class=\"row_heading level0 row7\" >7</th>\n",
       "                        <td id=\"T_0baa4f66_870b_11eb_8862_9893ac470ac0row7_col0\" class=\"data row7 col0\" >Categorical Features</td>\n",
       "                        <td id=\"T_0baa4f66_870b_11eb_8862_9893ac470ac0row7_col1\" class=\"data row7 col1\" >0</td>\n",
       "            </tr>\n",
       "            <tr>\n",
       "                        <th id=\"T_0baa4f66_870b_11eb_8862_9893ac470ac0level0_row8\" class=\"row_heading level0 row8\" >8</th>\n",
       "                        <td id=\"T_0baa4f66_870b_11eb_8862_9893ac470ac0row8_col0\" class=\"data row8 col0\" >Ordinal Features</td>\n",
       "                        <td id=\"T_0baa4f66_870b_11eb_8862_9893ac470ac0row8_col1\" class=\"data row8 col1\" >False</td>\n",
       "            </tr>\n",
       "            <tr>\n",
       "                        <th id=\"T_0baa4f66_870b_11eb_8862_9893ac470ac0level0_row9\" class=\"row_heading level0 row9\" >9</th>\n",
       "                        <td id=\"T_0baa4f66_870b_11eb_8862_9893ac470ac0row9_col0\" class=\"data row9 col0\" >High Cardinality Features</td>\n",
       "                        <td id=\"T_0baa4f66_870b_11eb_8862_9893ac470ac0row9_col1\" class=\"data row9 col1\" >False</td>\n",
       "            </tr>\n",
       "            <tr>\n",
       "                        <th id=\"T_0baa4f66_870b_11eb_8862_9893ac470ac0level0_row10\" class=\"row_heading level0 row10\" >10</th>\n",
       "                        <td id=\"T_0baa4f66_870b_11eb_8862_9893ac470ac0row10_col0\" class=\"data row10 col0\" >High Cardinality Method</td>\n",
       "                        <td id=\"T_0baa4f66_870b_11eb_8862_9893ac470ac0row10_col1\" class=\"data row10 col1\" >None</td>\n",
       "            </tr>\n",
       "            <tr>\n",
       "                        <th id=\"T_0baa4f66_870b_11eb_8862_9893ac470ac0level0_row11\" class=\"row_heading level0 row11\" >11</th>\n",
       "                        <td id=\"T_0baa4f66_870b_11eb_8862_9893ac470ac0row11_col0\" class=\"data row11 col0\" >Transformed Train Set</td>\n",
       "                        <td id=\"T_0baa4f66_870b_11eb_8862_9893ac470ac0row11_col1\" class=\"data row11 col1\" >(3149, 11)</td>\n",
       "            </tr>\n",
       "            <tr>\n",
       "                        <th id=\"T_0baa4f66_870b_11eb_8862_9893ac470ac0level0_row12\" class=\"row_heading level0 row12\" >12</th>\n",
       "                        <td id=\"T_0baa4f66_870b_11eb_8862_9893ac470ac0row12_col0\" class=\"data row12 col0\" >Transformed Test Set</td>\n",
       "                        <td id=\"T_0baa4f66_870b_11eb_8862_9893ac470ac0row12_col1\" class=\"data row12 col1\" >(1351, 11)</td>\n",
       "            </tr>\n",
       "            <tr>\n",
       "                        <th id=\"T_0baa4f66_870b_11eb_8862_9893ac470ac0level0_row13\" class=\"row_heading level0 row13\" >13</th>\n",
       "                        <td id=\"T_0baa4f66_870b_11eb_8862_9893ac470ac0row13_col0\" class=\"data row13 col0\" >Shuffle Train-Test</td>\n",
       "                        <td id=\"T_0baa4f66_870b_11eb_8862_9893ac470ac0row13_col1\" class=\"data row13 col1\" >True</td>\n",
       "            </tr>\n",
       "            <tr>\n",
       "                        <th id=\"T_0baa4f66_870b_11eb_8862_9893ac470ac0level0_row14\" class=\"row_heading level0 row14\" >14</th>\n",
       "                        <td id=\"T_0baa4f66_870b_11eb_8862_9893ac470ac0row14_col0\" class=\"data row14 col0\" >Stratify Train-Test</td>\n",
       "                        <td id=\"T_0baa4f66_870b_11eb_8862_9893ac470ac0row14_col1\" class=\"data row14 col1\" >False</td>\n",
       "            </tr>\n",
       "            <tr>\n",
       "                        <th id=\"T_0baa4f66_870b_11eb_8862_9893ac470ac0level0_row15\" class=\"row_heading level0 row15\" >15</th>\n",
       "                        <td id=\"T_0baa4f66_870b_11eb_8862_9893ac470ac0row15_col0\" class=\"data row15 col0\" >Fold Generator</td>\n",
       "                        <td id=\"T_0baa4f66_870b_11eb_8862_9893ac470ac0row15_col1\" class=\"data row15 col1\" >StratifiedKFold</td>\n",
       "            </tr>\n",
       "            <tr>\n",
       "                        <th id=\"T_0baa4f66_870b_11eb_8862_9893ac470ac0level0_row16\" class=\"row_heading level0 row16\" >16</th>\n",
       "                        <td id=\"T_0baa4f66_870b_11eb_8862_9893ac470ac0row16_col0\" class=\"data row16 col0\" >Fold Number</td>\n",
       "                        <td id=\"T_0baa4f66_870b_11eb_8862_9893ac470ac0row16_col1\" class=\"data row16 col1\" >10</td>\n",
       "            </tr>\n",
       "            <tr>\n",
       "                        <th id=\"T_0baa4f66_870b_11eb_8862_9893ac470ac0level0_row17\" class=\"row_heading level0 row17\" >17</th>\n",
       "                        <td id=\"T_0baa4f66_870b_11eb_8862_9893ac470ac0row17_col0\" class=\"data row17 col0\" >CPU Jobs</td>\n",
       "                        <td id=\"T_0baa4f66_870b_11eb_8862_9893ac470ac0row17_col1\" class=\"data row17 col1\" >-1</td>\n",
       "            </tr>\n",
       "            <tr>\n",
       "                        <th id=\"T_0baa4f66_870b_11eb_8862_9893ac470ac0level0_row18\" class=\"row_heading level0 row18\" >18</th>\n",
       "                        <td id=\"T_0baa4f66_870b_11eb_8862_9893ac470ac0row18_col0\" class=\"data row18 col0\" >Use GPU</td>\n",
       "                        <td id=\"T_0baa4f66_870b_11eb_8862_9893ac470ac0row18_col1\" class=\"data row18 col1\" >False</td>\n",
       "            </tr>\n",
       "            <tr>\n",
       "                        <th id=\"T_0baa4f66_870b_11eb_8862_9893ac470ac0level0_row19\" class=\"row_heading level0 row19\" >19</th>\n",
       "                        <td id=\"T_0baa4f66_870b_11eb_8862_9893ac470ac0row19_col0\" class=\"data row19 col0\" >Log Experiment</td>\n",
       "                        <td id=\"T_0baa4f66_870b_11eb_8862_9893ac470ac0row19_col1\" class=\"data row19 col1\" >False</td>\n",
       "            </tr>\n",
       "            <tr>\n",
       "                        <th id=\"T_0baa4f66_870b_11eb_8862_9893ac470ac0level0_row20\" class=\"row_heading level0 row20\" >20</th>\n",
       "                        <td id=\"T_0baa4f66_870b_11eb_8862_9893ac470ac0row20_col0\" class=\"data row20 col0\" >Experiment Name</td>\n",
       "                        <td id=\"T_0baa4f66_870b_11eb_8862_9893ac470ac0row20_col1\" class=\"data row20 col1\" >clf-default-name</td>\n",
       "            </tr>\n",
       "            <tr>\n",
       "                        <th id=\"T_0baa4f66_870b_11eb_8862_9893ac470ac0level0_row21\" class=\"row_heading level0 row21\" >21</th>\n",
       "                        <td id=\"T_0baa4f66_870b_11eb_8862_9893ac470ac0row21_col0\" class=\"data row21 col0\" >USI</td>\n",
       "                        <td id=\"T_0baa4f66_870b_11eb_8862_9893ac470ac0row21_col1\" class=\"data row21 col1\" >7fef</td>\n",
       "            </tr>\n",
       "            <tr>\n",
       "                        <th id=\"T_0baa4f66_870b_11eb_8862_9893ac470ac0level0_row22\" class=\"row_heading level0 row22\" >22</th>\n",
       "                        <td id=\"T_0baa4f66_870b_11eb_8862_9893ac470ac0row22_col0\" class=\"data row22 col0\" >Imputation Type</td>\n",
       "                        <td id=\"T_0baa4f66_870b_11eb_8862_9893ac470ac0row22_col1\" class=\"data row22 col1\" >simple</td>\n",
       "            </tr>\n",
       "            <tr>\n",
       "                        <th id=\"T_0baa4f66_870b_11eb_8862_9893ac470ac0level0_row23\" class=\"row_heading level0 row23\" >23</th>\n",
       "                        <td id=\"T_0baa4f66_870b_11eb_8862_9893ac470ac0row23_col0\" class=\"data row23 col0\" >Iterative Imputation Iteration</td>\n",
       "                        <td id=\"T_0baa4f66_870b_11eb_8862_9893ac470ac0row23_col1\" class=\"data row23 col1\" >None</td>\n",
       "            </tr>\n",
       "            <tr>\n",
       "                        <th id=\"T_0baa4f66_870b_11eb_8862_9893ac470ac0level0_row24\" class=\"row_heading level0 row24\" >24</th>\n",
       "                        <td id=\"T_0baa4f66_870b_11eb_8862_9893ac470ac0row24_col0\" class=\"data row24 col0\" >Numeric Imputer</td>\n",
       "                        <td id=\"T_0baa4f66_870b_11eb_8862_9893ac470ac0row24_col1\" class=\"data row24 col1\" >mean</td>\n",
       "            </tr>\n",
       "            <tr>\n",
       "                        <th id=\"T_0baa4f66_870b_11eb_8862_9893ac470ac0level0_row25\" class=\"row_heading level0 row25\" >25</th>\n",
       "                        <td id=\"T_0baa4f66_870b_11eb_8862_9893ac470ac0row25_col0\" class=\"data row25 col0\" >Iterative Imputation Numeric Model</td>\n",
       "                        <td id=\"T_0baa4f66_870b_11eb_8862_9893ac470ac0row25_col1\" class=\"data row25 col1\" >None</td>\n",
       "            </tr>\n",
       "            <tr>\n",
       "                        <th id=\"T_0baa4f66_870b_11eb_8862_9893ac470ac0level0_row26\" class=\"row_heading level0 row26\" >26</th>\n",
       "                        <td id=\"T_0baa4f66_870b_11eb_8862_9893ac470ac0row26_col0\" class=\"data row26 col0\" >Categorical Imputer</td>\n",
       "                        <td id=\"T_0baa4f66_870b_11eb_8862_9893ac470ac0row26_col1\" class=\"data row26 col1\" >constant</td>\n",
       "            </tr>\n",
       "            <tr>\n",
       "                        <th id=\"T_0baa4f66_870b_11eb_8862_9893ac470ac0level0_row27\" class=\"row_heading level0 row27\" >27</th>\n",
       "                        <td id=\"T_0baa4f66_870b_11eb_8862_9893ac470ac0row27_col0\" class=\"data row27 col0\" >Iterative Imputation Categorical Model</td>\n",
       "                        <td id=\"T_0baa4f66_870b_11eb_8862_9893ac470ac0row27_col1\" class=\"data row27 col1\" >None</td>\n",
       "            </tr>\n",
       "            <tr>\n",
       "                        <th id=\"T_0baa4f66_870b_11eb_8862_9893ac470ac0level0_row28\" class=\"row_heading level0 row28\" >28</th>\n",
       "                        <td id=\"T_0baa4f66_870b_11eb_8862_9893ac470ac0row28_col0\" class=\"data row28 col0\" >Unknown Categoricals Handling</td>\n",
       "                        <td id=\"T_0baa4f66_870b_11eb_8862_9893ac470ac0row28_col1\" class=\"data row28 col1\" >least_frequent</td>\n",
       "            </tr>\n",
       "            <tr>\n",
       "                        <th id=\"T_0baa4f66_870b_11eb_8862_9893ac470ac0level0_row29\" class=\"row_heading level0 row29\" >29</th>\n",
       "                        <td id=\"T_0baa4f66_870b_11eb_8862_9893ac470ac0row29_col0\" class=\"data row29 col0\" >Normalize</td>\n",
       "                        <td id=\"T_0baa4f66_870b_11eb_8862_9893ac470ac0row29_col1\" class=\"data row29 col1\" >True</td>\n",
       "            </tr>\n",
       "            <tr>\n",
       "                        <th id=\"T_0baa4f66_870b_11eb_8862_9893ac470ac0level0_row30\" class=\"row_heading level0 row30\" >30</th>\n",
       "                        <td id=\"T_0baa4f66_870b_11eb_8862_9893ac470ac0row30_col0\" class=\"data row30 col0\" >Normalize Method</td>\n",
       "                        <td id=\"T_0baa4f66_870b_11eb_8862_9893ac470ac0row30_col1\" class=\"data row30 col1\" >zscore</td>\n",
       "            </tr>\n",
       "            <tr>\n",
       "                        <th id=\"T_0baa4f66_870b_11eb_8862_9893ac470ac0level0_row31\" class=\"row_heading level0 row31\" >31</th>\n",
       "                        <td id=\"T_0baa4f66_870b_11eb_8862_9893ac470ac0row31_col0\" class=\"data row31 col0\" >Transformation</td>\n",
       "                        <td id=\"T_0baa4f66_870b_11eb_8862_9893ac470ac0row31_col1\" class=\"data row31 col1\" >False</td>\n",
       "            </tr>\n",
       "            <tr>\n",
       "                        <th id=\"T_0baa4f66_870b_11eb_8862_9893ac470ac0level0_row32\" class=\"row_heading level0 row32\" >32</th>\n",
       "                        <td id=\"T_0baa4f66_870b_11eb_8862_9893ac470ac0row32_col0\" class=\"data row32 col0\" >Transformation Method</td>\n",
       "                        <td id=\"T_0baa4f66_870b_11eb_8862_9893ac470ac0row32_col1\" class=\"data row32 col1\" >None</td>\n",
       "            </tr>\n",
       "            <tr>\n",
       "                        <th id=\"T_0baa4f66_870b_11eb_8862_9893ac470ac0level0_row33\" class=\"row_heading level0 row33\" >33</th>\n",
       "                        <td id=\"T_0baa4f66_870b_11eb_8862_9893ac470ac0row33_col0\" class=\"data row33 col0\" >PCA</td>\n",
       "                        <td id=\"T_0baa4f66_870b_11eb_8862_9893ac470ac0row33_col1\" class=\"data row33 col1\" >False</td>\n",
       "            </tr>\n",
       "            <tr>\n",
       "                        <th id=\"T_0baa4f66_870b_11eb_8862_9893ac470ac0level0_row34\" class=\"row_heading level0 row34\" >34</th>\n",
       "                        <td id=\"T_0baa4f66_870b_11eb_8862_9893ac470ac0row34_col0\" class=\"data row34 col0\" >PCA Method</td>\n",
       "                        <td id=\"T_0baa4f66_870b_11eb_8862_9893ac470ac0row34_col1\" class=\"data row34 col1\" >None</td>\n",
       "            </tr>\n",
       "            <tr>\n",
       "                        <th id=\"T_0baa4f66_870b_11eb_8862_9893ac470ac0level0_row35\" class=\"row_heading level0 row35\" >35</th>\n",
       "                        <td id=\"T_0baa4f66_870b_11eb_8862_9893ac470ac0row35_col0\" class=\"data row35 col0\" >PCA Components</td>\n",
       "                        <td id=\"T_0baa4f66_870b_11eb_8862_9893ac470ac0row35_col1\" class=\"data row35 col1\" >None</td>\n",
       "            </tr>\n",
       "            <tr>\n",
       "                        <th id=\"T_0baa4f66_870b_11eb_8862_9893ac470ac0level0_row36\" class=\"row_heading level0 row36\" >36</th>\n",
       "                        <td id=\"T_0baa4f66_870b_11eb_8862_9893ac470ac0row36_col0\" class=\"data row36 col0\" >Ignore Low Variance</td>\n",
       "                        <td id=\"T_0baa4f66_870b_11eb_8862_9893ac470ac0row36_col1\" class=\"data row36 col1\" >False</td>\n",
       "            </tr>\n",
       "            <tr>\n",
       "                        <th id=\"T_0baa4f66_870b_11eb_8862_9893ac470ac0level0_row37\" class=\"row_heading level0 row37\" >37</th>\n",
       "                        <td id=\"T_0baa4f66_870b_11eb_8862_9893ac470ac0row37_col0\" class=\"data row37 col0\" >Combine Rare Levels</td>\n",
       "                        <td id=\"T_0baa4f66_870b_11eb_8862_9893ac470ac0row37_col1\" class=\"data row37 col1\" >False</td>\n",
       "            </tr>\n",
       "            <tr>\n",
       "                        <th id=\"T_0baa4f66_870b_11eb_8862_9893ac470ac0level0_row38\" class=\"row_heading level0 row38\" >38</th>\n",
       "                        <td id=\"T_0baa4f66_870b_11eb_8862_9893ac470ac0row38_col0\" class=\"data row38 col0\" >Rare Level Threshold</td>\n",
       "                        <td id=\"T_0baa4f66_870b_11eb_8862_9893ac470ac0row38_col1\" class=\"data row38 col1\" >None</td>\n",
       "            </tr>\n",
       "            <tr>\n",
       "                        <th id=\"T_0baa4f66_870b_11eb_8862_9893ac470ac0level0_row39\" class=\"row_heading level0 row39\" >39</th>\n",
       "                        <td id=\"T_0baa4f66_870b_11eb_8862_9893ac470ac0row39_col0\" class=\"data row39 col0\" >Numeric Binning</td>\n",
       "                        <td id=\"T_0baa4f66_870b_11eb_8862_9893ac470ac0row39_col1\" class=\"data row39 col1\" >False</td>\n",
       "            </tr>\n",
       "            <tr>\n",
       "                        <th id=\"T_0baa4f66_870b_11eb_8862_9893ac470ac0level0_row40\" class=\"row_heading level0 row40\" >40</th>\n",
       "                        <td id=\"T_0baa4f66_870b_11eb_8862_9893ac470ac0row40_col0\" class=\"data row40 col0\" >Remove Outliers</td>\n",
       "                        <td id=\"T_0baa4f66_870b_11eb_8862_9893ac470ac0row40_col1\" class=\"data row40 col1\" >False</td>\n",
       "            </tr>\n",
       "            <tr>\n",
       "                        <th id=\"T_0baa4f66_870b_11eb_8862_9893ac470ac0level0_row41\" class=\"row_heading level0 row41\" >41</th>\n",
       "                        <td id=\"T_0baa4f66_870b_11eb_8862_9893ac470ac0row41_col0\" class=\"data row41 col0\" >Outliers Threshold</td>\n",
       "                        <td id=\"T_0baa4f66_870b_11eb_8862_9893ac470ac0row41_col1\" class=\"data row41 col1\" >None</td>\n",
       "            </tr>\n",
       "            <tr>\n",
       "                        <th id=\"T_0baa4f66_870b_11eb_8862_9893ac470ac0level0_row42\" class=\"row_heading level0 row42\" >42</th>\n",
       "                        <td id=\"T_0baa4f66_870b_11eb_8862_9893ac470ac0row42_col0\" class=\"data row42 col0\" >Remove Multicollinearity</td>\n",
       "                        <td id=\"T_0baa4f66_870b_11eb_8862_9893ac470ac0row42_col1\" class=\"data row42 col1\" >False</td>\n",
       "            </tr>\n",
       "            <tr>\n",
       "                        <th id=\"T_0baa4f66_870b_11eb_8862_9893ac470ac0level0_row43\" class=\"row_heading level0 row43\" >43</th>\n",
       "                        <td id=\"T_0baa4f66_870b_11eb_8862_9893ac470ac0row43_col0\" class=\"data row43 col0\" >Multicollinearity Threshold</td>\n",
       "                        <td id=\"T_0baa4f66_870b_11eb_8862_9893ac470ac0row43_col1\" class=\"data row43 col1\" >None</td>\n",
       "            </tr>\n",
       "            <tr>\n",
       "                        <th id=\"T_0baa4f66_870b_11eb_8862_9893ac470ac0level0_row44\" class=\"row_heading level0 row44\" >44</th>\n",
       "                        <td id=\"T_0baa4f66_870b_11eb_8862_9893ac470ac0row44_col0\" class=\"data row44 col0\" >Clustering</td>\n",
       "                        <td id=\"T_0baa4f66_870b_11eb_8862_9893ac470ac0row44_col1\" class=\"data row44 col1\" >False</td>\n",
       "            </tr>\n",
       "            <tr>\n",
       "                        <th id=\"T_0baa4f66_870b_11eb_8862_9893ac470ac0level0_row45\" class=\"row_heading level0 row45\" >45</th>\n",
       "                        <td id=\"T_0baa4f66_870b_11eb_8862_9893ac470ac0row45_col0\" class=\"data row45 col0\" >Clustering Iteration</td>\n",
       "                        <td id=\"T_0baa4f66_870b_11eb_8862_9893ac470ac0row45_col1\" class=\"data row45 col1\" >None</td>\n",
       "            </tr>\n",
       "            <tr>\n",
       "                        <th id=\"T_0baa4f66_870b_11eb_8862_9893ac470ac0level0_row46\" class=\"row_heading level0 row46\" >46</th>\n",
       "                        <td id=\"T_0baa4f66_870b_11eb_8862_9893ac470ac0row46_col0\" class=\"data row46 col0\" >Polynomial Features</td>\n",
       "                        <td id=\"T_0baa4f66_870b_11eb_8862_9893ac470ac0row46_col1\" class=\"data row46 col1\" >False</td>\n",
       "            </tr>\n",
       "            <tr>\n",
       "                        <th id=\"T_0baa4f66_870b_11eb_8862_9893ac470ac0level0_row47\" class=\"row_heading level0 row47\" >47</th>\n",
       "                        <td id=\"T_0baa4f66_870b_11eb_8862_9893ac470ac0row47_col0\" class=\"data row47 col0\" >Polynomial Degree</td>\n",
       "                        <td id=\"T_0baa4f66_870b_11eb_8862_9893ac470ac0row47_col1\" class=\"data row47 col1\" >None</td>\n",
       "            </tr>\n",
       "            <tr>\n",
       "                        <th id=\"T_0baa4f66_870b_11eb_8862_9893ac470ac0level0_row48\" class=\"row_heading level0 row48\" >48</th>\n",
       "                        <td id=\"T_0baa4f66_870b_11eb_8862_9893ac470ac0row48_col0\" class=\"data row48 col0\" >Trignometry Features</td>\n",
       "                        <td id=\"T_0baa4f66_870b_11eb_8862_9893ac470ac0row48_col1\" class=\"data row48 col1\" >False</td>\n",
       "            </tr>\n",
       "            <tr>\n",
       "                        <th id=\"T_0baa4f66_870b_11eb_8862_9893ac470ac0level0_row49\" class=\"row_heading level0 row49\" >49</th>\n",
       "                        <td id=\"T_0baa4f66_870b_11eb_8862_9893ac470ac0row49_col0\" class=\"data row49 col0\" >Polynomial Threshold</td>\n",
       "                        <td id=\"T_0baa4f66_870b_11eb_8862_9893ac470ac0row49_col1\" class=\"data row49 col1\" >None</td>\n",
       "            </tr>\n",
       "            <tr>\n",
       "                        <th id=\"T_0baa4f66_870b_11eb_8862_9893ac470ac0level0_row50\" class=\"row_heading level0 row50\" >50</th>\n",
       "                        <td id=\"T_0baa4f66_870b_11eb_8862_9893ac470ac0row50_col0\" class=\"data row50 col0\" >Group Features</td>\n",
       "                        <td id=\"T_0baa4f66_870b_11eb_8862_9893ac470ac0row50_col1\" class=\"data row50 col1\" >False</td>\n",
       "            </tr>\n",
       "            <tr>\n",
       "                        <th id=\"T_0baa4f66_870b_11eb_8862_9893ac470ac0level0_row51\" class=\"row_heading level0 row51\" >51</th>\n",
       "                        <td id=\"T_0baa4f66_870b_11eb_8862_9893ac470ac0row51_col0\" class=\"data row51 col0\" >Feature Selection</td>\n",
       "                        <td id=\"T_0baa4f66_870b_11eb_8862_9893ac470ac0row51_col1\" class=\"data row51 col1\" >False</td>\n",
       "            </tr>\n",
       "            <tr>\n",
       "                        <th id=\"T_0baa4f66_870b_11eb_8862_9893ac470ac0level0_row52\" class=\"row_heading level0 row52\" >52</th>\n",
       "                        <td id=\"T_0baa4f66_870b_11eb_8862_9893ac470ac0row52_col0\" class=\"data row52 col0\" >Features Selection Threshold</td>\n",
       "                        <td id=\"T_0baa4f66_870b_11eb_8862_9893ac470ac0row52_col1\" class=\"data row52 col1\" >None</td>\n",
       "            </tr>\n",
       "            <tr>\n",
       "                        <th id=\"T_0baa4f66_870b_11eb_8862_9893ac470ac0level0_row53\" class=\"row_heading level0 row53\" >53</th>\n",
       "                        <td id=\"T_0baa4f66_870b_11eb_8862_9893ac470ac0row53_col0\" class=\"data row53 col0\" >Feature Interaction</td>\n",
       "                        <td id=\"T_0baa4f66_870b_11eb_8862_9893ac470ac0row53_col1\" class=\"data row53 col1\" >False</td>\n",
       "            </tr>\n",
       "            <tr>\n",
       "                        <th id=\"T_0baa4f66_870b_11eb_8862_9893ac470ac0level0_row54\" class=\"row_heading level0 row54\" >54</th>\n",
       "                        <td id=\"T_0baa4f66_870b_11eb_8862_9893ac470ac0row54_col0\" class=\"data row54 col0\" >Feature Ratio</td>\n",
       "                        <td id=\"T_0baa4f66_870b_11eb_8862_9893ac470ac0row54_col1\" class=\"data row54 col1\" >False</td>\n",
       "            </tr>\n",
       "            <tr>\n",
       "                        <th id=\"T_0baa4f66_870b_11eb_8862_9893ac470ac0level0_row55\" class=\"row_heading level0 row55\" >55</th>\n",
       "                        <td id=\"T_0baa4f66_870b_11eb_8862_9893ac470ac0row55_col0\" class=\"data row55 col0\" >Interaction Threshold</td>\n",
       "                        <td id=\"T_0baa4f66_870b_11eb_8862_9893ac470ac0row55_col1\" class=\"data row55 col1\" >None</td>\n",
       "            </tr>\n",
       "            <tr>\n",
       "                        <th id=\"T_0baa4f66_870b_11eb_8862_9893ac470ac0level0_row56\" class=\"row_heading level0 row56\" >56</th>\n",
       "                        <td id=\"T_0baa4f66_870b_11eb_8862_9893ac470ac0row56_col0\" class=\"data row56 col0\" >Fix Imbalance</td>\n",
       "                        <td id=\"T_0baa4f66_870b_11eb_8862_9893ac470ac0row56_col1\" class=\"data row56 col1\" >True</td>\n",
       "            </tr>\n",
       "            <tr>\n",
       "                        <th id=\"T_0baa4f66_870b_11eb_8862_9893ac470ac0level0_row57\" class=\"row_heading level0 row57\" >57</th>\n",
       "                        <td id=\"T_0baa4f66_870b_11eb_8862_9893ac470ac0row57_col0\" class=\"data row57 col0\" >Fix Imbalance Method</td>\n",
       "                        <td id=\"T_0baa4f66_870b_11eb_8862_9893ac470ac0row57_col1\" class=\"data row57 col1\" >SMOTE</td>\n",
       "            </tr>\n",
       "    </tbody></table>"
      ],
      "text/plain": [
       "<pandas.io.formats.style.Styler at 0x26e2e153c40>"
      ]
     },
     "metadata": {},
     "output_type": "display_data"
    }
   ],
   "source": [
    "models = setup(data = data, target = 'Personal Loan', normalize=True,  fix_imbalance=True, numeric_features=['Age', 'Experience', 'Income', 'Family', 'CCAvg', 'Education',\n",
    "       'Mortgage', 'Securities Account', 'CD Account',\n",
    "       'Online', 'CreditCard'], session_id=123) "
   ]
  },
  {
   "cell_type": "code",
   "execution_count": 12,
   "metadata": {},
   "outputs": [
    {
     "data": {
      "text/html": [
       "<style  type=\"text/css\" >\n",
       "    #T_406b864a_870b_11eb_82f0_9893ac470ac0 th {\n",
       "          text-align: left;\n",
       "    }#T_406b864a_870b_11eb_82f0_9893ac470ac0row0_col0,#T_406b864a_870b_11eb_82f0_9893ac470ac0row0_col3,#T_406b864a_870b_11eb_82f0_9893ac470ac0row1_col0,#T_406b864a_870b_11eb_82f0_9893ac470ac0row1_col1,#T_406b864a_870b_11eb_82f0_9893ac470ac0row1_col2,#T_406b864a_870b_11eb_82f0_9893ac470ac0row1_col3,#T_406b864a_870b_11eb_82f0_9893ac470ac0row1_col4,#T_406b864a_870b_11eb_82f0_9893ac470ac0row1_col5,#T_406b864a_870b_11eb_82f0_9893ac470ac0row1_col6,#T_406b864a_870b_11eb_82f0_9893ac470ac0row1_col7,#T_406b864a_870b_11eb_82f0_9893ac470ac0row2_col0,#T_406b864a_870b_11eb_82f0_9893ac470ac0row2_col1,#T_406b864a_870b_11eb_82f0_9893ac470ac0row2_col2,#T_406b864a_870b_11eb_82f0_9893ac470ac0row2_col3,#T_406b864a_870b_11eb_82f0_9893ac470ac0row2_col4,#T_406b864a_870b_11eb_82f0_9893ac470ac0row2_col5,#T_406b864a_870b_11eb_82f0_9893ac470ac0row2_col6,#T_406b864a_870b_11eb_82f0_9893ac470ac0row2_col7,#T_406b864a_870b_11eb_82f0_9893ac470ac0row3_col0,#T_406b864a_870b_11eb_82f0_9893ac470ac0row3_col1,#T_406b864a_870b_11eb_82f0_9893ac470ac0row3_col2,#T_406b864a_870b_11eb_82f0_9893ac470ac0row3_col4,#T_406b864a_870b_11eb_82f0_9893ac470ac0row3_col5,#T_406b864a_870b_11eb_82f0_9893ac470ac0row3_col6,#T_406b864a_870b_11eb_82f0_9893ac470ac0row3_col7,#T_406b864a_870b_11eb_82f0_9893ac470ac0row4_col0,#T_406b864a_870b_11eb_82f0_9893ac470ac0row4_col1,#T_406b864a_870b_11eb_82f0_9893ac470ac0row4_col2,#T_406b864a_870b_11eb_82f0_9893ac470ac0row4_col3,#T_406b864a_870b_11eb_82f0_9893ac470ac0row4_col4,#T_406b864a_870b_11eb_82f0_9893ac470ac0row4_col5,#T_406b864a_870b_11eb_82f0_9893ac470ac0row4_col6,#T_406b864a_870b_11eb_82f0_9893ac470ac0row4_col7,#T_406b864a_870b_11eb_82f0_9893ac470ac0row5_col0,#T_406b864a_870b_11eb_82f0_9893ac470ac0row5_col1,#T_406b864a_870b_11eb_82f0_9893ac470ac0row5_col2,#T_406b864a_870b_11eb_82f0_9893ac470ac0row5_col3,#T_406b864a_870b_11eb_82f0_9893ac470ac0row5_col4,#T_406b864a_870b_11eb_82f0_9893ac470ac0row5_col5,#T_406b864a_870b_11eb_82f0_9893ac470ac0row5_col6,#T_406b864a_870b_11eb_82f0_9893ac470ac0row5_col7,#T_406b864a_870b_11eb_82f0_9893ac470ac0row6_col0,#T_406b864a_870b_11eb_82f0_9893ac470ac0row6_col1,#T_406b864a_870b_11eb_82f0_9893ac470ac0row6_col2,#T_406b864a_870b_11eb_82f0_9893ac470ac0row6_col3,#T_406b864a_870b_11eb_82f0_9893ac470ac0row6_col4,#T_406b864a_870b_11eb_82f0_9893ac470ac0row6_col5,#T_406b864a_870b_11eb_82f0_9893ac470ac0row6_col6,#T_406b864a_870b_11eb_82f0_9893ac470ac0row6_col7,#T_406b864a_870b_11eb_82f0_9893ac470ac0row7_col0,#T_406b864a_870b_11eb_82f0_9893ac470ac0row7_col1,#T_406b864a_870b_11eb_82f0_9893ac470ac0row7_col2,#T_406b864a_870b_11eb_82f0_9893ac470ac0row7_col3,#T_406b864a_870b_11eb_82f0_9893ac470ac0row7_col4,#T_406b864a_870b_11eb_82f0_9893ac470ac0row7_col5,#T_406b864a_870b_11eb_82f0_9893ac470ac0row7_col6,#T_406b864a_870b_11eb_82f0_9893ac470ac0row7_col7,#T_406b864a_870b_11eb_82f0_9893ac470ac0row8_col0,#T_406b864a_870b_11eb_82f0_9893ac470ac0row8_col1,#T_406b864a_870b_11eb_82f0_9893ac470ac0row8_col2,#T_406b864a_870b_11eb_82f0_9893ac470ac0row8_col3,#T_406b864a_870b_11eb_82f0_9893ac470ac0row8_col4,#T_406b864a_870b_11eb_82f0_9893ac470ac0row8_col5,#T_406b864a_870b_11eb_82f0_9893ac470ac0row8_col6,#T_406b864a_870b_11eb_82f0_9893ac470ac0row8_col7,#T_406b864a_870b_11eb_82f0_9893ac470ac0row9_col0,#T_406b864a_870b_11eb_82f0_9893ac470ac0row9_col1,#T_406b864a_870b_11eb_82f0_9893ac470ac0row9_col2,#T_406b864a_870b_11eb_82f0_9893ac470ac0row9_col3,#T_406b864a_870b_11eb_82f0_9893ac470ac0row9_col4,#T_406b864a_870b_11eb_82f0_9893ac470ac0row9_col5,#T_406b864a_870b_11eb_82f0_9893ac470ac0row9_col6,#T_406b864a_870b_11eb_82f0_9893ac470ac0row9_col7,#T_406b864a_870b_11eb_82f0_9893ac470ac0row10_col0,#T_406b864a_870b_11eb_82f0_9893ac470ac0row10_col1,#T_406b864a_870b_11eb_82f0_9893ac470ac0row10_col2,#T_406b864a_870b_11eb_82f0_9893ac470ac0row10_col3,#T_406b864a_870b_11eb_82f0_9893ac470ac0row10_col4,#T_406b864a_870b_11eb_82f0_9893ac470ac0row10_col5,#T_406b864a_870b_11eb_82f0_9893ac470ac0row10_col6,#T_406b864a_870b_11eb_82f0_9893ac470ac0row10_col7,#T_406b864a_870b_11eb_82f0_9893ac470ac0row11_col0,#T_406b864a_870b_11eb_82f0_9893ac470ac0row11_col1,#T_406b864a_870b_11eb_82f0_9893ac470ac0row11_col2,#T_406b864a_870b_11eb_82f0_9893ac470ac0row11_col3,#T_406b864a_870b_11eb_82f0_9893ac470ac0row11_col4,#T_406b864a_870b_11eb_82f0_9893ac470ac0row11_col5,#T_406b864a_870b_11eb_82f0_9893ac470ac0row11_col6,#T_406b864a_870b_11eb_82f0_9893ac470ac0row11_col7,#T_406b864a_870b_11eb_82f0_9893ac470ac0row12_col0,#T_406b864a_870b_11eb_82f0_9893ac470ac0row12_col1,#T_406b864a_870b_11eb_82f0_9893ac470ac0row12_col2,#T_406b864a_870b_11eb_82f0_9893ac470ac0row12_col3,#T_406b864a_870b_11eb_82f0_9893ac470ac0row12_col4,#T_406b864a_870b_11eb_82f0_9893ac470ac0row12_col5,#T_406b864a_870b_11eb_82f0_9893ac470ac0row12_col6,#T_406b864a_870b_11eb_82f0_9893ac470ac0row12_col7,#T_406b864a_870b_11eb_82f0_9893ac470ac0row13_col0,#T_406b864a_870b_11eb_82f0_9893ac470ac0row13_col1,#T_406b864a_870b_11eb_82f0_9893ac470ac0row13_col2,#T_406b864a_870b_11eb_82f0_9893ac470ac0row13_col3,#T_406b864a_870b_11eb_82f0_9893ac470ac0row13_col4,#T_406b864a_870b_11eb_82f0_9893ac470ac0row13_col5,#T_406b864a_870b_11eb_82f0_9893ac470ac0row13_col6,#T_406b864a_870b_11eb_82f0_9893ac470ac0row13_col7,#T_406b864a_870b_11eb_82f0_9893ac470ac0row14_col0,#T_406b864a_870b_11eb_82f0_9893ac470ac0row14_col1,#T_406b864a_870b_11eb_82f0_9893ac470ac0row14_col2,#T_406b864a_870b_11eb_82f0_9893ac470ac0row14_col3,#T_406b864a_870b_11eb_82f0_9893ac470ac0row14_col4,#T_406b864a_870b_11eb_82f0_9893ac470ac0row14_col5,#T_406b864a_870b_11eb_82f0_9893ac470ac0row14_col6,#T_406b864a_870b_11eb_82f0_9893ac470ac0row14_col7{\n",
       "            text-align:  left;\n",
       "            text-align:  left;\n",
       "        }#T_406b864a_870b_11eb_82f0_9893ac470ac0row0_col1,#T_406b864a_870b_11eb_82f0_9893ac470ac0row0_col2,#T_406b864a_870b_11eb_82f0_9893ac470ac0row0_col4,#T_406b864a_870b_11eb_82f0_9893ac470ac0row0_col5,#T_406b864a_870b_11eb_82f0_9893ac470ac0row0_col6,#T_406b864a_870b_11eb_82f0_9893ac470ac0row0_col7,#T_406b864a_870b_11eb_82f0_9893ac470ac0row3_col3{\n",
       "            text-align:  left;\n",
       "            text-align:  left;\n",
       "            background-color:  yellow;\n",
       "        }#T_406b864a_870b_11eb_82f0_9893ac470ac0row0_col8,#T_406b864a_870b_11eb_82f0_9893ac470ac0row1_col8,#T_406b864a_870b_11eb_82f0_9893ac470ac0row2_col8,#T_406b864a_870b_11eb_82f0_9893ac470ac0row3_col8,#T_406b864a_870b_11eb_82f0_9893ac470ac0row4_col8,#T_406b864a_870b_11eb_82f0_9893ac470ac0row5_col8,#T_406b864a_870b_11eb_82f0_9893ac470ac0row6_col8,#T_406b864a_870b_11eb_82f0_9893ac470ac0row7_col8,#T_406b864a_870b_11eb_82f0_9893ac470ac0row8_col8,#T_406b864a_870b_11eb_82f0_9893ac470ac0row9_col8,#T_406b864a_870b_11eb_82f0_9893ac470ac0row10_col8,#T_406b864a_870b_11eb_82f0_9893ac470ac0row11_col8,#T_406b864a_870b_11eb_82f0_9893ac470ac0row12_col8,#T_406b864a_870b_11eb_82f0_9893ac470ac0row14_col8{\n",
       "            text-align:  left;\n",
       "            text-align:  left;\n",
       "            background-color:  lightgrey;\n",
       "        }#T_406b864a_870b_11eb_82f0_9893ac470ac0row13_col8{\n",
       "            text-align:  left;\n",
       "            text-align:  left;\n",
       "            background-color:  yellow;\n",
       "            background-color:  lightgrey;\n",
       "        }</style><table id=\"T_406b864a_870b_11eb_82f0_9893ac470ac0\" ><thead>    <tr>        <th class=\"blank level0\" ></th>        <th class=\"col_heading level0 col0\" >Model</th>        <th class=\"col_heading level0 col1\" >Accuracy</th>        <th class=\"col_heading level0 col2\" >AUC</th>        <th class=\"col_heading level0 col3\" >Recall</th>        <th class=\"col_heading level0 col4\" >Prec.</th>        <th class=\"col_heading level0 col5\" >F1</th>        <th class=\"col_heading level0 col6\" >Kappa</th>        <th class=\"col_heading level0 col7\" >MCC</th>        <th class=\"col_heading level0 col8\" >TT (Sec)</th>    </tr></thead><tbody>\n",
       "                <tr>\n",
       "                        <th id=\"T_406b864a_870b_11eb_82f0_9893ac470ac0level0_row0\" class=\"row_heading level0 row0\" >lightgbm</th>\n",
       "                        <td id=\"T_406b864a_870b_11eb_82f0_9893ac470ac0row0_col0\" class=\"data row0 col0\" >Light Gradient Boosting Machine</td>\n",
       "                        <td id=\"T_406b864a_870b_11eb_82f0_9893ac470ac0row0_col1\" class=\"data row0 col1\" >0.9879</td>\n",
       "                        <td id=\"T_406b864a_870b_11eb_82f0_9893ac470ac0row0_col2\" class=\"data row0 col2\" >0.9976</td>\n",
       "                        <td id=\"T_406b864a_870b_11eb_82f0_9893ac470ac0row0_col3\" class=\"data row0 col3\" >0.9180</td>\n",
       "                        <td id=\"T_406b864a_870b_11eb_82f0_9893ac470ac0row0_col4\" class=\"data row0 col4\" >0.9619</td>\n",
       "                        <td id=\"T_406b864a_870b_11eb_82f0_9893ac470ac0row0_col5\" class=\"data row0 col5\" >0.9382</td>\n",
       "                        <td id=\"T_406b864a_870b_11eb_82f0_9893ac470ac0row0_col6\" class=\"data row0 col6\" >0.9315</td>\n",
       "                        <td id=\"T_406b864a_870b_11eb_82f0_9893ac470ac0row0_col7\" class=\"data row0 col7\" >0.9326</td>\n",
       "                        <td id=\"T_406b864a_870b_11eb_82f0_9893ac470ac0row0_col8\" class=\"data row0 col8\" >0.1810</td>\n",
       "            </tr>\n",
       "            <tr>\n",
       "                        <th id=\"T_406b864a_870b_11eb_82f0_9893ac470ac0level0_row1\" class=\"row_heading level0 row1\" >rf</th>\n",
       "                        <td id=\"T_406b864a_870b_11eb_82f0_9893ac470ac0row1_col0\" class=\"data row1 col0\" >Random Forest Classifier</td>\n",
       "                        <td id=\"T_406b864a_870b_11eb_82f0_9893ac470ac0row1_col1\" class=\"data row1 col1\" >0.9876</td>\n",
       "                        <td id=\"T_406b864a_870b_11eb_82f0_9893ac470ac0row1_col2\" class=\"data row1 col2\" >0.9972</td>\n",
       "                        <td id=\"T_406b864a_870b_11eb_82f0_9893ac470ac0row1_col3\" class=\"data row1 col3\" >0.9339</td>\n",
       "                        <td id=\"T_406b864a_870b_11eb_82f0_9893ac470ac0row1_col4\" class=\"data row1 col4\" >0.9461</td>\n",
       "                        <td id=\"T_406b864a_870b_11eb_82f0_9893ac470ac0row1_col5\" class=\"data row1 col5\" >0.9380</td>\n",
       "                        <td id=\"T_406b864a_870b_11eb_82f0_9893ac470ac0row1_col6\" class=\"data row1 col6\" >0.9312</td>\n",
       "                        <td id=\"T_406b864a_870b_11eb_82f0_9893ac470ac0row1_col7\" class=\"data row1 col7\" >0.9324</td>\n",
       "                        <td id=\"T_406b864a_870b_11eb_82f0_9893ac470ac0row1_col8\" class=\"data row1 col8\" >0.3490</td>\n",
       "            </tr>\n",
       "            <tr>\n",
       "                        <th id=\"T_406b864a_870b_11eb_82f0_9893ac470ac0level0_row2\" class=\"row_heading level0 row2\" >xgboost</th>\n",
       "                        <td id=\"T_406b864a_870b_11eb_82f0_9893ac470ac0row2_col0\" class=\"data row2 col0\" >Extreme Gradient Boosting</td>\n",
       "                        <td id=\"T_406b864a_870b_11eb_82f0_9893ac470ac0row2_col1\" class=\"data row2 col1\" >0.9854</td>\n",
       "                        <td id=\"T_406b864a_870b_11eb_82f0_9893ac470ac0row2_col2\" class=\"data row2 col2\" >0.9970</td>\n",
       "                        <td id=\"T_406b864a_870b_11eb_82f0_9893ac470ac0row2_col3\" class=\"data row2 col3\" >0.9180</td>\n",
       "                        <td id=\"T_406b864a_870b_11eb_82f0_9893ac470ac0row2_col4\" class=\"data row2 col4\" >0.9376</td>\n",
       "                        <td id=\"T_406b864a_870b_11eb_82f0_9893ac470ac0row2_col5\" class=\"data row2 col5\" >0.9262</td>\n",
       "                        <td id=\"T_406b864a_870b_11eb_82f0_9893ac470ac0row2_col6\" class=\"data row2 col6\" >0.9181</td>\n",
       "                        <td id=\"T_406b864a_870b_11eb_82f0_9893ac470ac0row2_col7\" class=\"data row2 col7\" >0.9191</td>\n",
       "                        <td id=\"T_406b864a_870b_11eb_82f0_9893ac470ac0row2_col8\" class=\"data row2 col8\" >0.4540</td>\n",
       "            </tr>\n",
       "            <tr>\n",
       "                        <th id=\"T_406b864a_870b_11eb_82f0_9893ac470ac0level0_row3\" class=\"row_heading level0 row3\" >gbc</th>\n",
       "                        <td id=\"T_406b864a_870b_11eb_82f0_9893ac470ac0row3_col0\" class=\"data row3 col0\" >Gradient Boosting Classifier</td>\n",
       "                        <td id=\"T_406b864a_870b_11eb_82f0_9893ac470ac0row3_col1\" class=\"data row3 col1\" >0.9838</td>\n",
       "                        <td id=\"T_406b864a_870b_11eb_82f0_9893ac470ac0row3_col2\" class=\"data row3 col2\" >0.9972</td>\n",
       "                        <td id=\"T_406b864a_870b_11eb_82f0_9893ac470ac0row3_col3\" class=\"data row3 col3\" >0.9370</td>\n",
       "                        <td id=\"T_406b864a_870b_11eb_82f0_9893ac470ac0row3_col4\" class=\"data row3 col4\" >0.9101</td>\n",
       "                        <td id=\"T_406b864a_870b_11eb_82f0_9893ac470ac0row3_col5\" class=\"data row3 col5\" >0.9213</td>\n",
       "                        <td id=\"T_406b864a_870b_11eb_82f0_9893ac470ac0row3_col6\" class=\"data row3 col6\" >0.9123</td>\n",
       "                        <td id=\"T_406b864a_870b_11eb_82f0_9893ac470ac0row3_col7\" class=\"data row3 col7\" >0.9137</td>\n",
       "                        <td id=\"T_406b864a_870b_11eb_82f0_9893ac470ac0row3_col8\" class=\"data row3 col8\" >0.3870</td>\n",
       "            </tr>\n",
       "            <tr>\n",
       "                        <th id=\"T_406b864a_870b_11eb_82f0_9893ac470ac0level0_row4\" class=\"row_heading level0 row4\" >et</th>\n",
       "                        <td id=\"T_406b864a_870b_11eb_82f0_9893ac470ac0row4_col0\" class=\"data row4 col0\" >Extra Trees Classifier</td>\n",
       "                        <td id=\"T_406b864a_870b_11eb_82f0_9893ac470ac0row4_col1\" class=\"data row4 col1\" >0.9832</td>\n",
       "                        <td id=\"T_406b864a_870b_11eb_82f0_9893ac470ac0row4_col2\" class=\"data row4 col2\" >0.9934</td>\n",
       "                        <td id=\"T_406b864a_870b_11eb_82f0_9893ac470ac0row4_col3\" class=\"data row4 col3\" >0.8929</td>\n",
       "                        <td id=\"T_406b864a_870b_11eb_82f0_9893ac470ac0row4_col4\" class=\"data row4 col4\" >0.9396</td>\n",
       "                        <td id=\"T_406b864a_870b_11eb_82f0_9893ac470ac0row4_col5\" class=\"data row4 col5\" >0.9142</td>\n",
       "                        <td id=\"T_406b864a_870b_11eb_82f0_9893ac470ac0row4_col6\" class=\"data row4 col6\" >0.9049</td>\n",
       "                        <td id=\"T_406b864a_870b_11eb_82f0_9893ac470ac0row4_col7\" class=\"data row4 col7\" >0.9062</td>\n",
       "                        <td id=\"T_406b864a_870b_11eb_82f0_9893ac470ac0row4_col8\" class=\"data row4 col8\" >0.2800</td>\n",
       "            </tr>\n",
       "            <tr>\n",
       "                        <th id=\"T_406b864a_870b_11eb_82f0_9893ac470ac0level0_row5\" class=\"row_heading level0 row5\" >dt</th>\n",
       "                        <td id=\"T_406b864a_870b_11eb_82f0_9893ac470ac0row5_col0\" class=\"data row5 col0\" >Decision Tree Classifier</td>\n",
       "                        <td id=\"T_406b864a_870b_11eb_82f0_9893ac470ac0row5_col1\" class=\"data row5 col1\" >0.9819</td>\n",
       "                        <td id=\"T_406b864a_870b_11eb_82f0_9893ac470ac0row5_col2\" class=\"data row5 col2\" >0.9561</td>\n",
       "                        <td id=\"T_406b864a_870b_11eb_82f0_9893ac470ac0row5_col3\" class=\"data row5 col3\" >0.9238</td>\n",
       "                        <td id=\"T_406b864a_870b_11eb_82f0_9893ac470ac0row5_col4\" class=\"data row5 col4\" >0.9020</td>\n",
       "                        <td id=\"T_406b864a_870b_11eb_82f0_9893ac470ac0row5_col5\" class=\"data row5 col5\" >0.9113</td>\n",
       "                        <td id=\"T_406b864a_870b_11eb_82f0_9893ac470ac0row5_col6\" class=\"data row5 col6\" >0.9013</td>\n",
       "                        <td id=\"T_406b864a_870b_11eb_82f0_9893ac470ac0row5_col7\" class=\"data row5 col7\" >0.9022</td>\n",
       "                        <td id=\"T_406b864a_870b_11eb_82f0_9893ac470ac0row5_col8\" class=\"data row5 col8\" >0.0290</td>\n",
       "            </tr>\n",
       "            <tr>\n",
       "                        <th id=\"T_406b864a_870b_11eb_82f0_9893ac470ac0level0_row6\" class=\"row_heading level0 row6\" >ada</th>\n",
       "                        <td id=\"T_406b864a_870b_11eb_82f0_9893ac470ac0row6_col0\" class=\"data row6 col0\" >Ada Boost Classifier</td>\n",
       "                        <td id=\"T_406b864a_870b_11eb_82f0_9893ac470ac0row6_col1\" class=\"data row6 col1\" >0.9524</td>\n",
       "                        <td id=\"T_406b864a_870b_11eb_82f0_9893ac470ac0row6_col2\" class=\"data row6 col2\" >0.9825</td>\n",
       "                        <td id=\"T_406b864a_870b_11eb_82f0_9893ac470ac0row6_col3\" class=\"data row6 col3\" >0.9119</td>\n",
       "                        <td id=\"T_406b864a_870b_11eb_82f0_9893ac470ac0row6_col4\" class=\"data row6 col4\" >0.7087</td>\n",
       "                        <td id=\"T_406b864a_870b_11eb_82f0_9893ac470ac0row6_col5\" class=\"data row6 col5\" >0.7955</td>\n",
       "                        <td id=\"T_406b864a_870b_11eb_82f0_9893ac470ac0row6_col6\" class=\"data row6 col6\" >0.7691</td>\n",
       "                        <td id=\"T_406b864a_870b_11eb_82f0_9893ac470ac0row6_col7\" class=\"data row6 col7\" >0.7783</td>\n",
       "                        <td id=\"T_406b864a_870b_11eb_82f0_9893ac470ac0row6_col8\" class=\"data row6 col8\" >0.1650</td>\n",
       "            </tr>\n",
       "            <tr>\n",
       "                        <th id=\"T_406b864a_870b_11eb_82f0_9893ac470ac0level0_row7\" class=\"row_heading level0 row7\" >knn</th>\n",
       "                        <td id=\"T_406b864a_870b_11eb_82f0_9893ac470ac0row7_col0\" class=\"data row7 col0\" >K Neighbors Classifier</td>\n",
       "                        <td id=\"T_406b864a_870b_11eb_82f0_9893ac470ac0row7_col1\" class=\"data row7 col1\" >0.9441</td>\n",
       "                        <td id=\"T_406b864a_870b_11eb_82f0_9893ac470ac0row7_col2\" class=\"data row7 col2\" >0.9535</td>\n",
       "                        <td id=\"T_406b864a_870b_11eb_82f0_9893ac470ac0row7_col3\" class=\"data row7 col3\" >0.8551</td>\n",
       "                        <td id=\"T_406b864a_870b_11eb_82f0_9893ac470ac0row7_col4\" class=\"data row7 col4\" >0.6815</td>\n",
       "                        <td id=\"T_406b864a_870b_11eb_82f0_9893ac470ac0row7_col5\" class=\"data row7 col5\" >0.7558</td>\n",
       "                        <td id=\"T_406b864a_870b_11eb_82f0_9893ac470ac0row7_col6\" class=\"data row7 col6\" >0.7248</td>\n",
       "                        <td id=\"T_406b864a_870b_11eb_82f0_9893ac470ac0row7_col7\" class=\"data row7 col7\" >0.7325</td>\n",
       "                        <td id=\"T_406b864a_870b_11eb_82f0_9893ac470ac0row7_col8\" class=\"data row7 col8\" >0.0740</td>\n",
       "            </tr>\n",
       "            <tr>\n",
       "                        <th id=\"T_406b864a_870b_11eb_82f0_9893ac470ac0level0_row8\" class=\"row_heading level0 row8\" >qda</th>\n",
       "                        <td id=\"T_406b864a_870b_11eb_82f0_9893ac470ac0row8_col0\" class=\"data row8 col0\" >Quadratic Discriminant Analysis</td>\n",
       "                        <td id=\"T_406b864a_870b_11eb_82f0_9893ac470ac0row8_col1\" class=\"data row8 col1\" >0.9308</td>\n",
       "                        <td id=\"T_406b864a_870b_11eb_82f0_9893ac470ac0row8_col2\" class=\"data row8 col2\" >0.9591</td>\n",
       "                        <td id=\"T_406b864a_870b_11eb_82f0_9893ac470ac0row8_col3\" class=\"data row8 col3\" >0.8454</td>\n",
       "                        <td id=\"T_406b864a_870b_11eb_82f0_9893ac470ac0row8_col4\" class=\"data row8 col4\" >0.6191</td>\n",
       "                        <td id=\"T_406b864a_870b_11eb_82f0_9893ac470ac0row8_col5\" class=\"data row8 col5\" >0.7132</td>\n",
       "                        <td id=\"T_406b864a_870b_11eb_82f0_9893ac470ac0row8_col6\" class=\"data row8 col6\" >0.6752</td>\n",
       "                        <td id=\"T_406b864a_870b_11eb_82f0_9893ac470ac0row8_col7\" class=\"data row8 col7\" >0.6866</td>\n",
       "                        <td id=\"T_406b864a_870b_11eb_82f0_9893ac470ac0row8_col8\" class=\"data row8 col8\" >0.0230</td>\n",
       "            </tr>\n",
       "            <tr>\n",
       "                        <th id=\"T_406b864a_870b_11eb_82f0_9893ac470ac0level0_row9\" class=\"row_heading level0 row9\" >lr</th>\n",
       "                        <td id=\"T_406b864a_870b_11eb_82f0_9893ac470ac0row9_col0\" class=\"data row9 col0\" >Logistic Regression</td>\n",
       "                        <td id=\"T_406b864a_870b_11eb_82f0_9893ac470ac0row9_col1\" class=\"data row9 col1\" >0.9041</td>\n",
       "                        <td id=\"T_406b864a_870b_11eb_82f0_9893ac470ac0row9_col2\" class=\"data row9 col2\" >0.9598</td>\n",
       "                        <td id=\"T_406b864a_870b_11eb_82f0_9893ac470ac0row9_col3\" class=\"data row9 col3\" >0.8678</td>\n",
       "                        <td id=\"T_406b864a_870b_11eb_82f0_9893ac470ac0row9_col4\" class=\"data row9 col4\" >0.5170</td>\n",
       "                        <td id=\"T_406b864a_870b_11eb_82f0_9893ac470ac0row9_col5\" class=\"data row9 col5\" >0.6461</td>\n",
       "                        <td id=\"T_406b864a_870b_11eb_82f0_9893ac470ac0row9_col6\" class=\"data row9 col6\" >0.5950</td>\n",
       "                        <td id=\"T_406b864a_870b_11eb_82f0_9893ac470ac0row9_col7\" class=\"data row9 col7\" >0.6230</td>\n",
       "                        <td id=\"T_406b864a_870b_11eb_82f0_9893ac470ac0row9_col8\" class=\"data row9 col8\" >0.7010</td>\n",
       "            </tr>\n",
       "            <tr>\n",
       "                        <th id=\"T_406b864a_870b_11eb_82f0_9893ac470ac0level0_row10\" class=\"row_heading level0 row10\" >ridge</th>\n",
       "                        <td id=\"T_406b864a_870b_11eb_82f0_9893ac470ac0row10_col0\" class=\"data row10 col0\" >Ridge Classifier</td>\n",
       "                        <td id=\"T_406b864a_870b_11eb_82f0_9893ac470ac0row10_col1\" class=\"data row10 col1\" >0.8962</td>\n",
       "                        <td id=\"T_406b864a_870b_11eb_82f0_9893ac470ac0row10_col2\" class=\"data row10 col2\" >0.0000</td>\n",
       "                        <td id=\"T_406b864a_870b_11eb_82f0_9893ac470ac0row10_col3\" class=\"data row10 col3\" >0.8898</td>\n",
       "                        <td id=\"T_406b864a_870b_11eb_82f0_9893ac470ac0row10_col4\" class=\"data row10 col4\" >0.4959</td>\n",
       "                        <td id=\"T_406b864a_870b_11eb_82f0_9893ac470ac0row10_col5\" class=\"data row10 col5\" >0.6347</td>\n",
       "                        <td id=\"T_406b864a_870b_11eb_82f0_9893ac470ac0row10_col6\" class=\"data row10 col6\" >0.5803</td>\n",
       "                        <td id=\"T_406b864a_870b_11eb_82f0_9893ac470ac0row10_col7\" class=\"data row10 col7\" >0.6153</td>\n",
       "                        <td id=\"T_406b864a_870b_11eb_82f0_9893ac470ac0row10_col8\" class=\"data row10 col8\" >0.0310</td>\n",
       "            </tr>\n",
       "            <tr>\n",
       "                        <th id=\"T_406b864a_870b_11eb_82f0_9893ac470ac0level0_row11\" class=\"row_heading level0 row11\" >lda</th>\n",
       "                        <td id=\"T_406b864a_870b_11eb_82f0_9893ac470ac0row11_col0\" class=\"data row11 col0\" >Linear Discriminant Analysis</td>\n",
       "                        <td id=\"T_406b864a_870b_11eb_82f0_9893ac470ac0row11_col1\" class=\"data row11 col1\" >0.8962</td>\n",
       "                        <td id=\"T_406b864a_870b_11eb_82f0_9893ac470ac0row11_col2\" class=\"data row11 col2\" >0.9595</td>\n",
       "                        <td id=\"T_406b864a_870b_11eb_82f0_9893ac470ac0row11_col3\" class=\"data row11 col3\" >0.8898</td>\n",
       "                        <td id=\"T_406b864a_870b_11eb_82f0_9893ac470ac0row11_col4\" class=\"data row11 col4\" >0.4959</td>\n",
       "                        <td id=\"T_406b864a_870b_11eb_82f0_9893ac470ac0row11_col5\" class=\"data row11 col5\" >0.6347</td>\n",
       "                        <td id=\"T_406b864a_870b_11eb_82f0_9893ac470ac0row11_col6\" class=\"data row11 col6\" >0.5803</td>\n",
       "                        <td id=\"T_406b864a_870b_11eb_82f0_9893ac470ac0row11_col7\" class=\"data row11 col7\" >0.6153</td>\n",
       "                        <td id=\"T_406b864a_870b_11eb_82f0_9893ac470ac0row11_col8\" class=\"data row11 col8\" >0.0250</td>\n",
       "            </tr>\n",
       "            <tr>\n",
       "                        <th id=\"T_406b864a_870b_11eb_82f0_9893ac470ac0level0_row12\" class=\"row_heading level0 row12\" >svm</th>\n",
       "                        <td id=\"T_406b864a_870b_11eb_82f0_9893ac470ac0row12_col0\" class=\"data row12 col0\" >SVM - Linear Kernel</td>\n",
       "                        <td id=\"T_406b864a_870b_11eb_82f0_9893ac470ac0row12_col1\" class=\"data row12 col1\" >0.8898</td>\n",
       "                        <td id=\"T_406b864a_870b_11eb_82f0_9893ac470ac0row12_col2\" class=\"data row12 col2\" >0.0000</td>\n",
       "                        <td id=\"T_406b864a_870b_11eb_82f0_9893ac470ac0row12_col3\" class=\"data row12 col3\" >0.8390</td>\n",
       "                        <td id=\"T_406b864a_870b_11eb_82f0_9893ac470ac0row12_col4\" class=\"data row12 col4\" >0.4798</td>\n",
       "                        <td id=\"T_406b864a_870b_11eb_82f0_9893ac470ac0row12_col5\" class=\"data row12 col5\" >0.6069</td>\n",
       "                        <td id=\"T_406b864a_870b_11eb_82f0_9893ac470ac0row12_col6\" class=\"data row12 col6\" >0.5490</td>\n",
       "                        <td id=\"T_406b864a_870b_11eb_82f0_9893ac470ac0row12_col7\" class=\"data row12 col7\" >0.5803</td>\n",
       "                        <td id=\"T_406b864a_870b_11eb_82f0_9893ac470ac0row12_col8\" class=\"data row12 col8\" >0.0370</td>\n",
       "            </tr>\n",
       "            <tr>\n",
       "                        <th id=\"T_406b864a_870b_11eb_82f0_9893ac470ac0level0_row13\" class=\"row_heading level0 row13\" >nb</th>\n",
       "                        <td id=\"T_406b864a_870b_11eb_82f0_9893ac470ac0row13_col0\" class=\"data row13 col0\" >Naive Bayes</td>\n",
       "                        <td id=\"T_406b864a_870b_11eb_82f0_9893ac470ac0row13_col1\" class=\"data row13 col1\" >0.8790</td>\n",
       "                        <td id=\"T_406b864a_870b_11eb_82f0_9893ac470ac0row13_col2\" class=\"data row13 col2\" >0.9314</td>\n",
       "                        <td id=\"T_406b864a_870b_11eb_82f0_9893ac470ac0row13_col3\" class=\"data row13 col3\" >0.7794</td>\n",
       "                        <td id=\"T_406b864a_870b_11eb_82f0_9893ac470ac0row13_col4\" class=\"data row13 col4\" >0.4446</td>\n",
       "                        <td id=\"T_406b864a_870b_11eb_82f0_9893ac470ac0row13_col5\" class=\"data row13 col5\" >0.5653</td>\n",
       "                        <td id=\"T_406b864a_870b_11eb_82f0_9893ac470ac0row13_col6\" class=\"data row13 col6\" >0.5013</td>\n",
       "                        <td id=\"T_406b864a_870b_11eb_82f0_9893ac470ac0row13_col7\" class=\"data row13 col7\" >0.5285</td>\n",
       "                        <td id=\"T_406b864a_870b_11eb_82f0_9893ac470ac0row13_col8\" class=\"data row13 col8\" >0.0200</td>\n",
       "            </tr>\n",
       "            <tr>\n",
       "                        <th id=\"T_406b864a_870b_11eb_82f0_9893ac470ac0level0_row14\" class=\"row_heading level0 row14\" >catboost</th>\n",
       "                        <td id=\"T_406b864a_870b_11eb_82f0_9893ac470ac0row14_col0\" class=\"data row14 col0\" >CatBoost Classifier</td>\n",
       "                        <td id=\"T_406b864a_870b_11eb_82f0_9893ac470ac0row14_col1\" class=\"data row14 col1\" >0.6908</td>\n",
       "                        <td id=\"T_406b864a_870b_11eb_82f0_9893ac470ac0row14_col2\" class=\"data row14 col2\" >0.6983</td>\n",
       "                        <td id=\"T_406b864a_870b_11eb_82f0_9893ac470ac0row14_col3\" class=\"data row14 col3\" >0.6432</td>\n",
       "                        <td id=\"T_406b864a_870b_11eb_82f0_9893ac470ac0row14_col4\" class=\"data row14 col4\" >0.6656</td>\n",
       "                        <td id=\"T_406b864a_870b_11eb_82f0_9893ac470ac0row14_col5\" class=\"data row14 col5\" >0.6534</td>\n",
       "                        <td id=\"T_406b864a_870b_11eb_82f0_9893ac470ac0row14_col6\" class=\"data row14 col6\" >0.6483</td>\n",
       "                        <td id=\"T_406b864a_870b_11eb_82f0_9893ac470ac0row14_col7\" class=\"data row14 col7\" >0.6489</td>\n",
       "                        <td id=\"T_406b864a_870b_11eb_82f0_9893ac470ac0row14_col8\" class=\"data row14 col8\" >3.8270</td>\n",
       "            </tr>\n",
       "    </tbody></table>"
      ],
      "text/plain": [
       "<pandas.io.formats.style.Styler at 0x26e2d8912b0>"
      ]
     },
     "metadata": {},
     "output_type": "display_data"
    }
   ],
   "source": [
    "best = compare_models()"
   ]
  },
  {
   "cell_type": "code",
   "execution_count": 13,
   "metadata": {},
   "outputs": [
    {
     "data": {
      "text/html": [
       "<style  type=\"text/css\" >\n",
       "#T_55c4dec2_870b_11eb_a29c_9893ac470ac0row10_col0,#T_55c4dec2_870b_11eb_a29c_9893ac470ac0row10_col1,#T_55c4dec2_870b_11eb_a29c_9893ac470ac0row10_col2,#T_55c4dec2_870b_11eb_a29c_9893ac470ac0row10_col3,#T_55c4dec2_870b_11eb_a29c_9893ac470ac0row10_col4,#T_55c4dec2_870b_11eb_a29c_9893ac470ac0row10_col5,#T_55c4dec2_870b_11eb_a29c_9893ac470ac0row10_col6{\n",
       "            background:  yellow;\n",
       "        }</style><table id=\"T_55c4dec2_870b_11eb_a29c_9893ac470ac0\" ><thead>    <tr>        <th class=\"blank level0\" ></th>        <th class=\"col_heading level0 col0\" >Accuracy</th>        <th class=\"col_heading level0 col1\" >AUC</th>        <th class=\"col_heading level0 col2\" >Recall</th>        <th class=\"col_heading level0 col3\" >Prec.</th>        <th class=\"col_heading level0 col4\" >F1</th>        <th class=\"col_heading level0 col5\" >Kappa</th>        <th class=\"col_heading level0 col6\" >MCC</th>    </tr></thead><tbody>\n",
       "                <tr>\n",
       "                        <th id=\"T_55c4dec2_870b_11eb_a29c_9893ac470ac0level0_row0\" class=\"row_heading level0 row0\" >0</th>\n",
       "                        <td id=\"T_55c4dec2_870b_11eb_a29c_9893ac470ac0row0_col0\" class=\"data row0 col0\" >0.9905</td>\n",
       "                        <td id=\"T_55c4dec2_870b_11eb_a29c_9893ac470ac0row0_col1\" class=\"data row0 col1\" >0.9953</td>\n",
       "                        <td id=\"T_55c4dec2_870b_11eb_a29c_9893ac470ac0row0_col2\" class=\"data row0 col2\" >0.9032</td>\n",
       "                        <td id=\"T_55c4dec2_870b_11eb_a29c_9893ac470ac0row0_col3\" class=\"data row0 col3\" >1.0000</td>\n",
       "                        <td id=\"T_55c4dec2_870b_11eb_a29c_9893ac470ac0row0_col4\" class=\"data row0 col4\" >0.9492</td>\n",
       "                        <td id=\"T_55c4dec2_870b_11eb_a29c_9893ac470ac0row0_col5\" class=\"data row0 col5\" >0.9439</td>\n",
       "                        <td id=\"T_55c4dec2_870b_11eb_a29c_9893ac470ac0row0_col6\" class=\"data row0 col6\" >0.9454</td>\n",
       "            </tr>\n",
       "            <tr>\n",
       "                        <th id=\"T_55c4dec2_870b_11eb_a29c_9893ac470ac0level0_row1\" class=\"row_heading level0 row1\" >1</th>\n",
       "                        <td id=\"T_55c4dec2_870b_11eb_a29c_9893ac470ac0row1_col0\" class=\"data row1 col0\" >0.9937</td>\n",
       "                        <td id=\"T_55c4dec2_870b_11eb_a29c_9893ac470ac0row1_col1\" class=\"data row1 col1\" >0.9988</td>\n",
       "                        <td id=\"T_55c4dec2_870b_11eb_a29c_9893ac470ac0row1_col2\" class=\"data row1 col2\" >0.9355</td>\n",
       "                        <td id=\"T_55c4dec2_870b_11eb_a29c_9893ac470ac0row1_col3\" class=\"data row1 col3\" >1.0000</td>\n",
       "                        <td id=\"T_55c4dec2_870b_11eb_a29c_9893ac470ac0row1_col4\" class=\"data row1 col4\" >0.9667</td>\n",
       "                        <td id=\"T_55c4dec2_870b_11eb_a29c_9893ac470ac0row1_col5\" class=\"data row1 col5\" >0.9632</td>\n",
       "                        <td id=\"T_55c4dec2_870b_11eb_a29c_9893ac470ac0row1_col6\" class=\"data row1 col6\" >0.9638</td>\n",
       "            </tr>\n",
       "            <tr>\n",
       "                        <th id=\"T_55c4dec2_870b_11eb_a29c_9893ac470ac0level0_row2\" class=\"row_heading level0 row2\" >2</th>\n",
       "                        <td id=\"T_55c4dec2_870b_11eb_a29c_9893ac470ac0row2_col0\" class=\"data row2 col0\" >0.9810</td>\n",
       "                        <td id=\"T_55c4dec2_870b_11eb_a29c_9893ac470ac0row2_col1\" class=\"data row2 col1\" >0.9975</td>\n",
       "                        <td id=\"T_55c4dec2_870b_11eb_a29c_9893ac470ac0row2_col2\" class=\"data row2 col2\" >0.8438</td>\n",
       "                        <td id=\"T_55c4dec2_870b_11eb_a29c_9893ac470ac0row2_col3\" class=\"data row2 col3\" >0.9643</td>\n",
       "                        <td id=\"T_55c4dec2_870b_11eb_a29c_9893ac470ac0row2_col4\" class=\"data row2 col4\" >0.9000</td>\n",
       "                        <td id=\"T_55c4dec2_870b_11eb_a29c_9893ac470ac0row2_col5\" class=\"data row2 col5\" >0.8895</td>\n",
       "                        <td id=\"T_55c4dec2_870b_11eb_a29c_9893ac470ac0row2_col6\" class=\"data row2 col6\" >0.8919</td>\n",
       "            </tr>\n",
       "            <tr>\n",
       "                        <th id=\"T_55c4dec2_870b_11eb_a29c_9893ac470ac0level0_row3\" class=\"row_heading level0 row3\" >3</th>\n",
       "                        <td id=\"T_55c4dec2_870b_11eb_a29c_9893ac470ac0row3_col0\" class=\"data row3 col0\" >0.9968</td>\n",
       "                        <td id=\"T_55c4dec2_870b_11eb_a29c_9893ac470ac0row3_col1\" class=\"data row3 col1\" >0.9996</td>\n",
       "                        <td id=\"T_55c4dec2_870b_11eb_a29c_9893ac470ac0row3_col2\" class=\"data row3 col2\" >1.0000</td>\n",
       "                        <td id=\"T_55c4dec2_870b_11eb_a29c_9893ac470ac0row3_col3\" class=\"data row3 col3\" >0.9697</td>\n",
       "                        <td id=\"T_55c4dec2_870b_11eb_a29c_9893ac470ac0row3_col4\" class=\"data row3 col4\" >0.9846</td>\n",
       "                        <td id=\"T_55c4dec2_870b_11eb_a29c_9893ac470ac0row3_col5\" class=\"data row3 col5\" >0.9828</td>\n",
       "                        <td id=\"T_55c4dec2_870b_11eb_a29c_9893ac470ac0row3_col6\" class=\"data row3 col6\" >0.9830</td>\n",
       "            </tr>\n",
       "            <tr>\n",
       "                        <th id=\"T_55c4dec2_870b_11eb_a29c_9893ac470ac0level0_row4\" class=\"row_heading level0 row4\" >4</th>\n",
       "                        <td id=\"T_55c4dec2_870b_11eb_a29c_9893ac470ac0row4_col0\" class=\"data row4 col0\" >0.9810</td>\n",
       "                        <td id=\"T_55c4dec2_870b_11eb_a29c_9893ac470ac0row4_col1\" class=\"data row4 col1\" >0.9972</td>\n",
       "                        <td id=\"T_55c4dec2_870b_11eb_a29c_9893ac470ac0row4_col2\" class=\"data row4 col2\" >0.8438</td>\n",
       "                        <td id=\"T_55c4dec2_870b_11eb_a29c_9893ac470ac0row4_col3\" class=\"data row4 col3\" >0.9643</td>\n",
       "                        <td id=\"T_55c4dec2_870b_11eb_a29c_9893ac470ac0row4_col4\" class=\"data row4 col4\" >0.9000</td>\n",
       "                        <td id=\"T_55c4dec2_870b_11eb_a29c_9893ac470ac0row4_col5\" class=\"data row4 col5\" >0.8895</td>\n",
       "                        <td id=\"T_55c4dec2_870b_11eb_a29c_9893ac470ac0row4_col6\" class=\"data row4 col6\" >0.8919</td>\n",
       "            </tr>\n",
       "            <tr>\n",
       "                        <th id=\"T_55c4dec2_870b_11eb_a29c_9893ac470ac0level0_row5\" class=\"row_heading level0 row5\" >5</th>\n",
       "                        <td id=\"T_55c4dec2_870b_11eb_a29c_9893ac470ac0row5_col0\" class=\"data row5 col0\" >0.9841</td>\n",
       "                        <td id=\"T_55c4dec2_870b_11eb_a29c_9893ac470ac0row5_col1\" class=\"data row5 col1\" >0.9956</td>\n",
       "                        <td id=\"T_55c4dec2_870b_11eb_a29c_9893ac470ac0row5_col2\" class=\"data row5 col2\" >0.9375</td>\n",
       "                        <td id=\"T_55c4dec2_870b_11eb_a29c_9893ac470ac0row5_col3\" class=\"data row5 col3\" >0.9091</td>\n",
       "                        <td id=\"T_55c4dec2_870b_11eb_a29c_9893ac470ac0row5_col4\" class=\"data row5 col4\" >0.9231</td>\n",
       "                        <td id=\"T_55c4dec2_870b_11eb_a29c_9893ac470ac0row5_col5\" class=\"data row5 col5\" >0.9142</td>\n",
       "                        <td id=\"T_55c4dec2_870b_11eb_a29c_9893ac470ac0row5_col6\" class=\"data row5 col6\" >0.9144</td>\n",
       "            </tr>\n",
       "            <tr>\n",
       "                        <th id=\"T_55c4dec2_870b_11eb_a29c_9893ac470ac0level0_row6\" class=\"row_heading level0 row6\" >6</th>\n",
       "                        <td id=\"T_55c4dec2_870b_11eb_a29c_9893ac470ac0row6_col0\" class=\"data row6 col0\" >0.9937</td>\n",
       "                        <td id=\"T_55c4dec2_870b_11eb_a29c_9893ac470ac0row6_col1\" class=\"data row6 col1\" >1.0000</td>\n",
       "                        <td id=\"T_55c4dec2_870b_11eb_a29c_9893ac470ac0row6_col2\" class=\"data row6 col2\" >1.0000</td>\n",
       "                        <td id=\"T_55c4dec2_870b_11eb_a29c_9893ac470ac0row6_col3\" class=\"data row6 col3\" >0.9412</td>\n",
       "                        <td id=\"T_55c4dec2_870b_11eb_a29c_9893ac470ac0row6_col4\" class=\"data row6 col4\" >0.9697</td>\n",
       "                        <td id=\"T_55c4dec2_870b_11eb_a29c_9893ac470ac0row6_col5\" class=\"data row6 col5\" >0.9662</td>\n",
       "                        <td id=\"T_55c4dec2_870b_11eb_a29c_9893ac470ac0row6_col6\" class=\"data row6 col6\" >0.9667</td>\n",
       "            </tr>\n",
       "            <tr>\n",
       "                        <th id=\"T_55c4dec2_870b_11eb_a29c_9893ac470ac0level0_row7\" class=\"row_heading level0 row7\" >7</th>\n",
       "                        <td id=\"T_55c4dec2_870b_11eb_a29c_9893ac470ac0row7_col0\" class=\"data row7 col0\" >0.9810</td>\n",
       "                        <td id=\"T_55c4dec2_870b_11eb_a29c_9893ac470ac0row7_col1\" class=\"data row7 col1\" >0.9955</td>\n",
       "                        <td id=\"T_55c4dec2_870b_11eb_a29c_9893ac470ac0row7_col2\" class=\"data row7 col2\" >0.8438</td>\n",
       "                        <td id=\"T_55c4dec2_870b_11eb_a29c_9893ac470ac0row7_col3\" class=\"data row7 col3\" >0.9643</td>\n",
       "                        <td id=\"T_55c4dec2_870b_11eb_a29c_9893ac470ac0row7_col4\" class=\"data row7 col4\" >0.9000</td>\n",
       "                        <td id=\"T_55c4dec2_870b_11eb_a29c_9893ac470ac0row7_col5\" class=\"data row7 col5\" >0.8895</td>\n",
       "                        <td id=\"T_55c4dec2_870b_11eb_a29c_9893ac470ac0row7_col6\" class=\"data row7 col6\" >0.8919</td>\n",
       "            </tr>\n",
       "            <tr>\n",
       "                        <th id=\"T_55c4dec2_870b_11eb_a29c_9893ac470ac0level0_row8\" class=\"row_heading level0 row8\" >8</th>\n",
       "                        <td id=\"T_55c4dec2_870b_11eb_a29c_9893ac470ac0row8_col0\" class=\"data row8 col0\" >0.9937</td>\n",
       "                        <td id=\"T_55c4dec2_870b_11eb_a29c_9893ac470ac0row8_col1\" class=\"data row8 col1\" >0.9981</td>\n",
       "                        <td id=\"T_55c4dec2_870b_11eb_a29c_9893ac470ac0row8_col2\" class=\"data row8 col2\" >0.9375</td>\n",
       "                        <td id=\"T_55c4dec2_870b_11eb_a29c_9893ac470ac0row8_col3\" class=\"data row8 col3\" >1.0000</td>\n",
       "                        <td id=\"T_55c4dec2_870b_11eb_a29c_9893ac470ac0row8_col4\" class=\"data row8 col4\" >0.9677</td>\n",
       "                        <td id=\"T_55c4dec2_870b_11eb_a29c_9893ac470ac0row8_col5\" class=\"data row8 col5\" >0.9642</td>\n",
       "                        <td id=\"T_55c4dec2_870b_11eb_a29c_9893ac470ac0row8_col6\" class=\"data row8 col6\" >0.9648</td>\n",
       "            </tr>\n",
       "            <tr>\n",
       "                        <th id=\"T_55c4dec2_870b_11eb_a29c_9893ac470ac0level0_row9\" class=\"row_heading level0 row9\" >9</th>\n",
       "                        <td id=\"T_55c4dec2_870b_11eb_a29c_9893ac470ac0row9_col0\" class=\"data row9 col0\" >0.9841</td>\n",
       "                        <td id=\"T_55c4dec2_870b_11eb_a29c_9893ac470ac0row9_col1\" class=\"data row9 col1\" >0.9989</td>\n",
       "                        <td id=\"T_55c4dec2_870b_11eb_a29c_9893ac470ac0row9_col2\" class=\"data row9 col2\" >0.9355</td>\n",
       "                        <td id=\"T_55c4dec2_870b_11eb_a29c_9893ac470ac0row9_col3\" class=\"data row9 col3\" >0.9062</td>\n",
       "                        <td id=\"T_55c4dec2_870b_11eb_a29c_9893ac470ac0row9_col4\" class=\"data row9 col4\" >0.9206</td>\n",
       "                        <td id=\"T_55c4dec2_870b_11eb_a29c_9893ac470ac0row9_col5\" class=\"data row9 col5\" >0.9118</td>\n",
       "                        <td id=\"T_55c4dec2_870b_11eb_a29c_9893ac470ac0row9_col6\" class=\"data row9 col6\" >0.9119</td>\n",
       "            </tr>\n",
       "            <tr>\n",
       "                        <th id=\"T_55c4dec2_870b_11eb_a29c_9893ac470ac0level0_row10\" class=\"row_heading level0 row10\" >Mean</th>\n",
       "                        <td id=\"T_55c4dec2_870b_11eb_a29c_9893ac470ac0row10_col0\" class=\"data row10 col0\" >0.9879</td>\n",
       "                        <td id=\"T_55c4dec2_870b_11eb_a29c_9893ac470ac0row10_col1\" class=\"data row10 col1\" >0.9976</td>\n",
       "                        <td id=\"T_55c4dec2_870b_11eb_a29c_9893ac470ac0row10_col2\" class=\"data row10 col2\" >0.9180</td>\n",
       "                        <td id=\"T_55c4dec2_870b_11eb_a29c_9893ac470ac0row10_col3\" class=\"data row10 col3\" >0.9619</td>\n",
       "                        <td id=\"T_55c4dec2_870b_11eb_a29c_9893ac470ac0row10_col4\" class=\"data row10 col4\" >0.9382</td>\n",
       "                        <td id=\"T_55c4dec2_870b_11eb_a29c_9893ac470ac0row10_col5\" class=\"data row10 col5\" >0.9315</td>\n",
       "                        <td id=\"T_55c4dec2_870b_11eb_a29c_9893ac470ac0row10_col6\" class=\"data row10 col6\" >0.9326</td>\n",
       "            </tr>\n",
       "            <tr>\n",
       "                        <th id=\"T_55c4dec2_870b_11eb_a29c_9893ac470ac0level0_row11\" class=\"row_heading level0 row11\" >SD</th>\n",
       "                        <td id=\"T_55c4dec2_870b_11eb_a29c_9893ac470ac0row11_col0\" class=\"data row11 col0\" >0.0060</td>\n",
       "                        <td id=\"T_55c4dec2_870b_11eb_a29c_9893ac470ac0row11_col1\" class=\"data row11 col1\" >0.0016</td>\n",
       "                        <td id=\"T_55c4dec2_870b_11eb_a29c_9893ac470ac0row11_col2\" class=\"data row11 col2\" >0.0562</td>\n",
       "                        <td id=\"T_55c4dec2_870b_11eb_a29c_9893ac470ac0row11_col3\" class=\"data row11 col3\" >0.0328</td>\n",
       "                        <td id=\"T_55c4dec2_870b_11eb_a29c_9893ac470ac0row11_col4\" class=\"data row11 col4\" >0.0314</td>\n",
       "                        <td id=\"T_55c4dec2_870b_11eb_a29c_9893ac470ac0row11_col5\" class=\"data row11 col5\" >0.0347</td>\n",
       "                        <td id=\"T_55c4dec2_870b_11eb_a29c_9893ac470ac0row11_col6\" class=\"data row11 col6\" >0.0341</td>\n",
       "            </tr>\n",
       "    </tbody></table>"
      ],
      "text/plain": [
       "<pandas.io.formats.style.Styler at 0x26e2f175520>"
      ]
     },
     "metadata": {},
     "output_type": "display_data"
    }
   ],
   "source": [
    "lightgbm= create_model('lightgbm')"
   ]
  },
  {
   "cell_type": "code",
   "execution_count": 14,
   "metadata": {},
   "outputs": [
    {
     "data": {
      "text/html": [
       "<style  type=\"text/css\" >\n",
       "#T_6c8be851_870b_11eb_a401_9893ac470ac0row10_col0,#T_6c8be851_870b_11eb_a401_9893ac470ac0row10_col1,#T_6c8be851_870b_11eb_a401_9893ac470ac0row10_col2,#T_6c8be851_870b_11eb_a401_9893ac470ac0row10_col3,#T_6c8be851_870b_11eb_a401_9893ac470ac0row10_col4,#T_6c8be851_870b_11eb_a401_9893ac470ac0row10_col5,#T_6c8be851_870b_11eb_a401_9893ac470ac0row10_col6{\n",
       "            background:  yellow;\n",
       "        }</style><table id=\"T_6c8be851_870b_11eb_a401_9893ac470ac0\" ><thead>    <tr>        <th class=\"blank level0\" ></th>        <th class=\"col_heading level0 col0\" >Accuracy</th>        <th class=\"col_heading level0 col1\" >AUC</th>        <th class=\"col_heading level0 col2\" >Recall</th>        <th class=\"col_heading level0 col3\" >Prec.</th>        <th class=\"col_heading level0 col4\" >F1</th>        <th class=\"col_heading level0 col5\" >Kappa</th>        <th class=\"col_heading level0 col6\" >MCC</th>    </tr></thead><tbody>\n",
       "                <tr>\n",
       "                        <th id=\"T_6c8be851_870b_11eb_a401_9893ac470ac0level0_row0\" class=\"row_heading level0 row0\" >0</th>\n",
       "                        <td id=\"T_6c8be851_870b_11eb_a401_9893ac470ac0row0_col0\" class=\"data row0 col0\" >0.9873</td>\n",
       "                        <td id=\"T_6c8be851_870b_11eb_a401_9893ac470ac0row0_col1\" class=\"data row0 col1\" >0.9980</td>\n",
       "                        <td id=\"T_6c8be851_870b_11eb_a401_9893ac470ac0row0_col2\" class=\"data row0 col2\" >0.9032</td>\n",
       "                        <td id=\"T_6c8be851_870b_11eb_a401_9893ac470ac0row0_col3\" class=\"data row0 col3\" >0.9655</td>\n",
       "                        <td id=\"T_6c8be851_870b_11eb_a401_9893ac470ac0row0_col4\" class=\"data row0 col4\" >0.9333</td>\n",
       "                        <td id=\"T_6c8be851_870b_11eb_a401_9893ac470ac0row0_col5\" class=\"data row0 col5\" >0.9263</td>\n",
       "                        <td id=\"T_6c8be851_870b_11eb_a401_9893ac470ac0row0_col6\" class=\"data row0 col6\" >0.9270</td>\n",
       "            </tr>\n",
       "            <tr>\n",
       "                        <th id=\"T_6c8be851_870b_11eb_a401_9893ac470ac0level0_row1\" class=\"row_heading level0 row1\" >1</th>\n",
       "                        <td id=\"T_6c8be851_870b_11eb_a401_9893ac470ac0row1_col0\" class=\"data row1 col0\" >0.9937</td>\n",
       "                        <td id=\"T_6c8be851_870b_11eb_a401_9893ac470ac0row1_col1\" class=\"data row1 col1\" >0.9998</td>\n",
       "                        <td id=\"T_6c8be851_870b_11eb_a401_9893ac470ac0row1_col2\" class=\"data row1 col2\" >1.0000</td>\n",
       "                        <td id=\"T_6c8be851_870b_11eb_a401_9893ac470ac0row1_col3\" class=\"data row1 col3\" >0.9394</td>\n",
       "                        <td id=\"T_6c8be851_870b_11eb_a401_9893ac470ac0row1_col4\" class=\"data row1 col4\" >0.9688</td>\n",
       "                        <td id=\"T_6c8be851_870b_11eb_a401_9893ac470ac0row1_col5\" class=\"data row1 col5\" >0.9652</td>\n",
       "                        <td id=\"T_6c8be851_870b_11eb_a401_9893ac470ac0row1_col6\" class=\"data row1 col6\" >0.9658</td>\n",
       "            </tr>\n",
       "            <tr>\n",
       "                        <th id=\"T_6c8be851_870b_11eb_a401_9893ac470ac0level0_row2\" class=\"row_heading level0 row2\" >2</th>\n",
       "                        <td id=\"T_6c8be851_870b_11eb_a401_9893ac470ac0row2_col0\" class=\"data row2 col0\" >0.9778</td>\n",
       "                        <td id=\"T_6c8be851_870b_11eb_a401_9893ac470ac0row2_col1\" class=\"data row2 col1\" >0.9939</td>\n",
       "                        <td id=\"T_6c8be851_870b_11eb_a401_9893ac470ac0row2_col2\" class=\"data row2 col2\" >0.8125</td>\n",
       "                        <td id=\"T_6c8be851_870b_11eb_a401_9893ac470ac0row2_col3\" class=\"data row2 col3\" >0.9630</td>\n",
       "                        <td id=\"T_6c8be851_870b_11eb_a401_9893ac470ac0row2_col4\" class=\"data row2 col4\" >0.8814</td>\n",
       "                        <td id=\"T_6c8be851_870b_11eb_a401_9893ac470ac0row2_col5\" class=\"data row2 col5\" >0.8692</td>\n",
       "                        <td id=\"T_6c8be851_870b_11eb_a401_9893ac470ac0row2_col6\" class=\"data row2 col6\" >0.8730</td>\n",
       "            </tr>\n",
       "            <tr>\n",
       "                        <th id=\"T_6c8be851_870b_11eb_a401_9893ac470ac0level0_row3\" class=\"row_heading level0 row3\" >3</th>\n",
       "                        <td id=\"T_6c8be851_870b_11eb_a401_9893ac470ac0row3_col0\" class=\"data row3 col0\" >0.9841</td>\n",
       "                        <td id=\"T_6c8be851_870b_11eb_a401_9893ac470ac0row3_col1\" class=\"data row3 col1\" >0.9969</td>\n",
       "                        <td id=\"T_6c8be851_870b_11eb_a401_9893ac470ac0row3_col2\" class=\"data row3 col2\" >0.9375</td>\n",
       "                        <td id=\"T_6c8be851_870b_11eb_a401_9893ac470ac0row3_col3\" class=\"data row3 col3\" >0.9091</td>\n",
       "                        <td id=\"T_6c8be851_870b_11eb_a401_9893ac470ac0row3_col4\" class=\"data row3 col4\" >0.9231</td>\n",
       "                        <td id=\"T_6c8be851_870b_11eb_a401_9893ac470ac0row3_col5\" class=\"data row3 col5\" >0.9142</td>\n",
       "                        <td id=\"T_6c8be851_870b_11eb_a401_9893ac470ac0row3_col6\" class=\"data row3 col6\" >0.9144</td>\n",
       "            </tr>\n",
       "            <tr>\n",
       "                        <th id=\"T_6c8be851_870b_11eb_a401_9893ac470ac0level0_row4\" class=\"row_heading level0 row4\" >4</th>\n",
       "                        <td id=\"T_6c8be851_870b_11eb_a401_9893ac470ac0row4_col0\" class=\"data row4 col0\" >0.9810</td>\n",
       "                        <td id=\"T_6c8be851_870b_11eb_a401_9893ac470ac0row4_col1\" class=\"data row4 col1\" >0.9969</td>\n",
       "                        <td id=\"T_6c8be851_870b_11eb_a401_9893ac470ac0row4_col2\" class=\"data row4 col2\" >0.8125</td>\n",
       "                        <td id=\"T_6c8be851_870b_11eb_a401_9893ac470ac0row4_col3\" class=\"data row4 col3\" >1.0000</td>\n",
       "                        <td id=\"T_6c8be851_870b_11eb_a401_9893ac470ac0row4_col4\" class=\"data row4 col4\" >0.8966</td>\n",
       "                        <td id=\"T_6c8be851_870b_11eb_a401_9893ac470ac0row4_col5\" class=\"data row4 col5\" >0.8862</td>\n",
       "                        <td id=\"T_6c8be851_870b_11eb_a401_9893ac470ac0row4_col6\" class=\"data row4 col6\" >0.8920</td>\n",
       "            </tr>\n",
       "            <tr>\n",
       "                        <th id=\"T_6c8be851_870b_11eb_a401_9893ac470ac0level0_row5\" class=\"row_heading level0 row5\" >5</th>\n",
       "                        <td id=\"T_6c8be851_870b_11eb_a401_9893ac470ac0row5_col0\" class=\"data row5 col0\" >0.9810</td>\n",
       "                        <td id=\"T_6c8be851_870b_11eb_a401_9893ac470ac0row5_col1\" class=\"data row5 col1\" >0.9956</td>\n",
       "                        <td id=\"T_6c8be851_870b_11eb_a401_9893ac470ac0row5_col2\" class=\"data row5 col2\" >0.9375</td>\n",
       "                        <td id=\"T_6c8be851_870b_11eb_a401_9893ac470ac0row5_col3\" class=\"data row5 col3\" >0.8824</td>\n",
       "                        <td id=\"T_6c8be851_870b_11eb_a401_9893ac470ac0row5_col4\" class=\"data row5 col4\" >0.9091</td>\n",
       "                        <td id=\"T_6c8be851_870b_11eb_a401_9893ac470ac0row5_col5\" class=\"data row5 col5\" >0.8985</td>\n",
       "                        <td id=\"T_6c8be851_870b_11eb_a401_9893ac470ac0row5_col6\" class=\"data row5 col6\" >0.8990</td>\n",
       "            </tr>\n",
       "            <tr>\n",
       "                        <th id=\"T_6c8be851_870b_11eb_a401_9893ac470ac0level0_row6\" class=\"row_heading level0 row6\" >6</th>\n",
       "                        <td id=\"T_6c8be851_870b_11eb_a401_9893ac470ac0row6_col0\" class=\"data row6 col0\" >0.9937</td>\n",
       "                        <td id=\"T_6c8be851_870b_11eb_a401_9893ac470ac0row6_col1\" class=\"data row6 col1\" >0.9996</td>\n",
       "                        <td id=\"T_6c8be851_870b_11eb_a401_9893ac470ac0row6_col2\" class=\"data row6 col2\" >1.0000</td>\n",
       "                        <td id=\"T_6c8be851_870b_11eb_a401_9893ac470ac0row6_col3\" class=\"data row6 col3\" >0.9412</td>\n",
       "                        <td id=\"T_6c8be851_870b_11eb_a401_9893ac470ac0row6_col4\" class=\"data row6 col4\" >0.9697</td>\n",
       "                        <td id=\"T_6c8be851_870b_11eb_a401_9893ac470ac0row6_col5\" class=\"data row6 col5\" >0.9662</td>\n",
       "                        <td id=\"T_6c8be851_870b_11eb_a401_9893ac470ac0row6_col6\" class=\"data row6 col6\" >0.9667</td>\n",
       "            </tr>\n",
       "            <tr>\n",
       "                        <th id=\"T_6c8be851_870b_11eb_a401_9893ac470ac0level0_row7\" class=\"row_heading level0 row7\" >7</th>\n",
       "                        <td id=\"T_6c8be851_870b_11eb_a401_9893ac470ac0row7_col0\" class=\"data row7 col0\" >0.9873</td>\n",
       "                        <td id=\"T_6c8be851_870b_11eb_a401_9893ac470ac0row7_col1\" class=\"data row7 col1\" >0.9915</td>\n",
       "                        <td id=\"T_6c8be851_870b_11eb_a401_9893ac470ac0row7_col2\" class=\"data row7 col2\" >0.9062</td>\n",
       "                        <td id=\"T_6c8be851_870b_11eb_a401_9893ac470ac0row7_col3\" class=\"data row7 col3\" >0.9667</td>\n",
       "                        <td id=\"T_6c8be851_870b_11eb_a401_9893ac470ac0row7_col4\" class=\"data row7 col4\" >0.9355</td>\n",
       "                        <td id=\"T_6c8be851_870b_11eb_a401_9893ac470ac0row7_col5\" class=\"data row7 col5\" >0.9284</td>\n",
       "                        <td id=\"T_6c8be851_870b_11eb_a401_9893ac470ac0row7_col6\" class=\"data row7 col6\" >0.9290</td>\n",
       "            </tr>\n",
       "            <tr>\n",
       "                        <th id=\"T_6c8be851_870b_11eb_a401_9893ac470ac0level0_row8\" class=\"row_heading level0 row8\" >8</th>\n",
       "                        <td id=\"T_6c8be851_870b_11eb_a401_9893ac470ac0row8_col0\" class=\"data row8 col0\" >0.9937</td>\n",
       "                        <td id=\"T_6c8be851_870b_11eb_a401_9893ac470ac0row8_col1\" class=\"data row8 col1\" >0.9991</td>\n",
       "                        <td id=\"T_6c8be851_870b_11eb_a401_9893ac470ac0row8_col2\" class=\"data row8 col2\" >0.9375</td>\n",
       "                        <td id=\"T_6c8be851_870b_11eb_a401_9893ac470ac0row8_col3\" class=\"data row8 col3\" >1.0000</td>\n",
       "                        <td id=\"T_6c8be851_870b_11eb_a401_9893ac470ac0row8_col4\" class=\"data row8 col4\" >0.9677</td>\n",
       "                        <td id=\"T_6c8be851_870b_11eb_a401_9893ac470ac0row8_col5\" class=\"data row8 col5\" >0.9642</td>\n",
       "                        <td id=\"T_6c8be851_870b_11eb_a401_9893ac470ac0row8_col6\" class=\"data row8 col6\" >0.9648</td>\n",
       "            </tr>\n",
       "            <tr>\n",
       "                        <th id=\"T_6c8be851_870b_11eb_a401_9893ac470ac0level0_row9\" class=\"row_heading level0 row9\" >9</th>\n",
       "                        <td id=\"T_6c8be851_870b_11eb_a401_9893ac470ac0row9_col0\" class=\"data row9 col0\" >0.9809</td>\n",
       "                        <td id=\"T_6c8be851_870b_11eb_a401_9893ac470ac0row9_col1\" class=\"data row9 col1\" >0.9961</td>\n",
       "                        <td id=\"T_6c8be851_870b_11eb_a401_9893ac470ac0row9_col2\" class=\"data row9 col2\" >0.9355</td>\n",
       "                        <td id=\"T_6c8be851_870b_11eb_a401_9893ac470ac0row9_col3\" class=\"data row9 col3\" >0.8788</td>\n",
       "                        <td id=\"T_6c8be851_870b_11eb_a401_9893ac470ac0row9_col4\" class=\"data row9 col4\" >0.9062</td>\n",
       "                        <td id=\"T_6c8be851_870b_11eb_a401_9893ac470ac0row9_col5\" class=\"data row9 col5\" >0.8956</td>\n",
       "                        <td id=\"T_6c8be851_870b_11eb_a401_9893ac470ac0row9_col6\" class=\"data row9 col6\" >0.8962</td>\n",
       "            </tr>\n",
       "            <tr>\n",
       "                        <th id=\"T_6c8be851_870b_11eb_a401_9893ac470ac0level0_row10\" class=\"row_heading level0 row10\" >Mean</th>\n",
       "                        <td id=\"T_6c8be851_870b_11eb_a401_9893ac470ac0row10_col0\" class=\"data row10 col0\" >0.9860</td>\n",
       "                        <td id=\"T_6c8be851_870b_11eb_a401_9893ac470ac0row10_col1\" class=\"data row10 col1\" >0.9967</td>\n",
       "                        <td id=\"T_6c8be851_870b_11eb_a401_9893ac470ac0row10_col2\" class=\"data row10 col2\" >0.9182</td>\n",
       "                        <td id=\"T_6c8be851_870b_11eb_a401_9893ac470ac0row10_col3\" class=\"data row10 col3\" >0.9446</td>\n",
       "                        <td id=\"T_6c8be851_870b_11eb_a401_9893ac470ac0row10_col4\" class=\"data row10 col4\" >0.9291</td>\n",
       "                        <td id=\"T_6c8be851_870b_11eb_a401_9893ac470ac0row10_col5\" class=\"data row10 col5\" >0.9214</td>\n",
       "                        <td id=\"T_6c8be851_870b_11eb_a401_9893ac470ac0row10_col6\" class=\"data row10 col6\" >0.9228</td>\n",
       "            </tr>\n",
       "            <tr>\n",
       "                        <th id=\"T_6c8be851_870b_11eb_a401_9893ac470ac0level0_row11\" class=\"row_heading level0 row11\" >SD</th>\n",
       "                        <td id=\"T_6c8be851_870b_11eb_a401_9893ac470ac0row11_col0\" class=\"data row11 col0\" >0.0057</td>\n",
       "                        <td id=\"T_6c8be851_870b_11eb_a401_9893ac470ac0row11_col1\" class=\"data row11 col1\" >0.0025</td>\n",
       "                        <td id=\"T_6c8be851_870b_11eb_a401_9893ac470ac0row11_col2\" class=\"data row11 col2\" >0.0612</td>\n",
       "                        <td id=\"T_6c8be851_870b_11eb_a401_9893ac470ac0row11_col3\" class=\"data row11 col3\" >0.0411</td>\n",
       "                        <td id=\"T_6c8be851_870b_11eb_a401_9893ac470ac0row11_col4\" class=\"data row11 col4\" >0.0301</td>\n",
       "                        <td id=\"T_6c8be851_870b_11eb_a401_9893ac470ac0row11_col5\" class=\"data row11 col5\" >0.0332</td>\n",
       "                        <td id=\"T_6c8be851_870b_11eb_a401_9893ac470ac0row11_col6\" class=\"data row11 col6\" >0.0322</td>\n",
       "            </tr>\n",
       "    </tbody></table>"
      ],
      "text/plain": [
       "<pandas.io.formats.style.Styler at 0x26e2e178340>"
      ]
     },
     "metadata": {},
     "output_type": "display_data"
    }
   ],
   "source": [
    "tuned_lightgbm=tune_model(lightgbm)"
   ]
  },
  {
   "cell_type": "code",
   "execution_count": 15,
   "metadata": {},
   "outputs": [
    {
     "data": {
      "image/png": "[encoded data removed]",
      "text/plain": [
       "<Figure size 576x396 with 2 Axes>"
      ]
     },
     "metadata": {},
     "output_type": "display_data"
    }
   ],
   "source": [
    "plot_model(tuned_lightgbm, plot = 'class_report')"
   ]
  },
  {
   "cell_type": "code",
   "execution_count": 16,
   "metadata": {},
   "outputs": [
    {
     "data": {
      "image/png": "[encoded data removed]",
      "text/plain": [
       "<Figure size 576x396 with 1 Axes>"
      ]
     },
     "metadata": {},
     "output_type": "display_data"
    }
   ],
   "source": [
    "plot_model(tuned_lightgbm, plot = 'confusion_matrix')"
   ]
  },
  {
   "cell_type": "code",
   "execution_count": 17,
   "metadata": {},
   "outputs": [
    {
     "data": {
      "application/vnd.jupyter.widget-view+json": {
       "model_id": "b917e00d7eca482a8930406c3dec1475",
       "version_major": 2,
       "version_minor": 0
      },
      "text/plain": [
       "interactive(children=(ToggleButtons(description='Plot Type:', icons=('',), options=(('Hyperparameters', 'param…"
      ]
     },
     "metadata": {},
     "output_type": "display_data"
    }
   ],
   "source": [
    "evaluate_model(tuned_lightgbm)"
   ]
  },
  {
   "cell_type": "code",
   "execution_count": 18,
   "metadata": {},
   "outputs": [
    {
     "data": {
      "text/html": [
       "<style  type=\"text/css\" >\n",
       "</style><table id=\"T_c427c602_870b_11eb_993d_9893ac470ac0\" ><thead>    <tr>        <th class=\"blank level0\" ></th>        <th class=\"col_heading level0 col0\" >Model</th>        <th class=\"col_heading level0 col1\" >Accuracy</th>        <th class=\"col_heading level0 col2\" >AUC</th>        <th class=\"col_heading level0 col3\" >Recall</th>        <th class=\"col_heading level0 col4\" >Prec.</th>        <th class=\"col_heading level0 col5\" >F1</th>        <th class=\"col_heading level0 col6\" >Kappa</th>        <th class=\"col_heading level0 col7\" >MCC</th>    </tr></thead><tbody>\n",
       "                <tr>\n",
       "                        <th id=\"T_c427c602_870b_11eb_993d_9893ac470ac0level0_row0\" class=\"row_heading level0 row0\" >0</th>\n",
       "                        <td id=\"T_c427c602_870b_11eb_993d_9893ac470ac0row0_col0\" class=\"data row0 col0\" >Light Gradient Boosting Machine</td>\n",
       "                        <td id=\"T_c427c602_870b_11eb_993d_9893ac470ac0row0_col1\" class=\"data row0 col1\" >0.9867</td>\n",
       "                        <td id=\"T_c427c602_870b_11eb_993d_9893ac470ac0row0_col2\" class=\"data row0 col2\" >0.9971</td>\n",
       "                        <td id=\"T_c427c602_870b_11eb_993d_9893ac470ac0row0_col3\" class=\"data row0 col3\" >0.9008</td>\n",
       "                        <td id=\"T_c427c602_870b_11eb_993d_9893ac470ac0row0_col4\" class=\"data row0 col4\" >0.9478</td>\n",
       "                        <td id=\"T_c427c602_870b_11eb_993d_9893ac470ac0row0_col5\" class=\"data row0 col5\" >0.9237</td>\n",
       "                        <td id=\"T_c427c602_870b_11eb_993d_9893ac470ac0row0_col6\" class=\"data row0 col6\" >0.9164</td>\n",
       "                        <td id=\"T_c427c602_870b_11eb_993d_9893ac470ac0row0_col7\" class=\"data row0 col7\" >0.9168</td>\n",
       "            </tr>\n",
       "    </tbody></table>"
      ],
      "text/plain": [
       "<pandas.io.formats.style.Styler at 0x26e24ede340>"
      ]
     },
     "metadata": {},
     "output_type": "display_data"
    }
   ],
   "source": [
    "predict_model(tuned_lightgbm);"
   ]
  },
  {
   "cell_type": "code",
   "execution_count": 19,
   "metadata": {},
   "outputs": [],
   "source": [
    "final_lightgbm = finalize_model(tuned_lightgbm)"
   ]
  },
  {
   "cell_type": "code",
   "execution_count": 20,
   "metadata": {},
   "outputs": [
    {
     "data": {
      "text/html": [
       "<div>\n",
       "<style scoped>\n",
       "    .dataframe tbody tr th:only-of-type {\n",
       "        vertical-align: middle;\n",
       "    }\n",
       "\n",
       "    .dataframe tbody tr th {\n",
       "        vertical-align: top;\n",
       "    }\n",
       "\n",
       "    .dataframe thead th {\n",
       "        text-align: right;\n",
       "    }\n",
       "</style>\n",
       "<table border=\"1\" class=\"dataframe\">\n",
       "  <thead>\n",
       "    <tr style=\"text-align: right;\">\n",
       "      <th></th>\n",
       "      <th>Age</th>\n",
       "      <th>Experience</th>\n",
       "      <th>Income</th>\n",
       "      <th>Family</th>\n",
       "      <th>CCAvg</th>\n",
       "      <th>Education</th>\n",
       "      <th>Mortgage</th>\n",
       "      <th>Personal Loan</th>\n",
       "      <th>Securities Account</th>\n",
       "      <th>CD Account</th>\n",
       "      <th>Online</th>\n",
       "      <th>CreditCard</th>\n",
       "      <th>Label</th>\n",
       "      <th>Score</th>\n",
       "    </tr>\n",
       "  </thead>\n",
       "  <tbody>\n",
       "    <tr>\n",
       "      <th>0</th>\n",
       "      <td>37</td>\n",
       "      <td>13</td>\n",
       "      <td>29</td>\n",
       "      <td>4</td>\n",
       "      <td>0.4</td>\n",
       "      <td>2</td>\n",
       "      <td>155</td>\n",
       "      <td>0</td>\n",
       "      <td>0</td>\n",
       "      <td>0</td>\n",
       "      <td>1</td>\n",
       "      <td>0</td>\n",
       "      <td>0</td>\n",
       "      <td>0.9995</td>\n",
       "    </tr>\n",
       "    <tr>\n",
       "      <th>1</th>\n",
       "      <td>50</td>\n",
       "      <td>24</td>\n",
       "      <td>22</td>\n",
       "      <td>1</td>\n",
       "      <td>0.3</td>\n",
       "      <td>3</td>\n",
       "      <td>0</td>\n",
       "      <td>0</td>\n",
       "      <td>0</td>\n",
       "      <td>0</td>\n",
       "      <td>0</td>\n",
       "      <td>1</td>\n",
       "      <td>0</td>\n",
       "      <td>0.9997</td>\n",
       "    </tr>\n",
       "    <tr>\n",
       "      <th>2</th>\n",
       "      <td>29</td>\n",
       "      <td>5</td>\n",
       "      <td>45</td>\n",
       "      <td>3</td>\n",
       "      <td>0.1</td>\n",
       "      <td>2</td>\n",
       "      <td>0</td>\n",
       "      <td>0</td>\n",
       "      <td>0</td>\n",
       "      <td>0</td>\n",
       "      <td>1</td>\n",
       "      <td>0</td>\n",
       "      <td>0</td>\n",
       "      <td>0.9993</td>\n",
       "    </tr>\n",
       "    <tr>\n",
       "      <th>3</th>\n",
       "      <td>59</td>\n",
       "      <td>32</td>\n",
       "      <td>40</td>\n",
       "      <td>4</td>\n",
       "      <td>2.5</td>\n",
       "      <td>2</td>\n",
       "      <td>0</td>\n",
       "      <td>0</td>\n",
       "      <td>0</td>\n",
       "      <td>0</td>\n",
       "      <td>1</td>\n",
       "      <td>0</td>\n",
       "      <td>0</td>\n",
       "      <td>0.9990</td>\n",
       "    </tr>\n",
       "    <tr>\n",
       "      <th>4</th>\n",
       "      <td>46</td>\n",
       "      <td>21</td>\n",
       "      <td>193</td>\n",
       "      <td>2</td>\n",
       "      <td>8.1</td>\n",
       "      <td>3</td>\n",
       "      <td>0</td>\n",
       "      <td>1</td>\n",
       "      <td>0</td>\n",
       "      <td>0</td>\n",
       "      <td>0</td>\n",
       "      <td>0</td>\n",
       "      <td>1</td>\n",
       "      <td>0.9933</td>\n",
       "    </tr>\n",
       "  </tbody>\n",
       "</table>\n",
       "</div>"
      ],
      "text/plain": [
       "   Age  Experience  Income  Family  CCAvg  Education  Mortgage  Personal Loan  \\\n",
       "0   37          13      29       4    0.4          2       155              0   \n",
       "1   50          24      22       1    0.3          3         0              0   \n",
       "2   29           5      45       3    0.1          2         0              0   \n",
       "3   59          32      40       4    2.5          2         0              0   \n",
       "4   46          21     193       2    8.1          3         0              1   \n",
       "\n",
       "   Securities Account  CD Account  Online  CreditCard  Label   Score  \n",
       "0                   0           0       1           0      0  0.9995  \n",
       "1                   0           0       0           1      0  0.9997  \n",
       "2                   0           0       1           0      0  0.9993  \n",
       "3                   0           0       1           0      0  0.9990  \n",
       "4                   0           0       0           0      1  0.9933  "
      ]
     },
     "execution_count": 20,
     "metadata": {},
     "output_type": "execute_result"
    }
   ],
   "source": [
    "unseen_predictions = predict_model(final_lightgbm, data=data_unseen)\n",
    "unseen_predictions.head()"
   ]
  },
  {
   "cell_type": "code",
   "execution_count": 23,
   "metadata": {},
   "outputs": [
    {
     "data": {
      "text/plain": [
       "0.996"
      ]
     },
     "execution_count": 23,
     "metadata": {},
     "output_type": "execute_result"
    }
   ],
   "source": [
    "from pycaret.utils import check_metric\n",
    "check_metric(unseen_predictions['Personal Loan'], unseen_predictions['Label'], metric = 'Accuracy')"
   ]
  },
  {
   "cell_type": "code",
   "execution_count": 24,
   "metadata": {},
   "outputs": [
    {
     "data": {
      "text/plain": [
       "0.9524"
      ]
     },
     "execution_count": 24,
     "metadata": {},
     "output_type": "execute_result"
    }
   ],
   "source": [
    "check_metric(unseen_predictions['Personal Loan'], unseen_predictions['Label'], metric = 'Recall')"
   ]
  },
  {
   "cell_type": "code",
   "execution_count": null,
   "metadata": {},
   "outputs": [],
   "source": []
  }
 ],
 "metadata": {
  "colab": {
   "collapsed_sections": [],
   "name": "Data_Sprint_26_Crop_Recommendation.ipynb",
   "provenance": []
  },
  "kernelspec": {
   "display_name": "Python 3",
   "language": "python",
   "name": "python3"
  },
  "language_info": {
   "codemirror_mode": {
    "name": "ipython",
    "version": 3
   },
   "file_extension": ".py",
   "mimetype": "text/x-python",
   "name": "python",
   "nbconvert_exporter": "python",
   "pygments_lexer": "ipython3",
   "version": "3.8.6"
  }
 },
 "nbformat": 4,
 "nbformat_minor": 1
}
