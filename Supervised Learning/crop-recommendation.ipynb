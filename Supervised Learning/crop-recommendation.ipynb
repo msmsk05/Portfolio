{
 "cells": [
  {
   "cell_type": "code",
   "execution_count": 1,
   "metadata": {
    "id": "AdgJJlH40_bQ"
   },
   "outputs": [],
   "source": [
    "import numpy as np        \n",
    "import pandas as pd     \n",
    "import seaborn as sns\n",
    "import matplotlib.pyplot as plt\n",
    "# to ignore warnings\n",
    "import warnings\n",
    "warnings.filterwarnings(\"ignore\")"
   ]
  },
  {
   "cell_type": "markdown",
   "metadata": {
    "id": "Y1NzvInd1kx6"
   },
   "source": [
    "# Loading Dataset"
   ]
  },
  {
   "cell_type": "code",
   "execution_count": 2,
   "metadata": {
    "id": "5inGNMiR1hKx"
   },
   "outputs": [],
   "source": [
    "train_data = pd.read_csv(\"https://raw.githubusercontent.com/dphi-official/Datasets/master/crop_recommendation/train_set_label.csv\")"
   ]
  },
  {
   "cell_type": "markdown",
   "metadata": {
    "id": "wIDMrCje8oXu"
   },
   "source": [
    "## Basic EDA"
   ]
  },
  {
   "cell_type": "code",
   "execution_count": 3,
   "metadata": {
    "colab": {
     "base_uri": "https://localhost:8080/",
     "height": 195
    },
    "id": "bp6SaZm68qz-",
    "outputId": "5229c548-2d7a-44df-aae8-6cdb3d3b40d5"
   },
   "outputs": [
    {
     "data": {
      "text/html": [
       "<div>\n",
       "<style scoped>\n",
       "    .dataframe tbody tr th:only-of-type {\n",
       "        vertical-align: middle;\n",
       "    }\n",
       "\n",
       "    .dataframe tbody tr th {\n",
       "        vertical-align: top;\n",
       "    }\n",
       "\n",
       "    .dataframe thead th {\n",
       "        text-align: right;\n",
       "    }\n",
       "</style>\n",
       "<table border=\"1\" class=\"dataframe\">\n",
       "  <thead>\n",
       "    <tr style=\"text-align: right;\">\n",
       "      <th></th>\n",
       "      <th>N</th>\n",
       "      <th>P</th>\n",
       "      <th>K</th>\n",
       "      <th>temperature</th>\n",
       "      <th>humidity</th>\n",
       "      <th>ph</th>\n",
       "      <th>rainfall</th>\n",
       "      <th>crop</th>\n",
       "    </tr>\n",
       "  </thead>\n",
       "  <tbody>\n",
       "    <tr>\n",
       "      <th>0</th>\n",
       "      <td>17.0</td>\n",
       "      <td>136.0</td>\n",
       "      <td>196.0</td>\n",
       "      <td>23.871923</td>\n",
       "      <td>90.499390</td>\n",
       "      <td>5.882156</td>\n",
       "      <td>103.054809</td>\n",
       "      <td>apple</td>\n",
       "    </tr>\n",
       "    <tr>\n",
       "      <th>1</th>\n",
       "      <td>49.0</td>\n",
       "      <td>69.0</td>\n",
       "      <td>82.0</td>\n",
       "      <td>18.315615</td>\n",
       "      <td>15.361435</td>\n",
       "      <td>7.263119</td>\n",
       "      <td>81.787105</td>\n",
       "      <td>chickpea</td>\n",
       "    </tr>\n",
       "    <tr>\n",
       "      <th>2</th>\n",
       "      <td>74.0</td>\n",
       "      <td>49.0</td>\n",
       "      <td>38.0</td>\n",
       "      <td>23.314104</td>\n",
       "      <td>71.450905</td>\n",
       "      <td>7.488014</td>\n",
       "      <td>164.497037</td>\n",
       "      <td>jute</td>\n",
       "    </tr>\n",
       "    <tr>\n",
       "      <th>3</th>\n",
       "      <td>104.0</td>\n",
       "      <td>35.0</td>\n",
       "      <td>28.0</td>\n",
       "      <td>27.510061</td>\n",
       "      <td>50.666872</td>\n",
       "      <td>6.983732</td>\n",
       "      <td>143.995555</td>\n",
       "      <td>coffee</td>\n",
       "    </tr>\n",
       "    <tr>\n",
       "      <th>4</th>\n",
       "      <td>23.0</td>\n",
       "      <td>72.0</td>\n",
       "      <td>84.0</td>\n",
       "      <td>19.020613</td>\n",
       "      <td>17.131591</td>\n",
       "      <td>6.920251</td>\n",
       "      <td>79.926981</td>\n",
       "      <td>chickpea</td>\n",
       "    </tr>\n",
       "  </tbody>\n",
       "</table>\n",
       "</div>"
      ],
      "text/plain": [
       "       N      P      K  temperature   humidity        ph    rainfall      crop\n",
       "0   17.0  136.0  196.0    23.871923  90.499390  5.882156  103.054809     apple\n",
       "1   49.0   69.0   82.0    18.315615  15.361435  7.263119   81.787105  chickpea\n",
       "2   74.0   49.0   38.0    23.314104  71.450905  7.488014  164.497037      jute\n",
       "3  104.0   35.0   28.0    27.510061  50.666872  6.983732  143.995555    coffee\n",
       "4   23.0   72.0   84.0    19.020613  17.131591  6.920251   79.926981  chickpea"
      ]
     },
     "execution_count": 3,
     "metadata": {},
     "output_type": "execute_result"
    }
   ],
   "source": [
    "train_data.head()"
   ]
  },
  {
   "cell_type": "code",
   "execution_count": 4,
   "metadata": {
    "colab": {
     "base_uri": "https://localhost:8080/"
    },
    "id": "l0VymVqb8vam",
    "outputId": "e9f707cc-cad8-4312-c929-9425689e7815"
   },
   "outputs": [
    {
     "name": "stdout",
     "output_type": "stream",
     "text": [
      "<class 'pandas.core.frame.DataFrame'>\n",
      "RangeIndex: 1650 entries, 0 to 1649\n",
      "Data columns (total 8 columns):\n",
      " #   Column       Non-Null Count  Dtype  \n",
      "---  ------       --------------  -----  \n",
      " 0   N            1650 non-null   float64\n",
      " 1   P            1650 non-null   float64\n",
      " 2   K            1650 non-null   float64\n",
      " 3   temperature  1650 non-null   float64\n",
      " 4   humidity     1650 non-null   float64\n",
      " 5   ph           1650 non-null   float64\n",
      " 6   rainfall     1650 non-null   float64\n",
      " 7   crop         1650 non-null   object \n",
      "dtypes: float64(7), object(1)\n",
      "memory usage: 103.2+ KB\n"
     ]
    }
   ],
   "source": [
    "train_data.info()"
   ]
  },
  {
   "cell_type": "code",
   "execution_count": 5,
   "metadata": {},
   "outputs": [
    {
     "data": {
      "text/plain": [
       "N              0\n",
       "P              0\n",
       "K              0\n",
       "temperature    0\n",
       "humidity       0\n",
       "ph             0\n",
       "rainfall       0\n",
       "crop           0\n",
       "dtype: int64"
      ]
     },
     "execution_count": 5,
     "metadata": {},
     "output_type": "execute_result"
    }
   ],
   "source": [
    "train_data.isnull().sum()"
   ]
  },
  {
   "cell_type": "code",
   "execution_count": 6,
   "metadata": {},
   "outputs": [
    {
     "data": {
      "text/html": [
       "<div>\n",
       "<style scoped>\n",
       "    .dataframe tbody tr th:only-of-type {\n",
       "        vertical-align: middle;\n",
       "    }\n",
       "\n",
       "    .dataframe tbody tr th {\n",
       "        vertical-align: top;\n",
       "    }\n",
       "\n",
       "    .dataframe thead th {\n",
       "        text-align: right;\n",
       "    }\n",
       "</style>\n",
       "<table border=\"1\" class=\"dataframe\">\n",
       "  <thead>\n",
       "    <tr style=\"text-align: right;\">\n",
       "      <th></th>\n",
       "      <th>N</th>\n",
       "      <th>P</th>\n",
       "      <th>K</th>\n",
       "      <th>temperature</th>\n",
       "      <th>humidity</th>\n",
       "      <th>ph</th>\n",
       "      <th>rainfall</th>\n",
       "      <th>crop</th>\n",
       "    </tr>\n",
       "  </thead>\n",
       "  <tbody>\n",
       "    <tr>\n",
       "      <th>count</th>\n",
       "      <td>1650.000000</td>\n",
       "      <td>1650.000000</td>\n",
       "      <td>1650.000000</td>\n",
       "      <td>1650.000000</td>\n",
       "      <td>1650.000000</td>\n",
       "      <td>1650.000000</td>\n",
       "      <td>1650.000000</td>\n",
       "      <td>1650</td>\n",
       "    </tr>\n",
       "    <tr>\n",
       "      <th>unique</th>\n",
       "      <td>NaN</td>\n",
       "      <td>NaN</td>\n",
       "      <td>NaN</td>\n",
       "      <td>NaN</td>\n",
       "      <td>NaN</td>\n",
       "      <td>NaN</td>\n",
       "      <td>NaN</td>\n",
       "      <td>22</td>\n",
       "    </tr>\n",
       "    <tr>\n",
       "      <th>top</th>\n",
       "      <td>NaN</td>\n",
       "      <td>NaN</td>\n",
       "      <td>NaN</td>\n",
       "      <td>NaN</td>\n",
       "      <td>NaN</td>\n",
       "      <td>NaN</td>\n",
       "      <td>NaN</td>\n",
       "      <td>pomegranate</td>\n",
       "    </tr>\n",
       "    <tr>\n",
       "      <th>freq</th>\n",
       "      <td>NaN</td>\n",
       "      <td>NaN</td>\n",
       "      <td>NaN</td>\n",
       "      <td>NaN</td>\n",
       "      <td>NaN</td>\n",
       "      <td>NaN</td>\n",
       "      <td>NaN</td>\n",
       "      <td>75</td>\n",
       "    </tr>\n",
       "    <tr>\n",
       "      <th>mean</th>\n",
       "      <td>50.370308</td>\n",
       "      <td>53.419241</td>\n",
       "      <td>48.111081</td>\n",
       "      <td>25.647214</td>\n",
       "      <td>71.563115</td>\n",
       "      <td>6.485583</td>\n",
       "      <td>103.965778</td>\n",
       "      <td>NaN</td>\n",
       "    </tr>\n",
       "    <tr>\n",
       "      <th>std</th>\n",
       "      <td>36.743966</td>\n",
       "      <td>33.320501</td>\n",
       "      <td>50.537044</td>\n",
       "      <td>5.005005</td>\n",
       "      <td>22.198130</td>\n",
       "      <td>0.765865</td>\n",
       "      <td>55.510324</td>\n",
       "      <td>NaN</td>\n",
       "    </tr>\n",
       "    <tr>\n",
       "      <th>min</th>\n",
       "      <td>0.000000</td>\n",
       "      <td>5.000000</td>\n",
       "      <td>5.000000</td>\n",
       "      <td>9.467960</td>\n",
       "      <td>14.273280</td>\n",
       "      <td>3.525366</td>\n",
       "      <td>20.360011</td>\n",
       "      <td>NaN</td>\n",
       "    </tr>\n",
       "    <tr>\n",
       "      <th>25%</th>\n",
       "      <td>21.000000</td>\n",
       "      <td>27.000000</td>\n",
       "      <td>20.552276</td>\n",
       "      <td>22.807269</td>\n",
       "      <td>60.120113</td>\n",
       "      <td>5.986160</td>\n",
       "      <td>65.025621</td>\n",
       "      <td>NaN</td>\n",
       "    </tr>\n",
       "    <tr>\n",
       "      <th>50%</th>\n",
       "      <td>37.000000</td>\n",
       "      <td>52.000000</td>\n",
       "      <td>31.575398</td>\n",
       "      <td>25.656980</td>\n",
       "      <td>80.547206</td>\n",
       "      <td>6.426118</td>\n",
       "      <td>95.246217</td>\n",
       "      <td>NaN</td>\n",
       "    </tr>\n",
       "    <tr>\n",
       "      <th>75%</th>\n",
       "      <td>84.738202</td>\n",
       "      <td>68.000000</td>\n",
       "      <td>49.000000</td>\n",
       "      <td>28.529953</td>\n",
       "      <td>90.003702</td>\n",
       "      <td>6.924943</td>\n",
       "      <td>127.887636</td>\n",
       "      <td>NaN</td>\n",
       "    </tr>\n",
       "    <tr>\n",
       "      <th>max</th>\n",
       "      <td>136.000000</td>\n",
       "      <td>145.000000</td>\n",
       "      <td>205.000000</td>\n",
       "      <td>42.936054</td>\n",
       "      <td>99.981876</td>\n",
       "      <td>9.935091</td>\n",
       "      <td>298.560117</td>\n",
       "      <td>NaN</td>\n",
       "    </tr>\n",
       "  </tbody>\n",
       "</table>\n",
       "</div>"
      ],
      "text/plain": [
       "                  N            P            K  temperature     humidity  \\\n",
       "count   1650.000000  1650.000000  1650.000000  1650.000000  1650.000000   \n",
       "unique          NaN          NaN          NaN          NaN          NaN   \n",
       "top             NaN          NaN          NaN          NaN          NaN   \n",
       "freq            NaN          NaN          NaN          NaN          NaN   \n",
       "mean      50.370308    53.419241    48.111081    25.647214    71.563115   \n",
       "std       36.743966    33.320501    50.537044     5.005005    22.198130   \n",
       "min        0.000000     5.000000     5.000000     9.467960    14.273280   \n",
       "25%       21.000000    27.000000    20.552276    22.807269    60.120113   \n",
       "50%       37.000000    52.000000    31.575398    25.656980    80.547206   \n",
       "75%       84.738202    68.000000    49.000000    28.529953    90.003702   \n",
       "max      136.000000   145.000000   205.000000    42.936054    99.981876   \n",
       "\n",
       "                 ph     rainfall         crop  \n",
       "count   1650.000000  1650.000000         1650  \n",
       "unique          NaN          NaN           22  \n",
       "top             NaN          NaN  pomegranate  \n",
       "freq            NaN          NaN           75  \n",
       "mean       6.485583   103.965778          NaN  \n",
       "std        0.765865    55.510324          NaN  \n",
       "min        3.525366    20.360011          NaN  \n",
       "25%        5.986160    65.025621          NaN  \n",
       "50%        6.426118    95.246217          NaN  \n",
       "75%        6.924943   127.887636          NaN  \n",
       "max        9.935091   298.560117          NaN  "
      ]
     },
     "execution_count": 6,
     "metadata": {},
     "output_type": "execute_result"
    }
   ],
   "source": [
    "train_data.describe(include='all')"
   ]
  },
  {
   "cell_type": "code",
   "execution_count": 7,
   "metadata": {},
   "outputs": [
    {
     "data": {
      "text/plain": [
       "<AxesSubplot:>"
      ]
     },
     "execution_count": 7,
     "metadata": {},
     "output_type": "execute_result"
    },
    {
     "data": {
      "image/png": "[encoded data removed]",
      "text/plain": [
       "<Figure size 864x504 with 2 Axes>"
      ]
     },
     "metadata": {
      "needs_background": "light"
     },
     "output_type": "display_data"
    }
   ],
   "source": [
    "plt.figure(figsize=(12,7))\n",
    "sns.heatmap(train_data.corr(), annot=True)"
   ]
  },
  {
   "cell_type": "code",
   "execution_count": 8,
   "metadata": {},
   "outputs": [
    {
     "data": {
      "text/plain": [
       "pomegranate    0.045455\n",
       "mango          0.045455\n",
       "grapes         0.045455\n",
       "pigeonpeas     0.045455\n",
       "rice           0.045455\n",
       "papaya         0.045455\n",
       "coffee         0.045455\n",
       "mothbeans      0.045455\n",
       "kidneybeans    0.045455\n",
       "lentil         0.045455\n",
       "jute           0.045455\n",
       "blackgram      0.045455\n",
       "apple          0.045455\n",
       "maize          0.045455\n",
       "coconut        0.045455\n",
       "chickpea       0.045455\n",
       "mungbean       0.045455\n",
       "muskmelon      0.045455\n",
       "orange         0.045455\n",
       "cotton         0.045455\n",
       "watermelon     0.045455\n",
       "banana         0.045455\n",
       "Name: crop, dtype: float64"
      ]
     },
     "execution_count": 8,
     "metadata": {},
     "output_type": "execute_result"
    }
   ],
   "source": [
    "train_data.crop.value_counts(normalize=True)"
   ]
  },
  {
   "cell_type": "code",
   "execution_count": 9,
   "metadata": {
    "id": "4GF7yYtVsBQq"
   },
   "outputs": [],
   "source": [
    "from sklearn.preprocessing import LabelEncoder\n",
    "le = LabelEncoder()\n",
    "train_data.crop = le.fit_transform(train_data.crop)"
   ]
  },
  {
   "cell_type": "markdown",
   "metadata": {
    "id": "SJZTl-Hn6SqG"
   },
   "source": [
    "# Separating Input Features and Output Features"
   ]
  },
  {
   "cell_type": "code",
   "execution_count": 10,
   "metadata": {
    "id": "bG7oHnzB1_NJ"
   },
   "outputs": [],
   "source": [
    "X = train_data.drop('crop', axis = 1)                                           \n",
    "y = train_data['crop']             "
   ]
  },
  {
   "cell_type": "markdown",
   "metadata": {
    "id": "ydj91s_E64Uu"
   },
   "source": [
    "# Splitting the data into Train and Validation Set\n"
   ]
  },
  {
   "cell_type": "code",
   "execution_count": 11,
   "metadata": {
    "id": "m7EGP5w360BD"
   },
   "outputs": [],
   "source": [
    "# import train_test_split\n",
    "from sklearn.model_selection import train_test_split"
   ]
  },
  {
   "cell_type": "code",
   "execution_count": 12,
   "metadata": {
    "id": "Dj5_kJ2Y7FnS"
   },
   "outputs": [],
   "source": [
    "# split the data\n",
    "X_train, X_test, y_train, y_test = train_test_split(X,y,test_size=0.2, random_state = 42)"
   ]
  },
  {
   "cell_type": "markdown",
   "metadata": {
    "id": "HsxciXev7Q_i"
   },
   "source": [
    "# Building Model"
   ]
  },
  {
   "cell_type": "code",
   "execution_count": 13,
   "metadata": {
    "id": "ay4pnyq87LO8"
   },
   "outputs": [],
   "source": [
    "from sklearn.preprocessing import StandardScaler\n",
    "from sklearn.model_selection import train_test_split\n",
    "from sklearn.model_selection import KFold\n",
    "from sklearn.model_selection import StratifiedKFold\n",
    "from sklearn.model_selection import cross_val_score\n",
    "from sklearn.model_selection import GridSearchCV\n",
    "from sklearn.metrics import classification_report\n",
    "from sklearn.metrics import confusion_matrix\n",
    "from sklearn.metrics import accuracy_score\n",
    "from sklearn.pipeline import Pipeline\n",
    "from sklearn.linear_model import LogisticRegression\n",
    "from sklearn.tree import DecisionTreeClassifier\n",
    "from sklearn.neighbors import KNeighborsClassifier\n",
    "from sklearn.discriminant_analysis import LinearDiscriminantAnalysis\n",
    "from sklearn.naive_bayes import GaussianNB\n",
    "from sklearn.svm import SVC\n",
    "from sklearn.ensemble import AdaBoostClassifier\n",
    "from sklearn.ensemble import GradientBoostingClassifier\n",
    "from sklearn.ensemble import RandomForestClassifier\n",
    "from sklearn.ensemble import ExtraTreesClassifier"
   ]
  },
  {
   "cell_type": "code",
   "execution_count": 14,
   "metadata": {
    "id": "sE6vHN6t763C"
   },
   "outputs": [],
   "source": [
    "def GetBasedModel():\n",
    "    basedModels = []\n",
    "    basedModels.append(('LR'   , LogisticRegression()))\n",
    "    basedModels.append(('LDA'  , LinearDiscriminantAnalysis()))\n",
    "    basedModels.append(('KNN'  , KNeighborsClassifier()))\n",
    "    basedModels.append(('CART' , DecisionTreeClassifier()))\n",
    "    basedModels.append(('NB'   , GaussianNB()))\n",
    "    basedModels.append(('SVM'  , SVC(probability=True)))\n",
    "    basedModels.append(('AB'   , AdaBoostClassifier()))\n",
    "    basedModels.append(('GBM'  , GradientBoostingClassifier()))\n",
    "    basedModels.append(('RF'   , RandomForestClassifier()))\n",
    "    basedModels.append(('ET'   , ExtraTreesClassifier()))\n",
    "    \n",
    "    return basedModels"
   ]
  },
  {
   "cell_type": "code",
   "execution_count": 15,
   "metadata": {},
   "outputs": [],
   "source": [
    "def BasedLine2(X_train, y_train,models):\n",
    "    num_folds = 10\n",
    "    scoring = 'accuracy'\n",
    "    results = []\n",
    "    names = []\n",
    "    for name, model in models:\n",
    "        kfold = StratifiedKFold(n_splits=num_folds)\n",
    "        cv_results = cross_val_score(model, X_train, y_train, cv=kfold, scoring=scoring)\n",
    "        results.append(cv_results)\n",
    "        names.append(name)\n",
    "        msg = \"%s: %f (%f)\" % (name, cv_results.mean(), cv_results.std())\n",
    "        print(msg)\n",
    "        \n",
    "    return names, results"
   ]
  },
  {
   "cell_type": "code",
   "execution_count": 16,
   "metadata": {},
   "outputs": [
    {
     "name": "stdout",
     "output_type": "stream",
     "text": [
      "LR: 0.968182 (0.018495)\n",
      "LDA: 0.967424 (0.015909)\n",
      "KNN: 0.981818 (0.009091)\n",
      "CART: 0.978030 (0.015691)\n",
      "NB: 0.993939 (0.008835)\n",
      "SVM: 0.975000 (0.019770)\n",
      "AB: 0.166667 (0.028548)\n",
      "GBM: 0.983333 (0.008835)\n",
      "RF: 0.995455 (0.009091)\n",
      "ET: 0.994697 (0.009613)\n"
     ]
    }
   ],
   "source": [
    "models = GetBasedModel()\n",
    "names,results = BasedLine2(X_train, y_train,models)"
   ]
  },
  {
   "cell_type": "markdown",
   "metadata": {},
   "source": [
    "**It looks like RandomForestClassifier is the best model**"
   ]
  },
  {
   "cell_type": "markdown",
   "metadata": {},
   "source": [
    "### Scaling the data"
   ]
  },
  {
   "cell_type": "code",
   "execution_count": 17,
   "metadata": {},
   "outputs": [],
   "source": [
    "scaler=StandardScaler()\n",
    "X_train=scaler.fit_transform(X_train)\n",
    "X_test=scaler.transform(X_test)"
   ]
  },
  {
   "cell_type": "markdown",
   "metadata": {},
   "source": [
    "### Building a RF model"
   ]
  },
  {
   "cell_type": "code",
   "execution_count": 18,
   "metadata": {},
   "outputs": [],
   "source": [
    "rf=RandomForestClassifier().fit(X_train, y_train)\n",
    "y_pred=rf.predict(X_test)"
   ]
  },
  {
   "cell_type": "code",
   "execution_count": 19,
   "metadata": {},
   "outputs": [
    {
     "data": {
      "text/plain": [
       "0.996969696969697"
      ]
     },
     "execution_count": 19,
     "metadata": {},
     "output_type": "execute_result"
    }
   ],
   "source": [
    "from sklearn.metrics import accuracy_score\n",
    "accuracy_score(y_test,y_pred)"
   ]
  },
  {
   "cell_type": "markdown",
   "metadata": {
    "id": "-b1C_HVx_lKV"
   },
   "source": [
    "# Predict The Output For Testing Dataset\n",
    "\n"
   ]
  },
  {
   "cell_type": "markdown",
   "metadata": {
    "id": "4BlJRzftAjTO"
   },
   "source": [
    "## Load Test Set"
   ]
  },
  {
   "cell_type": "code",
   "execution_count": 20,
   "metadata": {
    "id": "N_LHXg8ZAilM"
   },
   "outputs": [],
   "source": [
    "test_data = pd.read_csv('https://raw.githubusercontent.com/dphi-official/Datasets/master/crop_recommendation/test_set_label.csv')"
   ]
  },
  {
   "cell_type": "code",
   "execution_count": 21,
   "metadata": {
    "colab": {
     "base_uri": "https://localhost:8080/"
    },
    "id": "dPUaiH-Zyhj_",
    "outputId": "ecc4fbf4-62fa-45af-b64d-ce0def8717b3"
   },
   "outputs": [
    {
     "name": "stdout",
     "output_type": "stream",
     "text": [
      "<class 'pandas.core.frame.DataFrame'>\n",
      "RangeIndex: 550 entries, 0 to 549\n",
      "Data columns (total 7 columns):\n",
      " #   Column       Non-Null Count  Dtype  \n",
      "---  ------       --------------  -----  \n",
      " 0   N            550 non-null    float64\n",
      " 1   P            550 non-null    float64\n",
      " 2   K            550 non-null    float64\n",
      " 3   temperature  550 non-null    float64\n",
      " 4   humidity     550 non-null    float64\n",
      " 5   ph           550 non-null    float64\n",
      " 6   rainfall     550 non-null    float64\n",
      "dtypes: float64(7)\n",
      "memory usage: 30.2 KB\n"
     ]
    }
   ],
   "source": [
    "test_data.info()"
   ]
  },
  {
   "cell_type": "code",
   "execution_count": 22,
   "metadata": {},
   "outputs": [],
   "source": [
    "test_data=scaler.transform(test_data)"
   ]
  },
  {
   "cell_type": "markdown",
   "metadata": {
    "id": "Q1VWI-oiCp3t"
   },
   "source": [
    "## Make Prediction on Test Dataset"
   ]
  },
  {
   "cell_type": "code",
   "execution_count": 23,
   "metadata": {
    "id": "i3Fsfy9iA1N7"
   },
   "outputs": [],
   "source": [
    "target = rf.predict(test_data)"
   ]
  },
  {
   "cell_type": "code",
   "execution_count": 24,
   "metadata": {
    "colab": {
     "base_uri": "https://localhost:8080/"
    },
    "id": "o2CkMHdN4NeT",
    "outputId": "3fe899ae-8f02-4e85-ef72-462e65dd3281",
    "scrolled": true
   },
   "outputs": [
    {
     "data": {
      "text/plain": [
       "array([13,  6, 12, 10, 14,  5, 10,  6, 10, 10,  8, 13, 16,  1,  4, 15,  7,\n",
       "        5, 21, 14,  4, 20, 13, 11,  0, 16, 20, 21, 19, 13,  9, 14,  1, 17,\n",
       "        2,  3,  9,  4, 10, 17,  7,  7, 20,  3,  7, 18, 21, 18, 21, 12, 11,\n",
       "       12,  7, 18, 20,  9,  0,  4, 21,  0, 14,  5, 21, 14,  0,  9, 16,  7,\n",
       "       21,  4, 11, 19,  6,  0, 11,  8, 13,  6,  6, 18, 18, 13,  1,  0,  9,\n",
       "        6,  1,  3,  0, 11,  7, 16, 19,  2, 21, 13,  7,  0,  3, 16, 16, 15,\n",
       "        4,  8, 16,  6, 18,  6,  6, 12, 19,  3, 11, 13,  5,  9,  1,  4, 10,\n",
       "        8,  2,  5,  9, 14,  6, 17, 21,  4, 17,  2, 20, 13, 15, 13,  8, 14,\n",
       "       19, 18,  5,  5, 12,  8,  8,  6,  3,  3, 17, 13, 16,  0,  5, 14, 11,\n",
       "        3,  2, 10, 16,  9, 19, 17,  2, 12, 19,  8, 18, 13,  3, 15,  3, 10,\n",
       "       12,  4,  1,  5, 20, 12, 21, 21,  8,  4, 18, 17, 20, 16,  6,  2, 18,\n",
       "       12, 12,  2,  8, 16, 17, 11, 11,  6, 17, 15,  0,  5,  4, 21, 15, 15,\n",
       "        4,  3, 11, 14,  6, 15, 13, 20, 10, 20,  9,  7, 18, 10,  8,  7, 11,\n",
       "       11, 15, 12, 14,  1, 17, 20, 16,  3,  7,  1,  2, 14, 16, 15, 13, 14,\n",
       "       13,  7,  8, 15, 15, 11, 20, 19,  1,  1, 19,  4, 19, 17,  2, 21,  9,\n",
       "       14, 13,  4, 16, 21,  7,  0, 11, 16,  9,  2, 16, 18, 17, 16,  9, 10,\n",
       "        7,  8, 15, 15,  1,  2, 16, 15, 18,  7,  3, 12, 16,  5,  0,  6, 13,\n",
       "        2, 10, 16, 17,  6, 17, 10,  5,  0, 21,  1, 11, 19,  7,  8,  5, 19,\n",
       "        9, 13,  6,  3, 17, 19, 19, 21,  7,  6, 14, 21, 20,  6, 14,  9, 21,\n",
       "        1,  3,  5, 18, 13, 12, 14,  5, 20, 15, 18,  8, 21,  7,  2, 12, 21,\n",
       "        5, 20,  3,  4,  5, 14, 10,  8, 19, 18, 20,  6, 18,  1,  3,  1,  2,\n",
       "        9,  4,  7,  8, 17, 14, 11,  4,  3, 19, 15, 19,  7,  3,  9,  3,  2,\n",
       "        9,  5, 12,  7, 17,  4,  4,  0,  9, 11,  4,  1,  6, 15,  8, 20,  6,\n",
       "       19,  0,  9,  0, 12,  4, 11,  5, 12, 20, 14,  5, 19, 10,  5,  9,  7,\n",
       "       19,  9, 19, 20, 18,  3, 18, 10,  2, 12, 17, 18,  0,  6, 10,  7,  2,\n",
       "       17, 17, 18, 15, 17, 19,  1, 13, 14, 11, 14,  7, 18,  9,  0, 11,  0,\n",
       "       13,  5,  2,  5, 20,  3, 15, 14,  8,  3, 20,  9,  8, 12, 15, 16, 12,\n",
       "        1,  8, 15, 20, 21, 17,  7, 14,  5, 19,  6, 12, 10, 17, 21, 13, 12,\n",
       "        8, 20, 13, 10,  0, 18,  1,  2, 10, 10,  1, 12, 12,  0,  5, 21,  4,\n",
       "       18, 10, 10,  1,  2, 16,  1,  6,  4, 21,  0,  2, 14,  8, 11,  8, 19,\n",
       "       16, 19, 16,  9,  2, 18, 21,  1, 15, 20, 12, 17, 10, 11,  1,  9, 10,\n",
       "        2, 16,  8,  8, 17, 13,  0,  8,  2,  0, 11, 11, 13, 15,  1, 11,  3,\n",
       "       15,  3,  4,  4,  0, 14])"
      ]
     },
     "execution_count": 24,
     "metadata": {},
     "output_type": "execute_result"
    }
   ],
   "source": [
    "target"
   ]
  },
  {
   "cell_type": "code",
   "execution_count": 25,
   "metadata": {
    "id": "LctBMV4o4QXr"
   },
   "outputs": [],
   "source": [
    "target = le.inverse_transform(target)"
   ]
  },
  {
   "cell_type": "code",
   "execution_count": 26,
   "metadata": {
    "colab": {
     "base_uri": "https://localhost:8080/"
    },
    "id": "L6CX8ylr4dIM",
    "outputId": "ff54fcd2-50e7-4edd-b89f-54e3ae3fb7b4"
   },
   "outputs": [
    {
     "data": {
      "text/plain": [
       "array(['mothbeans', 'cotton', 'mango', 'lentil', 'mungbean', 'coffee',\n",
       "       'lentil', 'cotton', 'lentil', 'lentil', 'jute', 'mothbeans',\n",
       "       'orange', 'banana', 'coconut', 'muskmelon', 'grapes', 'coffee',\n",
       "       'watermelon', 'mungbean', 'coconut', 'rice', 'mothbeans', 'maize',\n",
       "       'apple', 'orange', 'rice', 'watermelon', 'pomegranate',\n",
       "       'mothbeans', 'kidneybeans', 'mungbean', 'banana', 'papaya',\n",
       "       'blackgram', 'chickpea', 'kidneybeans', 'coconut', 'lentil',\n",
       "       'papaya', 'grapes', 'grapes', 'rice', 'chickpea', 'grapes',\n",
       "       'pigeonpeas', 'watermelon', 'pigeonpeas', 'watermelon', 'mango',\n",
       "       'maize', 'mango', 'grapes', 'pigeonpeas', 'rice', 'kidneybeans',\n",
       "       'apple', 'coconut', 'watermelon', 'apple', 'mungbean', 'coffee',\n",
       "       'watermelon', 'mungbean', 'apple', 'kidneybeans', 'orange',\n",
       "       'grapes', 'watermelon', 'coconut', 'maize', 'pomegranate',\n",
       "       'cotton', 'apple', 'maize', 'jute', 'mothbeans', 'cotton',\n",
       "       'cotton', 'pigeonpeas', 'pigeonpeas', 'mothbeans', 'banana',\n",
       "       'apple', 'kidneybeans', 'cotton', 'banana', 'chickpea', 'apple',\n",
       "       'maize', 'grapes', 'orange', 'pomegranate', 'blackgram',\n",
       "       'watermelon', 'mothbeans', 'grapes', 'apple', 'chickpea', 'orange',\n",
       "       'orange', 'muskmelon', 'coconut', 'jute', 'orange', 'cotton',\n",
       "       'pigeonpeas', 'cotton', 'cotton', 'mango', 'pomegranate',\n",
       "       'chickpea', 'maize', 'mothbeans', 'coffee', 'kidneybeans',\n",
       "       'banana', 'coconut', 'lentil', 'jute', 'blackgram', 'coffee',\n",
       "       'kidneybeans', 'mungbean', 'cotton', 'papaya', 'watermelon',\n",
       "       'coconut', 'papaya', 'blackgram', 'rice', 'mothbeans', 'muskmelon',\n",
       "       'mothbeans', 'jute', 'mungbean', 'pomegranate', 'pigeonpeas',\n",
       "       'coffee', 'coffee', 'mango', 'jute', 'jute', 'cotton', 'chickpea',\n",
       "       'chickpea', 'papaya', 'mothbeans', 'orange', 'apple', 'coffee',\n",
       "       'mungbean', 'maize', 'chickpea', 'blackgram', 'lentil', 'orange',\n",
       "       'kidneybeans', 'pomegranate', 'papaya', 'blackgram', 'mango',\n",
       "       'pomegranate', 'jute', 'pigeonpeas', 'mothbeans', 'chickpea',\n",
       "       'muskmelon', 'chickpea', 'lentil', 'mango', 'coconut', 'banana',\n",
       "       'coffee', 'rice', 'mango', 'watermelon', 'watermelon', 'jute',\n",
       "       'coconut', 'pigeonpeas', 'papaya', 'rice', 'orange', 'cotton',\n",
       "       'blackgram', 'pigeonpeas', 'mango', 'mango', 'blackgram', 'jute',\n",
       "       'orange', 'papaya', 'maize', 'maize', 'cotton', 'papaya',\n",
       "       'muskmelon', 'apple', 'coffee', 'coconut', 'watermelon',\n",
       "       'muskmelon', 'muskmelon', 'coconut', 'chickpea', 'maize',\n",
       "       'mungbean', 'cotton', 'muskmelon', 'mothbeans', 'rice', 'lentil',\n",
       "       'rice', 'kidneybeans', 'grapes', 'pigeonpeas', 'lentil', 'jute',\n",
       "       'grapes', 'maize', 'maize', 'muskmelon', 'mango', 'mungbean',\n",
       "       'banana', 'papaya', 'rice', 'orange', 'chickpea', 'grapes',\n",
       "       'banana', 'blackgram', 'mungbean', 'orange', 'muskmelon',\n",
       "       'mothbeans', 'mungbean', 'mothbeans', 'grapes', 'jute',\n",
       "       'muskmelon', 'muskmelon', 'maize', 'rice', 'pomegranate', 'banana',\n",
       "       'banana', 'pomegranate', 'coconut', 'pomegranate', 'papaya',\n",
       "       'blackgram', 'watermelon', 'kidneybeans', 'mungbean', 'mothbeans',\n",
       "       'coconut', 'orange', 'watermelon', 'grapes', 'apple', 'maize',\n",
       "       'orange', 'kidneybeans', 'blackgram', 'orange', 'pigeonpeas',\n",
       "       'papaya', 'orange', 'kidneybeans', 'lentil', 'grapes', 'jute',\n",
       "       'muskmelon', 'muskmelon', 'banana', 'blackgram', 'orange',\n",
       "       'muskmelon', 'pigeonpeas', 'grapes', 'chickpea', 'mango', 'orange',\n",
       "       'coffee', 'apple', 'cotton', 'mothbeans', 'blackgram', 'lentil',\n",
       "       'orange', 'papaya', 'cotton', 'papaya', 'lentil', 'coffee',\n",
       "       'apple', 'watermelon', 'banana', 'maize', 'pomegranate', 'grapes',\n",
       "       'jute', 'coffee', 'pomegranate', 'kidneybeans', 'mothbeans',\n",
       "       'cotton', 'chickpea', 'papaya', 'pomegranate', 'pomegranate',\n",
       "       'watermelon', 'grapes', 'cotton', 'mungbean', 'watermelon', 'rice',\n",
       "       'cotton', 'mungbean', 'kidneybeans', 'watermelon', 'banana',\n",
       "       'chickpea', 'coffee', 'pigeonpeas', 'mothbeans', 'mango',\n",
       "       'mungbean', 'coffee', 'rice', 'muskmelon', 'pigeonpeas', 'jute',\n",
       "       'watermelon', 'grapes', 'blackgram', 'mango', 'watermelon',\n",
       "       'coffee', 'rice', 'chickpea', 'coconut', 'coffee', 'mungbean',\n",
       "       'lentil', 'jute', 'pomegranate', 'pigeonpeas', 'rice', 'cotton',\n",
       "       'pigeonpeas', 'banana', 'chickpea', 'banana', 'blackgram',\n",
       "       'kidneybeans', 'coconut', 'grapes', 'jute', 'papaya', 'mungbean',\n",
       "       'maize', 'coconut', 'chickpea', 'pomegranate', 'muskmelon',\n",
       "       'pomegranate', 'grapes', 'chickpea', 'kidneybeans', 'chickpea',\n",
       "       'blackgram', 'kidneybeans', 'coffee', 'mango', 'grapes', 'papaya',\n",
       "       'coconut', 'coconut', 'apple', 'kidneybeans', 'maize', 'coconut',\n",
       "       'banana', 'cotton', 'muskmelon', 'jute', 'rice', 'cotton',\n",
       "       'pomegranate', 'apple', 'kidneybeans', 'apple', 'mango', 'coconut',\n",
       "       'maize', 'coffee', 'mango', 'rice', 'mungbean', 'coffee',\n",
       "       'pomegranate', 'lentil', 'coffee', 'kidneybeans', 'grapes',\n",
       "       'pomegranate', 'kidneybeans', 'pomegranate', 'rice', 'pigeonpeas',\n",
       "       'chickpea', 'pigeonpeas', 'lentil', 'blackgram', 'mango', 'papaya',\n",
       "       'pigeonpeas', 'apple', 'cotton', 'lentil', 'grapes', 'blackgram',\n",
       "       'papaya', 'papaya', 'pigeonpeas', 'muskmelon', 'papaya',\n",
       "       'pomegranate', 'banana', 'mothbeans', 'mungbean', 'maize',\n",
       "       'mungbean', 'grapes', 'pigeonpeas', 'kidneybeans', 'apple',\n",
       "       'maize', 'apple', 'mothbeans', 'coffee', 'blackgram', 'coffee',\n",
       "       'rice', 'chickpea', 'muskmelon', 'mungbean', 'jute', 'chickpea',\n",
       "       'rice', 'kidneybeans', 'jute', 'mango', 'muskmelon', 'orange',\n",
       "       'mango', 'banana', 'jute', 'muskmelon', 'rice', 'watermelon',\n",
       "       'papaya', 'grapes', 'mungbean', 'coffee', 'pomegranate', 'cotton',\n",
       "       'mango', 'lentil', 'papaya', 'watermelon', 'mothbeans', 'mango',\n",
       "       'jute', 'rice', 'mothbeans', 'lentil', 'apple', 'pigeonpeas',\n",
       "       'banana', 'blackgram', 'lentil', 'lentil', 'banana', 'mango',\n",
       "       'mango', 'apple', 'coffee', 'watermelon', 'coconut', 'pigeonpeas',\n",
       "       'lentil', 'lentil', 'banana', 'blackgram', 'orange', 'banana',\n",
       "       'cotton', 'coconut', 'watermelon', 'apple', 'blackgram',\n",
       "       'mungbean', 'jute', 'maize', 'jute', 'pomegranate', 'orange',\n",
       "       'pomegranate', 'orange', 'kidneybeans', 'blackgram', 'pigeonpeas',\n",
       "       'watermelon', 'banana', 'muskmelon', 'rice', 'mango', 'papaya',\n",
       "       'lentil', 'maize', 'banana', 'kidneybeans', 'lentil', 'blackgram',\n",
       "       'orange', 'jute', 'jute', 'papaya', 'mothbeans', 'apple', 'jute',\n",
       "       'blackgram', 'apple', 'maize', 'maize', 'mothbeans', 'muskmelon',\n",
       "       'banana', 'maize', 'chickpea', 'muskmelon', 'chickpea', 'coconut',\n",
       "       'coconut', 'apple', 'mungbean'], dtype=object)"
      ]
     },
     "execution_count": 26,
     "metadata": {},
     "output_type": "execute_result"
    }
   ],
   "source": [
    "target"
   ]
  },
  {
   "cell_type": "markdown",
   "metadata": {
    "id": "iH2U3r7CC99s"
   },
   "source": [
    "## Saving prediciton results \n"
   ]
  },
  {
   "cell_type": "code",
   "execution_count": 27,
   "metadata": {
    "id": "jyT2vAGIDjnF"
   },
   "outputs": [],
   "source": [
    "res = pd.DataFrame(target) \n",
    "res.columns = [\"prediction\"]\n",
    "res.to_csv(\"submission.csv\", index = False)"
   ]
  }
 ],
 "metadata": {
  "colab": {
   "collapsed_sections": [],
   "name": "Data_Sprint_26_Crop_Recommendation.ipynb",
   "provenance": []
  },
  "kernelspec": {
   "display_name": "Python 3",
   "language": "python",
   "name": "python3"
  },
  "language_info": {
   "codemirror_mode": {
    "name": "ipython",
    "version": 3
   },
   "file_extension": ".py",
   "mimetype": "text/x-python",
   "name": "python",
   "nbconvert_exporter": "python",
   "pygments_lexer": "ipython3",
   "version": "3.8.6"
  }
 },
 "nbformat": 4,
 "nbformat_minor": 1
}
