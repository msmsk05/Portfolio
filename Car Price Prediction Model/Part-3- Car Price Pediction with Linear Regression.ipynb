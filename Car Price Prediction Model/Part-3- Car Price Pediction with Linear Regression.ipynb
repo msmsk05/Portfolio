{
 "cells": [
  {
   "cell_type": "markdown",
   "metadata": {},
   "source": [
    "## Car Price Prediction Model"
   ]
  },
  {
   "cell_type": "code",
   "execution_count": 2,
   "metadata": {},
   "outputs": [],
   "source": [
    "import numpy as np\n",
    "import pandas as pd\n",
    "import seaborn as sns\n",
    "import matplotlib.pyplot as plt\n",
    "%matplotlib inline"
   ]
  },
  {
   "cell_type": "code",
   "execution_count": 3,
   "metadata": {},
   "outputs": [],
   "source": [
    "df=pd.read_csv(\"scout_car_ready.csv\")"
   ]
  },
  {
   "cell_type": "code",
   "execution_count": 4,
   "metadata": {},
   "outputs": [
    {
     "data": {
      "text/html": [
       "<div>\n",
       "<style scoped>\n",
       "    .dataframe tbody tr th:only-of-type {\n",
       "        vertical-align: middle;\n",
       "    }\n",
       "\n",
       "    .dataframe tbody tr th {\n",
       "        vertical-align: top;\n",
       "    }\n",
       "\n",
       "    .dataframe thead th {\n",
       "        text-align: right;\n",
       "    }\n",
       "</style>\n",
       "<table border=\"1\" class=\"dataframe\">\n",
       "  <thead>\n",
       "    <tr style=\"text-align: right;\">\n",
       "      <th></th>\n",
       "      <th>price</th>\n",
       "      <th>km</th>\n",
       "      <th>gears</th>\n",
       "      <th>previous_owner</th>\n",
       "      <th>inspection_new_bool</th>\n",
       "      <th>cc_air conditioning</th>\n",
       "      <th>cc_air suspension</th>\n",
       "      <th>cc_armrest</th>\n",
       "      <th>cc_automatic climate control</th>\n",
       "      <th>cc_auxiliary heating</th>\n",
       "      <th>...</th>\n",
       "      <th>body_color_Grey</th>\n",
       "      <th>body_color_Orange</th>\n",
       "      <th>body_color_Red</th>\n",
       "      <th>body_color_Silver</th>\n",
       "      <th>body_color_Violet</th>\n",
       "      <th>body_color_White</th>\n",
       "      <th>body_color_Yellow</th>\n",
       "      <th>fuel_new_Benzine</th>\n",
       "      <th>fuel_new_Diesel</th>\n",
       "      <th>fuel_new_LPG/CNG</th>\n",
       "    </tr>\n",
       "  </thead>\n",
       "  <tbody>\n",
       "    <tr>\n",
       "      <th>0</th>\n",
       "      <td>15770</td>\n",
       "      <td>56013.0</td>\n",
       "      <td>6.0</td>\n",
       "      <td>2</td>\n",
       "      <td>1</td>\n",
       "      <td>1</td>\n",
       "      <td>0</td>\n",
       "      <td>1</td>\n",
       "      <td>1</td>\n",
       "      <td>0</td>\n",
       "      <td>...</td>\n",
       "      <td>0</td>\n",
       "      <td>0</td>\n",
       "      <td>0</td>\n",
       "      <td>0</td>\n",
       "      <td>0</td>\n",
       "      <td>0</td>\n",
       "      <td>0</td>\n",
       "      <td>0</td>\n",
       "      <td>1</td>\n",
       "      <td>0</td>\n",
       "    </tr>\n",
       "    <tr>\n",
       "      <th>1</th>\n",
       "      <td>14500</td>\n",
       "      <td>80000.0</td>\n",
       "      <td>7.0</td>\n",
       "      <td>1</td>\n",
       "      <td>0</td>\n",
       "      <td>1</td>\n",
       "      <td>0</td>\n",
       "      <td>0</td>\n",
       "      <td>1</td>\n",
       "      <td>0</td>\n",
       "      <td>...</td>\n",
       "      <td>0</td>\n",
       "      <td>0</td>\n",
       "      <td>1</td>\n",
       "      <td>0</td>\n",
       "      <td>0</td>\n",
       "      <td>0</td>\n",
       "      <td>0</td>\n",
       "      <td>1</td>\n",
       "      <td>0</td>\n",
       "      <td>0</td>\n",
       "    </tr>\n",
       "    <tr>\n",
       "      <th>2</th>\n",
       "      <td>14640</td>\n",
       "      <td>83450.0</td>\n",
       "      <td>6.0</td>\n",
       "      <td>1</td>\n",
       "      <td>0</td>\n",
       "      <td>1</td>\n",
       "      <td>0</td>\n",
       "      <td>0</td>\n",
       "      <td>0</td>\n",
       "      <td>0</td>\n",
       "      <td>...</td>\n",
       "      <td>0</td>\n",
       "      <td>0</td>\n",
       "      <td>0</td>\n",
       "      <td>0</td>\n",
       "      <td>0</td>\n",
       "      <td>0</td>\n",
       "      <td>0</td>\n",
       "      <td>0</td>\n",
       "      <td>1</td>\n",
       "      <td>0</td>\n",
       "    </tr>\n",
       "    <tr>\n",
       "      <th>3</th>\n",
       "      <td>14500</td>\n",
       "      <td>73000.0</td>\n",
       "      <td>6.0</td>\n",
       "      <td>1</td>\n",
       "      <td>0</td>\n",
       "      <td>0</td>\n",
       "      <td>1</td>\n",
       "      <td>1</td>\n",
       "      <td>0</td>\n",
       "      <td>1</td>\n",
       "      <td>...</td>\n",
       "      <td>0</td>\n",
       "      <td>0</td>\n",
       "      <td>0</td>\n",
       "      <td>0</td>\n",
       "      <td>0</td>\n",
       "      <td>0</td>\n",
       "      <td>0</td>\n",
       "      <td>0</td>\n",
       "      <td>1</td>\n",
       "      <td>0</td>\n",
       "    </tr>\n",
       "    <tr>\n",
       "      <th>4</th>\n",
       "      <td>16790</td>\n",
       "      <td>16200.0</td>\n",
       "      <td>6.0</td>\n",
       "      <td>1</td>\n",
       "      <td>1</td>\n",
       "      <td>1</td>\n",
       "      <td>0</td>\n",
       "      <td>1</td>\n",
       "      <td>1</td>\n",
       "      <td>0</td>\n",
       "      <td>...</td>\n",
       "      <td>0</td>\n",
       "      <td>0</td>\n",
       "      <td>0</td>\n",
       "      <td>0</td>\n",
       "      <td>0</td>\n",
       "      <td>0</td>\n",
       "      <td>0</td>\n",
       "      <td>0</td>\n",
       "      <td>1</td>\n",
       "      <td>0</td>\n",
       "    </tr>\n",
       "  </tbody>\n",
       "</table>\n",
       "<p>5 rows × 153 columns</p>\n",
       "</div>"
      ],
      "text/plain": [
       "   price       km  gears  previous_owner  inspection_new_bool  \\\n",
       "0  15770  56013.0    6.0               2                    1   \n",
       "1  14500  80000.0    7.0               1                    0   \n",
       "2  14640  83450.0    6.0               1                    0   \n",
       "3  14500  73000.0    6.0               1                    0   \n",
       "4  16790  16200.0    6.0               1                    1   \n",
       "\n",
       "   cc_air conditioning  cc_air suspension  cc_armrest  \\\n",
       "0                    1                  0           1   \n",
       "1                    1                  0           0   \n",
       "2                    1                  0           0   \n",
       "3                    0                  1           1   \n",
       "4                    1                  0           1   \n",
       "\n",
       "   cc_automatic climate control  cc_auxiliary heating  ...  body_color_Grey  \\\n",
       "0                             1                     0  ...                0   \n",
       "1                             1                     0  ...                0   \n",
       "2                             0                     0  ...                0   \n",
       "3                             0                     1  ...                0   \n",
       "4                             1                     0  ...                0   \n",
       "\n",
       "   body_color_Orange  body_color_Red  body_color_Silver  body_color_Violet  \\\n",
       "0                  0               0                  0                  0   \n",
       "1                  0               1                  0                  0   \n",
       "2                  0               0                  0                  0   \n",
       "3                  0               0                  0                  0   \n",
       "4                  0               0                  0                  0   \n",
       "\n",
       "   body_color_White  body_color_Yellow  fuel_new_Benzine  fuel_new_Diesel  \\\n",
       "0                 0                  0                 0                1   \n",
       "1                 0                  0                 1                0   \n",
       "2                 0                  0                 0                1   \n",
       "3                 0                  0                 0                1   \n",
       "4                 0                  0                 0                1   \n",
       "\n",
       "   fuel_new_LPG/CNG  \n",
       "0                 0  \n",
       "1                 0  \n",
       "2                 0  \n",
       "3                 0  \n",
       "4                 0  \n",
       "\n",
       "[5 rows x 153 columns]"
      ]
     },
     "execution_count": 4,
     "metadata": {},
     "output_type": "execute_result"
    }
   ],
   "source": [
    "df.head()"
   ]
  },
  {
   "cell_type": "code",
   "execution_count": null,
   "metadata": {},
   "outputs": [],
   "source": []
  },
  {
   "cell_type": "code",
   "execution_count": 9,
   "metadata": {},
   "outputs": [],
   "source": [
    "X = df[['km',\n",
    " 'gears',\n",
    " 'previous_owner',\n",
    " 'inspection_new_bool',\n",
    " 'cc_air conditioning',\n",
    " 'cc_air suspension',\n",
    " 'cc_armrest',\n",
    " 'cc_automatic climate control',\n",
    " 'cc_auxiliary heating',\n",
    " 'cc_cruise control',\n",
    " 'cc_electric starter',\n",
    " 'cc_electric tailgate',\n",
    " 'cc_electrical side mirrors',\n",
    " 'cc_electrically adjustable seats',\n",
    " 'cc_electrically heated windshield',\n",
    " 'cc_heads-up display',\n",
    " 'cc_heated steering wheel',\n",
    " 'cc_hill holder',\n",
    " 'cc_keyless central door lock',\n",
    " 'cc_leather seats',\n",
    " 'cc_leather steering wheel',\n",
    " 'cc_light sensor',\n",
    " 'cc_lumbar support',\n",
    " 'cc_massage seats',\n",
    " 'cc_multi-function steering wheel',\n",
    " 'cc_navigation system',\n",
    " 'cc_panorama roof',\n",
    " 'cc_park distance control',\n",
    " 'cc_parking assist system camera',\n",
    " 'cc_parking assist system self-steering',\n",
    " 'cc_parking assist system sensors front',\n",
    " 'cc_parking assist system sensors rear',\n",
    " 'cc_power windows',\n",
    " 'cc_rain sensor',\n",
    " 'cc_seat heating',\n",
    " 'cc_seat ventilation',\n",
    " 'cc_split rear seats',\n",
    " 'cc_start-stop system',\n",
    " 'cc_sunroof',\n",
    " 'cc_tinted windows',\n",
    " 'cc_wind deflector',\n",
    " 'cc_windshield',\n",
    " 'em_bluetooth',\n",
    " 'em_cd player',\n",
    " 'em_digital radio',\n",
    " 'em_hands-free equipment',\n",
    " 'em_mp3',\n",
    " 'em_on-board computer',\n",
    " 'em_radio',\n",
    " 'em_sound system',\n",
    " 'em_television',\n",
    " 'em_usb',\n",
    " 'ex_alloy wheels',\n",
    " 'ex_cab or rented car',\n",
    " 'ex_catalytic converter',\n",
    " 'ex_handicapped enabled',\n",
    " 'ex_right hand drive',\n",
    " 'ex_roof rack',\n",
    " 'ex_shift paddles',\n",
    " 'ex_ski bag',\n",
    " 'ex_sliding door',\n",
    " 'ex_sport package',\n",
    " 'ex_sport seats',\n",
    " 'ex_sport suspension',\n",
    " 'ex_touch screen',\n",
    " 'ex_trailer hitch',\n",
    " 'ex_tuned car',\n",
    " 'ex_voice control',\n",
    " 'ex_winter tyres',\n",
    " 'ss_abs',\n",
    " 'ss_adaptive cruise control',\n",
    " 'ss_adaptive headlights',\n",
    " 'ss_alarm system',\n",
    " 'ss_blind spot monitor',\n",
    " 'ss_central door lock',\n",
    " 'ss_central door lock with remote control',\n",
    " 'ss_daytime running lights',\n",
    " 'ss_driver drowsiness detection',\n",
    " 'ss_driver-side airbag',\n",
    " 'ss_electronic stability control',\n",
    " 'ss_emergency brake assistant',\n",
    " 'ss_emergency system',\n",
    " 'ss_fog lights',\n",
    " 'ss_head airbag',\n",
    " 'ss_immobilizer',\n",
    " 'ss_isofix',\n",
    " 'ss_led daytime running lights',\n",
    " 'ss_led headlights',\n",
    " 'ss_lane departure warning system',\n",
    " 'ss_night view assist',\n",
    " 'ss_passenger-side airbag',\n",
    " 'ss_power steering',\n",
    " 'ss_rear airbag',\n",
    " 'ss_side airbag',\n",
    " 'ss_tire pressure monitoring system',\n",
    " 'ss_traction control',\n",
    " 'ss_traffic sign recognition',\n",
    " 'ss_xenon headlights',\n",
    " 'consumption_comb',\n",
    " 'displacement_cc',\n",
    " 'register_age',\n",
    " 'nr_doors',\n",
    " 'nr_seats',\n",
    " 'hp_kw',\n",
    " 'make_model_Audi A1',\n",
    " 'make_model_Audi A2',\n",
    " 'make_model_Audi A3',\n",
    " 'make_model_Opel Astra',\n",
    " 'make_model_Opel Corsa',\n",
    " 'make_model_Opel Insignia',\n",
    " 'make_model_Renault Clio',\n",
    " 'make_model_Renault Duster',\n",
    " 'make_model_Renault Espace',\n",
    " 'body_type_Compact',\n",
    " 'body_type_Convertible',\n",
    " 'body_type_Coupe',\n",
    " 'body_type_Off-Road',\n",
    " 'body_type_Sedans',\n",
    " 'body_type_Station wagon',\n",
    " 'body_type_Transporter',\n",
    " 'body_type_Van',\n",
    " 'vat_Price negotiable',\n",
    " 'vat_VAT deductible',\n",
    " 'type_Demonstration',\n",
    " \"type_Employee's car\",\n",
    " 'type_New',\n",
    " 'type_Pre-registered',\n",
    " 'type_Used',\n",
    " 'upholstery_Cloth',\n",
    " 'upholstery_Part/Full Leather',\n",
    " 'gear_type_Automatic',\n",
    " 'gear_type_Manual',\n",
    " 'gear_type_Semi-automatic',\n",
    " 'drive_chain_4WD',\n",
    " 'drive_chain_front',\n",
    " 'drive_chain_rear',\n",
    " 'body_color_Beige',\n",
    " 'body_color_Black',\n",
    " 'body_color_Blue',\n",
    " 'body_color_Bronze',\n",
    " 'body_color_Brown',\n",
    " 'body_color_Green',\n",
    " 'body_color_Grey',\n",
    " 'body_color_Orange',\n",
    " 'body_color_Red',\n",
    " 'body_color_Silver',\n",
    " 'body_color_Violet',\n",
    " 'body_color_White',\n",
    " 'body_color_Yellow',\n",
    " 'fuel_new_Benzine',\n",
    " 'fuel_new_Diesel',\n",
    " 'fuel_new_LPG/CNG']]"
   ]
  },
  {
   "cell_type": "code",
   "execution_count": 10,
   "metadata": {},
   "outputs": [],
   "source": [
    "y=df[\"price\"]"
   ]
  },
  {
   "cell_type": "code",
   "execution_count": 11,
   "metadata": {},
   "outputs": [],
   "source": [
    "from sklearn.model_selection import train_test_split"
   ]
  },
  {
   "cell_type": "code",
   "execution_count": 12,
   "metadata": {},
   "outputs": [],
   "source": [
    "X_train, X_test, y_train, y_test = train_test_split(X, y, test_size=0.33, random_state=101)"
   ]
  },
  {
   "cell_type": "code",
   "execution_count": 13,
   "metadata": {},
   "outputs": [],
   "source": [
    "from sklearn.linear_model import LinearRegression"
   ]
  },
  {
   "cell_type": "code",
   "execution_count": 14,
   "metadata": {},
   "outputs": [],
   "source": [
    "lm = LinearRegression()"
   ]
  },
  {
   "cell_type": "code",
   "execution_count": 15,
   "metadata": {},
   "outputs": [
    {
     "data": {
      "text/plain": [
       "LinearRegression(copy_X=True, fit_intercept=True, n_jobs=None, normalize=False)"
      ]
     },
     "execution_count": 15,
     "metadata": {},
     "output_type": "execute_result"
    }
   ],
   "source": [
    "lm.fit(X_train, y_train)"
   ]
  },
  {
   "cell_type": "code",
   "execution_count": 16,
   "metadata": {},
   "outputs": [
    {
     "name": "stdout",
     "output_type": "stream",
     "text": [
      "11886.712934764599\n"
     ]
    }
   ],
   "source": [
    "print(lm.intercept_)"
   ]
  },
  {
   "cell_type": "code",
   "execution_count": 17,
   "metadata": {},
   "outputs": [
    {
     "data": {
      "text/plain": [
       "array([-3.95586503e-02,  5.28608098e+02, -1.87515712e+01, -2.08187720e+02,\n",
       "        1.12944742e+01, -4.38812310e+02,  7.13603334e+01,  2.67953101e+02,\n",
       "       -2.46915036e+02,  2.64999628e+02,  1.31768729e-09, -1.46611724e+02,\n",
       "        1.77609737e+02,  2.99492793e+02,  4.48224855e+02,  2.39830955e+03,\n",
       "        4.58389663e+02,  2.08735374e+02,  9.94790007e+00, -4.45455998e+02,\n",
       "        1.33745685e+02,  5.82073287e+01, -3.68085290e+02,  3.73761962e+02,\n",
       "        3.89930767e+01,  3.80211468e+02, -2.91235570e+02,  5.58130548e+02,\n",
       "        2.01737208e+02,  1.11757714e+03,  1.90988601e+02, -4.01069850e+02,\n",
       "        7.15996685e+01, -1.32012549e+02,  1.39921954e+01,  7.76608599e+02,\n",
       "       -2.88226868e+02, -6.70838496e+01,  6.97893563e+02, -3.24958591e+01,\n",
       "       -5.04806043e+02,  1.22643573e+02, -5.64652661e+02,  1.19455441e+01,\n",
       "        8.17190620e+02,  1.97503130e+02, -1.78113972e+02, -4.96607048e+01,\n",
       "        3.01980230e+02, -1.82019697e+02, -3.86216064e+02, -2.45319490e+02,\n",
       "        1.00767000e+02,  3.67450676e+00,  6.41880074e+01, -1.38492017e+02,\n",
       "       -2.17263933e+03,  1.24865249e+02,  1.47481505e+01, -6.02491773e+02,\n",
       "        2.54374804e+03,  5.60334146e+02,  2.16189623e+02, -8.73914442e+01,\n",
       "       -3.21894494e+02,  6.19901376e+00,  3.08192667e+03, -2.08518925e+02,\n",
       "       -1.36739739e+02, -4.45142376e+01,  1.28517952e+02,  9.27836639e+01,\n",
       "        1.78354977e+02, -3.48211070e+02, -3.34323465e+02, -3.33170265e+01,\n",
       "       -2.23061299e+02, -9.99367041e+01, -3.62733985e+01, -2.50172574e+02,\n",
       "        1.47450855e+02, -7.74636056e+02, -1.75228215e+02, -1.40041790e+02,\n",
       "       -1.91933938e+02, -2.77666298e+02, -6.78594357e+01,  8.29334680e+02,\n",
       "        7.82626934e+02,  2.55215703e+02,  3.78029793e+02, -6.48071770e+02,\n",
       "       -6.62789404e+02,  1.65376593e+02,  6.67800851e+01,  2.09569598e+02,\n",
       "       -9.30386210e+01, -3.12552723e+02,  2.21271509e+02, -8.04601893e-01,\n",
       "       -1.35932823e+03,  4.06873401e+02, -7.78996959e+01,  8.92176348e+01,\n",
       "        2.06433493e+03,  9.14221431e+03,  3.07773692e+03, -2.29090940e+03,\n",
       "       -3.41109128e+03, -3.70840038e+02, -3.71933021e+03, -8.93386336e+03,\n",
       "        4.44174813e+03, -9.97286050e+02,  5.32315014e+03, -9.38264463e+02,\n",
       "        8.45557499e+01, -9.42436687e+02, -8.64553570e+02, -1.98447958e+03,\n",
       "        3.19314464e+02, -9.62316254e+01,  9.62316254e+01,  1.95757810e+03,\n",
       "       -9.19393393e+02, -3.56468022e+01, -1.99401324e+02, -8.03136583e+02,\n",
       "       -1.82246399e+02,  1.82246399e+02, -2.45905733e+02, -1.67192528e+03,\n",
       "        1.91783101e+03,  1.93486668e+03, -1.75637002e+02, -1.75922968e+03,\n",
       "        1.57196802e+02,  6.89014502e+02,  4.71991616e+02,  3.39865303e+02,\n",
       "       -5.10602766e+01,  3.36890591e+02,  7.21172756e+02, -2.78409232e+03,\n",
       "        2.50968254e+02,  3.56899071e+02, -2.45872792e+03,  7.03040478e+02,\n",
       "        1.26684114e+03, -4.30634529e+02,  4.26214934e+02,  4.41959463e+00])"
      ]
     },
     "execution_count": 17,
     "metadata": {},
     "output_type": "execute_result"
    }
   ],
   "source": [
    "lm.coef_"
   ]
  },
  {
   "cell_type": "code",
   "execution_count": 19,
   "metadata": {},
   "outputs": [
    {
     "data": {
      "text/plain": [
       "Index(['km', 'gears', 'previous_owner', 'inspection_new_bool',\n",
       "       'cc_air conditioning', 'cc_air suspension', 'cc_armrest',\n",
       "       'cc_automatic climate control', 'cc_auxiliary heating',\n",
       "       'cc_cruise control',\n",
       "       ...\n",
       "       'body_color_Grey', 'body_color_Orange', 'body_color_Red',\n",
       "       'body_color_Silver', 'body_color_Violet', 'body_color_White',\n",
       "       'body_color_Yellow', 'fuel_new_Benzine', 'fuel_new_Diesel',\n",
       "       'fuel_new_LPG/CNG'],\n",
       "      dtype='object', length=152)"
      ]
     },
     "execution_count": 19,
     "metadata": {},
     "output_type": "execute_result"
    }
   ],
   "source": [
    "X.columns"
   ]
  },
  {
   "cell_type": "code",
   "execution_count": 21,
   "metadata": {},
   "outputs": [],
   "source": [
    "cdf=pd.DataFrame(lm.coef_,X.columns, columns=[\"Coeff\"])"
   ]
  },
  {
   "cell_type": "code",
   "execution_count": 22,
   "metadata": {},
   "outputs": [
    {
     "data": {
      "text/html": [
       "<div>\n",
       "<style scoped>\n",
       "    .dataframe tbody tr th:only-of-type {\n",
       "        vertical-align: middle;\n",
       "    }\n",
       "\n",
       "    .dataframe tbody tr th {\n",
       "        vertical-align: top;\n",
       "    }\n",
       "\n",
       "    .dataframe thead th {\n",
       "        text-align: right;\n",
       "    }\n",
       "</style>\n",
       "<table border=\"1\" class=\"dataframe\">\n",
       "  <thead>\n",
       "    <tr style=\"text-align: right;\">\n",
       "      <th></th>\n",
       "      <th>Coeff</th>\n",
       "    </tr>\n",
       "  </thead>\n",
       "  <tbody>\n",
       "    <tr>\n",
       "      <th>km</th>\n",
       "      <td>-0.039559</td>\n",
       "    </tr>\n",
       "    <tr>\n",
       "      <th>gears</th>\n",
       "      <td>528.608098</td>\n",
       "    </tr>\n",
       "    <tr>\n",
       "      <th>previous_owner</th>\n",
       "      <td>-18.751571</td>\n",
       "    </tr>\n",
       "    <tr>\n",
       "      <th>inspection_new_bool</th>\n",
       "      <td>-208.187720</td>\n",
       "    </tr>\n",
       "    <tr>\n",
       "      <th>cc_air conditioning</th>\n",
       "      <td>11.294474</td>\n",
       "    </tr>\n",
       "  </tbody>\n",
       "</table>\n",
       "</div>"
      ],
      "text/plain": [
       "                          Coeff\n",
       "km                    -0.039559\n",
       "gears                528.608098\n",
       "previous_owner       -18.751571\n",
       "inspection_new_bool -208.187720\n",
       "cc_air conditioning   11.294474"
      ]
     },
     "execution_count": 22,
     "metadata": {},
     "output_type": "execute_result"
    }
   ],
   "source": [
    "cdf.head()"
   ]
  },
  {
   "cell_type": "code",
   "execution_count": 25,
   "metadata": {},
   "outputs": [],
   "source": [
    "predictions = lm.predict(X_test)"
   ]
  },
  {
   "cell_type": "code",
   "execution_count": 26,
   "metadata": {},
   "outputs": [
    {
     "data": {
      "text/plain": [
       "array([16363.07248681, 13392.518421  ,  6330.89989938, ...,\n",
       "       16105.79564261, 21694.45085276,  4556.44961632])"
      ]
     },
     "execution_count": 26,
     "metadata": {},
     "output_type": "execute_result"
    }
   ],
   "source": [
    "predictions"
   ]
  },
  {
   "cell_type": "code",
   "execution_count": 27,
   "metadata": {},
   "outputs": [
    {
     "data": {
      "text/plain": [
       "7412     14990\n",
       "10181    10970\n",
       "6364      8450\n",
       "7246     14700\n",
       "12209    20280\n",
       "         ...  \n",
       "13203    13690\n",
       "15243    19450\n",
       "7468     14579\n",
       "10523    17980\n",
       "8604      6900\n",
       "Name: price, Length: 5252, dtype: int64"
      ]
     },
     "execution_count": 27,
     "metadata": {},
     "output_type": "execute_result"
    }
   ],
   "source": [
    "y_test"
   ]
  },
  {
   "cell_type": "code",
   "execution_count": 28,
   "metadata": {},
   "outputs": [
    {
     "data": {
      "text/plain": [
       "<matplotlib.collections.PathCollection at 0x24943809bc8>"
      ]
     },
     "execution_count": 28,
     "metadata": {},
     "output_type": "execute_result"
    },
    {
     "data": {
      "image/png": "[encoded data removed]",
      "text/plain": [
       "<Figure size 432x288 with 1 Axes>"
      ]
     },
     "metadata": {
      "needs_background": "light"
     },
     "output_type": "display_data"
    }
   ],
   "source": [
    "plt.scatter(y_test,predictions)"
   ]
  },
  {
   "cell_type": "code",
   "execution_count": 29,
   "metadata": {},
   "outputs": [
    {
     "data": {
      "text/plain": [
       "<matplotlib.axes._subplots.AxesSubplot at 0x249477f5e88>"
      ]
     },
     "execution_count": 29,
     "metadata": {},
     "output_type": "execute_result"
    },
    {
     "data": {
      "image/png": "[encoded data removed]",
      "text/plain": [
       "<Figure size 432x288 with 1 Axes>"
      ]
     },
     "metadata": {
      "needs_background": "light"
     },
     "output_type": "display_data"
    }
   ],
   "source": [
    "sns.distplot(y_test-predictions)"
   ]
  },
  {
   "cell_type": "code",
   "execution_count": 30,
   "metadata": {},
   "outputs": [],
   "source": [
    "from sklearn import metrics"
   ]
  },
  {
   "cell_type": "code",
   "execution_count": 31,
   "metadata": {},
   "outputs": [
    {
     "data": {
      "text/plain": [
       "1740.9626978917238"
      ]
     },
     "execution_count": 31,
     "metadata": {},
     "output_type": "execute_result"
    }
   ],
   "source": [
    "metrics.mean_absolute_error(y_test,predictions)"
   ]
  },
  {
   "cell_type": "code",
   "execution_count": 32,
   "metadata": {},
   "outputs": [
    {
     "data": {
      "text/plain": [
       "6271885.491892984"
      ]
     },
     "execution_count": 32,
     "metadata": {},
     "output_type": "execute_result"
    }
   ],
   "source": [
    "metrics.mean_squared_error(y_test,predictions)"
   ]
  },
  {
   "cell_type": "code",
   "execution_count": 33,
   "metadata": {},
   "outputs": [
    {
     "data": {
      "text/plain": [
       "2504.37327327477"
      ]
     },
     "execution_count": 33,
     "metadata": {},
     "output_type": "execute_result"
    }
   ],
   "source": [
    "np.sqrt(metrics.mean_squared_error(y_test,predictions))"
   ]
  },
  {
   "cell_type": "code",
   "execution_count": null,
   "metadata": {},
   "outputs": [],
   "source": []
  }
 ],
 "metadata": {
  "kernelspec": {
   "display_name": "Python 3",
   "language": "python",
   "name": "python3"
  },
  "language_info": {
   "codemirror_mode": {
    "name": "ipython",
    "version": 3
   },
   "file_extension": ".py",
   "mimetype": "text/x-python",
   "name": "python",
   "nbconvert_exporter": "python",
   "pygments_lexer": "ipython3",
   "version": "3.7.6"
  }
 },
 "nbformat": 4,
 "nbformat_minor": 4
}
