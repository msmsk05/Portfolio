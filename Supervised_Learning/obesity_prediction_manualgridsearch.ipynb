{
  "nbformat": 4,
  "nbformat_minor": 0,
  "metadata": {
    "colab": {
      "name": "obesity.ipynb",
      "provenance": [],
      "collapsed_sections": []
    },
    "kernelspec": {
      "name": "python3",
      "display_name": "Python 3"
    },
    "language_info": {
      "name": "python"
    }
  },
  "cells": [
    {
      "cell_type": "code",
      "metadata": {
        "id": "WZCpG5_mp8RY"
      },
      "source": [
        "import pandas as pd\n",
        "import numpy as np"
      ],
      "execution_count": 2,
      "outputs": []
    },
    {
      "cell_type": "code",
      "metadata": {
        "colab": {
          "base_uri": "https://localhost:8080/",
          "height": 301
        },
        "id": "IGUaSeprp_QK",
        "outputId": "4ec3500b-3a8d-485a-e73c-0dfd5c79f75e"
      },
      "source": [
        "df=pd.read_csv(\"Train_data.csv\")\n",
        "df.head(2)"
      ],
      "execution_count": 3,
      "outputs": [
        {
          "output_type": "execute_result",
          "data": {
            "text/html": [
              "<div>\n",
              "<style scoped>\n",
              "    .dataframe tbody tr th:only-of-type {\n",
              "        vertical-align: middle;\n",
              "    }\n",
              "\n",
              "    .dataframe tbody tr th {\n",
              "        vertical-align: top;\n",
              "    }\n",
              "\n",
              "    .dataframe thead th {\n",
              "        text-align: right;\n",
              "    }\n",
              "</style>\n",
              "<table border=\"1\" class=\"dataframe\">\n",
              "  <thead>\n",
              "    <tr style=\"text-align: right;\">\n",
              "      <th></th>\n",
              "      <th>YearStart</th>\n",
              "      <th>YearEnd</th>\n",
              "      <th>LocationAbbr</th>\n",
              "      <th>LocationDesc</th>\n",
              "      <th>Datasource</th>\n",
              "      <th>Topic</th>\n",
              "      <th>Question</th>\n",
              "      <th>Data_Value_Type</th>\n",
              "      <th>Data_Value</th>\n",
              "      <th>Low_Confidence_Limit</th>\n",
              "      <th>High_Confidence_Limit</th>\n",
              "      <th>Sample_Size</th>\n",
              "      <th>Total</th>\n",
              "      <th>Age(years)</th>\n",
              "      <th>Education</th>\n",
              "      <th>Gender</th>\n",
              "      <th>Income</th>\n",
              "      <th>Race/Ethnicity</th>\n",
              "      <th>GeoLocation</th>\n",
              "      <th>ClassID</th>\n",
              "      <th>TopicID</th>\n",
              "      <th>QuestionID</th>\n",
              "      <th>DataValueTypeID</th>\n",
              "      <th>LocationID</th>\n",
              "      <th>StratificationCategory1</th>\n",
              "      <th>Stratification1</th>\n",
              "      <th>StratificationCategoryId1</th>\n",
              "      <th>StratificationID1</th>\n",
              "      <th>Class</th>\n",
              "    </tr>\n",
              "  </thead>\n",
              "  <tbody>\n",
              "    <tr>\n",
              "      <th>0</th>\n",
              "      <td>2011</td>\n",
              "      <td>2011</td>\n",
              "      <td>AL</td>\n",
              "      <td>Alabama</td>\n",
              "      <td>Behavioral Risk Factor Surveillance System</td>\n",
              "      <td>Obesity / Weight Status</td>\n",
              "      <td>Percent of adults aged 18 years and older who ...</td>\n",
              "      <td>Value</td>\n",
              "      <td>32.0</td>\n",
              "      <td>30.5</td>\n",
              "      <td>33.5</td>\n",
              "      <td>7304.0</td>\n",
              "      <td>Total</td>\n",
              "      <td>NaN</td>\n",
              "      <td>NaN</td>\n",
              "      <td>NaN</td>\n",
              "      <td>NaN</td>\n",
              "      <td>NaN</td>\n",
              "      <td>(32.84057112200048, -86.63186076199969)</td>\n",
              "      <td>OWS</td>\n",
              "      <td>OWS1</td>\n",
              "      <td>Q036</td>\n",
              "      <td>VALUE</td>\n",
              "      <td>1.0</td>\n",
              "      <td>Total</td>\n",
              "      <td>Total</td>\n",
              "      <td>OVR</td>\n",
              "      <td>OVERALL</td>\n",
              "      <td>Obesity / Weight Status</td>\n",
              "    </tr>\n",
              "    <tr>\n",
              "      <th>1</th>\n",
              "      <td>2011</td>\n",
              "      <td>2011</td>\n",
              "      <td>AL</td>\n",
              "      <td>Alabama</td>\n",
              "      <td>Behavioral Risk Factor Surveillance System</td>\n",
              "      <td>Obesity / Weight Status</td>\n",
              "      <td>Percent of adults aged 18 years and older who ...</td>\n",
              "      <td>Value</td>\n",
              "      <td>32.3</td>\n",
              "      <td>29.9</td>\n",
              "      <td>34.7</td>\n",
              "      <td>2581.0</td>\n",
              "      <td>NaN</td>\n",
              "      <td>NaN</td>\n",
              "      <td>NaN</td>\n",
              "      <td>Male</td>\n",
              "      <td>NaN</td>\n",
              "      <td>NaN</td>\n",
              "      <td>(32.84057112200048, -86.63186076199969)</td>\n",
              "      <td>OWS</td>\n",
              "      <td>OWS1</td>\n",
              "      <td>Q036</td>\n",
              "      <td>VALUE</td>\n",
              "      <td>1.0</td>\n",
              "      <td>Gender</td>\n",
              "      <td>Male</td>\n",
              "      <td>GEN</td>\n",
              "      <td>MALE</td>\n",
              "      <td>Obesity / Weight Status</td>\n",
              "    </tr>\n",
              "  </tbody>\n",
              "</table>\n",
              "</div>"
            ],
            "text/plain": [
              "   YearStart  YearEnd  ... StratificationID1                    Class\n",
              "0       2011     2011  ...           OVERALL  Obesity / Weight Status\n",
              "1       2011     2011  ...              MALE  Obesity / Weight Status\n",
              "\n",
              "[2 rows x 29 columns]"
            ]
          },
          "metadata": {
            "tags": []
          },
          "execution_count": 3
        }
      ]
    },
    {
      "cell_type": "code",
      "metadata": {
        "colab": {
          "base_uri": "https://localhost:8080/"
        },
        "id": "n-3BfumvqS8s",
        "outputId": "5d0d46c0-351e-45c3-d298-695ac9179145"
      },
      "source": [
        "df.columns"
      ],
      "execution_count": 4,
      "outputs": [
        {
          "output_type": "execute_result",
          "data": {
            "text/plain": [
              "Index(['YearStart', 'YearEnd', 'LocationAbbr', 'LocationDesc', 'Datasource',\n",
              "       'Topic', 'Question', 'Data_Value_Type', 'Data_Value',\n",
              "       'Low_Confidence_Limit', 'High_Confidence_Limit ', 'Sample_Size',\n",
              "       'Total', 'Age(years)', 'Education', 'Gender', 'Income',\n",
              "       'Race/Ethnicity', 'GeoLocation', 'ClassID', 'TopicID', 'QuestionID',\n",
              "       'DataValueTypeID', 'LocationID', 'StratificationCategory1',\n",
              "       'Stratification1', 'StratificationCategoryId1', 'StratificationID1',\n",
              "       'Class'],\n",
              "      dtype='object')"
            ]
          },
          "metadata": {
            "tags": []
          },
          "execution_count": 4
        }
      ]
    },
    {
      "cell_type": "code",
      "metadata": {
        "id": "47l5GKRkqlnU"
      },
      "source": [
        "df=df[['Data_Value_Type', 'Data_Value',\n",
        "       'Low_Confidence_Limit', 'High_Confidence_Limit ', 'Sample_Size',\n",
        "       'Total', 'Age(years)', 'Education', 'Gender', 'Income',\n",
        "       'Race/Ethnicity', 'GeoLocation', 'ClassID', 'TopicID', 'QuestionID',\n",
        "       'DataValueTypeID', 'LocationID', 'StratificationCategory1',\n",
        "       'Stratification1', 'StratificationCategoryId1', 'StratificationID1',\n",
        "       'Class']]"
      ],
      "execution_count": 5,
      "outputs": []
    },
    {
      "cell_type": "code",
      "metadata": {
        "colab": {
          "base_uri": "https://localhost:8080/"
        },
        "id": "6yHV_8Vvqul0",
        "outputId": "0a2d3e7d-7af0-49dc-9a0c-0965d2fc6a36"
      },
      "source": [
        "df.isnull().sum()"
      ],
      "execution_count": 6,
      "outputs": [
        {
          "output_type": "execute_result",
          "data": {
            "text/plain": [
              "Data_Value_Type                  0\n",
              "Data_Value                       0\n",
              "Low_Confidence_Limit             0\n",
              "High_Confidence_Limit            0\n",
              "Sample_Size                      0\n",
              "Total                        50544\n",
              "Age(years)                   41530\n",
              "Education                    45592\n",
              "Gender                       49029\n",
              "Income                       39123\n",
              "Race/Ethnicity               42220\n",
              "GeoLocation                   1057\n",
              "ClassID                          0\n",
              "TopicID                          0\n",
              "QuestionID                       0\n",
              "DataValueTypeID                  0\n",
              "LocationID                       0\n",
              "StratificationCategory1          0\n",
              "Stratification1                  0\n",
              "StratificationCategoryId1        0\n",
              "StratificationID1                0\n",
              "Class                            0\n",
              "dtype: int64"
            ]
          },
          "metadata": {
            "tags": []
          },
          "execution_count": 6
        }
      ]
    },
    {
      "cell_type": "code",
      "metadata": {
        "colab": {
          "base_uri": "https://localhost:8080/"
        },
        "id": "4zHAEB4Zqw55",
        "outputId": "7ff731cf-4bb2-48f6-a285-85642026a69a"
      },
      "source": [
        "df.shape"
      ],
      "execution_count": 7,
      "outputs": [
        {
          "output_type": "execute_result",
          "data": {
            "text/plain": [
              "(52345, 22)"
            ]
          },
          "metadata": {
            "tags": []
          },
          "execution_count": 7
        }
      ]
    },
    {
      "cell_type": "code",
      "metadata": {
        "id": "kvL4RD2Xqzxd"
      },
      "source": [
        "df=df.drop(columns=[\"Total\", \"Age(years)\", \"Education\", \"Gender\", \"Income\", \"Race/Ethnicity\", \"GeoLocation\"], axis=1)"
      ],
      "execution_count": 8,
      "outputs": []
    },
    {
      "cell_type": "code",
      "metadata": {
        "colab": {
          "base_uri": "https://localhost:8080/"
        },
        "id": "cVKbm_tyrTio",
        "outputId": "1ca78f56-7e05-4c3b-9312-6abe72bb51ee"
      },
      "source": [
        "df.isnull().sum()"
      ],
      "execution_count": 9,
      "outputs": [
        {
          "output_type": "execute_result",
          "data": {
            "text/plain": [
              "Data_Value_Type              0\n",
              "Data_Value                   0\n",
              "Low_Confidence_Limit         0\n",
              "High_Confidence_Limit        0\n",
              "Sample_Size                  0\n",
              "ClassID                      0\n",
              "TopicID                      0\n",
              "QuestionID                   0\n",
              "DataValueTypeID              0\n",
              "LocationID                   0\n",
              "StratificationCategory1      0\n",
              "Stratification1              0\n",
              "StratificationCategoryId1    0\n",
              "StratificationID1            0\n",
              "Class                        0\n",
              "dtype: int64"
            ]
          },
          "metadata": {
            "tags": []
          },
          "execution_count": 9
        }
      ]
    },
    {
      "cell_type": "code",
      "metadata": {
        "id": "204h332HrY7G"
      },
      "source": [
        "df=df.dropna()"
      ],
      "execution_count": 10,
      "outputs": []
    },
    {
      "cell_type": "code",
      "metadata": {
        "colab": {
          "base_uri": "https://localhost:8080/"
        },
        "id": "_TFToE_irdbC",
        "outputId": "95309826-023c-4f9a-80f9-c4c22cedeea4"
      },
      "source": [
        "for col in df.columns:\n",
        "  print(col, df[col].nunique())"
      ],
      "execution_count": 11,
      "outputs": [
        {
          "output_type": "stream",
          "text": [
            "Data_Value_Type 1\n",
            "Data_Value 20801\n",
            "Low_Confidence_Limit 20839\n",
            "High_Confidence_Limit  20887\n",
            "Sample_Size 25919\n",
            "ClassID 3\n",
            "TopicID 3\n",
            "QuestionID 9\n",
            "DataValueTypeID 1\n",
            "LocationID 15946\n",
            "StratificationCategory1 6\n",
            "Stratification1 28\n",
            "StratificationCategoryId1 6\n",
            "StratificationID1 28\n",
            "Class 3\n"
          ],
          "name": "stdout"
        }
      ]
    },
    {
      "cell_type": "code",
      "metadata": {
        "id": "U-woQvV7ruCr"
      },
      "source": [
        "df=df.drop(columns=[\"Data_Value_Type\",\"DataValueTypeID\"], axis=1)"
      ],
      "execution_count": 12,
      "outputs": []
    },
    {
      "cell_type": "code",
      "metadata": {
        "colab": {
          "base_uri": "https://localhost:8080/"
        },
        "id": "REsugsMar-ot",
        "outputId": "f7fd6342-74d3-4483-af88-95a9844d246f"
      },
      "source": [
        "df.StratificationCategoryId1"
      ],
      "execution_count": 13,
      "outputs": [
        {
          "output_type": "execute_result",
          "data": {
            "text/plain": [
              "0         OVR\n",
              "1         GEN\n",
              "2         GEN\n",
              "3         EDU\n",
              "4         EDU\n",
              "         ... \n",
              "52340    RACE\n",
              "52341     INC\n",
              "52342    RACE\n",
              "52343    RACE\n",
              "52344     GEN\n",
              "Name: StratificationCategoryId1, Length: 52345, dtype: object"
            ]
          },
          "metadata": {
            "tags": []
          },
          "execution_count": 13
        }
      ]
    },
    {
      "cell_type": "code",
      "metadata": {
        "colab": {
          "base_uri": "https://localhost:8080/",
          "height": 182
        },
        "id": "ciOQZ5OhsCeA",
        "outputId": "702396c5-6437-4747-bbc1-b174291c8b54"
      },
      "source": [
        "df.sample(2)"
      ],
      "execution_count": 14,
      "outputs": [
        {
          "output_type": "execute_result",
          "data": {
            "text/html": [
              "<div>\n",
              "<style scoped>\n",
              "    .dataframe tbody tr th:only-of-type {\n",
              "        vertical-align: middle;\n",
              "    }\n",
              "\n",
              "    .dataframe tbody tr th {\n",
              "        vertical-align: top;\n",
              "    }\n",
              "\n",
              "    .dataframe thead th {\n",
              "        text-align: right;\n",
              "    }\n",
              "</style>\n",
              "<table border=\"1\" class=\"dataframe\">\n",
              "  <thead>\n",
              "    <tr style=\"text-align: right;\">\n",
              "      <th></th>\n",
              "      <th>Data_Value</th>\n",
              "      <th>Low_Confidence_Limit</th>\n",
              "      <th>High_Confidence_Limit</th>\n",
              "      <th>Sample_Size</th>\n",
              "      <th>ClassID</th>\n",
              "      <th>TopicID</th>\n",
              "      <th>QuestionID</th>\n",
              "      <th>LocationID</th>\n",
              "      <th>StratificationCategory1</th>\n",
              "      <th>Stratification1</th>\n",
              "      <th>StratificationCategoryId1</th>\n",
              "      <th>StratificationID1</th>\n",
              "      <th>Class</th>\n",
              "    </tr>\n",
              "  </thead>\n",
              "  <tbody>\n",
              "    <tr>\n",
              "      <th>12514</th>\n",
              "      <td>39.236197</td>\n",
              "      <td>36.549869</td>\n",
              "      <td>42.117967</td>\n",
              "      <td>3584.772131</td>\n",
              "      <td>OWS</td>\n",
              "      <td>OWS1</td>\n",
              "      <td>Q037</td>\n",
              "      <td>48.000000</td>\n",
              "      <td>Education</td>\n",
              "      <td>Some college or technical school</td>\n",
              "      <td>EDU</td>\n",
              "      <td>EDUCOTEC</td>\n",
              "      <td>Obesity / Weight Status</td>\n",
              "    </tr>\n",
              "    <tr>\n",
              "      <th>52017</th>\n",
              "      <td>29.165010</td>\n",
              "      <td>21.857454</td>\n",
              "      <td>37.720082</td>\n",
              "      <td>296.650102</td>\n",
              "      <td>FV</td>\n",
              "      <td>FV1</td>\n",
              "      <td>Q019</td>\n",
              "      <td>65.125255</td>\n",
              "      <td>Age (years)</td>\n",
              "      <td>Less than high school</td>\n",
              "      <td>EDU</td>\n",
              "      <td>EDUHS</td>\n",
              "      <td>Fruits and Vegetables</td>\n",
              "    </tr>\n",
              "  </tbody>\n",
              "</table>\n",
              "</div>"
            ],
            "text/plain": [
              "       Data_Value  ...                    Class\n",
              "12514   39.236197  ...  Obesity / Weight Status\n",
              "52017   29.165010  ...    Fruits and Vegetables\n",
              "\n",
              "[2 rows x 13 columns]"
            ]
          },
          "metadata": {
            "tags": []
          },
          "execution_count": 14
        }
      ]
    },
    {
      "cell_type": "code",
      "metadata": {
        "id": "2KGODP7jsiQ0"
      },
      "source": [
        "df=df.drop(columns=[\"LocationID\", \"ClassID\", \"TopicID\", \"QuestionID\", \"StratificationCategory1\", \"Stratification1\", \"StratificationCategoryId1\", \"StratificationID1\"], axis=1)"
      ],
      "execution_count": 15,
      "outputs": []
    },
    {
      "cell_type": "code",
      "metadata": {
        "colab": {
          "base_uri": "https://localhost:8080/",
          "height": 111
        },
        "id": "UlsFs5lPuvEd",
        "outputId": "97b28d3c-6f6a-4e9d-c12e-e5c745a757b2"
      },
      "source": [
        "df.sample(2)"
      ],
      "execution_count": 16,
      "outputs": [
        {
          "output_type": "execute_result",
          "data": {
            "text/html": [
              "<div>\n",
              "<style scoped>\n",
              "    .dataframe tbody tr th:only-of-type {\n",
              "        vertical-align: middle;\n",
              "    }\n",
              "\n",
              "    .dataframe tbody tr th {\n",
              "        vertical-align: top;\n",
              "    }\n",
              "\n",
              "    .dataframe thead th {\n",
              "        text-align: right;\n",
              "    }\n",
              "</style>\n",
              "<table border=\"1\" class=\"dataframe\">\n",
              "  <thead>\n",
              "    <tr style=\"text-align: right;\">\n",
              "      <th></th>\n",
              "      <th>Data_Value</th>\n",
              "      <th>Low_Confidence_Limit</th>\n",
              "      <th>High_Confidence_Limit</th>\n",
              "      <th>Sample_Size</th>\n",
              "      <th>Class</th>\n",
              "    </tr>\n",
              "  </thead>\n",
              "  <tbody>\n",
              "    <tr>\n",
              "      <th>39456</th>\n",
              "      <td>15.620261</td>\n",
              "      <td>11.960181</td>\n",
              "      <td>20.200352</td>\n",
              "      <td>370.199598</td>\n",
              "      <td>Obesity / Weight Status</td>\n",
              "    </tr>\n",
              "    <tr>\n",
              "      <th>32301</th>\n",
              "      <td>30.800000</td>\n",
              "      <td>29.900000</td>\n",
              "      <td>31.800000</td>\n",
              "      <td>34012.000000</td>\n",
              "      <td>Fruits and Vegetables</td>\n",
              "    </tr>\n",
              "  </tbody>\n",
              "</table>\n",
              "</div>"
            ],
            "text/plain": [
              "       Data_Value  Low_Confidence_Limit  ...   Sample_Size                    Class\n",
              "39456   15.620261             11.960181  ...    370.199598  Obesity / Weight Status\n",
              "32301   30.800000             29.900000  ...  34012.000000    Fruits and Vegetables\n",
              "\n",
              "[2 rows x 5 columns]"
            ]
          },
          "metadata": {
            "tags": []
          },
          "execution_count": 16
        }
      ]
    },
    {
      "cell_type": "code",
      "metadata": {
        "id": "tNj14IaSalcc"
      },
      "source": [
        "df2=df.copy()"
      ],
      "execution_count": 17,
      "outputs": []
    },
    {
      "cell_type": "code",
      "metadata": {
        "id": "NWJfWWNWuw16"
      },
      "source": [
        "df=pd.get_dummies(df, columns=[\"Class\"], drop_first=True )"
      ],
      "execution_count": 18,
      "outputs": []
    },
    {
      "cell_type": "code",
      "metadata": {
        "id": "zia6NtdNvAop"
      },
      "source": [
        "X=df.drop(columns=\"Data_Value\", axis=1)\n",
        "y=df.Data_Value"
      ],
      "execution_count": 19,
      "outputs": []
    },
    {
      "cell_type": "code",
      "metadata": {
        "id": "twgzbTATvgyT"
      },
      "source": [
        "from sklearn.model_selection import train_test_split"
      ],
      "execution_count": 20,
      "outputs": []
    },
    {
      "cell_type": "code",
      "metadata": {
        "id": "C3uce50evyM5"
      },
      "source": [
        "X_train, X_test, y_train, y_test=train_test_split(X,y,test_size=0.3)"
      ],
      "execution_count": 21,
      "outputs": []
    },
    {
      "cell_type": "code",
      "metadata": {
        "id": "CfAeFKplv7z_"
      },
      "source": [
        "from sklearn.model_selection import KFold\n",
        "from sklearn.model_selection import StratifiedKFold\n",
        "from sklearn.model_selection import cross_val_score\n",
        "from sklearn.model_selection import GridSearchCV\n",
        "from sklearn.pipeline import Pipeline\n",
        "from sklearn.linear_model import LinearRegression\n",
        "from sklearn.tree import DecisionTreeRegressor\n",
        "from sklearn.ensemble import AdaBoostRegressor\n",
        "from sklearn.ensemble import GradientBoostingRegressor\n",
        "from sklearn.ensemble import RandomForestRegressor\n",
        "from sklearn.ensemble import ExtraTreesRegressor\n",
        "from xgboost import XGBRegressor\n",
        "from sklearn.metrics import mean_squared_error\n",
        "from sklearn.impute import SimpleImputer\n",
        "from sklearn.svm import LinearSVR\n",
        "from sklearn.model_selection import cross_validate"
      ],
      "execution_count": 23,
      "outputs": []
    },
    {
      "cell_type": "code",
      "metadata": {
        "id": "IsNeaKMACbvs"
      },
      "source": [
        "from sklearn.preprocessing import StandardScaler\n",
        "scaler=StandardScaler().fit(X_train)\n",
        "X_train=scaler.transform(X_train)\n",
        "X_test=scaler.transform(X_test)"
      ],
      "execution_count": 24,
      "outputs": []
    },
    {
      "cell_type": "code",
      "metadata": {
        "id": "WIEFQLh5Cmjp",
        "colab": {
          "base_uri": "https://localhost:8080/"
        },
        "outputId": "fd1053ec-d703-40ea-c487-6bdb79d3cf77"
      },
      "source": [
        "models = [RandomForestRegressor(random_state=42),XGBRegressor(random_state=42),ExtraTreesRegressor(random_state=42),\n",
        "          LinearRegression(),LinearSVR(random_state=42)]\n",
        "for model in models:\n",
        "    print(f\"********************{model}*********************\")\n",
        "    cv = cross_validate(model,X_train,y_train,cv=10,scoring=['neg_root_mean_squared_error'])\n",
        "    print(cv['test_neg_root_mean_squared_error'].mean())\n"
      ],
      "execution_count": 34,
      "outputs": [
        {
          "output_type": "stream",
          "text": [
            "********************RandomForestRegressor(bootstrap=True, ccp_alpha=0.0, criterion='mse',\n",
            "                      max_depth=None, max_features='auto', max_leaf_nodes=None,\n",
            "                      max_samples=None, min_impurity_decrease=0.0,\n",
            "                      min_impurity_split=None, min_samples_leaf=1,\n",
            "                      min_samples_split=2, min_weight_fraction_leaf=0.0,\n",
            "                      n_estimators=100, n_jobs=None, oob_score=False,\n",
            "                      random_state=42, verbose=0, warm_start=False)*********************\n",
            "-0.09598633801115433\n",
            "********************XGBRegressor(base_score=0.5, booster='gbtree', colsample_bylevel=1,\n",
            "             colsample_bynode=1, colsample_bytree=1, gamma=0,\n",
            "             importance_type='gain', learning_rate=0.1, max_delta_step=0,\n",
            "             max_depth=3, min_child_weight=1, missing=None, n_estimators=100,\n",
            "             n_jobs=1, nthread=None, objective='reg:linear', random_state=42,\n",
            "             reg_alpha=0, reg_lambda=1, scale_pos_weight=1, seed=None,\n",
            "             silent=None, subsample=1, verbosity=1)*********************\n",
            "[16:24:30] WARNING: /workspace/src/objective/regression_obj.cu:152: reg:linear is now deprecated in favor of reg:squarederror.\n",
            "[16:24:31] WARNING: /workspace/src/objective/regression_obj.cu:152: reg:linear is now deprecated in favor of reg:squarederror.\n",
            "[16:24:33] WARNING: /workspace/src/objective/regression_obj.cu:152: reg:linear is now deprecated in favor of reg:squarederror.\n",
            "[16:24:34] WARNING: /workspace/src/objective/regression_obj.cu:152: reg:linear is now deprecated in favor of reg:squarederror.\n",
            "[16:24:35] WARNING: /workspace/src/objective/regression_obj.cu:152: reg:linear is now deprecated in favor of reg:squarederror.\n",
            "[16:24:36] WARNING: /workspace/src/objective/regression_obj.cu:152: reg:linear is now deprecated in favor of reg:squarederror.\n",
            "[16:24:38] WARNING: /workspace/src/objective/regression_obj.cu:152: reg:linear is now deprecated in favor of reg:squarederror.\n",
            "[16:24:39] WARNING: /workspace/src/objective/regression_obj.cu:152: reg:linear is now deprecated in favor of reg:squarederror.\n",
            "[16:24:40] WARNING: /workspace/src/objective/regression_obj.cu:152: reg:linear is now deprecated in favor of reg:squarederror.\n",
            "[16:24:42] WARNING: /workspace/src/objective/regression_obj.cu:152: reg:linear is now deprecated in favor of reg:squarederror.\n",
            "-0.32191760861735297\n",
            "********************ExtraTreesRegressor(bootstrap=False, ccp_alpha=0.0, criterion='mse',\n",
            "                    max_depth=None, max_features='auto', max_leaf_nodes=None,\n",
            "                    max_samples=None, min_impurity_decrease=0.0,\n",
            "                    min_impurity_split=None, min_samples_leaf=1,\n",
            "                    min_samples_split=2, min_weight_fraction_leaf=0.0,\n",
            "                    n_estimators=100, n_jobs=None, oob_score=False,\n",
            "                    random_state=42, verbose=0, warm_start=False)*********************\n",
            "-0.06646197989460141\n",
            "********************LinearRegression(copy_X=True, fit_intercept=True, n_jobs=None, normalize=False)*********************\n",
            "-0.34828278726217954\n",
            "********************LinearSVR(C=1.0, dual=True, epsilon=0.0, fit_intercept=True,\n",
            "          intercept_scaling=1.0, loss='epsilon_insensitive', max_iter=1000,\n",
            "          random_state=42, tol=0.0001, verbose=0)*********************\n"
          ],
          "name": "stdout"
        },
        {
          "output_type": "stream",
          "text": [
            "/usr/local/lib/python3.7/dist-packages/sklearn/svm/_base.py:947: ConvergenceWarning: Liblinear failed to converge, increase the number of iterations.\n",
            "  \"the number of iterations.\", ConvergenceWarning)\n",
            "/usr/local/lib/python3.7/dist-packages/sklearn/svm/_base.py:947: ConvergenceWarning: Liblinear failed to converge, increase the number of iterations.\n",
            "  \"the number of iterations.\", ConvergenceWarning)\n",
            "/usr/local/lib/python3.7/dist-packages/sklearn/svm/_base.py:947: ConvergenceWarning: Liblinear failed to converge, increase the number of iterations.\n",
            "  \"the number of iterations.\", ConvergenceWarning)\n",
            "/usr/local/lib/python3.7/dist-packages/sklearn/svm/_base.py:947: ConvergenceWarning: Liblinear failed to converge, increase the number of iterations.\n",
            "  \"the number of iterations.\", ConvergenceWarning)\n",
            "/usr/local/lib/python3.7/dist-packages/sklearn/svm/_base.py:947: ConvergenceWarning: Liblinear failed to converge, increase the number of iterations.\n",
            "  \"the number of iterations.\", ConvergenceWarning)\n",
            "/usr/local/lib/python3.7/dist-packages/sklearn/svm/_base.py:947: ConvergenceWarning: Liblinear failed to converge, increase the number of iterations.\n",
            "  \"the number of iterations.\", ConvergenceWarning)\n",
            "/usr/local/lib/python3.7/dist-packages/sklearn/svm/_base.py:947: ConvergenceWarning: Liblinear failed to converge, increase the number of iterations.\n",
            "  \"the number of iterations.\", ConvergenceWarning)\n",
            "/usr/local/lib/python3.7/dist-packages/sklearn/svm/_base.py:947: ConvergenceWarning: Liblinear failed to converge, increase the number of iterations.\n",
            "  \"the number of iterations.\", ConvergenceWarning)\n",
            "/usr/local/lib/python3.7/dist-packages/sklearn/svm/_base.py:947: ConvergenceWarning: Liblinear failed to converge, increase the number of iterations.\n",
            "  \"the number of iterations.\", ConvergenceWarning)\n"
          ],
          "name": "stderr"
        },
        {
          "output_type": "stream",
          "text": [
            "-31.165207259710485\n"
          ],
          "name": "stdout"
        },
        {
          "output_type": "stream",
          "text": [
            "/usr/local/lib/python3.7/dist-packages/sklearn/svm/_base.py:947: ConvergenceWarning: Liblinear failed to converge, increase the number of iterations.\n",
            "  \"the number of iterations.\", ConvergenceWarning)\n"
          ],
          "name": "stderr"
        }
      ]
    },
    {
      "cell_type": "code",
      "metadata": {
        "colab": {
          "base_uri": "https://localhost:8080/"
        },
        "id": "IJACVrTapJbv",
        "outputId": "e0b4cc4f-14f9-44d2-8961-a8cd55b584cc"
      },
      "source": [
        "for i in range(100,1001,50):\n",
        "    print(f\"*****{i}******\")\n",
        "    lr = ExtraTreesRegressor(random_state=42,n_estimators=i)\n",
        "    lr.fit(X_train,y_train)\n",
        "    print(np.sqrt(mean_squared_error(y_test,lr.predict(X_test))))"
      ],
      "execution_count": 35,
      "outputs": [
        {
          "output_type": "stream",
          "text": [
            "*****100******\n",
            "0.05381620892291932\n",
            "*****150******\n",
            "0.0523927203749215\n",
            "*****200******\n",
            "0.0522183507001144\n",
            "*****250******\n",
            "0.0525810133598116\n",
            "*****300******\n",
            "0.05212550696573964\n",
            "*****350******\n",
            "0.05157561886274938\n",
            "*****400******\n",
            "0.051710735500653096\n",
            "*****450******\n",
            "0.05162369169744232\n",
            "*****500******\n",
            "0.051338128672089804\n",
            "*****550******\n",
            "0.05122639579470731\n",
            "*****600******\n",
            "0.05129722479782784\n",
            "*****650******\n",
            "0.051186595452460064\n",
            "*****700******\n",
            "0.05106865562999183\n",
            "*****750******\n",
            "0.05106732701092896\n",
            "*****800******\n",
            "0.05094041788243109\n",
            "*****850******\n",
            "0.05091732018736182\n",
            "*****900******\n",
            "0.05092293149179796\n",
            "*****950******\n",
            "0.050803310788525145\n",
            "*****1000******\n",
            "0.05077187073207234\n"
          ],
          "name": "stdout"
        }
      ]
    },
    {
      "cell_type": "code",
      "metadata": {
        "colab": {
          "base_uri": "https://localhost:8080/"
        },
        "id": "PN3AzHA-pJeZ",
        "outputId": "56cc5462-92e0-4e25-f421-152cec53b24e"
      },
      "source": [
        "for i in range(1,31,1):\n",
        "    print(f\"*****{i}******\")\n",
        "    lr = ExtraTreesRegressor(random_state=42,n_estimators=1000,max_depth=i)\n",
        "    lr.fit(X_train,y_train)\n",
        "    print(np.sqrt(mean_squared_error(y_test,lr.predict(X_test))))"
      ],
      "execution_count": 25,
      "outputs": [
        {
          "output_type": "stream",
          "text": [
            "*****1******\n",
            "6.575406118020019\n",
            "*****2******\n",
            "4.153583518887566\n",
            "*****3******\n",
            "2.64838148833703\n",
            "*****4******\n",
            "1.6846104424362138\n",
            "*****5******\n",
            "1.096257992456235\n",
            "*****6******\n",
            "0.7451594690515551\n",
            "*****7******\n",
            "0.49369572534333045\n",
            "*****8******\n",
            "0.3128045472806576\n",
            "*****9******\n",
            "0.19953289115775855\n",
            "*****10******\n",
            "0.13875084793337772\n",
            "*****11******\n",
            "0.09736391757270482\n",
            "*****12******\n",
            "0.07593086976967467\n",
            "*****13******\n",
            "0.06540810965060674\n",
            "*****14******\n",
            "0.060226971027100326\n",
            "*****15******\n",
            "0.058885279259581175\n",
            "*****16******\n",
            "0.05766577530988407\n",
            "*****17******\n",
            "0.057145786590282154\n",
            "*****18******\n",
            "0.05788610265467757\n",
            "*****19******\n",
            "0.0566819459248693\n",
            "*****20******\n",
            "0.05761282981428189\n",
            "*****21******\n",
            "0.057720261365779346\n",
            "*****22******\n",
            "0.05843970929017119\n",
            "*****23******\n",
            "0.058259661990703954\n",
            "*****24******\n",
            "0.05901339210872303\n",
            "*****25******\n",
            "0.058665703910265286\n",
            "*****26******\n",
            "0.058886463493703856\n",
            "*****27******\n",
            "0.05862265443033968\n",
            "*****28******\n",
            "0.058052217685859345\n",
            "*****29******\n",
            "0.05864697509537361\n",
            "*****30******\n",
            "0.058947297573949294\n"
          ],
          "name": "stdout"
        }
      ]
    },
    {
      "cell_type": "code",
      "metadata": {
        "colab": {
          "base_uri": "https://localhost:8080/"
        },
        "id": "frmvHfqTuEYC",
        "outputId": "19152580-f169-4e99-8fa2-439aed82c481"
      },
      "source": [
        "lr = ExtraTreesRegressor(random_state=42,n_estimators=1000,max_depth=20)\n",
        "lr.fit(X_train,y_train)\n",
        "print(np.sqrt(mean_squared_error(y_test,lr.predict(X_test))))"
      ],
      "execution_count": 33,
      "outputs": [
        {
          "output_type": "stream",
          "text": [
            "0.05761282981428189\n"
          ],
          "name": "stdout"
        }
      ]
    },
    {
      "cell_type": "code",
      "metadata": {
        "id": "QO16SXocxfWo"
      },
      "source": [
        "test=pd.read_csv(\"Test_data.csv\")"
      ],
      "execution_count": 34,
      "outputs": []
    },
    {
      "cell_type": "code",
      "metadata": {
        "colab": {
          "base_uri": "https://localhost:8080/",
          "height": 301
        },
        "id": "1orDeO4Ayv5M",
        "outputId": "37dfdf14-f891-4e5a-99e1-9351af26be3a"
      },
      "source": [
        "test.head(2)"
      ],
      "execution_count": 35,
      "outputs": [
        {
          "output_type": "execute_result",
          "data": {
            "text/html": [
              "<div>\n",
              "<style scoped>\n",
              "    .dataframe tbody tr th:only-of-type {\n",
              "        vertical-align: middle;\n",
              "    }\n",
              "\n",
              "    .dataframe tbody tr th {\n",
              "        vertical-align: top;\n",
              "    }\n",
              "\n",
              "    .dataframe thead th {\n",
              "        text-align: right;\n",
              "    }\n",
              "</style>\n",
              "<table border=\"1\" class=\"dataframe\">\n",
              "  <thead>\n",
              "    <tr style=\"text-align: right;\">\n",
              "      <th></th>\n",
              "      <th>YearStart</th>\n",
              "      <th>YearEnd</th>\n",
              "      <th>LocationAbbr</th>\n",
              "      <th>LocationDesc</th>\n",
              "      <th>Datasource</th>\n",
              "      <th>Topic</th>\n",
              "      <th>Question</th>\n",
              "      <th>Data_Value_Type</th>\n",
              "      <th>Low_Confidence_Limit</th>\n",
              "      <th>High_Confidence_Limit</th>\n",
              "      <th>Sample_Size</th>\n",
              "      <th>Total</th>\n",
              "      <th>Age(years)</th>\n",
              "      <th>Education</th>\n",
              "      <th>Gender</th>\n",
              "      <th>Income</th>\n",
              "      <th>Race/Ethnicity</th>\n",
              "      <th>GeoLocation</th>\n",
              "      <th>ClassID</th>\n",
              "      <th>TopicID</th>\n",
              "      <th>QuestionID</th>\n",
              "      <th>DataValueTypeID</th>\n",
              "      <th>LocationID</th>\n",
              "      <th>StratificationCategory1</th>\n",
              "      <th>Stratification1</th>\n",
              "      <th>StratificationCategoryId1</th>\n",
              "      <th>StratificationID1</th>\n",
              "      <th>Class</th>\n",
              "    </tr>\n",
              "  </thead>\n",
              "  <tbody>\n",
              "    <tr>\n",
              "      <th>0</th>\n",
              "      <td>2016</td>\n",
              "      <td>2016</td>\n",
              "      <td>US</td>\n",
              "      <td>National</td>\n",
              "      <td>Behavioral Risk Factor Surveillance System</td>\n",
              "      <td>Obesity / Weight Status</td>\n",
              "      <td>Percent of adults aged 18 years and older who ...</td>\n",
              "      <td>Value</td>\n",
              "      <td>34.9</td>\n",
              "      <td>35.5</td>\n",
              "      <td>438479.0</td>\n",
              "      <td>Total</td>\n",
              "      <td>NaN</td>\n",
              "      <td>NaN</td>\n",
              "      <td>NaN</td>\n",
              "      <td>NaN</td>\n",
              "      <td>NaN</td>\n",
              "      <td>NaN</td>\n",
              "      <td>OWS</td>\n",
              "      <td>OWS1</td>\n",
              "      <td>Q037</td>\n",
              "      <td>VALUE</td>\n",
              "      <td>59.0</td>\n",
              "      <td>Total</td>\n",
              "      <td>Total</td>\n",
              "      <td>OVR</td>\n",
              "      <td>OVERALL</td>\n",
              "      <td>Obesity / Weight Status</td>\n",
              "    </tr>\n",
              "    <tr>\n",
              "      <th>1</th>\n",
              "      <td>2016</td>\n",
              "      <td>2016</td>\n",
              "      <td>US</td>\n",
              "      <td>National</td>\n",
              "      <td>Behavioral Risk Factor Surveillance System</td>\n",
              "      <td>Obesity / Weight Status</td>\n",
              "      <td>Percent of adults aged 18 years and older who ...</td>\n",
              "      <td>Value</td>\n",
              "      <td>40.6</td>\n",
              "      <td>41.5</td>\n",
              "      <td>198440.0</td>\n",
              "      <td>NaN</td>\n",
              "      <td>NaN</td>\n",
              "      <td>NaN</td>\n",
              "      <td>Male</td>\n",
              "      <td>NaN</td>\n",
              "      <td>NaN</td>\n",
              "      <td>NaN</td>\n",
              "      <td>OWS</td>\n",
              "      <td>OWS1</td>\n",
              "      <td>Q037</td>\n",
              "      <td>VALUE</td>\n",
              "      <td>59.0</td>\n",
              "      <td>Gender</td>\n",
              "      <td>Male</td>\n",
              "      <td>GEN</td>\n",
              "      <td>MALE</td>\n",
              "      <td>Obesity / Weight Status</td>\n",
              "    </tr>\n",
              "  </tbody>\n",
              "</table>\n",
              "</div>"
            ],
            "text/plain": [
              "   YearStart  YearEnd  ... StratificationID1                    Class\n",
              "0       2016     2016  ...           OVERALL  Obesity / Weight Status\n",
              "1       2016     2016  ...              MALE  Obesity / Weight Status\n",
              "\n",
              "[2 rows x 28 columns]"
            ]
          },
          "metadata": {
            "tags": []
          },
          "execution_count": 35
        }
      ]
    },
    {
      "cell_type": "code",
      "metadata": {
        "id": "9VYYlFmqzF_Y"
      },
      "source": [
        "test=test[['Low_Confidence_Limit', 'High_Confidence_Limit ',\n",
        "       'Sample_Size', \"Class\"]]"
      ],
      "execution_count": 36,
      "outputs": []
    },
    {
      "cell_type": "code",
      "metadata": {
        "id": "mKDOUtcvzT6W"
      },
      "source": [
        "test=pd.get_dummies(test, columns=[\"Class\"])"
      ],
      "execution_count": 37,
      "outputs": []
    },
    {
      "cell_type": "code",
      "metadata": {
        "colab": {
          "base_uri": "https://localhost:8080/",
          "height": 111
        },
        "id": "6AKUy1rezpce",
        "outputId": "344b5e52-19cc-46ce-8517-75a6edb1f842"
      },
      "source": [
        "test.head(2)"
      ],
      "execution_count": 38,
      "outputs": [
        {
          "output_type": "execute_result",
          "data": {
            "text/html": [
              "<div>\n",
              "<style scoped>\n",
              "    .dataframe tbody tr th:only-of-type {\n",
              "        vertical-align: middle;\n",
              "    }\n",
              "\n",
              "    .dataframe tbody tr th {\n",
              "        vertical-align: top;\n",
              "    }\n",
              "\n",
              "    .dataframe thead th {\n",
              "        text-align: right;\n",
              "    }\n",
              "</style>\n",
              "<table border=\"1\" class=\"dataframe\">\n",
              "  <thead>\n",
              "    <tr style=\"text-align: right;\">\n",
              "      <th></th>\n",
              "      <th>Low_Confidence_Limit</th>\n",
              "      <th>High_Confidence_Limit</th>\n",
              "      <th>Sample_Size</th>\n",
              "      <th>Class_Obesity / Weight Status</th>\n",
              "      <th>Class_Physical Activity</th>\n",
              "    </tr>\n",
              "  </thead>\n",
              "  <tbody>\n",
              "    <tr>\n",
              "      <th>0</th>\n",
              "      <td>34.9</td>\n",
              "      <td>35.5</td>\n",
              "      <td>438479.0</td>\n",
              "      <td>1</td>\n",
              "      <td>0</td>\n",
              "    </tr>\n",
              "    <tr>\n",
              "      <th>1</th>\n",
              "      <td>40.6</td>\n",
              "      <td>41.5</td>\n",
              "      <td>198440.0</td>\n",
              "      <td>1</td>\n",
              "      <td>0</td>\n",
              "    </tr>\n",
              "  </tbody>\n",
              "</table>\n",
              "</div>"
            ],
            "text/plain": [
              "   Low_Confidence_Limit  ...  Class_Physical Activity\n",
              "0                  34.9  ...                        0\n",
              "1                  40.6  ...                        0\n",
              "\n",
              "[2 rows x 5 columns]"
            ]
          },
          "metadata": {
            "tags": []
          },
          "execution_count": 38
        }
      ]
    },
    {
      "cell_type": "code",
      "metadata": {
        "id": "Z94JbyatDRjp"
      },
      "source": [
        "test=scaler.transform(test)"
      ],
      "execution_count": 39,
      "outputs": []
    },
    {
      "cell_type": "code",
      "metadata": {
        "id": "3Am3PRhCzbSP"
      },
      "source": [
        "target = lr.predict(test)"
      ],
      "execution_count": 40,
      "outputs": []
    },
    {
      "cell_type": "code",
      "metadata": {
        "colab": {
          "base_uri": "https://localhost:8080/"
        },
        "id": "-oQRa3ErzfOq",
        "outputId": "9b4cd6e7-a374-4a31-bfc2-2dc4531d6731"
      },
      "source": [
        "target"
      ],
      "execution_count": 41,
      "outputs": [
        {
          "output_type": "execute_result",
          "data": {
            "text/plain": [
              "array([35.27901212, 41.12399609, 29.28159927, ..., 29.96233824,\n",
              "       44.24048435, 32.63471642])"
            ]
          },
          "metadata": {
            "tags": []
          },
          "execution_count": 41
        }
      ]
    },
    {
      "cell_type": "code",
      "metadata": {
        "id": "Fi-amdZL0Abx"
      },
      "source": [
        "#res = pd.DataFrame(target) \n",
        "#res.columns = [\"prediction\"]\n",
        "#res.to_csv(\"submission.csv\", index = False)"
      ],
      "execution_count": null,
      "outputs": []
    },
    {
      "cell_type": "code",
      "metadata": {
        "id": "_EaLPuPs0K8U"
      },
      "source": [
        ""
      ],
      "execution_count": null,
      "outputs": []
    }
  ]
}