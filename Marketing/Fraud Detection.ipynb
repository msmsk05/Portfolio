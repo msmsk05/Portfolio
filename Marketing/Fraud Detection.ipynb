{
 "cells": [
  {
   "cell_type": "markdown",
   "metadata": {
    "id": "-24P_wByMuHX"
   },
   "source": [
    "# WELCOME!"
   ]
  },
  {
   "cell_type": "markdown",
   "metadata": {
    "id": "Ow9AD-4vMuHX"
   },
   "source": [
    "Welcome to \"***Fraud Detection Project***\". This is the last project of the Capstone Series.\n",
    "\n",
    "One of the challenges in this project is the absence of domain knowledge. So without knowing what the column names are, you will only be interested in their values. The other one is the class frequencies of the target variable are quite imbalanced.\n",
    "\n",
    "You will implement ***Logistic Regression, Random Forest, Neural Network*** algorithms and ***SMOTE*** technique. Also visualize performances of the models using ***Seaborn, Matplotlib*** and ***Yellowbrick*** in a variety of ways.\n",
    "\n",
    "At the end of the project, you will have the opportunity to deploy your model by ***Flask API***.\n",
    "\n",
    "Before diving into the project, please take a look at the Determines and Tasks.\n",
    "\n",
    "- ***NOTE:*** *This tutorial assumes that you already know the basics of coding in Python and are familiar with model deployement (flask api) as well as the theory behind Logistic Regression, Random Forest, Neural Network.*\n",
    "\n"
   ]
  },
  {
   "cell_type": "markdown",
   "metadata": {
    "id": "dqbMkIZ-MuHY"
   },
   "source": [
    "---\n",
    "---\n"
   ]
  },
  {
   "cell_type": "markdown",
   "metadata": {
    "id": "spCFDhO7MuHY"
   },
   "source": [
    "# #Determines\n",
    "The datasets contains transactions made by credit cards in September 2013 by european cardholders. This dataset presents transactions that occurred in two days, where it has **492 frauds** out of **284,807** transactions. The dataset is **highly unbalanced**, the positive class (frauds) account for 0.172% of all transactions.\n",
    "\n",
    "**Feature Information:**\n",
    "\n",
    "**Time**: This feature is contains the seconds elapsed between each transaction and the first transaction in the dataset. \n",
    "\n",
    "**Amount**:  This feature is the transaction Amount, can be used for example-dependant cost-senstive learning. \n",
    "\n",
    "**Class**: This feature is the target variable and it takes value 1 in case of fraud and 0 otherwise.\n",
    "\n",
    "---\n",
    "\n",
    "The aim of this project is to predict whether a credit card transaction is fraudulent. Of course, this is not easy to do.\n",
    "First of all, you need to analyze and recognize your data well in order to draw your roadmap and choose the correct arguments you will use. Accordingly, you can examine the frequency distributions of variables. You can observe variable correlations and want to explore multicollinearity. You can show the distribution of the target variable's classes over other variables. \n",
    "Also, it is useful to take missing values and outliers.\n",
    "\n",
    "After these procedures, you can move on to the model building stage by doing the basic data pre-processing you are familiar with. \n",
    "\n",
    "Start with Logistic Regression and evaluate model performance. You will apply the SMOTE technique used to increase the sample for unbalanced data. Next, rebuild your Logistic Regression model with SMOTE applied data to observe its effect.\n",
    "\n",
    "Then, you will use three different algorithms in the model building phase. You have applied Logistic Regression and Random Forest in your previous projects. However, the Deep Learning Neural Network algorithm will appear for the first time.\n",
    "\n",
    "In the final step, you will deploy your model using ***Flask API***."
   ]
  },
  {
   "cell_type": "markdown",
   "metadata": {
    "id": "YOl6z9mXMuHY"
   },
   "source": [
    "---\n",
    "---\n"
   ]
  },
  {
   "cell_type": "markdown",
   "metadata": {
    "id": "1o6X3hLLMuHZ"
   },
   "source": [
    "# #Tasks\n",
    "\n",
    "#### 1. Exploratory Data Analysis & Data Cleaning\n",
    "\n",
    "- Import Modules, Load Data & Data Review\n",
    "- Exploratory Data Analysis\n",
    "- Data Cleaning\n",
    "\n",
    "\n",
    "\n",
    "    \n",
    "#### 2. Data Preprocessing\n",
    "\n",
    "- Scaling\n",
    "- Train - Test Split\n",
    "\n",
    "\n",
    "#### 3. Model Building\n",
    "\n",
    "- Logistic Regression without SMOTE\n",
    "- Apply SMOTE\n",
    "- Logistic Regression with SMOTE\n",
    "- Random Forest Classifier with SMOTE\n",
    "- Neural Network\n",
    "\n",
    "#### 4. Model Deployement\n",
    "\n",
    "- Save and Export the Model as .pkl\n",
    "- Save and Export Variables as .pkl \n",
    "\n",
    "\n"
   ]
  },
  {
   "cell_type": "markdown",
   "metadata": {
    "id": "9sDSWJywMuHZ"
   },
   "source": [
    "---\n",
    "---\n"
   ]
  },
  {
   "cell_type": "markdown",
   "metadata": {
    "id": "fbFMU3AdMuHZ"
   },
   "source": [
    "## 1. Exploratory Data Analysis & Data Cleaning"
   ]
  },
  {
   "cell_type": "markdown",
   "metadata": {
    "id": "5nmI08_GMuHZ"
   },
   "source": [
    "### Import Modules, Load Data & Data Review"
   ]
  },
  {
   "cell_type": "code",
   "execution_count": 1,
   "metadata": {
    "id": "yKZtJybfMuHa"
   },
   "outputs": [],
   "source": [
    "import pandas as pd\n",
    "import numpy as np\n",
    "import seaborn as sns\n",
    "import matplotlib.pyplot as plt\n",
    "import zipfile\n",
    "pd.options.display.float_format = '${:,.2f}'.format\n",
    "pd.set_option('display.max_columns', 500)"
   ]
  },
  {
   "cell_type": "code",
   "execution_count": 2,
   "metadata": {},
   "outputs": [],
   "source": [
    "zf = zipfile.ZipFile('creditcard.zip')\n",
    "df = pd.read_csv(zf.open('creditcard.csv'))"
   ]
  },
  {
   "cell_type": "code",
   "execution_count": 3,
   "metadata": {},
   "outputs": [
    {
     "data": {
      "text/html": [
       "<div>\n",
       "<style scoped>\n",
       "    .dataframe tbody tr th:only-of-type {\n",
       "        vertical-align: middle;\n",
       "    }\n",
       "\n",
       "    .dataframe tbody tr th {\n",
       "        vertical-align: top;\n",
       "    }\n",
       "\n",
       "    .dataframe thead th {\n",
       "        text-align: right;\n",
       "    }\n",
       "</style>\n",
       "<table border=\"1\" class=\"dataframe\">\n",
       "  <thead>\n",
       "    <tr style=\"text-align: right;\">\n",
       "      <th></th>\n",
       "      <th>Time</th>\n",
       "      <th>V1</th>\n",
       "      <th>V2</th>\n",
       "      <th>V3</th>\n",
       "      <th>V4</th>\n",
       "      <th>V5</th>\n",
       "      <th>V6</th>\n",
       "      <th>V7</th>\n",
       "      <th>V8</th>\n",
       "      <th>V9</th>\n",
       "      <th>V10</th>\n",
       "      <th>V11</th>\n",
       "      <th>V12</th>\n",
       "      <th>V13</th>\n",
       "      <th>V14</th>\n",
       "      <th>V15</th>\n",
       "      <th>V16</th>\n",
       "      <th>V17</th>\n",
       "      <th>V18</th>\n",
       "      <th>V19</th>\n",
       "      <th>V20</th>\n",
       "      <th>V21</th>\n",
       "      <th>V22</th>\n",
       "      <th>V23</th>\n",
       "      <th>V24</th>\n",
       "      <th>V25</th>\n",
       "      <th>V26</th>\n",
       "      <th>V27</th>\n",
       "      <th>V28</th>\n",
       "      <th>Amount</th>\n",
       "      <th>Class</th>\n",
       "    </tr>\n",
       "  </thead>\n",
       "  <tbody>\n",
       "    <tr>\n",
       "      <th>0</th>\n",
       "      <td>$0.00</td>\n",
       "      <td>$-1.36</td>\n",
       "      <td>$-0.07</td>\n",
       "      <td>$2.54</td>\n",
       "      <td>$1.38</td>\n",
       "      <td>$-0.34</td>\n",
       "      <td>$0.46</td>\n",
       "      <td>$0.24</td>\n",
       "      <td>$0.10</td>\n",
       "      <td>$0.36</td>\n",
       "      <td>$0.09</td>\n",
       "      <td>$-0.55</td>\n",
       "      <td>$-0.62</td>\n",
       "      <td>$-0.99</td>\n",
       "      <td>$-0.31</td>\n",
       "      <td>$1.47</td>\n",
       "      <td>$-0.47</td>\n",
       "      <td>$0.21</td>\n",
       "      <td>$0.03</td>\n",
       "      <td>$0.40</td>\n",
       "      <td>$0.25</td>\n",
       "      <td>$-0.02</td>\n",
       "      <td>$0.28</td>\n",
       "      <td>$-0.11</td>\n",
       "      <td>$0.07</td>\n",
       "      <td>$0.13</td>\n",
       "      <td>$-0.19</td>\n",
       "      <td>$0.13</td>\n",
       "      <td>$-0.02</td>\n",
       "      <td>$149.62</td>\n",
       "      <td>0</td>\n",
       "    </tr>\n",
       "    <tr>\n",
       "      <th>1</th>\n",
       "      <td>$0.00</td>\n",
       "      <td>$1.19</td>\n",
       "      <td>$0.27</td>\n",
       "      <td>$0.17</td>\n",
       "      <td>$0.45</td>\n",
       "      <td>$0.06</td>\n",
       "      <td>$-0.08</td>\n",
       "      <td>$-0.08</td>\n",
       "      <td>$0.09</td>\n",
       "      <td>$-0.26</td>\n",
       "      <td>$-0.17</td>\n",
       "      <td>$1.61</td>\n",
       "      <td>$1.07</td>\n",
       "      <td>$0.49</td>\n",
       "      <td>$-0.14</td>\n",
       "      <td>$0.64</td>\n",
       "      <td>$0.46</td>\n",
       "      <td>$-0.11</td>\n",
       "      <td>$-0.18</td>\n",
       "      <td>$-0.15</td>\n",
       "      <td>$-0.07</td>\n",
       "      <td>$-0.23</td>\n",
       "      <td>$-0.64</td>\n",
       "      <td>$0.10</td>\n",
       "      <td>$-0.34</td>\n",
       "      <td>$0.17</td>\n",
       "      <td>$0.13</td>\n",
       "      <td>$-0.01</td>\n",
       "      <td>$0.01</td>\n",
       "      <td>$2.69</td>\n",
       "      <td>0</td>\n",
       "    </tr>\n",
       "    <tr>\n",
       "      <th>2</th>\n",
       "      <td>$1.00</td>\n",
       "      <td>$-1.36</td>\n",
       "      <td>$-1.34</td>\n",
       "      <td>$1.77</td>\n",
       "      <td>$0.38</td>\n",
       "      <td>$-0.50</td>\n",
       "      <td>$1.80</td>\n",
       "      <td>$0.79</td>\n",
       "      <td>$0.25</td>\n",
       "      <td>$-1.51</td>\n",
       "      <td>$0.21</td>\n",
       "      <td>$0.62</td>\n",
       "      <td>$0.07</td>\n",
       "      <td>$0.72</td>\n",
       "      <td>$-0.17</td>\n",
       "      <td>$2.35</td>\n",
       "      <td>$-2.89</td>\n",
       "      <td>$1.11</td>\n",
       "      <td>$-0.12</td>\n",
       "      <td>$-2.26</td>\n",
       "      <td>$0.52</td>\n",
       "      <td>$0.25</td>\n",
       "      <td>$0.77</td>\n",
       "      <td>$0.91</td>\n",
       "      <td>$-0.69</td>\n",
       "      <td>$-0.33</td>\n",
       "      <td>$-0.14</td>\n",
       "      <td>$-0.06</td>\n",
       "      <td>$-0.06</td>\n",
       "      <td>$378.66</td>\n",
       "      <td>0</td>\n",
       "    </tr>\n",
       "    <tr>\n",
       "      <th>3</th>\n",
       "      <td>$1.00</td>\n",
       "      <td>$-0.97</td>\n",
       "      <td>$-0.19</td>\n",
       "      <td>$1.79</td>\n",
       "      <td>$-0.86</td>\n",
       "      <td>$-0.01</td>\n",
       "      <td>$1.25</td>\n",
       "      <td>$0.24</td>\n",
       "      <td>$0.38</td>\n",
       "      <td>$-1.39</td>\n",
       "      <td>$-0.05</td>\n",
       "      <td>$-0.23</td>\n",
       "      <td>$0.18</td>\n",
       "      <td>$0.51</td>\n",
       "      <td>$-0.29</td>\n",
       "      <td>$-0.63</td>\n",
       "      <td>$-1.06</td>\n",
       "      <td>$-0.68</td>\n",
       "      <td>$1.97</td>\n",
       "      <td>$-1.23</td>\n",
       "      <td>$-0.21</td>\n",
       "      <td>$-0.11</td>\n",
       "      <td>$0.01</td>\n",
       "      <td>$-0.19</td>\n",
       "      <td>$-1.18</td>\n",
       "      <td>$0.65</td>\n",
       "      <td>$-0.22</td>\n",
       "      <td>$0.06</td>\n",
       "      <td>$0.06</td>\n",
       "      <td>$123.50</td>\n",
       "      <td>0</td>\n",
       "    </tr>\n",
       "    <tr>\n",
       "      <th>4</th>\n",
       "      <td>$2.00</td>\n",
       "      <td>$-1.16</td>\n",
       "      <td>$0.88</td>\n",
       "      <td>$1.55</td>\n",
       "      <td>$0.40</td>\n",
       "      <td>$-0.41</td>\n",
       "      <td>$0.10</td>\n",
       "      <td>$0.59</td>\n",
       "      <td>$-0.27</td>\n",
       "      <td>$0.82</td>\n",
       "      <td>$0.75</td>\n",
       "      <td>$-0.82</td>\n",
       "      <td>$0.54</td>\n",
       "      <td>$1.35</td>\n",
       "      <td>$-1.12</td>\n",
       "      <td>$0.18</td>\n",
       "      <td>$-0.45</td>\n",
       "      <td>$-0.24</td>\n",
       "      <td>$-0.04</td>\n",
       "      <td>$0.80</td>\n",
       "      <td>$0.41</td>\n",
       "      <td>$-0.01</td>\n",
       "      <td>$0.80</td>\n",
       "      <td>$-0.14</td>\n",
       "      <td>$0.14</td>\n",
       "      <td>$-0.21</td>\n",
       "      <td>$0.50</td>\n",
       "      <td>$0.22</td>\n",
       "      <td>$0.22</td>\n",
       "      <td>$69.99</td>\n",
       "      <td>0</td>\n",
       "    </tr>\n",
       "  </tbody>\n",
       "</table>\n",
       "</div>"
      ],
      "text/plain": [
       "   Time     V1     V2    V3     V4     V5     V6     V7     V8     V9    V10  \\\n",
       "0 $0.00 $-1.36 $-0.07 $2.54  $1.38 $-0.34  $0.46  $0.24  $0.10  $0.36  $0.09   \n",
       "1 $0.00  $1.19  $0.27 $0.17  $0.45  $0.06 $-0.08 $-0.08  $0.09 $-0.26 $-0.17   \n",
       "2 $1.00 $-1.36 $-1.34 $1.77  $0.38 $-0.50  $1.80  $0.79  $0.25 $-1.51  $0.21   \n",
       "3 $1.00 $-0.97 $-0.19 $1.79 $-0.86 $-0.01  $1.25  $0.24  $0.38 $-1.39 $-0.05   \n",
       "4 $2.00 $-1.16  $0.88 $1.55  $0.40 $-0.41  $0.10  $0.59 $-0.27  $0.82  $0.75   \n",
       "\n",
       "     V11    V12    V13    V14    V15    V16    V17    V18    V19    V20  \\\n",
       "0 $-0.55 $-0.62 $-0.99 $-0.31  $1.47 $-0.47  $0.21  $0.03  $0.40  $0.25   \n",
       "1  $1.61  $1.07  $0.49 $-0.14  $0.64  $0.46 $-0.11 $-0.18 $-0.15 $-0.07   \n",
       "2  $0.62  $0.07  $0.72 $-0.17  $2.35 $-2.89  $1.11 $-0.12 $-2.26  $0.52   \n",
       "3 $-0.23  $0.18  $0.51 $-0.29 $-0.63 $-1.06 $-0.68  $1.97 $-1.23 $-0.21   \n",
       "4 $-0.82  $0.54  $1.35 $-1.12  $0.18 $-0.45 $-0.24 $-0.04  $0.80  $0.41   \n",
       "\n",
       "     V21    V22    V23    V24    V25    V26    V27    V28  Amount  Class  \n",
       "0 $-0.02  $0.28 $-0.11  $0.07  $0.13 $-0.19  $0.13 $-0.02 $149.62      0  \n",
       "1 $-0.23 $-0.64  $0.10 $-0.34  $0.17  $0.13 $-0.01  $0.01   $2.69      0  \n",
       "2  $0.25  $0.77  $0.91 $-0.69 $-0.33 $-0.14 $-0.06 $-0.06 $378.66      0  \n",
       "3 $-0.11  $0.01 $-0.19 $-1.18  $0.65 $-0.22  $0.06  $0.06 $123.50      0  \n",
       "4 $-0.01  $0.80 $-0.14  $0.14 $-0.21  $0.50  $0.22  $0.22  $69.99      0  "
      ]
     },
     "execution_count": 3,
     "metadata": {},
     "output_type": "execute_result"
    }
   ],
   "source": [
    "df.head()"
   ]
  },
  {
   "cell_type": "code",
   "execution_count": 4,
   "metadata": {},
   "outputs": [
    {
     "data": {
      "text/html": [
       "<div>\n",
       "<style scoped>\n",
       "    .dataframe tbody tr th:only-of-type {\n",
       "        vertical-align: middle;\n",
       "    }\n",
       "\n",
       "    .dataframe tbody tr th {\n",
       "        vertical-align: top;\n",
       "    }\n",
       "\n",
       "    .dataframe thead th {\n",
       "        text-align: right;\n",
       "    }\n",
       "</style>\n",
       "<table border=\"1\" class=\"dataframe\">\n",
       "  <thead>\n",
       "    <tr style=\"text-align: right;\">\n",
       "      <th></th>\n",
       "      <th>Time</th>\n",
       "      <th>V1</th>\n",
       "      <th>V2</th>\n",
       "      <th>V3</th>\n",
       "      <th>V4</th>\n",
       "      <th>V5</th>\n",
       "      <th>V6</th>\n",
       "      <th>V7</th>\n",
       "      <th>V8</th>\n",
       "      <th>V9</th>\n",
       "      <th>V10</th>\n",
       "      <th>V11</th>\n",
       "      <th>V12</th>\n",
       "      <th>V13</th>\n",
       "      <th>V14</th>\n",
       "      <th>V15</th>\n",
       "      <th>V16</th>\n",
       "      <th>V17</th>\n",
       "      <th>V18</th>\n",
       "      <th>V19</th>\n",
       "      <th>V20</th>\n",
       "      <th>V21</th>\n",
       "      <th>V22</th>\n",
       "      <th>V23</th>\n",
       "      <th>V24</th>\n",
       "      <th>V25</th>\n",
       "      <th>V26</th>\n",
       "      <th>V27</th>\n",
       "      <th>V28</th>\n",
       "      <th>Amount</th>\n",
       "      <th>Class</th>\n",
       "    </tr>\n",
       "  </thead>\n",
       "  <tbody>\n",
       "    <tr>\n",
       "      <th>541</th>\n",
       "      <td>$406.00</td>\n",
       "      <td>$-2.31</td>\n",
       "      <td>$1.95</td>\n",
       "      <td>$-1.61</td>\n",
       "      <td>$4.00</td>\n",
       "      <td>$-0.52</td>\n",
       "      <td>$-1.43</td>\n",
       "      <td>$-2.54</td>\n",
       "      <td>$1.39</td>\n",
       "      <td>$-2.77</td>\n",
       "      <td>$-2.77</td>\n",
       "      <td>$3.20</td>\n",
       "      <td>$-2.90</td>\n",
       "      <td>$-0.60</td>\n",
       "      <td>$-4.29</td>\n",
       "      <td>$0.39</td>\n",
       "      <td>$-1.14</td>\n",
       "      <td>$-2.83</td>\n",
       "      <td>$-0.02</td>\n",
       "      <td>$0.42</td>\n",
       "      <td>$0.13</td>\n",
       "      <td>$0.52</td>\n",
       "      <td>$-0.04</td>\n",
       "      <td>$-0.47</td>\n",
       "      <td>$0.32</td>\n",
       "      <td>$0.04</td>\n",
       "      <td>$0.18</td>\n",
       "      <td>$0.26</td>\n",
       "      <td>$-0.14</td>\n",
       "      <td>$0.00</td>\n",
       "      <td>1</td>\n",
       "    </tr>\n",
       "    <tr>\n",
       "      <th>623</th>\n",
       "      <td>$472.00</td>\n",
       "      <td>$-3.04</td>\n",
       "      <td>$-3.16</td>\n",
       "      <td>$1.09</td>\n",
       "      <td>$2.29</td>\n",
       "      <td>$1.36</td>\n",
       "      <td>$-1.06</td>\n",
       "      <td>$0.33</td>\n",
       "      <td>$-0.07</td>\n",
       "      <td>$-0.27</td>\n",
       "      <td>$-0.84</td>\n",
       "      <td>$-0.41</td>\n",
       "      <td>$-0.50</td>\n",
       "      <td>$0.68</td>\n",
       "      <td>$-1.69</td>\n",
       "      <td>$2.00</td>\n",
       "      <td>$0.67</td>\n",
       "      <td>$0.60</td>\n",
       "      <td>$1.73</td>\n",
       "      <td>$0.28</td>\n",
       "      <td>$2.10</td>\n",
       "      <td>$0.66</td>\n",
       "      <td>$0.44</td>\n",
       "      <td>$1.38</td>\n",
       "      <td>$-0.29</td>\n",
       "      <td>$0.28</td>\n",
       "      <td>$-0.15</td>\n",
       "      <td>$-0.25</td>\n",
       "      <td>$0.04</td>\n",
       "      <td>$529.00</td>\n",
       "      <td>1</td>\n",
       "    </tr>\n",
       "    <tr>\n",
       "      <th>4920</th>\n",
       "      <td>$4,462.00</td>\n",
       "      <td>$-2.30</td>\n",
       "      <td>$1.76</td>\n",
       "      <td>$-0.36</td>\n",
       "      <td>$2.33</td>\n",
       "      <td>$-0.82</td>\n",
       "      <td>$-0.08</td>\n",
       "      <td>$0.56</td>\n",
       "      <td>$-0.40</td>\n",
       "      <td>$-0.24</td>\n",
       "      <td>$-1.53</td>\n",
       "      <td>$2.03</td>\n",
       "      <td>$-6.56</td>\n",
       "      <td>$0.02</td>\n",
       "      <td>$-1.47</td>\n",
       "      <td>$-0.70</td>\n",
       "      <td>$-2.28</td>\n",
       "      <td>$-4.78</td>\n",
       "      <td>$-2.62</td>\n",
       "      <td>$-1.33</td>\n",
       "      <td>$-0.43</td>\n",
       "      <td>$-0.29</td>\n",
       "      <td>$-0.93</td>\n",
       "      <td>$0.17</td>\n",
       "      <td>$-0.09</td>\n",
       "      <td>$-0.16</td>\n",
       "      <td>$-0.54</td>\n",
       "      <td>$0.04</td>\n",
       "      <td>$-0.15</td>\n",
       "      <td>$239.93</td>\n",
       "      <td>1</td>\n",
       "    </tr>\n",
       "    <tr>\n",
       "      <th>6108</th>\n",
       "      <td>$6,986.00</td>\n",
       "      <td>$-4.40</td>\n",
       "      <td>$1.36</td>\n",
       "      <td>$-2.59</td>\n",
       "      <td>$2.68</td>\n",
       "      <td>$-1.13</td>\n",
       "      <td>$-1.71</td>\n",
       "      <td>$-3.50</td>\n",
       "      <td>$-0.25</td>\n",
       "      <td>$-0.25</td>\n",
       "      <td>$-4.80</td>\n",
       "      <td>$4.90</td>\n",
       "      <td>$-10.91</td>\n",
       "      <td>$0.18</td>\n",
       "      <td>$-6.77</td>\n",
       "      <td>$-0.01</td>\n",
       "      <td>$-7.36</td>\n",
       "      <td>$-12.60</td>\n",
       "      <td>$-5.13</td>\n",
       "      <td>$0.31</td>\n",
       "      <td>$-0.17</td>\n",
       "      <td>$0.57</td>\n",
       "      <td>$0.18</td>\n",
       "      <td>$-0.44</td>\n",
       "      <td>$-0.05</td>\n",
       "      <td>$0.25</td>\n",
       "      <td>$-0.66</td>\n",
       "      <td>$-0.83</td>\n",
       "      <td>$0.85</td>\n",
       "      <td>$59.00</td>\n",
       "      <td>1</td>\n",
       "    </tr>\n",
       "    <tr>\n",
       "      <th>6329</th>\n",
       "      <td>$7,519.00</td>\n",
       "      <td>$1.23</td>\n",
       "      <td>$3.02</td>\n",
       "      <td>$-4.30</td>\n",
       "      <td>$4.73</td>\n",
       "      <td>$3.62</td>\n",
       "      <td>$-1.36</td>\n",
       "      <td>$1.71</td>\n",
       "      <td>$-0.50</td>\n",
       "      <td>$-1.28</td>\n",
       "      <td>$-2.45</td>\n",
       "      <td>$2.10</td>\n",
       "      <td>$-4.61</td>\n",
       "      <td>$1.46</td>\n",
       "      <td>$-6.08</td>\n",
       "      <td>$-0.34</td>\n",
       "      <td>$2.58</td>\n",
       "      <td>$6.74</td>\n",
       "      <td>$3.04</td>\n",
       "      <td>$-2.72</td>\n",
       "      <td>$0.01</td>\n",
       "      <td>$-0.38</td>\n",
       "      <td>$-0.70</td>\n",
       "      <td>$-0.66</td>\n",
       "      <td>$-1.63</td>\n",
       "      <td>$1.49</td>\n",
       "      <td>$0.57</td>\n",
       "      <td>$-0.01</td>\n",
       "      <td>$0.15</td>\n",
       "      <td>$1.00</td>\n",
       "      <td>1</td>\n",
       "    </tr>\n",
       "    <tr>\n",
       "      <th>...</th>\n",
       "      <td>...</td>\n",
       "      <td>...</td>\n",
       "      <td>...</td>\n",
       "      <td>...</td>\n",
       "      <td>...</td>\n",
       "      <td>...</td>\n",
       "      <td>...</td>\n",
       "      <td>...</td>\n",
       "      <td>...</td>\n",
       "      <td>...</td>\n",
       "      <td>...</td>\n",
       "      <td>...</td>\n",
       "      <td>...</td>\n",
       "      <td>...</td>\n",
       "      <td>...</td>\n",
       "      <td>...</td>\n",
       "      <td>...</td>\n",
       "      <td>...</td>\n",
       "      <td>...</td>\n",
       "      <td>...</td>\n",
       "      <td>...</td>\n",
       "      <td>...</td>\n",
       "      <td>...</td>\n",
       "      <td>...</td>\n",
       "      <td>...</td>\n",
       "      <td>...</td>\n",
       "      <td>...</td>\n",
       "      <td>...</td>\n",
       "      <td>...</td>\n",
       "      <td>...</td>\n",
       "      <td>...</td>\n",
       "    </tr>\n",
       "    <tr>\n",
       "      <th>279863</th>\n",
       "      <td>$169,142.00</td>\n",
       "      <td>$-1.93</td>\n",
       "      <td>$1.13</td>\n",
       "      <td>$-4.52</td>\n",
       "      <td>$1.75</td>\n",
       "      <td>$-1.57</td>\n",
       "      <td>$-2.01</td>\n",
       "      <td>$-0.88</td>\n",
       "      <td>$0.70</td>\n",
       "      <td>$-2.06</td>\n",
       "      <td>$-5.59</td>\n",
       "      <td>$2.12</td>\n",
       "      <td>$-5.42</td>\n",
       "      <td>$-1.24</td>\n",
       "      <td>$-6.67</td>\n",
       "      <td>$0.40</td>\n",
       "      <td>$-2.90</td>\n",
       "      <td>$-4.57</td>\n",
       "      <td>$-1.32</td>\n",
       "      <td>$0.39</td>\n",
       "      <td>$1.25</td>\n",
       "      <td>$0.78</td>\n",
       "      <td>$-0.32</td>\n",
       "      <td>$0.64</td>\n",
       "      <td>$-0.29</td>\n",
       "      <td>$0.54</td>\n",
       "      <td>$0.79</td>\n",
       "      <td>$0.29</td>\n",
       "      <td>$0.15</td>\n",
       "      <td>$390.00</td>\n",
       "      <td>1</td>\n",
       "    </tr>\n",
       "    <tr>\n",
       "      <th>280143</th>\n",
       "      <td>$169,347.00</td>\n",
       "      <td>$1.38</td>\n",
       "      <td>$1.29</td>\n",
       "      <td>$-5.00</td>\n",
       "      <td>$1.41</td>\n",
       "      <td>$0.44</td>\n",
       "      <td>$-1.33</td>\n",
       "      <td>$-1.41</td>\n",
       "      <td>$0.25</td>\n",
       "      <td>$-1.13</td>\n",
       "      <td>$-3.23</td>\n",
       "      <td>$2.86</td>\n",
       "      <td>$-3.10</td>\n",
       "      <td>$-0.79</td>\n",
       "      <td>$-5.21</td>\n",
       "      <td>$-0.61</td>\n",
       "      <td>$-2.16</td>\n",
       "      <td>$-3.27</td>\n",
       "      <td>$-0.69</td>\n",
       "      <td>$0.74</td>\n",
       "      <td>$0.23</td>\n",
       "      <td>$0.37</td>\n",
       "      <td>$0.03</td>\n",
       "      <td>$-0.15</td>\n",
       "      <td>$-0.08</td>\n",
       "      <td>$0.52</td>\n",
       "      <td>$0.74</td>\n",
       "      <td>$0.39</td>\n",
       "      <td>$0.19</td>\n",
       "      <td>$0.76</td>\n",
       "      <td>1</td>\n",
       "    </tr>\n",
       "    <tr>\n",
       "      <th>280149</th>\n",
       "      <td>$169,351.00</td>\n",
       "      <td>$-0.68</td>\n",
       "      <td>$1.13</td>\n",
       "      <td>$-2.21</td>\n",
       "      <td>$0.47</td>\n",
       "      <td>$-1.12</td>\n",
       "      <td>$-0.00</td>\n",
       "      <td>$-2.23</td>\n",
       "      <td>$1.21</td>\n",
       "      <td>$-0.65</td>\n",
       "      <td>$-3.46</td>\n",
       "      <td>$1.79</td>\n",
       "      <td>$-2.78</td>\n",
       "      <td>$-0.42</td>\n",
       "      <td>$-4.06</td>\n",
       "      <td>$-0.71</td>\n",
       "      <td>$-1.60</td>\n",
       "      <td>$-5.04</td>\n",
       "      <td>$-0.51</td>\n",
       "      <td>$0.27</td>\n",
       "      <td>$0.25</td>\n",
       "      <td>$0.75</td>\n",
       "      <td>$0.83</td>\n",
       "      <td>$0.19</td>\n",
       "      <td>$0.03</td>\n",
       "      <td>$-0.74</td>\n",
       "      <td>$0.47</td>\n",
       "      <td>$0.39</td>\n",
       "      <td>$0.19</td>\n",
       "      <td>$77.89</td>\n",
       "      <td>1</td>\n",
       "    </tr>\n",
       "    <tr>\n",
       "      <th>281144</th>\n",
       "      <td>$169,966.00</td>\n",
       "      <td>$-3.11</td>\n",
       "      <td>$0.59</td>\n",
       "      <td>$-5.40</td>\n",
       "      <td>$1.82</td>\n",
       "      <td>$-0.84</td>\n",
       "      <td>$-2.94</td>\n",
       "      <td>$-2.21</td>\n",
       "      <td>$1.06</td>\n",
       "      <td>$-1.63</td>\n",
       "      <td>$-5.25</td>\n",
       "      <td>$1.93</td>\n",
       "      <td>$-5.03</td>\n",
       "      <td>$-1.13</td>\n",
       "      <td>$-6.42</td>\n",
       "      <td>$0.14</td>\n",
       "      <td>$-2.55</td>\n",
       "      <td>$-4.61</td>\n",
       "      <td>$-1.48</td>\n",
       "      <td>$-0.04</td>\n",
       "      <td>$0.31</td>\n",
       "      <td>$0.58</td>\n",
       "      <td>$-0.27</td>\n",
       "      <td>$-0.46</td>\n",
       "      <td>$-0.18</td>\n",
       "      <td>$-0.33</td>\n",
       "      <td>$0.61</td>\n",
       "      <td>$0.88</td>\n",
       "      <td>$-0.25</td>\n",
       "      <td>$245.00</td>\n",
       "      <td>1</td>\n",
       "    </tr>\n",
       "    <tr>\n",
       "      <th>281674</th>\n",
       "      <td>$170,348.00</td>\n",
       "      <td>$1.99</td>\n",
       "      <td>$0.16</td>\n",
       "      <td>$-2.58</td>\n",
       "      <td>$0.41</td>\n",
       "      <td>$1.15</td>\n",
       "      <td>$-0.10</td>\n",
       "      <td>$0.22</td>\n",
       "      <td>$-0.07</td>\n",
       "      <td>$0.58</td>\n",
       "      <td>$-0.89</td>\n",
       "      <td>$0.49</td>\n",
       "      <td>$0.73</td>\n",
       "      <td>$0.38</td>\n",
       "      <td>$-1.95</td>\n",
       "      <td>$-0.83</td>\n",
       "      <td>$0.52</td>\n",
       "      <td>$0.90</td>\n",
       "      <td>$1.20</td>\n",
       "      <td>$0.59</td>\n",
       "      <td>$-0.02</td>\n",
       "      <td>$-0.16</td>\n",
       "      <td>$-0.30</td>\n",
       "      <td>$-0.07</td>\n",
       "      <td>$-0.45</td>\n",
       "      <td>$0.31</td>\n",
       "      <td>$-0.29</td>\n",
       "      <td>$0.00</td>\n",
       "      <td>$-0.02</td>\n",
       "      <td>$42.53</td>\n",
       "      <td>1</td>\n",
       "    </tr>\n",
       "  </tbody>\n",
       "</table>\n",
       "<p>492 rows × 31 columns</p>\n",
       "</div>"
      ],
      "text/plain": [
       "              Time     V1     V2     V3    V4     V5     V6     V7     V8  \\\n",
       "541        $406.00 $-2.31  $1.95 $-1.61 $4.00 $-0.52 $-1.43 $-2.54  $1.39   \n",
       "623        $472.00 $-3.04 $-3.16  $1.09 $2.29  $1.36 $-1.06  $0.33 $-0.07   \n",
       "4920     $4,462.00 $-2.30  $1.76 $-0.36 $2.33 $-0.82 $-0.08  $0.56 $-0.40   \n",
       "6108     $6,986.00 $-4.40  $1.36 $-2.59 $2.68 $-1.13 $-1.71 $-3.50 $-0.25   \n",
       "6329     $7,519.00  $1.23  $3.02 $-4.30 $4.73  $3.62 $-1.36  $1.71 $-0.50   \n",
       "...            ...    ...    ...    ...   ...    ...    ...    ...    ...   \n",
       "279863 $169,142.00 $-1.93  $1.13 $-4.52 $1.75 $-1.57 $-2.01 $-0.88  $0.70   \n",
       "280143 $169,347.00  $1.38  $1.29 $-5.00 $1.41  $0.44 $-1.33 $-1.41  $0.25   \n",
       "280149 $169,351.00 $-0.68  $1.13 $-2.21 $0.47 $-1.12 $-0.00 $-2.23  $1.21   \n",
       "281144 $169,966.00 $-3.11  $0.59 $-5.40 $1.82 $-0.84 $-2.94 $-2.21  $1.06   \n",
       "281674 $170,348.00  $1.99  $0.16 $-2.58 $0.41  $1.15 $-0.10  $0.22 $-0.07   \n",
       "\n",
       "           V9    V10    V11     V12    V13    V14    V15    V16     V17  \\\n",
       "541    $-2.77 $-2.77  $3.20  $-2.90 $-0.60 $-4.29  $0.39 $-1.14  $-2.83   \n",
       "623    $-0.27 $-0.84 $-0.41  $-0.50  $0.68 $-1.69  $2.00  $0.67   $0.60   \n",
       "4920   $-0.24 $-1.53  $2.03  $-6.56  $0.02 $-1.47 $-0.70 $-2.28  $-4.78   \n",
       "6108   $-0.25 $-4.80  $4.90 $-10.91  $0.18 $-6.77 $-0.01 $-7.36 $-12.60   \n",
       "6329   $-1.28 $-2.45  $2.10  $-4.61  $1.46 $-6.08 $-0.34  $2.58   $6.74   \n",
       "...       ...    ...    ...     ...    ...    ...    ...    ...     ...   \n",
       "279863 $-2.06 $-5.59  $2.12  $-5.42 $-1.24 $-6.67  $0.40 $-2.90  $-4.57   \n",
       "280143 $-1.13 $-3.23  $2.86  $-3.10 $-0.79 $-5.21 $-0.61 $-2.16  $-3.27   \n",
       "280149 $-0.65 $-3.46  $1.79  $-2.78 $-0.42 $-4.06 $-0.71 $-1.60  $-5.04   \n",
       "281144 $-1.63 $-5.25  $1.93  $-5.03 $-1.13 $-6.42  $0.14 $-2.55  $-4.61   \n",
       "281674  $0.58 $-0.89  $0.49   $0.73  $0.38 $-1.95 $-0.83  $0.52   $0.90   \n",
       "\n",
       "          V18    V19    V20    V21    V22    V23    V24    V25    V26    V27  \\\n",
       "541    $-0.02  $0.42  $0.13  $0.52 $-0.04 $-0.47  $0.32  $0.04  $0.18  $0.26   \n",
       "623     $1.73  $0.28  $2.10  $0.66  $0.44  $1.38 $-0.29  $0.28 $-0.15 $-0.25   \n",
       "4920   $-2.62 $-1.33 $-0.43 $-0.29 $-0.93  $0.17 $-0.09 $-0.16 $-0.54  $0.04   \n",
       "6108   $-5.13  $0.31 $-0.17  $0.57  $0.18 $-0.44 $-0.05  $0.25 $-0.66 $-0.83   \n",
       "6329    $3.04 $-2.72  $0.01 $-0.38 $-0.70 $-0.66 $-1.63  $1.49  $0.57 $-0.01   \n",
       "...       ...    ...    ...    ...    ...    ...    ...    ...    ...    ...   \n",
       "279863 $-1.32  $0.39  $1.25  $0.78 $-0.32  $0.64 $-0.29  $0.54  $0.79  $0.29   \n",
       "280143 $-0.69  $0.74  $0.23  $0.37  $0.03 $-0.15 $-0.08  $0.52  $0.74  $0.39   \n",
       "280149 $-0.51  $0.27  $0.25  $0.75  $0.83  $0.19  $0.03 $-0.74  $0.47  $0.39   \n",
       "281144 $-1.48 $-0.04  $0.31  $0.58 $-0.27 $-0.46 $-0.18 $-0.33  $0.61  $0.88   \n",
       "281674  $1.20  $0.59 $-0.02 $-0.16 $-0.30 $-0.07 $-0.45  $0.31 $-0.29  $0.00   \n",
       "\n",
       "          V28  Amount  Class  \n",
       "541    $-0.14   $0.00      1  \n",
       "623     $0.04 $529.00      1  \n",
       "4920   $-0.15 $239.93      1  \n",
       "6108    $0.85  $59.00      1  \n",
       "6329    $0.15   $1.00      1  \n",
       "...       ...     ...    ...  \n",
       "279863  $0.15 $390.00      1  \n",
       "280143  $0.19   $0.76      1  \n",
       "280149  $0.19  $77.89      1  \n",
       "281144 $-0.25 $245.00      1  \n",
       "281674 $-0.02  $42.53      1  \n",
       "\n",
       "[492 rows x 31 columns]"
      ]
     },
     "execution_count": 4,
     "metadata": {},
     "output_type": "execute_result"
    }
   ],
   "source": [
    "df[df.Class==1]"
   ]
  },
  {
   "cell_type": "code",
   "execution_count": 5,
   "metadata": {},
   "outputs": [
    {
     "name": "stdout",
     "output_type": "stream",
     "text": [
      "<class 'pandas.core.frame.DataFrame'>\n",
      "RangeIndex: 284807 entries, 0 to 284806\n",
      "Data columns (total 31 columns):\n",
      " #   Column  Non-Null Count   Dtype  \n",
      "---  ------  --------------   -----  \n",
      " 0   Time    284807 non-null  float64\n",
      " 1   V1      284807 non-null  float64\n",
      " 2   V2      284807 non-null  float64\n",
      " 3   V3      284807 non-null  float64\n",
      " 4   V4      284807 non-null  float64\n",
      " 5   V5      284807 non-null  float64\n",
      " 6   V6      284807 non-null  float64\n",
      " 7   V7      284807 non-null  float64\n",
      " 8   V8      284807 non-null  float64\n",
      " 9   V9      284807 non-null  float64\n",
      " 10  V10     284807 non-null  float64\n",
      " 11  V11     284807 non-null  float64\n",
      " 12  V12     284807 non-null  float64\n",
      " 13  V13     284807 non-null  float64\n",
      " 14  V14     284807 non-null  float64\n",
      " 15  V15     284807 non-null  float64\n",
      " 16  V16     284807 non-null  float64\n",
      " 17  V17     284807 non-null  float64\n",
      " 18  V18     284807 non-null  float64\n",
      " 19  V19     284807 non-null  float64\n",
      " 20  V20     284807 non-null  float64\n",
      " 21  V21     284807 non-null  float64\n",
      " 22  V22     284807 non-null  float64\n",
      " 23  V23     284807 non-null  float64\n",
      " 24  V24     284807 non-null  float64\n",
      " 25  V25     284807 non-null  float64\n",
      " 26  V26     284807 non-null  float64\n",
      " 27  V27     284807 non-null  float64\n",
      " 28  V28     284807 non-null  float64\n",
      " 29  Amount  284807 non-null  float64\n",
      " 30  Class   284807 non-null  int64  \n",
      "dtypes: float64(30), int64(1)\n",
      "memory usage: 67.4 MB\n"
     ]
    }
   ],
   "source": [
    "df.info()"
   ]
  },
  {
   "cell_type": "markdown",
   "metadata": {
    "id": "K22reBkbMuHa"
   },
   "source": [
    "### Exploratory Data Analysis"
   ]
  },
  {
   "cell_type": "markdown",
   "metadata": {
    "id": "NGyEoz9fJQ0E"
   },
   "source": [
    "### Data Cleaning\n",
    "Check Missing Values and Outliers"
   ]
  },
  {
   "cell_type": "code",
   "execution_count": 6,
   "metadata": {
    "id": "BvpEPuGAMuHa"
   },
   "outputs": [
    {
     "data": {
      "text/plain": [
       "False"
      ]
     },
     "execution_count": 6,
     "metadata": {},
     "output_type": "execute_result"
    }
   ],
   "source": [
    "df.isnull().sum().any()"
   ]
  },
  {
   "cell_type": "code",
   "execution_count": 7,
   "metadata": {},
   "outputs": [
    {
     "data": {
      "text/plain": [
       "0    284315\n",
       "1       492\n",
       "Name: Class, dtype: int64"
      ]
     },
     "execution_count": 7,
     "metadata": {},
     "output_type": "execute_result"
    }
   ],
   "source": [
    "df.Class.value_counts()"
   ]
  },
  {
   "cell_type": "code",
   "execution_count": 8,
   "metadata": {},
   "outputs": [
    {
     "name": "stderr",
     "output_type": "stream",
     "text": [
      "D:\\Anaconda belgeler\\lib\\site-packages\\seaborn\\_decorators.py:36: FutureWarning: Pass the following variable as a keyword arg: x. From version 0.12, the only valid positional argument will be `data`, and passing other arguments without an explicit keyword will result in an error or misinterpretation.\n",
      "  warnings.warn(\n"
     ]
    },
    {
     "data": {
      "text/plain": [
       "<AxesSubplot:xlabel='Class', ylabel='count'>"
      ]
     },
     "execution_count": 8,
     "metadata": {},
     "output_type": "execute_result"
    },
    {
     "data": {
      "image/png": "[encoded data removed]",
      "text/plain": [
       "<Figure size 432x288 with 1 Axes>"
      ]
     },
     "metadata": {
      "needs_background": "light"
     },
     "output_type": "display_data"
    }
   ],
   "source": [
    "sns.countplot(df.Class)"
   ]
  },
  {
   "cell_type": "markdown",
   "metadata": {
    "id": "tMOO7g-sMuHb"
   },
   "source": [
    "---\n",
    "---\n"
   ]
  },
  {
   "cell_type": "markdown",
   "metadata": {
    "id": "Yf6VvH6WMuHb"
   },
   "source": [
    "## 2. Data Preprocessing"
   ]
  },
  {
   "cell_type": "markdown",
   "metadata": {
    "id": "OV28RJBeMuHb"
   },
   "source": [
    "#### Scaling"
   ]
  },
  {
   "cell_type": "code",
   "execution_count": 9,
   "metadata": {},
   "outputs": [],
   "source": [
    "from sklearn.preprocessing import MinMaxScaler\n",
    "scaler=MinMaxScaler().fit(df[[\"Amount\"]])\n",
    "df[[\"Amount\"]]=scaler.transform(df[[\"Amount\"]])"
   ]
  },
  {
   "cell_type": "code",
   "execution_count": 10,
   "metadata": {},
   "outputs": [
    {
     "data": {
      "text/html": [
       "<div>\n",
       "<style scoped>\n",
       "    .dataframe tbody tr th:only-of-type {\n",
       "        vertical-align: middle;\n",
       "    }\n",
       "\n",
       "    .dataframe tbody tr th {\n",
       "        vertical-align: top;\n",
       "    }\n",
       "\n",
       "    .dataframe thead th {\n",
       "        text-align: right;\n",
       "    }\n",
       "</style>\n",
       "<table border=\"1\" class=\"dataframe\">\n",
       "  <thead>\n",
       "    <tr style=\"text-align: right;\">\n",
       "      <th></th>\n",
       "      <th>Time</th>\n",
       "      <th>V1</th>\n",
       "      <th>V2</th>\n",
       "      <th>V3</th>\n",
       "      <th>V4</th>\n",
       "      <th>V5</th>\n",
       "      <th>V6</th>\n",
       "      <th>V7</th>\n",
       "      <th>V8</th>\n",
       "      <th>V9</th>\n",
       "      <th>V10</th>\n",
       "      <th>V11</th>\n",
       "      <th>V12</th>\n",
       "      <th>V13</th>\n",
       "      <th>V14</th>\n",
       "      <th>V15</th>\n",
       "      <th>V16</th>\n",
       "      <th>V17</th>\n",
       "      <th>V18</th>\n",
       "      <th>V19</th>\n",
       "      <th>V20</th>\n",
       "      <th>V21</th>\n",
       "      <th>V22</th>\n",
       "      <th>V23</th>\n",
       "      <th>V24</th>\n",
       "      <th>V25</th>\n",
       "      <th>V26</th>\n",
       "      <th>V27</th>\n",
       "      <th>V28</th>\n",
       "      <th>Amount</th>\n",
       "      <th>Class</th>\n",
       "    </tr>\n",
       "  </thead>\n",
       "  <tbody>\n",
       "    <tr>\n",
       "      <th>0</th>\n",
       "      <td>$0.00</td>\n",
       "      <td>$-1.36</td>\n",
       "      <td>$-0.07</td>\n",
       "      <td>$2.54</td>\n",
       "      <td>$1.38</td>\n",
       "      <td>$-0.34</td>\n",
       "      <td>$0.46</td>\n",
       "      <td>$0.24</td>\n",
       "      <td>$0.10</td>\n",
       "      <td>$0.36</td>\n",
       "      <td>$0.09</td>\n",
       "      <td>$-0.55</td>\n",
       "      <td>$-0.62</td>\n",
       "      <td>$-0.99</td>\n",
       "      <td>$-0.31</td>\n",
       "      <td>$1.47</td>\n",
       "      <td>$-0.47</td>\n",
       "      <td>$0.21</td>\n",
       "      <td>$0.03</td>\n",
       "      <td>$0.40</td>\n",
       "      <td>$0.25</td>\n",
       "      <td>$-0.02</td>\n",
       "      <td>$0.28</td>\n",
       "      <td>$-0.11</td>\n",
       "      <td>$0.07</td>\n",
       "      <td>$0.13</td>\n",
       "      <td>$-0.19</td>\n",
       "      <td>$0.13</td>\n",
       "      <td>$-0.02</td>\n",
       "      <td>$0.01</td>\n",
       "      <td>0</td>\n",
       "    </tr>\n",
       "    <tr>\n",
       "      <th>1</th>\n",
       "      <td>$0.00</td>\n",
       "      <td>$1.19</td>\n",
       "      <td>$0.27</td>\n",
       "      <td>$0.17</td>\n",
       "      <td>$0.45</td>\n",
       "      <td>$0.06</td>\n",
       "      <td>$-0.08</td>\n",
       "      <td>$-0.08</td>\n",
       "      <td>$0.09</td>\n",
       "      <td>$-0.26</td>\n",
       "      <td>$-0.17</td>\n",
       "      <td>$1.61</td>\n",
       "      <td>$1.07</td>\n",
       "      <td>$0.49</td>\n",
       "      <td>$-0.14</td>\n",
       "      <td>$0.64</td>\n",
       "      <td>$0.46</td>\n",
       "      <td>$-0.11</td>\n",
       "      <td>$-0.18</td>\n",
       "      <td>$-0.15</td>\n",
       "      <td>$-0.07</td>\n",
       "      <td>$-0.23</td>\n",
       "      <td>$-0.64</td>\n",
       "      <td>$0.10</td>\n",
       "      <td>$-0.34</td>\n",
       "      <td>$0.17</td>\n",
       "      <td>$0.13</td>\n",
       "      <td>$-0.01</td>\n",
       "      <td>$0.01</td>\n",
       "      <td>$0.00</td>\n",
       "      <td>0</td>\n",
       "    </tr>\n",
       "  </tbody>\n",
       "</table>\n",
       "</div>"
      ],
      "text/plain": [
       "   Time     V1     V2    V3    V4     V5     V6     V7    V8     V9    V10  \\\n",
       "0 $0.00 $-1.36 $-0.07 $2.54 $1.38 $-0.34  $0.46  $0.24 $0.10  $0.36  $0.09   \n",
       "1 $0.00  $1.19  $0.27 $0.17 $0.45  $0.06 $-0.08 $-0.08 $0.09 $-0.26 $-0.17   \n",
       "\n",
       "     V11    V12    V13    V14   V15    V16    V17    V18    V19    V20    V21  \\\n",
       "0 $-0.55 $-0.62 $-0.99 $-0.31 $1.47 $-0.47  $0.21  $0.03  $0.40  $0.25 $-0.02   \n",
       "1  $1.61  $1.07  $0.49 $-0.14 $0.64  $0.46 $-0.11 $-0.18 $-0.15 $-0.07 $-0.23   \n",
       "\n",
       "     V22    V23    V24   V25    V26    V27    V28  Amount  Class  \n",
       "0  $0.28 $-0.11  $0.07 $0.13 $-0.19  $0.13 $-0.02   $0.01      0  \n",
       "1 $-0.64  $0.10 $-0.34 $0.17  $0.13 $-0.01  $0.01   $0.00      0  "
      ]
     },
     "execution_count": 10,
     "metadata": {},
     "output_type": "execute_result"
    }
   ],
   "source": [
    "df.head(2)"
   ]
  },
  {
   "cell_type": "markdown",
   "metadata": {
    "id": "hlm6gCsKMuHb"
   },
   "source": [
    "#### Train - Test Split\n",
    "\n",
    "As in this case, for extremely imbalanced datasets you may want to make sure that classes are balanced across train and test data."
   ]
  },
  {
   "cell_type": "code",
   "execution_count": 11,
   "metadata": {
    "id": "AuzpxEmKMuHb"
   },
   "outputs": [],
   "source": [
    "X=df.drop(\"Class\", axis=1)\n",
    "y=df.Class"
   ]
  },
  {
   "cell_type": "code",
   "execution_count": 12,
   "metadata": {},
   "outputs": [],
   "source": [
    "from sklearn.model_selection import train_test_split\n",
    "X_train,X_test,y_train,y_test=train_test_split(X,y,test_size=0.3, stratify=y)"
   ]
  },
  {
   "cell_type": "code",
   "execution_count": 13,
   "metadata": {},
   "outputs": [],
   "source": [
    "from imblearn import over_sampling\n",
    "from imblearn.over_sampling import SMOTE"
   ]
  },
  {
   "cell_type": "code",
   "execution_count": 14,
   "metadata": {},
   "outputs": [
    {
     "name": "stdout",
     "output_type": "stream",
     "text": [
      "Before OverSampling, counts of label '1': 344\n",
      "Before OverSampling, counts of label '0': 199020 \n",
      "\n",
      "After OverSampling, the shape of X_train_new: (398040, 30)\n",
      "After OverSampling, the shape of y_train_new: (398040,) \n",
      "\n",
      "After OverSampling, counts of label '1': 199020\n",
      "After OverSampling, counts of label '0': 199020\n"
     ]
    }
   ],
   "source": [
    "print(\"Before OverSampling, counts of label '1': {}\".format(sum(y_train==1)))\n",
    "print(\"Before OverSampling, counts of label '0': {} \\n\".format(sum(y_train==0)))\n",
    "\n",
    "sm = SMOTE(random_state=41)\n",
    "X_train_new, y_train_new = sm.fit_sample(X_train, y_train)\n",
    "\n",
    "print('After OverSampling, the shape of X_train_new: {}'.format(X_train_new.shape))\n",
    "print('After OverSampling, the shape of y_train_new: {} \\n'.format(y_train_new.shape))\n",
    "\n",
    "print(\"After OverSampling, counts of label '1': {}\".format(sum(y_train_new==1)))\n",
    "print(\"After OverSampling, counts of label '0': {}\".format(sum(y_train_new==0)))"
   ]
  },
  {
   "cell_type": "markdown",
   "metadata": {
    "id": "HO4HAIofMuHc"
   },
   "source": [
    "---\n",
    "---\n"
   ]
  },
  {
   "cell_type": "markdown",
   "metadata": {
    "id": "MwQdl4PdJQ0I"
   },
   "source": [
    "## 3. Model Building\n",
    "It was previously stated that you need to make class prediction with three different algorithms. As in this case, different approaches are required to obtain better performance on unbalanced data.\n",
    "\n",
    "This dataset is severely **unbalanced** (most of the transactions are non-fraud). So the algorithms are much more likely to classify new observations to the majority class and high accuracy won't tell us anything. To address the problem of imbalanced dataset we can use undersampling and oversampling data approach techniques. Oversampling increases the number of minority class members in the training set. The advantage of oversampling is that no information from the original training set is lost unlike in undersampling, as all observations from the minority and majority classes are kept. On the other hand, it is prone to overfitting. \n",
    "\n",
    "There is a type of oversampling called **[SMOTE](https://www.geeksforgeeks.org/ml-handling-imbalanced-data-with-smote-and-near-miss-algorithm-in-python/)** (Synthetic Minority Oversampling Technique), which we are going to use to make our dataset balanced. It creates synthetic points from the minority class."
   ]
  },
  {
   "cell_type": "markdown",
   "metadata": {
    "id": "o48s5BCdMuHd"
   },
   "source": [
    "***i. Import Libraries***"
   ]
  },
  {
   "cell_type": "code",
   "execution_count": 15,
   "metadata": {
    "id": "3G3cx-UjMuHd"
   },
   "outputs": [],
   "source": [
    "from sklearn.linear_model import LogisticRegression"
   ]
  },
  {
   "cell_type": "markdown",
   "metadata": {
    "id": "6KD76bc5MuHd"
   },
   "source": [
    "***ii. Model Training***"
   ]
  },
  {
   "cell_type": "code",
   "execution_count": 16,
   "metadata": {
    "id": "g7GAK-u3MuHd"
   },
   "outputs": [
    {
     "name": "stderr",
     "output_type": "stream",
     "text": [
      "D:\\Anaconda belgeler\\lib\\site-packages\\sklearn\\linear_model\\_logistic.py:762: ConvergenceWarning: lbfgs failed to converge (status=1):\n",
      "STOP: TOTAL NO. of ITERATIONS REACHED LIMIT.\n",
      "\n",
      "Increase the number of iterations (max_iter) or scale the data as shown in:\n",
      "    https://scikit-learn.org/stable/modules/preprocessing.html\n",
      "Please also refer to the documentation for alternative solver options:\n",
      "    https://scikit-learn.org/stable/modules/linear_model.html#logistic-regression\n",
      "  n_iter_i = _check_optimize_result(\n"
     ]
    }
   ],
   "source": [
    "lr=LogisticRegression(solver='lbfgs').fit(X_train_new, y_train_new)"
   ]
  },
  {
   "cell_type": "markdown",
   "metadata": {
    "id": "uvKAJVTNMuHd"
   },
   "source": [
    "***iii. Prediction and Model Evaluating***"
   ]
  },
  {
   "cell_type": "code",
   "execution_count": 17,
   "metadata": {
    "id": "Kb68hH1TMuHd"
   },
   "outputs": [],
   "source": [
    "y_predlr=lr.predict(X_test)"
   ]
  },
  {
   "cell_type": "markdown",
   "metadata": {
    "id": "l193OP5fMuHd"
   },
   "source": [
    "\n",
    "You're evaluating \"accuracy score\"? Is your performance metric reflect real success? You may need to use different metrics to evaluate performance on unbalanced data. You should use **[precision and recall metrics](https://scikit-learn.org/stable/auto_examples/model_selection/plot_precision_recall.html#:~:text=The%20precision%2Drecall%20curve%20shows,a%20low%20false%20negative%20rate.)**."
   ]
  },
  {
   "cell_type": "markdown",
   "metadata": {
    "id": "fUDt5voIMuHe"
   },
   "source": [
    "***iv. Plot Precision and Recall Curve***\n"
   ]
  },
  {
   "cell_type": "code",
   "execution_count": 18,
   "metadata": {
    "id": "WI0OI9SDMuHe"
   },
   "outputs": [],
   "source": [
    "from sklearn.metrics import accuracy_score, recall_score, precision_score, roc_auc_score, roc_curve, confusion_matrix, classification_report,precision_recall_curve"
   ]
  },
  {
   "cell_type": "code",
   "execution_count": 19,
   "metadata": {
    "id": "8ugUuOhhMuHe"
   },
   "outputs": [
    {
     "data": {
      "image/png": "[encoded data removed]",
      "text/plain": [
       "<Figure size 864x576 with 1 Axes>"
      ]
     },
     "metadata": {
      "needs_background": "light"
     },
     "output_type": "display_data"
    }
   ],
   "source": [
    "# predict probabilities\n",
    "yhat = lr.predict_proba(X_test)\n",
    "# retrieve just the probabilities for the positive class\n",
    "pos_probs = yhat[:, 1]\n",
    "# plot no skill roc curve\n",
    "plt.figure(figsize=(12,8))\n",
    "plt.plot([0, 1], [0, 1], linestyle='--', label='No Fraud')\n",
    "# calculate roc curve for model\n",
    "fpr, tpr, _ = roc_curve(y_test, pos_probs)\n",
    "# plot model roc curve\n",
    "plt.plot(fpr, tpr, marker='.', label='Fraud')\n",
    "# axis labels\n",
    "plt.xlabel('False Positive Rate')\n",
    "plt.ylabel('True Positive Rate')\n",
    "# show the legend\n",
    "plt.legend()\n",
    "# show the plot\n",
    "plt.show()"
   ]
  },
  {
   "cell_type": "code",
   "execution_count": 20,
   "metadata": {},
   "outputs": [
    {
     "name": "stdout",
     "output_type": "stream",
     "text": [
      "0.9342669637807102\n",
      "--------------\n",
      "0.8851351351351351\n",
      "--------------\n",
      "0.08468002585649645\n",
      "--------------\n",
      "0.9832285851386304\n",
      "--------------\n",
      "[[83879  1416]\n",
      " [   17   131]]\n",
      "--------------\n",
      "              precision    recall  f1-score   support\n",
      "\n",
      "           0       1.00      0.98      0.99     85295\n",
      "           1       0.08      0.89      0.15       148\n",
      "\n",
      "    accuracy                           0.98     85443\n",
      "   macro avg       0.54      0.93      0.57     85443\n",
      "weighted avg       1.00      0.98      0.99     85443\n",
      "\n"
     ]
    }
   ],
   "source": [
    "print(roc_auc_score(y_test, y_predlr))\n",
    "print(\"--------------\")\n",
    "print(recall_score(y_test, y_predlr))\n",
    "print(\"--------------\")\n",
    "print(precision_score(y_test, y_predlr))\n",
    "print(\"--------------\")\n",
    "print(accuracy_score(y_test, y_predlr))\n",
    "print(\"--------------\")\n",
    "print(confusion_matrix(y_test, y_predlr))\n",
    "print(\"--------------\")\n",
    "print(classification_report(y_test, y_predlr))"
   ]
  },
  {
   "cell_type": "code",
   "execution_count": 21,
   "metadata": {},
   "outputs": [
    {
     "data": {
      "text/plain": [
       "(array([0.00173215, 0.08468003, 1.        ]),\n",
       " array([1.        , 0.88513514, 0.        ]),\n",
       " array([0, 1], dtype=int64))"
      ]
     },
     "execution_count": 21,
     "metadata": {},
     "output_type": "execute_result"
    }
   ],
   "source": [
    "precision_recall_curve(y_test, y_predlr)"
   ]
  },
  {
   "cell_type": "code",
   "execution_count": 22,
   "metadata": {},
   "outputs": [
    {
     "data": {
      "image/png": "[encoded data removed]",
      "text/plain": [
       "<Figure size 864x576 with 1 Axes>"
      ]
     },
     "metadata": {
      "needs_background": "light"
     },
     "output_type": "display_data"
    }
   ],
   "source": [
    "lr_precision, lr_recall, _ = precision_recall_curve(y_test, pos_probs)\n",
    "plt.figure(figsize=(12,8))\n",
    "plt.plot([0, 1], linestyle='--')\n",
    "plt.plot(lr_recall, lr_precision, marker='.')\n",
    "plt.xlabel('Recall')\n",
    "plt.ylabel('Precision')\n",
    "plt.show()"
   ]
  },
  {
   "cell_type": "markdown",
   "metadata": {
    "id": "_3zm70O7JQ0Z"
   },
   "source": [
    "### Random Forest Classifier with SMOTE\n",
    "\n",
    "- The steps you are going to cover for this algorithm are as follows:\n",
    "\n",
    "   *i. Model Training*\n",
    "   \n",
    "   *ii. Prediction and Model Evaluating*\n",
    "   \n",
    "   *iii. Plot Precision and Recall Curve*\n",
    "   \n",
    "   *iv. Apply and Plot StratifiedKFold*\n",
    "   "
   ]
  },
  {
   "cell_type": "markdown",
   "metadata": {
    "id": "sr5U80HbMuHg"
   },
   "source": [
    "***i. Model Training and Prediction***"
   ]
  },
  {
   "cell_type": "code",
   "execution_count": 23,
   "metadata": {},
   "outputs": [],
   "source": [
    "from sklearn.ensemble import RandomForestClassifier"
   ]
  },
  {
   "cell_type": "code",
   "execution_count": 24,
   "metadata": {
    "id": "kuvRr7f3MuHh"
   },
   "outputs": [],
   "source": [
    "rf=RandomForestClassifier().fit(X_train_new, y_train_new)\n",
    "y_pred=rf.predict(X_test)"
   ]
  },
  {
   "cell_type": "markdown",
   "metadata": {
    "id": "8bdqEhrdMuHh"
   },
   "source": [
    "***ii. Plot Precision and Recall Curve***\n"
   ]
  },
  {
   "cell_type": "code",
   "execution_count": 25,
   "metadata": {
    "id": "smne1OBWMuHh"
   },
   "outputs": [
    {
     "data": {
      "image/png": "[encoded data removed]",
      "text/plain": [
       "<Figure size 432x288 with 1 Axes>"
      ]
     },
     "metadata": {
      "needs_background": "light"
     },
     "output_type": "display_data"
    }
   ],
   "source": [
    "# predict probabilities\n",
    "yhatrf = rf.predict_proba(X_test)\n",
    "# retrieve just the probabilities for the positive class\n",
    "pos_probs = yhatrf[:, 1]\n",
    "# plot no skill roc curve\n",
    "plt.plot([0, 1], [0, 1], linestyle='--', label='No Fraud')\n",
    "# calculate roc curve for model\n",
    "fpr, tpr, _ = roc_curve(y_test, pos_probs)\n",
    "# plot model roc curve\n",
    "plt.plot(fpr, tpr, marker='.', label='Fraud')\n",
    "# axis labels\n",
    "plt.xlabel('False Positive Rate')\n",
    "plt.ylabel('True Positive Rate')\n",
    "# show the legend\n",
    "plt.legend()\n",
    "# show the plot\n",
    "plt.show()"
   ]
  },
  {
   "cell_type": "code",
   "execution_count": 26,
   "metadata": {
    "id": "WukW9Gb3MuHh"
   },
   "outputs": [
    {
     "name": "stdout",
     "output_type": "stream",
     "text": [
      "0.8884373074053008\n",
      "--------------\n",
      "0.777027027027027\n",
      "--------------\n",
      "0.8984375\n",
      "--------------\n",
      "0.9994616293903538\n",
      "--------------\n",
      "[[85282    13]\n",
      " [   33   115]]\n",
      "--------------\n",
      "              precision    recall  f1-score   support\n",
      "\n",
      "           0       1.00      1.00      1.00     85295\n",
      "           1       0.90      0.78      0.83       148\n",
      "\n",
      "    accuracy                           1.00     85443\n",
      "   macro avg       0.95      0.89      0.92     85443\n",
      "weighted avg       1.00      1.00      1.00     85443\n",
      "\n"
     ]
    }
   ],
   "source": [
    "print(roc_auc_score(y_test, y_pred))\n",
    "print(\"--------------\")\n",
    "print(recall_score(y_test, y_pred))\n",
    "print(\"--------------\")\n",
    "print(precision_score(y_test, y_pred))\n",
    "print(\"--------------\")\n",
    "print(accuracy_score(y_test, y_pred))\n",
    "print(\"--------------\")\n",
    "print(confusion_matrix(y_test, y_pred))\n",
    "print(\"--------------\")\n",
    "print(classification_report(y_test, y_pred))"
   ]
  },
  {
   "cell_type": "code",
   "execution_count": 27,
   "metadata": {},
   "outputs": [],
   "source": [
    "model = RandomForestClassifier(n_estimators=300, max_depth=16).fit(X_train_new, y_train_new)\n",
    "\n",
    "y_predmodel=model.predict(X_test)"
   ]
  },
  {
   "cell_type": "code",
   "execution_count": 28,
   "metadata": {},
   "outputs": [
    {
     "name": "stdout",
     "output_type": "stream",
     "text": [
      "0.8917043076255222\n",
      "--------------\n",
      "0.7837837837837838\n",
      "--------------\n",
      "0.7837837837837838\n",
      "--------------\n",
      "0.9992509626300574\n",
      "--------------\n",
      "[[85263    32]\n",
      " [   32   116]]\n",
      "--------------\n",
      "              precision    recall  f1-score   support\n",
      "\n",
      "           0       1.00      1.00      1.00     85295\n",
      "           1       0.78      0.78      0.78       148\n",
      "\n",
      "    accuracy                           1.00     85443\n",
      "   macro avg       0.89      0.89      0.89     85443\n",
      "weighted avg       1.00      1.00      1.00     85443\n",
      "\n"
     ]
    }
   ],
   "source": [
    "print(roc_auc_score(y_test, y_predmodel))\n",
    "print(\"--------------\")\n",
    "print(recall_score(y_test, y_predmodel))\n",
    "print(\"--------------\")\n",
    "print(precision_score(y_test, y_predmodel))\n",
    "print(\"--------------\")\n",
    "print(accuracy_score(y_test, y_predmodel))\n",
    "print(\"--------------\")\n",
    "print(confusion_matrix(y_test, y_predmodel))\n",
    "print(\"--------------\")\n",
    "print(classification_report(y_test, y_predmodel))"
   ]
  },
  {
   "cell_type": "code",
   "execution_count": 29,
   "metadata": {},
   "outputs": [],
   "source": [
    "importances=pd.DataFrame(model.feature_importances_, index=X_train.columns)"
   ]
  },
  {
   "cell_type": "code",
   "execution_count": 30,
   "metadata": {},
   "outputs": [
    {
     "data": {
      "text/html": [
       "<div>\n",
       "<style scoped>\n",
       "    .dataframe tbody tr th:only-of-type {\n",
       "        vertical-align: middle;\n",
       "    }\n",
       "\n",
       "    .dataframe tbody tr th {\n",
       "        vertical-align: top;\n",
       "    }\n",
       "\n",
       "    .dataframe thead th {\n",
       "        text-align: right;\n",
       "    }\n",
       "</style>\n",
       "<table border=\"1\" class=\"dataframe\">\n",
       "  <thead>\n",
       "    <tr style=\"text-align: right;\">\n",
       "      <th></th>\n",
       "      <th>0</th>\n",
       "    </tr>\n",
       "  </thead>\n",
       "  <tbody>\n",
       "    <tr>\n",
       "      <th>V14</th>\n",
       "      <td>$0.21</td>\n",
       "    </tr>\n",
       "    <tr>\n",
       "      <th>V10</th>\n",
       "      <td>$0.13</td>\n",
       "    </tr>\n",
       "    <tr>\n",
       "      <th>V12</th>\n",
       "      <td>$0.13</td>\n",
       "    </tr>\n",
       "    <tr>\n",
       "      <th>V17</th>\n",
       "      <td>$0.11</td>\n",
       "    </tr>\n",
       "    <tr>\n",
       "      <th>V4</th>\n",
       "      <td>$0.09</td>\n",
       "    </tr>\n",
       "    <tr>\n",
       "      <th>V11</th>\n",
       "      <td>$0.06</td>\n",
       "    </tr>\n",
       "  </tbody>\n",
       "</table>\n",
       "</div>"
      ],
      "text/plain": [
       "        0\n",
       "V14 $0.21\n",
       "V10 $0.13\n",
       "V12 $0.13\n",
       "V17 $0.11\n",
       "V4  $0.09\n",
       "V11 $0.06"
      ]
     },
     "execution_count": 30,
     "metadata": {},
     "output_type": "execute_result"
    }
   ],
   "source": [
    "importances.sort_values(by=0, ascending=False).head(6)"
   ]
  },
  {
   "cell_type": "code",
   "execution_count": 31,
   "metadata": {},
   "outputs": [],
   "source": [
    "X_train_final=X_train_new[[\"V4\", \"V10\", \"V11\",\"V12\", \"V14\",\"V17\"]]\n",
    "X_test_final=X_test[[\"V4\", \"V10\", \"V11\",\"V12\", \"V14\",\"V17\"]]\n",
    "y_train_final=y_train_new"
   ]
  },
  {
   "cell_type": "code",
   "execution_count": 32,
   "metadata": {},
   "outputs": [],
   "source": [
    "my_model = RandomForestClassifier(n_estimators=300).fit(X_train_final, y_train_final)\n",
    "\n",
    "y_predfinal=my_model.predict(X_test_final)"
   ]
  },
  {
   "cell_type": "code",
   "execution_count": 33,
   "metadata": {},
   "outputs": [
    {
     "name": "stdout",
     "output_type": "stream",
     "text": [
      "0.8040540540540541\n",
      "--------------\n",
      "[[85216    79]\n",
      " [   29   119]]\n",
      "--------------\n",
      "              precision    recall  f1-score   support\n",
      "\n",
      "           0       1.00      1.00      1.00     85295\n",
      "           1       0.60      0.80      0.69       148\n",
      "\n",
      "    accuracy                           1.00     85443\n",
      "   macro avg       0.80      0.90      0.84     85443\n",
      "weighted avg       1.00      1.00      1.00     85443\n",
      "\n"
     ]
    }
   ],
   "source": [
    "print(recall_score(y_test, y_predfinal))\n",
    "print(\"--------------\")\n",
    "print(confusion_matrix(y_test, y_predfinal))\n",
    "print(\"--------------\")\n",
    "print(classification_report(y_test, y_predfinal))"
   ]
  },
  {
   "cell_type": "markdown",
   "metadata": {
    "id": "ife6NlFRJQ0f"
   },
   "source": [
    "### Neural Network from Sklearn"
   ]
  },
  {
   "cell_type": "markdown",
   "metadata": {
    "id": "InMeP9kgMuHj"
   },
   "source": [
    "***Prediction and Model Evaluating***"
   ]
  },
  {
   "cell_type": "code",
   "execution_count": 34,
   "metadata": {
    "executionInfo": {
     "elapsed": 1897,
     "status": "ok",
     "timestamp": 1610977899555,
     "user": {
      "displayName": "Owen l",
      "photoUrl": "",
      "userId": "01085249422681493006"
     },
     "user_tz": -180
    },
    "id": "LhEc3K9KMuHi"
   },
   "outputs": [],
   "source": [
    "from sklearn.neural_network import MLPClassifier\n",
    "clf = MLPClassifier(random_state=1, max_iter=300).fit(X_train_new, y_train_new)\n",
    "y_predmlp=clf.predict(X_test)"
   ]
  },
  {
   "cell_type": "markdown",
   "metadata": {
    "id": "_JAEDNkjMuHj"
   },
   "source": [
    "***Plot Precision and Recall Curve***"
   ]
  },
  {
   "cell_type": "code",
   "execution_count": 35,
   "metadata": {},
   "outputs": [
    {
     "data": {
      "image/png": "[encoded data removed]",
      "text/plain": [
       "<Figure size 432x288 with 1 Axes>"
      ]
     },
     "metadata": {
      "needs_background": "light"
     },
     "output_type": "display_data"
    }
   ],
   "source": [
    "# predict probabilities\n",
    "yhatmlp = clf.predict_proba(X_test)\n",
    "# retrieve just the probabilities for the positive class\n",
    "pos_probs = yhatmlp[:, 1]\n",
    "# plot no skill roc curve\n",
    "plt.plot([0, 1], [0, 1], linestyle='--', label='No Fraud')\n",
    "# calculate roc curve for model\n",
    "fpr, tpr, _ = roc_curve(y_test, pos_probs)\n",
    "# plot model roc curve\n",
    "plt.plot(fpr, tpr, marker='.', label='Fraud')\n",
    "# axis labels\n",
    "plt.xlabel('False Positive Rate')\n",
    "plt.ylabel('True Positive Rate')\n",
    "# show the legend\n",
    "plt.legend()\n",
    "# show the plot\n",
    "plt.show()"
   ]
  },
  {
   "cell_type": "code",
   "execution_count": 36,
   "metadata": {},
   "outputs": [
    {
     "name": "stdout",
     "output_type": "stream",
     "text": [
      "0.9322427093251877\n"
     ]
    }
   ],
   "source": [
    "print(roc_auc_score(y_test, y_predmlp))"
   ]
  },
  {
   "cell_type": "code",
   "execution_count": 37,
   "metadata": {},
   "outputs": [
    {
     "name": "stdout",
     "output_type": "stream",
     "text": [
      "0.8783783783783784\n",
      "--------------\n",
      "0.09885931558935361\n",
      "--------------\n",
      "0.9859204381868614\n",
      "--------------\n",
      "[[84110  1185]\n",
      " [   18   130]]\n",
      "--------------\n",
      "              precision    recall  f1-score   support\n",
      "\n",
      "           0       1.00      0.99      0.99     85295\n",
      "           1       0.10      0.88      0.18       148\n",
      "\n",
      "    accuracy                           0.99     85443\n",
      "   macro avg       0.55      0.93      0.59     85443\n",
      "weighted avg       1.00      0.99      0.99     85443\n",
      "\n"
     ]
    }
   ],
   "source": [
    "print(recall_score(y_test, y_predmlp))\n",
    "print(\"--------------\")\n",
    "print(precision_score(y_test, y_predmlp))\n",
    "print(\"--------------\")\n",
    "print(accuracy_score(y_test, y_predmlp))\n",
    "print(\"--------------\")\n",
    "print(confusion_matrix(y_test, y_predmlp))\n",
    "print(\"--------------\")\n",
    "print(classification_report(y_test, y_predmlp))"
   ]
  },
  {
   "cell_type": "markdown",
   "metadata": {
    "id": "LpbiGnpIxVK3"
   },
   "source": [
    "## Model Deployement\n",
    "You cooked the food in the kitchen and moved on to the serving stage. The question is how do you showcase your work to others? Model Deployement helps you showcase your work to the world and make better decisions with it. But, deploying a model can get a little tricky at times. Before deploying the model, many things such as data storage, preprocessing, model building and monitoring need to be studied.\n",
    "\n",
    "Deployment of machine learning models, means making your models available to your other business systems. By deploying models, other systems can send data to them and get their predictions, which are in turn populated back into the company systems. Through machine learning model deployment, can begin to take full advantage of the model you built.\n",
    "\n",
    "Data science is concerned with how to build machine learning models, which algorithm is more predictive, how to design features, and what variables to use to make the models more accurate. However, how these models are actually used is often neglected. And yet this is the most important step in the machine learning pipline. Only when a model is fully integrated with the business systems, real values ​​can be extract from its predictions.\n",
    "\n",
    "After doing the following operations in this notebook, jump to *Pycharm* and create your web app with Flask API."
   ]
  },
  {
   "cell_type": "markdown",
   "metadata": {
    "id": "oCAYcMLEH_7P"
   },
   "source": [
    "### Save and Export the Model as .pkl\n"
   ]
  },
  {
   "cell_type": "code",
   "execution_count": 39,
   "metadata": {
    "id": "MqluJ9yvIOex"
   },
   "outputs": [],
   "source": [
    "import pickle\n",
    "pickle.dump(my_model, open( \"model.pkl\", \"wb\" ))"
   ]
  },
  {
   "cell_type": "code",
   "execution_count": 41,
   "metadata": {},
   "outputs": [],
   "source": [
    "model = pickle.load(open('model.pkl', 'rb'))"
   ]
  },
  {
   "cell_type": "markdown",
   "metadata": {
    "id": "vaZP1N93IPQi"
   },
   "source": [
    "### Save and Export Variables as .pkl"
   ]
  },
  {
   "cell_type": "code",
   "execution_count": 42,
   "metadata": {
    "id": "q_vA-dJWxfFH"
   },
   "outputs": [],
   "source": [
    "pickle.dump(scaler, open( \"scaler\", \"wb\" ))\n",
    "scaler = pickle.load(open( \"scaler\", \"rb\" ))"
   ]
  },
  {
   "cell_type": "code",
   "execution_count": null,
   "metadata": {},
   "outputs": [],
   "source": []
  }
 ],
 "metadata": {
  "colab": {
   "collapsed_sections": [
    "OV28RJBeMuHb",
    "hlm6gCsKMuHb",
    "zKZcwgucJQ0I",
    "4f8q5y12MuHe",
    "9wvBCEvpJQ0U",
    "_3zm70O7JQ0Z"
   ],
   "name": "Fraud Detection_Student_V2.ipynb",
   "provenance": [],
   "toc_visible": true
  },
  "kernelspec": {
   "display_name": "Python 3",
   "language": "python",
   "name": "python3"
  },
  "language_info": {
   "codemirror_mode": {
    "name": "ipython",
    "version": 3
   },
   "file_extension": ".py",
   "mimetype": "text/x-python",
   "name": "python",
   "nbconvert_exporter": "python",
   "pygments_lexer": "ipython3",
   "version": "3.8.6"
  }
 },
 "nbformat": 4,
 "nbformat_minor": 1
}
