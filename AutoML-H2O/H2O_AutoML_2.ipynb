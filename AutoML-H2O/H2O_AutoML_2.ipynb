{
  "nbformat": 4,
  "nbformat_minor": 0,
  "metadata": {
    "colab": {
      "name": "H2O_AutoML_template.ipynb",
      "provenance": [],
      "collapsed_sections": []
    },
    "kernelspec": {
      "name": "python3",
      "display_name": "Python 3"
    },
    "language_info": {
      "name": "python"
    }
  },
  "cells": [
    {
      "cell_type": "code",
      "metadata": {
        "colab": {
          "base_uri": "https://localhost:8080/"
        },
        "id": "hOSoiSMN7PJd",
        "outputId": "fbde3f67-475e-4f55-9709-dd3abc9b484c"
      },
      "source": [
        "pip install h2o"
      ],
      "execution_count": 28,
      "outputs": [
        {
          "output_type": "stream",
          "text": [
            "Requirement already satisfied: h2o in /usr/local/lib/python3.7/dist-packages (3.32.0.5)\n",
            "Requirement already satisfied: tabulate in /usr/local/lib/python3.7/dist-packages (from h2o) (0.8.9)\n",
            "Requirement already satisfied: colorama>=0.3.8 in /usr/local/lib/python3.7/dist-packages (from h2o) (0.4.4)\n",
            "Requirement already satisfied: future in /usr/local/lib/python3.7/dist-packages (from h2o) (0.16.0)\n",
            "Requirement already satisfied: requests in /usr/local/lib/python3.7/dist-packages (from h2o) (2.23.0)\n",
            "Requirement already satisfied: idna<3,>=2.5 in /usr/local/lib/python3.7/dist-packages (from requests->h2o) (2.10)\n",
            "Requirement already satisfied: chardet<4,>=3.0.2 in /usr/local/lib/python3.7/dist-packages (from requests->h2o) (3.0.4)\n",
            "Requirement already satisfied: urllib3!=1.25.0,!=1.25.1,<1.26,>=1.21.1 in /usr/local/lib/python3.7/dist-packages (from requests->h2o) (1.24.3)\n",
            "Requirement already satisfied: certifi>=2017.4.17 in /usr/local/lib/python3.7/dist-packages (from requests->h2o) (2020.12.5)\n"
          ],
          "name": "stdout"
        }
      ]
    },
    {
      "cell_type": "code",
      "metadata": {
        "id": "z4mF7sr07D2o"
      },
      "source": [
        "import pandas as pd\n",
        "import numpy as np\n",
        "import h2o\n",
        "pd.set_option('display.width', 5000)"
      ],
      "execution_count": 29,
      "outputs": []
    },
    {
      "cell_type": "code",
      "metadata": {
        "colab": {
          "base_uri": "https://localhost:8080/",
          "height": 389
        },
        "id": "GNi-XOyG8HG3",
        "outputId": "c7b255ab-f229-4830-8983-a26004cee94b"
      },
      "source": [
        "h2o.init()"
      ],
      "execution_count": 30,
      "outputs": [
        {
          "output_type": "stream",
          "text": [
            "Checking whether there is an H2O instance running at http://localhost:54321 . connected.\n"
          ],
          "name": "stdout"
        },
        {
          "output_type": "display_data",
          "data": {
            "text/html": [
              "<div style=\"overflow:auto\"><table style=\"width:50%\"><tr><td>H2O_cluster_uptime:</td>\n",
              "<td>1 hour 39 mins</td></tr>\n",
              "<tr><td>H2O_cluster_timezone:</td>\n",
              "<td>Etc/UTC</td></tr>\n",
              "<tr><td>H2O_data_parsing_timezone:</td>\n",
              "<td>UTC</td></tr>\n",
              "<tr><td>H2O_cluster_version:</td>\n",
              "<td>3.32.0.5</td></tr>\n",
              "<tr><td>H2O_cluster_version_age:</td>\n",
              "<td>6 days </td></tr>\n",
              "<tr><td>H2O_cluster_name:</td>\n",
              "<td>H2O_from_python_unknownUser_5t57bb</td></tr>\n",
              "<tr><td>H2O_cluster_total_nodes:</td>\n",
              "<td>1</td></tr>\n",
              "<tr><td>H2O_cluster_free_memory:</td>\n",
              "<td>3.140 Gb</td></tr>\n",
              "<tr><td>H2O_cluster_total_cores:</td>\n",
              "<td>2</td></tr>\n",
              "<tr><td>H2O_cluster_allowed_cores:</td>\n",
              "<td>2</td></tr>\n",
              "<tr><td>H2O_cluster_status:</td>\n",
              "<td>locked, healthy</td></tr>\n",
              "<tr><td>H2O_connection_url:</td>\n",
              "<td>http://localhost:54321</td></tr>\n",
              "<tr><td>H2O_connection_proxy:</td>\n",
              "<td>{\"http\": null, \"https\": null}</td></tr>\n",
              "<tr><td>H2O_internal_security:</td>\n",
              "<td>False</td></tr>\n",
              "<tr><td>H2O_API_Extensions:</td>\n",
              "<td>Amazon S3, XGBoost, Algos, AutoML, Core V3, TargetEncoder, Core V4</td></tr>\n",
              "<tr><td>Python_version:</td>\n",
              "<td>3.7.10 final</td></tr></table></div>"
            ],
            "text/plain": [
              "--------------------------  ------------------------------------------------------------------\n",
              "H2O_cluster_uptime:         1 hour 39 mins\n",
              "H2O_cluster_timezone:       Etc/UTC\n",
              "H2O_data_parsing_timezone:  UTC\n",
              "H2O_cluster_version:        3.32.0.5\n",
              "H2O_cluster_version_age:    6 days\n",
              "H2O_cluster_name:           H2O_from_python_unknownUser_5t57bb\n",
              "H2O_cluster_total_nodes:    1\n",
              "H2O_cluster_free_memory:    3.140 Gb\n",
              "H2O_cluster_total_cores:    2\n",
              "H2O_cluster_allowed_cores:  2\n",
              "H2O_cluster_status:         locked, healthy\n",
              "H2O_connection_url:         http://localhost:54321\n",
              "H2O_connection_proxy:       {\"http\": null, \"https\": null}\n",
              "H2O_internal_security:      False\n",
              "H2O_API_Extensions:         Amazon S3, XGBoost, Algos, AutoML, Core V3, TargetEncoder, Core V4\n",
              "Python_version:             3.7.10 final\n",
              "--------------------------  ------------------------------------------------------------------"
            ]
          },
          "metadata": {
            "tags": []
          }
        }
      ]
    },
    {
      "cell_type": "markdown",
      "metadata": {
        "id": "KM4towcEWGEE"
      },
      "source": [
        "## Importing Data"
      ]
    },
    {
      "cell_type": "code",
      "metadata": {
        "colab": {
          "base_uri": "https://localhost:8080/",
          "height": 162
        },
        "id": "7fVRtaEa7Tl9",
        "outputId": "7f2ba286-8041-4ddc-f459-dfaa1043263c"
      },
      "source": [
        "wine = h2o.import_file(\"https://archive.ics.uci.edu/ml/machine-learning-databases/wine-quality/winequality-white.csv\")\n",
        "wine.head(5)"
      ],
      "execution_count": 31,
      "outputs": [
        {
          "output_type": "stream",
          "text": [
            "Parse progress: |█████████████████████████████████████████████████████████| 100%\n"
          ],
          "name": "stdout"
        },
        {
          "output_type": "display_data",
          "data": {
            "text/html": [
              "<table>\n",
              "<thead>\n",
              "<tr><th style=\"text-align: right;\">  fixed acidity</th><th style=\"text-align: right;\">  volatile acidity</th><th style=\"text-align: right;\">  citric acid</th><th style=\"text-align: right;\">  residual sugar</th><th style=\"text-align: right;\">  chlorides</th><th style=\"text-align: right;\">  free sulfur dioxide</th><th style=\"text-align: right;\">  total sulfur dioxide</th><th style=\"text-align: right;\">  density</th><th style=\"text-align: right;\">  pH</th><th style=\"text-align: right;\">  sulphates</th><th style=\"text-align: right;\">  alcohol</th><th style=\"text-align: right;\">  quality</th></tr>\n",
              "</thead>\n",
              "<tbody>\n",
              "<tr><td style=\"text-align: right;\">            7  </td><td style=\"text-align: right;\">              0.27</td><td style=\"text-align: right;\">         0.36</td><td style=\"text-align: right;\">            20.7</td><td style=\"text-align: right;\">      0.045</td><td style=\"text-align: right;\">                   45</td><td style=\"text-align: right;\">                   170</td><td style=\"text-align: right;\">   1.001 </td><td style=\"text-align: right;\">3   </td><td style=\"text-align: right;\">       0.45</td><td style=\"text-align: right;\">      8.8</td><td style=\"text-align: right;\">        6</td></tr>\n",
              "<tr><td style=\"text-align: right;\">            6.3</td><td style=\"text-align: right;\">              0.3 </td><td style=\"text-align: right;\">         0.34</td><td style=\"text-align: right;\">             1.6</td><td style=\"text-align: right;\">      0.049</td><td style=\"text-align: right;\">                   14</td><td style=\"text-align: right;\">                   132</td><td style=\"text-align: right;\">   0.994 </td><td style=\"text-align: right;\">3.3 </td><td style=\"text-align: right;\">       0.49</td><td style=\"text-align: right;\">      9.5</td><td style=\"text-align: right;\">        6</td></tr>\n",
              "<tr><td style=\"text-align: right;\">            8.1</td><td style=\"text-align: right;\">              0.28</td><td style=\"text-align: right;\">         0.4 </td><td style=\"text-align: right;\">             6.9</td><td style=\"text-align: right;\">      0.05 </td><td style=\"text-align: right;\">                   30</td><td style=\"text-align: right;\">                    97</td><td style=\"text-align: right;\">   0.9951</td><td style=\"text-align: right;\">3.26</td><td style=\"text-align: right;\">       0.44</td><td style=\"text-align: right;\">     10.1</td><td style=\"text-align: right;\">        6</td></tr>\n",
              "<tr><td style=\"text-align: right;\">            7.2</td><td style=\"text-align: right;\">              0.23</td><td style=\"text-align: right;\">         0.32</td><td style=\"text-align: right;\">             8.5</td><td style=\"text-align: right;\">      0.058</td><td style=\"text-align: right;\">                   47</td><td style=\"text-align: right;\">                   186</td><td style=\"text-align: right;\">   0.9956</td><td style=\"text-align: right;\">3.19</td><td style=\"text-align: right;\">       0.4 </td><td style=\"text-align: right;\">      9.9</td><td style=\"text-align: right;\">        6</td></tr>\n",
              "<tr><td style=\"text-align: right;\">            7.2</td><td style=\"text-align: right;\">              0.23</td><td style=\"text-align: right;\">         0.32</td><td style=\"text-align: right;\">             8.5</td><td style=\"text-align: right;\">      0.058</td><td style=\"text-align: right;\">                   47</td><td style=\"text-align: right;\">                   186</td><td style=\"text-align: right;\">   0.9956</td><td style=\"text-align: right;\">3.19</td><td style=\"text-align: right;\">       0.4 </td><td style=\"text-align: right;\">      9.9</td><td style=\"text-align: right;\">        6</td></tr>\n",
              "</tbody>\n",
              "</table>"
            ]
          },
          "metadata": {
            "tags": []
          }
        },
        {
          "output_type": "execute_result",
          "data": {
            "text/plain": [
              ""
            ]
          },
          "metadata": {
            "tags": []
          },
          "execution_count": 31
        }
      ]
    },
    {
      "cell_type": "markdown",
      "metadata": {
        "id": "bQiqlh3LWObx"
      },
      "source": [
        "## Features and Target Column"
      ]
    },
    {
      "cell_type": "code",
      "metadata": {
        "id": "_m1QC41K_FF6",
        "colab": {
          "base_uri": "https://localhost:8080/"
        },
        "outputId": "3e0a5c52-e0bc-4ce2-87b1-578508a6dad1"
      },
      "source": [
        "# Define features (or predictors)\n",
        "features = list(wine.columns) \n",
        "features.remove('quality')    # removing target column\n",
        "features"
      ],
      "execution_count": 33,
      "outputs": [
        {
          "output_type": "execute_result",
          "data": {
            "text/plain": [
              "['fixed acidity',\n",
              " 'volatile acidity',\n",
              " 'citric acid',\n",
              " 'residual sugar',\n",
              " 'chlorides',\n",
              " 'free sulfur dioxide',\n",
              " 'total sulfur dioxide',\n",
              " 'density',\n",
              " 'pH',\n",
              " 'sulphates',\n",
              " 'alcohol']"
            ]
          },
          "metadata": {
            "tags": []
          },
          "execution_count": 33
        }
      ]
    },
    {
      "cell_type": "markdown",
      "metadata": {
        "id": "EQt6Yz__WWdt"
      },
      "source": [
        "## Train Test Split"
      ]
    },
    {
      "cell_type": "code",
      "metadata": {
        "id": "UK_d8kbW8VIq"
      },
      "source": [
        "# Split the H2O data frame into training/test sets\n",
        "# so we can evaluate out-of-bag performance\n",
        "wine_split = wine.split_frame(ratios = [0.8], seed = 1234)\n",
        "wine_train = wine_split[0] # using 80% for training\n",
        "wine_test = wine_split[1]  # using the rest 20% for out-of-bag evaluation"
      ],
      "execution_count": 34,
      "outputs": []
    },
    {
      "cell_type": "code",
      "metadata": {
        "colab": {
          "base_uri": "https://localhost:8080/"
        },
        "id": "wjhl9qfkTkbJ",
        "outputId": "b7ba83a8-f5fa-4264-d0a4-1b4b4be5fb38"
      },
      "source": [
        "wine_train.shape, wine_test.shape"
      ],
      "execution_count": 35,
      "outputs": [
        {
          "output_type": "execute_result",
          "data": {
            "text/plain": [
              "((3932, 12), (966, 12))"
            ]
          },
          "metadata": {
            "tags": []
          },
          "execution_count": 35
        }
      ]
    },
    {
      "cell_type": "markdown",
      "metadata": {
        "id": "oinOcPQRWc-Z"
      },
      "source": [
        "## Model Building"
      ]
    },
    {
      "cell_type": "code",
      "metadata": {
        "colab": {
          "base_uri": "https://localhost:8080/",
          "height": 1000
        },
        "id": "gtXbBlaRTnlS",
        "outputId": "7b01d9ae-1622-4aa1-879f-d1e1351291ae"
      },
      "source": [
        "# Build a Gradient Boosting Machines (GBM) model with default settings\n",
        "# Import the function for GBM\n",
        "from h2o.estimators.gbm import H2OGradientBoostingEstimator\n",
        "# Set up GBM for regression\n",
        "# Add a seed for reproducibility\n",
        "gbm_default = H2OGradientBoostingEstimator(model_id = 'gbm_default', seed = 1234)\n",
        "# Use .train() to build the model\n",
        "gbm_default.train(x = features, \n",
        "                  y = 'quality', \n",
        "                  training_frame = wine_train)\n",
        "# Check the GBM model summary\n",
        "gbm_default"
      ],
      "execution_count": 36,
      "outputs": [
        {
          "output_type": "stream",
          "text": [
            "gbm Model Build progress: |███████████████████████████████████████████████| 100%\n",
            "Model Details\n",
            "=============\n",
            "H2OGradientBoostingEstimator :  Gradient Boosting Machine\n",
            "Model Key:  gbm_default\n",
            "\n",
            "\n",
            "Model Summary: \n"
          ],
          "name": "stdout"
        },
        {
          "output_type": "display_data",
          "data": {
            "text/html": [
              "<div>\n",
              "<style scoped>\n",
              "    .dataframe tbody tr th:only-of-type {\n",
              "        vertical-align: middle;\n",
              "    }\n",
              "\n",
              "    .dataframe tbody tr th {\n",
              "        vertical-align: top;\n",
              "    }\n",
              "\n",
              "    .dataframe thead th {\n",
              "        text-align: right;\n",
              "    }\n",
              "</style>\n",
              "<table border=\"1\" class=\"dataframe\">\n",
              "  <thead>\n",
              "    <tr style=\"text-align: right;\">\n",
              "      <th></th>\n",
              "      <th></th>\n",
              "      <th>number_of_trees</th>\n",
              "      <th>number_of_internal_trees</th>\n",
              "      <th>model_size_in_bytes</th>\n",
              "      <th>min_depth</th>\n",
              "      <th>max_depth</th>\n",
              "      <th>mean_depth</th>\n",
              "      <th>min_leaves</th>\n",
              "      <th>max_leaves</th>\n",
              "      <th>mean_leaves</th>\n",
              "    </tr>\n",
              "  </thead>\n",
              "  <tbody>\n",
              "    <tr>\n",
              "      <th>0</th>\n",
              "      <td></td>\n",
              "      <td>50.0</td>\n",
              "      <td>50.0</td>\n",
              "      <td>17161.0</td>\n",
              "      <td>5.0</td>\n",
              "      <td>5.0</td>\n",
              "      <td>5.0</td>\n",
              "      <td>9.0</td>\n",
              "      <td>30.0</td>\n",
              "      <td>22.64</td>\n",
              "    </tr>\n",
              "  </tbody>\n",
              "</table>\n",
              "</div>"
            ],
            "text/plain": [
              "     number_of_trees  ...  max_leaves  mean_leaves\n",
              "0               50.0  ...        30.0        22.64\n",
              "\n",
              "[1 rows x 10 columns]"
            ]
          },
          "metadata": {
            "tags": []
          }
        },
        {
          "output_type": "stream",
          "text": [
            "\n",
            "\n",
            "ModelMetricsRegression: gbm\n",
            "** Reported on train data. **\n",
            "\n",
            "MSE: 0.33754946668043595\n",
            "RMSE: 0.5809900745111193\n",
            "MAE: 0.4582897982543992\n",
            "RMSLE: 0.0859869651179757\n",
            "Mean Residual Deviance: 0.33754946668043595\n",
            "\n",
            "Scoring History: \n"
          ],
          "name": "stdout"
        },
        {
          "output_type": "display_data",
          "data": {
            "text/html": [
              "<div>\n",
              "<style scoped>\n",
              "    .dataframe tbody tr th:only-of-type {\n",
              "        vertical-align: middle;\n",
              "    }\n",
              "\n",
              "    .dataframe tbody tr th {\n",
              "        vertical-align: top;\n",
              "    }\n",
              "\n",
              "    .dataframe thead th {\n",
              "        text-align: right;\n",
              "    }\n",
              "</style>\n",
              "<table border=\"1\" class=\"dataframe\">\n",
              "  <thead>\n",
              "    <tr style=\"text-align: right;\">\n",
              "      <th></th>\n",
              "      <th></th>\n",
              "      <th>timestamp</th>\n",
              "      <th>duration</th>\n",
              "      <th>number_of_trees</th>\n",
              "      <th>training_rmse</th>\n",
              "      <th>training_mae</th>\n",
              "      <th>training_deviance</th>\n",
              "    </tr>\n",
              "  </thead>\n",
              "  <tbody>\n",
              "    <tr>\n",
              "      <th>0</th>\n",
              "      <td></td>\n",
              "      <td>2021-03-22 19:00:43</td>\n",
              "      <td>0.010 sec</td>\n",
              "      <td>0.0</td>\n",
              "      <td>0.890085</td>\n",
              "      <td>0.676833</td>\n",
              "      <td>0.792252</td>\n",
              "    </tr>\n",
              "    <tr>\n",
              "      <th>1</th>\n",
              "      <td></td>\n",
              "      <td>2021-03-22 19:00:43</td>\n",
              "      <td>0.177 sec</td>\n",
              "      <td>1.0</td>\n",
              "      <td>0.857675</td>\n",
              "      <td>0.650362</td>\n",
              "      <td>0.735607</td>\n",
              "    </tr>\n",
              "    <tr>\n",
              "      <th>2</th>\n",
              "      <td></td>\n",
              "      <td>2021-03-22 19:00:43</td>\n",
              "      <td>0.214 sec</td>\n",
              "      <td>2.0</td>\n",
              "      <td>0.829503</td>\n",
              "      <td>0.629175</td>\n",
              "      <td>0.688075</td>\n",
              "    </tr>\n",
              "    <tr>\n",
              "      <th>3</th>\n",
              "      <td></td>\n",
              "      <td>2021-03-22 19:00:43</td>\n",
              "      <td>0.243 sec</td>\n",
              "      <td>3.0</td>\n",
              "      <td>0.805849</td>\n",
              "      <td>0.614956</td>\n",
              "      <td>0.649392</td>\n",
              "    </tr>\n",
              "    <tr>\n",
              "      <th>4</th>\n",
              "      <td></td>\n",
              "      <td>2021-03-22 19:00:43</td>\n",
              "      <td>0.269 sec</td>\n",
              "      <td>4.0</td>\n",
              "      <td>0.785050</td>\n",
              "      <td>0.603729</td>\n",
              "      <td>0.616303</td>\n",
              "    </tr>\n",
              "    <tr>\n",
              "      <th>5</th>\n",
              "      <td></td>\n",
              "      <td>2021-03-22 19:00:43</td>\n",
              "      <td>0.293 sec</td>\n",
              "      <td>5.0</td>\n",
              "      <td>0.767610</td>\n",
              "      <td>0.595293</td>\n",
              "      <td>0.589226</td>\n",
              "    </tr>\n",
              "    <tr>\n",
              "      <th>6</th>\n",
              "      <td></td>\n",
              "      <td>2021-03-22 19:00:44</td>\n",
              "      <td>0.323 sec</td>\n",
              "      <td>6.0</td>\n",
              "      <td>0.752163</td>\n",
              "      <td>0.587399</td>\n",
              "      <td>0.565749</td>\n",
              "    </tr>\n",
              "    <tr>\n",
              "      <th>7</th>\n",
              "      <td></td>\n",
              "      <td>2021-03-22 19:00:44</td>\n",
              "      <td>0.354 sec</td>\n",
              "      <td>7.0</td>\n",
              "      <td>0.738128</td>\n",
              "      <td>0.579210</td>\n",
              "      <td>0.544834</td>\n",
              "    </tr>\n",
              "    <tr>\n",
              "      <th>8</th>\n",
              "      <td></td>\n",
              "      <td>2021-03-22 19:00:44</td>\n",
              "      <td>0.387 sec</td>\n",
              "      <td>8.0</td>\n",
              "      <td>0.726528</td>\n",
              "      <td>0.572042</td>\n",
              "      <td>0.527844</td>\n",
              "    </tr>\n",
              "    <tr>\n",
              "      <th>9</th>\n",
              "      <td></td>\n",
              "      <td>2021-03-22 19:00:44</td>\n",
              "      <td>0.410 sec</td>\n",
              "      <td>9.0</td>\n",
              "      <td>0.716371</td>\n",
              "      <td>0.565957</td>\n",
              "      <td>0.513187</td>\n",
              "    </tr>\n",
              "    <tr>\n",
              "      <th>10</th>\n",
              "      <td></td>\n",
              "      <td>2021-03-22 19:00:44</td>\n",
              "      <td>0.438 sec</td>\n",
              "      <td>10.0</td>\n",
              "      <td>0.706347</td>\n",
              "      <td>0.560113</td>\n",
              "      <td>0.498926</td>\n",
              "    </tr>\n",
              "    <tr>\n",
              "      <th>11</th>\n",
              "      <td></td>\n",
              "      <td>2021-03-22 19:00:44</td>\n",
              "      <td>0.472 sec</td>\n",
              "      <td>11.0</td>\n",
              "      <td>0.697668</td>\n",
              "      <td>0.554381</td>\n",
              "      <td>0.486740</td>\n",
              "    </tr>\n",
              "    <tr>\n",
              "      <th>12</th>\n",
              "      <td></td>\n",
              "      <td>2021-03-22 19:00:44</td>\n",
              "      <td>0.498 sec</td>\n",
              "      <td>12.0</td>\n",
              "      <td>0.689498</td>\n",
              "      <td>0.548418</td>\n",
              "      <td>0.475408</td>\n",
              "    </tr>\n",
              "    <tr>\n",
              "      <th>13</th>\n",
              "      <td></td>\n",
              "      <td>2021-03-22 19:00:44</td>\n",
              "      <td>0.529 sec</td>\n",
              "      <td>13.0</td>\n",
              "      <td>0.682656</td>\n",
              "      <td>0.543291</td>\n",
              "      <td>0.466019</td>\n",
              "    </tr>\n",
              "    <tr>\n",
              "      <th>14</th>\n",
              "      <td></td>\n",
              "      <td>2021-03-22 19:00:44</td>\n",
              "      <td>0.551 sec</td>\n",
              "      <td>14.0</td>\n",
              "      <td>0.675624</td>\n",
              "      <td>0.538345</td>\n",
              "      <td>0.456467</td>\n",
              "    </tr>\n",
              "    <tr>\n",
              "      <th>15</th>\n",
              "      <td></td>\n",
              "      <td>2021-03-22 19:00:44</td>\n",
              "      <td>0.579 sec</td>\n",
              "      <td>15.0</td>\n",
              "      <td>0.670545</td>\n",
              "      <td>0.534189</td>\n",
              "      <td>0.449630</td>\n",
              "    </tr>\n",
              "    <tr>\n",
              "      <th>16</th>\n",
              "      <td></td>\n",
              "      <td>2021-03-22 19:00:44</td>\n",
              "      <td>0.616 sec</td>\n",
              "      <td>16.0</td>\n",
              "      <td>0.663864</td>\n",
              "      <td>0.529153</td>\n",
              "      <td>0.440716</td>\n",
              "    </tr>\n",
              "    <tr>\n",
              "      <th>17</th>\n",
              "      <td></td>\n",
              "      <td>2021-03-22 19:00:44</td>\n",
              "      <td>0.645 sec</td>\n",
              "      <td>17.0</td>\n",
              "      <td>0.657454</td>\n",
              "      <td>0.524518</td>\n",
              "      <td>0.432245</td>\n",
              "    </tr>\n",
              "    <tr>\n",
              "      <th>18</th>\n",
              "      <td></td>\n",
              "      <td>2021-03-22 19:00:44</td>\n",
              "      <td>0.690 sec</td>\n",
              "      <td>18.0</td>\n",
              "      <td>0.653580</td>\n",
              "      <td>0.521211</td>\n",
              "      <td>0.427167</td>\n",
              "    </tr>\n",
              "    <tr>\n",
              "      <th>19</th>\n",
              "      <td></td>\n",
              "      <td>2021-03-22 19:00:44</td>\n",
              "      <td>0.728 sec</td>\n",
              "      <td>19.0</td>\n",
              "      <td>0.648711</td>\n",
              "      <td>0.517002</td>\n",
              "      <td>0.420826</td>\n",
              "    </tr>\n",
              "  </tbody>\n",
              "</table>\n",
              "</div>"
            ],
            "text/plain": [
              "                timestamp  ... training_mae  training_deviance\n",
              "0     2021-03-22 19:00:43  ...     0.676833           0.792252\n",
              "1     2021-03-22 19:00:43  ...     0.650362           0.735607\n",
              "2     2021-03-22 19:00:43  ...     0.629175           0.688075\n",
              "3     2021-03-22 19:00:43  ...     0.614956           0.649392\n",
              "4     2021-03-22 19:00:43  ...     0.603729           0.616303\n",
              "5     2021-03-22 19:00:43  ...     0.595293           0.589226\n",
              "6     2021-03-22 19:00:44  ...     0.587399           0.565749\n",
              "7     2021-03-22 19:00:44  ...     0.579210           0.544834\n",
              "8     2021-03-22 19:00:44  ...     0.572042           0.527844\n",
              "9     2021-03-22 19:00:44  ...     0.565957           0.513187\n",
              "10    2021-03-22 19:00:44  ...     0.560113           0.498926\n",
              "11    2021-03-22 19:00:44  ...     0.554381           0.486740\n",
              "12    2021-03-22 19:00:44  ...     0.548418           0.475408\n",
              "13    2021-03-22 19:00:44  ...     0.543291           0.466019\n",
              "14    2021-03-22 19:00:44  ...     0.538345           0.456467\n",
              "15    2021-03-22 19:00:44  ...     0.534189           0.449630\n",
              "16    2021-03-22 19:00:44  ...     0.529153           0.440716\n",
              "17    2021-03-22 19:00:44  ...     0.524518           0.432245\n",
              "18    2021-03-22 19:00:44  ...     0.521211           0.427167\n",
              "19    2021-03-22 19:00:44  ...     0.517002           0.420826\n",
              "\n",
              "[20 rows x 7 columns]"
            ]
          },
          "metadata": {
            "tags": []
          }
        },
        {
          "output_type": "stream",
          "text": [
            "\n",
            "See the whole table with table.as_data_frame()\n",
            "\n",
            "Variable Importances: \n"
          ],
          "name": "stdout"
        },
        {
          "output_type": "display_data",
          "data": {
            "text/html": [
              "<div>\n",
              "<style scoped>\n",
              "    .dataframe tbody tr th:only-of-type {\n",
              "        vertical-align: middle;\n",
              "    }\n",
              "\n",
              "    .dataframe tbody tr th {\n",
              "        vertical-align: top;\n",
              "    }\n",
              "\n",
              "    .dataframe thead th {\n",
              "        text-align: right;\n",
              "    }\n",
              "</style>\n",
              "<table border=\"1\" class=\"dataframe\">\n",
              "  <thead>\n",
              "    <tr style=\"text-align: right;\">\n",
              "      <th></th>\n",
              "      <th>variable</th>\n",
              "      <th>relative_importance</th>\n",
              "      <th>scaled_importance</th>\n",
              "      <th>percentage</th>\n",
              "    </tr>\n",
              "  </thead>\n",
              "  <tbody>\n",
              "    <tr>\n",
              "      <th>0</th>\n",
              "      <td>alcohol</td>\n",
              "      <td>3494.373047</td>\n",
              "      <td>1.000000</td>\n",
              "      <td>0.371235</td>\n",
              "    </tr>\n",
              "    <tr>\n",
              "      <th>1</th>\n",
              "      <td>volatile acidity</td>\n",
              "      <td>1526.859497</td>\n",
              "      <td>0.436948</td>\n",
              "      <td>0.162211</td>\n",
              "    </tr>\n",
              "    <tr>\n",
              "      <th>2</th>\n",
              "      <td>free sulfur dioxide</td>\n",
              "      <td>1075.085571</td>\n",
              "      <td>0.307662</td>\n",
              "      <td>0.114215</td>\n",
              "    </tr>\n",
              "    <tr>\n",
              "      <th>3</th>\n",
              "      <td>residual sugar</td>\n",
              "      <td>453.860748</td>\n",
              "      <td>0.129883</td>\n",
              "      <td>0.048217</td>\n",
              "    </tr>\n",
              "    <tr>\n",
              "      <th>4</th>\n",
              "      <td>total sulfur dioxide</td>\n",
              "      <td>444.470703</td>\n",
              "      <td>0.127196</td>\n",
              "      <td>0.047220</td>\n",
              "    </tr>\n",
              "    <tr>\n",
              "      <th>5</th>\n",
              "      <td>pH</td>\n",
              "      <td>435.343323</td>\n",
              "      <td>0.124584</td>\n",
              "      <td>0.046250</td>\n",
              "    </tr>\n",
              "    <tr>\n",
              "      <th>6</th>\n",
              "      <td>fixed acidity</td>\n",
              "      <td>432.337097</td>\n",
              "      <td>0.123724</td>\n",
              "      <td>0.045931</td>\n",
              "    </tr>\n",
              "    <tr>\n",
              "      <th>7</th>\n",
              "      <td>chlorides</td>\n",
              "      <td>404.599854</td>\n",
              "      <td>0.115786</td>\n",
              "      <td>0.042984</td>\n",
              "    </tr>\n",
              "    <tr>\n",
              "      <th>8</th>\n",
              "      <td>citric acid</td>\n",
              "      <td>399.185760</td>\n",
              "      <td>0.114237</td>\n",
              "      <td>0.042409</td>\n",
              "    </tr>\n",
              "    <tr>\n",
              "      <th>9</th>\n",
              "      <td>sulphates</td>\n",
              "      <td>374.836487</td>\n",
              "      <td>0.107269</td>\n",
              "      <td>0.039822</td>\n",
              "    </tr>\n",
              "    <tr>\n",
              "      <th>10</th>\n",
              "      <td>density</td>\n",
              "      <td>371.874908</td>\n",
              "      <td>0.106421</td>\n",
              "      <td>0.039507</td>\n",
              "    </tr>\n",
              "  </tbody>\n",
              "</table>\n",
              "</div>"
            ],
            "text/plain": [
              "                variable  relative_importance  scaled_importance  percentage\n",
              "0                alcohol          3494.373047           1.000000    0.371235\n",
              "1       volatile acidity          1526.859497           0.436948    0.162211\n",
              "2    free sulfur dioxide          1075.085571           0.307662    0.114215\n",
              "3         residual sugar           453.860748           0.129883    0.048217\n",
              "4   total sulfur dioxide           444.470703           0.127196    0.047220\n",
              "5                     pH           435.343323           0.124584    0.046250\n",
              "6          fixed acidity           432.337097           0.123724    0.045931\n",
              "7              chlorides           404.599854           0.115786    0.042984\n",
              "8            citric acid           399.185760           0.114237    0.042409\n",
              "9              sulphates           374.836487           0.107269    0.039822\n",
              "10               density           371.874908           0.106421    0.039507"
            ]
          },
          "metadata": {
            "tags": []
          }
        },
        {
          "output_type": "execute_result",
          "data": {
            "text/plain": [
              ""
            ]
          },
          "metadata": {
            "tags": []
          },
          "execution_count": 36
        }
      ]
    },
    {
      "cell_type": "markdown",
      "metadata": {
        "id": "6pVM4eYEWi_t"
      },
      "source": [
        "## Checking the model on Test set"
      ]
    },
    {
      "cell_type": "code",
      "metadata": {
        "colab": {
          "base_uri": "https://localhost:8080/"
        },
        "id": "1kIPnooPT4px",
        "outputId": "a9e9f251-d5b3-4fdf-90ee-d8894456a0b1"
      },
      "source": [
        "# Check the model performance on test dataset\n",
        "gbm_default.model_performance(wine_test)"
      ],
      "execution_count": 37,
      "outputs": [
        {
          "output_type": "stream",
          "text": [
            "\n",
            "ModelMetricsRegression: gbm\n",
            "** Reported on test data. **\n",
            "\n",
            "MSE: 0.4569904494269439\n",
            "RMSE: 0.6760106873614824\n",
            "MAE: 0.5248612169030329\n",
            "RMSLE: 0.10032043310648844\n",
            "Mean Residual Deviance: 0.4569904494269439\n"
          ],
          "name": "stdout"
        },
        {
          "output_type": "execute_result",
          "data": {
            "text/plain": [
              ""
            ]
          },
          "metadata": {
            "tags": []
          },
          "execution_count": 37
        }
      ]
    },
    {
      "cell_type": "markdown",
      "metadata": {
        "id": "cJegJPhbWp5J"
      },
      "source": [
        "## Making Predictions"
      ]
    },
    {
      "cell_type": "code",
      "metadata": {
        "colab": {
          "base_uri": "https://localhost:8080/",
          "height": 162
        },
        "id": "GewUWayDUC0i",
        "outputId": "63eac1c0-bb10-446d-87d6-ac42a807e073"
      },
      "source": [
        "# Use GBM model to make predictions\n",
        "yhat_test_gbm = gbm_default.predict(wine_test)\n",
        "yhat_test_gbm.head(5)"
      ],
      "execution_count": 38,
      "outputs": [
        {
          "output_type": "stream",
          "text": [
            "gbm prediction progress: |████████████████████████████████████████████████| 100%\n"
          ],
          "name": "stdout"
        },
        {
          "output_type": "display_data",
          "data": {
            "text/html": [
              "<table>\n",
              "<thead>\n",
              "<tr><th style=\"text-align: right;\">  predict</th></tr>\n",
              "</thead>\n",
              "<tbody>\n",
              "<tr><td style=\"text-align: right;\">  5.78661</td></tr>\n",
              "<tr><td style=\"text-align: right;\">  5.96088</td></tr>\n",
              "<tr><td style=\"text-align: right;\">  5.32867</td></tr>\n",
              "<tr><td style=\"text-align: right;\">  6.19424</td></tr>\n",
              "<tr><td style=\"text-align: right;\">  5.7198 </td></tr>\n",
              "</tbody>\n",
              "</table>"
            ]
          },
          "metadata": {
            "tags": []
          }
        },
        {
          "output_type": "execute_result",
          "data": {
            "text/plain": [
              ""
            ]
          },
          "metadata": {
            "tags": []
          },
          "execution_count": 38
        }
      ]
    },
    {
      "cell_type": "markdown",
      "metadata": {
        "id": "AM9W1v4dWt8_"
      },
      "source": [
        "## Model Tunning"
      ]
    },
    {
      "cell_type": "code",
      "metadata": {
        "id": "qqiFwY8VUKFz"
      },
      "source": [
        "# increase the number of trees for more accuracy\n",
        "ntrees = 10000,\n",
        "# Row Random picking for more generalization\n",
        "sample_rate = 0.9, \n",
        "# Columnar Random picking for more generalization\n",
        "col_sample_rate = 0.9,\n",
        "# Add cross validation \n",
        "nfolds = 5,\n",
        "# Early stopping \n",
        "stopping_metric = 'mse', # let early stopping feature determine\n",
        "stopping_rounds = 15,     # the optimal number of trees\n",
        "score_tree_interval = 1"
      ],
      "execution_count": 39,
      "outputs": []
    },
    {
      "cell_type": "code",
      "metadata": {
        "colab": {
          "base_uri": "https://localhost:8080/",
          "height": 1000
        },
        "id": "NfwAIrQyUUPl",
        "outputId": "18ba59dc-7b2f-44e7-913e-2b6e61501650"
      },
      "source": [
        "# Build a GBM with manual settings, CV and early stopping\n",
        "# Set up GBM for regression\n",
        "# Add a seed for reproducibility\n",
        "gbm_manual_cv_es = H2OGradientBoostingEstimator(\n",
        "                                      model_id = 'gbm_manual_cv_es', \n",
        "                                       seed = 1234,\n",
        "                                       ntrees = 10000,\n",
        "                                       sample_rate = 0.9,\n",
        "                                       col_sample_rate = 0.9,\n",
        "                                       nfolds = 5,\n",
        "                                       stopping_metric = 'mse',\n",
        "                                       stopping_rounds = 15,\n",
        "                                       score_tree_interval = 1) \n",
        "# Use .train() to build the model\n",
        "gbm_manual_cv_es.train(x = features, \n",
        "                       y = 'quality', \n",
        "                       training_frame = wine_train)\n",
        "# Check the model summary\n",
        "gbm_manual_cv_es.summary()\n",
        "# Check the cross-validation model performance\n",
        "gbm_manual_cv_es"
      ],
      "execution_count": 40,
      "outputs": [
        {
          "output_type": "stream",
          "text": [
            "gbm Model Build progress: |███████████████████████████████████████████████| 100%\n",
            "Model Details\n",
            "=============\n",
            "H2OGradientBoostingEstimator :  Gradient Boosting Machine\n",
            "Model Key:  gbm_manual_cv_es\n",
            "\n",
            "\n",
            "Model Summary: \n"
          ],
          "name": "stdout"
        },
        {
          "output_type": "display_data",
          "data": {
            "text/html": [
              "<div>\n",
              "<style scoped>\n",
              "    .dataframe tbody tr th:only-of-type {\n",
              "        vertical-align: middle;\n",
              "    }\n",
              "\n",
              "    .dataframe tbody tr th {\n",
              "        vertical-align: top;\n",
              "    }\n",
              "\n",
              "    .dataframe thead th {\n",
              "        text-align: right;\n",
              "    }\n",
              "</style>\n",
              "<table border=\"1\" class=\"dataframe\">\n",
              "  <thead>\n",
              "    <tr style=\"text-align: right;\">\n",
              "      <th></th>\n",
              "      <th></th>\n",
              "      <th>number_of_trees</th>\n",
              "      <th>number_of_internal_trees</th>\n",
              "      <th>model_size_in_bytes</th>\n",
              "      <th>min_depth</th>\n",
              "      <th>max_depth</th>\n",
              "      <th>mean_depth</th>\n",
              "      <th>min_leaves</th>\n",
              "      <th>max_leaves</th>\n",
              "      <th>mean_leaves</th>\n",
              "    </tr>\n",
              "  </thead>\n",
              "  <tbody>\n",
              "    <tr>\n",
              "      <th>0</th>\n",
              "      <td></td>\n",
              "      <td>179.0</td>\n",
              "      <td>179.0</td>\n",
              "      <td>55586.0</td>\n",
              "      <td>5.0</td>\n",
              "      <td>5.0</td>\n",
              "      <td>5.0</td>\n",
              "      <td>7.0</td>\n",
              "      <td>31.0</td>\n",
              "      <td>20.005587</td>\n",
              "    </tr>\n",
              "  </tbody>\n",
              "</table>\n",
              "</div>"
            ],
            "text/plain": [
              "     number_of_trees  ...  max_leaves  mean_leaves\n",
              "0              179.0  ...        31.0    20.005587\n",
              "\n",
              "[1 rows x 10 columns]"
            ]
          },
          "metadata": {
            "tags": []
          }
        },
        {
          "output_type": "stream",
          "text": [
            "\n",
            "\n",
            "ModelMetricsRegression: gbm\n",
            "** Reported on train data. **\n",
            "\n",
            "MSE: 0.20686547419217588\n",
            "RMSE: 0.4548246631309431\n",
            "MAE: 0.34894778424095163\n",
            "RMSLE: 0.06741983008017692\n",
            "Mean Residual Deviance: 0.20686547419217588\n",
            "\n",
            "ModelMetricsRegression: gbm\n",
            "** Reported on cross-validation data. **\n",
            "\n",
            "MSE: 0.43719485835036365\n",
            "RMSE: 0.6612071221261637\n",
            "MAE: 0.5071563697468089\n",
            "RMSLE: 0.09876420394757868\n",
            "Mean Residual Deviance: 0.43719485835036365\n",
            "\n",
            "Cross-Validation Metrics Summary: \n"
          ],
          "name": "stdout"
        },
        {
          "output_type": "display_data",
          "data": {
            "text/html": [
              "<div>\n",
              "<style scoped>\n",
              "    .dataframe tbody tr th:only-of-type {\n",
              "        vertical-align: middle;\n",
              "    }\n",
              "\n",
              "    .dataframe tbody tr th {\n",
              "        vertical-align: top;\n",
              "    }\n",
              "\n",
              "    .dataframe thead th {\n",
              "        text-align: right;\n",
              "    }\n",
              "</style>\n",
              "<table border=\"1\" class=\"dataframe\">\n",
              "  <thead>\n",
              "    <tr style=\"text-align: right;\">\n",
              "      <th></th>\n",
              "      <th></th>\n",
              "      <th>mean</th>\n",
              "      <th>sd</th>\n",
              "      <th>cv_1_valid</th>\n",
              "      <th>cv_2_valid</th>\n",
              "      <th>cv_3_valid</th>\n",
              "      <th>cv_4_valid</th>\n",
              "      <th>cv_5_valid</th>\n",
              "    </tr>\n",
              "  </thead>\n",
              "  <tbody>\n",
              "    <tr>\n",
              "      <th>0</th>\n",
              "      <td>mae</td>\n",
              "      <td>0.5071095</td>\n",
              "      <td>0.00396057</td>\n",
              "      <td>0.50494814</td>\n",
              "      <td>0.50705534</td>\n",
              "      <td>0.51254624</td>\n",
              "      <td>0.508914</td>\n",
              "      <td>0.502084</td>\n",
              "    </tr>\n",
              "    <tr>\n",
              "      <th>1</th>\n",
              "      <td>mean_residual_deviance</td>\n",
              "      <td>0.43729985</td>\n",
              "      <td>0.013255834</td>\n",
              "      <td>0.43033668</td>\n",
              "      <td>0.43702114</td>\n",
              "      <td>0.45930818</td>\n",
              "      <td>0.42439777</td>\n",
              "      <td>0.43543547</td>\n",
              "    </tr>\n",
              "    <tr>\n",
              "      <th>2</th>\n",
              "      <td>mse</td>\n",
              "      <td>0.43729985</td>\n",
              "      <td>0.013255834</td>\n",
              "      <td>0.43033668</td>\n",
              "      <td>0.43702114</td>\n",
              "      <td>0.45930818</td>\n",
              "      <td>0.42439777</td>\n",
              "      <td>0.43543547</td>\n",
              "    </tr>\n",
              "    <tr>\n",
              "      <th>3</th>\n",
              "      <td>r2</td>\n",
              "      <td>0.44752982</td>\n",
              "      <td>0.017638825</td>\n",
              "      <td>0.45243278</td>\n",
              "      <td>0.42834046</td>\n",
              "      <td>0.43110242</td>\n",
              "      <td>0.47032693</td>\n",
              "      <td>0.4554465</td>\n",
              "    </tr>\n",
              "    <tr>\n",
              "      <th>4</th>\n",
              "      <td>residual_deviance</td>\n",
              "      <td>0.43729985</td>\n",
              "      <td>0.013255834</td>\n",
              "      <td>0.43033668</td>\n",
              "      <td>0.43702114</td>\n",
              "      <td>0.45930818</td>\n",
              "      <td>0.42439777</td>\n",
              "      <td>0.43543547</td>\n",
              "    </tr>\n",
              "    <tr>\n",
              "      <th>5</th>\n",
              "      <td>rmse</td>\n",
              "      <td>0.6612265</td>\n",
              "      <td>0.009958742</td>\n",
              "      <td>0.65600055</td>\n",
              "      <td>0.6610758</td>\n",
              "      <td>0.67772275</td>\n",
              "      <td>0.6514582</td>\n",
              "      <td>0.65987533</td>\n",
              "    </tr>\n",
              "    <tr>\n",
              "      <th>6</th>\n",
              "      <td>rmsle</td>\n",
              "      <td>0.09877549</td>\n",
              "      <td>0.0012305396</td>\n",
              "      <td>0.097171605</td>\n",
              "      <td>0.09819931</td>\n",
              "      <td>0.100348435</td>\n",
              "      <td>0.09957606</td>\n",
              "      <td>0.09858205</td>\n",
              "    </tr>\n",
              "  </tbody>\n",
              "</table>\n",
              "</div>"
            ],
            "text/plain": [
              "                                 mean  ...  cv_4_valid  cv_5_valid\n",
              "0                     mae   0.5071095  ...    0.508914    0.502084\n",
              "1  mean_residual_deviance  0.43729985  ...  0.42439777  0.43543547\n",
              "2                     mse  0.43729985  ...  0.42439777  0.43543547\n",
              "3                      r2  0.44752982  ...  0.47032693   0.4554465\n",
              "4       residual_deviance  0.43729985  ...  0.42439777  0.43543547\n",
              "5                    rmse   0.6612265  ...   0.6514582  0.65987533\n",
              "6                   rmsle  0.09877549  ...  0.09957606  0.09858205\n",
              "\n",
              "[7 rows x 8 columns]"
            ]
          },
          "metadata": {
            "tags": []
          }
        },
        {
          "output_type": "stream",
          "text": [
            "\n",
            "Scoring History: \n"
          ],
          "name": "stdout"
        },
        {
          "output_type": "display_data",
          "data": {
            "text/html": [
              "<div>\n",
              "<style scoped>\n",
              "    .dataframe tbody tr th:only-of-type {\n",
              "        vertical-align: middle;\n",
              "    }\n",
              "\n",
              "    .dataframe tbody tr th {\n",
              "        vertical-align: top;\n",
              "    }\n",
              "\n",
              "    .dataframe thead th {\n",
              "        text-align: right;\n",
              "    }\n",
              "</style>\n",
              "<table border=\"1\" class=\"dataframe\">\n",
              "  <thead>\n",
              "    <tr style=\"text-align: right;\">\n",
              "      <th></th>\n",
              "      <th></th>\n",
              "      <th>timestamp</th>\n",
              "      <th>duration</th>\n",
              "      <th>number_of_trees</th>\n",
              "      <th>training_rmse</th>\n",
              "      <th>training_mae</th>\n",
              "      <th>training_deviance</th>\n",
              "    </tr>\n",
              "  </thead>\n",
              "  <tbody>\n",
              "    <tr>\n",
              "      <th>0</th>\n",
              "      <td></td>\n",
              "      <td>2021-03-22 19:03:40</td>\n",
              "      <td>18.211 sec</td>\n",
              "      <td>0.0</td>\n",
              "      <td>0.890085</td>\n",
              "      <td>0.676833</td>\n",
              "      <td>0.792252</td>\n",
              "    </tr>\n",
              "    <tr>\n",
              "      <th>1</th>\n",
              "      <td></td>\n",
              "      <td>2021-03-22 19:03:40</td>\n",
              "      <td>18.224 sec</td>\n",
              "      <td>1.0</td>\n",
              "      <td>0.859876</td>\n",
              "      <td>0.651339</td>\n",
              "      <td>0.739387</td>\n",
              "    </tr>\n",
              "    <tr>\n",
              "      <th>2</th>\n",
              "      <td></td>\n",
              "      <td>2021-03-22 19:03:40</td>\n",
              "      <td>18.235 sec</td>\n",
              "      <td>2.0</td>\n",
              "      <td>0.832126</td>\n",
              "      <td>0.629717</td>\n",
              "      <td>0.692433</td>\n",
              "    </tr>\n",
              "    <tr>\n",
              "      <th>3</th>\n",
              "      <td></td>\n",
              "      <td>2021-03-22 19:03:40</td>\n",
              "      <td>18.248 sec</td>\n",
              "      <td>3.0</td>\n",
              "      <td>0.808096</td>\n",
              "      <td>0.615587</td>\n",
              "      <td>0.653019</td>\n",
              "    </tr>\n",
              "    <tr>\n",
              "      <th>4</th>\n",
              "      <td></td>\n",
              "      <td>2021-03-22 19:03:40</td>\n",
              "      <td>18.263 sec</td>\n",
              "      <td>4.0</td>\n",
              "      <td>0.788204</td>\n",
              "      <td>0.605878</td>\n",
              "      <td>0.621266</td>\n",
              "    </tr>\n",
              "    <tr>\n",
              "      <th>5</th>\n",
              "      <td></td>\n",
              "      <td>2021-03-22 19:03:40</td>\n",
              "      <td>18.278 sec</td>\n",
              "      <td>5.0</td>\n",
              "      <td>0.769911</td>\n",
              "      <td>0.596446</td>\n",
              "      <td>0.592763</td>\n",
              "    </tr>\n",
              "    <tr>\n",
              "      <th>6</th>\n",
              "      <td></td>\n",
              "      <td>2021-03-22 19:03:40</td>\n",
              "      <td>18.292 sec</td>\n",
              "      <td>6.0</td>\n",
              "      <td>0.754075</td>\n",
              "      <td>0.588348</td>\n",
              "      <td>0.568629</td>\n",
              "    </tr>\n",
              "    <tr>\n",
              "      <th>7</th>\n",
              "      <td></td>\n",
              "      <td>2021-03-22 19:03:40</td>\n",
              "      <td>18.309 sec</td>\n",
              "      <td>7.0</td>\n",
              "      <td>0.741317</td>\n",
              "      <td>0.581034</td>\n",
              "      <td>0.549551</td>\n",
              "    </tr>\n",
              "    <tr>\n",
              "      <th>8</th>\n",
              "      <td></td>\n",
              "      <td>2021-03-22 19:03:40</td>\n",
              "      <td>18.324 sec</td>\n",
              "      <td>8.0</td>\n",
              "      <td>0.729126</td>\n",
              "      <td>0.574067</td>\n",
              "      <td>0.531624</td>\n",
              "    </tr>\n",
              "    <tr>\n",
              "      <th>9</th>\n",
              "      <td></td>\n",
              "      <td>2021-03-22 19:03:40</td>\n",
              "      <td>18.339 sec</td>\n",
              "      <td>9.0</td>\n",
              "      <td>0.717939</td>\n",
              "      <td>0.567376</td>\n",
              "      <td>0.515436</td>\n",
              "    </tr>\n",
              "    <tr>\n",
              "      <th>10</th>\n",
              "      <td></td>\n",
              "      <td>2021-03-22 19:03:40</td>\n",
              "      <td>18.353 sec</td>\n",
              "      <td>10.0</td>\n",
              "      <td>0.709225</td>\n",
              "      <td>0.562460</td>\n",
              "      <td>0.503000</td>\n",
              "    </tr>\n",
              "    <tr>\n",
              "      <th>11</th>\n",
              "      <td></td>\n",
              "      <td>2021-03-22 19:03:40</td>\n",
              "      <td>18.370 sec</td>\n",
              "      <td>11.0</td>\n",
              "      <td>0.700747</td>\n",
              "      <td>0.556993</td>\n",
              "      <td>0.491046</td>\n",
              "    </tr>\n",
              "    <tr>\n",
              "      <th>12</th>\n",
              "      <td></td>\n",
              "      <td>2021-03-22 19:03:40</td>\n",
              "      <td>18.397 sec</td>\n",
              "      <td>12.0</td>\n",
              "      <td>0.692644</td>\n",
              "      <td>0.551603</td>\n",
              "      <td>0.479755</td>\n",
              "    </tr>\n",
              "    <tr>\n",
              "      <th>13</th>\n",
              "      <td></td>\n",
              "      <td>2021-03-22 19:03:40</td>\n",
              "      <td>18.409 sec</td>\n",
              "      <td>13.0</td>\n",
              "      <td>0.686468</td>\n",
              "      <td>0.547430</td>\n",
              "      <td>0.471239</td>\n",
              "    </tr>\n",
              "    <tr>\n",
              "      <th>14</th>\n",
              "      <td></td>\n",
              "      <td>2021-03-22 19:03:40</td>\n",
              "      <td>18.421 sec</td>\n",
              "      <td>14.0</td>\n",
              "      <td>0.679279</td>\n",
              "      <td>0.542319</td>\n",
              "      <td>0.461420</td>\n",
              "    </tr>\n",
              "    <tr>\n",
              "      <th>15</th>\n",
              "      <td></td>\n",
              "      <td>2021-03-22 19:03:40</td>\n",
              "      <td>18.436 sec</td>\n",
              "      <td>15.0</td>\n",
              "      <td>0.673396</td>\n",
              "      <td>0.537021</td>\n",
              "      <td>0.453462</td>\n",
              "    </tr>\n",
              "    <tr>\n",
              "      <th>16</th>\n",
              "      <td></td>\n",
              "      <td>2021-03-22 19:03:40</td>\n",
              "      <td>18.451 sec</td>\n",
              "      <td>16.0</td>\n",
              "      <td>0.667413</td>\n",
              "      <td>0.531768</td>\n",
              "      <td>0.445441</td>\n",
              "    </tr>\n",
              "    <tr>\n",
              "      <th>17</th>\n",
              "      <td></td>\n",
              "      <td>2021-03-22 19:03:40</td>\n",
              "      <td>18.460 sec</td>\n",
              "      <td>17.0</td>\n",
              "      <td>0.661659</td>\n",
              "      <td>0.527405</td>\n",
              "      <td>0.437793</td>\n",
              "    </tr>\n",
              "    <tr>\n",
              "      <th>18</th>\n",
              "      <td></td>\n",
              "      <td>2021-03-22 19:03:40</td>\n",
              "      <td>18.468 sec</td>\n",
              "      <td>18.0</td>\n",
              "      <td>0.658510</td>\n",
              "      <td>0.525045</td>\n",
              "      <td>0.433636</td>\n",
              "    </tr>\n",
              "    <tr>\n",
              "      <th>19</th>\n",
              "      <td></td>\n",
              "      <td>2021-03-22 19:03:40</td>\n",
              "      <td>18.481 sec</td>\n",
              "      <td>19.0</td>\n",
              "      <td>0.654632</td>\n",
              "      <td>0.521529</td>\n",
              "      <td>0.428544</td>\n",
              "    </tr>\n",
              "  </tbody>\n",
              "</table>\n",
              "</div>"
            ],
            "text/plain": [
              "                timestamp  ... training_mae  training_deviance\n",
              "0     2021-03-22 19:03:40  ...     0.676833           0.792252\n",
              "1     2021-03-22 19:03:40  ...     0.651339           0.739387\n",
              "2     2021-03-22 19:03:40  ...     0.629717           0.692433\n",
              "3     2021-03-22 19:03:40  ...     0.615587           0.653019\n",
              "4     2021-03-22 19:03:40  ...     0.605878           0.621266\n",
              "5     2021-03-22 19:03:40  ...     0.596446           0.592763\n",
              "6     2021-03-22 19:03:40  ...     0.588348           0.568629\n",
              "7     2021-03-22 19:03:40  ...     0.581034           0.549551\n",
              "8     2021-03-22 19:03:40  ...     0.574067           0.531624\n",
              "9     2021-03-22 19:03:40  ...     0.567376           0.515436\n",
              "10    2021-03-22 19:03:40  ...     0.562460           0.503000\n",
              "11    2021-03-22 19:03:40  ...     0.556993           0.491046\n",
              "12    2021-03-22 19:03:40  ...     0.551603           0.479755\n",
              "13    2021-03-22 19:03:40  ...     0.547430           0.471239\n",
              "14    2021-03-22 19:03:40  ...     0.542319           0.461420\n",
              "15    2021-03-22 19:03:40  ...     0.537021           0.453462\n",
              "16    2021-03-22 19:03:40  ...     0.531768           0.445441\n",
              "17    2021-03-22 19:03:40  ...     0.527405           0.437793\n",
              "18    2021-03-22 19:03:40  ...     0.525045           0.433636\n",
              "19    2021-03-22 19:03:40  ...     0.521529           0.428544\n",
              "\n",
              "[20 rows x 7 columns]"
            ]
          },
          "metadata": {
            "tags": []
          }
        },
        {
          "output_type": "stream",
          "text": [
            "\n",
            "See the whole table with table.as_data_frame()\n",
            "\n",
            "Variable Importances: \n"
          ],
          "name": "stdout"
        },
        {
          "output_type": "display_data",
          "data": {
            "text/html": [
              "<div>\n",
              "<style scoped>\n",
              "    .dataframe tbody tr th:only-of-type {\n",
              "        vertical-align: middle;\n",
              "    }\n",
              "\n",
              "    .dataframe tbody tr th {\n",
              "        vertical-align: top;\n",
              "    }\n",
              "\n",
              "    .dataframe thead th {\n",
              "        text-align: right;\n",
              "    }\n",
              "</style>\n",
              "<table border=\"1\" class=\"dataframe\">\n",
              "  <thead>\n",
              "    <tr style=\"text-align: right;\">\n",
              "      <th></th>\n",
              "      <th>variable</th>\n",
              "      <th>relative_importance</th>\n",
              "      <th>scaled_importance</th>\n",
              "      <th>percentage</th>\n",
              "    </tr>\n",
              "  </thead>\n",
              "  <tbody>\n",
              "    <tr>\n",
              "      <th>0</th>\n",
              "      <td>alcohol</td>\n",
              "      <td>3570.825928</td>\n",
              "      <td>1.000000</td>\n",
              "      <td>0.300384</td>\n",
              "    </tr>\n",
              "    <tr>\n",
              "      <th>1</th>\n",
              "      <td>volatile acidity</td>\n",
              "      <td>1634.188354</td>\n",
              "      <td>0.457650</td>\n",
              "      <td>0.137471</td>\n",
              "    </tr>\n",
              "    <tr>\n",
              "      <th>2</th>\n",
              "      <td>free sulfur dioxide</td>\n",
              "      <td>1259.141235</td>\n",
              "      <td>0.352619</td>\n",
              "      <td>0.105921</td>\n",
              "    </tr>\n",
              "    <tr>\n",
              "      <th>3</th>\n",
              "      <td>pH</td>\n",
              "      <td>793.018372</td>\n",
              "      <td>0.222083</td>\n",
              "      <td>0.066710</td>\n",
              "    </tr>\n",
              "    <tr>\n",
              "      <th>4</th>\n",
              "      <td>residual sugar</td>\n",
              "      <td>758.123352</td>\n",
              "      <td>0.212310</td>\n",
              "      <td>0.063775</td>\n",
              "    </tr>\n",
              "    <tr>\n",
              "      <th>5</th>\n",
              "      <td>density</td>\n",
              "      <td>723.731628</td>\n",
              "      <td>0.202679</td>\n",
              "      <td>0.060881</td>\n",
              "    </tr>\n",
              "    <tr>\n",
              "      <th>6</th>\n",
              "      <td>total sulfur dioxide</td>\n",
              "      <td>704.867432</td>\n",
              "      <td>0.197396</td>\n",
              "      <td>0.059295</td>\n",
              "    </tr>\n",
              "    <tr>\n",
              "      <th>7</th>\n",
              "      <td>fixed acidity</td>\n",
              "      <td>681.802673</td>\n",
              "      <td>0.190937</td>\n",
              "      <td>0.057354</td>\n",
              "    </tr>\n",
              "    <tr>\n",
              "      <th>8</th>\n",
              "      <td>sulphates</td>\n",
              "      <td>622.205444</td>\n",
              "      <td>0.174247</td>\n",
              "      <td>0.052341</td>\n",
              "    </tr>\n",
              "    <tr>\n",
              "      <th>9</th>\n",
              "      <td>chlorides</td>\n",
              "      <td>582.682312</td>\n",
              "      <td>0.163179</td>\n",
              "      <td>0.049016</td>\n",
              "    </tr>\n",
              "    <tr>\n",
              "      <th>10</th>\n",
              "      <td>citric acid</td>\n",
              "      <td>556.965576</td>\n",
              "      <td>0.155977</td>\n",
              "      <td>0.046853</td>\n",
              "    </tr>\n",
              "  </tbody>\n",
              "</table>\n",
              "</div>"
            ],
            "text/plain": [
              "                variable  relative_importance  scaled_importance  percentage\n",
              "0                alcohol          3570.825928           1.000000    0.300384\n",
              "1       volatile acidity          1634.188354           0.457650    0.137471\n",
              "2    free sulfur dioxide          1259.141235           0.352619    0.105921\n",
              "3                     pH           793.018372           0.222083    0.066710\n",
              "4         residual sugar           758.123352           0.212310    0.063775\n",
              "5                density           723.731628           0.202679    0.060881\n",
              "6   total sulfur dioxide           704.867432           0.197396    0.059295\n",
              "7          fixed acidity           681.802673           0.190937    0.057354\n",
              "8              sulphates           622.205444           0.174247    0.052341\n",
              "9              chlorides           582.682312           0.163179    0.049016\n",
              "10           citric acid           556.965576           0.155977    0.046853"
            ]
          },
          "metadata": {
            "tags": []
          }
        },
        {
          "output_type": "execute_result",
          "data": {
            "text/plain": [
              ""
            ]
          },
          "metadata": {
            "tags": []
          },
          "execution_count": 40
        }
      ]
    },
    {
      "cell_type": "code",
      "metadata": {
        "colab": {
          "base_uri": "https://localhost:8080/"
        },
        "id": "MLXPUMvvUfX4",
        "outputId": "0650f8a4-b6de-48f6-ebec-07bcdf52bc39"
      },
      "source": [
        "# Check the model performance on test dataset\n",
        "gbm_manual_cv_es.model_performance(wine_test)"
      ],
      "execution_count": 41,
      "outputs": [
        {
          "output_type": "stream",
          "text": [
            "\n",
            "ModelMetricsRegression: gbm\n",
            "** Reported on test data. **\n",
            "\n",
            "MSE: 0.42693718980231904\n",
            "RMSE: 0.6534043080683805\n",
            "MAE: 0.4924588228316932\n",
            "RMSLE: 0.09727407043431957\n",
            "Mean Residual Deviance: 0.42693718980231904\n"
          ],
          "name": "stdout"
        },
        {
          "output_type": "execute_result",
          "data": {
            "text/plain": [
              ""
            ]
          },
          "metadata": {
            "tags": []
          },
          "execution_count": 41
        }
      ]
    },
    {
      "cell_type": "markdown",
      "metadata": {
        "id": "bvyJHHb-WzMQ"
      },
      "source": [
        "## Grid Search"
      ]
    },
    {
      "cell_type": "code",
      "metadata": {
        "id": "9xhE-LdAUuOf"
      },
      "source": [
        "# define the criteria for full grid search\n",
        "search_criteria = {'strategy': \"Cartesian\"}\n",
        "# define the range of hyper-parameters for grid search\n",
        "hyper_params = {'sample_rate': [0.7, 0.8, 0.9],\n",
        "                'col_sample_rate': [0.7, 0.8, 0.9]}"
      ],
      "execution_count": 42,
      "outputs": []
    },
    {
      "cell_type": "code",
      "metadata": {
        "colab": {
          "base_uri": "https://localhost:8080/"
        },
        "id": "YSeHciwHU5wi",
        "outputId": "3c6edb93-b4a6-46c5-d29e-b82725649b4a"
      },
      "source": [
        "# Set up GBM grid search\n",
        "# Add a seed for reproducibility\n",
        "from h2o.grid.grid_search import H2OGridSearch\n",
        "gbm_full_grid = H2OGridSearch(\n",
        "                    H2OGradientBoostingEstimator(\n",
        "                        model_id = 'gbm_full_grid', \n",
        "                        seed = 1234,\n",
        "                        ntrees = 10000,   \n",
        "                        nfolds = 5,\n",
        "                        stopping_metric = 'mse', \n",
        "                        stopping_rounds = 15,     \n",
        "                        score_tree_interval = 1),\n",
        "                    search_criteria = search_criteria, \n",
        "                    hyper_params = hyper_params)\n",
        "# Use .train() to start the grid search\n",
        "gbm_full_grid.train(x = features, \n",
        "                    y = 'quality', \n",
        "                    training_frame = wine_train)"
      ],
      "execution_count": 45,
      "outputs": [
        {
          "output_type": "stream",
          "text": [
            "gbm Grid Build progress: |████████████████████████████████████████████████| 100%\n"
          ],
          "name": "stdout"
        }
      ]
    },
    {
      "cell_type": "code",
      "metadata": {
        "colab": {
          "base_uri": "https://localhost:8080/",
          "height": 114
        },
        "id": "tQawkcMKU7_F",
        "outputId": "d1c2c78b-28ee-4468-d683-2da03c66d858"
      },
      "source": [
        "# Extract the best model from full grid search\n",
        "gbm_full_grid_sorted = gbm_full_grid.get_grid(sort_by='mse', decreasing=False)\n",
        "best_model_id = gbm_full_grid_sorted.model_ids[0]\n",
        "best_gbm_from_full_grid = h2o.get_model(best_model_id)\n",
        "best_gbm_from_full_grid.summary()"
      ],
      "execution_count": 46,
      "outputs": [
        {
          "output_type": "stream",
          "text": [
            "\n",
            "Model Summary: \n"
          ],
          "name": "stdout"
        },
        {
          "output_type": "display_data",
          "data": {
            "text/html": [
              "<div>\n",
              "<style scoped>\n",
              "    .dataframe tbody tr th:only-of-type {\n",
              "        vertical-align: middle;\n",
              "    }\n",
              "\n",
              "    .dataframe tbody tr th {\n",
              "        vertical-align: top;\n",
              "    }\n",
              "\n",
              "    .dataframe thead th {\n",
              "        text-align: right;\n",
              "    }\n",
              "</style>\n",
              "<table border=\"1\" class=\"dataframe\">\n",
              "  <thead>\n",
              "    <tr style=\"text-align: right;\">\n",
              "      <th></th>\n",
              "      <th></th>\n",
              "      <th>number_of_trees</th>\n",
              "      <th>number_of_internal_trees</th>\n",
              "      <th>model_size_in_bytes</th>\n",
              "      <th>min_depth</th>\n",
              "      <th>max_depth</th>\n",
              "      <th>mean_depth</th>\n",
              "      <th>min_leaves</th>\n",
              "      <th>max_leaves</th>\n",
              "      <th>mean_leaves</th>\n",
              "    </tr>\n",
              "  </thead>\n",
              "  <tbody>\n",
              "    <tr>\n",
              "      <th>0</th>\n",
              "      <td></td>\n",
              "      <td>195.0</td>\n",
              "      <td>195.0</td>\n",
              "      <td>60300.0</td>\n",
              "      <td>5.0</td>\n",
              "      <td>5.0</td>\n",
              "      <td>5.0</td>\n",
              "      <td>7.0</td>\n",
              "      <td>31.0</td>\n",
              "      <td>19.902565</td>\n",
              "    </tr>\n",
              "  </tbody>\n",
              "</table>\n",
              "</div>"
            ],
            "text/plain": [
              "     number_of_trees  ...  max_leaves  mean_leaves\n",
              "0              195.0  ...        31.0    19.902565\n",
              "\n",
              "[1 rows x 10 columns]"
            ]
          },
          "metadata": {
            "tags": []
          }
        },
        {
          "output_type": "execute_result",
          "data": {
            "text/plain": [
              ""
            ]
          },
          "metadata": {
            "tags": []
          },
          "execution_count": 46
        }
      ]
    },
    {
      "cell_type": "code",
      "metadata": {
        "colab": {
          "base_uri": "https://localhost:8080/"
        },
        "id": "ejkWvJ1_V4Av",
        "outputId": "53242974-7846-4d65-f96d-489b4576d2f9"
      },
      "source": [
        "# Check the model performance on test dataset\n",
        "best_gbm_from_full_grid.model_performance(wine_test)"
      ],
      "execution_count": 47,
      "outputs": [
        {
          "output_type": "stream",
          "text": [
            "\n",
            "ModelMetricsRegression: gbm\n",
            "** Reported on test data. **\n",
            "\n",
            "MSE: 0.42254885478062437\n",
            "RMSE: 0.6500375795141573\n",
            "MAE: 0.4908349090126119\n",
            "RMSLE: 0.09684966383616216\n",
            "Mean Residual Deviance: 0.42254885478062437\n"
          ],
          "name": "stdout"
        },
        {
          "output_type": "execute_result",
          "data": {
            "text/plain": [
              ""
            ]
          },
          "metadata": {
            "tags": []
          },
          "execution_count": 47
        }
      ]
    },
    {
      "cell_type": "code",
      "metadata": {
        "id": "s1DPP8oXV78f"
      },
      "source": [
        ""
      ],
      "execution_count": null,
      "outputs": []
    }
  ]
}