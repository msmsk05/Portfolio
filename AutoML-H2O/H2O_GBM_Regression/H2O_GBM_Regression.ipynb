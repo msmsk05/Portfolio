{
  "nbformat": 4,
  "nbformat_minor": 0,
  "metadata": {
    "colab": {
      "name": "dphi.ipynb",
      "provenance": [],
      "collapsed_sections": []
    },
    "kernelspec": {
      "name": "python3",
      "display_name": "Python 3"
    },
    "language_info": {
      "name": "python"
    }
  },
  "cells": [
    {
      "cell_type": "code",
      "metadata": {
        "id": "WZCpG5_mp8RY"
      },
      "source": [
        "import pandas as pd\n",
        "import numpy as np"
      ],
      "execution_count": null,
      "outputs": []
    },
    {
      "cell_type": "code",
      "metadata": {
        "colab": {
          "base_uri": "https://localhost:8080/",
          "height": 301
        },
        "id": "IGUaSeprp_QK",
        "outputId": "7c3ba7f2-a72a-4813-b6a2-13566cf09a5a"
      },
      "source": [
        "df=pd.read_csv(\"Train_data.csv\")\n",
        "df.head(2)"
      ],
      "execution_count": null,
      "outputs": [
        {
          "output_type": "execute_result",
          "data": {
            "text/html": [
              "<div>\n",
              "<style scoped>\n",
              "    .dataframe tbody tr th:only-of-type {\n",
              "        vertical-align: middle;\n",
              "    }\n",
              "\n",
              "    .dataframe tbody tr th {\n",
              "        vertical-align: top;\n",
              "    }\n",
              "\n",
              "    .dataframe thead th {\n",
              "        text-align: right;\n",
              "    }\n",
              "</style>\n",
              "<table border=\"1\" class=\"dataframe\">\n",
              "  <thead>\n",
              "    <tr style=\"text-align: right;\">\n",
              "      <th></th>\n",
              "      <th>YearStart</th>\n",
              "      <th>YearEnd</th>\n",
              "      <th>LocationAbbr</th>\n",
              "      <th>LocationDesc</th>\n",
              "      <th>Datasource</th>\n",
              "      <th>Topic</th>\n",
              "      <th>Question</th>\n",
              "      <th>Data_Value_Type</th>\n",
              "      <th>Data_Value</th>\n",
              "      <th>Low_Confidence_Limit</th>\n",
              "      <th>High_Confidence_Limit</th>\n",
              "      <th>Sample_Size</th>\n",
              "      <th>Total</th>\n",
              "      <th>Age(years)</th>\n",
              "      <th>Education</th>\n",
              "      <th>Gender</th>\n",
              "      <th>Income</th>\n",
              "      <th>Race/Ethnicity</th>\n",
              "      <th>GeoLocation</th>\n",
              "      <th>ClassID</th>\n",
              "      <th>TopicID</th>\n",
              "      <th>QuestionID</th>\n",
              "      <th>DataValueTypeID</th>\n",
              "      <th>LocationID</th>\n",
              "      <th>StratificationCategory1</th>\n",
              "      <th>Stratification1</th>\n",
              "      <th>StratificationCategoryId1</th>\n",
              "      <th>StratificationID1</th>\n",
              "      <th>Class</th>\n",
              "    </tr>\n",
              "  </thead>\n",
              "  <tbody>\n",
              "    <tr>\n",
              "      <th>0</th>\n",
              "      <td>2011</td>\n",
              "      <td>2011</td>\n",
              "      <td>AL</td>\n",
              "      <td>Alabama</td>\n",
              "      <td>Behavioral Risk Factor Surveillance System</td>\n",
              "      <td>Obesity / Weight Status</td>\n",
              "      <td>Percent of adults aged 18 years and older who ...</td>\n",
              "      <td>Value</td>\n",
              "      <td>32.0</td>\n",
              "      <td>30.5</td>\n",
              "      <td>33.5</td>\n",
              "      <td>7304.0</td>\n",
              "      <td>Total</td>\n",
              "      <td>NaN</td>\n",
              "      <td>NaN</td>\n",
              "      <td>NaN</td>\n",
              "      <td>NaN</td>\n",
              "      <td>NaN</td>\n",
              "      <td>(32.84057112200048, -86.63186076199969)</td>\n",
              "      <td>OWS</td>\n",
              "      <td>OWS1</td>\n",
              "      <td>Q036</td>\n",
              "      <td>VALUE</td>\n",
              "      <td>1.0</td>\n",
              "      <td>Total</td>\n",
              "      <td>Total</td>\n",
              "      <td>OVR</td>\n",
              "      <td>OVERALL</td>\n",
              "      <td>Obesity / Weight Status</td>\n",
              "    </tr>\n",
              "    <tr>\n",
              "      <th>1</th>\n",
              "      <td>2011</td>\n",
              "      <td>2011</td>\n",
              "      <td>AL</td>\n",
              "      <td>Alabama</td>\n",
              "      <td>Behavioral Risk Factor Surveillance System</td>\n",
              "      <td>Obesity / Weight Status</td>\n",
              "      <td>Percent of adults aged 18 years and older who ...</td>\n",
              "      <td>Value</td>\n",
              "      <td>32.3</td>\n",
              "      <td>29.9</td>\n",
              "      <td>34.7</td>\n",
              "      <td>2581.0</td>\n",
              "      <td>NaN</td>\n",
              "      <td>NaN</td>\n",
              "      <td>NaN</td>\n",
              "      <td>Male</td>\n",
              "      <td>NaN</td>\n",
              "      <td>NaN</td>\n",
              "      <td>(32.84057112200048, -86.63186076199969)</td>\n",
              "      <td>OWS</td>\n",
              "      <td>OWS1</td>\n",
              "      <td>Q036</td>\n",
              "      <td>VALUE</td>\n",
              "      <td>1.0</td>\n",
              "      <td>Gender</td>\n",
              "      <td>Male</td>\n",
              "      <td>GEN</td>\n",
              "      <td>MALE</td>\n",
              "      <td>Obesity / Weight Status</td>\n",
              "    </tr>\n",
              "  </tbody>\n",
              "</table>\n",
              "</div>"
            ],
            "text/plain": [
              "   YearStart  YearEnd  ... StratificationID1                    Class\n",
              "0       2011     2011  ...           OVERALL  Obesity / Weight Status\n",
              "1       2011     2011  ...              MALE  Obesity / Weight Status\n",
              "\n",
              "[2 rows x 29 columns]"
            ]
          },
          "metadata": {
            "tags": []
          },
          "execution_count": 2
        }
      ]
    },
    {
      "cell_type": "code",
      "metadata": {
        "colab": {
          "base_uri": "https://localhost:8080/"
        },
        "id": "n-3BfumvqS8s",
        "outputId": "9c663255-d0fb-46e4-9d88-3c8adc3f8d64"
      },
      "source": [
        "df.columns"
      ],
      "execution_count": null,
      "outputs": [
        {
          "output_type": "execute_result",
          "data": {
            "text/plain": [
              "Index(['YearStart', 'YearEnd', 'LocationAbbr', 'LocationDesc', 'Datasource',\n",
              "       'Topic', 'Question', 'Data_Value_Type', 'Data_Value',\n",
              "       'Low_Confidence_Limit', 'High_Confidence_Limit ', 'Sample_Size',\n",
              "       'Total', 'Age(years)', 'Education', 'Gender', 'Income',\n",
              "       'Race/Ethnicity', 'GeoLocation', 'ClassID', 'TopicID', 'QuestionID',\n",
              "       'DataValueTypeID', 'LocationID', 'StratificationCategory1',\n",
              "       'Stratification1', 'StratificationCategoryId1', 'StratificationID1',\n",
              "       'Class'],\n",
              "      dtype='object')"
            ]
          },
          "metadata": {
            "tags": []
          },
          "execution_count": 3
        }
      ]
    },
    {
      "cell_type": "code",
      "metadata": {
        "id": "47l5GKRkqlnU"
      },
      "source": [
        "df=df[['Data_Value_Type', 'Data_Value',\n",
        "       'Low_Confidence_Limit', 'High_Confidence_Limit ', 'Sample_Size',\n",
        "       'Total', 'Age(years)', 'Education', 'Gender', 'Income',\n",
        "       'Race/Ethnicity', 'GeoLocation', 'ClassID', 'TopicID', 'QuestionID',\n",
        "       'DataValueTypeID', 'LocationID', 'StratificationCategory1',\n",
        "       'Stratification1', 'StratificationCategoryId1', 'StratificationID1',\n",
        "       'Class']]"
      ],
      "execution_count": null,
      "outputs": []
    },
    {
      "cell_type": "code",
      "metadata": {
        "colab": {
          "base_uri": "https://localhost:8080/"
        },
        "id": "6yHV_8Vvqul0",
        "outputId": "735ab317-95bb-47d5-9f6c-f4edeba0bdee"
      },
      "source": [
        "df.isnull().sum()"
      ],
      "execution_count": null,
      "outputs": [
        {
          "output_type": "execute_result",
          "data": {
            "text/plain": [
              "Data_Value_Type                  0\n",
              "Data_Value                       0\n",
              "Low_Confidence_Limit             0\n",
              "High_Confidence_Limit            1\n",
              "Sample_Size                      1\n",
              "Total                        39308\n",
              "Age(years)                   32125\n",
              "Education                    35253\n",
              "Gender                       38041\n",
              "Income                       30296\n",
              "Race/Ethnicity               32715\n",
              "GeoLocation                    839\n",
              "ClassID                          1\n",
              "TopicID                          1\n",
              "QuestionID                       1\n",
              "DataValueTypeID                  1\n",
              "LocationID                       1\n",
              "StratificationCategory1          1\n",
              "Stratification1                  1\n",
              "StratificationCategoryId1        1\n",
              "StratificationID1                1\n",
              "Class                            1\n",
              "dtype: int64"
            ]
          },
          "metadata": {
            "tags": []
          },
          "execution_count": 5
        }
      ]
    },
    {
      "cell_type": "code",
      "metadata": {
        "colab": {
          "base_uri": "https://localhost:8080/"
        },
        "id": "4zHAEB4Zqw55",
        "outputId": "df5caeae-0708-4708-a6f6-42cec132b3a1"
      },
      "source": [
        "df.shape"
      ],
      "execution_count": null,
      "outputs": [
        {
          "output_type": "execute_result",
          "data": {
            "text/plain": [
              "(40769, 22)"
            ]
          },
          "metadata": {
            "tags": []
          },
          "execution_count": 6
        }
      ]
    },
    {
      "cell_type": "code",
      "metadata": {
        "id": "kvL4RD2Xqzxd"
      },
      "source": [
        "df=df.drop(columns=[\"Total\", \"Age(years)\", \"Education\", \"Gender\", \"Income\", \"Race/Ethnicity\", \"GeoLocation\"], axis=1)"
      ],
      "execution_count": null,
      "outputs": []
    },
    {
      "cell_type": "code",
      "metadata": {
        "colab": {
          "base_uri": "https://localhost:8080/"
        },
        "id": "cVKbm_tyrTio",
        "outputId": "9619853c-ef93-4c71-d478-8c064f00f3b8"
      },
      "source": [
        "df.isnull().sum()"
      ],
      "execution_count": null,
      "outputs": [
        {
          "output_type": "execute_result",
          "data": {
            "text/plain": [
              "Data_Value_Type              0\n",
              "Data_Value                   0\n",
              "Low_Confidence_Limit         0\n",
              "High_Confidence_Limit        1\n",
              "Sample_Size                  1\n",
              "ClassID                      1\n",
              "TopicID                      1\n",
              "QuestionID                   1\n",
              "DataValueTypeID              1\n",
              "LocationID                   1\n",
              "StratificationCategory1      1\n",
              "Stratification1              1\n",
              "StratificationCategoryId1    1\n",
              "StratificationID1            1\n",
              "Class                        1\n",
              "dtype: int64"
            ]
          },
          "metadata": {
            "tags": []
          },
          "execution_count": 8
        }
      ]
    },
    {
      "cell_type": "code",
      "metadata": {
        "id": "204h332HrY7G"
      },
      "source": [
        "df=df.dropna()"
      ],
      "execution_count": null,
      "outputs": []
    },
    {
      "cell_type": "code",
      "metadata": {
        "colab": {
          "base_uri": "https://localhost:8080/"
        },
        "id": "_TFToE_irdbC",
        "outputId": "2f9b95c6-053d-4201-93fa-fb3d9ad0e662"
      },
      "source": [
        "for col in df.columns:\n",
        "  print(col, df[col].nunique())"
      ],
      "execution_count": null,
      "outputs": [
        {
          "output_type": "stream",
          "text": [
            "Data_Value_Type 1\n",
            "Data_Value 13444\n",
            "Low_Confidence_Limit 13437\n",
            "High_Confidence_Limit  13495\n",
            "Sample_Size 18635\n",
            "ClassID 3\n",
            "TopicID 3\n",
            "QuestionID 9\n",
            "DataValueTypeID 1\n",
            "LocationID 10007\n",
            "StratificationCategory1 6\n",
            "Stratification1 28\n",
            "StratificationCategoryId1 6\n",
            "StratificationID1 28\n",
            "Class 3\n"
          ],
          "name": "stdout"
        }
      ]
    },
    {
      "cell_type": "code",
      "metadata": {
        "id": "U-woQvV7ruCr"
      },
      "source": [
        "df=df.drop(columns=[\"Data_Value_Type\",\"DataValueTypeID\"], axis=1)"
      ],
      "execution_count": null,
      "outputs": []
    },
    {
      "cell_type": "code",
      "metadata": {
        "colab": {
          "base_uri": "https://localhost:8080/"
        },
        "id": "REsugsMar-ot",
        "outputId": "27573b97-bc16-46c4-9a02-51410f001ca5"
      },
      "source": [
        "df.StratificationCategoryId1"
      ],
      "execution_count": null,
      "outputs": [
        {
          "output_type": "execute_result",
          "data": {
            "text/plain": [
              "0          OVR\n",
              "1          GEN\n",
              "2          GEN\n",
              "3          EDU\n",
              "4          EDU\n",
              "         ...  \n",
              "40763    AGEYR\n",
              "40764      INC\n",
              "40765     RACE\n",
              "40766      GEN\n",
              "40767    AGEYR\n",
              "Name: StratificationCategoryId1, Length: 40768, dtype: object"
            ]
          },
          "metadata": {
            "tags": []
          },
          "execution_count": 12
        }
      ]
    },
    {
      "cell_type": "code",
      "metadata": {
        "colab": {
          "base_uri": "https://localhost:8080/",
          "height": 165
        },
        "id": "ciOQZ5OhsCeA",
        "outputId": "a05712dd-4ef4-43ca-8576-b809789a0bde"
      },
      "source": [
        "df.sample(2)"
      ],
      "execution_count": null,
      "outputs": [
        {
          "output_type": "execute_result",
          "data": {
            "text/html": [
              "<div>\n",
              "<style scoped>\n",
              "    .dataframe tbody tr th:only-of-type {\n",
              "        vertical-align: middle;\n",
              "    }\n",
              "\n",
              "    .dataframe tbody tr th {\n",
              "        vertical-align: top;\n",
              "    }\n",
              "\n",
              "    .dataframe thead th {\n",
              "        text-align: right;\n",
              "    }\n",
              "</style>\n",
              "<table border=\"1\" class=\"dataframe\">\n",
              "  <thead>\n",
              "    <tr style=\"text-align: right;\">\n",
              "      <th></th>\n",
              "      <th>Data_Value</th>\n",
              "      <th>Low_Confidence_Limit</th>\n",
              "      <th>High_Confidence_Limit</th>\n",
              "      <th>Sample_Size</th>\n",
              "      <th>ClassID</th>\n",
              "      <th>TopicID</th>\n",
              "      <th>QuestionID</th>\n",
              "      <th>LocationID</th>\n",
              "      <th>StratificationCategory1</th>\n",
              "      <th>Stratification1</th>\n",
              "      <th>StratificationCategoryId1</th>\n",
              "      <th>StratificationID1</th>\n",
              "      <th>Class</th>\n",
              "    </tr>\n",
              "  </thead>\n",
              "  <tbody>\n",
              "    <tr>\n",
              "      <th>18933</th>\n",
              "      <td>37.300000</td>\n",
              "      <td>33.400000</td>\n",
              "      <td>41.500000</td>\n",
              "      <td>1015.000000</td>\n",
              "      <td>PA</td>\n",
              "      <td>PA1</td>\n",
              "      <td>Q047</td>\n",
              "      <td>18.000000</td>\n",
              "      <td>Income</td>\n",
              "      <td>Less than $15,000</td>\n",
              "      <td>INC</td>\n",
              "      <td>INCLESS15</td>\n",
              "      <td>Physical Activity</td>\n",
              "    </tr>\n",
              "    <tr>\n",
              "      <th>24850</th>\n",
              "      <td>37.480505</td>\n",
              "      <td>35.307708</td>\n",
              "      <td>39.780505</td>\n",
              "      <td>2700.559468</td>\n",
              "      <td>FV</td>\n",
              "      <td>FV1</td>\n",
              "      <td>Q018</td>\n",
              "      <td>38.639867</td>\n",
              "      <td>Age (years)</td>\n",
              "      <td>Female</td>\n",
              "      <td>AGEYR</td>\n",
              "      <td>FEMALE</td>\n",
              "      <td>Fruits and Vegetables</td>\n",
              "    </tr>\n",
              "  </tbody>\n",
              "</table>\n",
              "</div>"
            ],
            "text/plain": [
              "       Data_Value  ...                  Class\n",
              "18933   37.300000  ...      Physical Activity\n",
              "24850   37.480505  ...  Fruits and Vegetables\n",
              "\n",
              "[2 rows x 13 columns]"
            ]
          },
          "metadata": {
            "tags": []
          },
          "execution_count": 13
        }
      ]
    },
    {
      "cell_type": "code",
      "metadata": {
        "id": "2KGODP7jsiQ0"
      },
      "source": [
        "df=df.drop(columns=[\"LocationID\", \"ClassID\", \"TopicID\", \"QuestionID\", \"StratificationCategory1\", \"Stratification1\", \"StratificationCategoryId1\", \"StratificationID1\"], axis=1)"
      ],
      "execution_count": null,
      "outputs": []
    },
    {
      "cell_type": "code",
      "metadata": {
        "colab": {
          "base_uri": "https://localhost:8080/",
          "height": 111
        },
        "id": "UlsFs5lPuvEd",
        "outputId": "df99f94d-477d-42b8-f426-be58b6368008"
      },
      "source": [
        "df.sample(2)"
      ],
      "execution_count": null,
      "outputs": [
        {
          "output_type": "execute_result",
          "data": {
            "text/html": [
              "<div>\n",
              "<style scoped>\n",
              "    .dataframe tbody tr th:only-of-type {\n",
              "        vertical-align: middle;\n",
              "    }\n",
              "\n",
              "    .dataframe tbody tr th {\n",
              "        vertical-align: top;\n",
              "    }\n",
              "\n",
              "    .dataframe thead th {\n",
              "        text-align: right;\n",
              "    }\n",
              "</style>\n",
              "<table border=\"1\" class=\"dataframe\">\n",
              "  <thead>\n",
              "    <tr style=\"text-align: right;\">\n",
              "      <th></th>\n",
              "      <th>Data_Value</th>\n",
              "      <th>Low_Confidence_Limit</th>\n",
              "      <th>High_Confidence_Limit</th>\n",
              "      <th>Sample_Size</th>\n",
              "      <th>Class</th>\n",
              "    </tr>\n",
              "  </thead>\n",
              "  <tbody>\n",
              "    <tr>\n",
              "      <th>40083</th>\n",
              "      <td>42.248553</td>\n",
              "      <td>38.687859</td>\n",
              "      <td>45.889593</td>\n",
              "      <td>1242.982655</td>\n",
              "      <td>Fruits and Vegetables</td>\n",
              "    </tr>\n",
              "    <tr>\n",
              "      <th>37852</th>\n",
              "      <td>19.300000</td>\n",
              "      <td>17.400000</td>\n",
              "      <td>21.400000</td>\n",
              "      <td>3406.000000</td>\n",
              "      <td>Physical Activity</td>\n",
              "    </tr>\n",
              "  </tbody>\n",
              "</table>\n",
              "</div>"
            ],
            "text/plain": [
              "       Data_Value  Low_Confidence_Limit  ...  Sample_Size                  Class\n",
              "40083   42.248553             38.687859  ...  1242.982655  Fruits and Vegetables\n",
              "37852   19.300000             17.400000  ...  3406.000000      Physical Activity\n",
              "\n",
              "[2 rows x 5 columns]"
            ]
          },
          "metadata": {
            "tags": []
          },
          "execution_count": 15
        }
      ]
    },
    {
      "cell_type": "code",
      "metadata": {
        "id": "tNj14IaSalcc"
      },
      "source": [
        "df2=df.copy()"
      ],
      "execution_count": null,
      "outputs": []
    },
    {
      "cell_type": "code",
      "metadata": {
        "id": "NWJfWWNWuw16"
      },
      "source": [
        "df=pd.get_dummies(df, columns=[\"Class\"], drop_first=True )"
      ],
      "execution_count": null,
      "outputs": []
    },
    {
      "cell_type": "code",
      "metadata": {
        "id": "zia6NtdNvAop"
      },
      "source": [
        "X=df.drop(columns=\"Data_Value\", axis=1)\n",
        "y=df.Data_Value"
      ],
      "execution_count": null,
      "outputs": []
    },
    {
      "cell_type": "code",
      "metadata": {
        "id": "twgzbTATvgyT"
      },
      "source": [
        "from sklearn.model_selection import train_test_split"
      ],
      "execution_count": null,
      "outputs": []
    },
    {
      "cell_type": "code",
      "metadata": {
        "id": "C3uce50evyM5"
      },
      "source": [
        "X_train, X_test, y_train, y_test=train_test_split(X,y,test_size=0.2)"
      ],
      "execution_count": null,
      "outputs": []
    },
    {
      "cell_type": "code",
      "metadata": {
        "id": "IsNeaKMACbvs"
      },
      "source": [
        "from sklearn.preprocessing import StandardScaler\n",
        "scaler=StandardScaler().fit(X_train)\n",
        "X_train=scaler.transform(X_train)\n",
        "X_test=scaler.transform(X_test)"
      ],
      "execution_count": null,
      "outputs": []
    },
    {
      "cell_type": "code",
      "metadata": {
        "id": "4_Wt_Trxevwv",
        "colab": {
          "base_uri": "https://localhost:8080/"
        },
        "outputId": "96cc92ae-33d4-4e3b-a474-4c14321bf75e"
      },
      "source": [
        "from sklearn.ensemble import ExtraTreesRegressor\n",
        "from sklearn.metrics import mean_squared_error\n",
        "ext=ExtraTreesRegressor(n_estimators=900).fit(X_train, y_train)\n",
        "pred=ext.predict(X_test)\n",
        "mean_squared_error(y_test, pred)"
      ],
      "execution_count": null,
      "outputs": [
        {
          "output_type": "execute_result",
          "data": {
            "text/plain": [
              "0.004404579636389006"
            ]
          },
          "metadata": {
            "tags": []
          },
          "execution_count": 23
        }
      ]
    },
    {
      "cell_type": "code",
      "metadata": {
        "id": "iLR7XCETevzV"
      },
      "source": [
        ""
      ],
      "execution_count": null,
      "outputs": []
    },
    {
      "cell_type": "code",
      "metadata": {
        "id": "QO16SXocxfWo"
      },
      "source": [
        "test=pd.read_csv(\"Test_data.csv\")"
      ],
      "execution_count": null,
      "outputs": []
    },
    {
      "cell_type": "code",
      "metadata": {
        "colab": {
          "base_uri": "https://localhost:8080/",
          "height": 301
        },
        "id": "1orDeO4Ayv5M",
        "outputId": "2120258f-b990-4dc6-aec1-bbdae4daea10"
      },
      "source": [
        "test.head(2)"
      ],
      "execution_count": null,
      "outputs": [
        {
          "output_type": "execute_result",
          "data": {
            "text/html": [
              "<div>\n",
              "<style scoped>\n",
              "    .dataframe tbody tr th:only-of-type {\n",
              "        vertical-align: middle;\n",
              "    }\n",
              "\n",
              "    .dataframe tbody tr th {\n",
              "        vertical-align: top;\n",
              "    }\n",
              "\n",
              "    .dataframe thead th {\n",
              "        text-align: right;\n",
              "    }\n",
              "</style>\n",
              "<table border=\"1\" class=\"dataframe\">\n",
              "  <thead>\n",
              "    <tr style=\"text-align: right;\">\n",
              "      <th></th>\n",
              "      <th>YearStart</th>\n",
              "      <th>YearEnd</th>\n",
              "      <th>LocationAbbr</th>\n",
              "      <th>LocationDesc</th>\n",
              "      <th>Datasource</th>\n",
              "      <th>Topic</th>\n",
              "      <th>Question</th>\n",
              "      <th>Data_Value_Type</th>\n",
              "      <th>Low_Confidence_Limit</th>\n",
              "      <th>High_Confidence_Limit</th>\n",
              "      <th>Sample_Size</th>\n",
              "      <th>Total</th>\n",
              "      <th>Age(years)</th>\n",
              "      <th>Education</th>\n",
              "      <th>Gender</th>\n",
              "      <th>Income</th>\n",
              "      <th>Race/Ethnicity</th>\n",
              "      <th>GeoLocation</th>\n",
              "      <th>ClassID</th>\n",
              "      <th>TopicID</th>\n",
              "      <th>QuestionID</th>\n",
              "      <th>DataValueTypeID</th>\n",
              "      <th>LocationID</th>\n",
              "      <th>StratificationCategory1</th>\n",
              "      <th>Stratification1</th>\n",
              "      <th>StratificationCategoryId1</th>\n",
              "      <th>StratificationID1</th>\n",
              "      <th>Class</th>\n",
              "    </tr>\n",
              "  </thead>\n",
              "  <tbody>\n",
              "    <tr>\n",
              "      <th>0</th>\n",
              "      <td>2016</td>\n",
              "      <td>2016</td>\n",
              "      <td>US</td>\n",
              "      <td>National</td>\n",
              "      <td>Behavioral Risk Factor Surveillance System</td>\n",
              "      <td>Obesity / Weight Status</td>\n",
              "      <td>Percent of adults aged 18 years and older who ...</td>\n",
              "      <td>Value</td>\n",
              "      <td>34.9</td>\n",
              "      <td>35.5</td>\n",
              "      <td>438479.0</td>\n",
              "      <td>Total</td>\n",
              "      <td>NaN</td>\n",
              "      <td>NaN</td>\n",
              "      <td>NaN</td>\n",
              "      <td>NaN</td>\n",
              "      <td>NaN</td>\n",
              "      <td>NaN</td>\n",
              "      <td>OWS</td>\n",
              "      <td>OWS1</td>\n",
              "      <td>Q037</td>\n",
              "      <td>VALUE</td>\n",
              "      <td>59.0</td>\n",
              "      <td>Total</td>\n",
              "      <td>Total</td>\n",
              "      <td>OVR</td>\n",
              "      <td>OVERALL</td>\n",
              "      <td>Obesity / Weight Status</td>\n",
              "    </tr>\n",
              "    <tr>\n",
              "      <th>1</th>\n",
              "      <td>2016</td>\n",
              "      <td>2016</td>\n",
              "      <td>US</td>\n",
              "      <td>National</td>\n",
              "      <td>Behavioral Risk Factor Surveillance System</td>\n",
              "      <td>Obesity / Weight Status</td>\n",
              "      <td>Percent of adults aged 18 years and older who ...</td>\n",
              "      <td>Value</td>\n",
              "      <td>40.6</td>\n",
              "      <td>41.5</td>\n",
              "      <td>198440.0</td>\n",
              "      <td>NaN</td>\n",
              "      <td>NaN</td>\n",
              "      <td>NaN</td>\n",
              "      <td>Male</td>\n",
              "      <td>NaN</td>\n",
              "      <td>NaN</td>\n",
              "      <td>NaN</td>\n",
              "      <td>OWS</td>\n",
              "      <td>OWS1</td>\n",
              "      <td>Q037</td>\n",
              "      <td>VALUE</td>\n",
              "      <td>59.0</td>\n",
              "      <td>Gender</td>\n",
              "      <td>Male</td>\n",
              "      <td>GEN</td>\n",
              "      <td>MALE</td>\n",
              "      <td>Obesity / Weight Status</td>\n",
              "    </tr>\n",
              "  </tbody>\n",
              "</table>\n",
              "</div>"
            ],
            "text/plain": [
              "   YearStart  YearEnd  ... StratificationID1                    Class\n",
              "0       2016     2016  ...           OVERALL  Obesity / Weight Status\n",
              "1       2016     2016  ...              MALE  Obesity / Weight Status\n",
              "\n",
              "[2 rows x 28 columns]"
            ]
          },
          "metadata": {
            "tags": []
          },
          "execution_count": 25
        }
      ]
    },
    {
      "cell_type": "code",
      "metadata": {
        "id": "9VYYlFmqzF_Y"
      },
      "source": [
        "test=test[['Low_Confidence_Limit', 'High_Confidence_Limit ',\n",
        "       'Sample_Size', \"Class\"]]"
      ],
      "execution_count": null,
      "outputs": []
    },
    {
      "cell_type": "code",
      "metadata": {
        "id": "mKDOUtcvzT6W"
      },
      "source": [
        "test=pd.get_dummies(test, columns=[\"Class\"])"
      ],
      "execution_count": null,
      "outputs": []
    },
    {
      "cell_type": "code",
      "metadata": {
        "colab": {
          "base_uri": "https://localhost:8080/",
          "height": 111
        },
        "id": "6AKUy1rezpce",
        "outputId": "6abd9e71-afd8-4dc4-d9ce-84351fb68335"
      },
      "source": [
        "test.head(2)"
      ],
      "execution_count": null,
      "outputs": [
        {
          "output_type": "execute_result",
          "data": {
            "text/html": [
              "<div>\n",
              "<style scoped>\n",
              "    .dataframe tbody tr th:only-of-type {\n",
              "        vertical-align: middle;\n",
              "    }\n",
              "\n",
              "    .dataframe tbody tr th {\n",
              "        vertical-align: top;\n",
              "    }\n",
              "\n",
              "    .dataframe thead th {\n",
              "        text-align: right;\n",
              "    }\n",
              "</style>\n",
              "<table border=\"1\" class=\"dataframe\">\n",
              "  <thead>\n",
              "    <tr style=\"text-align: right;\">\n",
              "      <th></th>\n",
              "      <th>Low_Confidence_Limit</th>\n",
              "      <th>High_Confidence_Limit</th>\n",
              "      <th>Sample_Size</th>\n",
              "      <th>Class_Obesity / Weight Status</th>\n",
              "      <th>Class_Physical Activity</th>\n",
              "    </tr>\n",
              "  </thead>\n",
              "  <tbody>\n",
              "    <tr>\n",
              "      <th>0</th>\n",
              "      <td>34.9</td>\n",
              "      <td>35.5</td>\n",
              "      <td>438479.0</td>\n",
              "      <td>1</td>\n",
              "      <td>0</td>\n",
              "    </tr>\n",
              "    <tr>\n",
              "      <th>1</th>\n",
              "      <td>40.6</td>\n",
              "      <td>41.5</td>\n",
              "      <td>198440.0</td>\n",
              "      <td>1</td>\n",
              "      <td>0</td>\n",
              "    </tr>\n",
              "  </tbody>\n",
              "</table>\n",
              "</div>"
            ],
            "text/plain": [
              "   Low_Confidence_Limit  ...  Class_Physical Activity\n",
              "0                  34.9  ...                        0\n",
              "1                  40.6  ...                        0\n",
              "\n",
              "[2 rows x 5 columns]"
            ]
          },
          "metadata": {
            "tags": []
          },
          "execution_count": 28
        }
      ]
    },
    {
      "cell_type": "code",
      "metadata": {
        "id": "Z94JbyatDRjp"
      },
      "source": [
        "test=scaler.transform(test)"
      ],
      "execution_count": null,
      "outputs": []
    },
    {
      "cell_type": "code",
      "metadata": {
        "id": "3Am3PRhCzbSP"
      },
      "source": [
        "target = ext.predict(test)"
      ],
      "execution_count": null,
      "outputs": []
    },
    {
      "cell_type": "code",
      "metadata": {
        "colab": {
          "base_uri": "https://localhost:8080/"
        },
        "id": "-oQRa3ErzfOq",
        "outputId": "059096d5-593c-43e4-af79-4bab59bbfd07"
      },
      "source": [
        "target"
      ],
      "execution_count": null,
      "outputs": [
        {
          "output_type": "execute_result",
          "data": {
            "text/plain": [
              "array([35.25097709, 41.13933394, 29.29114619, ..., 29.97818543,\n",
              "       44.23360018, 32.61559832])"
            ]
          },
          "metadata": {
            "tags": []
          },
          "execution_count": 31
        }
      ]
    },
    {
      "cell_type": "code",
      "metadata": {
        "id": "Fi-amdZL0Abx"
      },
      "source": [
        "res = pd.DataFrame(target) \n",
        "res.columns = [\"prediction\"]\n",
        "res.to_csv(\"submission.csv\", index = False)"
      ],
      "execution_count": null,
      "outputs": []
    },
    {
      "cell_type": "code",
      "metadata": {
        "id": "L-plJ4dhAyAI"
      },
      "source": [
        "pip install h2o"
      ],
      "execution_count": null,
      "outputs": []
    },
    {
      "cell_type": "code",
      "metadata": {
        "colab": {
          "base_uri": "https://localhost:8080/"
        },
        "id": "y4vjJVjoAgJx",
        "outputId": "fd4f2259-ac6e-4d11-a3fc-4a45c24db671"
      },
      "source": [
        "import h2o\n",
        "import multiprocessing\n",
        "print(\"CPU: \",multiprocessing.cpu_count())\n",
        "\n",
        "import psutil\n",
        "print(\"Memory: \",psutil.virtual_memory())"
      ],
      "execution_count": 4,
      "outputs": [
        {
          "output_type": "stream",
          "text": [
            "CPU:  2\n",
            "Memory:  svmem(total=13653569536, available=12750594048, percent=6.6, used=634667008, free=8981250048, active=1158156288, inactive=3154325504, buffers=84271104, cached=3953381376, shared=1007616, slab=240553984)\n"
          ],
          "name": "stdout"
        }
      ]
    },
    {
      "cell_type": "code",
      "metadata": {
        "id": "VJlkLyf7Aka9"
      },
      "source": [
        "#h2o.init()\n",
        "h2o.init(ip=\"127.0.0.1\", max_mem_size_GB = 100, nthreads = 5)"
      ],
      "execution_count": null,
      "outputs": []
    },
    {
      "cell_type": "code",
      "metadata": {
        "colab": {
          "base_uri": "https://localhost:8080/"
        },
        "id": "HGTcwLydAkdv",
        "outputId": "29a8d82f-d4cf-4c16-8a00-58e53aeebb1c"
      },
      "source": [
        "train_data = h2o.import_file('Train_data.csv')\n",
        "test_data = h2o.import_file('Test_data.csv')"
      ],
      "execution_count": 6,
      "outputs": [
        {
          "output_type": "stream",
          "text": [
            "Parse progress: |█████████████████████████████████████████████████████████| 100%\n",
            "Parse progress: |█████████████████████████████████████████████████████████| 100%\n"
          ],
          "name": "stdout"
        }
      ]
    },
    {
      "cell_type": "code",
      "metadata": {
        "id": "1OhQw3toAkgT"
      },
      "source": [
        "train_data=train_data[['Low_Confidence_Limit', 'High_Confidence_Limit ',\n",
        "       'Sample_Size', \"Class\", \"Data_Value\"]]\n",
        "test_data=test_data[['Low_Confidence_Limit', 'High_Confidence_Limit ',\n",
        "       'Sample_Size', \"Class\"]]"
      ],
      "execution_count": 7,
      "outputs": []
    },
    {
      "cell_type": "code",
      "metadata": {
        "id": "fmOpvIQTBtVY"
      },
      "source": [
        "#70% train, 15% test, 15% validation\n",
        "train, validation = train_data.split_frame(ratios=[0.7], seed=17)"
      ],
      "execution_count": 9,
      "outputs": []
    },
    {
      "cell_type": "code",
      "metadata": {
        "colab": {
          "base_uri": "https://localhost:8080/"
        },
        "id": "zMMn7c5eCgNw",
        "outputId": "dc6e4f43-1541-4414-9c57-904e9a4403f4"
      },
      "source": [
        "print(\"train set size: \",train.shape)\n",
        "print(\"validation set size: \", validation.shape)"
      ],
      "execution_count": 10,
      "outputs": [
        {
          "output_type": "stream",
          "text": [
            "train set size:  (36709, 5)\n",
            "validation set size:  (15636, 5)\n"
          ],
          "name": "stdout"
        }
      ]
    },
    {
      "cell_type": "code",
      "metadata": {
        "id": "TV7WMpUDCnCK"
      },
      "source": [
        "from h2o.estimators.gbm import H2OGradientBoostingEstimator"
      ],
      "execution_count": 11,
      "outputs": []
    },
    {
      "cell_type": "code",
      "metadata": {
        "id": "JxRE9BTtCp8t"
      },
      "source": [
        "model = H2OGradientBoostingEstimator(\n",
        "    ntrees = 3000\n",
        "    , learn_rate = 0.1\n",
        "    , stopping_rounds = 50\n",
        "    , stopping_metric = \"RMSE\")"
      ],
      "execution_count": 28,
      "outputs": []
    },
    {
      "cell_type": "code",
      "metadata": {
        "colab": {
          "base_uri": "https://localhost:8080/"
        },
        "id": "jIyWQwNVCyG2",
        "outputId": "09697941-38ff-4b63-9c1a-04af53670dc2"
      },
      "source": [
        "train_data.names"
      ],
      "execution_count": 29,
      "outputs": [
        {
          "output_type": "execute_result",
          "data": {
            "text/plain": [
              "['Low_Confidence_Limit',\n",
              " 'High_Confidence_Limit ',\n",
              " 'Sample_Size',\n",
              " 'Class',\n",
              " 'Data_Value']"
            ]
          },
          "metadata": {
            "tags": []
          },
          "execution_count": 29
        }
      ]
    },
    {
      "cell_type": "code",
      "metadata": {
        "colab": {
          "base_uri": "https://localhost:8080/"
        },
        "id": "bhvUrqzOC3Tv",
        "outputId": "06d28aa9-b5ae-4f45-b074-976c836831fd"
      },
      "source": [
        "model.train(x = train_data.names[0:-1], y = train_data.names[-1]\n",
        "    , training_frame = train\n",
        "    , validation_frame = validation\n",
        "    #, verbose = True\n",
        "    , model_id = \"Obesity\"\n",
        ")"
      ],
      "execution_count": 30,
      "outputs": [
        {
          "output_type": "stream",
          "text": [
            "gbm Model Build progress: |███████████████████████████████████████████████| 100%\n"
          ],
          "name": "stdout"
        }
      ]
    },
    {
      "cell_type": "code",
      "metadata": {
        "colab": {
          "base_uri": "https://localhost:8080/",
          "height": 1000
        },
        "id": "gDrZuxthDE2f",
        "outputId": "d5efc65a-d450-48d8-d3e6-5b92108ce7ab"
      },
      "source": [
        "model"
      ],
      "execution_count": 31,
      "outputs": [
        {
          "output_type": "stream",
          "text": [
            "Model Details\n",
            "=============\n",
            "H2OGradientBoostingEstimator :  Gradient Boosting Machine\n",
            "Model Key:  Obesity\n",
            "\n",
            "\n",
            "Model Summary: \n"
          ],
          "name": "stdout"
        },
        {
          "output_type": "display_data",
          "data": {
            "text/html": [
              "<div>\n",
              "<style scoped>\n",
              "    .dataframe tbody tr th:only-of-type {\n",
              "        vertical-align: middle;\n",
              "    }\n",
              "\n",
              "    .dataframe tbody tr th {\n",
              "        vertical-align: top;\n",
              "    }\n",
              "\n",
              "    .dataframe thead th {\n",
              "        text-align: right;\n",
              "    }\n",
              "</style>\n",
              "<table border=\"1\" class=\"dataframe\">\n",
              "  <thead>\n",
              "    <tr style=\"text-align: right;\">\n",
              "      <th></th>\n",
              "      <th></th>\n",
              "      <th>number_of_trees</th>\n",
              "      <th>number_of_internal_trees</th>\n",
              "      <th>model_size_in_bytes</th>\n",
              "      <th>min_depth</th>\n",
              "      <th>max_depth</th>\n",
              "      <th>mean_depth</th>\n",
              "      <th>min_leaves</th>\n",
              "      <th>max_leaves</th>\n",
              "      <th>mean_leaves</th>\n",
              "    </tr>\n",
              "  </thead>\n",
              "  <tbody>\n",
              "    <tr>\n",
              "      <th>0</th>\n",
              "      <td></td>\n",
              "      <td>3000.0</td>\n",
              "      <td>3000.0</td>\n",
              "      <td>476951.0</td>\n",
              "      <td>0.0</td>\n",
              "      <td>5.0</td>\n",
              "      <td>1.82</td>\n",
              "      <td>1.0</td>\n",
              "      <td>32.0</td>\n",
              "      <td>7.655334</td>\n",
              "    </tr>\n",
              "  </tbody>\n",
              "</table>\n",
              "</div>"
            ],
            "text/plain": [
              "     number_of_trees  ...  max_leaves  mean_leaves\n",
              "0             3000.0  ...        32.0     7.655334\n",
              "\n",
              "[1 rows x 10 columns]"
            ]
          },
          "metadata": {
            "tags": []
          }
        },
        {
          "output_type": "stream",
          "text": [
            "\n",
            "\n",
            "ModelMetricsRegression: gbm\n",
            "** Reported on train data. **\n",
            "\n",
            "MSE: 0.006971101965636625\n",
            "RMSE: 0.08349312525972798\n",
            "MAE: 0.06156889527971981\n",
            "RMSLE: 0.003872072470930784\n",
            "Mean Residual Deviance: 0.006971101965636625\n",
            "\n",
            "ModelMetricsRegression: gbm\n",
            "** Reported on validation data. **\n",
            "\n",
            "MSE: 0.013117399905079062\n",
            "RMSE: 0.11453121803717561\n",
            "MAE: 0.07195839584907743\n",
            "RMSLE: 0.0058724226752379675\n",
            "Mean Residual Deviance: 0.013117399905079062\n",
            "\n",
            "Scoring History: \n"
          ],
          "name": "stdout"
        },
        {
          "output_type": "display_data",
          "data": {
            "text/html": [
              "<div>\n",
              "<style scoped>\n",
              "    .dataframe tbody tr th:only-of-type {\n",
              "        vertical-align: middle;\n",
              "    }\n",
              "\n",
              "    .dataframe tbody tr th {\n",
              "        vertical-align: top;\n",
              "    }\n",
              "\n",
              "    .dataframe thead th {\n",
              "        text-align: right;\n",
              "    }\n",
              "</style>\n",
              "<table border=\"1\" class=\"dataframe\">\n",
              "  <thead>\n",
              "    <tr style=\"text-align: right;\">\n",
              "      <th></th>\n",
              "      <th></th>\n",
              "      <th>timestamp</th>\n",
              "      <th>duration</th>\n",
              "      <th>number_of_trees</th>\n",
              "      <th>training_rmse</th>\n",
              "      <th>training_mae</th>\n",
              "      <th>training_deviance</th>\n",
              "      <th>validation_rmse</th>\n",
              "      <th>validation_mae</th>\n",
              "      <th>validation_deviance</th>\n",
              "    </tr>\n",
              "  </thead>\n",
              "  <tbody>\n",
              "    <tr>\n",
              "      <th>0</th>\n",
              "      <td></td>\n",
              "      <td>2021-04-13 21:11:18</td>\n",
              "      <td>0.011 sec</td>\n",
              "      <td>0.0</td>\n",
              "      <td>9.784816</td>\n",
              "      <td>7.792222</td>\n",
              "      <td>95.742615</td>\n",
              "      <td>9.826664</td>\n",
              "      <td>7.838542</td>\n",
              "      <td>96.563322</td>\n",
              "    </tr>\n",
              "    <tr>\n",
              "      <th>1</th>\n",
              "      <td></td>\n",
              "      <td>2021-04-13 21:11:18</td>\n",
              "      <td>0.109 sec</td>\n",
              "      <td>1.0</td>\n",
              "      <td>8.830560</td>\n",
              "      <td>7.026949</td>\n",
              "      <td>77.978792</td>\n",
              "      <td>8.867760</td>\n",
              "      <td>7.069863</td>\n",
              "      <td>78.637175</td>\n",
              "    </tr>\n",
              "    <tr>\n",
              "      <th>2</th>\n",
              "      <td></td>\n",
              "      <td>2021-04-13 21:11:18</td>\n",
              "      <td>0.136 sec</td>\n",
              "      <td>2.0</td>\n",
              "      <td>7.969614</td>\n",
              "      <td>6.340927</td>\n",
              "      <td>63.514748</td>\n",
              "      <td>8.003263</td>\n",
              "      <td>6.379802</td>\n",
              "      <td>64.052218</td>\n",
              "    </tr>\n",
              "    <tr>\n",
              "      <th>3</th>\n",
              "      <td></td>\n",
              "      <td>2021-04-13 21:11:18</td>\n",
              "      <td>0.164 sec</td>\n",
              "      <td>3.0</td>\n",
              "      <td>7.193732</td>\n",
              "      <td>5.717873</td>\n",
              "      <td>51.749780</td>\n",
              "      <td>7.226193</td>\n",
              "      <td>5.755171</td>\n",
              "      <td>52.217871</td>\n",
              "    </tr>\n",
              "    <tr>\n",
              "      <th>4</th>\n",
              "      <td></td>\n",
              "      <td>2021-04-13 21:11:18</td>\n",
              "      <td>0.190 sec</td>\n",
              "      <td>4.0</td>\n",
              "      <td>6.492870</td>\n",
              "      <td>5.155224</td>\n",
              "      <td>42.157366</td>\n",
              "      <td>6.522860</td>\n",
              "      <td>5.189154</td>\n",
              "      <td>42.547705</td>\n",
              "    </tr>\n",
              "    <tr>\n",
              "      <th>5</th>\n",
              "      <td></td>\n",
              "      <td>2021-04-13 21:11:18</td>\n",
              "      <td>0.220 sec</td>\n",
              "      <td>5.0</td>\n",
              "      <td>5.860300</td>\n",
              "      <td>4.648294</td>\n",
              "      <td>34.343114</td>\n",
              "      <td>5.887892</td>\n",
              "      <td>4.679378</td>\n",
              "      <td>34.667278</td>\n",
              "    </tr>\n",
              "    <tr>\n",
              "      <th>6</th>\n",
              "      <td></td>\n",
              "      <td>2021-04-13 21:11:18</td>\n",
              "      <td>0.247 sec</td>\n",
              "      <td>6.0</td>\n",
              "      <td>5.293351</td>\n",
              "      <td>4.194277</td>\n",
              "      <td>28.019570</td>\n",
              "      <td>5.319907</td>\n",
              "      <td>4.223811</td>\n",
              "      <td>28.301409</td>\n",
              "    </tr>\n",
              "    <tr>\n",
              "      <th>7</th>\n",
              "      <td></td>\n",
              "      <td>2021-04-13 21:11:18</td>\n",
              "      <td>0.278 sec</td>\n",
              "      <td>7.0</td>\n",
              "      <td>4.779285</td>\n",
              "      <td>3.785783</td>\n",
              "      <td>22.841569</td>\n",
              "      <td>4.803621</td>\n",
              "      <td>3.812402</td>\n",
              "      <td>23.074771</td>\n",
              "    </tr>\n",
              "    <tr>\n",
              "      <th>8</th>\n",
              "      <td></td>\n",
              "      <td>2021-04-13 21:11:18</td>\n",
              "      <td>0.305 sec</td>\n",
              "      <td>8.0</td>\n",
              "      <td>4.315771</td>\n",
              "      <td>3.414089</td>\n",
              "      <td>18.625881</td>\n",
              "      <td>4.338343</td>\n",
              "      <td>3.438371</td>\n",
              "      <td>18.821222</td>\n",
              "    </tr>\n",
              "    <tr>\n",
              "      <th>9</th>\n",
              "      <td></td>\n",
              "      <td>2021-04-13 21:11:18</td>\n",
              "      <td>0.339 sec</td>\n",
              "      <td>9.0</td>\n",
              "      <td>3.898148</td>\n",
              "      <td>3.083200</td>\n",
              "      <td>15.195561</td>\n",
              "      <td>3.920303</td>\n",
              "      <td>3.105185</td>\n",
              "      <td>15.368776</td>\n",
              "    </tr>\n",
              "    <tr>\n",
              "      <th>10</th>\n",
              "      <td></td>\n",
              "      <td>2021-04-13 21:11:18</td>\n",
              "      <td>0.365 sec</td>\n",
              "      <td>10.0</td>\n",
              "      <td>3.521493</td>\n",
              "      <td>2.780719</td>\n",
              "      <td>12.400912</td>\n",
              "      <td>3.541647</td>\n",
              "      <td>2.800412</td>\n",
              "      <td>12.543261</td>\n",
              "    </tr>\n",
              "    <tr>\n",
              "      <th>11</th>\n",
              "      <td></td>\n",
              "      <td>2021-04-13 21:11:18</td>\n",
              "      <td>0.391 sec</td>\n",
              "      <td>11.0</td>\n",
              "      <td>3.182187</td>\n",
              "      <td>2.508165</td>\n",
              "      <td>10.126315</td>\n",
              "      <td>3.201584</td>\n",
              "      <td>2.526099</td>\n",
              "      <td>10.250143</td>\n",
              "    </tr>\n",
              "    <tr>\n",
              "      <th>12</th>\n",
              "      <td></td>\n",
              "      <td>2021-04-13 21:11:18</td>\n",
              "      <td>0.417 sec</td>\n",
              "      <td>12.0</td>\n",
              "      <td>2.875587</td>\n",
              "      <td>2.264696</td>\n",
              "      <td>8.269000</td>\n",
              "      <td>2.893771</td>\n",
              "      <td>2.281140</td>\n",
              "      <td>8.373910</td>\n",
              "    </tr>\n",
              "    <tr>\n",
              "      <th>13</th>\n",
              "      <td></td>\n",
              "      <td>2021-04-13 21:11:18</td>\n",
              "      <td>0.450 sec</td>\n",
              "      <td>13.0</td>\n",
              "      <td>2.598770</td>\n",
              "      <td>2.041920</td>\n",
              "      <td>6.753607</td>\n",
              "      <td>2.615997</td>\n",
              "      <td>2.057156</td>\n",
              "      <td>6.843438</td>\n",
              "    </tr>\n",
              "    <tr>\n",
              "      <th>14</th>\n",
              "      <td></td>\n",
              "      <td>2021-04-13 21:11:18</td>\n",
              "      <td>0.487 sec</td>\n",
              "      <td>14.0</td>\n",
              "      <td>2.349403</td>\n",
              "      <td>1.841545</td>\n",
              "      <td>5.519697</td>\n",
              "      <td>2.365609</td>\n",
              "      <td>1.855490</td>\n",
              "      <td>5.596104</td>\n",
              "    </tr>\n",
              "    <tr>\n",
              "      <th>15</th>\n",
              "      <td></td>\n",
              "      <td>2021-04-13 21:11:18</td>\n",
              "      <td>0.533 sec</td>\n",
              "      <td>15.0</td>\n",
              "      <td>2.123440</td>\n",
              "      <td>1.662003</td>\n",
              "      <td>4.508998</td>\n",
              "      <td>2.139209</td>\n",
              "      <td>1.674943</td>\n",
              "      <td>4.576216</td>\n",
              "    </tr>\n",
              "    <tr>\n",
              "      <th>16</th>\n",
              "      <td></td>\n",
              "      <td>2021-04-13 21:11:18</td>\n",
              "      <td>0.583 sec</td>\n",
              "      <td>16.0</td>\n",
              "      <td>1.919785</td>\n",
              "      <td>1.499630</td>\n",
              "      <td>3.685574</td>\n",
              "      <td>1.934702</td>\n",
              "      <td>1.511450</td>\n",
              "      <td>3.743073</td>\n",
              "    </tr>\n",
              "    <tr>\n",
              "      <th>17</th>\n",
              "      <td></td>\n",
              "      <td>2021-04-13 21:11:18</td>\n",
              "      <td>0.624 sec</td>\n",
              "      <td>17.0</td>\n",
              "      <td>1.737055</td>\n",
              "      <td>1.354684</td>\n",
              "      <td>3.017362</td>\n",
              "      <td>1.751320</td>\n",
              "      <td>1.365721</td>\n",
              "      <td>3.067123</td>\n",
              "    </tr>\n",
              "    <tr>\n",
              "      <th>18</th>\n",
              "      <td></td>\n",
              "      <td>2021-04-13 21:11:18</td>\n",
              "      <td>0.654 sec</td>\n",
              "      <td>18.0</td>\n",
              "      <td>1.572084</td>\n",
              "      <td>1.225353</td>\n",
              "      <td>2.471448</td>\n",
              "      <td>1.585962</td>\n",
              "      <td>1.235582</td>\n",
              "      <td>2.515276</td>\n",
              "    </tr>\n",
              "    <tr>\n",
              "      <th>19</th>\n",
              "      <td></td>\n",
              "      <td>2021-04-13 21:11:18</td>\n",
              "      <td>0.695 sec</td>\n",
              "      <td>19.0</td>\n",
              "      <td>1.423581</td>\n",
              "      <td>1.107167</td>\n",
              "      <td>2.026583</td>\n",
              "      <td>1.437025</td>\n",
              "      <td>1.116388</td>\n",
              "      <td>2.065041</td>\n",
              "    </tr>\n",
              "  </tbody>\n",
              "</table>\n",
              "</div>"
            ],
            "text/plain": [
              "                timestamp  ... validation_mae  validation_deviance\n",
              "0     2021-04-13 21:11:18  ...       7.838542            96.563322\n",
              "1     2021-04-13 21:11:18  ...       7.069863            78.637175\n",
              "2     2021-04-13 21:11:18  ...       6.379802            64.052218\n",
              "3     2021-04-13 21:11:18  ...       5.755171            52.217871\n",
              "4     2021-04-13 21:11:18  ...       5.189154            42.547705\n",
              "5     2021-04-13 21:11:18  ...       4.679378            34.667278\n",
              "6     2021-04-13 21:11:18  ...       4.223811            28.301409\n",
              "7     2021-04-13 21:11:18  ...       3.812402            23.074771\n",
              "8     2021-04-13 21:11:18  ...       3.438371            18.821222\n",
              "9     2021-04-13 21:11:18  ...       3.105185            15.368776\n",
              "10    2021-04-13 21:11:18  ...       2.800412            12.543261\n",
              "11    2021-04-13 21:11:18  ...       2.526099            10.250143\n",
              "12    2021-04-13 21:11:18  ...       2.281140             8.373910\n",
              "13    2021-04-13 21:11:18  ...       2.057156             6.843438\n",
              "14    2021-04-13 21:11:18  ...       1.855490             5.596104\n",
              "15    2021-04-13 21:11:18  ...       1.674943             4.576216\n",
              "16    2021-04-13 21:11:18  ...       1.511450             3.743073\n",
              "17    2021-04-13 21:11:18  ...       1.365721             3.067123\n",
              "18    2021-04-13 21:11:18  ...       1.235582             2.515276\n",
              "19    2021-04-13 21:11:18  ...       1.116388             2.065041\n",
              "\n",
              "[20 rows x 10 columns]"
            ]
          },
          "metadata": {
            "tags": []
          }
        },
        {
          "output_type": "stream",
          "text": [
            "\n",
            "See the whole table with table.as_data_frame()\n",
            "\n",
            "Variable Importances: \n"
          ],
          "name": "stdout"
        },
        {
          "output_type": "display_data",
          "data": {
            "text/html": [
              "<div>\n",
              "<style scoped>\n",
              "    .dataframe tbody tr th:only-of-type {\n",
              "        vertical-align: middle;\n",
              "    }\n",
              "\n",
              "    .dataframe tbody tr th {\n",
              "        vertical-align: top;\n",
              "    }\n",
              "\n",
              "    .dataframe thead th {\n",
              "        text-align: right;\n",
              "    }\n",
              "</style>\n",
              "<table border=\"1\" class=\"dataframe\">\n",
              "  <thead>\n",
              "    <tr style=\"text-align: right;\">\n",
              "      <th></th>\n",
              "      <th>variable</th>\n",
              "      <th>relative_importance</th>\n",
              "      <th>scaled_importance</th>\n",
              "      <th>percentage</th>\n",
              "    </tr>\n",
              "  </thead>\n",
              "  <tbody>\n",
              "    <tr>\n",
              "      <th>0</th>\n",
              "      <td>Low_Confidence_Limit</td>\n",
              "      <td>1.086313e+07</td>\n",
              "      <td>1.000000</td>\n",
              "      <td>5.873361e-01</td>\n",
              "    </tr>\n",
              "    <tr>\n",
              "      <th>1</th>\n",
              "      <td>High_Confidence_Limit</td>\n",
              "      <td>7.632045e+06</td>\n",
              "      <td>0.702564</td>\n",
              "      <td>4.126414e-01</td>\n",
              "    </tr>\n",
              "    <tr>\n",
              "      <th>2</th>\n",
              "      <td>Sample_Size</td>\n",
              "      <td>4.031235e+02</td>\n",
              "      <td>0.000037</td>\n",
              "      <td>2.179566e-05</td>\n",
              "    </tr>\n",
              "    <tr>\n",
              "      <th>3</th>\n",
              "      <td>Class</td>\n",
              "      <td>1.445520e+01</td>\n",
              "      <td>0.000001</td>\n",
              "      <td>7.815487e-07</td>\n",
              "    </tr>\n",
              "  </tbody>\n",
              "</table>\n",
              "</div>"
            ],
            "text/plain": [
              "                 variable  relative_importance  scaled_importance    percentage\n",
              "0    Low_Confidence_Limit         1.086313e+07           1.000000  5.873361e-01\n",
              "1  High_Confidence_Limit          7.632045e+06           0.702564  4.126414e-01\n",
              "2             Sample_Size         4.031235e+02           0.000037  2.179566e-05\n",
              "3                   Class         1.445520e+01           0.000001  7.815487e-07"
            ]
          },
          "metadata": {
            "tags": []
          }
        },
        {
          "output_type": "execute_result",
          "data": {
            "text/plain": [
              ""
            ]
          },
          "metadata": {
            "tags": []
          },
          "execution_count": 31
        }
      ]
    },
    {
      "cell_type": "code",
      "metadata": {
        "id": "mhJECgWdDP4P"
      },
      "source": [
        "valid=model.model_performance(validation)"
      ],
      "execution_count": 33,
      "outputs": []
    },
    {
      "cell_type": "code",
      "metadata": {
        "colab": {
          "base_uri": "https://localhost:8080/"
        },
        "id": "JS6EpwdIFHV1",
        "outputId": "849d2b52-bb80-47b0-fee2-c6774d44dbee"
      },
      "source": [
        "valid.rmse()"
      ],
      "execution_count": 34,
      "outputs": [
        {
          "output_type": "execute_result",
          "data": {
            "text/plain": [
              "0.11453121803717561"
            ]
          },
          "metadata": {
            "tags": []
          },
          "execution_count": 34
        }
      ]
    },
    {
      "cell_type": "code",
      "metadata": {
        "colab": {
          "base_uri": "https://localhost:8080/"
        },
        "id": "kqk5v2w6FTSY",
        "outputId": "ce520607-58fc-4ccb-9289-0b652ab81f12"
      },
      "source": [
        "predictions = model.predict(test_data = test_data)"
      ],
      "execution_count": 35,
      "outputs": [
        {
          "output_type": "stream",
          "text": [
            "gbm prediction progress: |████████████████████████████████████████████████| 100%\n"
          ],
          "name": "stdout"
        }
      ]
    },
    {
      "cell_type": "code",
      "metadata": {
        "id": "AEXnzALIFdxc"
      },
      "source": [
        "predictions_pd = predictions.as_data_frame()"
      ],
      "execution_count": 36,
      "outputs": []
    },
    {
      "cell_type": "code",
      "metadata": {
        "colab": {
          "base_uri": "https://localhost:8080/",
          "height": 204
        },
        "id": "N42vSYZQFh45",
        "outputId": "5174ba03-af53-45d2-c8ae-bf6086f55e5b"
      },
      "source": [
        "predictions_pd.head()"
      ],
      "execution_count": 37,
      "outputs": [
        {
          "output_type": "execute_result",
          "data": {
            "text/html": [
              "<div>\n",
              "<style scoped>\n",
              "    .dataframe tbody tr th:only-of-type {\n",
              "        vertical-align: middle;\n",
              "    }\n",
              "\n",
              "    .dataframe tbody tr th {\n",
              "        vertical-align: top;\n",
              "    }\n",
              "\n",
              "    .dataframe thead th {\n",
              "        text-align: right;\n",
              "    }\n",
              "</style>\n",
              "<table border=\"1\" class=\"dataframe\">\n",
              "  <thead>\n",
              "    <tr style=\"text-align: right;\">\n",
              "      <th></th>\n",
              "      <th>predict</th>\n",
              "    </tr>\n",
              "  </thead>\n",
              "  <tbody>\n",
              "    <tr>\n",
              "      <th>0</th>\n",
              "      <td>35.071952</td>\n",
              "    </tr>\n",
              "    <tr>\n",
              "      <th>1</th>\n",
              "      <td>41.229280</td>\n",
              "    </tr>\n",
              "    <tr>\n",
              "      <th>2</th>\n",
              "      <td>29.319663</td>\n",
              "    </tr>\n",
              "    <tr>\n",
              "      <th>3</th>\n",
              "      <td>34.614836</td>\n",
              "    </tr>\n",
              "    <tr>\n",
              "      <th>4</th>\n",
              "      <td>34.247306</td>\n",
              "    </tr>\n",
              "  </tbody>\n",
              "</table>\n",
              "</div>"
            ],
            "text/plain": [
              "     predict\n",
              "0  35.071952\n",
              "1  41.229280\n",
              "2  29.319663\n",
              "3  34.614836\n",
              "4  34.247306"
            ]
          },
          "metadata": {
            "tags": []
          },
          "execution_count": 37
        }
      ]
    },
    {
      "cell_type": "code",
      "metadata": {
        "id": "2wdAeD2cFkuw"
      },
      "source": [
        ""
      ],
      "execution_count": null,
      "outputs": []
    }
  ]
}