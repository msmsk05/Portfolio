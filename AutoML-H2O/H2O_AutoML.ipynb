{
  "nbformat": 4,
  "nbformat_minor": 0,
  "metadata": {
    "colab": {
      "name": "H2O_AutoML.ipynb",
      "provenance": [],
      "collapsed_sections": []
    },
    "kernelspec": {
      "name": "python3",
      "display_name": "Python 3"
    },
    "language_info": {
      "name": "python"
    }
  },
  "cells": [
    {
      "cell_type": "code",
      "metadata": {
        "colab": {
          "base_uri": "https://localhost:8080/"
        },
        "id": "wR65V8wfgnD1",
        "outputId": "1608c9e0-d14e-417b-d70d-0288edf93950"
      },
      "source": [
        "pip install h2o"
      ],
      "execution_count": 5,
      "outputs": [
        {
          "output_type": "stream",
          "text": [
            "Requirement already satisfied: h2o in /usr/local/lib/python3.7/dist-packages (3.32.1.1)\n",
            "Requirement already satisfied: requests in /usr/local/lib/python3.7/dist-packages (from h2o) (2.23.0)\n",
            "Requirement already satisfied: future in /usr/local/lib/python3.7/dist-packages (from h2o) (0.16.0)\n",
            "Requirement already satisfied: tabulate in /usr/local/lib/python3.7/dist-packages (from h2o) (0.8.9)\n",
            "Requirement already satisfied: colorama>=0.3.8 in /usr/local/lib/python3.7/dist-packages (from h2o) (0.4.4)\n",
            "Requirement already satisfied: urllib3!=1.25.0,!=1.25.1,<1.26,>=1.21.1 in /usr/local/lib/python3.7/dist-packages (from requests->h2o) (1.24.3)\n",
            "Requirement already satisfied: idna<3,>=2.5 in /usr/local/lib/python3.7/dist-packages (from requests->h2o) (2.10)\n",
            "Requirement already satisfied: chardet<4,>=3.0.2 in /usr/local/lib/python3.7/dist-packages (from requests->h2o) (3.0.4)\n",
            "Requirement already satisfied: certifi>=2017.4.17 in /usr/local/lib/python3.7/dist-packages (from requests->h2o) (2020.12.5)\n"
          ],
          "name": "stdout"
        }
      ]
    },
    {
      "cell_type": "markdown",
      "metadata": {
        "id": "ZWKfgq9ymi9C"
      },
      "source": [
        "### H2O Framework"
      ]
    },
    {
      "cell_type": "code",
      "metadata": {
        "id": "pB54B3V6gpEk"
      },
      "source": [
        "import pandas as pd\n",
        "import h2o"
      ],
      "execution_count": 6,
      "outputs": []
    },
    {
      "cell_type": "markdown",
      "metadata": {
        "id": "VqEi_eYvmsHn"
      },
      "source": [
        "### Adjusting Memory  \n",
        "Number of threads are related to your cpu core count and maximum memory size is related to available memory. You can monitor the current values of these requirements as shown below. Then, you should limit memory and threads in initialization step."
      ]
    },
    {
      "cell_type": "code",
      "metadata": {
        "colab": {
          "base_uri": "https://localhost:8080/"
        },
        "id": "c-ACDebrg54q",
        "outputId": "c4e3f181-ad92-44ac-ed5f-105e27b7da1c"
      },
      "source": [
        "import multiprocessing\n",
        "print(\"CPU: \",multiprocessing.cpu_count())\n",
        "\n",
        "import psutil\n",
        "print(\"Memory: \",psutil.virtual_memory())"
      ],
      "execution_count": 7,
      "outputs": [
        {
          "output_type": "stream",
          "text": [
            "CPU:  2\n",
            "Memory:  svmem(total=13653573632, available=12772048896, percent=6.5, used=617541632, free=8849207296, active=1150218240, inactive=3305476096, buffers=79589376, cached=4107235328, shared=1007616, slab=242917376)\n"
          ],
          "name": "stdout"
        }
      ]
    },
    {
      "cell_type": "code",
      "metadata": {
        "colab": {
          "base_uri": "https://localhost:8080/",
          "height": 545
        },
        "id": "YIfQtPoshQFR",
        "outputId": "f3aa3f10-d6d9-412b-c886-913ab9252f0a"
      },
      "source": [
        "#h2o.init()\n",
        "h2o.init(ip=\"127.0.0.1\", max_mem_size_GB = 100, nthreads = 5)"
      ],
      "execution_count": 8,
      "outputs": [
        {
          "output_type": "stream",
          "text": [
            "Checking whether there is an H2O instance running at http://127.0.0.1:54321 ..... not found.\n",
            "Attempting to start a local H2O server...\n",
            "  Java Version: openjdk version \"11.0.10\" 2021-01-19; OpenJDK Runtime Environment (build 11.0.10+9-Ubuntu-0ubuntu1.18.04); OpenJDK 64-Bit Server VM (build 11.0.10+9-Ubuntu-0ubuntu1.18.04, mixed mode, sharing)\n",
            "  Starting server from /usr/local/lib/python3.7/dist-packages/h2o/backend/bin/h2o.jar\n",
            "  Ice root: /tmp/tmpc6hcpthj\n",
            "  JVM stdout: /tmp/tmpc6hcpthj/h2o_unknownUser_started_from_python.out\n",
            "  JVM stderr: /tmp/tmpc6hcpthj/h2o_unknownUser_started_from_python.err\n",
            "  Server is running at http://127.0.0.1:54321\n",
            "Connecting to H2O server at http://127.0.0.1:54321 ... successful.\n"
          ],
          "name": "stdout"
        },
        {
          "output_type": "display_data",
          "data": {
            "text/html": [
              "<div style=\"overflow:auto\"><table style=\"width:50%\"><tr><td>H2O_cluster_uptime:</td>\n",
              "<td>03 secs</td></tr>\n",
              "<tr><td>H2O_cluster_timezone:</td>\n",
              "<td>Etc/UTC</td></tr>\n",
              "<tr><td>H2O_data_parsing_timezone:</td>\n",
              "<td>UTC</td></tr>\n",
              "<tr><td>H2O_cluster_version:</td>\n",
              "<td>3.32.1.1</td></tr>\n",
              "<tr><td>H2O_cluster_version_age:</td>\n",
              "<td>23 days </td></tr>\n",
              "<tr><td>H2O_cluster_name:</td>\n",
              "<td>H2O_from_python_unknownUser_1crwgz</td></tr>\n",
              "<tr><td>H2O_cluster_total_nodes:</td>\n",
              "<td>1</td></tr>\n",
              "<tr><td>H2O_cluster_free_memory:</td>\n",
              "<td>100 Gb</td></tr>\n",
              "<tr><td>H2O_cluster_total_cores:</td>\n",
              "<td>2</td></tr>\n",
              "<tr><td>H2O_cluster_allowed_cores:</td>\n",
              "<td>2</td></tr>\n",
              "<tr><td>H2O_cluster_status:</td>\n",
              "<td>accepting new members, healthy</td></tr>\n",
              "<tr><td>H2O_connection_url:</td>\n",
              "<td>http://127.0.0.1:54321</td></tr>\n",
              "<tr><td>H2O_connection_proxy:</td>\n",
              "<td>{\"http\": null, \"https\": null}</td></tr>\n",
              "<tr><td>H2O_internal_security:</td>\n",
              "<td>False</td></tr>\n",
              "<tr><td>H2O_API_Extensions:</td>\n",
              "<td>Amazon S3, XGBoost, Algos, AutoML, Core V3, TargetEncoder, Core V4</td></tr>\n",
              "<tr><td>Python_version:</td>\n",
              "<td>3.7.10 final</td></tr></table></div>"
            ],
            "text/plain": [
              "--------------------------  ------------------------------------------------------------------\n",
              "H2O_cluster_uptime:         03 secs\n",
              "H2O_cluster_timezone:       Etc/UTC\n",
              "H2O_data_parsing_timezone:  UTC\n",
              "H2O_cluster_version:        3.32.1.1\n",
              "H2O_cluster_version_age:    23 days\n",
              "H2O_cluster_name:           H2O_from_python_unknownUser_1crwgz\n",
              "H2O_cluster_total_nodes:    1\n",
              "H2O_cluster_free_memory:    100 Gb\n",
              "H2O_cluster_total_cores:    2\n",
              "H2O_cluster_allowed_cores:  2\n",
              "H2O_cluster_status:         accepting new members, healthy\n",
              "H2O_connection_url:         http://127.0.0.1:54321\n",
              "H2O_connection_proxy:       {\"http\": null, \"https\": null}\n",
              "H2O_internal_security:      False\n",
              "H2O_API_Extensions:         Amazon S3, XGBoost, Algos, AutoML, Core V3, TargetEncoder, Core V4\n",
              "Python_version:             3.7.10 final\n",
              "--------------------------  ------------------------------------------------------------------"
            ]
          },
          "metadata": {
            "tags": []
          }
        }
      ]
    },
    {
      "cell_type": "markdown",
      "metadata": {
        "id": "dnoOdEOWnGCe"
      },
      "source": [
        "### Data Manipulation\n",
        "h2o frame is a multi-core supporting data manipulation tool h2o frame is equivalent to Pandas."
      ]
    },
    {
      "cell_type": "code",
      "metadata": {
        "colab": {
          "base_uri": "https://localhost:8080/"
        },
        "id": "6eg_MEHehWnJ",
        "outputId": "3741c6df-a5dc-4efd-d85d-22051db6a47a"
      },
      "source": [
        "# Data can be found here https://www.kaggle.com/serengil/recognizing-faces-in-the-wild\n",
        "\n",
        "hf_positive = h2o.import_file('train_true_positive_features.csv')\n",
        "hf_negative = h2o.import_file('train_true_negative_features.csv')\n",
        "hf = hf_positive.rbind(hf_negative)"
      ],
      "execution_count": 9,
      "outputs": [
        {
          "output_type": "stream",
          "text": [
            "Parse progress: |█████████████████████████████████████████████████████████| 100%\n",
            "Parse progress: |█████████████████████████████████████████████████████████| 100%\n"
          ],
          "name": "stdout"
        }
      ]
    },
    {
      "cell_type": "code",
      "metadata": {
        "colab": {
          "base_uri": "https://localhost:8080/"
        },
        "id": "Odfd-ZQ9hdRS",
        "outputId": "d76163c6-0724-4584-8a91-0068b3fff32b"
      },
      "source": [
        "print(\"positive instances: \",hf_positive.shape)\n",
        "print(\"negative instances: \",hf_negative.shape)\n",
        "print(\"total instances: \",hf.shape)"
      ],
      "execution_count": 10,
      "outputs": [
        {
          "output_type": "stream",
          "text": [
            "positive instances:  (137863, 34)\n",
            "negative instances:  (140744, 34)\n",
            "total instances:  (278607, 34)\n"
          ],
          "name": "stdout"
        }
      ]
    },
    {
      "cell_type": "code",
      "metadata": {
        "id": "pOVKW05FhrNw"
      },
      "source": [
        "hf = hf[['vgg_cosine', 'vgg_euclidean_l2'\n",
        "         , 'facenet_cosine', 'facenet_euclidean_l2'\n",
        "         , 'openface_cosine', 'openface_euclidean_l2'\n",
        "         , 'is_related']]"
      ],
      "execution_count": 11,
      "outputs": []
    },
    {
      "cell_type": "code",
      "metadata": {
        "colab": {
          "base_uri": "https://localhost:8080/",
          "height": 250
        },
        "id": "6ELFxGvlhwTV",
        "outputId": "7fe3f755-cf60-4950-cb57-8da06d03e64e"
      },
      "source": [
        "hf.head()"
      ],
      "execution_count": 12,
      "outputs": [
        {
          "output_type": "display_data",
          "data": {
            "text/html": [
              "<table>\n",
              "<thead>\n",
              "<tr><th style=\"text-align: right;\">  vgg_cosine</th><th style=\"text-align: right;\">  vgg_euclidean_l2</th><th style=\"text-align: right;\">  facenet_cosine</th><th style=\"text-align: right;\">  facenet_euclidean_l2</th><th style=\"text-align: right;\">  openface_cosine</th><th style=\"text-align: right;\">  openface_euclidean_l2</th><th style=\"text-align: right;\">  is_related</th></tr>\n",
              "</thead>\n",
              "<tbody>\n",
              "<tr><td style=\"text-align: right;\">    0.618396</td><td style=\"text-align: right;\">           1.11211</td><td style=\"text-align: right;\">         1.25131</td><td style=\"text-align: right;\">               1.58197</td><td style=\"text-align: right;\">         1.12544 </td><td style=\"text-align: right;\">                1.50029</td><td style=\"text-align: right;\">           1</td></tr>\n",
              "<tr><td style=\"text-align: right;\">    0.601191</td><td style=\"text-align: right;\">           1.09653</td><td style=\"text-align: right;\">         1.14205</td><td style=\"text-align: right;\">               1.51133</td><td style=\"text-align: right;\">         1.08315 </td><td style=\"text-align: right;\">                1.47183</td><td style=\"text-align: right;\">           1</td></tr>\n",
              "<tr><td style=\"text-align: right;\">    0.543063</td><td style=\"text-align: right;\">           1.04217</td><td style=\"text-align: right;\">         1.10449</td><td style=\"text-align: right;\">               1.48627</td><td style=\"text-align: right;\">         1.14981 </td><td style=\"text-align: right;\">                1.51645</td><td style=\"text-align: right;\">           1</td></tr>\n",
              "<tr><td style=\"text-align: right;\">    0.618544</td><td style=\"text-align: right;\">           1.11224</td><td style=\"text-align: right;\">         1.24833</td><td style=\"text-align: right;\">               1.58008</td><td style=\"text-align: right;\">         1.09367 </td><td style=\"text-align: right;\">                1.47897</td><td style=\"text-align: right;\">           1</td></tr>\n",
              "<tr><td style=\"text-align: right;\">    0.60665 </td><td style=\"text-align: right;\">           1.1015 </td><td style=\"text-align: right;\">         1.15115</td><td style=\"text-align: right;\">               1.51733</td><td style=\"text-align: right;\">         1.11618 </td><td style=\"text-align: right;\">                1.49411</td><td style=\"text-align: right;\">           1</td></tr>\n",
              "<tr><td style=\"text-align: right;\">    0.630702</td><td style=\"text-align: right;\">           1.12312</td><td style=\"text-align: right;\">         1.22153</td><td style=\"text-align: right;\">               1.56303</td><td style=\"text-align: right;\">         1.20384 </td><td style=\"text-align: right;\">                1.55167</td><td style=\"text-align: right;\">           1</td></tr>\n",
              "<tr><td style=\"text-align: right;\">    0.742856</td><td style=\"text-align: right;\">           1.2189 </td><td style=\"text-align: right;\">         1.09549</td><td style=\"text-align: right;\">               1.48019</td><td style=\"text-align: right;\">         1.07032 </td><td style=\"text-align: right;\">                1.4631 </td><td style=\"text-align: right;\">           1</td></tr>\n",
              "<tr><td style=\"text-align: right;\">    0.558462</td><td style=\"text-align: right;\">           1.05685</td><td style=\"text-align: right;\">         1.11984</td><td style=\"text-align: right;\">               1.49655</td><td style=\"text-align: right;\">         1.24634 </td><td style=\"text-align: right;\">                1.57882</td><td style=\"text-align: right;\">           1</td></tr>\n",
              "<tr><td style=\"text-align: right;\">    0.648851</td><td style=\"text-align: right;\">           1.13917</td><td style=\"text-align: right;\">         1.10773</td><td style=\"text-align: right;\">               1.48844</td><td style=\"text-align: right;\">         0.612283</td><td style=\"text-align: right;\">                1.1066 </td><td style=\"text-align: right;\">           1</td></tr>\n",
              "<tr><td style=\"text-align: right;\">    0.677681</td><td style=\"text-align: right;\">           1.1642 </td><td style=\"text-align: right;\">         1.03272</td><td style=\"text-align: right;\">               1.43716</td><td style=\"text-align: right;\">         0.571711</td><td style=\"text-align: right;\">                1.06931</td><td style=\"text-align: right;\">           1</td></tr>\n",
              "</tbody>\n",
              "</table>"
            ]
          },
          "metadata": {
            "tags": []
          }
        },
        {
          "output_type": "execute_result",
          "data": {
            "text/plain": [
              ""
            ]
          },
          "metadata": {
            "tags": []
          },
          "execution_count": 12
        }
      ]
    },
    {
      "cell_type": "code",
      "metadata": {
        "id": "K0D2MWxFhyL7"
      },
      "source": [
        "#convert target label to factor because this is a binary classification\n",
        "#otherwise, there would be a regression problem\n",
        "hf['is_related'] = hf['is_related'].asfactor()"
      ],
      "execution_count": 13,
      "outputs": []
    },
    {
      "cell_type": "markdown",
      "metadata": {
        "id": "el5jc3HVnVmd"
      },
      "source": [
        "### Train/Test Split"
      ]
    },
    {
      "cell_type": "code",
      "metadata": {
        "id": "kCZUg_Rmh3k4"
      },
      "source": [
        "#70% train, 15% test, 15% validation\n",
        "train, test, validation = hf.split_frame(ratios=[0.70, 0.15], seed=17)"
      ],
      "execution_count": 14,
      "outputs": []
    },
    {
      "cell_type": "code",
      "metadata": {
        "colab": {
          "base_uri": "https://localhost:8080/"
        },
        "id": "3OCSYFe_h6Co",
        "outputId": "29f3a792-b3c2-4055-99bd-4c2b426e58f0"
      },
      "source": [
        "print(\"train set size: \",train.shape)\n",
        "print(\"test set size: \", test.shape)\n",
        "print(\"validation set size: \", validation.shape)"
      ],
      "execution_count": 15,
      "outputs": [
        {
          "output_type": "stream",
          "text": [
            "train set size:  (195248, 7)\n",
            "test set size:  (41679, 7)\n",
            "validation set size:  (41680, 7)\n"
          ],
          "name": "stdout"
        }
      ]
    },
    {
      "cell_type": "markdown",
      "metadata": {
        "id": "JwFq8q6UnjVG"
      },
      "source": [
        "### Modelling"
      ]
    },
    {
      "cell_type": "code",
      "metadata": {
        "id": "cyUW4cp3lqLM"
      },
      "source": [
        "from h2o.automl import H2OAutoML"
      ],
      "execution_count": 16,
      "outputs": []
    },
    {
      "cell_type": "code",
      "metadata": {
        "id": "99g3EgWrlqRq"
      },
      "source": [
        "y_label = hf.columns[-1]\n",
        "x_labels = hf.columns[0:-1]"
      ],
      "execution_count": null,
      "outputs": []
    },
    {
      "cell_type": "code",
      "metadata": {
        "colab": {
          "base_uri": "https://localhost:8080/"
        },
        "id": "U_YlKUp-lqUg",
        "outputId": "760007d6-be50-4ccb-cbcc-abb2011185bc"
      },
      "source": [
        "x_labels"
      ],
      "execution_count": 18,
      "outputs": [
        {
          "output_type": "execute_result",
          "data": {
            "text/plain": [
              "['vgg_cosine',\n",
              " 'vgg_euclidean_l2',\n",
              " 'facenet_cosine',\n",
              " 'facenet_euclidean_l2',\n",
              " 'openface_cosine',\n",
              " 'openface_euclidean_l2']"
            ]
          },
          "metadata": {
            "tags": []
          },
          "execution_count": 18
        }
      ]
    },
    {
      "cell_type": "code",
      "metadata": {
        "colab": {
          "base_uri": "https://localhost:8080/",
          "height": 35
        },
        "id": "b7R2Nh9klqW7",
        "outputId": "69c2d931-63a1-46cc-fe27-58e0f2db0e67"
      },
      "source": [
        "y_label"
      ],
      "execution_count": 19,
      "outputs": [
        {
          "output_type": "execute_result",
          "data": {
            "application/vnd.google.colaboratory.intrinsic+json": {
              "type": "string"
            },
            "text/plain": [
              "'is_related'"
            ]
          },
          "metadata": {
            "tags": []
          },
          "execution_count": 19
        }
      ]
    },
    {
      "cell_type": "code",
      "metadata": {
        "id": "H8MF4lfZlqZs"
      },
      "source": [
        "#this is a binary classification problem. convert is_related column to enum type instead of numerical\n",
        "#otherwise, it would be a regression problem\n",
        "hf[y_label] = hf[y_label].asfactor()"
      ],
      "execution_count": 20,
      "outputs": []
    },
    {
      "cell_type": "code",
      "metadata": {
        "colab": {
          "base_uri": "https://localhost:8080/",
          "height": 465
        },
        "id": "gi_7eroYlqb7",
        "outputId": "766d4ef2-e005-44d3-f94c-f1c52a0a7417"
      },
      "source": [
        "hf.describe()"
      ],
      "execution_count": 21,
      "outputs": [
        {
          "output_type": "stream",
          "text": [
            "Rows:278607\n",
            "Cols:7\n",
            "\n",
            "\n"
          ],
          "name": "stdout"
        },
        {
          "output_type": "display_data",
          "data": {
            "text/html": [
              "<table>\n",
              "<thead>\n",
              "<tr><th>       </th><th>vgg_cosine          </th><th>vgg_euclidean_l2   </th><th>facenet_cosine      </th><th>facenet_euclidean_l2  </th><th>openface_cosine     </th><th>openface_euclidean_l2  </th><th>is_related  </th></tr>\n",
              "</thead>\n",
              "<tbody>\n",
              "<tr><td>type   </td><td>real                </td><td>real               </td><td>real                </td><td>real                  </td><td>real                </td><td>real                   </td><td>enum        </td></tr>\n",
              "<tr><td>mins   </td><td>0.004028141498565674</td><td>0.08975721         </td><td>0.009035706520080566</td><td>0.1344302             </td><td>0.002826511859893799</td><td>0.075187616            </td><td>            </td></tr>\n",
              "<tr><td>mean   </td><td>0.5569502258138221  </td><td>1.0472938806111483 </td><td>0.844084310645829   </td><td>1.2890979528333437    </td><td>0.6800254552511539  </td><td>1.1427115158520231     </td><td>            </td></tr>\n",
              "<tr><td>maxs   </td><td>1.0553148686885834  </td><td>1.4528006          </td><td>1.5036494731903076  </td><td>1.7341565             </td><td>1.5858558416366575  </td><td>1.78093                </td><td>            </td></tr>\n",
              "<tr><td>sigma  </td><td>0.1328708290010315  </td><td>0.13067531818289974</td><td>0.19677337294265532 </td><td>0.1624659448951223    </td><td>0.26123373546581896 </td><td>0.23294118693037083    </td><td>            </td></tr>\n",
              "<tr><td>zeros  </td><td>0                   </td><td>0                  </td><td>0                   </td><td>0                     </td><td>0                   </td><td>0                      </td><td>            </td></tr>\n",
              "<tr><td>missing</td><td>0                   </td><td>0                  </td><td>0                   </td><td>0                     </td><td>0                   </td><td>0                      </td><td>2           </td></tr>\n",
              "<tr><td>0      </td><td>0.6183964312076569  </td><td>1.1121118          </td><td>1.2513097524642944  </td><td>1.581967              </td><td>1.1254418790340424  </td><td>1.5002946              </td><td>1           </td></tr>\n",
              "<tr><td>1      </td><td>0.6011905074119568  </td><td>1.0965314          </td><td>1.1420531868934631  </td><td>1.5113261             </td><td>1.083145149052143   </td><td>1.4718323              </td><td>1           </td></tr>\n",
              "<tr><td>2      </td><td>0.5430631935596466  </td><td>1.0421739          </td><td>1.104493826627731   </td><td>1.4862664             </td><td>1.1498085260391235  </td><td>1.5164489              </td><td>1           </td></tr>\n",
              "<tr><td>3      </td><td>0.6185441613197327  </td><td>1.1122447          </td><td>1.2483286708593369  </td><td>1.5800815             </td><td>1.093671977519989   </td><td>1.4789672              </td><td>1           </td></tr>\n",
              "<tr><td>4      </td><td>0.6066499054431915  </td><td>1.101499           </td><td>1.1511456966400146  </td><td>1.5173304             </td><td>1.1161790862679482  </td><td>1.4941078              </td><td>1           </td></tr>\n",
              "<tr><td>5      </td><td>0.6307016313076019  </td><td>1.1231221          </td><td>1.2215338796377182  </td><td>1.5630317             </td><td>1.2038352191448212  </td><td>1.551667               </td><td>1           </td></tr>\n",
              "<tr><td>6      </td><td>0.7428555488586426  </td><td>1.2188975          </td><td>1.095486268401146   </td><td>1.4801934             </td><td>1.0703236535191536  </td><td>1.4630952              </td><td>1           </td></tr>\n",
              "<tr><td>7      </td><td>0.5584624707698822  </td><td>1.0568467          </td><td>1.1198362335562706  </td><td>1.4965535             </td><td>1.246338590979576   </td><td>1.5788214              </td><td>1           </td></tr>\n",
              "<tr><td>8      </td><td>0.6488507688045502  </td><td>1.1391671          </td><td>1.1077334359288216  </td><td>1.4884444             </td><td>0.6122829914093018  </td><td>1.106601               </td><td>1           </td></tr>\n",
              "<tr><td>9      </td><td>0.6776807010173798  </td><td>1.1641998          </td><td>1.0327201820909977  </td><td>1.4371641             </td><td>0.5717111825942993  </td><td>1.0693094              </td><td>1           </td></tr>\n",
              "</tbody>\n",
              "</table>"
            ]
          },
          "metadata": {
            "tags": []
          }
        }
      ]
    },
    {
      "cell_type": "code",
      "metadata": {
        "id": "n-82WFjXl3KL"
      },
      "source": [
        "aml = H2OAutoML()"
      ],
      "execution_count": 22,
      "outputs": []
    },
    {
      "cell_type": "code",
      "metadata": {
        "colab": {
          "base_uri": "https://localhost:8080/"
        },
        "id": "SuVMWXTrl3M6",
        "outputId": "0ec597fd-5f52-4fad-e15b-a58ff0d58094"
      },
      "source": [
        "aml.train(x = x_labels, y = y_label, training_frame = train)"
      ],
      "execution_count": 23,
      "outputs": [
        {
          "output_type": "stream",
          "text": [
            "AutoML progress: |████████████████████████████████████████████████████████| 100%\n"
          ],
          "name": "stdout"
        }
      ]
    },
    {
      "cell_type": "markdown",
      "metadata": {
        "id": "y8jEQmdJnPkI"
      },
      "source": [
        "## Leaderboard"
      ]
    },
    {
      "cell_type": "code",
      "metadata": {
        "colab": {
          "base_uri": "https://localhost:8080/",
          "height": 1000
        },
        "id": "D2K3jk85l3Pf",
        "outputId": "f6b96924-7528-47ad-8730-88c694655273"
      },
      "source": [
        "aml.leader"
      ],
      "execution_count": 24,
      "outputs": [
        {
          "output_type": "stream",
          "text": [
            "Model Details\n",
            "=============\n",
            "H2OStackedEnsembleEstimator :  Stacked Ensemble\n",
            "Model Key:  StackedEnsemble_AllModels_AutoML_20210417_205035\n",
            "\n",
            "No model summary for this model\n",
            "\n",
            "ModelMetricsBinomialGLM: stackedensemble\n",
            "** Reported on train data. **\n",
            "\n",
            "MSE: 0.2032472779710565\n",
            "RMSE: 0.45082954425265487\n",
            "LogLoss: 0.5909382445839749\n",
            "Null degrees of freedom: 9960\n",
            "Residual degrees of freedom: 9944\n",
            "Null deviance: 13809.843329740066\n",
            "Residual deviance: 11772.671708601949\n",
            "AIC: 11806.671708601949\n",
            "AUC: 0.7486256402243255\n",
            "AUCPR: 0.7438610366116839\n",
            "Gini: 0.4972512804486511\n",
            "\n",
            "Confusion Matrix (Act/Pred) for max f1 @ threshold = 0.38455021004688916: \n"
          ],
          "name": "stdout"
        },
        {
          "output_type": "display_data",
          "data": {
            "text/html": [
              "<div>\n",
              "<style scoped>\n",
              "    .dataframe tbody tr th:only-of-type {\n",
              "        vertical-align: middle;\n",
              "    }\n",
              "\n",
              "    .dataframe tbody tr th {\n",
              "        vertical-align: top;\n",
              "    }\n",
              "\n",
              "    .dataframe thead th {\n",
              "        text-align: right;\n",
              "    }\n",
              "</style>\n",
              "<table border=\"1\" class=\"dataframe\">\n",
              "  <thead>\n",
              "    <tr style=\"text-align: right;\">\n",
              "      <th></th>\n",
              "      <th></th>\n",
              "      <th>0</th>\n",
              "      <th>1</th>\n",
              "      <th>Error</th>\n",
              "      <th>Rate</th>\n",
              "    </tr>\n",
              "  </thead>\n",
              "  <tbody>\n",
              "    <tr>\n",
              "      <th>0</th>\n",
              "      <td>0</td>\n",
              "      <td>2500.0</td>\n",
              "      <td>2484.0</td>\n",
              "      <td>0.4984</td>\n",
              "      <td>(2484.0/4984.0)</td>\n",
              "    </tr>\n",
              "    <tr>\n",
              "      <th>1</th>\n",
              "      <td>1</td>\n",
              "      <td>828.0</td>\n",
              "      <td>4149.0</td>\n",
              "      <td>0.1664</td>\n",
              "      <td>(828.0/4977.0)</td>\n",
              "    </tr>\n",
              "    <tr>\n",
              "      <th>2</th>\n",
              "      <td>Total</td>\n",
              "      <td>3328.0</td>\n",
              "      <td>6633.0</td>\n",
              "      <td>0.3325</td>\n",
              "      <td>(3312.0/9961.0)</td>\n",
              "    </tr>\n",
              "  </tbody>\n",
              "</table>\n",
              "</div>"
            ],
            "text/plain": [
              "               0       1   Error              Rate\n",
              "0      0  2500.0  2484.0  0.4984   (2484.0/4984.0)\n",
              "1      1   828.0  4149.0  0.1664    (828.0/4977.0)\n",
              "2  Total  3328.0  6633.0  0.3325   (3312.0/9961.0)"
            ]
          },
          "metadata": {
            "tags": []
          }
        },
        {
          "output_type": "stream",
          "text": [
            "\n",
            "Maximum Metrics: Maximum metrics at their respective thresholds\n"
          ],
          "name": "stdout"
        },
        {
          "output_type": "display_data",
          "data": {
            "text/html": [
              "<div>\n",
              "<style scoped>\n",
              "    .dataframe tbody tr th:only-of-type {\n",
              "        vertical-align: middle;\n",
              "    }\n",
              "\n",
              "    .dataframe tbody tr th {\n",
              "        vertical-align: top;\n",
              "    }\n",
              "\n",
              "    .dataframe thead th {\n",
              "        text-align: right;\n",
              "    }\n",
              "</style>\n",
              "<table border=\"1\" class=\"dataframe\">\n",
              "  <thead>\n",
              "    <tr style=\"text-align: right;\">\n",
              "      <th></th>\n",
              "      <th>metric</th>\n",
              "      <th>threshold</th>\n",
              "      <th>value</th>\n",
              "      <th>idx</th>\n",
              "    </tr>\n",
              "  </thead>\n",
              "  <tbody>\n",
              "    <tr>\n",
              "      <th>0</th>\n",
              "      <td>max f1</td>\n",
              "      <td>0.384550</td>\n",
              "      <td>0.714729</td>\n",
              "      <td>256.0</td>\n",
              "    </tr>\n",
              "    <tr>\n",
              "      <th>1</th>\n",
              "      <td>max f2</td>\n",
              "      <td>0.186958</td>\n",
              "      <td>0.840906</td>\n",
              "      <td>355.0</td>\n",
              "    </tr>\n",
              "    <tr>\n",
              "      <th>2</th>\n",
              "      <td>max f0point5</td>\n",
              "      <td>0.532965</td>\n",
              "      <td>0.682174</td>\n",
              "      <td>181.0</td>\n",
              "    </tr>\n",
              "    <tr>\n",
              "      <th>3</th>\n",
              "      <td>max accuracy</td>\n",
              "      <td>0.473026</td>\n",
              "      <td>0.681056</td>\n",
              "      <td>212.0</td>\n",
              "    </tr>\n",
              "    <tr>\n",
              "      <th>4</th>\n",
              "      <td>max precision</td>\n",
              "      <td>0.970154</td>\n",
              "      <td>1.000000</td>\n",
              "      <td>0.0</td>\n",
              "    </tr>\n",
              "    <tr>\n",
              "      <th>5</th>\n",
              "      <td>max recall</td>\n",
              "      <td>0.084228</td>\n",
              "      <td>1.000000</td>\n",
              "      <td>391.0</td>\n",
              "    </tr>\n",
              "    <tr>\n",
              "      <th>6</th>\n",
              "      <td>max specificity</td>\n",
              "      <td>0.970154</td>\n",
              "      <td>1.000000</td>\n",
              "      <td>0.0</td>\n",
              "    </tr>\n",
              "    <tr>\n",
              "      <th>7</th>\n",
              "      <td>max absolute_mcc</td>\n",
              "      <td>0.473026</td>\n",
              "      <td>0.363067</td>\n",
              "      <td>212.0</td>\n",
              "    </tr>\n",
              "    <tr>\n",
              "      <th>8</th>\n",
              "      <td>max min_per_class_accuracy</td>\n",
              "      <td>0.493691</td>\n",
              "      <td>0.678571</td>\n",
              "      <td>201.0</td>\n",
              "    </tr>\n",
              "    <tr>\n",
              "      <th>9</th>\n",
              "      <td>max mean_per_class_accuracy</td>\n",
              "      <td>0.473026</td>\n",
              "      <td>0.681081</td>\n",
              "      <td>212.0</td>\n",
              "    </tr>\n",
              "    <tr>\n",
              "      <th>10</th>\n",
              "      <td>max tns</td>\n",
              "      <td>0.970154</td>\n",
              "      <td>4984.000000</td>\n",
              "      <td>0.0</td>\n",
              "    </tr>\n",
              "    <tr>\n",
              "      <th>11</th>\n",
              "      <td>max fns</td>\n",
              "      <td>0.970154</td>\n",
              "      <td>4971.000000</td>\n",
              "      <td>0.0</td>\n",
              "    </tr>\n",
              "    <tr>\n",
              "      <th>12</th>\n",
              "      <td>max fps</td>\n",
              "      <td>0.038820</td>\n",
              "      <td>4984.000000</td>\n",
              "      <td>399.0</td>\n",
              "    </tr>\n",
              "    <tr>\n",
              "      <th>13</th>\n",
              "      <td>max tps</td>\n",
              "      <td>0.084228</td>\n",
              "      <td>4977.000000</td>\n",
              "      <td>391.0</td>\n",
              "    </tr>\n",
              "    <tr>\n",
              "      <th>14</th>\n",
              "      <td>max tnr</td>\n",
              "      <td>0.970154</td>\n",
              "      <td>1.000000</td>\n",
              "      <td>0.0</td>\n",
              "    </tr>\n",
              "    <tr>\n",
              "      <th>15</th>\n",
              "      <td>max fnr</td>\n",
              "      <td>0.970154</td>\n",
              "      <td>0.998794</td>\n",
              "      <td>0.0</td>\n",
              "    </tr>\n",
              "    <tr>\n",
              "      <th>16</th>\n",
              "      <td>max fpr</td>\n",
              "      <td>0.038820</td>\n",
              "      <td>1.000000</td>\n",
              "      <td>399.0</td>\n",
              "    </tr>\n",
              "    <tr>\n",
              "      <th>17</th>\n",
              "      <td>max tpr</td>\n",
              "      <td>0.084228</td>\n",
              "      <td>1.000000</td>\n",
              "      <td>391.0</td>\n",
              "    </tr>\n",
              "  </tbody>\n",
              "</table>\n",
              "</div>"
            ],
            "text/plain": [
              "                         metric  threshold        value    idx\n",
              "0                        max f1   0.384550     0.714729  256.0\n",
              "1                        max f2   0.186958     0.840906  355.0\n",
              "2                  max f0point5   0.532965     0.682174  181.0\n",
              "3                  max accuracy   0.473026     0.681056  212.0\n",
              "4                 max precision   0.970154     1.000000    0.0\n",
              "5                    max recall   0.084228     1.000000  391.0\n",
              "6               max specificity   0.970154     1.000000    0.0\n",
              "7              max absolute_mcc   0.473026     0.363067  212.0\n",
              "8    max min_per_class_accuracy   0.493691     0.678571  201.0\n",
              "9   max mean_per_class_accuracy   0.473026     0.681081  212.0\n",
              "10                      max tns   0.970154  4984.000000    0.0\n",
              "11                      max fns   0.970154  4971.000000    0.0\n",
              "12                      max fps   0.038820  4984.000000  399.0\n",
              "13                      max tps   0.084228  4977.000000  391.0\n",
              "14                      max tnr   0.970154     1.000000    0.0\n",
              "15                      max fnr   0.970154     0.998794    0.0\n",
              "16                      max fpr   0.038820     1.000000  399.0\n",
              "17                      max tpr   0.084228     1.000000  391.0"
            ]
          },
          "metadata": {
            "tags": []
          }
        },
        {
          "output_type": "stream",
          "text": [
            "\n",
            "Gains/Lift Table: Avg response rate: 49.96 %, avg score: 49.56 %\n"
          ],
          "name": "stdout"
        },
        {
          "output_type": "display_data",
          "data": {
            "text/html": [
              "<div>\n",
              "<style scoped>\n",
              "    .dataframe tbody tr th:only-of-type {\n",
              "        vertical-align: middle;\n",
              "    }\n",
              "\n",
              "    .dataframe tbody tr th {\n",
              "        vertical-align: top;\n",
              "    }\n",
              "\n",
              "    .dataframe thead th {\n",
              "        text-align: right;\n",
              "    }\n",
              "</style>\n",
              "<table border=\"1\" class=\"dataframe\">\n",
              "  <thead>\n",
              "    <tr style=\"text-align: right;\">\n",
              "      <th></th>\n",
              "      <th>group</th>\n",
              "      <th>cumulative_data_fraction</th>\n",
              "      <th>lower_threshold</th>\n",
              "      <th>lift</th>\n",
              "      <th>cumulative_lift</th>\n",
              "      <th>response_rate</th>\n",
              "      <th>score</th>\n",
              "      <th>cumulative_response_rate</th>\n",
              "      <th>cumulative_score</th>\n",
              "      <th>capture_rate</th>\n",
              "      <th>cumulative_capture_rate</th>\n",
              "      <th>gain</th>\n",
              "      <th>cumulative_gain</th>\n",
              "      <th>kolmogorov_smirnov</th>\n",
              "    </tr>\n",
              "  </thead>\n",
              "  <tbody>\n",
              "    <tr>\n",
              "      <th>0</th>\n",
              "      <td>1</td>\n",
              "      <td>0.010039</td>\n",
              "      <td>0.911765</td>\n",
              "      <td>1.961378</td>\n",
              "      <td>1.961378</td>\n",
              "      <td>0.980000</td>\n",
              "      <td>0.936064</td>\n",
              "      <td>0.980000</td>\n",
              "      <td>0.936064</td>\n",
              "      <td>0.019691</td>\n",
              "      <td>0.019691</td>\n",
              "      <td>96.137834</td>\n",
              "      <td>96.137834</td>\n",
              "      <td>0.019289</td>\n",
              "    </tr>\n",
              "    <tr>\n",
              "      <th>1</th>\n",
              "      <td>2</td>\n",
              "      <td>0.020078</td>\n",
              "      <td>0.885075</td>\n",
              "      <td>1.721210</td>\n",
              "      <td>1.841294</td>\n",
              "      <td>0.860000</td>\n",
              "      <td>0.896453</td>\n",
              "      <td>0.920000</td>\n",
              "      <td>0.916258</td>\n",
              "      <td>0.017279</td>\n",
              "      <td>0.036970</td>\n",
              "      <td>72.120956</td>\n",
              "      <td>84.129395</td>\n",
              "      <td>0.033760</td>\n",
              "    </tr>\n",
              "    <tr>\n",
              "      <th>2</th>\n",
              "      <td>3</td>\n",
              "      <td>0.030017</td>\n",
              "      <td>0.858698</td>\n",
              "      <td>1.799244</td>\n",
              "      <td>1.827371</td>\n",
              "      <td>0.898990</td>\n",
              "      <td>0.872261</td>\n",
              "      <td>0.913043</td>\n",
              "      <td>0.901691</td>\n",
              "      <td>0.017882</td>\n",
              "      <td>0.054852</td>\n",
              "      <td>79.924420</td>\n",
              "      <td>82.737112</td>\n",
              "      <td>0.049636</td>\n",
              "    </tr>\n",
              "    <tr>\n",
              "      <th>3</th>\n",
              "      <td>4</td>\n",
              "      <td>0.040056</td>\n",
              "      <td>0.846647</td>\n",
              "      <td>1.881322</td>\n",
              "      <td>1.840893</td>\n",
              "      <td>0.940000</td>\n",
              "      <td>0.852014</td>\n",
              "      <td>0.919799</td>\n",
              "      <td>0.889240</td>\n",
              "      <td>0.018887</td>\n",
              "      <td>0.073739</td>\n",
              "      <td>88.132208</td>\n",
              "      <td>84.089267</td>\n",
              "      <td>0.067319</td>\n",
              "    </tr>\n",
              "    <tr>\n",
              "      <th>4</th>\n",
              "      <td>5</td>\n",
              "      <td>0.050095</td>\n",
              "      <td>0.835653</td>\n",
              "      <td>1.761238</td>\n",
              "      <td>1.824930</td>\n",
              "      <td>0.880000</td>\n",
              "      <td>0.840769</td>\n",
              "      <td>0.911824</td>\n",
              "      <td>0.879527</td>\n",
              "      <td>0.017681</td>\n",
              "      <td>0.091421</td>\n",
              "      <td>76.123769</td>\n",
              "      <td>82.492975</td>\n",
              "      <td>0.082592</td>\n",
              "    </tr>\n",
              "    <tr>\n",
              "      <th>5</th>\n",
              "      <td>6</td>\n",
              "      <td>0.100090</td>\n",
              "      <td>0.782919</td>\n",
              "      <td>1.675877</td>\n",
              "      <td>1.750478</td>\n",
              "      <td>0.837349</td>\n",
              "      <td>0.809557</td>\n",
              "      <td>0.874624</td>\n",
              "      <td>0.844577</td>\n",
              "      <td>0.083785</td>\n",
              "      <td>0.175206</td>\n",
              "      <td>67.587650</td>\n",
              "      <td>75.047788</td>\n",
              "      <td>0.150126</td>\n",
              "    </tr>\n",
              "    <tr>\n",
              "      <th>6</th>\n",
              "      <td>7</td>\n",
              "      <td>0.150085</td>\n",
              "      <td>0.733713</td>\n",
              "      <td>1.531197</td>\n",
              "      <td>1.677433</td>\n",
              "      <td>0.765060</td>\n",
              "      <td>0.756634</td>\n",
              "      <td>0.838127</td>\n",
              "      <td>0.815282</td>\n",
              "      <td>0.076552</td>\n",
              "      <td>0.251758</td>\n",
              "      <td>53.119652</td>\n",
              "      <td>67.743298</td>\n",
              "      <td>0.203203</td>\n",
              "    </tr>\n",
              "    <tr>\n",
              "      <th>7</th>\n",
              "      <td>8</td>\n",
              "      <td>0.200080</td>\n",
              "      <td>0.688434</td>\n",
              "      <td>1.394554</td>\n",
              "      <td>1.606749</td>\n",
              "      <td>0.696787</td>\n",
              "      <td>0.709064</td>\n",
              "      <td>0.802810</td>\n",
              "      <td>0.788741</td>\n",
              "      <td>0.069721</td>\n",
              "      <td>0.321479</td>\n",
              "      <td>39.455431</td>\n",
              "      <td>60.674880</td>\n",
              "      <td>0.242626</td>\n",
              "    </tr>\n",
              "    <tr>\n",
              "      <th>8</th>\n",
              "      <td>9</td>\n",
              "      <td>0.300070</td>\n",
              "      <td>0.616648</td>\n",
              "      <td>1.344318</td>\n",
              "      <td>1.519301</td>\n",
              "      <td>0.671687</td>\n",
              "      <td>0.649660</td>\n",
              "      <td>0.759117</td>\n",
              "      <td>0.742396</td>\n",
              "      <td>0.134418</td>\n",
              "      <td>0.455897</td>\n",
              "      <td>34.431820</td>\n",
              "      <td>51.930120</td>\n",
              "      <td>0.311435</td>\n",
              "    </tr>\n",
              "    <tr>\n",
              "      <th>9</th>\n",
              "      <td>10</td>\n",
              "      <td>0.400060</td>\n",
              "      <td>0.555882</td>\n",
              "      <td>1.151412</td>\n",
              "      <td>1.427352</td>\n",
              "      <td>0.575301</td>\n",
              "      <td>0.584618</td>\n",
              "      <td>0.713174</td>\n",
              "      <td>0.702962</td>\n",
              "      <td>0.115130</td>\n",
              "      <td>0.571027</td>\n",
              "      <td>15.141155</td>\n",
              "      <td>42.735187</td>\n",
              "      <td>0.341693</td>\n",
              "    </tr>\n",
              "    <tr>\n",
              "      <th>10</th>\n",
              "      <td>11</td>\n",
              "      <td>0.500050</td>\n",
              "      <td>0.493429</td>\n",
              "      <td>1.089119</td>\n",
              "      <td>1.359719</td>\n",
              "      <td>0.544177</td>\n",
              "      <td>0.523990</td>\n",
              "      <td>0.679382</td>\n",
              "      <td>0.667175</td>\n",
              "      <td>0.108901</td>\n",
              "      <td>0.679928</td>\n",
              "      <td>8.911878</td>\n",
              "      <td>35.971883</td>\n",
              "      <td>0.359502</td>\n",
              "    </tr>\n",
              "    <tr>\n",
              "      <th>11</th>\n",
              "      <td>12</td>\n",
              "      <td>0.600040</td>\n",
              "      <td>0.430640</td>\n",
              "      <td>0.924344</td>\n",
              "      <td>1.287169</td>\n",
              "      <td>0.461847</td>\n",
              "      <td>0.462426</td>\n",
              "      <td>0.643132</td>\n",
              "      <td>0.633056</td>\n",
              "      <td>0.092425</td>\n",
              "      <td>0.772353</td>\n",
              "      <td>-7.565565</td>\n",
              "      <td>28.716856</td>\n",
              "      <td>0.344383</td>\n",
              "    </tr>\n",
              "    <tr>\n",
              "      <th>12</th>\n",
              "      <td>13</td>\n",
              "      <td>0.700030</td>\n",
              "      <td>0.361204</td>\n",
              "      <td>0.833919</td>\n",
              "      <td>1.222428</td>\n",
              "      <td>0.416667</td>\n",
              "      <td>0.395366</td>\n",
              "      <td>0.610784</td>\n",
              "      <td>0.599105</td>\n",
              "      <td>0.083384</td>\n",
              "      <td>0.855736</td>\n",
              "      <td>-16.608064</td>\n",
              "      <td>22.242796</td>\n",
              "      <td>0.311194</td>\n",
              "    </tr>\n",
              "    <tr>\n",
              "      <th>13</th>\n",
              "      <td>14</td>\n",
              "      <td>0.800020</td>\n",
              "      <td>0.297993</td>\n",
              "      <td>0.683211</td>\n",
              "      <td>1.155034</td>\n",
              "      <td>0.341365</td>\n",
              "      <td>0.328533</td>\n",
              "      <td>0.577111</td>\n",
              "      <td>0.565288</td>\n",
              "      <td>0.068314</td>\n",
              "      <td>0.924051</td>\n",
              "      <td>-31.678896</td>\n",
              "      <td>15.503430</td>\n",
              "      <td>0.247887</td>\n",
              "    </tr>\n",
              "    <tr>\n",
              "      <th>14</th>\n",
              "      <td>15</td>\n",
              "      <td>0.900010</td>\n",
              "      <td>0.228499</td>\n",
              "      <td>0.494323</td>\n",
              "      <td>1.081630</td>\n",
              "      <td>0.246988</td>\n",
              "      <td>0.265299</td>\n",
              "      <td>0.540435</td>\n",
              "      <td>0.531959</td>\n",
              "      <td>0.049427</td>\n",
              "      <td>0.973478</td>\n",
              "      <td>-50.567672</td>\n",
              "      <td>8.163016</td>\n",
              "      <td>0.146833</td>\n",
              "    </tr>\n",
              "    <tr>\n",
              "      <th>15</th>\n",
              "      <td>16</td>\n",
              "      <td>1.000000</td>\n",
              "      <td>0.036115</td>\n",
              "      <td>0.265247</td>\n",
              "      <td>1.000000</td>\n",
              "      <td>0.132530</td>\n",
              "      <td>0.168827</td>\n",
              "      <td>0.499649</td>\n",
              "      <td>0.495650</td>\n",
              "      <td>0.026522</td>\n",
              "      <td>1.000000</td>\n",
              "      <td>-73.475336</td>\n",
              "      <td>0.000000</td>\n",
              "      <td>0.000000</td>\n",
              "    </tr>\n",
              "  </tbody>\n",
              "</table>\n",
              "</div>"
            ],
            "text/plain": [
              "    group  cumulative_data_fraction  ...  cumulative_gain  kolmogorov_smirnov\n",
              "0       1                  0.010039  ...        96.137834            0.019289\n",
              "1       2                  0.020078  ...        84.129395            0.033760\n",
              "2       3                  0.030017  ...        82.737112            0.049636\n",
              "3       4                  0.040056  ...        84.089267            0.067319\n",
              "4       5                  0.050095  ...        82.492975            0.082592\n",
              "5       6                  0.100090  ...        75.047788            0.150126\n",
              "6       7                  0.150085  ...        67.743298            0.203203\n",
              "7       8                  0.200080  ...        60.674880            0.242626\n",
              "8       9                  0.300070  ...        51.930120            0.311435\n",
              "9      10                  0.400060  ...        42.735187            0.341693\n",
              "10     11                  0.500050  ...        35.971883            0.359502\n",
              "11     12                  0.600040  ...        28.716856            0.344383\n",
              "12     13                  0.700030  ...        22.242796            0.311194\n",
              "13     14                  0.800020  ...        15.503430            0.247887\n",
              "14     15                  0.900010  ...         8.163016            0.146833\n",
              "15     16                  1.000000  ...         0.000000            0.000000\n",
              "\n",
              "[16 rows x 14 columns]"
            ]
          },
          "metadata": {
            "tags": []
          }
        },
        {
          "output_type": "stream",
          "text": [
            "\n",
            "\n",
            "ModelMetricsBinomialGLM: stackedensemble\n",
            "** Reported on cross-validation data. **\n",
            "\n",
            "MSE: 0.20876489117956673\n",
            "RMSE: 0.4569079679536862\n",
            "LogLoss: 0.6044648422248524\n",
            "Null degrees of freedom: 195247\n",
            "Residual degrees of freedom: 195230\n",
            "Null deviance: 270653.4584340794\n",
            "Residual deviance: 236041.10302943597\n",
            "AIC: 236077.10302943597\n",
            "AUC: 0.7333312691767349\n",
            "AUCPR: 0.7235596566355378\n",
            "Gini: 0.4666625383534697\n",
            "\n",
            "Confusion Matrix (Act/Pred) for max f1 @ threshold = 0.35538657539170965: \n"
          ],
          "name": "stdout"
        },
        {
          "output_type": "display_data",
          "data": {
            "text/html": [
              "<div>\n",
              "<style scoped>\n",
              "    .dataframe tbody tr th:only-of-type {\n",
              "        vertical-align: middle;\n",
              "    }\n",
              "\n",
              "    .dataframe tbody tr th {\n",
              "        vertical-align: top;\n",
              "    }\n",
              "\n",
              "    .dataframe thead th {\n",
              "        text-align: right;\n",
              "    }\n",
              "</style>\n",
              "<table border=\"1\" class=\"dataframe\">\n",
              "  <thead>\n",
              "    <tr style=\"text-align: right;\">\n",
              "      <th></th>\n",
              "      <th></th>\n",
              "      <th>0</th>\n",
              "      <th>1</th>\n",
              "      <th>Error</th>\n",
              "      <th>Rate</th>\n",
              "    </tr>\n",
              "  </thead>\n",
              "  <tbody>\n",
              "    <tr>\n",
              "      <th>0</th>\n",
              "      <td>0</td>\n",
              "      <td>42639.0</td>\n",
              "      <td>56017.0</td>\n",
              "      <td>0.5678</td>\n",
              "      <td>(56017.0/98656.0)</td>\n",
              "    </tr>\n",
              "    <tr>\n",
              "      <th>1</th>\n",
              "      <td>1</td>\n",
              "      <td>14263.0</td>\n",
              "      <td>82329.0</td>\n",
              "      <td>0.1477</td>\n",
              "      <td>(14263.0/96592.0)</td>\n",
              "    </tr>\n",
              "    <tr>\n",
              "      <th>2</th>\n",
              "      <td>Total</td>\n",
              "      <td>56902.0</td>\n",
              "      <td>138346.0</td>\n",
              "      <td>0.36</td>\n",
              "      <td>(70280.0/195248.0)</td>\n",
              "    </tr>\n",
              "  </tbody>\n",
              "</table>\n",
              "</div>"
            ],
            "text/plain": [
              "                0         1   Error                 Rate\n",
              "0      0  42639.0   56017.0  0.5678    (56017.0/98656.0)\n",
              "1      1  14263.0   82329.0  0.1477    (14263.0/96592.0)\n",
              "2  Total  56902.0  138346.0    0.36   (70280.0/195248.0)"
            ]
          },
          "metadata": {
            "tags": []
          }
        },
        {
          "output_type": "stream",
          "text": [
            "\n",
            "Maximum Metrics: Maximum metrics at their respective thresholds\n"
          ],
          "name": "stdout"
        },
        {
          "output_type": "display_data",
          "data": {
            "text/html": [
              "<div>\n",
              "<style scoped>\n",
              "    .dataframe tbody tr th:only-of-type {\n",
              "        vertical-align: middle;\n",
              "    }\n",
              "\n",
              "    .dataframe tbody tr th {\n",
              "        vertical-align: top;\n",
              "    }\n",
              "\n",
              "    .dataframe thead th {\n",
              "        text-align: right;\n",
              "    }\n",
              "</style>\n",
              "<table border=\"1\" class=\"dataframe\">\n",
              "  <thead>\n",
              "    <tr style=\"text-align: right;\">\n",
              "      <th></th>\n",
              "      <th>metric</th>\n",
              "      <th>threshold</th>\n",
              "      <th>value</th>\n",
              "      <th>idx</th>\n",
              "    </tr>\n",
              "  </thead>\n",
              "  <tbody>\n",
              "    <tr>\n",
              "      <th>0</th>\n",
              "      <td>max f1</td>\n",
              "      <td>0.355387</td>\n",
              "      <td>0.700857</td>\n",
              "      <td>273.0</td>\n",
              "    </tr>\n",
              "    <tr>\n",
              "      <th>1</th>\n",
              "      <td>max f2</td>\n",
              "      <td>0.172514</td>\n",
              "      <td>0.833281</td>\n",
              "      <td>361.0</td>\n",
              "    </tr>\n",
              "    <tr>\n",
              "      <th>2</th>\n",
              "      <td>max f0point5</td>\n",
              "      <td>0.536271</td>\n",
              "      <td>0.670127</td>\n",
              "      <td>181.0</td>\n",
              "    </tr>\n",
              "    <tr>\n",
              "      <th>3</th>\n",
              "      <td>max accuracy</td>\n",
              "      <td>0.500664</td>\n",
              "      <td>0.671449</td>\n",
              "      <td>200.0</td>\n",
              "    </tr>\n",
              "    <tr>\n",
              "      <th>4</th>\n",
              "      <td>max precision</td>\n",
              "      <td>0.976696</td>\n",
              "      <td>1.000000</td>\n",
              "      <td>0.0</td>\n",
              "    </tr>\n",
              "    <tr>\n",
              "      <th>5</th>\n",
              "      <td>max recall</td>\n",
              "      <td>0.040149</td>\n",
              "      <td>1.000000</td>\n",
              "      <td>398.0</td>\n",
              "    </tr>\n",
              "    <tr>\n",
              "      <th>6</th>\n",
              "      <td>max specificity</td>\n",
              "      <td>0.976696</td>\n",
              "      <td>1.000000</td>\n",
              "      <td>0.0</td>\n",
              "    </tr>\n",
              "    <tr>\n",
              "      <th>7</th>\n",
              "      <td>max absolute_mcc</td>\n",
              "      <td>0.500664</td>\n",
              "      <td>0.342768</td>\n",
              "      <td>200.0</td>\n",
              "    </tr>\n",
              "    <tr>\n",
              "      <th>8</th>\n",
              "      <td>max min_per_class_accuracy</td>\n",
              "      <td>0.494017</td>\n",
              "      <td>0.669721</td>\n",
              "      <td>203.0</td>\n",
              "    </tr>\n",
              "    <tr>\n",
              "      <th>9</th>\n",
              "      <td>max mean_per_class_accuracy</td>\n",
              "      <td>0.500664</td>\n",
              "      <td>0.671353</td>\n",
              "      <td>200.0</td>\n",
              "    </tr>\n",
              "    <tr>\n",
              "      <th>10</th>\n",
              "      <td>max tns</td>\n",
              "      <td>0.976696</td>\n",
              "      <td>98656.000000</td>\n",
              "      <td>0.0</td>\n",
              "    </tr>\n",
              "    <tr>\n",
              "      <th>11</th>\n",
              "      <td>max fns</td>\n",
              "      <td>0.976696</td>\n",
              "      <td>96548.000000</td>\n",
              "      <td>0.0</td>\n",
              "    </tr>\n",
              "    <tr>\n",
              "      <th>12</th>\n",
              "      <td>max fps</td>\n",
              "      <td>0.033900</td>\n",
              "      <td>98656.000000</td>\n",
              "      <td>399.0</td>\n",
              "    </tr>\n",
              "    <tr>\n",
              "      <th>13</th>\n",
              "      <td>max tps</td>\n",
              "      <td>0.040149</td>\n",
              "      <td>96592.000000</td>\n",
              "      <td>398.0</td>\n",
              "    </tr>\n",
              "    <tr>\n",
              "      <th>14</th>\n",
              "      <td>max tnr</td>\n",
              "      <td>0.976696</td>\n",
              "      <td>1.000000</td>\n",
              "      <td>0.0</td>\n",
              "    </tr>\n",
              "    <tr>\n",
              "      <th>15</th>\n",
              "      <td>max fnr</td>\n",
              "      <td>0.976696</td>\n",
              "      <td>0.999544</td>\n",
              "      <td>0.0</td>\n",
              "    </tr>\n",
              "    <tr>\n",
              "      <th>16</th>\n",
              "      <td>max fpr</td>\n",
              "      <td>0.033900</td>\n",
              "      <td>1.000000</td>\n",
              "      <td>399.0</td>\n",
              "    </tr>\n",
              "    <tr>\n",
              "      <th>17</th>\n",
              "      <td>max tpr</td>\n",
              "      <td>0.040149</td>\n",
              "      <td>1.000000</td>\n",
              "      <td>398.0</td>\n",
              "    </tr>\n",
              "  </tbody>\n",
              "</table>\n",
              "</div>"
            ],
            "text/plain": [
              "                         metric  threshold         value    idx\n",
              "0                        max f1   0.355387      0.700857  273.0\n",
              "1                        max f2   0.172514      0.833281  361.0\n",
              "2                  max f0point5   0.536271      0.670127  181.0\n",
              "3                  max accuracy   0.500664      0.671449  200.0\n",
              "4                 max precision   0.976696      1.000000    0.0\n",
              "5                    max recall   0.040149      1.000000  398.0\n",
              "6               max specificity   0.976696      1.000000    0.0\n",
              "7              max absolute_mcc   0.500664      0.342768  200.0\n",
              "8    max min_per_class_accuracy   0.494017      0.669721  203.0\n",
              "9   max mean_per_class_accuracy   0.500664      0.671353  200.0\n",
              "10                      max tns   0.976696  98656.000000    0.0\n",
              "11                      max fns   0.976696  96548.000000    0.0\n",
              "12                      max fps   0.033900  98656.000000  399.0\n",
              "13                      max tps   0.040149  96592.000000  398.0\n",
              "14                      max tnr   0.976696      1.000000    0.0\n",
              "15                      max fnr   0.976696      0.999544    0.0\n",
              "16                      max fpr   0.033900      1.000000  399.0\n",
              "17                      max tpr   0.040149      1.000000  398.0"
            ]
          },
          "metadata": {
            "tags": []
          }
        },
        {
          "output_type": "stream",
          "text": [
            "\n",
            "Gains/Lift Table: Avg response rate: 49.47 %, avg score: 49.47 %\n"
          ],
          "name": "stdout"
        },
        {
          "output_type": "display_data",
          "data": {
            "text/html": [
              "<div>\n",
              "<style scoped>\n",
              "    .dataframe tbody tr th:only-of-type {\n",
              "        vertical-align: middle;\n",
              "    }\n",
              "\n",
              "    .dataframe tbody tr th {\n",
              "        vertical-align: top;\n",
              "    }\n",
              "\n",
              "    .dataframe thead th {\n",
              "        text-align: right;\n",
              "    }\n",
              "</style>\n",
              "<table border=\"1\" class=\"dataframe\">\n",
              "  <thead>\n",
              "    <tr style=\"text-align: right;\">\n",
              "      <th></th>\n",
              "      <th>group</th>\n",
              "      <th>cumulative_data_fraction</th>\n",
              "      <th>lower_threshold</th>\n",
              "      <th>lift</th>\n",
              "      <th>cumulative_lift</th>\n",
              "      <th>response_rate</th>\n",
              "      <th>score</th>\n",
              "      <th>cumulative_response_rate</th>\n",
              "      <th>cumulative_score</th>\n",
              "      <th>capture_rate</th>\n",
              "      <th>cumulative_capture_rate</th>\n",
              "      <th>gain</th>\n",
              "      <th>cumulative_gain</th>\n",
              "      <th>kolmogorov_smirnov</th>\n",
              "    </tr>\n",
              "  </thead>\n",
              "  <tbody>\n",
              "    <tr>\n",
              "      <th>0</th>\n",
              "      <td>1</td>\n",
              "      <td>0.010003</td>\n",
              "      <td>0.908191</td>\n",
              "      <td>1.880607</td>\n",
              "      <td>1.880607</td>\n",
              "      <td>0.930364</td>\n",
              "      <td>0.932766</td>\n",
              "      <td>0.930364</td>\n",
              "      <td>0.932766</td>\n",
              "      <td>0.018811</td>\n",
              "      <td>0.018811</td>\n",
              "      <td>88.060731</td>\n",
              "      <td>88.060731</td>\n",
              "      <td>0.017433</td>\n",
              "    </tr>\n",
              "    <tr>\n",
              "      <th>1</th>\n",
              "      <td>2</td>\n",
              "      <td>0.020000</td>\n",
              "      <td>0.883193</td>\n",
              "      <td>1.814261</td>\n",
              "      <td>1.847443</td>\n",
              "      <td>0.897541</td>\n",
              "      <td>0.895320</td>\n",
              "      <td>0.913956</td>\n",
              "      <td>0.914048</td>\n",
              "      <td>0.018138</td>\n",
              "      <td>0.036949</td>\n",
              "      <td>81.426083</td>\n",
              "      <td>84.744256</td>\n",
              "      <td>0.033543</td>\n",
              "    </tr>\n",
              "    <tr>\n",
              "      <th>2</th>\n",
              "      <td>3</td>\n",
              "      <td>0.030003</td>\n",
              "      <td>0.857101</td>\n",
              "      <td>1.772967</td>\n",
              "      <td>1.822613</td>\n",
              "      <td>0.877112</td>\n",
              "      <td>0.869355</td>\n",
              "      <td>0.901673</td>\n",
              "      <td>0.899148</td>\n",
              "      <td>0.017734</td>\n",
              "      <td>0.054684</td>\n",
              "      <td>77.296660</td>\n",
              "      <td>82.261301</td>\n",
              "      <td>0.048845</td>\n",
              "    </tr>\n",
              "    <tr>\n",
              "      <th>3</th>\n",
              "      <td>4</td>\n",
              "      <td>0.040000</td>\n",
              "      <td>0.843981</td>\n",
              "      <td>1.704494</td>\n",
              "      <td>1.793091</td>\n",
              "      <td>0.843238</td>\n",
              "      <td>0.850240</td>\n",
              "      <td>0.887068</td>\n",
              "      <td>0.886924</td>\n",
              "      <td>0.017041</td>\n",
              "      <td>0.071724</td>\n",
              "      <td>70.449391</td>\n",
              "      <td>79.309079</td>\n",
              "      <td>0.062784</td>\n",
              "    </tr>\n",
              "    <tr>\n",
              "      <th>4</th>\n",
              "      <td>5</td>\n",
              "      <td>0.050003</td>\n",
              "      <td>0.833175</td>\n",
              "      <td>1.692236</td>\n",
              "      <td>1.772916</td>\n",
              "      <td>0.837174</td>\n",
              "      <td>0.838502</td>\n",
              "      <td>0.877087</td>\n",
              "      <td>0.877238</td>\n",
              "      <td>0.016927</td>\n",
              "      <td>0.088651</td>\n",
              "      <td>69.223608</td>\n",
              "      <td>77.291572</td>\n",
              "      <td>0.076488</td>\n",
              "    </tr>\n",
              "    <tr>\n",
              "      <th>5</th>\n",
              "      <td>6</td>\n",
              "      <td>0.100001</td>\n",
              "      <td>0.776768</td>\n",
              "      <td>1.636642</td>\n",
              "      <td>1.704782</td>\n",
              "      <td>0.809670</td>\n",
              "      <td>0.805529</td>\n",
              "      <td>0.843380</td>\n",
              "      <td>0.841385</td>\n",
              "      <td>0.081829</td>\n",
              "      <td>0.170480</td>\n",
              "      <td>63.664152</td>\n",
              "      <td>70.478211</td>\n",
              "      <td>0.139483</td>\n",
              "    </tr>\n",
              "    <tr>\n",
              "      <th>6</th>\n",
              "      <td>7</td>\n",
              "      <td>0.150004</td>\n",
              "      <td>0.729223</td>\n",
              "      <td>1.525084</td>\n",
              "      <td>1.644881</td>\n",
              "      <td>0.754481</td>\n",
              "      <td>0.752677</td>\n",
              "      <td>0.813746</td>\n",
              "      <td>0.811815</td>\n",
              "      <td>0.076259</td>\n",
              "      <td>0.246739</td>\n",
              "      <td>52.508434</td>\n",
              "      <td>64.488080</td>\n",
              "      <td>0.191446</td>\n",
              "    </tr>\n",
              "    <tr>\n",
              "      <th>7</th>\n",
              "      <td>8</td>\n",
              "      <td>0.200002</td>\n",
              "      <td>0.686294</td>\n",
              "      <td>1.423158</td>\n",
              "      <td>1.589453</td>\n",
              "      <td>0.704057</td>\n",
              "      <td>0.706820</td>\n",
              "      <td>0.786325</td>\n",
              "      <td>0.785567</td>\n",
              "      <td>0.071155</td>\n",
              "      <td>0.317894</td>\n",
              "      <td>42.315753</td>\n",
              "      <td>58.945283</td>\n",
              "      <td>0.233317</td>\n",
              "    </tr>\n",
              "    <tr>\n",
              "      <th>8</th>\n",
              "      <td>9</td>\n",
              "      <td>0.300003</td>\n",
              "      <td>0.616619</td>\n",
              "      <td>1.308791</td>\n",
              "      <td>1.495899</td>\n",
              "      <td>0.647478</td>\n",
              "      <td>0.649515</td>\n",
              "      <td>0.740043</td>\n",
              "      <td>0.740217</td>\n",
              "      <td>0.130880</td>\n",
              "      <td>0.448774</td>\n",
              "      <td>30.879064</td>\n",
              "      <td>49.589876</td>\n",
              "      <td>0.294430</td>\n",
              "    </tr>\n",
              "    <tr>\n",
              "      <th>9</th>\n",
              "      <td>10</td>\n",
              "      <td>0.399999</td>\n",
              "      <td>0.553235</td>\n",
              "      <td>1.175301</td>\n",
              "      <td>1.415752</td>\n",
              "      <td>0.581438</td>\n",
              "      <td>0.583826</td>\n",
              "      <td>0.700393</td>\n",
              "      <td>0.701120</td>\n",
              "      <td>0.117525</td>\n",
              "      <td>0.566299</td>\n",
              "      <td>17.530077</td>\n",
              "      <td>41.575234</td>\n",
              "      <td>0.329122</td>\n",
              "    </tr>\n",
              "    <tr>\n",
              "      <th>10</th>\n",
              "      <td>11</td>\n",
              "      <td>0.500000</td>\n",
              "      <td>0.492926</td>\n",
              "      <td>1.064570</td>\n",
              "      <td>1.345515</td>\n",
              "      <td>0.526658</td>\n",
              "      <td>0.523098</td>\n",
              "      <td>0.665646</td>\n",
              "      <td>0.665516</td>\n",
              "      <td>0.106458</td>\n",
              "      <td>0.672758</td>\n",
              "      <td>6.457001</td>\n",
              "      <td>34.551516</td>\n",
              "      <td>0.341901</td>\n",
              "    </tr>\n",
              "    <tr>\n",
              "      <th>11</th>\n",
              "      <td>12</td>\n",
              "      <td>0.600001</td>\n",
              "      <td>0.427682</td>\n",
              "      <td>0.927086</td>\n",
              "      <td>1.275776</td>\n",
              "      <td>0.458643</td>\n",
              "      <td>0.461216</td>\n",
              "      <td>0.631145</td>\n",
              "      <td>0.631465</td>\n",
              "      <td>0.092710</td>\n",
              "      <td>0.765467</td>\n",
              "      <td>-7.291408</td>\n",
              "      <td>27.577635</td>\n",
              "      <td>0.327470</td>\n",
              "    </tr>\n",
              "    <tr>\n",
              "      <th>12</th>\n",
              "      <td>13</td>\n",
              "      <td>0.699997</td>\n",
              "      <td>0.360247</td>\n",
              "      <td>0.802066</td>\n",
              "      <td>1.208106</td>\n",
              "      <td>0.396794</td>\n",
              "      <td>0.393308</td>\n",
              "      <td>0.597667</td>\n",
              "      <td>0.597444</td>\n",
              "      <td>0.080203</td>\n",
              "      <td>0.845670</td>\n",
              "      <td>-19.793384</td>\n",
              "      <td>20.810594</td>\n",
              "      <td>0.288299</td>\n",
              "    </tr>\n",
              "    <tr>\n",
              "      <th>13</th>\n",
              "      <td>14</td>\n",
              "      <td>0.799998</td>\n",
              "      <td>0.297753</td>\n",
              "      <td>0.664541</td>\n",
              "      <td>1.140159</td>\n",
              "      <td>0.328758</td>\n",
              "      <td>0.328764</td>\n",
              "      <td>0.564053</td>\n",
              "      <td>0.563859</td>\n",
              "      <td>0.066455</td>\n",
              "      <td>0.912125</td>\n",
              "      <td>-33.545902</td>\n",
              "      <td>14.015945</td>\n",
              "      <td>0.221909</td>\n",
              "    </tr>\n",
              "    <tr>\n",
              "      <th>14</th>\n",
              "      <td>15</td>\n",
              "      <td>0.899999</td>\n",
              "      <td>0.228319</td>\n",
              "      <td>0.537410</td>\n",
              "      <td>1.073186</td>\n",
              "      <td>0.265864</td>\n",
              "      <td>0.265248</td>\n",
              "      <td>0.530921</td>\n",
              "      <td>0.530679</td>\n",
              "      <td>0.053742</td>\n",
              "      <td>0.965867</td>\n",
              "      <td>-46.259040</td>\n",
              "      <td>7.318649</td>\n",
              "      <td>0.130357</td>\n",
              "    </tr>\n",
              "    <tr>\n",
              "      <th>15</th>\n",
              "      <td>16</td>\n",
              "      <td>1.000000</td>\n",
              "      <td>0.027522</td>\n",
              "      <td>0.341329</td>\n",
              "      <td>1.000000</td>\n",
              "      <td>0.168860</td>\n",
              "      <td>0.170984</td>\n",
              "      <td>0.494714</td>\n",
              "      <td>0.494709</td>\n",
              "      <td>0.034133</td>\n",
              "      <td>1.000000</td>\n",
              "      <td>-65.867088</td>\n",
              "      <td>0.000000</td>\n",
              "      <td>0.000000</td>\n",
              "    </tr>\n",
              "  </tbody>\n",
              "</table>\n",
              "</div>"
            ],
            "text/plain": [
              "    group  cumulative_data_fraction  ...  cumulative_gain  kolmogorov_smirnov\n",
              "0       1                  0.010003  ...        88.060731            0.017433\n",
              "1       2                  0.020000  ...        84.744256            0.033543\n",
              "2       3                  0.030003  ...        82.261301            0.048845\n",
              "3       4                  0.040000  ...        79.309079            0.062784\n",
              "4       5                  0.050003  ...        77.291572            0.076488\n",
              "5       6                  0.100001  ...        70.478211            0.139483\n",
              "6       7                  0.150004  ...        64.488080            0.191446\n",
              "7       8                  0.200002  ...        58.945283            0.233317\n",
              "8       9                  0.300003  ...        49.589876            0.294430\n",
              "9      10                  0.399999  ...        41.575234            0.329122\n",
              "10     11                  0.500000  ...        34.551516            0.341901\n",
              "11     12                  0.600001  ...        27.577635            0.327470\n",
              "12     13                  0.699997  ...        20.810594            0.288299\n",
              "13     14                  0.799998  ...        14.015945            0.221909\n",
              "14     15                  0.899999  ...         7.318649            0.130357\n",
              "15     16                  1.000000  ...         0.000000            0.000000\n",
              "\n",
              "[16 rows x 14 columns]"
            ]
          },
          "metadata": {
            "tags": []
          }
        },
        {
          "output_type": "stream",
          "text": [
            "\n"
          ],
          "name": "stdout"
        },
        {
          "output_type": "execute_result",
          "data": {
            "text/plain": [
              ""
            ]
          },
          "metadata": {
            "tags": []
          },
          "execution_count": 24
        }
      ]
    },
    {
      "cell_type": "code",
      "metadata": {
        "id": "0efIfl-3l3Sg"
      },
      "source": [
        "lb = aml.leaderboard"
      ],
      "execution_count": 25,
      "outputs": []
    },
    {
      "cell_type": "code",
      "metadata": {
        "colab": {
          "base_uri": "https://localhost:8080/",
          "height": 901
        },
        "id": "OGny16RfmH9G",
        "outputId": "4f7d6a14-b4a7-4305-a61f-4ee05343162d"
      },
      "source": [
        "#lb.head()\n",
        "lb.head(rows=lb.nrows)"
      ],
      "execution_count": 26,
      "outputs": [
        {
          "output_type": "display_data",
          "data": {
            "text/html": [
              "<table>\n",
              "<thead>\n",
              "<tr><th>model_id                                           </th><th style=\"text-align: right;\">     auc</th><th style=\"text-align: right;\">  logloss</th><th style=\"text-align: right;\">   aucpr</th><th style=\"text-align: right;\">  mean_per_class_error</th><th style=\"text-align: right;\">    rmse</th><th style=\"text-align: right;\">     mse</th></tr>\n",
              "</thead>\n",
              "<tbody>\n",
              "<tr><td>StackedEnsemble_AllModels_AutoML_20210417_205035   </td><td style=\"text-align: right;\">0.733331</td><td style=\"text-align: right;\"> 0.604465</td><td style=\"text-align: right;\">0.72356 </td><td style=\"text-align: right;\">              0.357732</td><td style=\"text-align: right;\">0.456908</td><td style=\"text-align: right;\">0.208765</td></tr>\n",
              "<tr><td>StackedEnsemble_BestOfFamily_AutoML_20210417_205035</td><td style=\"text-align: right;\">0.733316</td><td style=\"text-align: right;\"> 0.604517</td><td style=\"text-align: right;\">0.723493</td><td style=\"text-align: right;\">              0.3636  </td><td style=\"text-align: right;\">0.456923</td><td style=\"text-align: right;\">0.208779</td></tr>\n",
              "<tr><td>GBM_grid__1_AutoML_20210417_205035_model_2         </td><td style=\"text-align: right;\">0.733041</td><td style=\"text-align: right;\"> 0.604877</td><td style=\"text-align: right;\">0.723226</td><td style=\"text-align: right;\">              0.362723</td><td style=\"text-align: right;\">0.457054</td><td style=\"text-align: right;\">0.208899</td></tr>\n",
              "<tr><td>XGBoost_grid__1_AutoML_20210417_205035_model_8     </td><td style=\"text-align: right;\">0.732924</td><td style=\"text-align: right;\"> 0.60488 </td><td style=\"text-align: right;\">0.722913</td><td style=\"text-align: right;\">              0.357504</td><td style=\"text-align: right;\">0.457086</td><td style=\"text-align: right;\">0.208928</td></tr>\n",
              "<tr><td>GBM_grid__1_AutoML_20210417_205035_model_4         </td><td style=\"text-align: right;\">0.732844</td><td style=\"text-align: right;\"> 0.605096</td><td style=\"text-align: right;\">0.722932</td><td style=\"text-align: right;\">              0.357079</td><td style=\"text-align: right;\">0.457145</td><td style=\"text-align: right;\">0.208982</td></tr>\n",
              "<tr><td>GBM_1_AutoML_20210417_205035                       </td><td style=\"text-align: right;\">0.732816</td><td style=\"text-align: right;\"> 0.604879</td><td style=\"text-align: right;\">0.722938</td><td style=\"text-align: right;\">              0.365705</td><td style=\"text-align: right;\">0.457098</td><td style=\"text-align: right;\">0.208938</td></tr>\n",
              "<tr><td>GBM_grid__1_AutoML_20210417_205035_model_8         </td><td style=\"text-align: right;\">0.732752</td><td style=\"text-align: right;\"> 0.605073</td><td style=\"text-align: right;\">0.723066</td><td style=\"text-align: right;\">              0.364917</td><td style=\"text-align: right;\">0.457169</td><td style=\"text-align: right;\">0.209004</td></tr>\n",
              "<tr><td>GBM_2_AutoML_20210417_205035                       </td><td style=\"text-align: right;\">0.732541</td><td style=\"text-align: right;\"> 0.605067</td><td style=\"text-align: right;\">0.722799</td><td style=\"text-align: right;\">              0.364123</td><td style=\"text-align: right;\">0.457194</td><td style=\"text-align: right;\">0.209026</td></tr>\n",
              "<tr><td>XGBoost_grid__1_AutoML_20210417_205035_model_2     </td><td style=\"text-align: right;\">0.732535</td><td style=\"text-align: right;\"> 0.605185</td><td style=\"text-align: right;\">0.722306</td><td style=\"text-align: right;\">              0.355423</td><td style=\"text-align: right;\">0.457223</td><td style=\"text-align: right;\">0.209052</td></tr>\n",
              "<tr><td>GBM_grid__1_AutoML_20210417_205035_model_5         </td><td style=\"text-align: right;\">0.73243 </td><td style=\"text-align: right;\"> 0.605148</td><td style=\"text-align: right;\">0.722764</td><td style=\"text-align: right;\">              0.360686</td><td style=\"text-align: right;\">0.457237</td><td style=\"text-align: right;\">0.209066</td></tr>\n",
              "<tr><td>XGBoost_3_AutoML_20210417_205035                   </td><td style=\"text-align: right;\">0.732364</td><td style=\"text-align: right;\"> 0.605276</td><td style=\"text-align: right;\">0.722594</td><td style=\"text-align: right;\">              0.361264</td><td style=\"text-align: right;\">0.457273</td><td style=\"text-align: right;\">0.209098</td></tr>\n",
              "<tr><td>XGBoost_grid__1_AutoML_20210417_205035_model_4     </td><td style=\"text-align: right;\">0.73233 </td><td style=\"text-align: right;\"> 0.605392</td><td style=\"text-align: right;\">0.722202</td><td style=\"text-align: right;\">              0.35946 </td><td style=\"text-align: right;\">0.457305</td><td style=\"text-align: right;\">0.209128</td></tr>\n",
              "<tr><td>GBM_3_AutoML_20210417_205035                       </td><td style=\"text-align: right;\">0.731864</td><td style=\"text-align: right;\"> 0.605581</td><td style=\"text-align: right;\">0.722067</td><td style=\"text-align: right;\">              0.366326</td><td style=\"text-align: right;\">0.457452</td><td style=\"text-align: right;\">0.209262</td></tr>\n",
              "<tr><td>GBM_grid__1_AutoML_20210417_205035_model_11        </td><td style=\"text-align: right;\">0.731111</td><td style=\"text-align: right;\"> 0.606227</td><td style=\"text-align: right;\">0.721223</td><td style=\"text-align: right;\">              0.36469 </td><td style=\"text-align: right;\">0.457741</td><td style=\"text-align: right;\">0.209527</td></tr>\n",
              "<tr><td>GBM_grid__1_AutoML_20210417_205035_model_6         </td><td style=\"text-align: right;\">0.730632</td><td style=\"text-align: right;\"> 0.606636</td><td style=\"text-align: right;\">0.720562</td><td style=\"text-align: right;\">              0.365607</td><td style=\"text-align: right;\">0.457931</td><td style=\"text-align: right;\">0.209701</td></tr>\n",
              "<tr><td>GLM_1_AutoML_20210417_205035                       </td><td style=\"text-align: right;\">0.730163</td><td style=\"text-align: right;\"> 0.607762</td><td style=\"text-align: right;\">0.71968 </td><td style=\"text-align: right;\">              0.366984</td><td style=\"text-align: right;\">0.458281</td><td style=\"text-align: right;\">0.210022</td></tr>\n",
              "<tr><td>GBM_grid__1_AutoML_20210417_205035_model_10        </td><td style=\"text-align: right;\">0.729514</td><td style=\"text-align: right;\"> 0.607566</td><td style=\"text-align: right;\">0.719705</td><td style=\"text-align: right;\">              0.362005</td><td style=\"text-align: right;\">0.458355</td><td style=\"text-align: right;\">0.210089</td></tr>\n",
              "<tr><td>GBM_grid__1_AutoML_20210417_205035_model_9         </td><td style=\"text-align: right;\">0.729417</td><td style=\"text-align: right;\"> 0.607587</td><td style=\"text-align: right;\">0.719726</td><td style=\"text-align: right;\">              0.356256</td><td style=\"text-align: right;\">0.458378</td><td style=\"text-align: right;\">0.21011 </td></tr>\n",
              "<tr><td>GBM_4_AutoML_20210417_205035                       </td><td style=\"text-align: right;\">0.728516</td><td style=\"text-align: right;\"> 0.608435</td><td style=\"text-align: right;\">0.718729</td><td style=\"text-align: right;\">              0.365948</td><td style=\"text-align: right;\">0.458776</td><td style=\"text-align: right;\">0.210476</td></tr>\n",
              "<tr><td>GBM_5_AutoML_20210417_205035                       </td><td style=\"text-align: right;\">0.726972</td><td style=\"text-align: right;\"> 0.609625</td><td style=\"text-align: right;\">0.717233</td><td style=\"text-align: right;\">              0.370368</td><td style=\"text-align: right;\">0.459342</td><td style=\"text-align: right;\">0.210995</td></tr>\n",
              "<tr><td>GBM_grid__1_AutoML_20210417_205035_model_7         </td><td style=\"text-align: right;\">0.726651</td><td style=\"text-align: right;\"> 0.609817</td><td style=\"text-align: right;\">0.716765</td><td style=\"text-align: right;\">              0.36916 </td><td style=\"text-align: right;\">0.459435</td><td style=\"text-align: right;\">0.21108 </td></tr>\n",
              "<tr><td>XGBoost_grid__1_AutoML_20210417_205035_model_11    </td><td style=\"text-align: right;\">0.724784</td><td style=\"text-align: right;\"> 0.612289</td><td style=\"text-align: right;\">0.713999</td><td style=\"text-align: right;\">              0.367884</td><td style=\"text-align: right;\">0.460413</td><td style=\"text-align: right;\">0.21198 </td></tr>\n",
              "<tr><td>XGBoost_1_AutoML_20210417_205035                   </td><td style=\"text-align: right;\">0.724776</td><td style=\"text-align: right;\"> 0.612516</td><td style=\"text-align: right;\">0.71399 </td><td style=\"text-align: right;\">              0.367506</td><td style=\"text-align: right;\">0.46046 </td><td style=\"text-align: right;\">0.212024</td></tr>\n",
              "<tr><td>XGBoost_grid__1_AutoML_20210417_205035_model_7     </td><td style=\"text-align: right;\">0.724147</td><td style=\"text-align: right;\"> 0.612863</td><td style=\"text-align: right;\">0.714115</td><td style=\"text-align: right;\">              0.37401 </td><td style=\"text-align: right;\">0.460661</td><td style=\"text-align: right;\">0.212208</td></tr>\n",
              "<tr><td>XGBoost_grid__1_AutoML_20210417_205035_model_1     </td><td style=\"text-align: right;\">0.72306 </td><td style=\"text-align: right;\"> 0.614313</td><td style=\"text-align: right;\">0.712075</td><td style=\"text-align: right;\">              0.372684</td><td style=\"text-align: right;\">0.461199</td><td style=\"text-align: right;\">0.212704</td></tr>\n",
              "<tr><td>XGBoost_grid__1_AutoML_20210417_205035_model_12    </td><td style=\"text-align: right;\">0.721682</td><td style=\"text-align: right;\"> 0.613671</td><td style=\"text-align: right;\">0.711523</td><td style=\"text-align: right;\">              0.36625 </td><td style=\"text-align: right;\">0.461255</td><td style=\"text-align: right;\">0.212756</td></tr>\n",
              "<tr><td>GBM_grid__1_AutoML_20210417_205035_model_1         </td><td style=\"text-align: right;\">0.72057 </td><td style=\"text-align: right;\"> 0.615701</td><td style=\"text-align: right;\">0.710377</td><td style=\"text-align: right;\">              0.374693</td><td style=\"text-align: right;\">0.462066</td><td style=\"text-align: right;\">0.213505</td></tr>\n",
              "<tr><td>XGBoost_grid__1_AutoML_20210417_205035_model_5     </td><td style=\"text-align: right;\">0.719739</td><td style=\"text-align: right;\"> 0.616985</td><td style=\"text-align: right;\">0.709505</td><td style=\"text-align: right;\">              0.36947 </td><td style=\"text-align: right;\">0.462562</td><td style=\"text-align: right;\">0.213964</td></tr>\n",
              "<tr><td>XGBoost_grid__1_AutoML_20210417_205035_model_6     </td><td style=\"text-align: right;\">0.717058</td><td style=\"text-align: right;\"> 0.620672</td><td style=\"text-align: right;\">0.707879</td><td style=\"text-align: right;\">              0.376502</td><td style=\"text-align: right;\">0.463964</td><td style=\"text-align: right;\">0.215262</td></tr>\n",
              "<tr><td>XGBoost_grid__1_AutoML_20210417_205035_model_3     </td><td style=\"text-align: right;\">0.714574</td><td style=\"text-align: right;\"> 0.622624</td><td style=\"text-align: right;\">0.704622</td><td style=\"text-align: right;\">              0.385559</td><td style=\"text-align: right;\">0.464987</td><td style=\"text-align: right;\">0.216213</td></tr>\n",
              "<tr><td>GBM_grid__1_AutoML_20210417_205035_model_3         </td><td style=\"text-align: right;\">0.710289</td><td style=\"text-align: right;\"> 0.626746</td><td style=\"text-align: right;\">0.69992 </td><td style=\"text-align: right;\">              0.384625</td><td style=\"text-align: right;\">0.466922</td><td style=\"text-align: right;\">0.218016</td></tr>\n",
              "<tr><td>XGBoost_2_AutoML_20210417_205035                   </td><td style=\"text-align: right;\">0.708796</td><td style=\"text-align: right;\"> 0.629452</td><td style=\"text-align: right;\">0.698532</td><td style=\"text-align: right;\">              0.390924</td><td style=\"text-align: right;\">0.467843</td><td style=\"text-align: right;\">0.218877</td></tr>\n",
              "<tr><td>XGBoost_grid__1_AutoML_20210417_205035_model_9     </td><td style=\"text-align: right;\">0.707425</td><td style=\"text-align: right;\"> 0.63213 </td><td style=\"text-align: right;\">0.697564</td><td style=\"text-align: right;\">              0.383216</td><td style=\"text-align: right;\">0.468755</td><td style=\"text-align: right;\">0.219731</td></tr>\n",
              "<tr><td>XRT_1_AutoML_20210417_205035                       </td><td style=\"text-align: right;\">0.703494</td><td style=\"text-align: right;\"> 0.647408</td><td style=\"text-align: right;\">0.691856</td><td style=\"text-align: right;\">              0.394021</td><td style=\"text-align: right;\">0.470399</td><td style=\"text-align: right;\">0.221275</td></tr>\n",
              "<tr><td>DRF_1_AutoML_20210417_205035                       </td><td style=\"text-align: right;\">0.698967</td><td style=\"text-align: right;\"> 0.654647</td><td style=\"text-align: right;\">0.686738</td><td style=\"text-align: right;\">              0.397683</td><td style=\"text-align: right;\">0.472676</td><td style=\"text-align: right;\">0.223422</td></tr>\n",
              "<tr><td>XGBoost_grid__1_AutoML_20210417_205035_model_10    </td><td style=\"text-align: right;\">0.698957</td><td style=\"text-align: right;\"> 0.645613</td><td style=\"text-align: right;\">0.688235</td><td style=\"text-align: right;\">              0.39699 </td><td style=\"text-align: right;\">0.473765</td><td style=\"text-align: right;\">0.224454</td></tr>\n",
              "<tr><td>DeepLearning_grid__3_AutoML_20210417_205035_model_2</td><td style=\"text-align: right;\">0.561618</td><td style=\"text-align: right;\"> 3.40881 </td><td style=\"text-align: right;\">0.560633</td><td style=\"text-align: right;\">              0.476207</td><td style=\"text-align: right;\">0.699341</td><td style=\"text-align: right;\">0.489078</td></tr>\n",
              "<tr><td>DeepLearning_grid__2_AutoML_20210417_205035_model_1</td><td style=\"text-align: right;\">0.546124</td><td style=\"text-align: right;\"> 2.75879 </td><td style=\"text-align: right;\">0.535693</td><td style=\"text-align: right;\">              0.5     </td><td style=\"text-align: right;\">0.644109</td><td style=\"text-align: right;\">0.414877</td></tr>\n",
              "<tr><td>DeepLearning_1_AutoML_20210417_205035              </td><td style=\"text-align: right;\">0.527528</td><td style=\"text-align: right;\"> 4.55434 </td><td style=\"text-align: right;\">0.510565</td><td style=\"text-align: right;\">              0.5     </td><td style=\"text-align: right;\">0.695352</td><td style=\"text-align: right;\">0.483514</td></tr>\n",
              "<tr><td>DeepLearning_grid__3_AutoML_20210417_205035_model_1</td><td style=\"text-align: right;\">0.522555</td><td style=\"text-align: right;\"> 7.34002 </td><td style=\"text-align: right;\">0.519054</td><td style=\"text-align: right;\">              0.5     </td><td style=\"text-align: right;\">0.703263</td><td style=\"text-align: right;\">0.49458 </td></tr>\n",
              "<tr><td>DeepLearning_grid__1_AutoML_20210417_205035_model_1</td><td style=\"text-align: right;\">0.508332</td><td style=\"text-align: right;\"> 6.3914  </td><td style=\"text-align: right;\">0.502167</td><td style=\"text-align: right;\">              0.5     </td><td style=\"text-align: right;\">0.682851</td><td style=\"text-align: right;\">0.466286</td></tr>\n",
              "</tbody>\n",
              "</table>"
            ]
          },
          "metadata": {
            "tags": []
          }
        },
        {
          "output_type": "execute_result",
          "data": {
            "text/plain": [
              ""
            ]
          },
          "metadata": {
            "tags": []
          },
          "execution_count": 26
        }
      ]
    },
    {
      "cell_type": "markdown",
      "metadata": {
        "id": "oMxa-NhYnSzz"
      },
      "source": [
        "## Saving the Model"
      ]
    },
    {
      "cell_type": "code",
      "metadata": {
        "id": "yCmVzmcCmIAA"
      },
      "source": [
        "saved_model = h2o.save_model(aml.leader, path = \"\", force=True)"
      ],
      "execution_count": 27,
      "outputs": []
    },
    {
      "cell_type": "code",
      "metadata": {
        "id": "WbGKlRr8m-2f"
      },
      "source": [
        "#you can directly load the best model by running the load_model command\n",
        "restored_aml = h2o.load_model(saved_model)"
      ],
      "execution_count": 28,
      "outputs": []
    },
    {
      "cell_type": "markdown",
      "metadata": {
        "id": "C0q4_lcbnWRX"
      },
      "source": [
        "## Check on Validation"
      ]
    },
    {
      "cell_type": "code",
      "metadata": {
        "id": "yB3tVsTNm_uL"
      },
      "source": [
        "perf = aml.leader.model_performance(validation)\n",
        "#perf = restored_aml.model_performance(validation)"
      ],
      "execution_count": 30,
      "outputs": []
    },
    {
      "cell_type": "code",
      "metadata": {
        "colab": {
          "base_uri": "https://localhost:8080/"
        },
        "id": "0-PxVuCOm_w-",
        "outputId": "5a63827e-e782-499f-fde3-3b27718320a3"
      },
      "source": [
        "perf.auc()"
      ],
      "execution_count": 31,
      "outputs": [
        {
          "output_type": "execute_result",
          "data": {
            "text/plain": [
              "0.7349595941637329"
            ]
          },
          "metadata": {
            "tags": []
          },
          "execution_count": 31
        }
      ]
    },
    {
      "cell_type": "code",
      "metadata": {
        "colab": {
          "base_uri": "https://localhost:8080/"
        },
        "id": "SgjbU6N_m_zi",
        "outputId": "cb05f50b-e2cd-43f4-9d77-b05e7f072ce7"
      },
      "source": [
        "perf.accuracy() [0][1]"
      ],
      "execution_count": 32,
      "outputs": [
        {
          "output_type": "execute_result",
          "data": {
            "text/plain": [
              "0.6751679462571977"
            ]
          },
          "metadata": {
            "tags": []
          },
          "execution_count": 32
        }
      ]
    },
    {
      "cell_type": "code",
      "metadata": {
        "colab": {
          "base_uri": "https://localhost:8080/"
        },
        "id": "3gtNlYPjzVmS",
        "outputId": "ed0a31e1-8cc7-4170-a116-0990226b1fdc"
      },
      "source": [
        "perf.rmse()"
      ],
      "execution_count": 33,
      "outputs": [
        {
          "output_type": "execute_result",
          "data": {
            "text/plain": [
              "0.45644475763051967"
            ]
          },
          "metadata": {
            "tags": []
          },
          "execution_count": 33
        }
      ]
    },
    {
      "cell_type": "code",
      "metadata": {
        "id": "CRlGiRGDzZ8E"
      },
      "source": [
        ""
      ],
      "execution_count": null,
      "outputs": []
    }
  ]
}