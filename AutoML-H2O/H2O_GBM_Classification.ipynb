{
  "nbformat": 4,
  "nbformat_minor": 0,
  "metadata": {
    "colab": {
      "name": "H2O_GBM_Classification.ipynb",
      "provenance": [],
      "collapsed_sections": []
    },
    "kernelspec": {
      "name": "python3",
      "display_name": "Python 3"
    },
    "language_info": {
      "name": "python"
    }
  },
  "cells": [
    {
      "cell_type": "code",
      "metadata": {
        "colab": {
          "base_uri": "https://localhost:8080/"
        },
        "id": "wR65V8wfgnD1",
        "outputId": "63eaf57c-6ab8-4a59-85b7-5c89cf1a09dd"
      },
      "source": [
        "pip install h2o"
      ],
      "execution_count": 34,
      "outputs": [
        {
          "output_type": "stream",
          "text": [
            "Requirement already satisfied: h2o in /usr/local/lib/python3.7/dist-packages (3.32.1.1)\n",
            "Requirement already satisfied: colorama>=0.3.8 in /usr/local/lib/python3.7/dist-packages (from h2o) (0.4.4)\n",
            "Requirement already satisfied: tabulate in /usr/local/lib/python3.7/dist-packages (from h2o) (0.8.9)\n",
            "Requirement already satisfied: requests in /usr/local/lib/python3.7/dist-packages (from h2o) (2.23.0)\n",
            "Requirement already satisfied: future in /usr/local/lib/python3.7/dist-packages (from h2o) (0.16.0)\n",
            "Requirement already satisfied: idna<3,>=2.5 in /usr/local/lib/python3.7/dist-packages (from requests->h2o) (2.10)\n",
            "Requirement already satisfied: urllib3!=1.25.0,!=1.25.1,<1.26,>=1.21.1 in /usr/local/lib/python3.7/dist-packages (from requests->h2o) (1.24.3)\n",
            "Requirement already satisfied: chardet<4,>=3.0.2 in /usr/local/lib/python3.7/dist-packages (from requests->h2o) (3.0.4)\n",
            "Requirement already satisfied: certifi>=2017.4.17 in /usr/local/lib/python3.7/dist-packages (from requests->h2o) (2020.12.5)\n"
          ],
          "name": "stdout"
        }
      ]
    },
    {
      "cell_type": "markdown",
      "metadata": {
        "id": "ZWKfgq9ymi9C"
      },
      "source": [
        "### H2O Framework"
      ]
    },
    {
      "cell_type": "code",
      "metadata": {
        "id": "pB54B3V6gpEk"
      },
      "source": [
        "import pandas as pd\n",
        "import h2o"
      ],
      "execution_count": 35,
      "outputs": []
    },
    {
      "cell_type": "markdown",
      "metadata": {
        "id": "VqEi_eYvmsHn"
      },
      "source": [
        "### Adjusting Memory  \n",
        "Number of threads are related to your cpu core count and maximum memory size is related to available memory. You can monitor the current values of these requirements as shown below. Then, you should limit memory and threads in initialization step."
      ]
    },
    {
      "cell_type": "code",
      "metadata": {
        "colab": {
          "base_uri": "https://localhost:8080/"
        },
        "id": "c-ACDebrg54q",
        "outputId": "2b378d22-02ae-4179-dc5a-5e4d8b0c39e3"
      },
      "source": [
        "import multiprocessing\n",
        "print(\"CPU: \",multiprocessing.cpu_count())\n",
        "\n",
        "import psutil\n",
        "print(\"Memory: \",psutil.virtual_memory())"
      ],
      "execution_count": 36,
      "outputs": [
        {
          "output_type": "stream",
          "text": [
            "CPU:  2\n",
            "Memory:  svmem(total=13653573632, available=12277145600, percent=10.1, used=1192243200, free=8669863936, active=1659596800, inactive=2955296768, buffers=83161088, cached=3708305408, shared=1007616, slab=259149824)\n"
          ],
          "name": "stdout"
        }
      ]
    },
    {
      "cell_type": "code",
      "metadata": {
        "colab": {
          "base_uri": "https://localhost:8080/",
          "height": 389
        },
        "id": "YIfQtPoshQFR",
        "outputId": "2c384314-692f-4008-fa5a-439a76a82b99"
      },
      "source": [
        "#h2o.init()\n",
        "h2o.init(ip=\"127.0.0.1\", max_mem_size_GB = 100, nthreads = 5)"
      ],
      "execution_count": 37,
      "outputs": [
        {
          "output_type": "stream",
          "text": [
            "Checking whether there is an H2O instance running at http://127.0.0.1:54321 . connected.\n"
          ],
          "name": "stdout"
        },
        {
          "output_type": "display_data",
          "data": {
            "text/html": [
              "<div style=\"overflow:auto\"><table style=\"width:50%\"><tr><td>H2O_cluster_uptime:</td>\n",
              "<td>11 mins 55 secs</td></tr>\n",
              "<tr><td>H2O_cluster_timezone:</td>\n",
              "<td>Etc/UTC</td></tr>\n",
              "<tr><td>H2O_data_parsing_timezone:</td>\n",
              "<td>UTC</td></tr>\n",
              "<tr><td>H2O_cluster_version:</td>\n",
              "<td>3.32.1.1</td></tr>\n",
              "<tr><td>H2O_cluster_version_age:</td>\n",
              "<td>18 days </td></tr>\n",
              "<tr><td>H2O_cluster_name:</td>\n",
              "<td>H2O_from_python_unknownUser_8oy5ld</td></tr>\n",
              "<tr><td>H2O_cluster_total_nodes:</td>\n",
              "<td>1</td></tr>\n",
              "<tr><td>H2O_cluster_free_memory:</td>\n",
              "<td>99.9 Gb</td></tr>\n",
              "<tr><td>H2O_cluster_total_cores:</td>\n",
              "<td>2</td></tr>\n",
              "<tr><td>H2O_cluster_allowed_cores:</td>\n",
              "<td>2</td></tr>\n",
              "<tr><td>H2O_cluster_status:</td>\n",
              "<td>locked, healthy</td></tr>\n",
              "<tr><td>H2O_connection_url:</td>\n",
              "<td>http://127.0.0.1:54321</td></tr>\n",
              "<tr><td>H2O_connection_proxy:</td>\n",
              "<td>{\"http\": null, \"https\": null}</td></tr>\n",
              "<tr><td>H2O_internal_security:</td>\n",
              "<td>False</td></tr>\n",
              "<tr><td>H2O_API_Extensions:</td>\n",
              "<td>Amazon S3, XGBoost, Algos, AutoML, Core V3, TargetEncoder, Core V4</td></tr>\n",
              "<tr><td>Python_version:</td>\n",
              "<td>3.7.10 final</td></tr></table></div>"
            ],
            "text/plain": [
              "--------------------------  ------------------------------------------------------------------\n",
              "H2O_cluster_uptime:         11 mins 55 secs\n",
              "H2O_cluster_timezone:       Etc/UTC\n",
              "H2O_data_parsing_timezone:  UTC\n",
              "H2O_cluster_version:        3.32.1.1\n",
              "H2O_cluster_version_age:    18 days\n",
              "H2O_cluster_name:           H2O_from_python_unknownUser_8oy5ld\n",
              "H2O_cluster_total_nodes:    1\n",
              "H2O_cluster_free_memory:    99.9 Gb\n",
              "H2O_cluster_total_cores:    2\n",
              "H2O_cluster_allowed_cores:  2\n",
              "H2O_cluster_status:         locked, healthy\n",
              "H2O_connection_url:         http://127.0.0.1:54321\n",
              "H2O_connection_proxy:       {\"http\": null, \"https\": null}\n",
              "H2O_internal_security:      False\n",
              "H2O_API_Extensions:         Amazon S3, XGBoost, Algos, AutoML, Core V3, TargetEncoder, Core V4\n",
              "Python_version:             3.7.10 final\n",
              "--------------------------  ------------------------------------------------------------------"
            ]
          },
          "metadata": {
            "tags": []
          }
        }
      ]
    },
    {
      "cell_type": "markdown",
      "metadata": {
        "id": "dnoOdEOWnGCe"
      },
      "source": [
        "### Data Manipulation\n",
        "h2o frame is a multi-core supporting data manipulation tool h2o frame is equivalent to Pandas."
      ]
    },
    {
      "cell_type": "code",
      "metadata": {
        "colab": {
          "base_uri": "https://localhost:8080/"
        },
        "id": "6eg_MEHehWnJ",
        "outputId": "42618f95-f668-47e9-fb53-5c1b58f73bfb"
      },
      "source": [
        "# Data can be found here https://www.kaggle.com/serengil/recognizing-faces-in-the-wild\n",
        "\n",
        "hf_positive = h2o.import_file('train_true_positive_features.csv')\n",
        "hf_negative = h2o.import_file('train_true_negative_features.csv')\n",
        "hf = hf_positive.rbind(hf_negative)"
      ],
      "execution_count": 38,
      "outputs": [
        {
          "output_type": "stream",
          "text": [
            "Parse progress: |█████████████████████████████████████████████████████████| 100%\n",
            "Parse progress: |█████████████████████████████████████████████████████████| 100%\n"
          ],
          "name": "stdout"
        }
      ]
    },
    {
      "cell_type": "code",
      "metadata": {
        "colab": {
          "base_uri": "https://localhost:8080/"
        },
        "id": "Odfd-ZQ9hdRS",
        "outputId": "b418556e-fda7-4560-b01d-fa42c1a4bd8d"
      },
      "source": [
        "print(\"positive instances: \",hf_positive.shape)\n",
        "print(\"negative instances: \",hf_negative.shape)\n",
        "print(\"total instances: \",hf.shape)"
      ],
      "execution_count": 39,
      "outputs": [
        {
          "output_type": "stream",
          "text": [
            "positive instances:  (165179, 34)\n",
            "negative instances:  (283367, 34)\n",
            "total instances:  (448546, 34)\n"
          ],
          "name": "stdout"
        }
      ]
    },
    {
      "cell_type": "code",
      "metadata": {
        "id": "pOVKW05FhrNw"
      },
      "source": [
        "hf = hf[['vgg_cosine', 'vgg_euclidean_l2'\n",
        "         , 'facenet_cosine', 'facenet_euclidean_l2'\n",
        "         , 'openface_cosine', 'openface_euclidean_l2'\n",
        "         , 'is_related']]"
      ],
      "execution_count": 40,
      "outputs": []
    },
    {
      "cell_type": "code",
      "metadata": {
        "colab": {
          "base_uri": "https://localhost:8080/",
          "height": 250
        },
        "id": "6ELFxGvlhwTV",
        "outputId": "06e1517d-206e-4f78-9117-6fec6d2ec46a"
      },
      "source": [
        "hf.head()"
      ],
      "execution_count": 41,
      "outputs": [
        {
          "output_type": "display_data",
          "data": {
            "text/html": [
              "<table>\n",
              "<thead>\n",
              "<tr><th style=\"text-align: right;\">  vgg_cosine</th><th style=\"text-align: right;\">  vgg_euclidean_l2</th><th style=\"text-align: right;\">  facenet_cosine</th><th style=\"text-align: right;\">  facenet_euclidean_l2</th><th style=\"text-align: right;\">  openface_cosine</th><th style=\"text-align: right;\">  openface_euclidean_l2</th><th style=\"text-align: right;\">  is_related</th></tr>\n",
              "</thead>\n",
              "<tbody>\n",
              "<tr><td style=\"text-align: right;\">    0.618396</td><td style=\"text-align: right;\">           1.11211</td><td style=\"text-align: right;\">         1.25131</td><td style=\"text-align: right;\">               1.58197</td><td style=\"text-align: right;\">         1.12544 </td><td style=\"text-align: right;\">                1.50029</td><td style=\"text-align: right;\">           1</td></tr>\n",
              "<tr><td style=\"text-align: right;\">    0.601191</td><td style=\"text-align: right;\">           1.09653</td><td style=\"text-align: right;\">         1.14205</td><td style=\"text-align: right;\">               1.51133</td><td style=\"text-align: right;\">         1.08315 </td><td style=\"text-align: right;\">                1.47183</td><td style=\"text-align: right;\">           1</td></tr>\n",
              "<tr><td style=\"text-align: right;\">    0.543063</td><td style=\"text-align: right;\">           1.04217</td><td style=\"text-align: right;\">         1.10449</td><td style=\"text-align: right;\">               1.48627</td><td style=\"text-align: right;\">         1.14981 </td><td style=\"text-align: right;\">                1.51645</td><td style=\"text-align: right;\">           1</td></tr>\n",
              "<tr><td style=\"text-align: right;\">    0.618544</td><td style=\"text-align: right;\">           1.11224</td><td style=\"text-align: right;\">         1.24833</td><td style=\"text-align: right;\">               1.58008</td><td style=\"text-align: right;\">         1.09367 </td><td style=\"text-align: right;\">                1.47897</td><td style=\"text-align: right;\">           1</td></tr>\n",
              "<tr><td style=\"text-align: right;\">    0.60665 </td><td style=\"text-align: right;\">           1.1015 </td><td style=\"text-align: right;\">         1.15115</td><td style=\"text-align: right;\">               1.51733</td><td style=\"text-align: right;\">         1.11618 </td><td style=\"text-align: right;\">                1.49411</td><td style=\"text-align: right;\">           1</td></tr>\n",
              "<tr><td style=\"text-align: right;\">    0.630702</td><td style=\"text-align: right;\">           1.12312</td><td style=\"text-align: right;\">         1.22153</td><td style=\"text-align: right;\">               1.56303</td><td style=\"text-align: right;\">         1.20384 </td><td style=\"text-align: right;\">                1.55167</td><td style=\"text-align: right;\">           1</td></tr>\n",
              "<tr><td style=\"text-align: right;\">    0.742856</td><td style=\"text-align: right;\">           1.2189 </td><td style=\"text-align: right;\">         1.09549</td><td style=\"text-align: right;\">               1.48019</td><td style=\"text-align: right;\">         1.07032 </td><td style=\"text-align: right;\">                1.4631 </td><td style=\"text-align: right;\">           1</td></tr>\n",
              "<tr><td style=\"text-align: right;\">    0.558462</td><td style=\"text-align: right;\">           1.05685</td><td style=\"text-align: right;\">         1.11984</td><td style=\"text-align: right;\">               1.49655</td><td style=\"text-align: right;\">         1.24634 </td><td style=\"text-align: right;\">                1.57882</td><td style=\"text-align: right;\">           1</td></tr>\n",
              "<tr><td style=\"text-align: right;\">    0.648851</td><td style=\"text-align: right;\">           1.13917</td><td style=\"text-align: right;\">         1.10773</td><td style=\"text-align: right;\">               1.48844</td><td style=\"text-align: right;\">         0.612283</td><td style=\"text-align: right;\">                1.1066 </td><td style=\"text-align: right;\">           1</td></tr>\n",
              "<tr><td style=\"text-align: right;\">    0.677681</td><td style=\"text-align: right;\">           1.1642 </td><td style=\"text-align: right;\">         1.03272</td><td style=\"text-align: right;\">               1.43716</td><td style=\"text-align: right;\">         0.571711</td><td style=\"text-align: right;\">                1.06931</td><td style=\"text-align: right;\">           1</td></tr>\n",
              "</tbody>\n",
              "</table>"
            ]
          },
          "metadata": {
            "tags": []
          }
        },
        {
          "output_type": "execute_result",
          "data": {
            "text/plain": [
              ""
            ]
          },
          "metadata": {
            "tags": []
          },
          "execution_count": 41
        }
      ]
    },
    {
      "cell_type": "code",
      "metadata": {
        "id": "K0D2MWxFhyL7"
      },
      "source": [
        "#convert target label to factor because this is a binary classification\n",
        "#otherwise, there would be a regression problem\n",
        "hf['is_related'] = hf['is_related'].asfactor()"
      ],
      "execution_count": 42,
      "outputs": []
    },
    {
      "cell_type": "markdown",
      "metadata": {
        "id": "el5jc3HVnVmd"
      },
      "source": [
        "### Train/Test Split"
      ]
    },
    {
      "cell_type": "code",
      "metadata": {
        "id": "kCZUg_Rmh3k4"
      },
      "source": [
        "#70% train, 15% test, 15% validation\n",
        "train, test, validation = hf.split_frame(ratios=[0.70, 0.15], seed=17)"
      ],
      "execution_count": 43,
      "outputs": []
    },
    {
      "cell_type": "code",
      "metadata": {
        "colab": {
          "base_uri": "https://localhost:8080/"
        },
        "id": "3OCSYFe_h6Co",
        "outputId": "61f4bf0d-9f82-4af2-ac58-731a6b1c5a59"
      },
      "source": [
        "print(\"train set size: \",train.shape)\n",
        "print(\"test set size: \", test.shape)\n",
        "print(\"validation set size: \", validation.shape)"
      ],
      "execution_count": 44,
      "outputs": [
        {
          "output_type": "stream",
          "text": [
            "train set size:  (314122, 7)\n",
            "test set size:  (67160, 7)\n",
            "validation set size:  (67264, 7)\n"
          ],
          "name": "stdout"
        }
      ]
    },
    {
      "cell_type": "markdown",
      "metadata": {
        "id": "JwFq8q6UnjVG"
      },
      "source": [
        "### Modelling"
      ]
    },
    {
      "cell_type": "code",
      "metadata": {
        "id": "vacUdIQsh84H"
      },
      "source": [
        "from h2o.estimators.gbm import H2OGradientBoostingEstimator"
      ],
      "execution_count": 45,
      "outputs": []
    },
    {
      "cell_type": "code",
      "metadata": {
        "id": "GtQIuMB0h_ZQ"
      },
      "source": [
        "model = H2OGradientBoostingEstimator(\n",
        "    ntrees = 1000\n",
        "    , learn_rate = 0.01\n",
        "    , stopping_rounds = 50\n",
        "    , stopping_metric = \"AUC\" # for more metrics visit https://docs.h2o.ai/h2o/latest-stable/h2o-docs/data-science/algo-params/stopping_metric.html\n",
        ")"
      ],
      "execution_count": 62,
      "outputs": []
    },
    {
      "cell_type": "code",
      "metadata": {
        "colab": {
          "base_uri": "https://localhost:8080/"
        },
        "id": "CsvzcGAUihff",
        "outputId": "47cfa686-df58-410a-b6cc-772ffef0d5a7"
      },
      "source": [
        "hf.names"
      ],
      "execution_count": 47,
      "outputs": [
        {
          "output_type": "execute_result",
          "data": {
            "text/plain": [
              "['vgg_cosine',\n",
              " 'vgg_euclidean_l2',\n",
              " 'facenet_cosine',\n",
              " 'facenet_euclidean_l2',\n",
              " 'openface_cosine',\n",
              " 'openface_euclidean_l2',\n",
              " 'is_related']"
            ]
          },
          "metadata": {
            "tags": []
          },
          "execution_count": 47
        }
      ]
    },
    {
      "cell_type": "markdown",
      "metadata": {
        "id": "hzYS6y45oBAO"
      },
      "source": [
        "### Allocating label and the features and Model Building"
      ]
    },
    {
      "cell_type": "code",
      "metadata": {
        "colab": {
          "base_uri": "https://localhost:8080/"
        },
        "id": "2p7srvBaiBh9",
        "outputId": "eae1acaa-4305-4975-dc5b-f9fc4df1677c"
      },
      "source": [
        "model.train(x = hf.names[0:-1], y = hf.names[-1]\n",
        "    , training_frame = train\n",
        "    , validation_frame = test\n",
        "    #, verbose = True\n",
        "    , model_id = \"GBM_Kinship\"\n",
        ")"
      ],
      "execution_count": 48,
      "outputs": [
        {
          "output_type": "stream",
          "text": [
            "gbm Model Build progress: |███████████████████████████████████████████████| 100%\n"
          ],
          "name": "stdout"
        }
      ]
    },
    {
      "cell_type": "code",
      "metadata": {
        "colab": {
          "base_uri": "https://localhost:8080/",
          "height": 1000
        },
        "id": "1OkctJCJiEX8",
        "outputId": "bf999a70-7ab1-4879-b74a-c0c1fdf50e88"
      },
      "source": [
        "model"
      ],
      "execution_count": 49,
      "outputs": [
        {
          "output_type": "stream",
          "text": [
            "Model Details\n",
            "=============\n",
            "H2OGradientBoostingEstimator :  Gradient Boosting Machine\n",
            "Model Key:  GBM_Kinship\n",
            "\n",
            "\n",
            "Model Summary: \n"
          ],
          "name": "stdout"
        },
        {
          "output_type": "display_data",
          "data": {
            "text/html": [
              "<div>\n",
              "<style scoped>\n",
              "    .dataframe tbody tr th:only-of-type {\n",
              "        vertical-align: middle;\n",
              "    }\n",
              "\n",
              "    .dataframe tbody tr th {\n",
              "        vertical-align: top;\n",
              "    }\n",
              "\n",
              "    .dataframe thead th {\n",
              "        text-align: right;\n",
              "    }\n",
              "</style>\n",
              "<table border=\"1\" class=\"dataframe\">\n",
              "  <thead>\n",
              "    <tr style=\"text-align: right;\">\n",
              "      <th></th>\n",
              "      <th></th>\n",
              "      <th>number_of_trees</th>\n",
              "      <th>number_of_internal_trees</th>\n",
              "      <th>model_size_in_bytes</th>\n",
              "      <th>min_depth</th>\n",
              "      <th>max_depth</th>\n",
              "      <th>mean_depth</th>\n",
              "      <th>min_leaves</th>\n",
              "      <th>max_leaves</th>\n",
              "      <th>mean_leaves</th>\n",
              "    </tr>\n",
              "  </thead>\n",
              "  <tbody>\n",
              "    <tr>\n",
              "      <th>0</th>\n",
              "      <td></td>\n",
              "      <td>1000.0</td>\n",
              "      <td>1000.0</td>\n",
              "      <td>268752.0</td>\n",
              "      <td>0.0</td>\n",
              "      <td>5.0</td>\n",
              "      <td>2.695</td>\n",
              "      <td>1.0</td>\n",
              "      <td>32.0</td>\n",
              "      <td>16.503</td>\n",
              "    </tr>\n",
              "  </tbody>\n",
              "</table>\n",
              "</div>"
            ],
            "text/plain": [
              "     number_of_trees  ...  max_leaves  mean_leaves\n",
              "0             1000.0  ...        32.0       16.503\n",
              "\n",
              "[1 rows x 10 columns]"
            ]
          },
          "metadata": {
            "tags": []
          }
        },
        {
          "output_type": "stream",
          "text": [
            "\n",
            "\n",
            "ModelMetricsBinomial: gbm\n",
            "** Reported on train data. **\n",
            "\n",
            "MSE: 0.19740943929831967\n",
            "RMSE: 0.4443078204334464\n",
            "LogLoss: 0.5789539838842191\n",
            "Mean Per-Class Error: 0.33328667895643416\n",
            "AUC: 0.7275750467188149\n",
            "AUCPR: 0.612898034636261\n",
            "Gini: 0.4551500934376298\n",
            "\n",
            "Confusion Matrix (Act/Pred) for max f1 @ threshold = 0.29879537180277466: \n"
          ],
          "name": "stdout"
        },
        {
          "output_type": "display_data",
          "data": {
            "text/html": [
              "<div>\n",
              "<style scoped>\n",
              "    .dataframe tbody tr th:only-of-type {\n",
              "        vertical-align: middle;\n",
              "    }\n",
              "\n",
              "    .dataframe tbody tr th {\n",
              "        vertical-align: top;\n",
              "    }\n",
              "\n",
              "    .dataframe thead th {\n",
              "        text-align: right;\n",
              "    }\n",
              "</style>\n",
              "<table border=\"1\" class=\"dataframe\">\n",
              "  <thead>\n",
              "    <tr style=\"text-align: right;\">\n",
              "      <th></th>\n",
              "      <th></th>\n",
              "      <th>0</th>\n",
              "      <th>1</th>\n",
              "      <th>Error</th>\n",
              "      <th>Rate</th>\n",
              "    </tr>\n",
              "  </thead>\n",
              "  <tbody>\n",
              "    <tr>\n",
              "      <th>0</th>\n",
              "      <td>0</td>\n",
              "      <td>106889.0</td>\n",
              "      <td>91478.0</td>\n",
              "      <td>0.4612</td>\n",
              "      <td>(91478.0/198367.0)</td>\n",
              "    </tr>\n",
              "    <tr>\n",
              "      <th>1</th>\n",
              "      <td>1</td>\n",
              "      <td>25984.0</td>\n",
              "      <td>89771.0</td>\n",
              "      <td>0.2245</td>\n",
              "      <td>(25984.0/115755.0)</td>\n",
              "    </tr>\n",
              "    <tr>\n",
              "      <th>2</th>\n",
              "      <td>Total</td>\n",
              "      <td>132873.0</td>\n",
              "      <td>181249.0</td>\n",
              "      <td>0.3739</td>\n",
              "      <td>(117462.0/314122.0)</td>\n",
              "    </tr>\n",
              "  </tbody>\n",
              "</table>\n",
              "</div>"
            ],
            "text/plain": [
              "                 0         1   Error                  Rate\n",
              "0      0  106889.0   91478.0  0.4612    (91478.0/198367.0)\n",
              "1      1   25984.0   89771.0  0.2245    (25984.0/115755.0)\n",
              "2  Total  132873.0  181249.0  0.3739   (117462.0/314122.0)"
            ]
          },
          "metadata": {
            "tags": []
          }
        },
        {
          "output_type": "stream",
          "text": [
            "\n",
            "Maximum Metrics: Maximum metrics at their respective thresholds\n"
          ],
          "name": "stdout"
        },
        {
          "output_type": "display_data",
          "data": {
            "text/html": [
              "<div>\n",
              "<style scoped>\n",
              "    .dataframe tbody tr th:only-of-type {\n",
              "        vertical-align: middle;\n",
              "    }\n",
              "\n",
              "    .dataframe tbody tr th {\n",
              "        vertical-align: top;\n",
              "    }\n",
              "\n",
              "    .dataframe thead th {\n",
              "        text-align: right;\n",
              "    }\n",
              "</style>\n",
              "<table border=\"1\" class=\"dataframe\">\n",
              "  <thead>\n",
              "    <tr style=\"text-align: right;\">\n",
              "      <th></th>\n",
              "      <th>metric</th>\n",
              "      <th>threshold</th>\n",
              "      <th>value</th>\n",
              "      <th>idx</th>\n",
              "    </tr>\n",
              "  </thead>\n",
              "  <tbody>\n",
              "    <tr>\n",
              "      <th>0</th>\n",
              "      <td>max f1</td>\n",
              "      <td>0.298795</td>\n",
              "      <td>0.604510</td>\n",
              "      <td>265.0</td>\n",
              "    </tr>\n",
              "    <tr>\n",
              "      <th>1</th>\n",
              "      <td>max f2</td>\n",
              "      <td>0.155905</td>\n",
              "      <td>0.753297</td>\n",
              "      <td>352.0</td>\n",
              "    </tr>\n",
              "    <tr>\n",
              "      <th>2</th>\n",
              "      <td>max f0point5</td>\n",
              "      <td>0.457630</td>\n",
              "      <td>0.579485</td>\n",
              "      <td>174.0</td>\n",
              "    </tr>\n",
              "    <tr>\n",
              "      <th>3</th>\n",
              "      <td>max accuracy</td>\n",
              "      <td>0.514940</td>\n",
              "      <td>0.697863</td>\n",
              "      <td>145.0</td>\n",
              "    </tr>\n",
              "    <tr>\n",
              "      <th>4</th>\n",
              "      <td>max precision</td>\n",
              "      <td>0.928900</td>\n",
              "      <td>1.000000</td>\n",
              "      <td>0.0</td>\n",
              "    </tr>\n",
              "    <tr>\n",
              "      <th>5</th>\n",
              "      <td>max recall</td>\n",
              "      <td>0.064194</td>\n",
              "      <td>1.000000</td>\n",
              "      <td>395.0</td>\n",
              "    </tr>\n",
              "    <tr>\n",
              "      <th>6</th>\n",
              "      <td>max specificity</td>\n",
              "      <td>0.928900</td>\n",
              "      <td>1.000000</td>\n",
              "      <td>0.0</td>\n",
              "    </tr>\n",
              "    <tr>\n",
              "      <th>7</th>\n",
              "      <td>max absolute_mcc</td>\n",
              "      <td>0.394644</td>\n",
              "      <td>0.325169</td>\n",
              "      <td>209.0</td>\n",
              "    </tr>\n",
              "    <tr>\n",
              "      <th>8</th>\n",
              "      <td>max min_per_class_accuracy</td>\n",
              "      <td>0.363702</td>\n",
              "      <td>0.666205</td>\n",
              "      <td>226.0</td>\n",
              "    </tr>\n",
              "    <tr>\n",
              "      <th>9</th>\n",
              "      <td>max mean_per_class_accuracy</td>\n",
              "      <td>0.358648</td>\n",
              "      <td>0.666713</td>\n",
              "      <td>229.0</td>\n",
              "    </tr>\n",
              "    <tr>\n",
              "      <th>10</th>\n",
              "      <td>max tns</td>\n",
              "      <td>0.928900</td>\n",
              "      <td>198367.000000</td>\n",
              "      <td>0.0</td>\n",
              "    </tr>\n",
              "    <tr>\n",
              "      <th>11</th>\n",
              "      <td>max fns</td>\n",
              "      <td>0.928900</td>\n",
              "      <td>115691.000000</td>\n",
              "      <td>0.0</td>\n",
              "    </tr>\n",
              "    <tr>\n",
              "      <th>12</th>\n",
              "      <td>max fps</td>\n",
              "      <td>0.046803</td>\n",
              "      <td>198367.000000</td>\n",
              "      <td>399.0</td>\n",
              "    </tr>\n",
              "    <tr>\n",
              "      <th>13</th>\n",
              "      <td>max tps</td>\n",
              "      <td>0.064194</td>\n",
              "      <td>115755.000000</td>\n",
              "      <td>395.0</td>\n",
              "    </tr>\n",
              "    <tr>\n",
              "      <th>14</th>\n",
              "      <td>max tnr</td>\n",
              "      <td>0.928900</td>\n",
              "      <td>1.000000</td>\n",
              "      <td>0.0</td>\n",
              "    </tr>\n",
              "    <tr>\n",
              "      <th>15</th>\n",
              "      <td>max fnr</td>\n",
              "      <td>0.928900</td>\n",
              "      <td>0.999447</td>\n",
              "      <td>0.0</td>\n",
              "    </tr>\n",
              "    <tr>\n",
              "      <th>16</th>\n",
              "      <td>max fpr</td>\n",
              "      <td>0.046803</td>\n",
              "      <td>1.000000</td>\n",
              "      <td>399.0</td>\n",
              "    </tr>\n",
              "    <tr>\n",
              "      <th>17</th>\n",
              "      <td>max tpr</td>\n",
              "      <td>0.064194</td>\n",
              "      <td>1.000000</td>\n",
              "      <td>395.0</td>\n",
              "    </tr>\n",
              "  </tbody>\n",
              "</table>\n",
              "</div>"
            ],
            "text/plain": [
              "                         metric  threshold          value    idx\n",
              "0                        max f1   0.298795       0.604510  265.0\n",
              "1                        max f2   0.155905       0.753297  352.0\n",
              "2                  max f0point5   0.457630       0.579485  174.0\n",
              "3                  max accuracy   0.514940       0.697863  145.0\n",
              "4                 max precision   0.928900       1.000000    0.0\n",
              "5                    max recall   0.064194       1.000000  395.0\n",
              "6               max specificity   0.928900       1.000000    0.0\n",
              "7              max absolute_mcc   0.394644       0.325169  209.0\n",
              "8    max min_per_class_accuracy   0.363702       0.666205  226.0\n",
              "9   max mean_per_class_accuracy   0.358648       0.666713  229.0\n",
              "10                      max tns   0.928900  198367.000000    0.0\n",
              "11                      max fns   0.928900  115691.000000    0.0\n",
              "12                      max fps   0.046803  198367.000000  399.0\n",
              "13                      max tps   0.064194  115755.000000  395.0\n",
              "14                      max tnr   0.928900       1.000000    0.0\n",
              "15                      max fnr   0.928900       0.999447    0.0\n",
              "16                      max fpr   0.046803       1.000000  399.0\n",
              "17                      max tpr   0.064194       1.000000  395.0"
            ]
          },
          "metadata": {
            "tags": []
          }
        },
        {
          "output_type": "stream",
          "text": [
            "\n",
            "Gains/Lift Table: Avg response rate: 36.85 %, avg score: 36.85 %\n"
          ],
          "name": "stdout"
        },
        {
          "output_type": "display_data",
          "data": {
            "text/html": [
              "<div>\n",
              "<style scoped>\n",
              "    .dataframe tbody tr th:only-of-type {\n",
              "        vertical-align: middle;\n",
              "    }\n",
              "\n",
              "    .dataframe tbody tr th {\n",
              "        vertical-align: top;\n",
              "    }\n",
              "\n",
              "    .dataframe thead th {\n",
              "        text-align: right;\n",
              "    }\n",
              "</style>\n",
              "<table border=\"1\" class=\"dataframe\">\n",
              "  <thead>\n",
              "    <tr style=\"text-align: right;\">\n",
              "      <th></th>\n",
              "      <th>group</th>\n",
              "      <th>cumulative_data_fraction</th>\n",
              "      <th>lower_threshold</th>\n",
              "      <th>lift</th>\n",
              "      <th>cumulative_lift</th>\n",
              "      <th>response_rate</th>\n",
              "      <th>score</th>\n",
              "      <th>cumulative_response_rate</th>\n",
              "      <th>cumulative_score</th>\n",
              "      <th>capture_rate</th>\n",
              "      <th>cumulative_capture_rate</th>\n",
              "      <th>gain</th>\n",
              "      <th>cumulative_gain</th>\n",
              "      <th>kolmogorov_smirnov</th>\n",
              "    </tr>\n",
              "  </thead>\n",
              "  <tbody>\n",
              "    <tr>\n",
              "      <th>0</th>\n",
              "      <td>1</td>\n",
              "      <td>0.010002</td>\n",
              "      <td>0.828712</td>\n",
              "      <td>2.402755</td>\n",
              "      <td>2.402755</td>\n",
              "      <td>0.885423</td>\n",
              "      <td>0.864628</td>\n",
              "      <td>0.885423</td>\n",
              "      <td>0.864628</td>\n",
              "      <td>0.024034</td>\n",
              "      <td>0.024034</td>\n",
              "      <td>140.275528</td>\n",
              "      <td>140.275528</td>\n",
              "      <td>0.022219</td>\n",
              "    </tr>\n",
              "    <tr>\n",
              "      <th>1</th>\n",
              "      <td>2</td>\n",
              "      <td>0.020002</td>\n",
              "      <td>0.786386</td>\n",
              "      <td>2.216042</td>\n",
              "      <td>2.309414</td>\n",
              "      <td>0.816619</td>\n",
              "      <td>0.805583</td>\n",
              "      <td>0.851027</td>\n",
              "      <td>0.835110</td>\n",
              "      <td>0.022159</td>\n",
              "      <td>0.046192</td>\n",
              "      <td>121.604221</td>\n",
              "      <td>130.941360</td>\n",
              "      <td>0.041474</td>\n",
              "    </tr>\n",
              "    <tr>\n",
              "      <th>2</th>\n",
              "      <td>3</td>\n",
              "      <td>0.030007</td>\n",
              "      <td>0.763294</td>\n",
              "      <td>2.107570</td>\n",
              "      <td>2.242111</td>\n",
              "      <td>0.776647</td>\n",
              "      <td>0.773547</td>\n",
              "      <td>0.826225</td>\n",
              "      <td>0.814583</td>\n",
              "      <td>0.021088</td>\n",
              "      <td>0.067280</td>\n",
              "      <td>110.756993</td>\n",
              "      <td>124.211096</td>\n",
              "      <td>0.059023</td>\n",
              "    </tr>\n",
              "    <tr>\n",
              "      <th>3</th>\n",
              "      <td>4</td>\n",
              "      <td>0.040000</td>\n",
              "      <td>0.742632</td>\n",
              "      <td>2.086914</td>\n",
              "      <td>2.203340</td>\n",
              "      <td>0.769035</td>\n",
              "      <td>0.753464</td>\n",
              "      <td>0.811938</td>\n",
              "      <td>0.799314</td>\n",
              "      <td>0.020854</td>\n",
              "      <td>0.088134</td>\n",
              "      <td>108.691396</td>\n",
              "      <td>120.333950</td>\n",
              "      <td>0.076222</td>\n",
              "    </tr>\n",
              "    <tr>\n",
              "      <th>4</th>\n",
              "      <td>5</td>\n",
              "      <td>0.050003</td>\n",
              "      <td>0.719768</td>\n",
              "      <td>2.007190</td>\n",
              "      <td>2.164102</td>\n",
              "      <td>0.739656</td>\n",
              "      <td>0.731279</td>\n",
              "      <td>0.797479</td>\n",
              "      <td>0.785704</td>\n",
              "      <td>0.020077</td>\n",
              "      <td>0.108211</td>\n",
              "      <td>100.719025</td>\n",
              "      <td>116.410216</td>\n",
              "      <td>0.092175</td>\n",
              "    </tr>\n",
              "    <tr>\n",
              "      <th>5</th>\n",
              "      <td>6</td>\n",
              "      <td>0.100012</td>\n",
              "      <td>0.640659</td>\n",
              "      <td>1.847527</td>\n",
              "      <td>2.005805</td>\n",
              "      <td>0.680820</td>\n",
              "      <td>0.675509</td>\n",
              "      <td>0.739146</td>\n",
              "      <td>0.730603</td>\n",
              "      <td>0.092393</td>\n",
              "      <td>0.200605</td>\n",
              "      <td>84.752721</td>\n",
              "      <td>100.580461</td>\n",
              "      <td>0.159292</td>\n",
              "    </tr>\n",
              "    <tr>\n",
              "      <th>6</th>\n",
              "      <td>7</td>\n",
              "      <td>0.150002</td>\n",
              "      <td>0.578208</td>\n",
              "      <td>1.665916</td>\n",
              "      <td>1.892532</td>\n",
              "      <td>0.613895</td>\n",
              "      <td>0.608137</td>\n",
              "      <td>0.697404</td>\n",
              "      <td>0.689790</td>\n",
              "      <td>0.083279</td>\n",
              "      <td>0.283884</td>\n",
              "      <td>66.591561</td>\n",
              "      <td>89.253232</td>\n",
              "      <td>0.212007</td>\n",
              "    </tr>\n",
              "    <tr>\n",
              "      <th>7</th>\n",
              "      <td>8</td>\n",
              "      <td>0.200002</td>\n",
              "      <td>0.527343</td>\n",
              "      <td>1.504394</td>\n",
              "      <td>1.795499</td>\n",
              "      <td>0.554374</td>\n",
              "      <td>0.554116</td>\n",
              "      <td>0.661647</td>\n",
              "      <td>0.655872</td>\n",
              "      <td>0.075219</td>\n",
              "      <td>0.359103</td>\n",
              "      <td>50.439384</td>\n",
              "      <td>79.549924</td>\n",
              "      <td>0.251943</td>\n",
              "    </tr>\n",
              "    <tr>\n",
              "      <th>8</th>\n",
              "      <td>9</td>\n",
              "      <td>0.300024</td>\n",
              "      <td>0.455729</td>\n",
              "      <td>1.332786</td>\n",
              "      <td>1.641240</td>\n",
              "      <td>0.491136</td>\n",
              "      <td>0.489654</td>\n",
              "      <td>0.604802</td>\n",
              "      <td>0.600458</td>\n",
              "      <td>0.133307</td>\n",
              "      <td>0.492411</td>\n",
              "      <td>33.278565</td>\n",
              "      <td>64.124010</td>\n",
              "      <td>0.304653</td>\n",
              "    </tr>\n",
              "    <tr>\n",
              "      <th>9</th>\n",
              "      <td>10</td>\n",
              "      <td>0.400001</td>\n",
              "      <td>0.396810</td>\n",
              "      <td>1.156587</td>\n",
              "      <td>1.520105</td>\n",
              "      <td>0.426206</td>\n",
              "      <td>0.426881</td>\n",
              "      <td>0.560164</td>\n",
              "      <td>0.557074</td>\n",
              "      <td>0.115632</td>\n",
              "      <td>0.608043</td>\n",
              "      <td>15.658664</td>\n",
              "      <td>52.010470</td>\n",
              "      <td>0.329443</td>\n",
              "    </tr>\n",
              "    <tr>\n",
              "      <th>10</th>\n",
              "      <td>11</td>\n",
              "      <td>0.500000</td>\n",
              "      <td>0.341210</td>\n",
              "      <td>0.996076</td>\n",
              "      <td>1.415300</td>\n",
              "      <td>0.367057</td>\n",
              "      <td>0.368175</td>\n",
              "      <td>0.521543</td>\n",
              "      <td>0.519294</td>\n",
              "      <td>0.099607</td>\n",
              "      <td>0.707650</td>\n",
              "      <td>-0.392437</td>\n",
              "      <td>41.529956</td>\n",
              "      <td>0.328822</td>\n",
              "    </tr>\n",
              "    <tr>\n",
              "      <th>11</th>\n",
              "      <td>12</td>\n",
              "      <td>0.600003</td>\n",
              "      <td>0.286003</td>\n",
              "      <td>0.847804</td>\n",
              "      <td>1.320715</td>\n",
              "      <td>0.312418</td>\n",
              "      <td>0.313215</td>\n",
              "      <td>0.486688</td>\n",
              "      <td>0.484947</td>\n",
              "      <td>0.084783</td>\n",
              "      <td>0.792432</td>\n",
              "      <td>-15.219644</td>\n",
              "      <td>32.071488</td>\n",
              "      <td>0.304720</td>\n",
              "    </tr>\n",
              "    <tr>\n",
              "      <th>12</th>\n",
              "      <td>13</td>\n",
              "      <td>0.699999</td>\n",
              "      <td>0.240192</td>\n",
              "      <td>0.723107</td>\n",
              "      <td>1.235345</td>\n",
              "      <td>0.266467</td>\n",
              "      <td>0.262708</td>\n",
              "      <td>0.455229</td>\n",
              "      <td>0.453200</td>\n",
              "      <td>0.072308</td>\n",
              "      <td>0.864740</td>\n",
              "      <td>-27.689346</td>\n",
              "      <td>23.534537</td>\n",
              "      <td>0.260875</td>\n",
              "    </tr>\n",
              "    <tr>\n",
              "      <th>13</th>\n",
              "      <td>14</td>\n",
              "      <td>0.799998</td>\n",
              "      <td>0.196423</td>\n",
              "      <td>0.587970</td>\n",
              "      <td>1.154424</td>\n",
              "      <td>0.216669</td>\n",
              "      <td>0.217394</td>\n",
              "      <td>0.425409</td>\n",
              "      <td>0.423724</td>\n",
              "      <td>0.058797</td>\n",
              "      <td>0.923537</td>\n",
              "      <td>-41.203029</td>\n",
              "      <td>15.442373</td>\n",
              "      <td>0.195628</td>\n",
              "    </tr>\n",
              "    <tr>\n",
              "      <th>14</th>\n",
              "      <td>15</td>\n",
              "      <td>0.899997</td>\n",
              "      <td>0.153484</td>\n",
              "      <td>0.462618</td>\n",
              "      <td>1.077557</td>\n",
              "      <td>0.170476</td>\n",
              "      <td>0.176456</td>\n",
              "      <td>0.397083</td>\n",
              "      <td>0.396250</td>\n",
              "      <td>0.046262</td>\n",
              "      <td>0.969798</td>\n",
              "      <td>-53.738205</td>\n",
              "      <td>7.755669</td>\n",
              "      <td>0.110532</td>\n",
              "    </tr>\n",
              "    <tr>\n",
              "      <th>15</th>\n",
              "      <td>16</td>\n",
              "      <td>1.000000</td>\n",
              "      <td>0.030628</td>\n",
              "      <td>0.302009</td>\n",
              "      <td>1.000000</td>\n",
              "      <td>0.111292</td>\n",
              "      <td>0.118801</td>\n",
              "      <td>0.368503</td>\n",
              "      <td>0.368504</td>\n",
              "      <td>0.030202</td>\n",
              "      <td>1.000000</td>\n",
              "      <td>-69.799050</td>\n",
              "      <td>0.000000</td>\n",
              "      <td>0.000000</td>\n",
              "    </tr>\n",
              "  </tbody>\n",
              "</table>\n",
              "</div>"
            ],
            "text/plain": [
              "    group  cumulative_data_fraction  ...  cumulative_gain  kolmogorov_smirnov\n",
              "0       1                  0.010002  ...       140.275528            0.022219\n",
              "1       2                  0.020002  ...       130.941360            0.041474\n",
              "2       3                  0.030007  ...       124.211096            0.059023\n",
              "3       4                  0.040000  ...       120.333950            0.076222\n",
              "4       5                  0.050003  ...       116.410216            0.092175\n",
              "5       6                  0.100012  ...       100.580461            0.159292\n",
              "6       7                  0.150002  ...        89.253232            0.212007\n",
              "7       8                  0.200002  ...        79.549924            0.251943\n",
              "8       9                  0.300024  ...        64.124010            0.304653\n",
              "9      10                  0.400001  ...        52.010470            0.329443\n",
              "10     11                  0.500000  ...        41.529956            0.328822\n",
              "11     12                  0.600003  ...        32.071488            0.304720\n",
              "12     13                  0.699999  ...        23.534537            0.260875\n",
              "13     14                  0.799998  ...        15.442373            0.195628\n",
              "14     15                  0.899997  ...         7.755669            0.110532\n",
              "15     16                  1.000000  ...         0.000000            0.000000\n",
              "\n",
              "[16 rows x 14 columns]"
            ]
          },
          "metadata": {
            "tags": []
          }
        },
        {
          "output_type": "stream",
          "text": [
            "\n",
            "\n",
            "ModelMetricsBinomial: gbm\n",
            "** Reported on validation data. **\n",
            "\n",
            "MSE: 0.197269666910874\n",
            "RMSE: 0.44415050029339603\n",
            "LogLoss: 0.5786944223627534\n",
            "Mean Per-Class Error: 0.33218488977777927\n",
            "AUC: 0.7275172993032565\n",
            "AUCPR: 0.6107003400548159\n",
            "Gini: 0.45503459860651296\n",
            "\n",
            "Confusion Matrix (Act/Pred) for max f1 @ threshold = 0.30575704067105375: \n"
          ],
          "name": "stdout"
        },
        {
          "output_type": "display_data",
          "data": {
            "text/html": [
              "<div>\n",
              "<style scoped>\n",
              "    .dataframe tbody tr th:only-of-type {\n",
              "        vertical-align: middle;\n",
              "    }\n",
              "\n",
              "    .dataframe tbody tr th {\n",
              "        vertical-align: top;\n",
              "    }\n",
              "\n",
              "    .dataframe thead th {\n",
              "        text-align: right;\n",
              "    }\n",
              "</style>\n",
              "<table border=\"1\" class=\"dataframe\">\n",
              "  <thead>\n",
              "    <tr style=\"text-align: right;\">\n",
              "      <th></th>\n",
              "      <th></th>\n",
              "      <th>0</th>\n",
              "      <th>1</th>\n",
              "      <th>Error</th>\n",
              "      <th>Rate</th>\n",
              "    </tr>\n",
              "  </thead>\n",
              "  <tbody>\n",
              "    <tr>\n",
              "      <th>0</th>\n",
              "      <td>0</td>\n",
              "      <td>23532.0</td>\n",
              "      <td>18957.0</td>\n",
              "      <td>0.4462</td>\n",
              "      <td>(18957.0/42489.0)</td>\n",
              "    </tr>\n",
              "    <tr>\n",
              "      <th>1</th>\n",
              "      <td>1</td>\n",
              "      <td>5742.0</td>\n",
              "      <td>18929.0</td>\n",
              "      <td>0.2327</td>\n",
              "      <td>(5742.0/24671.0)</td>\n",
              "    </tr>\n",
              "    <tr>\n",
              "      <th>2</th>\n",
              "      <td>Total</td>\n",
              "      <td>29274.0</td>\n",
              "      <td>37886.0</td>\n",
              "      <td>0.3678</td>\n",
              "      <td>(24699.0/67160.0)</td>\n",
              "    </tr>\n",
              "  </tbody>\n",
              "</table>\n",
              "</div>"
            ],
            "text/plain": [
              "                0        1   Error                Rate\n",
              "0      0  23532.0  18957.0  0.4462   (18957.0/42489.0)\n",
              "1      1   5742.0  18929.0  0.2327    (5742.0/24671.0)\n",
              "2  Total  29274.0  37886.0  0.3678   (24699.0/67160.0)"
            ]
          },
          "metadata": {
            "tags": []
          }
        },
        {
          "output_type": "stream",
          "text": [
            "\n",
            "Maximum Metrics: Maximum metrics at their respective thresholds\n"
          ],
          "name": "stdout"
        },
        {
          "output_type": "display_data",
          "data": {
            "text/html": [
              "<div>\n",
              "<style scoped>\n",
              "    .dataframe tbody tr th:only-of-type {\n",
              "        vertical-align: middle;\n",
              "    }\n",
              "\n",
              "    .dataframe tbody tr th {\n",
              "        vertical-align: top;\n",
              "    }\n",
              "\n",
              "    .dataframe thead th {\n",
              "        text-align: right;\n",
              "    }\n",
              "</style>\n",
              "<table border=\"1\" class=\"dataframe\">\n",
              "  <thead>\n",
              "    <tr style=\"text-align: right;\">\n",
              "      <th></th>\n",
              "      <th>metric</th>\n",
              "      <th>threshold</th>\n",
              "      <th>value</th>\n",
              "      <th>idx</th>\n",
              "    </tr>\n",
              "  </thead>\n",
              "  <tbody>\n",
              "    <tr>\n",
              "      <th>0</th>\n",
              "      <td>max f1</td>\n",
              "      <td>0.305757</td>\n",
              "      <td>0.605176</td>\n",
              "      <td>256.0</td>\n",
              "    </tr>\n",
              "    <tr>\n",
              "      <th>1</th>\n",
              "      <td>max f2</td>\n",
              "      <td>0.152319</td>\n",
              "      <td>0.753197</td>\n",
              "      <td>353.0</td>\n",
              "    </tr>\n",
              "    <tr>\n",
              "      <th>2</th>\n",
              "      <td>max f0point5</td>\n",
              "      <td>0.470342</td>\n",
              "      <td>0.578576</td>\n",
              "      <td>165.0</td>\n",
              "    </tr>\n",
              "    <tr>\n",
              "      <th>3</th>\n",
              "      <td>max accuracy</td>\n",
              "      <td>0.514701</td>\n",
              "      <td>0.698734</td>\n",
              "      <td>143.0</td>\n",
              "    </tr>\n",
              "    <tr>\n",
              "      <th>4</th>\n",
              "      <td>max precision</td>\n",
              "      <td>0.908483</td>\n",
              "      <td>0.984127</td>\n",
              "      <td>3.0</td>\n",
              "    </tr>\n",
              "    <tr>\n",
              "      <th>5</th>\n",
              "      <td>max recall</td>\n",
              "      <td>0.054767</td>\n",
              "      <td>1.000000</td>\n",
              "      <td>398.0</td>\n",
              "    </tr>\n",
              "    <tr>\n",
              "      <th>6</th>\n",
              "      <td>max specificity</td>\n",
              "      <td>0.928602</td>\n",
              "      <td>0.999976</td>\n",
              "      <td>0.0</td>\n",
              "    </tr>\n",
              "    <tr>\n",
              "      <th>7</th>\n",
              "      <td>max absolute_mcc</td>\n",
              "      <td>0.368921</td>\n",
              "      <td>0.325157</td>\n",
              "      <td>220.0</td>\n",
              "    </tr>\n",
              "    <tr>\n",
              "      <th>8</th>\n",
              "      <td>max min_per_class_accuracy</td>\n",
              "      <td>0.363460</td>\n",
              "      <td>0.666005</td>\n",
              "      <td>223.0</td>\n",
              "    </tr>\n",
              "    <tr>\n",
              "      <th>9</th>\n",
              "      <td>max mean_per_class_accuracy</td>\n",
              "      <td>0.365427</td>\n",
              "      <td>0.667815</td>\n",
              "      <td>222.0</td>\n",
              "    </tr>\n",
              "    <tr>\n",
              "      <th>10</th>\n",
              "      <td>max tns</td>\n",
              "      <td>0.928602</td>\n",
              "      <td>42488.000000</td>\n",
              "      <td>0.0</td>\n",
              "    </tr>\n",
              "    <tr>\n",
              "      <th>11</th>\n",
              "      <td>max fns</td>\n",
              "      <td>0.928602</td>\n",
              "      <td>24657.000000</td>\n",
              "      <td>0.0</td>\n",
              "    </tr>\n",
              "    <tr>\n",
              "      <th>12</th>\n",
              "      <td>max fps</td>\n",
              "      <td>0.048025</td>\n",
              "      <td>42489.000000</td>\n",
              "      <td>399.0</td>\n",
              "    </tr>\n",
              "    <tr>\n",
              "      <th>13</th>\n",
              "      <td>max tps</td>\n",
              "      <td>0.054767</td>\n",
              "      <td>24671.000000</td>\n",
              "      <td>398.0</td>\n",
              "    </tr>\n",
              "    <tr>\n",
              "      <th>14</th>\n",
              "      <td>max tnr</td>\n",
              "      <td>0.928602</td>\n",
              "      <td>0.999976</td>\n",
              "      <td>0.0</td>\n",
              "    </tr>\n",
              "    <tr>\n",
              "      <th>15</th>\n",
              "      <td>max fnr</td>\n",
              "      <td>0.928602</td>\n",
              "      <td>0.999433</td>\n",
              "      <td>0.0</td>\n",
              "    </tr>\n",
              "    <tr>\n",
              "      <th>16</th>\n",
              "      <td>max fpr</td>\n",
              "      <td>0.048025</td>\n",
              "      <td>1.000000</td>\n",
              "      <td>399.0</td>\n",
              "    </tr>\n",
              "    <tr>\n",
              "      <th>17</th>\n",
              "      <td>max tpr</td>\n",
              "      <td>0.054767</td>\n",
              "      <td>1.000000</td>\n",
              "      <td>398.0</td>\n",
              "    </tr>\n",
              "  </tbody>\n",
              "</table>\n",
              "</div>"
            ],
            "text/plain": [
              "                         metric  threshold         value    idx\n",
              "0                        max f1   0.305757      0.605176  256.0\n",
              "1                        max f2   0.152319      0.753197  353.0\n",
              "2                  max f0point5   0.470342      0.578576  165.0\n",
              "3                  max accuracy   0.514701      0.698734  143.0\n",
              "4                 max precision   0.908483      0.984127    3.0\n",
              "5                    max recall   0.054767      1.000000  398.0\n",
              "6               max specificity   0.928602      0.999976    0.0\n",
              "7              max absolute_mcc   0.368921      0.325157  220.0\n",
              "8    max min_per_class_accuracy   0.363460      0.666005  223.0\n",
              "9   max mean_per_class_accuracy   0.365427      0.667815  222.0\n",
              "10                      max tns   0.928602  42488.000000    0.0\n",
              "11                      max fns   0.928602  24657.000000    0.0\n",
              "12                      max fps   0.048025  42489.000000  399.0\n",
              "13                      max tps   0.054767  24671.000000  398.0\n",
              "14                      max tnr   0.928602      0.999976    0.0\n",
              "15                      max fnr   0.928602      0.999433    0.0\n",
              "16                      max fpr   0.048025      1.000000  399.0\n",
              "17                      max tpr   0.054767      1.000000  398.0"
            ]
          },
          "metadata": {
            "tags": []
          }
        },
        {
          "output_type": "stream",
          "text": [
            "\n",
            "Gains/Lift Table: Avg response rate: 36.73 %, avg score: 36.78 %\n"
          ],
          "name": "stdout"
        },
        {
          "output_type": "display_data",
          "data": {
            "text/html": [
              "<div>\n",
              "<style scoped>\n",
              "    .dataframe tbody tr th:only-of-type {\n",
              "        vertical-align: middle;\n",
              "    }\n",
              "\n",
              "    .dataframe tbody tr th {\n",
              "        vertical-align: top;\n",
              "    }\n",
              "\n",
              "    .dataframe thead th {\n",
              "        text-align: right;\n",
              "    }\n",
              "</style>\n",
              "<table border=\"1\" class=\"dataframe\">\n",
              "  <thead>\n",
              "    <tr style=\"text-align: right;\">\n",
              "      <th></th>\n",
              "      <th>group</th>\n",
              "      <th>cumulative_data_fraction</th>\n",
              "      <th>lower_threshold</th>\n",
              "      <th>lift</th>\n",
              "      <th>cumulative_lift</th>\n",
              "      <th>response_rate</th>\n",
              "      <th>score</th>\n",
              "      <th>cumulative_response_rate</th>\n",
              "      <th>cumulative_score</th>\n",
              "      <th>capture_rate</th>\n",
              "      <th>cumulative_capture_rate</th>\n",
              "      <th>gain</th>\n",
              "      <th>cumulative_gain</th>\n",
              "      <th>kolmogorov_smirnov</th>\n",
              "    </tr>\n",
              "  </thead>\n",
              "  <tbody>\n",
              "    <tr>\n",
              "      <th>0</th>\n",
              "      <td>1</td>\n",
              "      <td>0.010006</td>\n",
              "      <td>0.828643</td>\n",
              "      <td>2.369794</td>\n",
              "      <td>2.369794</td>\n",
              "      <td>0.870536</td>\n",
              "      <td>0.863653</td>\n",
              "      <td>0.870536</td>\n",
              "      <td>0.863653</td>\n",
              "      <td>0.023712</td>\n",
              "      <td>0.023712</td>\n",
              "      <td>136.979363</td>\n",
              "      <td>136.979363</td>\n",
              "      <td>0.021664</td>\n",
              "    </tr>\n",
              "    <tr>\n",
              "      <th>1</th>\n",
              "      <td>2</td>\n",
              "      <td>0.020116</td>\n",
              "      <td>0.785004</td>\n",
              "      <td>2.241124</td>\n",
              "      <td>2.305126</td>\n",
              "      <td>0.823270</td>\n",
              "      <td>0.804792</td>\n",
              "      <td>0.846780</td>\n",
              "      <td>0.834070</td>\n",
              "      <td>0.022658</td>\n",
              "      <td>0.046370</td>\n",
              "      <td>124.112442</td>\n",
              "      <td>130.512568</td>\n",
              "      <td>0.041498</td>\n",
              "    </tr>\n",
              "    <tr>\n",
              "      <th>2</th>\n",
              "      <td>3</td>\n",
              "      <td>0.030003</td>\n",
              "      <td>0.762510</td>\n",
              "      <td>2.086765</td>\n",
              "      <td>2.233170</td>\n",
              "      <td>0.766566</td>\n",
              "      <td>0.772705</td>\n",
              "      <td>0.820347</td>\n",
              "      <td>0.813848</td>\n",
              "      <td>0.020632</td>\n",
              "      <td>0.067002</td>\n",
              "      <td>108.676545</td>\n",
              "      <td>123.316975</td>\n",
              "      <td>0.058482</td>\n",
              "    </tr>\n",
              "    <tr>\n",
              "      <th>3</th>\n",
              "      <td>4</td>\n",
              "      <td>0.040009</td>\n",
              "      <td>0.741507</td>\n",
              "      <td>2.057872</td>\n",
              "      <td>2.189329</td>\n",
              "      <td>0.755952</td>\n",
              "      <td>0.752465</td>\n",
              "      <td>0.804243</td>\n",
              "      <td>0.798497</td>\n",
              "      <td>0.020591</td>\n",
              "      <td>0.087593</td>\n",
              "      <td>105.787207</td>\n",
              "      <td>118.932902</td>\n",
              "      <td>0.075213</td>\n",
              "    </tr>\n",
              "    <tr>\n",
              "      <th>4</th>\n",
              "      <td>5</td>\n",
              "      <td>0.050000</td>\n",
              "      <td>0.717152</td>\n",
              "      <td>1.983857</td>\n",
              "      <td>2.148271</td>\n",
              "      <td>0.728763</td>\n",
              "      <td>0.729365</td>\n",
              "      <td>0.789160</td>\n",
              "      <td>0.784683</td>\n",
              "      <td>0.019821</td>\n",
              "      <td>0.107414</td>\n",
              "      <td>98.385658</td>\n",
              "      <td>114.827125</td>\n",
              "      <td>0.090750</td>\n",
              "    </tr>\n",
              "    <tr>\n",
              "      <th>5</th>\n",
              "      <td>6</td>\n",
              "      <td>0.100045</td>\n",
              "      <td>0.637059</td>\n",
              "      <td>1.882312</td>\n",
              "      <td>2.015232</td>\n",
              "      <td>0.691461</td>\n",
              "      <td>0.673227</td>\n",
              "      <td>0.740289</td>\n",
              "      <td>0.728930</td>\n",
              "      <td>0.094200</td>\n",
              "      <td>0.201613</td>\n",
              "      <td>88.231172</td>\n",
              "      <td>101.523211</td>\n",
              "      <td>0.160544</td>\n",
              "    </tr>\n",
              "    <tr>\n",
              "      <th>6</th>\n",
              "      <td>7</td>\n",
              "      <td>0.150030</td>\n",
              "      <td>0.576325</td>\n",
              "      <td>1.650202</td>\n",
              "      <td>1.893616</td>\n",
              "      <td>0.606196</td>\n",
              "      <td>0.605305</td>\n",
              "      <td>0.695613</td>\n",
              "      <td>0.687742</td>\n",
              "      <td>0.082486</td>\n",
              "      <td>0.284099</td>\n",
              "      <td>65.020161</td>\n",
              "      <td>89.361565</td>\n",
              "      <td>0.211915</td>\n",
              "    </tr>\n",
              "    <tr>\n",
              "      <th>7</th>\n",
              "      <td>8</td>\n",
              "      <td>0.200000</td>\n",
              "      <td>0.526255</td>\n",
              "      <td>1.507120</td>\n",
              "      <td>1.797049</td>\n",
              "      <td>0.553635</td>\n",
              "      <td>0.552535</td>\n",
              "      <td>0.660140</td>\n",
              "      <td>0.653960</td>\n",
              "      <td>0.075311</td>\n",
              "      <td>0.359410</td>\n",
              "      <td>50.711951</td>\n",
              "      <td>79.704917</td>\n",
              "      <td>0.251970</td>\n",
              "    </tr>\n",
              "    <tr>\n",
              "      <th>8</th>\n",
              "      <td>9</td>\n",
              "      <td>0.300045</td>\n",
              "      <td>0.454845</td>\n",
              "      <td>1.333359</td>\n",
              "      <td>1.642440</td>\n",
              "      <td>0.489805</td>\n",
              "      <td>0.488514</td>\n",
              "      <td>0.603345</td>\n",
              "      <td>0.598795</td>\n",
              "      <td>0.133395</td>\n",
              "      <td>0.492805</td>\n",
              "      <td>33.335924</td>\n",
              "      <td>64.243984</td>\n",
              "      <td>0.304686</td>\n",
              "    </tr>\n",
              "    <tr>\n",
              "      <th>9</th>\n",
              "      <td>10</td>\n",
              "      <td>0.400000</td>\n",
              "      <td>0.395776</td>\n",
              "      <td>1.150853</td>\n",
              "      <td>1.519598</td>\n",
              "      <td>0.422762</td>\n",
              "      <td>0.426238</td>\n",
              "      <td>0.558219</td>\n",
              "      <td>0.555675</td>\n",
              "      <td>0.115034</td>\n",
              "      <td>0.607839</td>\n",
              "      <td>15.085253</td>\n",
              "      <td>51.959791</td>\n",
              "      <td>0.328520</td>\n",
              "    </tr>\n",
              "    <tr>\n",
              "      <th>10</th>\n",
              "      <td>11</td>\n",
              "      <td>0.500000</td>\n",
              "      <td>0.339761</td>\n",
              "      <td>1.011714</td>\n",
              "      <td>1.418021</td>\n",
              "      <td>0.371650</td>\n",
              "      <td>0.366786</td>\n",
              "      <td>0.520905</td>\n",
              "      <td>0.517897</td>\n",
              "      <td>0.101171</td>\n",
              "      <td>0.709011</td>\n",
              "      <td>1.171416</td>\n",
              "      <td>41.802116</td>\n",
              "      <td>0.330371</td>\n",
              "    </tr>\n",
              "    <tr>\n",
              "      <th>11</th>\n",
              "      <td>12</td>\n",
              "      <td>0.600000</td>\n",
              "      <td>0.285901</td>\n",
              "      <td>0.830935</td>\n",
              "      <td>1.320173</td>\n",
              "      <td>0.305241</td>\n",
              "      <td>0.312678</td>\n",
              "      <td>0.484961</td>\n",
              "      <td>0.483694</td>\n",
              "      <td>0.083094</td>\n",
              "      <td>0.792104</td>\n",
              "      <td>-16.906489</td>\n",
              "      <td>32.017348</td>\n",
              "      <td>0.303648</td>\n",
              "    </tr>\n",
              "    <tr>\n",
              "      <th>12</th>\n",
              "      <td>13</td>\n",
              "      <td>0.700000</td>\n",
              "      <td>0.240300</td>\n",
              "      <td>0.721090</td>\n",
              "      <td>1.234590</td>\n",
              "      <td>0.264890</td>\n",
              "      <td>0.262339</td>\n",
              "      <td>0.453523</td>\n",
              "      <td>0.452072</td>\n",
              "      <td>0.072109</td>\n",
              "      <td>0.864213</td>\n",
              "      <td>-27.891046</td>\n",
              "      <td>23.459006</td>\n",
              "      <td>0.259562</td>\n",
              "    </tr>\n",
              "    <tr>\n",
              "      <th>13</th>\n",
              "      <td>14</td>\n",
              "      <td>0.800000</td>\n",
              "      <td>0.196655</td>\n",
              "      <td>0.588545</td>\n",
              "      <td>1.153834</td>\n",
              "      <td>0.216200</td>\n",
              "      <td>0.217502</td>\n",
              "      <td>0.423857</td>\n",
              "      <td>0.422751</td>\n",
              "      <td>0.058855</td>\n",
              "      <td>0.923068</td>\n",
              "      <td>-41.145474</td>\n",
              "      <td>15.383446</td>\n",
              "      <td>0.194526</td>\n",
              "    </tr>\n",
              "    <tr>\n",
              "      <th>14</th>\n",
              "      <td>15</td>\n",
              "      <td>0.900000</td>\n",
              "      <td>0.154382</td>\n",
              "      <td>0.476268</td>\n",
              "      <td>1.078549</td>\n",
              "      <td>0.174955</td>\n",
              "      <td>0.176781</td>\n",
              "      <td>0.396201</td>\n",
              "      <td>0.395421</td>\n",
              "      <td>0.047627</td>\n",
              "      <td>0.970694</td>\n",
              "      <td>-52.373232</td>\n",
              "      <td>7.854926</td>\n",
              "      <td>0.111743</td>\n",
              "    </tr>\n",
              "    <tr>\n",
              "      <th>15</th>\n",
              "      <td>16</td>\n",
              "      <td>1.000000</td>\n",
              "      <td>0.040826</td>\n",
              "      <td>0.293057</td>\n",
              "      <td>1.000000</td>\n",
              "      <td>0.107653</td>\n",
              "      <td>0.118941</td>\n",
              "      <td>0.367347</td>\n",
              "      <td>0.367773</td>\n",
              "      <td>0.029306</td>\n",
              "      <td>1.000000</td>\n",
              "      <td>-70.694337</td>\n",
              "      <td>0.000000</td>\n",
              "      <td>0.000000</td>\n",
              "    </tr>\n",
              "  </tbody>\n",
              "</table>\n",
              "</div>"
            ],
            "text/plain": [
              "    group  cumulative_data_fraction  ...  cumulative_gain  kolmogorov_smirnov\n",
              "0       1                  0.010006  ...       136.979363            0.021664\n",
              "1       2                  0.020116  ...       130.512568            0.041498\n",
              "2       3                  0.030003  ...       123.316975            0.058482\n",
              "3       4                  0.040009  ...       118.932902            0.075213\n",
              "4       5                  0.050000  ...       114.827125            0.090750\n",
              "5       6                  0.100045  ...       101.523211            0.160544\n",
              "6       7                  0.150030  ...        89.361565            0.211915\n",
              "7       8                  0.200000  ...        79.704917            0.251970\n",
              "8       9                  0.300045  ...        64.243984            0.304686\n",
              "9      10                  0.400000  ...        51.959791            0.328520\n",
              "10     11                  0.500000  ...        41.802116            0.330371\n",
              "11     12                  0.600000  ...        32.017348            0.303648\n",
              "12     13                  0.700000  ...        23.459006            0.259562\n",
              "13     14                  0.800000  ...        15.383446            0.194526\n",
              "14     15                  0.900000  ...         7.854926            0.111743\n",
              "15     16                  1.000000  ...         0.000000            0.000000\n",
              "\n",
              "[16 rows x 14 columns]"
            ]
          },
          "metadata": {
            "tags": []
          }
        },
        {
          "output_type": "stream",
          "text": [
            "\n",
            "\n",
            "Scoring History: \n"
          ],
          "name": "stdout"
        },
        {
          "output_type": "display_data",
          "data": {
            "text/html": [
              "<div>\n",
              "<style scoped>\n",
              "    .dataframe tbody tr th:only-of-type {\n",
              "        vertical-align: middle;\n",
              "    }\n",
              "\n",
              "    .dataframe tbody tr th {\n",
              "        vertical-align: top;\n",
              "    }\n",
              "\n",
              "    .dataframe thead th {\n",
              "        text-align: right;\n",
              "    }\n",
              "</style>\n",
              "<table border=\"1\" class=\"dataframe\">\n",
              "  <thead>\n",
              "    <tr style=\"text-align: right;\">\n",
              "      <th></th>\n",
              "      <th></th>\n",
              "      <th>timestamp</th>\n",
              "      <th>duration</th>\n",
              "      <th>number_of_trees</th>\n",
              "      <th>training_rmse</th>\n",
              "      <th>training_logloss</th>\n",
              "      <th>training_auc</th>\n",
              "      <th>training_pr_auc</th>\n",
              "      <th>training_lift</th>\n",
              "      <th>training_classification_error</th>\n",
              "      <th>validation_rmse</th>\n",
              "      <th>validation_logloss</th>\n",
              "      <th>validation_auc</th>\n",
              "      <th>validation_pr_auc</th>\n",
              "      <th>validation_lift</th>\n",
              "      <th>validation_classification_error</th>\n",
              "    </tr>\n",
              "  </thead>\n",
              "  <tbody>\n",
              "    <tr>\n",
              "      <th>0</th>\n",
              "      <td></td>\n",
              "      <td>2021-04-13 18:48:46</td>\n",
              "      <td>0.017 sec</td>\n",
              "      <td>0.0</td>\n",
              "      <td>0.482399</td>\n",
              "      <td>0.658154</td>\n",
              "      <td>0.500000</td>\n",
              "      <td>0.368503</td>\n",
              "      <td>1.000000</td>\n",
              "      <td>0.631497</td>\n",
              "      <td>0.482083</td>\n",
              "      <td>0.657531</td>\n",
              "      <td>0.500000</td>\n",
              "      <td>0.367347</td>\n",
              "      <td>1.000000</td>\n",
              "      <td>0.632653</td>\n",
              "    </tr>\n",
              "    <tr>\n",
              "      <th>1</th>\n",
              "      <td></td>\n",
              "      <td>2021-04-13 18:48:46</td>\n",
              "      <td>0.701 sec</td>\n",
              "      <td>1.0</td>\n",
              "      <td>0.481705</td>\n",
              "      <td>0.656718</td>\n",
              "      <td>0.721281</td>\n",
              "      <td>0.603384</td>\n",
              "      <td>2.289071</td>\n",
              "      <td>0.359561</td>\n",
              "      <td>0.481386</td>\n",
              "      <td>0.656089</td>\n",
              "      <td>0.723266</td>\n",
              "      <td>0.604522</td>\n",
              "      <td>2.291923</td>\n",
              "      <td>0.357370</td>\n",
              "    </tr>\n",
              "    <tr>\n",
              "      <th>2</th>\n",
              "      <td></td>\n",
              "      <td>2021-04-13 18:48:47</td>\n",
              "      <td>1.241 sec</td>\n",
              "      <td>2.0</td>\n",
              "      <td>0.481025</td>\n",
              "      <td>0.655313</td>\n",
              "      <td>0.721487</td>\n",
              "      <td>0.603714</td>\n",
              "      <td>2.289071</td>\n",
              "      <td>0.359561</td>\n",
              "      <td>0.480702</td>\n",
              "      <td>0.654678</td>\n",
              "      <td>0.723424</td>\n",
              "      <td>0.604773</td>\n",
              "      <td>2.291923</td>\n",
              "      <td>0.357370</td>\n",
              "    </tr>\n",
              "    <tr>\n",
              "      <th>3</th>\n",
              "      <td></td>\n",
              "      <td>2021-04-13 18:48:47</td>\n",
              "      <td>1.738 sec</td>\n",
              "      <td>3.0</td>\n",
              "      <td>0.480356</td>\n",
              "      <td>0.653936</td>\n",
              "      <td>0.721588</td>\n",
              "      <td>0.604657</td>\n",
              "      <td>2.289071</td>\n",
              "      <td>0.359561</td>\n",
              "      <td>0.480030</td>\n",
              "      <td>0.653294</td>\n",
              "      <td>0.723559</td>\n",
              "      <td>0.605836</td>\n",
              "      <td>2.291923</td>\n",
              "      <td>0.357370</td>\n",
              "    </tr>\n",
              "    <tr>\n",
              "      <th>4</th>\n",
              "      <td></td>\n",
              "      <td>2021-04-13 18:48:48</td>\n",
              "      <td>2.201 sec</td>\n",
              "      <td>4.0</td>\n",
              "      <td>0.479701</td>\n",
              "      <td>0.652590</td>\n",
              "      <td>0.722411</td>\n",
              "      <td>0.605816</td>\n",
              "      <td>2.288996</td>\n",
              "      <td>0.376733</td>\n",
              "      <td>0.479373</td>\n",
              "      <td>0.651944</td>\n",
              "      <td>0.724206</td>\n",
              "      <td>0.606681</td>\n",
              "      <td>2.293831</td>\n",
              "      <td>0.356358</td>\n",
              "    </tr>\n",
              "    <tr>\n",
              "      <th>5</th>\n",
              "      <td></td>\n",
              "      <td>2021-04-13 18:48:48</td>\n",
              "      <td>2.610 sec</td>\n",
              "      <td>5.0</td>\n",
              "      <td>0.479057</td>\n",
              "      <td>0.651270</td>\n",
              "      <td>0.722372</td>\n",
              "      <td>0.605812</td>\n",
              "      <td>2.288996</td>\n",
              "      <td>0.371531</td>\n",
              "      <td>0.478725</td>\n",
              "      <td>0.650617</td>\n",
              "      <td>0.724238</td>\n",
              "      <td>0.606752</td>\n",
              "      <td>2.293831</td>\n",
              "      <td>0.356626</td>\n",
              "    </tr>\n",
              "    <tr>\n",
              "      <th>6</th>\n",
              "      <td></td>\n",
              "      <td>2021-04-13 18:48:49</td>\n",
              "      <td>2.991 sec</td>\n",
              "      <td>6.0</td>\n",
              "      <td>0.478426</td>\n",
              "      <td>0.649978</td>\n",
              "      <td>0.722452</td>\n",
              "      <td>0.605824</td>\n",
              "      <td>2.288996</td>\n",
              "      <td>0.371149</td>\n",
              "      <td>0.478091</td>\n",
              "      <td>0.649321</td>\n",
              "      <td>0.724261</td>\n",
              "      <td>0.606681</td>\n",
              "      <td>2.293831</td>\n",
              "      <td>0.356358</td>\n",
              "    </tr>\n",
              "    <tr>\n",
              "      <th>7</th>\n",
              "      <td></td>\n",
              "      <td>2021-04-13 18:48:49</td>\n",
              "      <td>3.398 sec</td>\n",
              "      <td>7.0</td>\n",
              "      <td>0.477805</td>\n",
              "      <td>0.648711</td>\n",
              "      <td>0.722552</td>\n",
              "      <td>0.605914</td>\n",
              "      <td>2.292176</td>\n",
              "      <td>0.376284</td>\n",
              "      <td>0.477467</td>\n",
              "      <td>0.648047</td>\n",
              "      <td>0.724298</td>\n",
              "      <td>0.606796</td>\n",
              "      <td>2.304677</td>\n",
              "      <td>0.356313</td>\n",
              "    </tr>\n",
              "    <tr>\n",
              "      <th>8</th>\n",
              "      <td></td>\n",
              "      <td>2021-04-13 18:48:49</td>\n",
              "      <td>3.719 sec</td>\n",
              "      <td>8.0</td>\n",
              "      <td>0.477197</td>\n",
              "      <td>0.647471</td>\n",
              "      <td>0.722574</td>\n",
              "      <td>0.606013</td>\n",
              "      <td>2.292660</td>\n",
              "      <td>0.375908</td>\n",
              "      <td>0.476856</td>\n",
              "      <td>0.646803</td>\n",
              "      <td>0.724324</td>\n",
              "      <td>0.606965</td>\n",
              "      <td>2.304677</td>\n",
              "      <td>0.356313</td>\n",
              "    </tr>\n",
              "    <tr>\n",
              "      <th>9</th>\n",
              "      <td></td>\n",
              "      <td>2021-04-13 18:48:53</td>\n",
              "      <td>7.781 sec</td>\n",
              "      <td>24.0</td>\n",
              "      <td>0.468844</td>\n",
              "      <td>0.630631</td>\n",
              "      <td>0.724086</td>\n",
              "      <td>0.607850</td>\n",
              "      <td>2.365772</td>\n",
              "      <td>0.376271</td>\n",
              "      <td>0.468457</td>\n",
              "      <td>0.629877</td>\n",
              "      <td>0.725778</td>\n",
              "      <td>0.608386</td>\n",
              "      <td>2.349827</td>\n",
              "      <td>0.384038</td>\n",
              "    </tr>\n",
              "    <tr>\n",
              "      <th>10</th>\n",
              "      <td></td>\n",
              "      <td>2021-04-13 18:49:00</td>\n",
              "      <td>14.373 sec</td>\n",
              "      <td>54.0</td>\n",
              "      <td>0.458543</td>\n",
              "      <td>0.610012</td>\n",
              "      <td>0.724824</td>\n",
              "      <td>0.608217</td>\n",
              "      <td>2.373440</td>\n",
              "      <td>0.380346</td>\n",
              "      <td>0.458082</td>\n",
              "      <td>0.609116</td>\n",
              "      <td>0.726546</td>\n",
              "      <td>0.609736</td>\n",
              "      <td>2.356146</td>\n",
              "      <td>0.366409</td>\n",
              "    </tr>\n",
              "    <tr>\n",
              "      <th>11</th>\n",
              "      <td></td>\n",
              "      <td>2021-04-13 18:49:06</td>\n",
              "      <td>20.475 sec</td>\n",
              "      <td>84.0</td>\n",
              "      <td>0.452671</td>\n",
              "      <td>0.598001</td>\n",
              "      <td>0.725301</td>\n",
              "      <td>0.609122</td>\n",
              "      <td>2.379185</td>\n",
              "      <td>0.364346</td>\n",
              "      <td>0.452163</td>\n",
              "      <td>0.597010</td>\n",
              "      <td>0.726858</td>\n",
              "      <td>0.609419</td>\n",
              "      <td>2.351907</td>\n",
              "      <td>0.363446</td>\n",
              "    </tr>\n",
              "    <tr>\n",
              "      <th>12</th>\n",
              "      <td></td>\n",
              "      <td>2021-04-13 18:49:12</td>\n",
              "      <td>26.697 sec</td>\n",
              "      <td>115.0</td>\n",
              "      <td>0.449242</td>\n",
              "      <td>0.590692</td>\n",
              "      <td>0.725637</td>\n",
              "      <td>0.609618</td>\n",
              "      <td>2.375177</td>\n",
              "      <td>0.380836</td>\n",
              "      <td>0.448713</td>\n",
              "      <td>0.589654</td>\n",
              "      <td>0.726996</td>\n",
              "      <td>0.609476</td>\n",
              "      <td>2.348062</td>\n",
              "      <td>0.361018</td>\n",
              "    </tr>\n",
              "    <tr>\n",
              "      <th>13</th>\n",
              "      <td></td>\n",
              "      <td>2021-04-13 18:49:19</td>\n",
              "      <td>33.224 sec</td>\n",
              "      <td>141.0</td>\n",
              "      <td>0.447556</td>\n",
              "      <td>0.586931</td>\n",
              "      <td>0.725924</td>\n",
              "      <td>0.609921</td>\n",
              "      <td>2.376433</td>\n",
              "      <td>0.374113</td>\n",
              "      <td>0.447025</td>\n",
              "      <td>0.585886</td>\n",
              "      <td>0.727136</td>\n",
              "      <td>0.609491</td>\n",
              "      <td>2.359001</td>\n",
              "      <td>0.365009</td>\n",
              "    </tr>\n",
              "    <tr>\n",
              "      <th>14</th>\n",
              "      <td></td>\n",
              "      <td>2021-04-13 18:49:25</td>\n",
              "      <td>39.773 sec</td>\n",
              "      <td>167.0</td>\n",
              "      <td>0.446506</td>\n",
              "      <td>0.584493</td>\n",
              "      <td>0.726152</td>\n",
              "      <td>0.610327</td>\n",
              "      <td>2.384020</td>\n",
              "      <td>0.371728</td>\n",
              "      <td>0.445978</td>\n",
              "      <td>0.583445</td>\n",
              "      <td>0.727211</td>\n",
              "      <td>0.609984</td>\n",
              "      <td>2.354684</td>\n",
              "      <td>0.362597</td>\n",
              "    </tr>\n",
              "    <tr>\n",
              "      <th>15</th>\n",
              "      <td></td>\n",
              "      <td>2021-04-13 18:49:32</td>\n",
              "      <td>46.462 sec</td>\n",
              "      <td>195.0</td>\n",
              "      <td>0.445807</td>\n",
              "      <td>0.582798</td>\n",
              "      <td>0.726272</td>\n",
              "      <td>0.610535</td>\n",
              "      <td>2.383101</td>\n",
              "      <td>0.360927</td>\n",
              "      <td>0.445286</td>\n",
              "      <td>0.581757</td>\n",
              "      <td>0.727356</td>\n",
              "      <td>0.610104</td>\n",
              "      <td>2.354138</td>\n",
              "      <td>0.363163</td>\n",
              "    </tr>\n",
              "    <tr>\n",
              "      <th>16</th>\n",
              "      <td></td>\n",
              "      <td>2021-04-13 18:49:39</td>\n",
              "      <td>53.819 sec</td>\n",
              "      <td>227.0</td>\n",
              "      <td>0.445324</td>\n",
              "      <td>0.581580</td>\n",
              "      <td>0.726400</td>\n",
              "      <td>0.610922</td>\n",
              "      <td>2.383206</td>\n",
              "      <td>0.368280</td>\n",
              "      <td>0.444817</td>\n",
              "      <td>0.580566</td>\n",
              "      <td>0.727334</td>\n",
              "      <td>0.610214</td>\n",
              "      <td>2.353590</td>\n",
              "      <td>0.362761</td>\n",
              "    </tr>\n",
              "    <tr>\n",
              "      <th>17</th>\n",
              "      <td></td>\n",
              "      <td>2021-04-13 18:49:47</td>\n",
              "      <td>1 min  1.310 sec</td>\n",
              "      <td>257.0</td>\n",
              "      <td>0.445047</td>\n",
              "      <td>0.580862</td>\n",
              "      <td>0.726548</td>\n",
              "      <td>0.611176</td>\n",
              "      <td>2.393662</td>\n",
              "      <td>0.371712</td>\n",
              "      <td>0.444559</td>\n",
              "      <td>0.579887</td>\n",
              "      <td>0.727352</td>\n",
              "      <td>0.610364</td>\n",
              "      <td>2.358723</td>\n",
              "      <td>0.364071</td>\n",
              "    </tr>\n",
              "    <tr>\n",
              "      <th>18</th>\n",
              "      <td></td>\n",
              "      <td>2021-04-13 18:49:53</td>\n",
              "      <td>1 min  7.474 sec</td>\n",
              "      <td>284.0</td>\n",
              "      <td>0.444879</td>\n",
              "      <td>0.580418</td>\n",
              "      <td>0.726628</td>\n",
              "      <td>0.611410</td>\n",
              "      <td>2.394626</td>\n",
              "      <td>0.372935</td>\n",
              "      <td>0.444415</td>\n",
              "      <td>0.579492</td>\n",
              "      <td>0.727369</td>\n",
              "      <td>0.610331</td>\n",
              "      <td>2.363825</td>\n",
              "      <td>0.362046</td>\n",
              "    </tr>\n",
              "    <tr>\n",
              "      <th>19</th>\n",
              "      <td></td>\n",
              "      <td>2021-04-13 18:50:00</td>\n",
              "      <td>1 min 14.574 sec</td>\n",
              "      <td>316.0</td>\n",
              "      <td>0.444745</td>\n",
              "      <td>0.580060</td>\n",
              "      <td>0.726869</td>\n",
              "      <td>0.611593</td>\n",
              "      <td>2.393357</td>\n",
              "      <td>0.367204</td>\n",
              "      <td>0.444307</td>\n",
              "      <td>0.579188</td>\n",
              "      <td>0.727458</td>\n",
              "      <td>0.610367</td>\n",
              "      <td>2.361692</td>\n",
              "      <td>0.365947</td>\n",
              "    </tr>\n",
              "  </tbody>\n",
              "</table>\n",
              "</div>"
            ],
            "text/plain": [
              "                timestamp  ... validation_lift  validation_classification_error\n",
              "0     2021-04-13 18:48:46  ...        1.000000                         0.632653\n",
              "1     2021-04-13 18:48:46  ...        2.291923                         0.357370\n",
              "2     2021-04-13 18:48:47  ...        2.291923                         0.357370\n",
              "3     2021-04-13 18:48:47  ...        2.291923                         0.357370\n",
              "4     2021-04-13 18:48:48  ...        2.293831                         0.356358\n",
              "5     2021-04-13 18:48:48  ...        2.293831                         0.356626\n",
              "6     2021-04-13 18:48:49  ...        2.293831                         0.356358\n",
              "7     2021-04-13 18:48:49  ...        2.304677                         0.356313\n",
              "8     2021-04-13 18:48:49  ...        2.304677                         0.356313\n",
              "9     2021-04-13 18:48:53  ...        2.349827                         0.384038\n",
              "10    2021-04-13 18:49:00  ...        2.356146                         0.366409\n",
              "11    2021-04-13 18:49:06  ...        2.351907                         0.363446\n",
              "12    2021-04-13 18:49:12  ...        2.348062                         0.361018\n",
              "13    2021-04-13 18:49:19  ...        2.359001                         0.365009\n",
              "14    2021-04-13 18:49:25  ...        2.354684                         0.362597\n",
              "15    2021-04-13 18:49:32  ...        2.354138                         0.363163\n",
              "16    2021-04-13 18:49:39  ...        2.353590                         0.362761\n",
              "17    2021-04-13 18:49:47  ...        2.358723                         0.364071\n",
              "18    2021-04-13 18:49:53  ...        2.363825                         0.362046\n",
              "19    2021-04-13 18:50:00  ...        2.361692                         0.365947\n",
              "\n",
              "[20 rows x 16 columns]"
            ]
          },
          "metadata": {
            "tags": []
          }
        },
        {
          "output_type": "stream",
          "text": [
            "\n",
            "See the whole table with table.as_data_frame()\n",
            "\n",
            "Variable Importances: \n"
          ],
          "name": "stdout"
        },
        {
          "output_type": "display_data",
          "data": {
            "text/html": [
              "<div>\n",
              "<style scoped>\n",
              "    .dataframe tbody tr th:only-of-type {\n",
              "        vertical-align: middle;\n",
              "    }\n",
              "\n",
              "    .dataframe tbody tr th {\n",
              "        vertical-align: top;\n",
              "    }\n",
              "\n",
              "    .dataframe thead th {\n",
              "        text-align: right;\n",
              "    }\n",
              "</style>\n",
              "<table border=\"1\" class=\"dataframe\">\n",
              "  <thead>\n",
              "    <tr style=\"text-align: right;\">\n",
              "      <th></th>\n",
              "      <th>variable</th>\n",
              "      <th>relative_importance</th>\n",
              "      <th>scaled_importance</th>\n",
              "      <th>percentage</th>\n",
              "    </tr>\n",
              "  </thead>\n",
              "  <tbody>\n",
              "    <tr>\n",
              "      <th>0</th>\n",
              "      <td>facenet_euclidean_l2</td>\n",
              "      <td>261705.156250</td>\n",
              "      <td>1.000000</td>\n",
              "      <td>0.468295</td>\n",
              "    </tr>\n",
              "    <tr>\n",
              "      <th>1</th>\n",
              "      <td>facenet_cosine</td>\n",
              "      <td>162436.656250</td>\n",
              "      <td>0.620686</td>\n",
              "      <td>0.290664</td>\n",
              "    </tr>\n",
              "    <tr>\n",
              "      <th>2</th>\n",
              "      <td>vgg_euclidean_l2</td>\n",
              "      <td>73451.710938</td>\n",
              "      <td>0.280666</td>\n",
              "      <td>0.131434</td>\n",
              "    </tr>\n",
              "    <tr>\n",
              "      <th>3</th>\n",
              "      <td>vgg_cosine</td>\n",
              "      <td>34810.042969</td>\n",
              "      <td>0.133012</td>\n",
              "      <td>0.062289</td>\n",
              "    </tr>\n",
              "    <tr>\n",
              "      <th>4</th>\n",
              "      <td>openface_cosine</td>\n",
              "      <td>15869.265625</td>\n",
              "      <td>0.060638</td>\n",
              "      <td>0.028396</td>\n",
              "    </tr>\n",
              "    <tr>\n",
              "      <th>5</th>\n",
              "      <td>openface_euclidean_l2</td>\n",
              "      <td>10574.509766</td>\n",
              "      <td>0.040406</td>\n",
              "      <td>0.018922</td>\n",
              "    </tr>\n",
              "  </tbody>\n",
              "</table>\n",
              "</div>"
            ],
            "text/plain": [
              "                variable  relative_importance  scaled_importance  percentage\n",
              "0   facenet_euclidean_l2        261705.156250           1.000000    0.468295\n",
              "1         facenet_cosine        162436.656250           0.620686    0.290664\n",
              "2       vgg_euclidean_l2         73451.710938           0.280666    0.131434\n",
              "3             vgg_cosine         34810.042969           0.133012    0.062289\n",
              "4        openface_cosine         15869.265625           0.060638    0.028396\n",
              "5  openface_euclidean_l2         10574.509766           0.040406    0.018922"
            ]
          },
          "metadata": {
            "tags": []
          }
        },
        {
          "output_type": "execute_result",
          "data": {
            "text/plain": [
              ""
            ]
          },
          "metadata": {
            "tags": []
          },
          "execution_count": 49
        }
      ]
    },
    {
      "cell_type": "markdown",
      "metadata": {
        "id": "8ok4cAuHoUxI"
      },
      "source": [
        "### Evaluation"
      ]
    },
    {
      "cell_type": "code",
      "metadata": {
        "id": "1cjPN4H3iXRC"
      },
      "source": [
        "val_perf = model.model_performance(validation)"
      ],
      "execution_count": 50,
      "outputs": []
    },
    {
      "cell_type": "code",
      "metadata": {
        "colab": {
          "base_uri": "https://localhost:8080/"
        },
        "id": "iL2asveRirpz",
        "outputId": "dbc8a93c-1253-4269-a8a5-f93b951d2507"
      },
      "source": [
        "val_perf.auc()"
      ],
      "execution_count": 51,
      "outputs": [
        {
          "output_type": "execute_result",
          "data": {
            "text/plain": [
              "0.7224417279417025"
            ]
          },
          "metadata": {
            "tags": []
          },
          "execution_count": 51
        }
      ]
    },
    {
      "cell_type": "code",
      "metadata": {
        "colab": {
          "base_uri": "https://localhost:8080/"
        },
        "id": "8F0OdSxjjUv-",
        "outputId": "27f532c4-7ff2-4c88-a6e7-0a09693887a3"
      },
      "source": [
        "val_perf.accuracy()[0][1]"
      ],
      "execution_count": 52,
      "outputs": [
        {
          "output_type": "execute_result",
          "data": {
            "text/plain": [
              "0.6942049238820172"
            ]
          },
          "metadata": {
            "tags": []
          },
          "execution_count": 52
        }
      ]
    },
    {
      "cell_type": "code",
      "metadata": {
        "id": "ZImBjmN-ja0P"
      },
      "source": [
        "test_perf = model.model_performance(test)"
      ],
      "execution_count": 53,
      "outputs": []
    },
    {
      "cell_type": "code",
      "metadata": {
        "colab": {
          "base_uri": "https://localhost:8080/"
        },
        "id": "hxUAfTPdjgS1",
        "outputId": "b977fe0a-c22f-4274-b278-6dedc2e4cf75"
      },
      "source": [
        "test_perf.auc()"
      ],
      "execution_count": 54,
      "outputs": [
        {
          "output_type": "execute_result",
          "data": {
            "text/plain": [
              "0.7275172993032565"
            ]
          },
          "metadata": {
            "tags": []
          },
          "execution_count": 54
        }
      ]
    },
    {
      "cell_type": "code",
      "metadata": {
        "colab": {
          "base_uri": "https://localhost:8080/"
        },
        "id": "fDsJqnSVjjpU",
        "outputId": "665e4b17-e49d-4334-8e4e-5c3646ca28d4"
      },
      "source": [
        "test_perf.accuracy()[0][1]"
      ],
      "execution_count": 55,
      "outputs": [
        {
          "output_type": "execute_result",
          "data": {
            "text/plain": [
              "0.6987343656938654"
            ]
          },
          "metadata": {
            "tags": []
          },
          "execution_count": 55
        }
      ]
    },
    {
      "cell_type": "markdown",
      "metadata": {
        "id": "5uDHDWwgoZh3"
      },
      "source": [
        "### Predictions"
      ]
    },
    {
      "cell_type": "code",
      "metadata": {
        "colab": {
          "base_uri": "https://localhost:8080/"
        },
        "id": "VaH_Sn6zjmVy",
        "outputId": "d40b27af-ffbf-43bc-f408-185072e419b8"
      },
      "source": [
        "predictions = model.predict(test_data = validation)"
      ],
      "execution_count": 56,
      "outputs": [
        {
          "output_type": "stream",
          "text": [
            "gbm prediction progress: |████████████████████████████████████████████████| 100%\n"
          ],
          "name": "stdout"
        }
      ]
    },
    {
      "cell_type": "code",
      "metadata": {
        "colab": {
          "base_uri": "https://localhost:8080/",
          "height": 250
        },
        "id": "oNqExQ6-jr_d",
        "outputId": "dbccb788-a8c4-497a-c638-d8a370253346"
      },
      "source": [
        "predictions.head()"
      ],
      "execution_count": 57,
      "outputs": [
        {
          "output_type": "display_data",
          "data": {
            "text/html": [
              "<table>\n",
              "<thead>\n",
              "<tr><th style=\"text-align: right;\">  predict</th><th style=\"text-align: right;\">      p0</th><th style=\"text-align: right;\">      p1</th></tr>\n",
              "</thead>\n",
              "<tbody>\n",
              "<tr><td style=\"text-align: right;\">        0</td><td style=\"text-align: right;\">0.886282</td><td style=\"text-align: right;\">0.113718</td></tr>\n",
              "<tr><td style=\"text-align: right;\">        0</td><td style=\"text-align: right;\">0.849964</td><td style=\"text-align: right;\">0.150036</td></tr>\n",
              "<tr><td style=\"text-align: right;\">        0</td><td style=\"text-align: right;\">0.799633</td><td style=\"text-align: right;\">0.200367</td></tr>\n",
              "<tr><td style=\"text-align: right;\">        0</td><td style=\"text-align: right;\">0.805399</td><td style=\"text-align: right;\">0.194601</td></tr>\n",
              "<tr><td style=\"text-align: right;\">        0</td><td style=\"text-align: right;\">0.804213</td><td style=\"text-align: right;\">0.195787</td></tr>\n",
              "<tr><td style=\"text-align: right;\">        0</td><td style=\"text-align: right;\">0.756413</td><td style=\"text-align: right;\">0.243587</td></tr>\n",
              "<tr><td style=\"text-align: right;\">        0</td><td style=\"text-align: right;\">0.820521</td><td style=\"text-align: right;\">0.179479</td></tr>\n",
              "<tr><td style=\"text-align: right;\">        0</td><td style=\"text-align: right;\">0.834624</td><td style=\"text-align: right;\">0.165376</td></tr>\n",
              "<tr><td style=\"text-align: right;\">        0</td><td style=\"text-align: right;\">0.868607</td><td style=\"text-align: right;\">0.131393</td></tr>\n",
              "<tr><td style=\"text-align: right;\">        0</td><td style=\"text-align: right;\">0.797006</td><td style=\"text-align: right;\">0.202994</td></tr>\n",
              "</tbody>\n",
              "</table>"
            ]
          },
          "metadata": {
            "tags": []
          }
        },
        {
          "output_type": "execute_result",
          "data": {
            "text/plain": [
              ""
            ]
          },
          "metadata": {
            "tags": []
          },
          "execution_count": 57
        }
      ]
    },
    {
      "cell_type": "code",
      "metadata": {
        "id": "Vc0YeBRajwRk"
      },
      "source": [
        "predictions_pd = predictions.as_data_frame()"
      ],
      "execution_count": 58,
      "outputs": []
    },
    {
      "cell_type": "markdown",
      "metadata": {
        "id": "Vwy4HlaBoc8X"
      },
      "source": [
        "### Saving and Reloading the model"
      ]
    },
    {
      "cell_type": "code",
      "metadata": {
        "id": "U_FTPUHzj1O6"
      },
      "source": [
        "saved_model = h2o.save_model(model, path = \"\", force=True)"
      ],
      "execution_count": 59,
      "outputs": []
    },
    {
      "cell_type": "code",
      "metadata": {
        "colab": {
          "base_uri": "https://localhost:8080/",
          "height": 35
        },
        "id": "WURV0SGMj5z2",
        "outputId": "922226bf-5df7-4f0a-9869-21375e0c3884"
      },
      "source": [
        "saved_model"
      ],
      "execution_count": 60,
      "outputs": [
        {
          "output_type": "execute_result",
          "data": {
            "application/vnd.google.colaboratory.intrinsic+json": {
              "type": "string"
            },
            "text/plain": [
              "'/content/GBM_Kinship'"
            ]
          },
          "metadata": {
            "tags": []
          },
          "execution_count": 60
        }
      ]
    },
    {
      "cell_type": "code",
      "metadata": {
        "id": "ShIxP1Kej_UC"
      },
      "source": [
        "#you can directly load the best model by running the load_model command\n",
        "restored_model = h2o.load_model(saved_model)"
      ],
      "execution_count": 61,
      "outputs": []
    }
  ]
}