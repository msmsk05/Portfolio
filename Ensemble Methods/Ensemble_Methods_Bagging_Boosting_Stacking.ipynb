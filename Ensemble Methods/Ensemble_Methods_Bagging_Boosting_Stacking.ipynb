{
  "nbformat": 4,
  "nbformat_minor": 0,
  "metadata": {
    "colab": {
      "name": "Ensemble Methods.ipynb",
      "provenance": [],
      "collapsed_sections": []
    },
    "kernelspec": {
      "name": "python3",
      "display_name": "Python 3"
    },
    "language_info": {
      "name": "python"
    }
  },
  "cells": [
    {
      "cell_type": "markdown",
      "metadata": {
        "id": "yRkTRRVcztog"
      },
      "source": [
        "#**Ensemble Methods**"
      ]
    },
    {
      "cell_type": "code",
      "metadata": {
        "colab": {
          "base_uri": "https://localhost:8080/"
        },
        "id": "DQEyMnVntVrp",
        "outputId": "8ee4e843-5e54-41db-a6ae-6100e2736b5e"
      },
      "source": [
        "import pandas as pd\n",
        "import numpy as np\n",
        "\n",
        "from sklearn.impute import SimpleImputer\n",
        "\n",
        "from sklearn.svm import SVC\n",
        "\n",
        "from sklearn.linear_model import LinearRegression\n",
        "from sklearn.naive_bayes import GaussianNB\n",
        "from sklearn.linear_model import LogisticRegression\n",
        "from sklearn.tree import DecisionTreeClassifier\n",
        "from sklearn.neighbors import KNeighborsClassifier\n",
        "from sklearn.tree import DecisionTreeRegressor\n",
        "from sklearn.linear_model import Ridge\n",
        "\n",
        "from sklearn.metrics import f1_score\n",
        "from sklearn.metrics import accuracy_score\n",
        "from sklearn.metrics import confusion_matrix\n",
        "from sklearn.metrics import classification_report\n",
        "from sklearn.metrics import mean_squared_error\n",
        "from sklearn.metrics import mean_absolute_error\n",
        "\n",
        "from sklearn.model_selection import train_test_split\n",
        "\n",
        "from sklearn.ensemble import VotingClassifier\n",
        "from sklearn.ensemble import VotingRegressor\n",
        "\n",
        "\n",
        "from sklearn.ensemble import BaggingClassifier\n",
        "from sklearn.ensemble import BaggingRegressor\n",
        "\n",
        "\n",
        "from sklearn.ensemble import AdaBoostClassifier\n",
        "from sklearn.ensemble import AdaBoostRegressor\n",
        "\n",
        "from sklearn.ensemble import GradientBoostingClassifier\n",
        "from sklearn.ensemble import GradientBoostingRegressor\n",
        "\n",
        "import xgboost as xgb\n",
        "from xgboost import XGBClassifier\n",
        "from xgboost import XGBRegressor\n",
        "\n",
        "import lightgbm as lgb\n",
        "from lightgbm import LGBMClassifier\n",
        "from lightgbm import LGBMRegressor\n",
        "\n",
        "import catboost as cb\n",
        "from catboost import CatBoostClassifier\n",
        "from catboost import CatBoostRegressor\n",
        "\n",
        "from mlxtend.classifier import  StackingClassifier\n",
        "from mlxtend.regressor import  StackingRegressor"
      ],
      "execution_count": 3,
      "outputs": [
        {
          "output_type": "stream",
          "text": [
            "/usr/local/lib/python3.7/dist-packages/sklearn/externals/six.py:31: FutureWarning: The module is deprecated in version 0.21 and will be removed in version 0.23 since we've dropped support for Python 2.7. Please rely on the official version of six (https://pypi.org/project/six/).\n",
            "  \"(https://pypi.org/project/six/).\", FutureWarning)\n"
          ],
          "name": "stderr"
        }
      ]
    },
    {
      "cell_type": "code",
      "metadata": {
        "id": "oVKJCUyvtlA7"
      },
      "source": [
        "pokemon = pd.read_csv(\"Pokemon.csv\")"
      ],
      "execution_count": 4,
      "outputs": []
    },
    {
      "cell_type": "code",
      "metadata": {
        "id": "Kfksk19DtpLO"
      },
      "source": [
        "pokemon['Legendary'] = pd.get_dummies(pokemon['Legendary'], drop_first=True).values"
      ],
      "execution_count": 5,
      "outputs": []
    },
    {
      "cell_type": "code",
      "metadata": {
        "colab": {
          "base_uri": "https://localhost:8080/",
          "height": 204
        },
        "id": "j-2XwZUew-G9",
        "outputId": "4750732a-81be-43d2-b83c-3dd98513661a"
      },
      "source": [
        "pokemon.head()"
      ],
      "execution_count": 6,
      "outputs": [
        {
          "output_type": "execute_result",
          "data": {
            "text/html": [
              "<div>\n",
              "<style scoped>\n",
              "    .dataframe tbody tr th:only-of-type {\n",
              "        vertical-align: middle;\n",
              "    }\n",
              "\n",
              "    .dataframe tbody tr th {\n",
              "        vertical-align: top;\n",
              "    }\n",
              "\n",
              "    .dataframe thead th {\n",
              "        text-align: right;\n",
              "    }\n",
              "</style>\n",
              "<table border=\"1\" class=\"dataframe\">\n",
              "  <thead>\n",
              "    <tr style=\"text-align: right;\">\n",
              "      <th></th>\n",
              "      <th>#</th>\n",
              "      <th>Name</th>\n",
              "      <th>Type 1</th>\n",
              "      <th>Type 2</th>\n",
              "      <th>Total</th>\n",
              "      <th>HP</th>\n",
              "      <th>Attack</th>\n",
              "      <th>Defense</th>\n",
              "      <th>Sp. Atk</th>\n",
              "      <th>Sp. Def</th>\n",
              "      <th>Speed</th>\n",
              "      <th>Generation</th>\n",
              "      <th>Legendary</th>\n",
              "    </tr>\n",
              "  </thead>\n",
              "  <tbody>\n",
              "    <tr>\n",
              "      <th>0</th>\n",
              "      <td>1</td>\n",
              "      <td>Bulbasaur</td>\n",
              "      <td>Grass</td>\n",
              "      <td>Poison</td>\n",
              "      <td>318</td>\n",
              "      <td>45</td>\n",
              "      <td>49</td>\n",
              "      <td>49</td>\n",
              "      <td>65</td>\n",
              "      <td>65</td>\n",
              "      <td>45</td>\n",
              "      <td>1</td>\n",
              "      <td>0</td>\n",
              "    </tr>\n",
              "    <tr>\n",
              "      <th>1</th>\n",
              "      <td>2</td>\n",
              "      <td>Ivysaur</td>\n",
              "      <td>Grass</td>\n",
              "      <td>Poison</td>\n",
              "      <td>405</td>\n",
              "      <td>60</td>\n",
              "      <td>62</td>\n",
              "      <td>63</td>\n",
              "      <td>80</td>\n",
              "      <td>80</td>\n",
              "      <td>60</td>\n",
              "      <td>1</td>\n",
              "      <td>0</td>\n",
              "    </tr>\n",
              "    <tr>\n",
              "      <th>2</th>\n",
              "      <td>3</td>\n",
              "      <td>Venusaur</td>\n",
              "      <td>Grass</td>\n",
              "      <td>Poison</td>\n",
              "      <td>525</td>\n",
              "      <td>80</td>\n",
              "      <td>82</td>\n",
              "      <td>83</td>\n",
              "      <td>100</td>\n",
              "      <td>100</td>\n",
              "      <td>80</td>\n",
              "      <td>1</td>\n",
              "      <td>0</td>\n",
              "    </tr>\n",
              "    <tr>\n",
              "      <th>3</th>\n",
              "      <td>3</td>\n",
              "      <td>VenusaurMega Venusaur</td>\n",
              "      <td>Grass</td>\n",
              "      <td>Poison</td>\n",
              "      <td>625</td>\n",
              "      <td>80</td>\n",
              "      <td>100</td>\n",
              "      <td>123</td>\n",
              "      <td>122</td>\n",
              "      <td>120</td>\n",
              "      <td>80</td>\n",
              "      <td>1</td>\n",
              "      <td>0</td>\n",
              "    </tr>\n",
              "    <tr>\n",
              "      <th>4</th>\n",
              "      <td>4</td>\n",
              "      <td>Charmander</td>\n",
              "      <td>Fire</td>\n",
              "      <td>NaN</td>\n",
              "      <td>309</td>\n",
              "      <td>39</td>\n",
              "      <td>52</td>\n",
              "      <td>43</td>\n",
              "      <td>60</td>\n",
              "      <td>50</td>\n",
              "      <td>65</td>\n",
              "      <td>1</td>\n",
              "      <td>0</td>\n",
              "    </tr>\n",
              "  </tbody>\n",
              "</table>\n",
              "</div>"
            ],
            "text/plain": [
              "   #                   Name Type 1  ... Speed  Generation  Legendary\n",
              "0  1              Bulbasaur  Grass  ...    45           1          0\n",
              "1  2                Ivysaur  Grass  ...    60           1          0\n",
              "2  3               Venusaur  Grass  ...    80           1          0\n",
              "3  3  VenusaurMega Venusaur  Grass  ...    80           1          0\n",
              "4  4             Charmander   Fire  ...    65           1          0\n",
              "\n",
              "[5 rows x 13 columns]"
            ]
          },
          "metadata": {
            "tags": []
          },
          "execution_count": 6
        }
      ]
    },
    {
      "cell_type": "code",
      "metadata": {
        "id": "l5glZX_4xACa"
      },
      "source": [
        "X = pokemon.drop(['#', \"Name\", \"Legendary\", \"Type 1\", \"Type 2\"], axis=1)\n",
        "y = pokemon['Legendary']\n",
        "\n",
        "X_train, X_test, y_train, y_test = train_test_split(X, y, test_size=0.2,random_state=101)"
      ],
      "execution_count": 7,
      "outputs": []
    },
    {
      "cell_type": "markdown",
      "metadata": {
        "id": "UUW2SOOyz6TV"
      },
      "source": [
        "## Voting  \n",
        "For classification problems\n",
        "\n",
        "Majority Voting: Mode\n",
        "\n",
        "Odd number of classifiers are required."
      ]
    },
    {
      "cell_type": "code",
      "metadata": {
        "colab": {
          "base_uri": "https://localhost:8080/"
        },
        "id": "S_YMD9FUxEtd",
        "outputId": "b31167e5-48d8-4f1e-dbe4-08389ef3a472"
      },
      "source": [
        "# Instantiate the individual models\n",
        "clf_knn = KNeighborsClassifier(n_neighbors=5)\n",
        "clf_lr = LogisticRegression(class_weight=\"balanced\")\n",
        "clf_dt = DecisionTreeClassifier(min_samples_leaf=3, min_samples_split=9, random_state=500)\n",
        "\n",
        "# Create and fit the voting classifier\n",
        "clf_vote = VotingClassifier(\n",
        "    estimators=[('knn', clf_knn), ('lr', clf_lr), ('dt', clf_dt)]\n",
        ")\n",
        "clf_vote.fit(X_train, y_train)"
      ],
      "execution_count": 8,
      "outputs": [
        {
          "output_type": "execute_result",
          "data": {
            "text/plain": [
              "VotingClassifier(estimators=[('knn',\n",
              "                              KNeighborsClassifier(algorithm='auto',\n",
              "                                                   leaf_size=30,\n",
              "                                                   metric='minkowski',\n",
              "                                                   metric_params=None,\n",
              "                                                   n_jobs=None, n_neighbors=5,\n",
              "                                                   p=2, weights='uniform')),\n",
              "                             ('lr',\n",
              "                              LogisticRegression(C=1.0, class_weight='balanced',\n",
              "                                                 dual=False, fit_intercept=True,\n",
              "                                                 intercept_scaling=1,\n",
              "                                                 l1_ratio=None, max_iter=100,\n",
              "                                                 multi_class='auto',\n",
              "                                                 n_jobs=None, penalty='l2'...\n",
              "                              DecisionTreeClassifier(ccp_alpha=0.0,\n",
              "                                                     class_weight=None,\n",
              "                                                     criterion='gini',\n",
              "                                                     max_depth=None,\n",
              "                                                     max_features=None,\n",
              "                                                     max_leaf_nodes=None,\n",
              "                                                     min_impurity_decrease=0.0,\n",
              "                                                     min_impurity_split=None,\n",
              "                                                     min_samples_leaf=3,\n",
              "                                                     min_samples_split=9,\n",
              "                                                     min_weight_fraction_leaf=0.0,\n",
              "                                                     presort='deprecated',\n",
              "                                                     random_state=500,\n",
              "                                                     splitter='best'))],\n",
              "                 flatten_transform=True, n_jobs=None, voting='hard',\n",
              "                 weights=None)"
            ]
          },
          "metadata": {
            "tags": []
          },
          "execution_count": 8
        }
      ]
    },
    {
      "cell_type": "code",
      "metadata": {
        "colab": {
          "base_uri": "https://localhost:8080/"
        },
        "id": "BZFLF3baxKAr",
        "outputId": "a2045dab-36d4-4ce7-e044-dc6f3a766dd2"
      },
      "source": [
        "pred_vote = clf_vote.predict(X_test)\n",
        "score_vote = f1_score(y_test, pred_vote)\n",
        "print('F1-Score: {:.3f}'.format(score_vote))\n",
        "\n",
        "report = classification_report(y_test, pred_vote)\n",
        "print(report)"
      ],
      "execution_count": 9,
      "outputs": [
        {
          "output_type": "stream",
          "text": [
            "F1-Score: 0.703\n",
            "              precision    recall  f1-score   support\n",
            "\n",
            "           0       0.96      0.96      0.96       141\n",
            "           1       0.72      0.68      0.70        19\n",
            "\n",
            "    accuracy                           0.93       160\n",
            "   macro avg       0.84      0.82      0.83       160\n",
            "weighted avg       0.93      0.93      0.93       160\n",
            "\n"
          ],
          "name": "stdout"
        }
      ]
    },
    {
      "cell_type": "code",
      "metadata": {
        "colab": {
          "base_uri": "https://localhost:8080/"
        },
        "id": "U7W2vSj1xNyp",
        "outputId": "24ab7bed-4e53-4b9f-f8d8-41a9c8ec28ba"
      },
      "source": [
        "got = pd.read_csv('character-predictions.csv')\n",
        "got.info()"
      ],
      "execution_count": 11,
      "outputs": [
        {
          "output_type": "stream",
          "text": [
            "<class 'pandas.core.frame.DataFrame'>\n",
            "RangeIndex: 1946 entries, 0 to 1945\n",
            "Data columns (total 33 columns):\n",
            " #   Column             Non-Null Count  Dtype  \n",
            "---  ------             --------------  -----  \n",
            " 0   S.No               1946 non-null   int64  \n",
            " 1   actual             1946 non-null   int64  \n",
            " 2   pred               1946 non-null   int64  \n",
            " 3   alive              1946 non-null   float64\n",
            " 4   plod               1946 non-null   float64\n",
            " 5   name               1946 non-null   object \n",
            " 6   title              938 non-null    object \n",
            " 7   male               1946 non-null   int64  \n",
            " 8   culture            677 non-null    object \n",
            " 9   dateOfBirth        433 non-null    float64\n",
            " 10  DateoFdeath        444 non-null    float64\n",
            " 11  mother             21 non-null     object \n",
            " 12  father             26 non-null     object \n",
            " 13  heir               23 non-null     object \n",
            " 14  house              1519 non-null   object \n",
            " 15  spouse             276 non-null    object \n",
            " 16  book1              1946 non-null   int64  \n",
            " 17  book2              1946 non-null   int64  \n",
            " 18  book3              1946 non-null   int64  \n",
            " 19  book4              1946 non-null   int64  \n",
            " 20  book5              1946 non-null   int64  \n",
            " 21  isAliveMother      21 non-null     float64\n",
            " 22  isAliveFather      26 non-null     float64\n",
            " 23  isAliveHeir        23 non-null     float64\n",
            " 24  isAliveSpouse      276 non-null    float64\n",
            " 25  isMarried          1946 non-null   int64  \n",
            " 26  isNoble            1946 non-null   int64  \n",
            " 27  age                433 non-null    float64\n",
            " 28  numDeadRelations   1946 non-null   int64  \n",
            " 29  boolDeadRelations  1946 non-null   int64  \n",
            " 30  isPopular          1946 non-null   int64  \n",
            " 31  popularity         1946 non-null   float64\n",
            " 32  isAlive            1946 non-null   int64  \n",
            "dtypes: float64(10), int64(15), object(8)\n",
            "memory usage: 501.8+ KB\n"
          ],
          "name": "stdout"
        }
      ]
    },
    {
      "cell_type": "markdown",
      "metadata": {
        "id": "tGogsZrq0PvV"
      },
      "source": [
        "## **Averaging**\n",
        "\n",
        "Both classification and regression\n",
        "\n",
        "Soft Voting: Mean\n",
        "\n",
        "Regression:mean of predicted values\n",
        "\n",
        "Classification:mean of predicted probabilities"
      ]
    },
    {
      "cell_type": "code",
      "metadata": {
        "colab": {
          "base_uri": "https://localhost:8080/"
        },
        "id": "MtguNNS5xaob",
        "outputId": "39f34998-6705-460b-8c33-441ca3206283"
      },
      "source": [
        "clf_lr = LogisticRegression(class_weight='balanced')\n",
        "clf_dt = DecisionTreeClassifier(min_samples_leaf=3, min_samples_split=9, random_state=500)\n",
        "clf_svm = SVC(probability=True, class_weight='balanced', random_state=500)\n",
        "\n",
        "estimators = [\n",
        "    ('lr', clf_lr),\n",
        "    ('dt', clf_dt),\n",
        "    ('svm', clf_svm)\n",
        "]\n",
        "\n",
        "# Build and fit an averaging classifier\n",
        "clf_avg = VotingClassifier(estimators,\n",
        "                            voting= 'soft') # Averaging\n",
        "                            # for regressor there is no voting parameter.\n",
        "                            # weights=[w_1, w_2, ..., w_N] can be also stated.\n",
        "clf_avg.fit(X_train, y_train)\n",
        "\n",
        "# Evaluate model performance\n",
        "acc_avg = accuracy_score(y_test,  clf_avg.predict(X_test))\n",
        "print('Accuracy: {:.2f}'.format(acc_avg))"
      ],
      "execution_count": 12,
      "outputs": [
        {
          "output_type": "stream",
          "text": [
            "Accuracy: 0.93\n"
          ],
          "name": "stdout"
        }
      ]
    },
    {
      "cell_type": "markdown",
      "metadata": {
        "id": "YIxKFq7x1uQY"
      },
      "source": [
        "## **Bootstrap Aggregating**\n",
        "\n",
        "**Bootstrapping requires:**\n",
        "\n",
        "Random subsamples\n",
        "\n",
        "Using replacement\n",
        "\n",
        "\n",
        "**Heterogeneous:**\n",
        "\n",
        "Different algorithms (fine-tuned)\n",
        "\n",
        "Small amount of estimators\n",
        "\n",
        "Voting, Averaging, and Stacking\n",
        "\n",
        "\n",
        "**Homogeneous:**\n",
        "\n",
        "The same algorithm (\"weak\" model)\n",
        "\n",
        "Large amount of estimators\n",
        "\n",
        "Bagging and Boosting"
      ]
    },
    {
      "cell_type": "markdown",
      "metadata": {
        "id": "mwUZLSfL3AoH"
      },
      "source": [
        "## **Bagging Classifier**"
      ]
    },
    {
      "cell_type": "code",
      "metadata": {
        "colab": {
          "base_uri": "https://localhost:8080/"
        },
        "id": "zm3YJJPyxsFx",
        "outputId": "3765b315-6be6-442d-edf8-64726fe725b1"
      },
      "source": [
        "#Take a sample with replacement \n",
        "X_train_sample = X_train.sample(frac=1.0, replace=True, random_state=42)\n",
        "y_train_sample = y_train.loc[X_train_sample.index]\n",
        "\n",
        "# Build a \"weak\" Decision Tree classifier\n",
        "clf = DecisionTreeClassifier(max_depth=4, max_features=2, random_state=500)\n",
        "\n",
        "# Fit the model to the training sample\n",
        "clf.fit(X_train_sample, y_train_sample)"
      ],
      "execution_count": 13,
      "outputs": [
        {
          "output_type": "execute_result",
          "data": {
            "text/plain": [
              "DecisionTreeClassifier(ccp_alpha=0.0, class_weight=None, criterion='gini',\n",
              "                       max_depth=4, max_features=2, max_leaf_nodes=None,\n",
              "                       min_impurity_decrease=0.0, min_impurity_split=None,\n",
              "                       min_samples_leaf=1, min_samples_split=2,\n",
              "                       min_weight_fraction_leaf=0.0, presort='deprecated',\n",
              "                       random_state=500, splitter='best')"
            ]
          },
          "metadata": {
            "tags": []
          },
          "execution_count": 13
        }
      ]
    },
    {
      "cell_type": "code",
      "metadata": {
        "colab": {
          "base_uri": "https://localhost:8080/"
        },
        "id": "GUUf1F0zxzpo",
        "outputId": "6a9c2887-d4a1-4f6a-a421-d9befdadaf47"
      },
      "source": [
        "# Instantiate the base model\n",
        "clf_dt = DecisionTreeClassifier(max_depth=4)\n",
        "\n",
        "# Build and train the Bagging classifier\n",
        "clf_bag = BaggingClassifier(\n",
        "  n_estimators=21,\n",
        "  base_estimator=clf_dt,\n",
        "  oob_score=True,\n",
        "  bootstrap=True,\n",
        "  max_features=5,\n",
        "  random_state=500)\n",
        "clf_bag.fit(X_train, y_train)\n",
        "\n",
        "print('OOB-Score: {:.3f}'.format(clf_bag.oob_score_))\n",
        "# Predict the labels of the test set\n",
        "pred = clf_bag.predict(X_test)\n",
        "\n",
        "# Show the F1-score\n",
        "print('F1-Score: {:.3f}'.format(f1_score(y_test, pred)))"
      ],
      "execution_count": 14,
      "outputs": [
        {
          "output_type": "stream",
          "text": [
            "OOB-Score: 0.966\n",
            "F1-Score: 0.706\n"
          ],
          "name": "stdout"
        }
      ]
    },
    {
      "cell_type": "markdown",
      "metadata": {
        "id": "7ap2bFdU4AwJ"
      },
      "source": [
        "## **Gradual Learning**\n",
        "\n",
        "Principle: iterative learning\n",
        "\n",
        "Dependent estimators\n",
        "\n",
        "Learning different tasks for the same goal\n",
        "\n",
        "Sequential building"
      ]
    },
    {
      "cell_type": "markdown",
      "metadata": {
        "id": "Gd-8rMZ34CU1"
      },
      "source": [
        "## **AdaBoost**"
      ]
    },
    {
      "cell_type": "code",
      "metadata": {
        "colab": {
          "base_uri": "https://localhost:8080/"
        },
        "id": "jlDLFVGKx7AG",
        "outputId": "e0d49fab-665b-4a41-e184-b8a393b57501"
      },
      "source": [
        "# Instantiate a normalized linear regression model\n",
        "reg_lm = LinearRegression(normalize=True)\n",
        "\n",
        "# Build and fit an AdaBoost regressor\n",
        "reg_ada = AdaBoostRegressor(reg_lm,\n",
        "                            n_estimators=12,\n",
        "                            learning_rate=2,\n",
        "                            random_state=500)\n",
        "reg_ada.fit(X_train, y_train)\n",
        "\n",
        "# Calculate the predictions on the test set\n",
        "pred = reg_ada.predict(X_test)\n",
        "\n",
        "# Evaluate the performance using the RMSE\n",
        "rmse = np.sqrt(mean_squared_error(y_test, pred))\n",
        "print('RMSE: {:.3f}'.format(rmse))"
      ],
      "execution_count": 15,
      "outputs": [
        {
          "output_type": "stream",
          "text": [
            "RMSE: 0.288\n"
          ],
          "name": "stdout"
        }
      ]
    },
    {
      "cell_type": "markdown",
      "metadata": {
        "id": "vVMo7Pvb3nw7"
      },
      "source": [
        "## **Gradient Boosting**"
      ]
    },
    {
      "cell_type": "code",
      "metadata": {
        "colab": {
          "base_uri": "https://localhost:8080/"
        },
        "id": "Od_2YGSiyA1d",
        "outputId": "b5187534-8086-4e37-957f-893d1cf0e5e5"
      },
      "source": [
        "# Build and fit a Gradient Boosting classifier\n",
        "clf_gbm = GradientBoostingClassifier(n_estimators=100, learning_rate=0.1, random_state=500)\n",
        "clf_gbm.fit(X_train, y_train)\n",
        "\n",
        "# Calculate the predictions on the test set\n",
        "pred = clf_gbm.predict(X_test)\n",
        "\n",
        "# Evaluate the performance based on the accuracy\n",
        "acc = accuracy_score(y_test, pred)\n",
        "print('Accuracy: {:.3f}'.format(acc))\n",
        "\n",
        "# Get and show the Confusion Matrix\n",
        "cm = confusion_matrix(y_test, pred)\n",
        "print(cm)"
      ],
      "execution_count": 16,
      "outputs": [
        {
          "output_type": "stream",
          "text": [
            "Accuracy: 0.938\n",
            "[[137   4]\n",
            " [  6  13]]\n"
          ],
          "name": "stdout"
        }
      ]
    },
    {
      "cell_type": "markdown",
      "metadata": {
        "id": "8rdP4Awo4aqA"
      },
      "source": [
        "XGBoost and Light Gradient Boosting Machine"
      ]
    },
    {
      "cell_type": "code",
      "metadata": {
        "id": "yQP5ht5eyFFb"
      },
      "source": [
        "clf_xgb = XGBClassifier(\n",
        "    n_estimators = 100,\n",
        "    learning_rate = 0.1,\n",
        "    max_depth=3,\n",
        "    \n",
        ")\n",
        "\n",
        "clf_lgb = LGBMClassifier(\n",
        "    n_estimators = 100,\n",
        "    learning_rate = 0.1,\n",
        "    max_depth=-1)"
      ],
      "execution_count": 17,
      "outputs": []
    },
    {
      "cell_type": "code",
      "metadata": {
        "colab": {
          "base_uri": "https://localhost:8080/"
        },
        "id": "h40SyXNXyOVY",
        "outputId": "d3ad57c3-c224-475f-d490-0e9622434ff4"
      },
      "source": [
        "# Build and fit a CatBoost regressor\n",
        "reg_cat = cb.CatBoostRegressor(n_estimators=10, learning_rate=0.1, max_depth=3, random_state=500)\n",
        "reg_cat.fit(X_train, y_train)\n",
        "\n",
        "# Calculate the predictions on the set set\n",
        "pred = reg_cat.predict(X_test)\n",
        "\n",
        "# Evaluate the performance using the RMSE\n",
        "rmse_cat = np.sqrt(mean_squared_error(y_test, pred))\n",
        "print('RMSE (CatBoost): {:.3f}'.format(rmse_cat))"
      ],
      "execution_count": 18,
      "outputs": [
        {
          "output_type": "stream",
          "text": [
            "0:\tlearn: 0.2460623\ttotal: 47.4ms\tremaining: 426ms\n",
            "1:\tlearn: 0.2348788\ttotal: 47.8ms\tremaining: 191ms\n",
            "2:\tlearn: 0.2242178\ttotal: 48.2ms\tremaining: 113ms\n",
            "3:\tlearn: 0.2145248\ttotal: 48.6ms\tremaining: 72.9ms\n",
            "4:\tlearn: 0.2068429\ttotal: 49ms\tremaining: 49ms\n",
            "5:\tlearn: 0.2001496\ttotal: 49.6ms\tremaining: 33ms\n",
            "6:\tlearn: 0.1929999\ttotal: 50.1ms\tremaining: 21.5ms\n",
            "7:\tlearn: 0.1876807\ttotal: 50.8ms\tremaining: 12.7ms\n",
            "8:\tlearn: 0.1830909\ttotal: 51.4ms\tremaining: 5.71ms\n",
            "9:\tlearn: 0.1792090\ttotal: 52.8ms\tremaining: 0us\n",
            "RMSE (CatBoost): 0.239\n"
          ],
          "name": "stdout"
        }
      ]
    },
    {
      "cell_type": "code",
      "metadata": {
        "colab": {
          "base_uri": "https://localhost:8080/"
        },
        "id": "mixCM-J5yQk9",
        "outputId": "ca2aa7da-5b03-4bbd-b17d-8cdedcefccea"
      },
      "source": [
        "# Build and fit a XGBoost regressor\n",
        "reg_xgb = xgb.XGBRegressor(n_estimators=100, learning_rate=0.1, max_depth=3, random_state=500)\n",
        "reg_xgb.fit(X_train, y_train)\n",
        "\n",
        "# Build and fit a LightGBM regressor\n",
        "reg_lgb = lgb.LGBMRegressor(n_estimators=100, learning_rate=0.1, max_depth=3, seed=500)\n",
        "reg_lgb.fit(X_train, y_train)\n",
        "\n",
        "# Calculate the predictions and evaluate both regressors\n",
        "pred_xgb = reg_xgb.predict(X_test)\n",
        "rmse_xgb = np.sqrt(mean_squared_error(y_test, pred_xgb))\n",
        "pred_lgb = reg_lgb.predict(X_test)\n",
        "rmse_lgb = np.sqrt(mean_squared_error(y_test, pred_lgb))\n",
        "\n",
        "print('Extreme: {:.3f}, Light: {:.3f}'.format(rmse_xgb, rmse_lgb))"
      ],
      "execution_count": 19,
      "outputs": [
        {
          "output_type": "stream",
          "text": [
            "[19:23:30] WARNING: /workspace/src/objective/regression_obj.cu:152: reg:linear is now deprecated in favor of reg:squarederror.\n",
            "Extreme: 0.193, Light: 0.189\n"
          ],
          "name": "stdout"
        }
      ]
    },
    {
      "cell_type": "markdown",
      "metadata": {
        "id": "UN4GmgGL43QD"
      },
      "source": [
        "## **Stacking**"
      ]
    },
    {
      "cell_type": "code",
      "metadata": {
        "colab": {
          "base_uri": "https://localhost:8080/"
        },
        "id": "bfL9_ptPyVI_",
        "outputId": "6bd6b9dd-0afd-4735-d260-b7dd446f0e7b"
      },
      "source": [
        "# Build and fit a Decision Tree classifier\n",
        "clf_dt = DecisionTreeClassifier(min_samples_leaf=3, min_samples_split=9, random_state=500)\n",
        "clf_dt.fit(X_train, y_train)\n",
        "\n",
        "# Build and fit a 5-nearest neighbors classifier using the 'Ball-Tree' algorithm\n",
        "clf_knn = KNeighborsClassifier(n_neighbors=5, algorithm='ball_tree')\n",
        "clf_knn.fit(X_train, y_train)\n",
        "\n",
        "# Evaluate the performance using the accuracy score\n",
        "print('Decision Tree: {:0.4f}'.format(accuracy_score(y_test, clf_dt.predict(X_test))))\n",
        "print('5-Nearest Neighbors: {:0.4f}'.format(accuracy_score(y_test, clf_knn.predict(X_test))))\n",
        "\n",
        "pred_dt  = clf_dt.predict(X_train)\n",
        "pred_knn = clf_knn.predict(X_train)\n",
        "# Create a Pandas DataFrame with the predictions\n",
        "pred_df = pd.DataFrame({\n",
        "\t'pred_dt':pred_dt,\n",
        "    'pred_knn': pred_knn\n",
        "}, index=X_train.index)\n",
        "\n",
        "# Concatenate X_train with the predictions DataFrame\n",
        "X_train_2nd = pd.concat([X_train, pred_df], axis=1)\n",
        "\n",
        "# Build the second-layer meta estimator\n",
        "clf_stack = DecisionTreeClassifier(random_state=500)\n",
        "clf_stack.fit(X_train_2nd, y_train)\n",
        "\n",
        "pred_dt  = clf_dt.predict(X_test)\n",
        "pred_knn = clf_knn.predict(X_test)\n",
        "\n",
        "# Create a Pandas DataFrame with the predictions\n",
        "pred_df = pd.DataFrame({\n",
        "\t'pred_dt': pred_dt,\n",
        "    'pred_knn':pred_knn\n",
        "}, index=X_test.index)\n",
        "\n",
        "# Concatenate X_test with the predictions DataFrame\n",
        "X_test_2nd = pd.concat([X_test, pred_df], axis=1)\n",
        "\n",
        "# Obtain the final predictions from the second-layer estimator\n",
        "pred_stack = clf_stack.predict(X_test_2nd)\n",
        "\n",
        "# Evaluate the new performance on the test set\n",
        "print('Accuracy: {:0.4f}'.format(accuracy_score(y_test, pred_stack)))"
      ],
      "execution_count": 20,
      "outputs": [
        {
          "output_type": "stream",
          "text": [
            "Decision Tree: 0.9437\n",
            "5-Nearest Neighbors: 0.9125\n",
            "Accuracy: 0.9250\n"
          ],
          "name": "stdout"
        }
      ]
    },
    {
      "cell_type": "markdown",
      "metadata": {
        "id": "tKKyrd8M5Dpd"
      },
      "source": [
        "## **MLExtend Stacking**\n",
        "\n",
        "Individual estimators are trained on the\n",
        "complete features\n",
        "\n",
        "The meta-estimator is trained using the\n",
        "predictions as the only meta-features\n",
        "\n",
        "The meta-estimator can be trained with\n",
        "labels or probabilities as target"
      ]
    },
    {
      "cell_type": "code",
      "metadata": {
        "colab": {
          "base_uri": "https://localhost:8080/"
        },
        "id": "0mB4jya6ybq0",
        "outputId": "c37d8189-baf1-4908-e4be-e2dcd1ea5fe2"
      },
      "source": [
        "# Instantiate the first-layer classifiers\n",
        "clf_dt = DecisionTreeClassifier(min_samples_leaf=3, min_samples_split=9, random_state=500)\n",
        "clf_knn = KNeighborsClassifier(n_neighbors=5, algorithm='ball_tree')\n",
        "\n",
        "# Instantiate the second-layer meta classifier\n",
        "clf_meta = DecisionTreeClassifier(random_state=500)\n",
        "\n",
        "# Build the Stacking classifier\n",
        "clf_stack = StackingClassifier(\n",
        "    classifiers=[clf_dt,clf_knn],\n",
        "    meta_classifier=clf_meta,\n",
        "    use_features_in_secondary= True\n",
        "    )\n",
        "clf_stack.fit(X_train, y_train)\n",
        "\n",
        "# Evaluate the performance of the Stacking classifier\n",
        "pred_stack = clf_stack.predict(X_test)\n",
        "print(\"Accuracy: {:0.4f}\".format(accuracy_score(y_test, pred_stack)))"
      ],
      "execution_count": 21,
      "outputs": [
        {
          "output_type": "stream",
          "text": [
            "Accuracy: 0.9250\n"
          ],
          "name": "stdout"
        }
      ]
    },
    {
      "cell_type": "code",
      "metadata": {
        "colab": {
          "base_uri": "https://localhost:8080/"
        },
        "id": "C4c9F5Lnyi6A",
        "outputId": "802ce23a-86f7-4bad-d78d-b2bdb350d90c"
      },
      "source": [
        "# Instantiate the 1st-layer regressors\n",
        "reg_dt = DecisionTreeRegressor(min_samples_leaf=11, min_samples_split=33, random_state=500)\n",
        "reg_lr = LinearRegression(normalize=True)\n",
        "reg_ridge = Ridge(random_state=500)\n",
        "\n",
        "# Instantiate the 2nd-layer regressor\n",
        "reg_meta = LinearRegression()\n",
        "\n",
        "# Build the Stacking regressor\n",
        "reg_stack = StackingRegressor(\n",
        "    regressors =[reg_dt, reg_lr, reg_ridge],\n",
        "    meta_regressor=reg_meta)\n",
        "reg_stack.fit(X_train, y_train)\n",
        "\n",
        "# Evaluate the performance on the test set using the MAE metric\n",
        "pred = reg_stack.predict(X_test)\n",
        "print('MAE: {:.3f}'.format(mean_absolute_error(y_test, pred)))"
      ],
      "execution_count": 22,
      "outputs": [
        {
          "output_type": "stream",
          "text": [
            "MAE: 0.074\n"
          ],
          "name": "stdout"
        }
      ]
    },
    {
      "cell_type": "code",
      "metadata": {
        "id": "P0i_NeXJymHU"
      },
      "source": [
        ""
      ],
      "execution_count": null,
      "outputs": []
    }
  ]
}