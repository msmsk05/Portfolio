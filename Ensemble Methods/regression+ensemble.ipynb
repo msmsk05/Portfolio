{
  "nbformat": 4,
  "nbformat_minor": 0,
  "metadata": {
    "colab": {
      "name": "ensemble regression.ipynb",
      "provenance": [],
      "authorship_tag": "ABX9TyMRYEjYziwTp4BaXX/IgRfa"
    },
    "kernelspec": {
      "name": "python3",
      "display_name": "Python 3"
    }
  },
  "cells": [
    {
      "cell_type": "code",
      "metadata": {
        "id": "yYdSuueLiW3e",
        "colab_type": "code",
        "colab": {}
      },
      "source": [
        "import pandas as pd\n",
        "from sklearn.linear_model import LinearRegression\n",
        "from sklearn.ensemble import RandomForestRegressor\n",
        "from sklearn.experimental import enable_hist_gradient_boosting\n",
        "from sklearn.ensemble import VotingRegressor,GradientBoostingRegressor,HistGradientBoostingRegressor,StackingRegressor\n",
        "from sklearn.model_selection import train_test_split\n",
        "from sklearn.svm import SVR\n",
        "from sklearn.metrics import mean_squared_error,accuracy_score\n",
        "from sklearn.ensemble import AdaBoostRegressor,BaggingRegressor,ExtraTreesRegressor\n",
        "from xgboost import XGBRegressor\n",
        "\n",
        "import tensorflow as tf\n",
        "import tensorflow.keras as keras\n",
        "from tensorflow.keras.layers import Dense,Dropout\n",
        "from tensorflow.keras.models import Sequential\n",
        "from keras.metrics import RootMeanSquaredError"
      ],
      "execution_count": 1,
      "outputs": []
    },
    {
      "cell_type": "code",
      "metadata": {
        "id": "tBlz0-eNjB7S",
        "colab_type": "code",
        "colab": {}
      },
      "source": [
        "from sklearn.datasets import load_boston\n",
        "boston_dataset = load_boston()"
      ],
      "execution_count": 2,
      "outputs": []
    },
    {
      "cell_type": "code",
      "metadata": {
        "id": "fZJW-X7IjEAI",
        "colab_type": "code",
        "colab": {
          "base_uri": "https://localhost:8080/",
          "height": 34
        },
        "outputId": "019076cd-eae3-453a-a14f-d0129ed575a9"
      },
      "source": [
        "print(boston_dataset.keys())"
      ],
      "execution_count": 3,
      "outputs": [
        {
          "output_type": "stream",
          "text": [
            "dict_keys(['data', 'target', 'feature_names', 'DESCR', 'filename'])\n"
          ],
          "name": "stdout"
        }
      ]
    },
    {
      "cell_type": "code",
      "metadata": {
        "id": "xhB-msSWjFwq",
        "colab_type": "code",
        "colab": {}
      },
      "source": [
        "boston=pd.DataFrame(boston_dataset.data,columns=boston_dataset.feature_names)"
      ],
      "execution_count": 4,
      "outputs": []
    },
    {
      "cell_type": "code",
      "metadata": {
        "id": "sEHgb2-GjPiC",
        "colab_type": "code",
        "colab": {
          "base_uri": "https://localhost:8080/",
          "height": 195
        },
        "outputId": "82c7b41d-da60-4108-ba29-26d673bdea28"
      },
      "source": [
        "boston.head()"
      ],
      "execution_count": 5,
      "outputs": [
        {
          "output_type": "execute_result",
          "data": {
            "text/html": [
              "<div>\n",
              "<style scoped>\n",
              "    .dataframe tbody tr th:only-of-type {\n",
              "        vertical-align: middle;\n",
              "    }\n",
              "\n",
              "    .dataframe tbody tr th {\n",
              "        vertical-align: top;\n",
              "    }\n",
              "\n",
              "    .dataframe thead th {\n",
              "        text-align: right;\n",
              "    }\n",
              "</style>\n",
              "<table border=\"1\" class=\"dataframe\">\n",
              "  <thead>\n",
              "    <tr style=\"text-align: right;\">\n",
              "      <th></th>\n",
              "      <th>CRIM</th>\n",
              "      <th>ZN</th>\n",
              "      <th>INDUS</th>\n",
              "      <th>CHAS</th>\n",
              "      <th>NOX</th>\n",
              "      <th>RM</th>\n",
              "      <th>AGE</th>\n",
              "      <th>DIS</th>\n",
              "      <th>RAD</th>\n",
              "      <th>TAX</th>\n",
              "      <th>PTRATIO</th>\n",
              "      <th>B</th>\n",
              "      <th>LSTAT</th>\n",
              "    </tr>\n",
              "  </thead>\n",
              "  <tbody>\n",
              "    <tr>\n",
              "      <th>0</th>\n",
              "      <td>0.00632</td>\n",
              "      <td>18.0</td>\n",
              "      <td>2.31</td>\n",
              "      <td>0.0</td>\n",
              "      <td>0.538</td>\n",
              "      <td>6.575</td>\n",
              "      <td>65.2</td>\n",
              "      <td>4.0900</td>\n",
              "      <td>1.0</td>\n",
              "      <td>296.0</td>\n",
              "      <td>15.3</td>\n",
              "      <td>396.90</td>\n",
              "      <td>4.98</td>\n",
              "    </tr>\n",
              "    <tr>\n",
              "      <th>1</th>\n",
              "      <td>0.02731</td>\n",
              "      <td>0.0</td>\n",
              "      <td>7.07</td>\n",
              "      <td>0.0</td>\n",
              "      <td>0.469</td>\n",
              "      <td>6.421</td>\n",
              "      <td>78.9</td>\n",
              "      <td>4.9671</td>\n",
              "      <td>2.0</td>\n",
              "      <td>242.0</td>\n",
              "      <td>17.8</td>\n",
              "      <td>396.90</td>\n",
              "      <td>9.14</td>\n",
              "    </tr>\n",
              "    <tr>\n",
              "      <th>2</th>\n",
              "      <td>0.02729</td>\n",
              "      <td>0.0</td>\n",
              "      <td>7.07</td>\n",
              "      <td>0.0</td>\n",
              "      <td>0.469</td>\n",
              "      <td>7.185</td>\n",
              "      <td>61.1</td>\n",
              "      <td>4.9671</td>\n",
              "      <td>2.0</td>\n",
              "      <td>242.0</td>\n",
              "      <td>17.8</td>\n",
              "      <td>392.83</td>\n",
              "      <td>4.03</td>\n",
              "    </tr>\n",
              "    <tr>\n",
              "      <th>3</th>\n",
              "      <td>0.03237</td>\n",
              "      <td>0.0</td>\n",
              "      <td>2.18</td>\n",
              "      <td>0.0</td>\n",
              "      <td>0.458</td>\n",
              "      <td>6.998</td>\n",
              "      <td>45.8</td>\n",
              "      <td>6.0622</td>\n",
              "      <td>3.0</td>\n",
              "      <td>222.0</td>\n",
              "      <td>18.7</td>\n",
              "      <td>394.63</td>\n",
              "      <td>2.94</td>\n",
              "    </tr>\n",
              "    <tr>\n",
              "      <th>4</th>\n",
              "      <td>0.06905</td>\n",
              "      <td>0.0</td>\n",
              "      <td>2.18</td>\n",
              "      <td>0.0</td>\n",
              "      <td>0.458</td>\n",
              "      <td>7.147</td>\n",
              "      <td>54.2</td>\n",
              "      <td>6.0622</td>\n",
              "      <td>3.0</td>\n",
              "      <td>222.0</td>\n",
              "      <td>18.7</td>\n",
              "      <td>396.90</td>\n",
              "      <td>5.33</td>\n",
              "    </tr>\n",
              "  </tbody>\n",
              "</table>\n",
              "</div>"
            ],
            "text/plain": [
              "      CRIM    ZN  INDUS  CHAS    NOX  ...  RAD    TAX  PTRATIO       B  LSTAT\n",
              "0  0.00632  18.0   2.31   0.0  0.538  ...  1.0  296.0     15.3  396.90   4.98\n",
              "1  0.02731   0.0   7.07   0.0  0.469  ...  2.0  242.0     17.8  396.90   9.14\n",
              "2  0.02729   0.0   7.07   0.0  0.469  ...  2.0  242.0     17.8  392.83   4.03\n",
              "3  0.03237   0.0   2.18   0.0  0.458  ...  3.0  222.0     18.7  394.63   2.94\n",
              "4  0.06905   0.0   2.18   0.0  0.458  ...  3.0  222.0     18.7  396.90   5.33\n",
              "\n",
              "[5 rows x 13 columns]"
            ]
          },
          "metadata": {
            "tags": []
          },
          "execution_count": 5
        }
      ]
    },
    {
      "cell_type": "code",
      "metadata": {
        "id": "86RFtWk3jRLu",
        "colab_type": "code",
        "colab": {}
      },
      "source": [
        "X=boston\n",
        "y=boston_dataset.target"
      ],
      "execution_count": 6,
      "outputs": []
    },
    {
      "cell_type": "code",
      "metadata": {
        "id": "vd2e65BzjSdP",
        "colab_type": "code",
        "colab": {}
      },
      "source": [
        "X_train,X_test,y_train,y_test=train_test_split(X,y,random_state=42)"
      ],
      "execution_count": 7,
      "outputs": []
    },
    {
      "cell_type": "code",
      "metadata": {
        "id": "zLk8KIYsjUyW",
        "colab_type": "code",
        "colab": {}
      },
      "source": [
        "lin_reg= LinearRegression()\n",
        "rnd_reg =RandomForestRegressor(n_estimators=100, random_state=42)\n",
        "svr_reg = SVR(gamma=\"scale\")\n",
        "st_reg=StackingRegressor(estimators=[('lr', lin_reg), ('rf', rnd_reg), ('svr', svr_reg)])"
      ],
      "execution_count": 8,
      "outputs": []
    },
    {
      "cell_type": "code",
      "metadata": {
        "id": "ioVfHxTLjWCv",
        "colab_type": "code",
        "colab": {
          "base_uri": "https://localhost:8080/",
          "height": 504
        },
        "outputId": "91fa9af5-f772-4893-d813-95429c8f2d52"
      },
      "source": [
        "st_reg.fit(X_train,y_train)"
      ],
      "execution_count": 9,
      "outputs": [
        {
          "output_type": "execute_result",
          "data": {
            "text/plain": [
              "StackingRegressor(cv=None,\n",
              "                  estimators=[('lr',\n",
              "                               LinearRegression(copy_X=True, fit_intercept=True,\n",
              "                                                n_jobs=None, normalize=False)),\n",
              "                              ('rf',\n",
              "                               RandomForestRegressor(bootstrap=True,\n",
              "                                                     ccp_alpha=0.0,\n",
              "                                                     criterion='mse',\n",
              "                                                     max_depth=None,\n",
              "                                                     max_features='auto',\n",
              "                                                     max_leaf_nodes=None,\n",
              "                                                     max_samples=None,\n",
              "                                                     min_impurity_decrease=0.0,\n",
              "                                                     min_impurity_split=None,\n",
              "                                                     min_samples_leaf=1,\n",
              "                                                     min_samples_split=2,\n",
              "                                                     min_weight_fraction_leaf=0.0,\n",
              "                                                     n_estimators=100,\n",
              "                                                     n_jobs=None,\n",
              "                                                     oob_score=False,\n",
              "                                                     random_state=42, verbose=0,\n",
              "                                                     warm_start=False)),\n",
              "                              ('svr',\n",
              "                               SVR(C=1.0, cache_size=200, coef0=0.0, degree=3,\n",
              "                                   epsilon=0.1, gamma='scale', kernel='rbf',\n",
              "                                   max_iter=-1, shrinking=True, tol=0.001,\n",
              "                                   verbose=False))],\n",
              "                  final_estimator=None, n_jobs=None, passthrough=False,\n",
              "                  verbose=0)"
            ]
          },
          "metadata": {
            "tags": []
          },
          "execution_count": 9
        }
      ]
    },
    {
      "cell_type": "code",
      "metadata": {
        "id": "3HGfCejCjliU",
        "colab_type": "code",
        "colab": {
          "base_uri": "https://localhost:8080/",
          "height": 67
        },
        "outputId": "658fa087-9801-4f5a-bbb2-79b2a838eb22"
      },
      "source": [
        "from sklearn.metrics import accuracy_score\n",
        "\n",
        "for clf in (lin_reg, rnd_reg, svr_reg):\n",
        "    clf.fit(X_train, y_train)\n",
        "    y_pred = clf.predict(X_test)\n",
        "    print(clf.__class__.__name__, mean_squared_error(y_test, y_pred,squared=False))"
      ],
      "execution_count": 11,
      "outputs": [
        {
          "output_type": "stream",
          "text": [
            "LinearRegression 4.700924890603808\n",
            "RandomForestRegressor 3.204375185696684\n",
            "SVR 7.020270305836468\n"
          ],
          "name": "stdout"
        }
      ]
    },
    {
      "cell_type": "code",
      "metadata": {
        "id": "Pn7fpU9BjpBr",
        "colab_type": "code",
        "colab": {}
      },
      "source": [
        "def build_nn():\n",
        "    model= Sequential([Dense(50,activation='selu',input_shape=[13]),\n",
        "                        Dense(25,activation='selu'),\n",
        "                        Dropout(0.2),\n",
        "                        Dense(25,activation='selu'),\n",
        "                        Dense(1)\n",
        "                       ])\n",
        "\n",
        "    model.compile(optimizer='adam',loss='mean_squared_error',metrics=['RootMeanSquaredError'])\n",
        "    return model"
      ],
      "execution_count": 12,
      "outputs": []
    },
    {
      "cell_type": "code",
      "metadata": {
        "id": "hYMqbzymkJxK",
        "colab_type": "code",
        "colab": {}
      },
      "source": [
        "m2 = tf.keras.wrappers.scikit_learn.KerasRegressor(build_nn,epochs=1000,verbose=False)"
      ],
      "execution_count": 13,
      "outputs": []
    },
    {
      "cell_type": "code",
      "metadata": {
        "id": "1dqSlLLtkLJE",
        "colab_type": "code",
        "colab": {}
      },
      "source": [
        "m2._estimator_type = \"regressor\""
      ],
      "execution_count": 14,
      "outputs": []
    },
    {
      "cell_type": "markdown",
      "metadata": {
        "id": "DEKSkMV4kdLm",
        "colab_type": "text"
      },
      "source": [
        "1  Gradient boosting estimator"
      ]
    },
    {
      "cell_type": "code",
      "metadata": {
        "id": "EIz8m-KhkeU0",
        "colab_type": "code",
        "colab": {}
      },
      "source": [
        "\n",
        "lin_reg= LinearRegression()\n",
        "rnd_reg =RandomForestRegressor(n_estimators=100, random_state=42)\n",
        "svr_reg = SVR(gamma=\"scale\")\n",
        "st_reg=StackingRegressor(estimators=[('lr', lin_reg), ('rf', rnd_reg), ('svr', svr_reg),('Dense',m2)],\n",
        "                        final_estimator=GradientBoostingRegressor(random_state=42))\n",
        "voting_reg = VotingRegressor(estimators=[('lr', lin_reg), ('rf', rnd_reg), ('svr', svr_reg),('Dense',m2)])"
      ],
      "execution_count": 15,
      "outputs": []
    },
    {
      "cell_type": "code",
      "metadata": {
        "id": "FPNPBg8kkhbA",
        "colab_type": "code",
        "colab": {}
      },
      "source": [
        "from sklearn.metrics import r2_score"
      ],
      "execution_count": 16,
      "outputs": []
    },
    {
      "cell_type": "code",
      "metadata": {
        "id": "OgW2avSPkinK",
        "colab_type": "code",
        "colab": {
          "base_uri": "https://localhost:8080/",
          "height": 289
        },
        "outputId": "016418a7-5fb5-4524-863d-cb4768c1ad58"
      },
      "source": [
        "for clf in (lin_reg, rnd_reg, svr_reg,m2,voting_reg,st_reg):\n",
        "    clf.fit(X_train, y_train)\n",
        "    y_pred = clf.predict(X_test)\n",
        "    print(clf.__class__.__name__, mean_squared_error(y_test, y_pred,squared=False))\n",
        "    print('R2 score: {:.2f}'.format(r2_score(y_test, y_pred)))"
      ],
      "execution_count": 17,
      "outputs": [
        {
          "output_type": "stream",
          "text": [
            "LinearRegression 4.700924890603808\n",
            "R2 score: 0.68\n",
            "RandomForestRegressor 3.204375185696684\n",
            "R2 score: 0.85\n",
            "SVR 7.020270305836468\n",
            "R2 score: 0.30\n",
            "KerasRegressor 4.556034277624393\n",
            "R2 score: 0.70\n",
            "VotingRegressor 3.9278771109005355\n",
            "R2 score: 0.78\n",
            "WARNING:tensorflow:5 out of the last 14 calls to <function Model.make_predict_function.<locals>.predict_function at 0x7fdb2280f488> triggered tf.function retracing. Tracing is expensive and the excessive number of tracings could be due to (1) creating @tf.function repeatedly in a loop, (2) passing tensors with different shapes, (3) passing Python objects instead of tensors. For (1), please define your @tf.function outside of the loop. For (2), @tf.function has experimental_relax_shapes=True option that relaxes argument shapes that can avoid unnecessary retracing. For (3), please refer to https://www.tensorflow.org/tutorials/customization/performance#python_or_tensor_args and https://www.tensorflow.org/api_docs/python/tf/function for  more details.\n",
            "WARNING:tensorflow:5 out of the last 13 calls to <function Model.make_predict_function.<locals>.predict_function at 0x7fdb2280f8c8> triggered tf.function retracing. Tracing is expensive and the excessive number of tracings could be due to (1) creating @tf.function repeatedly in a loop, (2) passing tensors with different shapes, (3) passing Python objects instead of tensors. For (1), please define your @tf.function outside of the loop. For (2), @tf.function has experimental_relax_shapes=True option that relaxes argument shapes that can avoid unnecessary retracing. For (3), please refer to https://www.tensorflow.org/tutorials/customization/performance#python_or_tensor_args and https://www.tensorflow.org/api_docs/python/tf/function for  more details.\n",
            "WARNING:tensorflow:5 out of the last 13 calls to <function Model.make_predict_function.<locals>.predict_function at 0x7fdb20e3f840> triggered tf.function retracing. Tracing is expensive and the excessive number of tracings could be due to (1) creating @tf.function repeatedly in a loop, (2) passing tensors with different shapes, (3) passing Python objects instead of tensors. For (1), please define your @tf.function outside of the loop. For (2), @tf.function has experimental_relax_shapes=True option that relaxes argument shapes that can avoid unnecessary retracing. For (3), please refer to https://www.tensorflow.org/tutorials/customization/performance#python_or_tensor_args and https://www.tensorflow.org/api_docs/python/tf/function for  more details.\n",
            "StackingRegressor 3.0975877492206823\n",
            "R2 score: 0.86\n"
          ],
          "name": "stdout"
        }
      ]
    },
    {
      "cell_type": "markdown",
      "metadata": {
        "id": "9NdrLvDGknP3",
        "colab_type": "text"
      },
      "source": [
        "**2  default** **estimator**"
      ]
    },
    {
      "cell_type": "code",
      "metadata": {
        "id": "_kfP41kjkqS2",
        "colab_type": "code",
        "colab": {}
      },
      "source": [
        "lin_reg= LinearRegression()\n",
        "rnd_reg =RandomForestRegressor(n_estimators=100, random_state=42)\n",
        "svr_reg = SVR(gamma=\"scale\")\n",
        "st_reg=StackingRegressor(estimators=[('lr', lin_reg), ('rf', rnd_reg), ('svr', svr_reg),('Dense',m2)])\n",
        "voting_reg = VotingRegressor(estimators=[('lr', lin_reg), ('rf', rnd_reg), ('svr', svr_reg),('Dense',m2)])"
      ],
      "execution_count": 18,
      "outputs": []
    },
    {
      "cell_type": "code",
      "metadata": {
        "id": "D5TObENQktzj",
        "colab_type": "code",
        "colab": {
          "base_uri": "https://localhost:8080/",
          "height": 289
        },
        "outputId": "de876e0c-20d5-47e7-f322-159c6113bede"
      },
      "source": [
        "for clf in (lin_reg, rnd_reg, svr_reg,m2,voting_reg,st_reg):\n",
        "    clf.fit(X_train, y_train)\n",
        "    y_pred = clf.predict(X_test)\n",
        "    print(clf.__class__.__name__, mean_squared_error(y_test, y_pred,squared=False))\n",
        "    print('R2 score: {:.2f}'.format(r2_score(y_test, y_pred)))"
      ],
      "execution_count": 19,
      "outputs": [
        {
          "output_type": "stream",
          "text": [
            "LinearRegression 4.700924890603808\n",
            "R2 score: 0.68\n",
            "RandomForestRegressor 3.204375185696684\n",
            "R2 score: 0.85\n",
            "SVR 7.020270305836468\n",
            "R2 score: 0.30\n",
            "KerasRegressor 5.031192105631254\n",
            "R2 score: 0.64\n",
            "VotingRegressor 4.053213089837031\n",
            "R2 score: 0.77\n",
            "WARNING:tensorflow:5 out of the last 14 calls to <function Model.make_predict_function.<locals>.predict_function at 0x7fdb194b9268> triggered tf.function retracing. Tracing is expensive and the excessive number of tracings could be due to (1) creating @tf.function repeatedly in a loop, (2) passing tensors with different shapes, (3) passing Python objects instead of tensors. For (1), please define your @tf.function outside of the loop. For (2), @tf.function has experimental_relax_shapes=True option that relaxes argument shapes that can avoid unnecessary retracing. For (3), please refer to https://www.tensorflow.org/tutorials/customization/performance#python_or_tensor_args and https://www.tensorflow.org/api_docs/python/tf/function for  more details.\n",
            "WARNING:tensorflow:5 out of the last 13 calls to <function Model.make_predict_function.<locals>.predict_function at 0x7fdb1ec14378> triggered tf.function retracing. Tracing is expensive and the excessive number of tracings could be due to (1) creating @tf.function repeatedly in a loop, (2) passing tensors with different shapes, (3) passing Python objects instead of tensors. For (1), please define your @tf.function outside of the loop. For (2), @tf.function has experimental_relax_shapes=True option that relaxes argument shapes that can avoid unnecessary retracing. For (3), please refer to https://www.tensorflow.org/tutorials/customization/performance#python_or_tensor_args and https://www.tensorflow.org/api_docs/python/tf/function for  more details.\n",
            "WARNING:tensorflow:5 out of the last 13 calls to <function Model.make_predict_function.<locals>.predict_function at 0x7fdb1f4f4840> triggered tf.function retracing. Tracing is expensive and the excessive number of tracings could be due to (1) creating @tf.function repeatedly in a loop, (2) passing tensors with different shapes, (3) passing Python objects instead of tensors. For (1), please define your @tf.function outside of the loop. For (2), @tf.function has experimental_relax_shapes=True option that relaxes argument shapes that can avoid unnecessary retracing. For (3), please refer to https://www.tensorflow.org/tutorials/customization/performance#python_or_tensor_args and https://www.tensorflow.org/api_docs/python/tf/function for  more details.\n",
            "StackingRegressor 3.062933593379404\n",
            "R2 score: 0.87\n"
          ],
          "name": "stdout"
        }
      ]
    },
    {
      "cell_type": "markdown",
      "metadata": {
        "id": "GhkJIa2ek9db",
        "colab_type": "text"
      },
      "source": [
        "3  ADA BOOST regressor"
      ]
    },
    {
      "cell_type": "code",
      "metadata": {
        "id": "ovlgeLFClAp9",
        "colab_type": "code",
        "colab": {}
      },
      "source": [
        "lin_reg= LinearRegression()\n",
        "rnd_reg =RandomForestRegressor(n_estimators=100, random_state=42)\n",
        "svr_reg = SVR(gamma=\"scale\")\n",
        "st_reg=StackingRegressor(estimators=[('lr', lin_reg), ('rf', rnd_reg), ('svr', svr_reg),('Dense',m2)],\n",
        "                        final_estimator=AdaBoostRegressor(random_state=42))\n",
        "voting_reg = VotingRegressor(estimators=[('lr', lin_reg), ('rf', rnd_reg), ('svr', svr_reg),('Dense',m2)])"
      ],
      "execution_count": 20,
      "outputs": []
    },
    {
      "cell_type": "code",
      "metadata": {
        "id": "T9rL8md0lDmG",
        "colab_type": "code",
        "colab": {
          "base_uri": "https://localhost:8080/",
          "height": 289
        },
        "outputId": "25416aa9-7911-4ed2-e32a-65f57ee8aeb9"
      },
      "source": [
        "for clf in (lin_reg, rnd_reg, svr_reg,m2,voting_reg,st_reg):\n",
        "    clf.fit(X_train, y_train)\n",
        "    y_pred = clf.predict(X_test)\n",
        "    print(clf.__class__.__name__, mean_squared_error(y_test, y_pred,squared=False))\n",
        "    print('R2 score: {:.2f}'.format(r2_score(y_test, y_pred)))"
      ],
      "execution_count": 21,
      "outputs": [
        {
          "output_type": "stream",
          "text": [
            "LinearRegression 4.700924890603808\n",
            "R2 score: 0.68\n",
            "RandomForestRegressor 3.204375185696684\n",
            "R2 score: 0.85\n",
            "SVR 7.020270305836468\n",
            "R2 score: 0.30\n",
            "KerasRegressor 5.088217763820352\n",
            "R2 score: 0.63\n",
            "VotingRegressor 3.873083862211521\n",
            "R2 score: 0.79\n",
            "WARNING:tensorflow:5 out of the last 14 calls to <function Model.make_predict_function.<locals>.predict_function at 0x7fdb27a2d2f0> triggered tf.function retracing. Tracing is expensive and the excessive number of tracings could be due to (1) creating @tf.function repeatedly in a loop, (2) passing tensors with different shapes, (3) passing Python objects instead of tensors. For (1), please define your @tf.function outside of the loop. For (2), @tf.function has experimental_relax_shapes=True option that relaxes argument shapes that can avoid unnecessary retracing. For (3), please refer to https://www.tensorflow.org/tutorials/customization/performance#python_or_tensor_args and https://www.tensorflow.org/api_docs/python/tf/function for  more details.\n",
            "WARNING:tensorflow:5 out of the last 13 calls to <function Model.make_predict_function.<locals>.predict_function at 0x7fdb253ee2f0> triggered tf.function retracing. Tracing is expensive and the excessive number of tracings could be due to (1) creating @tf.function repeatedly in a loop, (2) passing tensors with different shapes, (3) passing Python objects instead of tensors. For (1), please define your @tf.function outside of the loop. For (2), @tf.function has experimental_relax_shapes=True option that relaxes argument shapes that can avoid unnecessary retracing. For (3), please refer to https://www.tensorflow.org/tutorials/customization/performance#python_or_tensor_args and https://www.tensorflow.org/api_docs/python/tf/function for  more details.\n",
            "WARNING:tensorflow:5 out of the last 13 calls to <function Model.make_predict_function.<locals>.predict_function at 0x7fdb1c887c80> triggered tf.function retracing. Tracing is expensive and the excessive number of tracings could be due to (1) creating @tf.function repeatedly in a loop, (2) passing tensors with different shapes, (3) passing Python objects instead of tensors. For (1), please define your @tf.function outside of the loop. For (2), @tf.function has experimental_relax_shapes=True option that relaxes argument shapes that can avoid unnecessary retracing. For (3), please refer to https://www.tensorflow.org/tutorials/customization/performance#python_or_tensor_args and https://www.tensorflow.org/api_docs/python/tf/function for  more details.\n",
            "StackingRegressor 3.068673608446953\n",
            "R2 score: 0.87\n"
          ],
          "name": "stdout"
        }
      ]
    },
    {
      "cell_type": "markdown",
      "metadata": {
        "id": "i242wexolH2_",
        "colab_type": "text"
      },
      "source": [
        "4  bagging regressor"
      ]
    },
    {
      "cell_type": "code",
      "metadata": {
        "id": "oxl0-ZAjlLXJ",
        "colab_type": "code",
        "colab": {}
      },
      "source": [
        "lin_reg= LinearRegression()\n",
        "rnd_reg =RandomForestRegressor(n_estimators=100, random_state=42)\n",
        "svr_reg = SVR(gamma=\"scale\")\n",
        "st_reg=StackingRegressor(estimators=[('lr', lin_reg), ('rf', rnd_reg), ('svr', svr_reg),('Dense',m2)],\n",
        "                        final_estimator=BaggingRegressor(random_state=42))\n",
        "voting_reg = VotingRegressor(estimators=[('lr', lin_reg), ('rf', rnd_reg), ('svr', svr_reg),('Dense',m2)])"
      ],
      "execution_count": 22,
      "outputs": []
    },
    {
      "cell_type": "code",
      "metadata": {
        "id": "5kWG2PVelRXd",
        "colab_type": "code",
        "colab": {
          "base_uri": "https://localhost:8080/",
          "height": 289
        },
        "outputId": "dcc33715-62ae-41ab-dcad-d2a89c7b277d"
      },
      "source": [
        "for clf in (lin_reg, rnd_reg, svr_reg,m2,voting_reg,st_reg):\n",
        "    clf.fit(X_train, y_train)\n",
        "    y_pred = clf.predict(X_test)\n",
        "    print(clf.__class__.__name__, mean_squared_error(y_test, y_pred,squared=False))\n",
        "    print('R2 score: {:.2f}'.format(r2_score(y_test, y_pred)))"
      ],
      "execution_count": 23,
      "outputs": [
        {
          "output_type": "stream",
          "text": [
            "LinearRegression 4.700924890603808\n",
            "R2 score: 0.68\n",
            "RandomForestRegressor 3.204375185696684\n",
            "R2 score: 0.85\n",
            "SVR 7.020270305836468\n",
            "R2 score: 0.30\n",
            "KerasRegressor 4.733952446439036\n",
            "R2 score: 0.68\n",
            "VotingRegressor 4.130953493526157\n",
            "R2 score: 0.76\n",
            "WARNING:tensorflow:5 out of the last 14 calls to <function Model.make_predict_function.<locals>.predict_function at 0x7fdb1f4f4ae8> triggered tf.function retracing. Tracing is expensive and the excessive number of tracings could be due to (1) creating @tf.function repeatedly in a loop, (2) passing tensors with different shapes, (3) passing Python objects instead of tensors. For (1), please define your @tf.function outside of the loop. For (2), @tf.function has experimental_relax_shapes=True option that relaxes argument shapes that can avoid unnecessary retracing. For (3), please refer to https://www.tensorflow.org/tutorials/customization/performance#python_or_tensor_args and https://www.tensorflow.org/api_docs/python/tf/function for  more details.\n",
            "WARNING:tensorflow:5 out of the last 13 calls to <function Model.make_predict_function.<locals>.predict_function at 0x7fdb1af43488> triggered tf.function retracing. Tracing is expensive and the excessive number of tracings could be due to (1) creating @tf.function repeatedly in a loop, (2) passing tensors with different shapes, (3) passing Python objects instead of tensors. For (1), please define your @tf.function outside of the loop. For (2), @tf.function has experimental_relax_shapes=True option that relaxes argument shapes that can avoid unnecessary retracing. For (3), please refer to https://www.tensorflow.org/tutorials/customization/performance#python_or_tensor_args and https://www.tensorflow.org/api_docs/python/tf/function for  more details.\n",
            "WARNING:tensorflow:5 out of the last 13 calls to <function Model.make_predict_function.<locals>.predict_function at 0x7fdb1db041e0> triggered tf.function retracing. Tracing is expensive and the excessive number of tracings could be due to (1) creating @tf.function repeatedly in a loop, (2) passing tensors with different shapes, (3) passing Python objects instead of tensors. For (1), please define your @tf.function outside of the loop. For (2), @tf.function has experimental_relax_shapes=True option that relaxes argument shapes that can avoid unnecessary retracing. For (3), please refer to https://www.tensorflow.org/tutorials/customization/performance#python_or_tensor_args and https://www.tensorflow.org/api_docs/python/tf/function for  more details.\n",
            "StackingRegressor 3.442527225860008\n",
            "R2 score: 0.83\n"
          ],
          "name": "stdout"
        }
      ]
    },
    {
      "cell_type": "markdown",
      "metadata": {
        "id": "uSLjUWFwlggj",
        "colab_type": "text"
      },
      "source": [
        "5  Extra trees regressor"
      ]
    },
    {
      "cell_type": "code",
      "metadata": {
        "id": "dlCCMHO2lifq",
        "colab_type": "code",
        "colab": {}
      },
      "source": [
        "lin_reg= LinearRegression()\n",
        "rnd_reg =RandomForestRegressor(n_estimators=100, random_state=42)\n",
        "svr_reg = SVR(gamma=\"scale\")\n",
        "st_reg=StackingRegressor(estimators=[('lr', lin_reg), ('rf', rnd_reg), ('svr', svr_reg),('Dense',m2)],\n",
        "                        final_estimator=ExtraTreesRegressor(random_state=42))\n",
        "voting_reg = VotingRegressor(estimators=[('lr', lin_reg), ('rf', rnd_reg), ('svr', svr_reg),('Dense',m2)])"
      ],
      "execution_count": 24,
      "outputs": []
    },
    {
      "cell_type": "code",
      "metadata": {
        "id": "a7gRdRcUll9f",
        "colab_type": "code",
        "colab": {
          "base_uri": "https://localhost:8080/",
          "height": 289
        },
        "outputId": "54379e19-f5e4-4fbc-df16-cf11aa8a4425"
      },
      "source": [
        "for clf in (lin_reg, rnd_reg, svr_reg,m2,voting_reg,st_reg):\n",
        "    clf.fit(X_train, y_train)\n",
        "    y_pred = clf.predict(X_test)\n",
        "    print(clf.__class__.__name__, mean_squared_error(y_test, y_pred,squared=False))\n",
        "    print('R2 score: {:.2f}'.format(r2_score(y_test, y_pred)))"
      ],
      "execution_count": 25,
      "outputs": [
        {
          "output_type": "stream",
          "text": [
            "LinearRegression 4.700924890603808\n",
            "R2 score: 0.68\n",
            "RandomForestRegressor 3.204375185696684\n",
            "R2 score: 0.85\n",
            "SVR 7.020270305836468\n",
            "R2 score: 0.30\n",
            "KerasRegressor 4.948774088144174\n",
            "R2 score: 0.65\n",
            "VotingRegressor 4.109692299459575\n",
            "R2 score: 0.76\n",
            "WARNING:tensorflow:5 out of the last 14 calls to <function Model.make_predict_function.<locals>.predict_function at 0x7fdb1c8d70d0> triggered tf.function retracing. Tracing is expensive and the excessive number of tracings could be due to (1) creating @tf.function repeatedly in a loop, (2) passing tensors with different shapes, (3) passing Python objects instead of tensors. For (1), please define your @tf.function outside of the loop. For (2), @tf.function has experimental_relax_shapes=True option that relaxes argument shapes that can avoid unnecessary retracing. For (3), please refer to https://www.tensorflow.org/tutorials/customization/performance#python_or_tensor_args and https://www.tensorflow.org/api_docs/python/tf/function for  more details.\n",
            "WARNING:tensorflow:5 out of the last 13 calls to <function Model.make_predict_function.<locals>.predict_function at 0x7fdb1c8d77b8> triggered tf.function retracing. Tracing is expensive and the excessive number of tracings could be due to (1) creating @tf.function repeatedly in a loop, (2) passing tensors with different shapes, (3) passing Python objects instead of tensors. For (1), please define your @tf.function outside of the loop. For (2), @tf.function has experimental_relax_shapes=True option that relaxes argument shapes that can avoid unnecessary retracing. For (3), please refer to https://www.tensorflow.org/tutorials/customization/performance#python_or_tensor_args and https://www.tensorflow.org/api_docs/python/tf/function for  more details.\n",
            "WARNING:tensorflow:5 out of the last 13 calls to <function Model.make_predict_function.<locals>.predict_function at 0x7fdb24b0fe18> triggered tf.function retracing. Tracing is expensive and the excessive number of tracings could be due to (1) creating @tf.function repeatedly in a loop, (2) passing tensors with different shapes, (3) passing Python objects instead of tensors. For (1), please define your @tf.function outside of the loop. For (2), @tf.function has experimental_relax_shapes=True option that relaxes argument shapes that can avoid unnecessary retracing. For (3), please refer to https://www.tensorflow.org/tutorials/customization/performance#python_or_tensor_args and https://www.tensorflow.org/api_docs/python/tf/function for  more details.\n",
            "StackingRegressor 2.90597836940755\n",
            "R2 score: 0.88\n"
          ],
          "name": "stdout"
        }
      ]
    },
    {
      "cell_type": "markdown",
      "metadata": {
        "id": "TS9WnqoolpQO",
        "colab_type": "text"
      },
      "source": [
        "6  hist gradient boosting regrssor"
      ]
    },
    {
      "cell_type": "code",
      "metadata": {
        "id": "LV0aNVcalqtM",
        "colab_type": "code",
        "colab": {}
      },
      "source": [
        "lin_reg= LinearRegression()\n",
        "rnd_reg =RandomForestRegressor(n_estimators=100, random_state=42)\n",
        "svr_reg = SVR(gamma=\"scale\")\n",
        "st_reg=StackingRegressor(estimators=[('lr', lin_reg), ('rf', rnd_reg), ('svr', svr_reg),('Dense',m2)],\n",
        "                        final_estimator=HistGradientBoostingRegressor(random_state=42))\n",
        "voting_reg = VotingRegressor(estimators=[('lr', lin_reg), ('rf', rnd_reg), ('svr', svr_reg),('Dense',m2)])"
      ],
      "execution_count": null,
      "outputs": []
    },
    {
      "cell_type": "code",
      "metadata": {
        "id": "MjBWEPSKl096",
        "colab_type": "code",
        "colab": {}
      },
      "source": [
        "for clf in (lin_reg, rnd_reg, svr_reg,m2,voting_reg,st_reg):\n",
        "    clf.fit(X_train, y_train)\n",
        "    y_pred = clf.predict(X_test)\n",
        "    print(clf.__class__.__name__, mean_squared_error(y_test, y_pred,squared=False))\n",
        "    print('R2 score: {:.2f}'.format(r2_score(y_test, y_pred)))"
      ],
      "execution_count": null,
      "outputs": []
    },
    {
      "cell_type": "code",
      "metadata": {
        "id": "hiJIZy9Wl2D9",
        "colab_type": "code",
        "colab": {}
      },
      "source": [
        "import xgboost as xgb"
      ],
      "execution_count": null,
      "outputs": []
    },
    {
      "cell_type": "code",
      "metadata": {
        "id": "fADUieFOl4Sf",
        "colab_type": "code",
        "colab": {}
      },
      "source": [
        "in_reg= LinearRegression()\n",
        "rnd_reg =RandomForestRegressor(n_estimators=100, random_state=42)\n",
        "svr_reg = SVR(gamma=\"scale\")\n",
        "xgb_reg=xgb.XGBRegressor(random_state=42)\n",
        "st_reg=StackingRegressor(estimators=[('lr', lin_reg), ('rf', rnd_reg), ('svr', svr_reg),('xgb',xgb_reg),('Dense',m2)],\n",
        "                        final_estimator=HistGradientBoostingRegressor(random_state=42))\n",
        "voting_reg = VotingRegressor(estimators=[('lr', lin_reg), ('rf', rnd_reg), ('svr', svr_reg),('xgb',xgb_reg),('Dense',m2)])"
      ],
      "execution_count": null,
      "outputs": []
    },
    {
      "cell_type": "code",
      "metadata": {
        "id": "RsaQygaGmDH9",
        "colab_type": "code",
        "colab": {}
      },
      "source": [
        "for clf in (lin_reg, rnd_reg, svr_reg,xgb_reg,m2,voting_reg,st_reg):\n",
        "    clf.fit(X_train, y_train)\n",
        "    y_pred = clf.predict(X_test)\n",
        "    print(clf.__class__.__name__, mean_squared_error(y_test, y_pred,squared=False))\n",
        "    print('R2 score: {:.2f}'.format(r2_score(y_test, y_pred)))"
      ],
      "execution_count": null,
      "outputs": []
    },
    {
      "cell_type": "code",
      "metadata": {
        "id": "S-6xhdcgmFKz",
        "colab_type": "code",
        "colab": {}
      },
      "source": [
        "in_reg= LinearRegression()\n",
        "rnd_reg =RandomForestRegressor(n_estimators=100, random_state=42)\n",
        "svr_reg = SVR(gamma=\"scale\")\n",
        "xgb_reg=xgb.XGBRegressor(random_state=42)\n",
        "st_reg=StackingRegressor(estimators=[('lr', lin_reg), ('rf', rnd_reg), ('svr', svr_reg),('xgb',xgb_reg),('Dense',m2)],\n",
        "                        final_estimator=XGBRegressor(random_state=42))\n",
        "voting_reg = VotingRegressor(estimators=[('lr', lin_reg), ('rf', rnd_reg), ('svr', svr_reg),('xgb',xgb_reg),('Dense',m2)])"
      ],
      "execution_count": null,
      "outputs": []
    },
    {
      "cell_type": "code",
      "metadata": {
        "id": "tKy_mdHAmG3P",
        "colab_type": "code",
        "colab": {}
      },
      "source": [
        "for clf in (lin_reg, rnd_reg, svr_reg,xgb_reg,m2,voting_reg,st_reg):\n",
        "    clf.fit(X_train, y_train)\n",
        "    y_pred = clf.predict(X_test)\n",
        "    print(clf.__class__.__name__, mean_squared_error(y_test, y_pred,squared=False))\n",
        "    print('R2 score: {:.2f}'.format(r2_score(y_test, y_pred)))"
      ],
      "execution_count": null,
      "outputs": []
    },
    {
      "cell_type": "code",
      "metadata": {
        "id": "ks4W5tm_mQp8",
        "colab_type": "code",
        "colab": {}
      },
      "source": [
        ""
      ],
      "execution_count": null,
      "outputs": []
    }
  ]
}