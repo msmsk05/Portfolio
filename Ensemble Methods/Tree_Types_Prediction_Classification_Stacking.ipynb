{
  "nbformat": 4,
  "nbformat_minor": 0,
  "metadata": {
    "colab": {
      "name": "Tree Types Prediction_Classification_Stacking.ipynb",
      "provenance": [],
      "collapsed_sections": []
    },
    "kernelspec": {
      "display_name": "Python 3",
      "language": "python",
      "name": "python3"
    },
    "language_info": {
      "codemirror_mode": {
        "name": "ipython",
        "version": 3
      },
      "file_extension": ".py",
      "mimetype": "text/x-python",
      "name": "python",
      "nbconvert_exporter": "python",
      "pygments_lexer": "ipython3",
      "version": "3.7.6"
    }
  },
  "cells": [
    {
      "cell_type": "markdown",
      "metadata": {
        "id": "2g7SOf0mXtRQ"
      },
      "source": [
        "## Cover Type Prediction"
      ]
    },
    {
      "cell_type": "markdown",
      "metadata": {
        "id": "4_QmyHeBXACk"
      },
      "source": [
        "**Importing Libraries/Dependencies**"
      ]
    },
    {
      "cell_type": "code",
      "metadata": {
        "id": "0ThMJSTCASCz"
      },
      "source": [
        "import pandas as pd\n",
        "import numpy as np\n",
        "import matplotlib.pyplot as plt\n",
        "import seaborn as sns\n",
        "import warnings\n",
        "from IPython.core.pylabtools import figsize\n",
        "font_title = {'family': 'times new roman', 'color': 'darkred', \n",
        "              'weight': 'bold', 'size': 14}\n",
        "\n",
        "warnings.filterwarnings('ignore')\n",
        "sns.set_style(\"whitegrid\")\n",
        "\n",
        "plt.rcParams['figure.dpi'] = 100"
      ],
      "execution_count": null,
      "outputs": []
    },
    {
      "cell_type": "markdown",
      "metadata": {
        "id": "OUxd8117ASCz"
      },
      "source": [
        "**Loading Train Data**"
      ]
    },
    {
      "cell_type": "code",
      "metadata": {
        "colab": {
          "base_uri": "https://localhost:8080/",
          "height": 224
        },
        "id": "nO4IbFeNASC0",
        "outputId": "45e67b70-b3da-4f16-8ac5-41da17f09eb1"
      },
      "source": [
        "tree = pd.read_csv(\"Train_data.csv\")\n",
        "tree.head()"
      ],
      "execution_count": null,
      "outputs": [
        {
          "output_type": "execute_result",
          "data": {
            "text/html": [
              "<div>\n",
              "<style scoped>\n",
              "    .dataframe tbody tr th:only-of-type {\n",
              "        vertical-align: middle;\n",
              "    }\n",
              "\n",
              "    .dataframe tbody tr th {\n",
              "        vertical-align: top;\n",
              "    }\n",
              "\n",
              "    .dataframe thead th {\n",
              "        text-align: right;\n",
              "    }\n",
              "</style>\n",
              "<table border=\"1\" class=\"dataframe\">\n",
              "  <thead>\n",
              "    <tr style=\"text-align: right;\">\n",
              "      <th></th>\n",
              "      <th>Elevation</th>\n",
              "      <th>Aspect</th>\n",
              "      <th>Slope</th>\n",
              "      <th>Horizontal_Distance_To_Hydrology</th>\n",
              "      <th>Vertical_Distance_To_Hydrology</th>\n",
              "      <th>Horizontal_Distance_To_Roadways</th>\n",
              "      <th>Hillshade_9am</th>\n",
              "      <th>Hillshade_Noon</th>\n",
              "      <th>Hillshade_3pm</th>\n",
              "      <th>Horizontal_Distance_To_Fire_Points</th>\n",
              "      <th>Wilderness_Area_1</th>\n",
              "      <th>Wilderness_Area_2</th>\n",
              "      <th>Wilderness_Area_3</th>\n",
              "      <th>Wilderness_Area_4</th>\n",
              "      <th>Soil_Type_1</th>\n",
              "      <th>Soil_Type_2</th>\n",
              "      <th>Soil_Type_3</th>\n",
              "      <th>Soil_Type_4</th>\n",
              "      <th>Soil_Type_5</th>\n",
              "      <th>Soil_Type_6</th>\n",
              "      <th>Soil_Type_7</th>\n",
              "      <th>Soil_Type_8</th>\n",
              "      <th>Soil_Type_9</th>\n",
              "      <th>Soil_Type_10</th>\n",
              "      <th>Soil_Type_11</th>\n",
              "      <th>Soil_Type_12</th>\n",
              "      <th>Soil_Type_13</th>\n",
              "      <th>Soil_Type_14</th>\n",
              "      <th>Soil_Type_15</th>\n",
              "      <th>Soil_Type_16</th>\n",
              "      <th>Soil_Type_17</th>\n",
              "      <th>Soil_Type_18</th>\n",
              "      <th>Soil_Type_19</th>\n",
              "      <th>Soil_Type_20</th>\n",
              "      <th>Soil_Type_21</th>\n",
              "      <th>Soil_Type_22</th>\n",
              "      <th>Soil_Type_23</th>\n",
              "      <th>Soil_Type_24</th>\n",
              "      <th>Soil_Type_25</th>\n",
              "      <th>Soil_Type_26</th>\n",
              "      <th>Soil_Type_27</th>\n",
              "      <th>Soil_Type_28</th>\n",
              "      <th>Soil_Type_29</th>\n",
              "      <th>Soil_Type_30</th>\n",
              "      <th>Soil_Type_31</th>\n",
              "      <th>Soil_Type_32</th>\n",
              "      <th>Soil_Type_33</th>\n",
              "      <th>Soil_Type_34</th>\n",
              "      <th>Soil_Type_35</th>\n",
              "      <th>Soil_Type_36</th>\n",
              "      <th>Soil_Type_37</th>\n",
              "      <th>Soil_Type_38</th>\n",
              "      <th>Soil_Type_39</th>\n",
              "      <th>Soil_Type_40</th>\n",
              "      <th>Cover_Type</th>\n",
              "    </tr>\n",
              "  </thead>\n",
              "  <tbody>\n",
              "    <tr>\n",
              "      <th>0</th>\n",
              "      <td>2696</td>\n",
              "      <td>123</td>\n",
              "      <td>10</td>\n",
              "      <td>212</td>\n",
              "      <td>48</td>\n",
              "      <td>2245</td>\n",
              "      <td>237</td>\n",
              "      <td>231</td>\n",
              "      <td>123</td>\n",
              "      <td>2113</td>\n",
              "      <td>0</td>\n",
              "      <td>0</td>\n",
              "      <td>1</td>\n",
              "      <td>0</td>\n",
              "      <td>0</td>\n",
              "      <td>0</td>\n",
              "      <td>0</td>\n",
              "      <td>0</td>\n",
              "      <td>0</td>\n",
              "      <td>0</td>\n",
              "      <td>0</td>\n",
              "      <td>0</td>\n",
              "      <td>0</td>\n",
              "      <td>1</td>\n",
              "      <td>0</td>\n",
              "      <td>0</td>\n",
              "      <td>0</td>\n",
              "      <td>0</td>\n",
              "      <td>0</td>\n",
              "      <td>0</td>\n",
              "      <td>0</td>\n",
              "      <td>0</td>\n",
              "      <td>0</td>\n",
              "      <td>0</td>\n",
              "      <td>0</td>\n",
              "      <td>0</td>\n",
              "      <td>0</td>\n",
              "      <td>0</td>\n",
              "      <td>0</td>\n",
              "      <td>0</td>\n",
              "      <td>0</td>\n",
              "      <td>0</td>\n",
              "      <td>0</td>\n",
              "      <td>0</td>\n",
              "      <td>0</td>\n",
              "      <td>0</td>\n",
              "      <td>0</td>\n",
              "      <td>0</td>\n",
              "      <td>0</td>\n",
              "      <td>0</td>\n",
              "      <td>0</td>\n",
              "      <td>0</td>\n",
              "      <td>0</td>\n",
              "      <td>0</td>\n",
              "      <td>6</td>\n",
              "    </tr>\n",
              "    <tr>\n",
              "      <th>1</th>\n",
              "      <td>3269</td>\n",
              "      <td>110</td>\n",
              "      <td>19</td>\n",
              "      <td>134</td>\n",
              "      <td>40</td>\n",
              "      <td>3734</td>\n",
              "      <td>249</td>\n",
              "      <td>216</td>\n",
              "      <td>88</td>\n",
              "      <td>3960</td>\n",
              "      <td>1</td>\n",
              "      <td>0</td>\n",
              "      <td>0</td>\n",
              "      <td>0</td>\n",
              "      <td>0</td>\n",
              "      <td>0</td>\n",
              "      <td>0</td>\n",
              "      <td>0</td>\n",
              "      <td>0</td>\n",
              "      <td>0</td>\n",
              "      <td>0</td>\n",
              "      <td>0</td>\n",
              "      <td>0</td>\n",
              "      <td>0</td>\n",
              "      <td>0</td>\n",
              "      <td>0</td>\n",
              "      <td>0</td>\n",
              "      <td>0</td>\n",
              "      <td>0</td>\n",
              "      <td>0</td>\n",
              "      <td>0</td>\n",
              "      <td>0</td>\n",
              "      <td>0</td>\n",
              "      <td>0</td>\n",
              "      <td>0</td>\n",
              "      <td>0</td>\n",
              "      <td>0</td>\n",
              "      <td>0</td>\n",
              "      <td>0</td>\n",
              "      <td>0</td>\n",
              "      <td>0</td>\n",
              "      <td>0</td>\n",
              "      <td>0</td>\n",
              "      <td>0</td>\n",
              "      <td>0</td>\n",
              "      <td>0</td>\n",
              "      <td>0</td>\n",
              "      <td>0</td>\n",
              "      <td>0</td>\n",
              "      <td>0</td>\n",
              "      <td>0</td>\n",
              "      <td>1</td>\n",
              "      <td>0</td>\n",
              "      <td>0</td>\n",
              "      <td>1</td>\n",
              "    </tr>\n",
              "    <tr>\n",
              "      <th>2</th>\n",
              "      <td>3283</td>\n",
              "      <td>322</td>\n",
              "      <td>18</td>\n",
              "      <td>346</td>\n",
              "      <td>104</td>\n",
              "      <td>4369</td>\n",
              "      <td>170</td>\n",
              "      <td>217</td>\n",
              "      <td>185</td>\n",
              "      <td>1330</td>\n",
              "      <td>1</td>\n",
              "      <td>0</td>\n",
              "      <td>0</td>\n",
              "      <td>0</td>\n",
              "      <td>0</td>\n",
              "      <td>0</td>\n",
              "      <td>0</td>\n",
              "      <td>0</td>\n",
              "      <td>0</td>\n",
              "      <td>0</td>\n",
              "      <td>0</td>\n",
              "      <td>0</td>\n",
              "      <td>0</td>\n",
              "      <td>0</td>\n",
              "      <td>0</td>\n",
              "      <td>0</td>\n",
              "      <td>0</td>\n",
              "      <td>0</td>\n",
              "      <td>0</td>\n",
              "      <td>0</td>\n",
              "      <td>0</td>\n",
              "      <td>0</td>\n",
              "      <td>0</td>\n",
              "      <td>0</td>\n",
              "      <td>0</td>\n",
              "      <td>0</td>\n",
              "      <td>0</td>\n",
              "      <td>0</td>\n",
              "      <td>0</td>\n",
              "      <td>0</td>\n",
              "      <td>0</td>\n",
              "      <td>0</td>\n",
              "      <td>0</td>\n",
              "      <td>0</td>\n",
              "      <td>0</td>\n",
              "      <td>0</td>\n",
              "      <td>0</td>\n",
              "      <td>0</td>\n",
              "      <td>0</td>\n",
              "      <td>0</td>\n",
              "      <td>0</td>\n",
              "      <td>1</td>\n",
              "      <td>0</td>\n",
              "      <td>0</td>\n",
              "      <td>7</td>\n",
              "    </tr>\n",
              "    <tr>\n",
              "      <th>3</th>\n",
              "      <td>2847</td>\n",
              "      <td>89</td>\n",
              "      <td>31</td>\n",
              "      <td>270</td>\n",
              "      <td>175</td>\n",
              "      <td>1320</td>\n",
              "      <td>248</td>\n",
              "      <td>173</td>\n",
              "      <td>29</td>\n",
              "      <td>889</td>\n",
              "      <td>0</td>\n",
              "      <td>0</td>\n",
              "      <td>1</td>\n",
              "      <td>0</td>\n",
              "      <td>0</td>\n",
              "      <td>0</td>\n",
              "      <td>0</td>\n",
              "      <td>0</td>\n",
              "      <td>0</td>\n",
              "      <td>0</td>\n",
              "      <td>0</td>\n",
              "      <td>0</td>\n",
              "      <td>0</td>\n",
              "      <td>0</td>\n",
              "      <td>0</td>\n",
              "      <td>0</td>\n",
              "      <td>1</td>\n",
              "      <td>0</td>\n",
              "      <td>0</td>\n",
              "      <td>0</td>\n",
              "      <td>0</td>\n",
              "      <td>0</td>\n",
              "      <td>0</td>\n",
              "      <td>0</td>\n",
              "      <td>0</td>\n",
              "      <td>0</td>\n",
              "      <td>0</td>\n",
              "      <td>0</td>\n",
              "      <td>0</td>\n",
              "      <td>0</td>\n",
              "      <td>0</td>\n",
              "      <td>0</td>\n",
              "      <td>0</td>\n",
              "      <td>0</td>\n",
              "      <td>0</td>\n",
              "      <td>0</td>\n",
              "      <td>0</td>\n",
              "      <td>0</td>\n",
              "      <td>0</td>\n",
              "      <td>0</td>\n",
              "      <td>0</td>\n",
              "      <td>0</td>\n",
              "      <td>0</td>\n",
              "      <td>0</td>\n",
              "      <td>5</td>\n",
              "    </tr>\n",
              "    <tr>\n",
              "      <th>4</th>\n",
              "      <td>3248</td>\n",
              "      <td>93</td>\n",
              "      <td>12</td>\n",
              "      <td>507</td>\n",
              "      <td>118</td>\n",
              "      <td>570</td>\n",
              "      <td>239</td>\n",
              "      <td>221</td>\n",
              "      <td>110</td>\n",
              "      <td>945</td>\n",
              "      <td>0</td>\n",
              "      <td>0</td>\n",
              "      <td>1</td>\n",
              "      <td>0</td>\n",
              "      <td>0</td>\n",
              "      <td>0</td>\n",
              "      <td>0</td>\n",
              "      <td>0</td>\n",
              "      <td>0</td>\n",
              "      <td>0</td>\n",
              "      <td>0</td>\n",
              "      <td>0</td>\n",
              "      <td>0</td>\n",
              "      <td>0</td>\n",
              "      <td>0</td>\n",
              "      <td>0</td>\n",
              "      <td>0</td>\n",
              "      <td>0</td>\n",
              "      <td>0</td>\n",
              "      <td>0</td>\n",
              "      <td>0</td>\n",
              "      <td>0</td>\n",
              "      <td>0</td>\n",
              "      <td>0</td>\n",
              "      <td>0</td>\n",
              "      <td>0</td>\n",
              "      <td>0</td>\n",
              "      <td>0</td>\n",
              "      <td>0</td>\n",
              "      <td>0</td>\n",
              "      <td>0</td>\n",
              "      <td>0</td>\n",
              "      <td>0</td>\n",
              "      <td>0</td>\n",
              "      <td>1</td>\n",
              "      <td>0</td>\n",
              "      <td>0</td>\n",
              "      <td>0</td>\n",
              "      <td>0</td>\n",
              "      <td>0</td>\n",
              "      <td>0</td>\n",
              "      <td>0</td>\n",
              "      <td>0</td>\n",
              "      <td>0</td>\n",
              "      <td>7</td>\n",
              "    </tr>\n",
              "  </tbody>\n",
              "</table>\n",
              "</div>"
            ],
            "text/plain": [
              "   Elevation  Aspect  Slope  ...  Soil_Type_39  Soil_Type_40  Cover_Type\n",
              "0       2696     123     10  ...             0             0           6\n",
              "1       3269     110     19  ...             0             0           1\n",
              "2       3283     322     18  ...             0             0           7\n",
              "3       2847      89     31  ...             0             0           5\n",
              "4       3248      93     12  ...             0             0           7\n",
              "\n",
              "[5 rows x 55 columns]"
            ]
          },
          "metadata": {
            "tags": []
          },
          "execution_count": 6
        }
      ]
    },
    {
      "cell_type": "code",
      "metadata": {
        "colab": {
          "base_uri": "https://localhost:8080/"
        },
        "id": "BVE7_TsoASC0",
        "outputId": "1ac876f0-54e9-4ed9-ee72-c9fc31887ecd"
      },
      "source": [
        "tree.info()"
      ],
      "execution_count": null,
      "outputs": [
        {
          "output_type": "stream",
          "text": [
            "<class 'pandas.core.frame.DataFrame'>\n",
            "RangeIndex: 250000 entries, 0 to 249999\n",
            "Data columns (total 55 columns):\n",
            " #   Column                              Non-Null Count   Dtype\n",
            "---  ------                              --------------   -----\n",
            " 0   Elevation                           250000 non-null  int64\n",
            " 1   Aspect                              250000 non-null  int64\n",
            " 2   Slope                               250000 non-null  int64\n",
            " 3   Horizontal_Distance_To_Hydrology    250000 non-null  int64\n",
            " 4   Vertical_Distance_To_Hydrology      250000 non-null  int64\n",
            " 5   Horizontal_Distance_To_Roadways     250000 non-null  int64\n",
            " 6   Hillshade_9am                       250000 non-null  int64\n",
            " 7   Hillshade_Noon                      250000 non-null  int64\n",
            " 8   Hillshade_3pm                       250000 non-null  int64\n",
            " 9   Horizontal_Distance_To_Fire_Points  250000 non-null  int64\n",
            " 10  Wilderness_Area_1                   250000 non-null  int64\n",
            " 11  Wilderness_Area_2                   250000 non-null  int64\n",
            " 12  Wilderness_Area_3                   250000 non-null  int64\n",
            " 13  Wilderness_Area_4                   250000 non-null  int64\n",
            " 14  Soil_Type_1                         250000 non-null  int64\n",
            " 15  Soil_Type_2                         250000 non-null  int64\n",
            " 16  Soil_Type_3                         250000 non-null  int64\n",
            " 17  Soil_Type_4                         250000 non-null  int64\n",
            " 18  Soil_Type_5                         250000 non-null  int64\n",
            " 19  Soil_Type_6                         250000 non-null  int64\n",
            " 20  Soil_Type_7                         250000 non-null  int64\n",
            " 21  Soil_Type_8                         250000 non-null  int64\n",
            " 22  Soil_Type_9                         250000 non-null  int64\n",
            " 23  Soil_Type_10                        250000 non-null  int64\n",
            " 24  Soil_Type_11                        250000 non-null  int64\n",
            " 25  Soil_Type_12                        250000 non-null  int64\n",
            " 26  Soil_Type_13                        250000 non-null  int64\n",
            " 27  Soil_Type_14                        250000 non-null  int64\n",
            " 28  Soil_Type_15                        250000 non-null  int64\n",
            " 29  Soil_Type_16                        250000 non-null  int64\n",
            " 30  Soil_Type_17                        250000 non-null  int64\n",
            " 31  Soil_Type_18                        250000 non-null  int64\n",
            " 32  Soil_Type_19                        250000 non-null  int64\n",
            " 33  Soil_Type_20                        250000 non-null  int64\n",
            " 34  Soil_Type_21                        250000 non-null  int64\n",
            " 35  Soil_Type_22                        250000 non-null  int64\n",
            " 36  Soil_Type_23                        250000 non-null  int64\n",
            " 37  Soil_Type_24                        250000 non-null  int64\n",
            " 38  Soil_Type_25                        250000 non-null  int64\n",
            " 39  Soil_Type_26                        250000 non-null  int64\n",
            " 40  Soil_Type_27                        250000 non-null  int64\n",
            " 41  Soil_Type_28                        250000 non-null  int64\n",
            " 42  Soil_Type_29                        250000 non-null  int64\n",
            " 43  Soil_Type_30                        250000 non-null  int64\n",
            " 44  Soil_Type_31                        250000 non-null  int64\n",
            " 45  Soil_Type_32                        250000 non-null  int64\n",
            " 46  Soil_Type_33                        250000 non-null  int64\n",
            " 47  Soil_Type_34                        250000 non-null  int64\n",
            " 48  Soil_Type_35                        250000 non-null  int64\n",
            " 49  Soil_Type_36                        250000 non-null  int64\n",
            " 50  Soil_Type_37                        250000 non-null  int64\n",
            " 51  Soil_Type_38                        250000 non-null  int64\n",
            " 52  Soil_Type_39                        250000 non-null  int64\n",
            " 53  Soil_Type_40                        250000 non-null  int64\n",
            " 54  Cover_Type                          250000 non-null  int64\n",
            "dtypes: int64(55)\n",
            "memory usage: 104.9 MB\n"
          ],
          "name": "stdout"
        }
      ]
    },
    {
      "cell_type": "code",
      "metadata": {
        "colab": {
          "base_uri": "https://localhost:8080/",
          "height": 317
        },
        "id": "5snzEJZGp0U4",
        "outputId": "9a02cd55-3f8d-4382-b307-d0323c358d0a"
      },
      "source": [
        "tree.describe()"
      ],
      "execution_count": null,
      "outputs": [
        {
          "output_type": "execute_result",
          "data": {
            "text/html": [
              "<div>\n",
              "<style scoped>\n",
              "    .dataframe tbody tr th:only-of-type {\n",
              "        vertical-align: middle;\n",
              "    }\n",
              "\n",
              "    .dataframe tbody tr th {\n",
              "        vertical-align: top;\n",
              "    }\n",
              "\n",
              "    .dataframe thead th {\n",
              "        text-align: right;\n",
              "    }\n",
              "</style>\n",
              "<table border=\"1\" class=\"dataframe\">\n",
              "  <thead>\n",
              "    <tr style=\"text-align: right;\">\n",
              "      <th></th>\n",
              "      <th>Elevation</th>\n",
              "      <th>Aspect</th>\n",
              "      <th>Slope</th>\n",
              "      <th>Horizontal_Distance_To_Hydrology</th>\n",
              "      <th>Vertical_Distance_To_Hydrology</th>\n",
              "      <th>Horizontal_Distance_To_Roadways</th>\n",
              "      <th>Hillshade_9am</th>\n",
              "      <th>Hillshade_Noon</th>\n",
              "      <th>Hillshade_3pm</th>\n",
              "      <th>Horizontal_Distance_To_Fire_Points</th>\n",
              "      <th>Wilderness_Area_1</th>\n",
              "      <th>Wilderness_Area_2</th>\n",
              "      <th>Wilderness_Area_3</th>\n",
              "      <th>Wilderness_Area_4</th>\n",
              "      <th>Soil_Type_1</th>\n",
              "      <th>Soil_Type_2</th>\n",
              "      <th>Soil_Type_3</th>\n",
              "      <th>Soil_Type_4</th>\n",
              "      <th>Soil_Type_5</th>\n",
              "      <th>Soil_Type_6</th>\n",
              "      <th>Soil_Type_7</th>\n",
              "      <th>Soil_Type_8</th>\n",
              "      <th>Soil_Type_9</th>\n",
              "      <th>Soil_Type_10</th>\n",
              "      <th>Soil_Type_11</th>\n",
              "      <th>Soil_Type_12</th>\n",
              "      <th>Soil_Type_13</th>\n",
              "      <th>Soil_Type_14</th>\n",
              "      <th>Soil_Type_15</th>\n",
              "      <th>Soil_Type_16</th>\n",
              "      <th>Soil_Type_17</th>\n",
              "      <th>Soil_Type_18</th>\n",
              "      <th>Soil_Type_19</th>\n",
              "      <th>Soil_Type_20</th>\n",
              "      <th>Soil_Type_21</th>\n",
              "      <th>Soil_Type_22</th>\n",
              "      <th>Soil_Type_23</th>\n",
              "      <th>Soil_Type_24</th>\n",
              "      <th>Soil_Type_25</th>\n",
              "      <th>Soil_Type_26</th>\n",
              "      <th>Soil_Type_27</th>\n",
              "      <th>Soil_Type_28</th>\n",
              "      <th>Soil_Type_29</th>\n",
              "      <th>Soil_Type_30</th>\n",
              "      <th>Soil_Type_31</th>\n",
              "      <th>Soil_Type_32</th>\n",
              "      <th>Soil_Type_33</th>\n",
              "      <th>Soil_Type_34</th>\n",
              "      <th>Soil_Type_35</th>\n",
              "      <th>Soil_Type_36</th>\n",
              "      <th>Soil_Type_37</th>\n",
              "      <th>Soil_Type_38</th>\n",
              "      <th>Soil_Type_39</th>\n",
              "      <th>Soil_Type_40</th>\n",
              "      <th>Cover_Type</th>\n",
              "    </tr>\n",
              "  </thead>\n",
              "  <tbody>\n",
              "    <tr>\n",
              "      <th>count</th>\n",
              "      <td>250000.000000</td>\n",
              "      <td>250000.000000</td>\n",
              "      <td>250000.000000</td>\n",
              "      <td>250000.000000</td>\n",
              "      <td>250000.000000</td>\n",
              "      <td>250000.000000</td>\n",
              "      <td>250000.000000</td>\n",
              "      <td>250000.000000</td>\n",
              "      <td>250000.000000</td>\n",
              "      <td>250000.000000</td>\n",
              "      <td>250000.000000</td>\n",
              "      <td>250000.000000</td>\n",
              "      <td>250000.000000</td>\n",
              "      <td>250000.000000</td>\n",
              "      <td>250000.000000</td>\n",
              "      <td>250000.000000</td>\n",
              "      <td>250000.000000</td>\n",
              "      <td>250000.000000</td>\n",
              "      <td>250000.000000</td>\n",
              "      <td>250000.000000</td>\n",
              "      <td>250000.000000</td>\n",
              "      <td>250000.000000</td>\n",
              "      <td>250000.000000</td>\n",
              "      <td>250000.000000</td>\n",
              "      <td>250000.000000</td>\n",
              "      <td>250000.000000</td>\n",
              "      <td>250000.000000</td>\n",
              "      <td>250000.000000</td>\n",
              "      <td>250000.000000</td>\n",
              "      <td>250000.000000</td>\n",
              "      <td>250000.000000</td>\n",
              "      <td>250000.000000</td>\n",
              "      <td>250000.000000</td>\n",
              "      <td>250000.000000</td>\n",
              "      <td>250000.000000</td>\n",
              "      <td>250000.000000</td>\n",
              "      <td>250000.000000</td>\n",
              "      <td>250000.000000</td>\n",
              "      <td>250000.000000</td>\n",
              "      <td>250000.000000</td>\n",
              "      <td>250000.000000</td>\n",
              "      <td>250000.000000</td>\n",
              "      <td>250000.000000</td>\n",
              "      <td>250000.000000</td>\n",
              "      <td>250000.000000</td>\n",
              "      <td>250000.000000</td>\n",
              "      <td>250000.000000</td>\n",
              "      <td>250000.000000</td>\n",
              "      <td>250000.000000</td>\n",
              "      <td>250000.000000</td>\n",
              "      <td>250000.000000</td>\n",
              "      <td>250000.000000</td>\n",
              "      <td>250000.000000</td>\n",
              "      <td>250000.000000</td>\n",
              "      <td>250000.000000</td>\n",
              "    </tr>\n",
              "    <tr>\n",
              "      <th>mean</th>\n",
              "      <td>2748.505160</td>\n",
              "      <td>156.212172</td>\n",
              "      <td>16.331052</td>\n",
              "      <td>228.094032</td>\n",
              "      <td>50.897820</td>\n",
              "      <td>1719.966576</td>\n",
              "      <td>212.370488</td>\n",
              "      <td>218.510700</td>\n",
              "      <td>134.502764</td>\n",
              "      <td>1521.756904</td>\n",
              "      <td>0.238300</td>\n",
              "      <td>0.033360</td>\n",
              "      <td>0.417824</td>\n",
              "      <td>0.308692</td>\n",
              "      <td>0.018344</td>\n",
              "      <td>0.035864</td>\n",
              "      <td>0.058376</td>\n",
              "      <td>0.046920</td>\n",
              "      <td>0.009036</td>\n",
              "      <td>0.037396</td>\n",
              "      <td>0.000060</td>\n",
              "      <td>0.000092</td>\n",
              "      <td>0.000612</td>\n",
              "      <td>0.126132</td>\n",
              "      <td>0.023604</td>\n",
              "      <td>0.015736</td>\n",
              "      <td>0.032068</td>\n",
              "      <td>0.006308</td>\n",
              "      <td>0.000004</td>\n",
              "      <td>0.004604</td>\n",
              "      <td>0.030532</td>\n",
              "      <td>0.003516</td>\n",
              "      <td>0.002868</td>\n",
              "      <td>0.007580</td>\n",
              "      <td>0.000628</td>\n",
              "      <td>0.022004</td>\n",
              "      <td>0.047560</td>\n",
              "      <td>0.015400</td>\n",
              "      <td>0.000232</td>\n",
              "      <td>0.003188</td>\n",
              "      <td>0.000844</td>\n",
              "      <td>0.000600</td>\n",
              "      <td>0.084728</td>\n",
              "      <td>0.046952</td>\n",
              "      <td>0.019988</td>\n",
              "      <td>0.041580</td>\n",
              "      <td>0.039880</td>\n",
              "      <td>0.001500</td>\n",
              "      <td>0.006464</td>\n",
              "      <td>0.000396</td>\n",
              "      <td>0.001852</td>\n",
              "      <td>0.046020</td>\n",
              "      <td>0.041388</td>\n",
              "      <td>0.026892</td>\n",
              "      <td>4.000320</td>\n",
              "    </tr>\n",
              "    <tr>\n",
              "      <th>std</th>\n",
              "      <td>418.300975</td>\n",
              "      <td>109.652847</td>\n",
              "      <td>8.317490</td>\n",
              "      <td>209.630153</td>\n",
              "      <td>61.006967</td>\n",
              "      <td>1330.817603</td>\n",
              "      <td>30.654582</td>\n",
              "      <td>22.680947</td>\n",
              "      <td>46.033892</td>\n",
              "      <td>1107.378373</td>\n",
              "      <td>0.426044</td>\n",
              "      <td>0.179575</td>\n",
              "      <td>0.493202</td>\n",
              "      <td>0.461955</td>\n",
              "      <td>0.134192</td>\n",
              "      <td>0.185951</td>\n",
              "      <td>0.234454</td>\n",
              "      <td>0.211468</td>\n",
              "      <td>0.094628</td>\n",
              "      <td>0.189731</td>\n",
              "      <td>0.007746</td>\n",
              "      <td>0.009591</td>\n",
              "      <td>0.024731</td>\n",
              "      <td>0.331999</td>\n",
              "      <td>0.151812</td>\n",
              "      <td>0.124453</td>\n",
              "      <td>0.176181</td>\n",
              "      <td>0.079172</td>\n",
              "      <td>0.002000</td>\n",
              "      <td>0.067697</td>\n",
              "      <td>0.172046</td>\n",
              "      <td>0.059192</td>\n",
              "      <td>0.053477</td>\n",
              "      <td>0.086733</td>\n",
              "      <td>0.025052</td>\n",
              "      <td>0.146697</td>\n",
              "      <td>0.212834</td>\n",
              "      <td>0.123138</td>\n",
              "      <td>0.015230</td>\n",
              "      <td>0.056372</td>\n",
              "      <td>0.029039</td>\n",
              "      <td>0.024488</td>\n",
              "      <td>0.278477</td>\n",
              "      <td>0.211536</td>\n",
              "      <td>0.139959</td>\n",
              "      <td>0.199628</td>\n",
              "      <td>0.195678</td>\n",
              "      <td>0.038701</td>\n",
              "      <td>0.080139</td>\n",
              "      <td>0.019896</td>\n",
              "      <td>0.042995</td>\n",
              "      <td>0.209529</td>\n",
              "      <td>0.199186</td>\n",
              "      <td>0.161768</td>\n",
              "      <td>2.001108</td>\n",
              "    </tr>\n",
              "    <tr>\n",
              "      <th>min</th>\n",
              "      <td>1859.000000</td>\n",
              "      <td>0.000000</td>\n",
              "      <td>0.000000</td>\n",
              "      <td>0.000000</td>\n",
              "      <td>-163.000000</td>\n",
              "      <td>0.000000</td>\n",
              "      <td>0.000000</td>\n",
              "      <td>0.000000</td>\n",
              "      <td>0.000000</td>\n",
              "      <td>0.000000</td>\n",
              "      <td>0.000000</td>\n",
              "      <td>0.000000</td>\n",
              "      <td>0.000000</td>\n",
              "      <td>0.000000</td>\n",
              "      <td>0.000000</td>\n",
              "      <td>0.000000</td>\n",
              "      <td>0.000000</td>\n",
              "      <td>0.000000</td>\n",
              "      <td>0.000000</td>\n",
              "      <td>0.000000</td>\n",
              "      <td>0.000000</td>\n",
              "      <td>0.000000</td>\n",
              "      <td>0.000000</td>\n",
              "      <td>0.000000</td>\n",
              "      <td>0.000000</td>\n",
              "      <td>0.000000</td>\n",
              "      <td>0.000000</td>\n",
              "      <td>0.000000</td>\n",
              "      <td>0.000000</td>\n",
              "      <td>0.000000</td>\n",
              "      <td>0.000000</td>\n",
              "      <td>0.000000</td>\n",
              "      <td>0.000000</td>\n",
              "      <td>0.000000</td>\n",
              "      <td>0.000000</td>\n",
              "      <td>0.000000</td>\n",
              "      <td>0.000000</td>\n",
              "      <td>0.000000</td>\n",
              "      <td>0.000000</td>\n",
              "      <td>0.000000</td>\n",
              "      <td>0.000000</td>\n",
              "      <td>0.000000</td>\n",
              "      <td>0.000000</td>\n",
              "      <td>0.000000</td>\n",
              "      <td>0.000000</td>\n",
              "      <td>0.000000</td>\n",
              "      <td>0.000000</td>\n",
              "      <td>0.000000</td>\n",
              "      <td>0.000000</td>\n",
              "      <td>0.000000</td>\n",
              "      <td>0.000000</td>\n",
              "      <td>0.000000</td>\n",
              "      <td>0.000000</td>\n",
              "      <td>0.000000</td>\n",
              "      <td>1.000000</td>\n",
              "    </tr>\n",
              "    <tr>\n",
              "      <th>25%</th>\n",
              "      <td>2375.000000</td>\n",
              "      <td>65.000000</td>\n",
              "      <td>10.000000</td>\n",
              "      <td>66.000000</td>\n",
              "      <td>5.000000</td>\n",
              "      <td>756.000000</td>\n",
              "      <td>195.000000</td>\n",
              "      <td>206.000000</td>\n",
              "      <td>106.000000</td>\n",
              "      <td>734.000000</td>\n",
              "      <td>0.000000</td>\n",
              "      <td>0.000000</td>\n",
              "      <td>0.000000</td>\n",
              "      <td>0.000000</td>\n",
              "      <td>0.000000</td>\n",
              "      <td>0.000000</td>\n",
              "      <td>0.000000</td>\n",
              "      <td>0.000000</td>\n",
              "      <td>0.000000</td>\n",
              "      <td>0.000000</td>\n",
              "      <td>0.000000</td>\n",
              "      <td>0.000000</td>\n",
              "      <td>0.000000</td>\n",
              "      <td>0.000000</td>\n",
              "      <td>0.000000</td>\n",
              "      <td>0.000000</td>\n",
              "      <td>0.000000</td>\n",
              "      <td>0.000000</td>\n",
              "      <td>0.000000</td>\n",
              "      <td>0.000000</td>\n",
              "      <td>0.000000</td>\n",
              "      <td>0.000000</td>\n",
              "      <td>0.000000</td>\n",
              "      <td>0.000000</td>\n",
              "      <td>0.000000</td>\n",
              "      <td>0.000000</td>\n",
              "      <td>0.000000</td>\n",
              "      <td>0.000000</td>\n",
              "      <td>0.000000</td>\n",
              "      <td>0.000000</td>\n",
              "      <td>0.000000</td>\n",
              "      <td>0.000000</td>\n",
              "      <td>0.000000</td>\n",
              "      <td>0.000000</td>\n",
              "      <td>0.000000</td>\n",
              "      <td>0.000000</td>\n",
              "      <td>0.000000</td>\n",
              "      <td>0.000000</td>\n",
              "      <td>0.000000</td>\n",
              "      <td>0.000000</td>\n",
              "      <td>0.000000</td>\n",
              "      <td>0.000000</td>\n",
              "      <td>0.000000</td>\n",
              "      <td>0.000000</td>\n",
              "      <td>2.000000</td>\n",
              "    </tr>\n",
              "    <tr>\n",
              "      <th>50%</th>\n",
              "      <td>2753.000000</td>\n",
              "      <td>125.000000</td>\n",
              "      <td>15.000000</td>\n",
              "      <td>180.000000</td>\n",
              "      <td>32.000000</td>\n",
              "      <td>1318.000000</td>\n",
              "      <td>220.000000</td>\n",
              "      <td>222.000000</td>\n",
              "      <td>137.000000</td>\n",
              "      <td>1273.000000</td>\n",
              "      <td>0.000000</td>\n",
              "      <td>0.000000</td>\n",
              "      <td>0.000000</td>\n",
              "      <td>0.000000</td>\n",
              "      <td>0.000000</td>\n",
              "      <td>0.000000</td>\n",
              "      <td>0.000000</td>\n",
              "      <td>0.000000</td>\n",
              "      <td>0.000000</td>\n",
              "      <td>0.000000</td>\n",
              "      <td>0.000000</td>\n",
              "      <td>0.000000</td>\n",
              "      <td>0.000000</td>\n",
              "      <td>0.000000</td>\n",
              "      <td>0.000000</td>\n",
              "      <td>0.000000</td>\n",
              "      <td>0.000000</td>\n",
              "      <td>0.000000</td>\n",
              "      <td>0.000000</td>\n",
              "      <td>0.000000</td>\n",
              "      <td>0.000000</td>\n",
              "      <td>0.000000</td>\n",
              "      <td>0.000000</td>\n",
              "      <td>0.000000</td>\n",
              "      <td>0.000000</td>\n",
              "      <td>0.000000</td>\n",
              "      <td>0.000000</td>\n",
              "      <td>0.000000</td>\n",
              "      <td>0.000000</td>\n",
              "      <td>0.000000</td>\n",
              "      <td>0.000000</td>\n",
              "      <td>0.000000</td>\n",
              "      <td>0.000000</td>\n",
              "      <td>0.000000</td>\n",
              "      <td>0.000000</td>\n",
              "      <td>0.000000</td>\n",
              "      <td>0.000000</td>\n",
              "      <td>0.000000</td>\n",
              "      <td>0.000000</td>\n",
              "      <td>0.000000</td>\n",
              "      <td>0.000000</td>\n",
              "      <td>0.000000</td>\n",
              "      <td>0.000000</td>\n",
              "      <td>0.000000</td>\n",
              "      <td>4.000000</td>\n",
              "    </tr>\n",
              "    <tr>\n",
              "      <th>75%</th>\n",
              "      <td>3108.000000</td>\n",
              "      <td>260.000000</td>\n",
              "      <td>22.000000</td>\n",
              "      <td>330.000000</td>\n",
              "      <td>79.000000</td>\n",
              "      <td>2294.000000</td>\n",
              "      <td>235.000000</td>\n",
              "      <td>235.000000</td>\n",
              "      <td>167.000000</td>\n",
              "      <td>1998.000000</td>\n",
              "      <td>0.000000</td>\n",
              "      <td>0.000000</td>\n",
              "      <td>1.000000</td>\n",
              "      <td>1.000000</td>\n",
              "      <td>0.000000</td>\n",
              "      <td>0.000000</td>\n",
              "      <td>0.000000</td>\n",
              "      <td>0.000000</td>\n",
              "      <td>0.000000</td>\n",
              "      <td>0.000000</td>\n",
              "      <td>0.000000</td>\n",
              "      <td>0.000000</td>\n",
              "      <td>0.000000</td>\n",
              "      <td>0.000000</td>\n",
              "      <td>0.000000</td>\n",
              "      <td>0.000000</td>\n",
              "      <td>0.000000</td>\n",
              "      <td>0.000000</td>\n",
              "      <td>0.000000</td>\n",
              "      <td>0.000000</td>\n",
              "      <td>0.000000</td>\n",
              "      <td>0.000000</td>\n",
              "      <td>0.000000</td>\n",
              "      <td>0.000000</td>\n",
              "      <td>0.000000</td>\n",
              "      <td>0.000000</td>\n",
              "      <td>0.000000</td>\n",
              "      <td>0.000000</td>\n",
              "      <td>0.000000</td>\n",
              "      <td>0.000000</td>\n",
              "      <td>0.000000</td>\n",
              "      <td>0.000000</td>\n",
              "      <td>0.000000</td>\n",
              "      <td>0.000000</td>\n",
              "      <td>0.000000</td>\n",
              "      <td>0.000000</td>\n",
              "      <td>0.000000</td>\n",
              "      <td>0.000000</td>\n",
              "      <td>0.000000</td>\n",
              "      <td>0.000000</td>\n",
              "      <td>0.000000</td>\n",
              "      <td>0.000000</td>\n",
              "      <td>0.000000</td>\n",
              "      <td>0.000000</td>\n",
              "      <td>6.000000</td>\n",
              "    </tr>\n",
              "    <tr>\n",
              "      <th>max</th>\n",
              "      <td>3857.000000</td>\n",
              "      <td>360.000000</td>\n",
              "      <td>65.000000</td>\n",
              "      <td>1390.000000</td>\n",
              "      <td>598.000000</td>\n",
              "      <td>7112.000000</td>\n",
              "      <td>254.000000</td>\n",
              "      <td>254.000000</td>\n",
              "      <td>252.000000</td>\n",
              "      <td>7150.000000</td>\n",
              "      <td>1.000000</td>\n",
              "      <td>1.000000</td>\n",
              "      <td>1.000000</td>\n",
              "      <td>1.000000</td>\n",
              "      <td>1.000000</td>\n",
              "      <td>1.000000</td>\n",
              "      <td>1.000000</td>\n",
              "      <td>1.000000</td>\n",
              "      <td>1.000000</td>\n",
              "      <td>1.000000</td>\n",
              "      <td>1.000000</td>\n",
              "      <td>1.000000</td>\n",
              "      <td>1.000000</td>\n",
              "      <td>1.000000</td>\n",
              "      <td>1.000000</td>\n",
              "      <td>1.000000</td>\n",
              "      <td>1.000000</td>\n",
              "      <td>1.000000</td>\n",
              "      <td>1.000000</td>\n",
              "      <td>1.000000</td>\n",
              "      <td>1.000000</td>\n",
              "      <td>1.000000</td>\n",
              "      <td>1.000000</td>\n",
              "      <td>1.000000</td>\n",
              "      <td>1.000000</td>\n",
              "      <td>1.000000</td>\n",
              "      <td>1.000000</td>\n",
              "      <td>1.000000</td>\n",
              "      <td>1.000000</td>\n",
              "      <td>1.000000</td>\n",
              "      <td>1.000000</td>\n",
              "      <td>1.000000</td>\n",
              "      <td>1.000000</td>\n",
              "      <td>1.000000</td>\n",
              "      <td>1.000000</td>\n",
              "      <td>1.000000</td>\n",
              "      <td>1.000000</td>\n",
              "      <td>1.000000</td>\n",
              "      <td>1.000000</td>\n",
              "      <td>1.000000</td>\n",
              "      <td>1.000000</td>\n",
              "      <td>1.000000</td>\n",
              "      <td>1.000000</td>\n",
              "      <td>1.000000</td>\n",
              "      <td>7.000000</td>\n",
              "    </tr>\n",
              "  </tbody>\n",
              "</table>\n",
              "</div>"
            ],
            "text/plain": [
              "           Elevation         Aspect  ...   Soil_Type_40     Cover_Type\n",
              "count  250000.000000  250000.000000  ...  250000.000000  250000.000000\n",
              "mean     2748.505160     156.212172  ...       0.026892       4.000320\n",
              "std       418.300975     109.652847  ...       0.161768       2.001108\n",
              "min      1859.000000       0.000000  ...       0.000000       1.000000\n",
              "25%      2375.000000      65.000000  ...       0.000000       2.000000\n",
              "50%      2753.000000     125.000000  ...       0.000000       4.000000\n",
              "75%      3108.000000     260.000000  ...       0.000000       6.000000\n",
              "max      3857.000000     360.000000  ...       1.000000       7.000000\n",
              "\n",
              "[8 rows x 55 columns]"
            ]
          },
          "metadata": {
            "tags": []
          },
          "execution_count": 8
        }
      ]
    },
    {
      "cell_type": "code",
      "metadata": {
        "colab": {
          "base_uri": "https://localhost:8080/"
        },
        "id": "980l8KJ_p0U4",
        "outputId": "43c2e745-aea8-4fb8-809d-a3760bd2ef90"
      },
      "source": [
        "for col in tree.columns:\n",
        "    print(\"Column\", col, \"has\", tree[col].nunique(), \"unique values\")"
      ],
      "execution_count": null,
      "outputs": [
        {
          "output_type": "stream",
          "text": [
            "Column Elevation has 1983 unique values\n",
            "Column Aspect has 361 unique values\n",
            "Column Slope has 59 unique values\n",
            "Column Horizontal_Distance_To_Hydrology has 1294 unique values\n",
            "Column Vertical_Distance_To_Hydrology has 578 unique values\n",
            "Column Horizontal_Distance_To_Roadways has 6501 unique values\n",
            "Column Hillshade_9am has 207 unique values\n",
            "Column Hillshade_Noon has 165 unique values\n",
            "Column Hillshade_3pm has 253 unique values\n",
            "Column Horizontal_Distance_To_Fire_Points has 6487 unique values\n",
            "Column Wilderness_Area_1 has 2 unique values\n",
            "Column Wilderness_Area_2 has 2 unique values\n",
            "Column Wilderness_Area_3 has 2 unique values\n",
            "Column Wilderness_Area_4 has 2 unique values\n",
            "Column Soil_Type_1 has 2 unique values\n",
            "Column Soil_Type_2 has 2 unique values\n",
            "Column Soil_Type_3 has 2 unique values\n",
            "Column Soil_Type_4 has 2 unique values\n",
            "Column Soil_Type_5 has 2 unique values\n",
            "Column Soil_Type_6 has 2 unique values\n",
            "Column Soil_Type_7 has 2 unique values\n",
            "Column Soil_Type_8 has 2 unique values\n",
            "Column Soil_Type_9 has 2 unique values\n",
            "Column Soil_Type_10 has 2 unique values\n",
            "Column Soil_Type_11 has 2 unique values\n",
            "Column Soil_Type_12 has 2 unique values\n",
            "Column Soil_Type_13 has 2 unique values\n",
            "Column Soil_Type_14 has 2 unique values\n",
            "Column Soil_Type_15 has 2 unique values\n",
            "Column Soil_Type_16 has 2 unique values\n",
            "Column Soil_Type_17 has 2 unique values\n",
            "Column Soil_Type_18 has 2 unique values\n",
            "Column Soil_Type_19 has 2 unique values\n",
            "Column Soil_Type_20 has 2 unique values\n",
            "Column Soil_Type_21 has 2 unique values\n",
            "Column Soil_Type_22 has 2 unique values\n",
            "Column Soil_Type_23 has 2 unique values\n",
            "Column Soil_Type_24 has 2 unique values\n",
            "Column Soil_Type_25 has 2 unique values\n",
            "Column Soil_Type_26 has 2 unique values\n",
            "Column Soil_Type_27 has 2 unique values\n",
            "Column Soil_Type_28 has 2 unique values\n",
            "Column Soil_Type_29 has 2 unique values\n",
            "Column Soil_Type_30 has 2 unique values\n",
            "Column Soil_Type_31 has 2 unique values\n",
            "Column Soil_Type_32 has 2 unique values\n",
            "Column Soil_Type_33 has 2 unique values\n",
            "Column Soil_Type_34 has 2 unique values\n",
            "Column Soil_Type_35 has 2 unique values\n",
            "Column Soil_Type_36 has 2 unique values\n",
            "Column Soil_Type_37 has 2 unique values\n",
            "Column Soil_Type_38 has 2 unique values\n",
            "Column Soil_Type_39 has 2 unique values\n",
            "Column Soil_Type_40 has 2 unique values\n",
            "Column Cover_Type has 7 unique values\n"
          ],
          "name": "stdout"
        }
      ]
    },
    {
      "cell_type": "code",
      "metadata": {
        "colab": {
          "base_uri": "https://localhost:8080/"
        },
        "id": "IbEuiYc2p0U5",
        "outputId": "ab3586ef-dbfb-479d-ec77-70d68cd8143c"
      },
      "source": [
        "# There are 7 types of trees in the forest district.\n",
        "\n",
        "tree.Cover_Type.value_counts()"
      ],
      "execution_count": null,
      "outputs": [
        {
          "output_type": "execute_result",
          "data": {
            "text/plain": [
              "5    36079\n",
              "1    35836\n",
              "2    35780\n",
              "6    35695\n",
              "7    35690\n",
              "4    35529\n",
              "3    35391\n",
              "Name: Cover_Type, dtype: int64"
            ]
          },
          "metadata": {
            "tags": []
          },
          "execution_count": 10
        }
      ]
    },
    {
      "cell_type": "code",
      "metadata": {
        "colab": {
          "base_uri": "https://localhost:8080/",
          "height": 542
        },
        "id": "RIyVyBITUg97",
        "outputId": "73358077-f5a6-4737-a196-48c17ad67fdf"
      },
      "source": [
        "import plotly           \n",
        "import plotly.express as px\n",
        "fig = px.bar(x=tree.Cover_Type.value_counts().index,y=tree.Cover_Type.value_counts().values, opacity=0.9, labels=dict(x=\"Cover Types\", y=\"Numbers\" ))         \n",
        "fig.show()"
      ],
      "execution_count": null,
      "outputs": [
        {
          "output_type": "display_data",
          "data": {
            "text/html": [
              "<html>\n",
              "<head><meta charset=\"utf-8\" /></head>\n",
              "<body>\n",
              "    <div>\n",
              "            <script src=\"https://cdnjs.cloudflare.com/ajax/libs/mathjax/2.7.5/MathJax.js?config=TeX-AMS-MML_SVG\"></script><script type=\"text/javascript\">if (window.MathJax) {MathJax.Hub.Config({SVG: {font: \"STIX-Web\"}});}</script>\n",
              "                <script type=\"text/javascript\">window.PlotlyConfig = {MathJaxConfig: 'local'};</script>\n",
              "        <script src=\"https://cdn.plot.ly/plotly-latest.min.js\"></script>    \n",
              "            <div id=\"0b8ebeaa-67ae-41d0-81c9-c6f326cda000\" class=\"plotly-graph-div\" style=\"height:525px; width:100%;\"></div>\n",
              "            <script type=\"text/javascript\">\n",
              "                \n",
              "                    window.PLOTLYENV=window.PLOTLYENV || {};\n",
              "                    \n",
              "                if (document.getElementById(\"0b8ebeaa-67ae-41d0-81c9-c6f326cda000\")) {\n",
              "                    Plotly.newPlot(\n",
              "                        '0b8ebeaa-67ae-41d0-81c9-c6f326cda000',\n",
              "                        [{\"alignmentgroup\": \"True\", \"hoverlabel\": {\"namelength\": 0}, \"hovertemplate\": \"Cover Types=%{x}<br>Numbers=%{y}\", \"legendgroup\": \"\", \"marker\": {\"color\": \"#636efa\", \"opacity\": 0.9}, \"name\": \"\", \"offsetgroup\": \"\", \"orientation\": \"v\", \"showlegend\": false, \"textposition\": \"auto\", \"type\": \"bar\", \"x\": [5, 1, 2, 6, 7, 4, 3], \"xaxis\": \"x\", \"y\": [36079, 35836, 35780, 35695, 35690, 35529, 35391], \"yaxis\": \"y\"}],\n",
              "                        {\"barmode\": \"relative\", \"legend\": {\"tracegroupgap\": 0}, \"margin\": {\"t\": 60}, \"template\": {\"data\": {\"bar\": [{\"error_x\": {\"color\": \"#2a3f5f\"}, \"error_y\": {\"color\": \"#2a3f5f\"}, \"marker\": {\"line\": {\"color\": \"#E5ECF6\", \"width\": 0.5}}, \"type\": \"bar\"}], \"barpolar\": [{\"marker\": {\"line\": {\"color\": \"#E5ECF6\", \"width\": 0.5}}, \"type\": \"barpolar\"}], \"carpet\": [{\"aaxis\": {\"endlinecolor\": \"#2a3f5f\", \"gridcolor\": \"white\", \"linecolor\": \"white\", \"minorgridcolor\": \"white\", \"startlinecolor\": \"#2a3f5f\"}, \"baxis\": {\"endlinecolor\": \"#2a3f5f\", \"gridcolor\": \"white\", \"linecolor\": \"white\", \"minorgridcolor\": \"white\", \"startlinecolor\": \"#2a3f5f\"}, \"type\": \"carpet\"}], \"choropleth\": [{\"colorbar\": {\"outlinewidth\": 0, \"ticks\": \"\"}, \"type\": \"choropleth\"}], \"contour\": [{\"colorbar\": {\"outlinewidth\": 0, \"ticks\": \"\"}, \"colorscale\": [[0.0, \"#0d0887\"], [0.1111111111111111, \"#46039f\"], [0.2222222222222222, \"#7201a8\"], [0.3333333333333333, \"#9c179e\"], [0.4444444444444444, \"#bd3786\"], [0.5555555555555556, \"#d8576b\"], [0.6666666666666666, \"#ed7953\"], [0.7777777777777778, \"#fb9f3a\"], [0.8888888888888888, \"#fdca26\"], [1.0, \"#f0f921\"]], \"type\": \"contour\"}], \"contourcarpet\": [{\"colorbar\": {\"outlinewidth\": 0, \"ticks\": \"\"}, \"type\": \"contourcarpet\"}], \"heatmap\": [{\"colorbar\": {\"outlinewidth\": 0, \"ticks\": \"\"}, \"colorscale\": [[0.0, \"#0d0887\"], [0.1111111111111111, \"#46039f\"], [0.2222222222222222, \"#7201a8\"], [0.3333333333333333, \"#9c179e\"], [0.4444444444444444, \"#bd3786\"], [0.5555555555555556, \"#d8576b\"], [0.6666666666666666, \"#ed7953\"], [0.7777777777777778, \"#fb9f3a\"], [0.8888888888888888, \"#fdca26\"], [1.0, \"#f0f921\"]], \"type\": \"heatmap\"}], \"heatmapgl\": [{\"colorbar\": {\"outlinewidth\": 0, \"ticks\": \"\"}, \"colorscale\": [[0.0, \"#0d0887\"], [0.1111111111111111, \"#46039f\"], [0.2222222222222222, \"#7201a8\"], [0.3333333333333333, \"#9c179e\"], [0.4444444444444444, \"#bd3786\"], [0.5555555555555556, \"#d8576b\"], [0.6666666666666666, \"#ed7953\"], [0.7777777777777778, \"#fb9f3a\"], [0.8888888888888888, \"#fdca26\"], [1.0, \"#f0f921\"]], \"type\": \"heatmapgl\"}], \"histogram\": [{\"marker\": {\"colorbar\": {\"outlinewidth\": 0, \"ticks\": \"\"}}, \"type\": \"histogram\"}], \"histogram2d\": [{\"colorbar\": {\"outlinewidth\": 0, \"ticks\": \"\"}, \"colorscale\": [[0.0, \"#0d0887\"], [0.1111111111111111, \"#46039f\"], [0.2222222222222222, \"#7201a8\"], [0.3333333333333333, \"#9c179e\"], [0.4444444444444444, \"#bd3786\"], [0.5555555555555556, \"#d8576b\"], [0.6666666666666666, \"#ed7953\"], [0.7777777777777778, \"#fb9f3a\"], [0.8888888888888888, \"#fdca26\"], [1.0, \"#f0f921\"]], \"type\": \"histogram2d\"}], \"histogram2dcontour\": [{\"colorbar\": {\"outlinewidth\": 0, \"ticks\": \"\"}, \"colorscale\": [[0.0, \"#0d0887\"], [0.1111111111111111, \"#46039f\"], [0.2222222222222222, \"#7201a8\"], [0.3333333333333333, \"#9c179e\"], [0.4444444444444444, \"#bd3786\"], [0.5555555555555556, \"#d8576b\"], [0.6666666666666666, \"#ed7953\"], [0.7777777777777778, \"#fb9f3a\"], [0.8888888888888888, \"#fdca26\"], [1.0, \"#f0f921\"]], \"type\": \"histogram2dcontour\"}], \"mesh3d\": [{\"colorbar\": {\"outlinewidth\": 0, \"ticks\": \"\"}, \"type\": \"mesh3d\"}], \"parcoords\": [{\"line\": {\"colorbar\": {\"outlinewidth\": 0, \"ticks\": \"\"}}, \"type\": \"parcoords\"}], \"pie\": [{\"automargin\": true, \"type\": \"pie\"}], \"scatter\": [{\"marker\": {\"colorbar\": {\"outlinewidth\": 0, \"ticks\": \"\"}}, \"type\": \"scatter\"}], \"scatter3d\": [{\"line\": {\"colorbar\": {\"outlinewidth\": 0, \"ticks\": \"\"}}, \"marker\": {\"colorbar\": {\"outlinewidth\": 0, \"ticks\": \"\"}}, \"type\": \"scatter3d\"}], \"scattercarpet\": [{\"marker\": {\"colorbar\": {\"outlinewidth\": 0, \"ticks\": \"\"}}, \"type\": \"scattercarpet\"}], \"scattergeo\": [{\"marker\": {\"colorbar\": {\"outlinewidth\": 0, \"ticks\": \"\"}}, \"type\": \"scattergeo\"}], \"scattergl\": [{\"marker\": {\"colorbar\": {\"outlinewidth\": 0, \"ticks\": \"\"}}, \"type\": \"scattergl\"}], \"scattermapbox\": [{\"marker\": {\"colorbar\": {\"outlinewidth\": 0, \"ticks\": \"\"}}, \"type\": \"scattermapbox\"}], \"scatterpolar\": [{\"marker\": {\"colorbar\": {\"outlinewidth\": 0, \"ticks\": \"\"}}, \"type\": \"scatterpolar\"}], \"scatterpolargl\": [{\"marker\": {\"colorbar\": {\"outlinewidth\": 0, \"ticks\": \"\"}}, \"type\": \"scatterpolargl\"}], \"scatterternary\": [{\"marker\": {\"colorbar\": {\"outlinewidth\": 0, \"ticks\": \"\"}}, \"type\": \"scatterternary\"}], \"surface\": [{\"colorbar\": {\"outlinewidth\": 0, \"ticks\": \"\"}, \"colorscale\": [[0.0, \"#0d0887\"], [0.1111111111111111, \"#46039f\"], [0.2222222222222222, \"#7201a8\"], [0.3333333333333333, \"#9c179e\"], [0.4444444444444444, \"#bd3786\"], [0.5555555555555556, \"#d8576b\"], [0.6666666666666666, \"#ed7953\"], [0.7777777777777778, \"#fb9f3a\"], [0.8888888888888888, \"#fdca26\"], [1.0, \"#f0f921\"]], \"type\": \"surface\"}], \"table\": [{\"cells\": {\"fill\": {\"color\": \"#EBF0F8\"}, \"line\": {\"color\": \"white\"}}, \"header\": {\"fill\": {\"color\": \"#C8D4E3\"}, \"line\": {\"color\": \"white\"}}, \"type\": \"table\"}]}, \"layout\": {\"annotationdefaults\": {\"arrowcolor\": \"#2a3f5f\", \"arrowhead\": 0, \"arrowwidth\": 1}, \"coloraxis\": {\"colorbar\": {\"outlinewidth\": 0, \"ticks\": \"\"}}, \"colorscale\": {\"diverging\": [[0, \"#8e0152\"], [0.1, \"#c51b7d\"], [0.2, \"#de77ae\"], [0.3, \"#f1b6da\"], [0.4, \"#fde0ef\"], [0.5, \"#f7f7f7\"], [0.6, \"#e6f5d0\"], [0.7, \"#b8e186\"], [0.8, \"#7fbc41\"], [0.9, \"#4d9221\"], [1, \"#276419\"]], \"sequential\": [[0.0, \"#0d0887\"], [0.1111111111111111, \"#46039f\"], [0.2222222222222222, \"#7201a8\"], [0.3333333333333333, \"#9c179e\"], [0.4444444444444444, \"#bd3786\"], [0.5555555555555556, \"#d8576b\"], [0.6666666666666666, \"#ed7953\"], [0.7777777777777778, \"#fb9f3a\"], [0.8888888888888888, \"#fdca26\"], [1.0, \"#f0f921\"]], \"sequentialminus\": [[0.0, \"#0d0887\"], [0.1111111111111111, \"#46039f\"], [0.2222222222222222, \"#7201a8\"], [0.3333333333333333, \"#9c179e\"], [0.4444444444444444, \"#bd3786\"], [0.5555555555555556, \"#d8576b\"], [0.6666666666666666, \"#ed7953\"], [0.7777777777777778, \"#fb9f3a\"], [0.8888888888888888, \"#fdca26\"], [1.0, \"#f0f921\"]]}, \"colorway\": [\"#636efa\", \"#EF553B\", \"#00cc96\", \"#ab63fa\", \"#FFA15A\", \"#19d3f3\", \"#FF6692\", \"#B6E880\", \"#FF97FF\", \"#FECB52\"], \"font\": {\"color\": \"#2a3f5f\"}, \"geo\": {\"bgcolor\": \"white\", \"lakecolor\": \"white\", \"landcolor\": \"#E5ECF6\", \"showlakes\": true, \"showland\": true, \"subunitcolor\": \"white\"}, \"hoverlabel\": {\"align\": \"left\"}, \"hovermode\": \"closest\", \"mapbox\": {\"style\": \"light\"}, \"paper_bgcolor\": \"white\", \"plot_bgcolor\": \"#E5ECF6\", \"polar\": {\"angularaxis\": {\"gridcolor\": \"white\", \"linecolor\": \"white\", \"ticks\": \"\"}, \"bgcolor\": \"#E5ECF6\", \"radialaxis\": {\"gridcolor\": \"white\", \"linecolor\": \"white\", \"ticks\": \"\"}}, \"scene\": {\"xaxis\": {\"backgroundcolor\": \"#E5ECF6\", \"gridcolor\": \"white\", \"gridwidth\": 2, \"linecolor\": \"white\", \"showbackground\": true, \"ticks\": \"\", \"zerolinecolor\": \"white\"}, \"yaxis\": {\"backgroundcolor\": \"#E5ECF6\", \"gridcolor\": \"white\", \"gridwidth\": 2, \"linecolor\": \"white\", \"showbackground\": true, \"ticks\": \"\", \"zerolinecolor\": \"white\"}, \"zaxis\": {\"backgroundcolor\": \"#E5ECF6\", \"gridcolor\": \"white\", \"gridwidth\": 2, \"linecolor\": \"white\", \"showbackground\": true, \"ticks\": \"\", \"zerolinecolor\": \"white\"}}, \"shapedefaults\": {\"line\": {\"color\": \"#2a3f5f\"}}, \"ternary\": {\"aaxis\": {\"gridcolor\": \"white\", \"linecolor\": \"white\", \"ticks\": \"\"}, \"baxis\": {\"gridcolor\": \"white\", \"linecolor\": \"white\", \"ticks\": \"\"}, \"bgcolor\": \"#E5ECF6\", \"caxis\": {\"gridcolor\": \"white\", \"linecolor\": \"white\", \"ticks\": \"\"}}, \"title\": {\"x\": 0.05}, \"xaxis\": {\"automargin\": true, \"gridcolor\": \"white\", \"linecolor\": \"white\", \"ticks\": \"\", \"title\": {\"standoff\": 15}, \"zerolinecolor\": \"white\", \"zerolinewidth\": 2}, \"yaxis\": {\"automargin\": true, \"gridcolor\": \"white\", \"linecolor\": \"white\", \"ticks\": \"\", \"title\": {\"standoff\": 15}, \"zerolinecolor\": \"white\", \"zerolinewidth\": 2}}}, \"xaxis\": {\"anchor\": \"y\", \"domain\": [0.0, 1.0], \"title\": {\"text\": \"Cover Types\"}}, \"yaxis\": {\"anchor\": \"x\", \"domain\": [0.0, 1.0], \"title\": {\"text\": \"Numbers\"}}},\n",
              "                        {\"responsive\": true}\n",
              "                    ).then(function(){\n",
              "                            \n",
              "var gd = document.getElementById('0b8ebeaa-67ae-41d0-81c9-c6f326cda000');\n",
              "var x = new MutationObserver(function (mutations, observer) {{\n",
              "        var display = window.getComputedStyle(gd).display;\n",
              "        if (!display || display === 'none') {{\n",
              "            console.log([gd, 'removed!']);\n",
              "            Plotly.purge(gd);\n",
              "            observer.disconnect();\n",
              "        }}\n",
              "}});\n",
              "\n",
              "// Listen for the removal of the full notebook cells\n",
              "var notebookContainer = gd.closest('#notebook-container');\n",
              "if (notebookContainer) {{\n",
              "    x.observe(notebookContainer, {childList: true});\n",
              "}}\n",
              "\n",
              "// Listen for the clearing of the current output cell\n",
              "var outputEl = gd.closest('.output');\n",
              "if (outputEl) {{\n",
              "    x.observe(outputEl, {childList: true});\n",
              "}}\n",
              "\n",
              "                        })\n",
              "                };\n",
              "                \n",
              "            </script>\n",
              "        </div>\n",
              "</body>\n",
              "</html>"
            ]
          },
          "metadata": {
            "tags": []
          }
        }
      ]
    },
    {
      "cell_type": "markdown",
      "metadata": {
        "id": "TNvbnTdnASC0"
      },
      "source": [
        "**Missing Value Detection**"
      ]
    },
    {
      "cell_type": "code",
      "metadata": {
        "colab": {
          "base_uri": "https://localhost:8080/"
        },
        "id": "VkLpnVcvASC0",
        "outputId": "f4df211b-f0b6-43b5-ff81-38e3282c52a6"
      },
      "source": [
        "# There are no missing values\n",
        "\n",
        "tree.isnull().sum()"
      ],
      "execution_count": null,
      "outputs": [
        {
          "output_type": "execute_result",
          "data": {
            "text/plain": [
              "Elevation                             0\n",
              "Aspect                                0\n",
              "Slope                                 0\n",
              "Horizontal_Distance_To_Hydrology      0\n",
              "Vertical_Distance_To_Hydrology        0\n",
              "Horizontal_Distance_To_Roadways       0\n",
              "Hillshade_9am                         0\n",
              "Hillshade_Noon                        0\n",
              "Hillshade_3pm                         0\n",
              "Horizontal_Distance_To_Fire_Points    0\n",
              "Wilderness_Area_1                     0\n",
              "Wilderness_Area_2                     0\n",
              "Wilderness_Area_3                     0\n",
              "Wilderness_Area_4                     0\n",
              "Soil_Type_1                           0\n",
              "Soil_Type_2                           0\n",
              "Soil_Type_3                           0\n",
              "Soil_Type_4                           0\n",
              "Soil_Type_5                           0\n",
              "Soil_Type_6                           0\n",
              "Soil_Type_7                           0\n",
              "Soil_Type_8                           0\n",
              "Soil_Type_9                           0\n",
              "Soil_Type_10                          0\n",
              "Soil_Type_11                          0\n",
              "Soil_Type_12                          0\n",
              "Soil_Type_13                          0\n",
              "Soil_Type_14                          0\n",
              "Soil_Type_15                          0\n",
              "Soil_Type_16                          0\n",
              "Soil_Type_17                          0\n",
              "Soil_Type_18                          0\n",
              "Soil_Type_19                          0\n",
              "Soil_Type_20                          0\n",
              "Soil_Type_21                          0\n",
              "Soil_Type_22                          0\n",
              "Soil_Type_23                          0\n",
              "Soil_Type_24                          0\n",
              "Soil_Type_25                          0\n",
              "Soil_Type_26                          0\n",
              "Soil_Type_27                          0\n",
              "Soil_Type_28                          0\n",
              "Soil_Type_29                          0\n",
              "Soil_Type_30                          0\n",
              "Soil_Type_31                          0\n",
              "Soil_Type_32                          0\n",
              "Soil_Type_33                          0\n",
              "Soil_Type_34                          0\n",
              "Soil_Type_35                          0\n",
              "Soil_Type_36                          0\n",
              "Soil_Type_37                          0\n",
              "Soil_Type_38                          0\n",
              "Soil_Type_39                          0\n",
              "Soil_Type_40                          0\n",
              "Cover_Type                            0\n",
              "dtype: int64"
            ]
          },
          "metadata": {
            "tags": []
          },
          "execution_count": 12
        }
      ]
    },
    {
      "cell_type": "code",
      "metadata": {
        "id": "v5jsl_ZFqox6"
      },
      "source": [
        "tree=tree.dropna()"
      ],
      "execution_count": null,
      "outputs": []
    },
    {
      "cell_type": "code",
      "metadata": {
        "colab": {
          "base_uri": "https://localhost:8080/"
        },
        "id": "JJOBQOpxqt2h",
        "outputId": "b690ea7b-763a-4d72-f929-0341990146aa"
      },
      "source": [
        "tree.isnull().sum()"
      ],
      "execution_count": null,
      "outputs": [
        {
          "output_type": "execute_result",
          "data": {
            "text/plain": [
              "Elevation                             0\n",
              "Aspect                                0\n",
              "Slope                                 0\n",
              "Horizontal_Distance_To_Hydrology      0\n",
              "Vertical_Distance_To_Hydrology        0\n",
              "Horizontal_Distance_To_Roadways       0\n",
              "Hillshade_9am                         0\n",
              "Hillshade_Noon                        0\n",
              "Hillshade_3pm                         0\n",
              "Horizontal_Distance_To_Fire_Points    0\n",
              "Wilderness_Area_1                     0\n",
              "Wilderness_Area_2                     0\n",
              "Wilderness_Area_3                     0\n",
              "Wilderness_Area_4                     0\n",
              "Soil_Type_1                           0\n",
              "Soil_Type_2                           0\n",
              "Soil_Type_3                           0\n",
              "Soil_Type_4                           0\n",
              "Soil_Type_5                           0\n",
              "Soil_Type_6                           0\n",
              "Soil_Type_7                           0\n",
              "Soil_Type_8                           0\n",
              "Soil_Type_9                           0\n",
              "Soil_Type_10                          0\n",
              "Soil_Type_11                          0\n",
              "Soil_Type_12                          0\n",
              "Soil_Type_13                          0\n",
              "Soil_Type_14                          0\n",
              "Soil_Type_15                          0\n",
              "Soil_Type_16                          0\n",
              "Soil_Type_17                          0\n",
              "Soil_Type_18                          0\n",
              "Soil_Type_19                          0\n",
              "Soil_Type_20                          0\n",
              "Soil_Type_21                          0\n",
              "Soil_Type_22                          0\n",
              "Soil_Type_23                          0\n",
              "Soil_Type_24                          0\n",
              "Soil_Type_25                          0\n",
              "Soil_Type_26                          0\n",
              "Soil_Type_27                          0\n",
              "Soil_Type_28                          0\n",
              "Soil_Type_29                          0\n",
              "Soil_Type_30                          0\n",
              "Soil_Type_31                          0\n",
              "Soil_Type_32                          0\n",
              "Soil_Type_33                          0\n",
              "Soil_Type_34                          0\n",
              "Soil_Type_35                          0\n",
              "Soil_Type_36                          0\n",
              "Soil_Type_37                          0\n",
              "Soil_Type_38                          0\n",
              "Soil_Type_39                          0\n",
              "Soil_Type_40                          0\n",
              "Cover_Type                            0\n",
              "dtype: int64"
            ]
          },
          "metadata": {
            "tags": []
          },
          "execution_count": 14
        }
      ]
    },
    {
      "cell_type": "code",
      "metadata": {
        "colab": {
          "base_uri": "https://localhost:8080/",
          "height": 559
        },
        "id": "OH6Nr71wTYrA",
        "outputId": "54212ed2-4c4c-4189-df41-558c2ce0cf07"
      },
      "source": [
        "plt.figure(figsize=(14,7))\n",
        "tree.corr()[\"Cover_Type\"].sort_values().plot(kind=\"barh\")"
      ],
      "execution_count": null,
      "outputs": [
        {
          "output_type": "execute_result",
          "data": {
            "text/plain": [
              "<matplotlib.axes._subplots.AxesSubplot at 0x7fa39c4d1250>"
            ]
          },
          "metadata": {
            "tags": []
          },
          "execution_count": 15
        },
        {
          "output_type": "display_data",
          "data": {
            "image/png": "[encoded data removed]",
            "text/plain": [
              "<Figure size 1400x700 with 1 Axes>"
            ]
          },
          "metadata": {
            "tags": []
          }
        }
      ]
    },
    {
      "cell_type": "markdown",
      "metadata": {
        "id": "UU7LcAbUXSvP"
      },
      "source": [
        "**Train/Test Split**"
      ]
    },
    {
      "cell_type": "code",
      "metadata": {
        "id": "HDSK9cNaqt6W"
      },
      "source": [
        "X = tree.drop('Cover_Type', axis = 1) # here we are dropping the class feature as this is the target and 'X' is input features, the changes are not\n",
        "# made inplace as we have not used 'inplace = True'\n",
        "\n",
        "y = tree['Cover_Type']"
      ],
      "execution_count": null,
      "outputs": []
    },
    {
      "cell_type": "code",
      "metadata": {
        "id": "6thIZXGJqt-K"
      },
      "source": [
        "# import train_test_split\n",
        "from sklearn.model_selection import train_test_split"
      ],
      "execution_count": null,
      "outputs": []
    },
    {
      "cell_type": "code",
      "metadata": {
        "id": "cudoFoHcquBm"
      },
      "source": [
        "# split the data\n",
        "X_train, X_val, y_train, y_val = train_test_split(X,y,test_size=0.3, random_state = 42)"
      ],
      "execution_count": null,
      "outputs": []
    },
    {
      "cell_type": "markdown",
      "metadata": {
        "id": "8TtDef1EXdj7"
      },
      "source": [
        "**Model Building**"
      ]
    },
    {
      "cell_type": "code",
      "metadata": {
        "id": "yo_Pa7vGrWTM"
      },
      "source": [
        "from sklearn.preprocessing import StandardScaler\n",
        "from sklearn.model_selection import train_test_split\n",
        "from sklearn.model_selection import KFold\n",
        "from sklearn.model_selection import StratifiedKFold\n",
        "from sklearn.model_selection import cross_val_score\n",
        "from sklearn.model_selection import GridSearchCV\n",
        "from sklearn.metrics import classification_report\n",
        "from sklearn.metrics import confusion_matrix\n",
        "from sklearn.metrics import accuracy_score\n",
        "from sklearn.pipeline import Pipeline\n",
        "from sklearn.linear_model import LogisticRegression\n",
        "from sklearn.tree import DecisionTreeClassifier\n",
        "from sklearn.neighbors import KNeighborsClassifier\n",
        "from sklearn.discriminant_analysis import LinearDiscriminantAnalysis\n",
        "from sklearn.naive_bayes import GaussianNB\n",
        "from sklearn.svm import SVC\n",
        "from sklearn.ensemble import AdaBoostClassifier\n",
        "from sklearn.ensemble import GradientBoostingClassifier\n",
        "from sklearn.ensemble import RandomForestClassifier\n",
        "from sklearn.ensemble import ExtraTreesClassifier\n",
        "from xgboost import XGBClassifier"
      ],
      "execution_count": null,
      "outputs": []
    },
    {
      "cell_type": "code",
      "metadata": {
        "id": "F3hM_IRFuduK"
      },
      "source": [
        "def GetBasedModel():\n",
        "    basedModels = []\n",
        "    basedModels.append(('LR'   , LogisticRegression()))\n",
        "    basedModels.append(('KNN'  , KNeighborsClassifier()))\n",
        "    basedModels.append(('CART' , DecisionTreeClassifier()))\n",
        "    basedModels.append(('GBM'  , GradientBoostingClassifier()))\n",
        "    basedModels.append(('RF'   , RandomForestClassifier()))\n",
        "    basedModels.append(('ET'   , ExtraTreesClassifier()))\n",
        "    basedModels.append(('XGB'   , XGBClassifier()))\n",
        "    \n",
        "    return basedModels"
      ],
      "execution_count": null,
      "outputs": []
    },
    {
      "cell_type": "code",
      "metadata": {
        "id": "UpWjYlLNud0I"
      },
      "source": [
        "def BasedLine2(X_train, y_train,models):\n",
        "    num_folds = 5\n",
        "    scoring = 'accuracy'\n",
        "    results = []\n",
        "    names = []\n",
        "    for name, model in models:\n",
        "        kfold = StratifiedKFold(n_splits=num_folds)\n",
        "        cv_results = cross_val_score(model, X_train, y_train, cv=kfold, scoring=scoring)\n",
        "        results.append(cv_results)\n",
        "        names.append(name)\n",
        "        msg = \"%s: %f (%f)\" % (name, cv_results.mean(), cv_results.std())\n",
        "        print(msg)\n",
        "        \n",
        "    return names, results"
      ],
      "execution_count": null,
      "outputs": []
    },
    {
      "cell_type": "code",
      "metadata": {
        "colab": {
          "base_uri": "https://localhost:8080/"
        },
        "id": "3kmY3hLeud3t",
        "outputId": "3278c554-91b1-42ac-fe5a-126a7af86afb"
      },
      "source": [
        "models = GetBasedModel()\n",
        "names,results = BasedLine2(X_train, y_train,models)"
      ],
      "execution_count": null,
      "outputs": [
        {
          "output_type": "stream",
          "text": [
            "LR: 0.487303 (0.001434)\n",
            "KNN: 0.942017 (0.000770)\n",
            "CART: 0.923463 (0.002015)\n",
            "GBM: 0.816731 (0.001807)\n",
            "RF: 0.953811 (0.000557)\n",
            "ET: 0.955537 (0.000523)\n",
            "XGB: 0.767114 (0.001831)\n"
          ],
          "name": "stdout"
        }
      ]
    },
    {
      "cell_type": "markdown",
      "metadata": {
        "id": "7aFnnJgH8JEY"
      },
      "source": [
        "**ExtraTreesClassifier has the highest score. However since the standart deviation of RandomForestClassifier is lower than ET, I will continue with RF.**"
      ]
    },
    {
      "cell_type": "code",
      "metadata": {
        "id": "n2L2kCVfOZ_m",
        "colab": {
          "base_uri": "https://localhost:8080/"
        },
        "outputId": "fc67108f-84fe-49da-e990-cdc47801e2df"
      },
      "source": [
        "rf=RandomForestClassifier(n_estimators=700, criterion=\"entropy\", max_depth=38).fit(X_train, y_train)\n",
        "pred=rf.predict(X_val)\n",
        "from sklearn.metrics import classification_report, confusion_matrix, accuracy_score\n",
        "accuracy_score(y_val, pred)"
      ],
      "execution_count": null,
      "outputs": [
        {
          "output_type": "execute_result",
          "data": {
            "text/plain": [
              "0.9612"
            ]
          },
          "metadata": {
            "tags": []
          },
          "execution_count": 23
        }
      ]
    },
    {
      "cell_type": "markdown",
      "metadata": {
        "id": "wj-dtkiC8nfn"
      },
      "source": [
        "**Finalizing the model**"
      ]
    },
    {
      "cell_type": "code",
      "metadata": {
        "id": "ezVFeDO4_Qlv"
      },
      "source": [
        "rf_final=rf.fit(X, y)"
      ],
      "execution_count": null,
      "outputs": []
    },
    {
      "cell_type": "markdown",
      "metadata": {
        "id": "6cBYEdDG8rxy"
      },
      "source": [
        "**Loading the test data**"
      ]
    },
    {
      "cell_type": "code",
      "metadata": {
        "id": "nkzOYC4xQLWo"
      },
      "source": [
        "#test_data = pd.read_csv('Test_data.csv')"
      ],
      "execution_count": null,
      "outputs": []
    },
    {
      "cell_type": "code",
      "metadata": {
        "id": "vpZciWGiztds"
      },
      "source": [
        "#test_data.info()"
      ],
      "execution_count": null,
      "outputs": []
    },
    {
      "cell_type": "markdown",
      "metadata": {
        "id": "yqDMBseT9R85"
      },
      "source": [
        "**Making predictions**"
      ]
    },
    {
      "cell_type": "code",
      "metadata": {
        "id": "XWXkkIRhQLbn"
      },
      "source": [
        "#target = rf_final.predict(test_data)"
      ],
      "execution_count": null,
      "outputs": []
    },
    {
      "cell_type": "markdown",
      "metadata": {
        "id": "h1fU2Su-9W7Z"
      },
      "source": [
        "**Visualizing the Results**"
      ]
    },
    {
      "cell_type": "code",
      "metadata": {
        "id": "5L7K3m-dp0VP"
      },
      "source": [
        "from yellowbrick.classifier import ClassificationReport\n",
        "\n",
        "visualizer = ClassificationReport(rf, support=True)\n",
        "\n",
        "visualizer.fit(X_train, y_train)        \n",
        "visualizer.score(X_val, y_val)        \n",
        "visualizer.show() "
      ],
      "execution_count": null,
      "outputs": []
    },
    {
      "cell_type": "markdown",
      "metadata": {
        "id": "ggWRD_LEXn9V"
      },
      "source": [
        "**Saving the predictions for submission**"
      ]
    },
    {
      "cell_type": "code",
      "metadata": {
        "id": "1LPP0JksQU-p"
      },
      "source": [
        "# To create Dataframe of predicted value with particular respective index\n",
        "#res = pd.DataFrame(target) # target are nothing but the final predictions of your model on input features of your new unseen test data\n",
        "#res.columns = [\"prediction\"]\n",
        "\n",
        "# To download the csv file locally\n",
        "#from google.colab import files\n",
        "#res.to_csv('submission.csv', index = False)\n",
        "#files.download('submission.csv')"
      ],
      "execution_count": null,
      "outputs": []
    },
    {
      "cell_type": "code",
      "metadata": {
        "id": "_dIeOtk0CXw-"
      },
      "source": [
        "pip install mlxtend"
      ],
      "execution_count": null,
      "outputs": []
    },
    {
      "cell_type": "code",
      "metadata": {
        "id": "hAN3CizCCXuo"
      },
      "source": [
        "from mlxtend.classifier import  StackingClassifier"
      ],
      "execution_count": null,
      "outputs": []
    },
    {
      "cell_type": "code",
      "metadata": {
        "id": "uG3-y7CeCXrG"
      },
      "source": [
        "# Instantiate the first-layer classifiers\n",
        "clf_rf = RandomForestClassifier(n_estimators=700, criterion=\"entropy\", max_depth=38)\n",
        "clf_et = ExtraTreesClassifier(n_estimators=300, max_depth=18)\n",
        "\n",
        "# Instantiate the second-layer meta classifier\n",
        "clf_meta = DecisionTreeClassifier(random_state=500)\n",
        "\n",
        "# Build the Stacking classifier\n",
        "clf_stack = StackingClassifier(\n",
        "    classifiers=[clf_rf,clf_et],\n",
        "    meta_classifier=clf_meta,\n",
        "    use_features_in_secondary= True\n",
        "    )\n",
        "clf_stack.fit(X_train, y_train)\n",
        "\n",
        "# Evaluate the performance of the Stacking classifier\n",
        "pred_stack = clf_stack.predict(X_val)\n"
      ],
      "execution_count": null,
      "outputs": []
    },
    {
      "cell_type": "code",
      "metadata": {
        "colab": {
          "base_uri": "https://localhost:8080/"
        },
        "id": "WyPzSd1mCXoS",
        "outputId": "912d8ac0-922f-42b4-870e-95188825f79b"
      },
      "source": [
        "print(\"Accuracy: {:0.4f}\".format(accuracy_score(y_val, pred_stack)))"
      ],
      "execution_count": null,
      "outputs": [
        {
          "output_type": "stream",
          "text": [
            "Accuracy: 0.9614\n"
          ],
          "name": "stdout"
        }
      ]
    },
    {
      "cell_type": "code",
      "metadata": {
        "id": "BwI04LHhbKEO"
      },
      "source": [
        ""
      ],
      "execution_count": null,
      "outputs": []
    }
  ]
}