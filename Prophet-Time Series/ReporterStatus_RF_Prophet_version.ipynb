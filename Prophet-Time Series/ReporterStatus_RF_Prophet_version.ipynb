{
  "nbformat": 4,
  "nbformat_minor": 0,
  "metadata": {
    "colab": {
      "name": "ReporterStatus_RF_Prophet version.ipynb",
      "provenance": [],
      "collapsed_sections": []
    },
    "kernelspec": {
      "name": "python3",
      "display_name": "Python 3"
    },
    "language_info": {
      "name": "python"
    },
    "widgets": {
      "application/vnd.jupyter.widget-state+json": {
        "002f2e157c664d058f80b7b1c0d0fa36": {
          "model_module": "@jupyter-widgets/controls",
          "model_name": "HBoxModel",
          "state": {
            "_view_name": "HBoxView",
            "_dom_classes": [],
            "_model_name": "HBoxModel",
            "_view_module": "@jupyter-widgets/controls",
            "_model_module_version": "1.5.0",
            "_view_count": null,
            "_view_module_version": "1.5.0",
            "box_style": "",
            "layout": "IPY_MODEL_d5837aef961444f3838127889dabc9e8",
            "_model_module": "@jupyter-widgets/controls",
            "children": [
              "IPY_MODEL_401358e5ef5d40639509cb0247f11e4f",
              "IPY_MODEL_03b520cf17f34bfe8f3cef20cfbf9faf"
            ]
          }
        },
        "d5837aef961444f3838127889dabc9e8": {
          "model_module": "@jupyter-widgets/base",
          "model_name": "LayoutModel",
          "state": {
            "_view_name": "LayoutView",
            "grid_template_rows": null,
            "right": null,
            "justify_content": null,
            "_view_module": "@jupyter-widgets/base",
            "overflow": null,
            "_model_module_version": "1.2.0",
            "_view_count": null,
            "flex_flow": null,
            "width": null,
            "min_width": null,
            "border": null,
            "align_items": null,
            "bottom": null,
            "_model_module": "@jupyter-widgets/base",
            "top": null,
            "grid_column": null,
            "overflow_y": null,
            "overflow_x": null,
            "grid_auto_flow": null,
            "grid_area": null,
            "grid_template_columns": null,
            "flex": null,
            "_model_name": "LayoutModel",
            "justify_items": null,
            "grid_row": null,
            "max_height": null,
            "align_content": null,
            "visibility": null,
            "align_self": null,
            "height": null,
            "min_height": null,
            "padding": null,
            "grid_auto_rows": null,
            "grid_gap": null,
            "max_width": null,
            "order": null,
            "_view_module_version": "1.2.0",
            "grid_template_areas": null,
            "object_position": null,
            "object_fit": null,
            "grid_auto_columns": null,
            "margin": null,
            "display": null,
            "left": null
          }
        },
        "401358e5ef5d40639509cb0247f11e4f": {
          "model_module": "@jupyter-widgets/controls",
          "model_name": "FloatProgressModel",
          "state": {
            "_view_name": "ProgressView",
            "style": "IPY_MODEL_ba374a90eb8b4bf685a976bdfdc5bed5",
            "_dom_classes": [],
            "description": "100%",
            "_model_name": "FloatProgressModel",
            "bar_style": "success",
            "max": 1,
            "_view_module": "@jupyter-widgets/controls",
            "_model_module_version": "1.5.0",
            "value": 1,
            "_view_count": null,
            "_view_module_version": "1.5.0",
            "orientation": "horizontal",
            "min": 0,
            "description_tooltip": null,
            "_model_module": "@jupyter-widgets/controls",
            "layout": "IPY_MODEL_0a4ab7d7bf8d46888fa26bf9de8ede29"
          }
        },
        "03b520cf17f34bfe8f3cef20cfbf9faf": {
          "model_module": "@jupyter-widgets/controls",
          "model_name": "HTMLModel",
          "state": {
            "_view_name": "HTMLView",
            "style": "IPY_MODEL_65be01bb650b4c14b64875a24241ecb6",
            "_dom_classes": [],
            "description": "",
            "_model_name": "HTMLModel",
            "placeholder": "​",
            "_view_module": "@jupyter-widgets/controls",
            "_model_module_version": "1.5.0",
            "value": " 1/1 [15:42&lt;00:00, 942.21s/it]",
            "_view_count": null,
            "_view_module_version": "1.5.0",
            "description_tooltip": null,
            "_model_module": "@jupyter-widgets/controls",
            "layout": "IPY_MODEL_43082ad523684a81824caaab9410c7c6"
          }
        },
        "ba374a90eb8b4bf685a976bdfdc5bed5": {
          "model_module": "@jupyter-widgets/controls",
          "model_name": "ProgressStyleModel",
          "state": {
            "_view_name": "StyleView",
            "_model_name": "ProgressStyleModel",
            "description_width": "initial",
            "_view_module": "@jupyter-widgets/base",
            "_model_module_version": "1.5.0",
            "_view_count": null,
            "_view_module_version": "1.2.0",
            "bar_color": null,
            "_model_module": "@jupyter-widgets/controls"
          }
        },
        "0a4ab7d7bf8d46888fa26bf9de8ede29": {
          "model_module": "@jupyter-widgets/base",
          "model_name": "LayoutModel",
          "state": {
            "_view_name": "LayoutView",
            "grid_template_rows": null,
            "right": null,
            "justify_content": null,
            "_view_module": "@jupyter-widgets/base",
            "overflow": null,
            "_model_module_version": "1.2.0",
            "_view_count": null,
            "flex_flow": null,
            "width": null,
            "min_width": null,
            "border": null,
            "align_items": null,
            "bottom": null,
            "_model_module": "@jupyter-widgets/base",
            "top": null,
            "grid_column": null,
            "overflow_y": null,
            "overflow_x": null,
            "grid_auto_flow": null,
            "grid_area": null,
            "grid_template_columns": null,
            "flex": null,
            "_model_name": "LayoutModel",
            "justify_items": null,
            "grid_row": null,
            "max_height": null,
            "align_content": null,
            "visibility": null,
            "align_self": null,
            "height": null,
            "min_height": null,
            "padding": null,
            "grid_auto_rows": null,
            "grid_gap": null,
            "max_width": null,
            "order": null,
            "_view_module_version": "1.2.0",
            "grid_template_areas": null,
            "object_position": null,
            "object_fit": null,
            "grid_auto_columns": null,
            "margin": null,
            "display": null,
            "left": null
          }
        },
        "65be01bb650b4c14b64875a24241ecb6": {
          "model_module": "@jupyter-widgets/controls",
          "model_name": "DescriptionStyleModel",
          "state": {
            "_view_name": "StyleView",
            "_model_name": "DescriptionStyleModel",
            "description_width": "",
            "_view_module": "@jupyter-widgets/base",
            "_model_module_version": "1.5.0",
            "_view_count": null,
            "_view_module_version": "1.2.0",
            "_model_module": "@jupyter-widgets/controls"
          }
        },
        "43082ad523684a81824caaab9410c7c6": {
          "model_module": "@jupyter-widgets/base",
          "model_name": "LayoutModel",
          "state": {
            "_view_name": "LayoutView",
            "grid_template_rows": null,
            "right": null,
            "justify_content": null,
            "_view_module": "@jupyter-widgets/base",
            "overflow": null,
            "_model_module_version": "1.2.0",
            "_view_count": null,
            "flex_flow": null,
            "width": null,
            "min_width": null,
            "border": null,
            "align_items": null,
            "bottom": null,
            "_model_module": "@jupyter-widgets/base",
            "top": null,
            "grid_column": null,
            "overflow_y": null,
            "overflow_x": null,
            "grid_auto_flow": null,
            "grid_area": null,
            "grid_template_columns": null,
            "flex": null,
            "_model_name": "LayoutModel",
            "justify_items": null,
            "grid_row": null,
            "max_height": null,
            "align_content": null,
            "visibility": null,
            "align_self": null,
            "height": null,
            "min_height": null,
            "padding": null,
            "grid_auto_rows": null,
            "grid_gap": null,
            "max_width": null,
            "order": null,
            "_view_module_version": "1.2.0",
            "grid_template_areas": null,
            "object_position": null,
            "object_fit": null,
            "grid_auto_columns": null,
            "margin": null,
            "display": null,
            "left": null
          }
        }
      }
    }
  },
  "cells": [
    {
      "cell_type": "code",
      "metadata": {
        "id": "v4w_rgA9NkHL"
      },
      "source": [
        "import pandas as pd\n",
        "import numpy as np"
      ],
      "execution_count": null,
      "outputs": []
    },
    {
      "cell_type": "markdown",
      "metadata": {
        "id": "1WZCpk1lcHkR"
      },
      "source": [
        "##Importing libraries and data\n",
        "\n",
        "I read the data in chunks and here I combined all 17 chunks."
      ]
    },
    {
      "cell_type": "code",
      "metadata": {
        "id": "B8uO6ROaa-VQ"
      },
      "source": [
        "df1=pd.read_csv(\"sevenchunks1.csv\")\n",
        "df2=pd.read_csv(\"tenchunks.csv\")"
      ],
      "execution_count": null,
      "outputs": []
    },
    {
      "cell_type": "markdown",
      "metadata": {
        "id": "5GtkYwSyzALV"
      },
      "source": [
        "Only these 2 columns are necessary for our model"
      ]
    },
    {
      "cell_type": "code",
      "metadata": {
        "colab": {
          "base_uri": "https://localhost:8080/",
          "height": 204
        },
        "id": "Nv1Dv00xUkWL",
        "outputId": "1924349a-ed4f-40a3-dee1-f004cadfb779"
      },
      "source": [
        "df2.head()"
      ],
      "execution_count": null,
      "outputs": [
        {
          "output_type": "execute_result",
          "data": {
            "text/html": [
              "<div>\n",
              "<style scoped>\n",
              "    .dataframe tbody tr th:only-of-type {\n",
              "        vertical-align: middle;\n",
              "    }\n",
              "\n",
              "    .dataframe tbody tr th {\n",
              "        vertical-align: top;\n",
              "    }\n",
              "\n",
              "    .dataframe thead th {\n",
              "        text-align: right;\n",
              "    }\n",
              "</style>\n",
              "<table border=\"1\" class=\"dataframe\">\n",
              "  <thead>\n",
              "    <tr style=\"text-align: right;\">\n",
              "      <th></th>\n",
              "      <th>FIRSTOCCURRENCE</th>\n",
              "      <th>SUMMARY</th>\n",
              "    </tr>\n",
              "  </thead>\n",
              "  <tbody>\n",
              "    <tr>\n",
              "      <th>0</th>\n",
              "      <td>2020-04-23 09:40:11</td>\n",
              "      <td>VPLS VC Down</td>\n",
              "    </tr>\n",
              "    <tr>\n",
              "      <th>1</th>\n",
              "      <td>2020-04-23 09:40:11</td>\n",
              "      <td>VPLS VC Down</td>\n",
              "    </tr>\n",
              "    <tr>\n",
              "      <th>2</th>\n",
              "      <td>2020-04-21 10:30:31</td>\n",
              "      <td>Physical Port Down</td>\n",
              "    </tr>\n",
              "    <tr>\n",
              "      <th>3</th>\n",
              "      <td>2020-04-21 10:30:36</td>\n",
              "      <td>Link Down</td>\n",
              "    </tr>\n",
              "    <tr>\n",
              "      <th>4</th>\n",
              "      <td>2020-04-21 10:53:17</td>\n",
              "      <td>The optical module is removed</td>\n",
              "    </tr>\n",
              "  </tbody>\n",
              "</table>\n",
              "</div>"
            ],
            "text/plain": [
              "       FIRSTOCCURRENCE                        SUMMARY\n",
              "0  2020-04-23 09:40:11                   VPLS VC Down\n",
              "1  2020-04-23 09:40:11                   VPLS VC Down\n",
              "2  2020-04-21 10:30:31             Physical Port Down\n",
              "3  2020-04-21 10:30:36                      Link Down\n",
              "4  2020-04-21 10:53:17  The optical module is removed"
            ]
          },
          "metadata": {
            "tags": []
          },
          "execution_count": 92
        }
      ]
    },
    {
      "cell_type": "code",
      "metadata": {
        "colab": {
          "base_uri": "https://localhost:8080/",
          "height": 204
        },
        "id": "UxsA-DG7UgSQ",
        "outputId": "85a54a46-f8f3-487a-c2d8-7c25d85bf893"
      },
      "source": [
        "df1.head()"
      ],
      "execution_count": null,
      "outputs": [
        {
          "output_type": "execute_result",
          "data": {
            "text/html": [
              "<div>\n",
              "<style scoped>\n",
              "    .dataframe tbody tr th:only-of-type {\n",
              "        vertical-align: middle;\n",
              "    }\n",
              "\n",
              "    .dataframe tbody tr th {\n",
              "        vertical-align: top;\n",
              "    }\n",
              "\n",
              "    .dataframe thead th {\n",
              "        text-align: right;\n",
              "    }\n",
              "</style>\n",
              "<table border=\"1\" class=\"dataframe\">\n",
              "  <thead>\n",
              "    <tr style=\"text-align: right;\">\n",
              "      <th></th>\n",
              "      <th>FIRSTOCCURRENCE</th>\n",
              "      <th>SUMMARY</th>\n",
              "    </tr>\n",
              "  </thead>\n",
              "  <tbody>\n",
              "    <tr>\n",
              "      <th>0</th>\n",
              "      <td>2020-12-02 04:55:50</td>\n",
              "      <td>VPLS VC Down</td>\n",
              "    </tr>\n",
              "    <tr>\n",
              "      <th>1</th>\n",
              "      <td>2020-12-02 04:55:55</td>\n",
              "      <td>VPLS VC Down</td>\n",
              "    </tr>\n",
              "    <tr>\n",
              "      <th>2</th>\n",
              "      <td>2020-12-02 04:55:49</td>\n",
              "      <td>VPLS VC Down</td>\n",
              "    </tr>\n",
              "    <tr>\n",
              "      <th>3</th>\n",
              "      <td>2020-12-02 04:55:50</td>\n",
              "      <td>VPLS VC Down</td>\n",
              "    </tr>\n",
              "    <tr>\n",
              "      <th>4</th>\n",
              "      <td>2020-12-02 04:55:49</td>\n",
              "      <td>VPLS VC Down</td>\n",
              "    </tr>\n",
              "  </tbody>\n",
              "</table>\n",
              "</div>"
            ],
            "text/plain": [
              "       FIRSTOCCURRENCE       SUMMARY\n",
              "0  2020-12-02 04:55:50  VPLS VC Down\n",
              "1  2020-12-02 04:55:55  VPLS VC Down\n",
              "2  2020-12-02 04:55:49  VPLS VC Down\n",
              "3  2020-12-02 04:55:50  VPLS VC Down\n",
              "4  2020-12-02 04:55:49  VPLS VC Down"
            ]
          },
          "metadata": {
            "tags": []
          },
          "execution_count": 93
        }
      ]
    },
    {
      "cell_type": "code",
      "metadata": {
        "id": "GF_7eBnAa-Yw"
      },
      "source": [
        "df2=df2[[\"FIRSTOCCURRENCE\", \"SUMMARY\"]]\n",
        "df2[\"FIRSTOCCURRENCE\"]=pd.to_datetime(df2.FIRSTOCCURRENCE)"
      ],
      "execution_count": null,
      "outputs": []
    },
    {
      "cell_type": "code",
      "metadata": {
        "id": "5ogiw87zRP6N"
      },
      "source": [
        "df_final=pd.concat([df2, df1])"
      ],
      "execution_count": null,
      "outputs": []
    },
    {
      "cell_type": "code",
      "metadata": {
        "id": "jRJ1ndPlUyYZ"
      },
      "source": [
        "df_final[\"FIRSTOCCURRENCE\"]=pd.to_datetime(df_final.FIRSTOCCURRENCE)"
      ],
      "execution_count": null,
      "outputs": []
    },
    {
      "cell_type": "code",
      "metadata": {
        "colab": {
          "base_uri": "https://localhost:8080/"
        },
        "id": "Kl8CNuWyU40s",
        "outputId": "b9a7b565-e1c3-4983-cd05-863ff7e8486b"
      },
      "source": [
        "df_final.info()"
      ],
      "execution_count": null,
      "outputs": [
        {
          "output_type": "stream",
          "text": [
            "<class 'pandas.core.frame.DataFrame'>\n",
            "Int64Index: 8037683 entries, 0 to 3037682\n",
            "Data columns (total 2 columns):\n",
            " #   Column           Dtype         \n",
            "---  ------           -----         \n",
            " 0   FIRSTOCCURRENCE  datetime64[ns]\n",
            " 1   SUMMARY          object        \n",
            "dtypes: datetime64[ns](1), object(1)\n",
            "memory usage: 184.0+ MB\n"
          ],
          "name": "stdout"
        }
      ]
    },
    {
      "cell_type": "code",
      "metadata": {
        "id": "GiFEcBcjUZ8C"
      },
      "source": [
        "df_final[\"hour\"]=df_final.FIRSTOCCURRENCE.dt.hour"
      ],
      "execution_count": null,
      "outputs": []
    },
    {
      "cell_type": "code",
      "metadata": {
        "id": "BjfYTWU7YErc"
      },
      "source": [
        "df_final[\"seconds\"]=df_final.FIRSTOCCURRENCE.dt.second"
      ],
      "execution_count": null,
      "outputs": []
    },
    {
      "cell_type": "code",
      "metadata": {
        "id": "mIk8-GQ6O-aX"
      },
      "source": [
        "df_final[\"firstoccurence\"]=df_final[\"FIRSTOCCURRENCE\"].dt.date"
      ],
      "execution_count": null,
      "outputs": []
    },
    {
      "cell_type": "markdown",
      "metadata": {
        "id": "zN7EyhnnzUvp"
      },
      "source": [
        "Here I created a database on a weekly basis. I used summary columns and counted the weekly events and rename the columns as Num_Failures (number of weekly failures)"
      ]
    },
    {
      "cell_type": "code",
      "metadata": {
        "id": "8TWPpnGMCtlx"
      },
      "source": [
        "newdf2= df_final.set_index(\"FIRSTOCCURRENCE\", drop=True).resample('W').agg({\"SUMMARY\":\"count\"}).rename(columns=({\"SUMMARY\":\"Num_Failures\"}))"
      ],
      "execution_count": null,
      "outputs": []
    },
    {
      "cell_type": "code",
      "metadata": {
        "colab": {
          "base_uri": "https://localhost:8080/",
          "height": 235
        },
        "id": "MhrMA1OPbHQU",
        "outputId": "3ac9ba5f-fbbc-4083-f329-9d08d921e6d6"
      },
      "source": [
        "newdf2.head()"
      ],
      "execution_count": null,
      "outputs": [
        {
          "output_type": "execute_result",
          "data": {
            "text/html": [
              "<div>\n",
              "<style scoped>\n",
              "    .dataframe tbody tr th:only-of-type {\n",
              "        vertical-align: middle;\n",
              "    }\n",
              "\n",
              "    .dataframe tbody tr th {\n",
              "        vertical-align: top;\n",
              "    }\n",
              "\n",
              "    .dataframe thead th {\n",
              "        text-align: right;\n",
              "    }\n",
              "</style>\n",
              "<table border=\"1\" class=\"dataframe\">\n",
              "  <thead>\n",
              "    <tr style=\"text-align: right;\">\n",
              "      <th></th>\n",
              "      <th>Num_Failures</th>\n",
              "    </tr>\n",
              "    <tr>\n",
              "      <th>FIRSTOCCURRENCE</th>\n",
              "      <th></th>\n",
              "    </tr>\n",
              "  </thead>\n",
              "  <tbody>\n",
              "    <tr>\n",
              "      <th>2016-11-27</th>\n",
              "      <td>831</td>\n",
              "    </tr>\n",
              "    <tr>\n",
              "      <th>2016-12-04</th>\n",
              "      <td>8290</td>\n",
              "    </tr>\n",
              "    <tr>\n",
              "      <th>2016-12-11</th>\n",
              "      <td>0</td>\n",
              "    </tr>\n",
              "    <tr>\n",
              "      <th>2016-12-18</th>\n",
              "      <td>0</td>\n",
              "    </tr>\n",
              "    <tr>\n",
              "      <th>2016-12-25</th>\n",
              "      <td>0</td>\n",
              "    </tr>\n",
              "  </tbody>\n",
              "</table>\n",
              "</div>"
            ],
            "text/plain": [
              "                 Num_Failures\n",
              "FIRSTOCCURRENCE              \n",
              "2016-11-27                831\n",
              "2016-12-04               8290\n",
              "2016-12-11                  0\n",
              "2016-12-18                  0\n",
              "2016-12-25                  0"
            ]
          },
          "metadata": {
            "tags": []
          },
          "execution_count": 105
        }
      ]
    },
    {
      "cell_type": "code",
      "metadata": {
        "id": "O3omZ1YGdsGN"
      },
      "source": [
        "pd.set_option('display.float_format', lambda x: '%.3f' % x)"
      ],
      "execution_count": null,
      "outputs": []
    },
    {
      "cell_type": "code",
      "metadata": {
        "colab": {
          "base_uri": "https://localhost:8080/",
          "height": 297
        },
        "id": "NM7LVb6GAE8f",
        "outputId": "aa7f7db4-b11e-42d2-aa6f-2ae9556798fd"
      },
      "source": [
        "newdf2.describe()"
      ],
      "execution_count": null,
      "outputs": [
        {
          "output_type": "execute_result",
          "data": {
            "text/html": [
              "<div>\n",
              "<style scoped>\n",
              "    .dataframe tbody tr th:only-of-type {\n",
              "        vertical-align: middle;\n",
              "    }\n",
              "\n",
              "    .dataframe tbody tr th {\n",
              "        vertical-align: top;\n",
              "    }\n",
              "\n",
              "    .dataframe thead th {\n",
              "        text-align: right;\n",
              "    }\n",
              "</style>\n",
              "<table border=\"1\" class=\"dataframe\">\n",
              "  <thead>\n",
              "    <tr style=\"text-align: right;\">\n",
              "      <th></th>\n",
              "      <th>Num_Failures</th>\n",
              "    </tr>\n",
              "  </thead>\n",
              "  <tbody>\n",
              "    <tr>\n",
              "      <th>count</th>\n",
              "      <td>225.000</td>\n",
              "    </tr>\n",
              "    <tr>\n",
              "      <th>mean</th>\n",
              "      <td>35717.542</td>\n",
              "    </tr>\n",
              "    <tr>\n",
              "      <th>std</th>\n",
              "      <td>279955.737</td>\n",
              "    </tr>\n",
              "    <tr>\n",
              "      <th>min</th>\n",
              "      <td>0.000</td>\n",
              "    </tr>\n",
              "    <tr>\n",
              "      <th>25%</th>\n",
              "      <td>0.000</td>\n",
              "    </tr>\n",
              "    <tr>\n",
              "      <th>50%</th>\n",
              "      <td>834.000</td>\n",
              "    </tr>\n",
              "    <tr>\n",
              "      <th>75%</th>\n",
              "      <td>8380.000</td>\n",
              "    </tr>\n",
              "    <tr>\n",
              "      <th>max</th>\n",
              "      <td>4108073.000</td>\n",
              "    </tr>\n",
              "  </tbody>\n",
              "</table>\n",
              "</div>"
            ],
            "text/plain": [
              "       Num_Failures\n",
              "count       225.000\n",
              "mean      35717.542\n",
              "std      279955.737\n",
              "min           0.000\n",
              "25%           0.000\n",
              "50%         834.000\n",
              "75%        8380.000\n",
              "max     4108073.000"
            ]
          },
          "metadata": {
            "tags": []
          },
          "execution_count": 144
        }
      ]
    },
    {
      "cell_type": "markdown",
      "metadata": {
        "id": "91TID0KMz0R7"
      },
      "source": [
        "As seen from the data almost half of the weeks, there is no failures. However for some week the number is very high. (as high as 410873). It shows that the data is inconsistent. Fluctuation is huge. Since there is no occurence of failures for some weeks, these weeks have a value of 0."
      ]
    },
    {
      "cell_type": "code",
      "metadata": {
        "id": "jhI7FcT9HbYe"
      },
      "source": [
        "import numpy as np\n",
        "from fbprophet import Prophet\n",
        "import matplotlib.pyplot as plt\n",
        " \n",
        "plt.rcParams['figure.figsize']=(20,10)\n",
        "plt.style.use('ggplot')"
      ],
      "execution_count": null,
      "outputs": []
    },
    {
      "cell_type": "code",
      "metadata": {
        "id": "LLZaP_9rHbbs"
      },
      "source": [
        "pd.plotting.register_matplotlib_converters()"
      ],
      "execution_count": null,
      "outputs": []
    },
    {
      "cell_type": "code",
      "metadata": {
        "id": "YzrbC0JDHbec"
      },
      "source": [
        "df = newdf2.reset_index()"
      ],
      "execution_count": null,
      "outputs": []
    },
    {
      "cell_type": "code",
      "metadata": {
        "colab": {
          "base_uri": "https://localhost:8080/",
          "height": 204
        },
        "id": "tGSr24-9Hbic",
        "outputId": "94a699b0-4b47-4354-ce00-ef134f8b7cf9"
      },
      "source": [
        "df=df.rename(columns={'FIRSTOCCURRENCE':'ds', 'Num_Failures':'y'})\n",
        "df.head()"
      ],
      "execution_count": null,
      "outputs": [
        {
          "output_type": "execute_result",
          "data": {
            "text/html": [
              "<div>\n",
              "<style scoped>\n",
              "    .dataframe tbody tr th:only-of-type {\n",
              "        vertical-align: middle;\n",
              "    }\n",
              "\n",
              "    .dataframe tbody tr th {\n",
              "        vertical-align: top;\n",
              "    }\n",
              "\n",
              "    .dataframe thead th {\n",
              "        text-align: right;\n",
              "    }\n",
              "</style>\n",
              "<table border=\"1\" class=\"dataframe\">\n",
              "  <thead>\n",
              "    <tr style=\"text-align: right;\">\n",
              "      <th></th>\n",
              "      <th>ds</th>\n",
              "      <th>y</th>\n",
              "    </tr>\n",
              "  </thead>\n",
              "  <tbody>\n",
              "    <tr>\n",
              "      <th>0</th>\n",
              "      <td>2016-11-27</td>\n",
              "      <td>831</td>\n",
              "    </tr>\n",
              "    <tr>\n",
              "      <th>1</th>\n",
              "      <td>2016-12-04</td>\n",
              "      <td>8290</td>\n",
              "    </tr>\n",
              "    <tr>\n",
              "      <th>2</th>\n",
              "      <td>2016-12-11</td>\n",
              "      <td>0</td>\n",
              "    </tr>\n",
              "    <tr>\n",
              "      <th>3</th>\n",
              "      <td>2016-12-18</td>\n",
              "      <td>0</td>\n",
              "    </tr>\n",
              "    <tr>\n",
              "      <th>4</th>\n",
              "      <td>2016-12-25</td>\n",
              "      <td>0</td>\n",
              "    </tr>\n",
              "  </tbody>\n",
              "</table>\n",
              "</div>"
            ],
            "text/plain": [
              "          ds     y\n",
              "0 2016-11-27   831\n",
              "1 2016-12-04  8290\n",
              "2 2016-12-11     0\n",
              "3 2016-12-18     0\n",
              "4 2016-12-25     0"
            ]
          },
          "metadata": {
            "tags": []
          },
          "execution_count": 112
        }
      ]
    },
    {
      "cell_type": "code",
      "metadata": {
        "colab": {
          "base_uri": "https://localhost:8080/"
        },
        "id": "_19ptIcDW00B",
        "outputId": "4b935e7b-46b4-4b2e-cd31-71c4a5a4b930"
      },
      "source": [
        "df[df.y==0].count()"
      ],
      "execution_count": null,
      "outputs": [
        {
          "output_type": "execute_result",
          "data": {
            "text/plain": [
              "ds    100\n",
              "y     100\n",
              "dtype: int64"
            ]
          },
          "metadata": {
            "tags": []
          },
          "execution_count": 113
        }
      ]
    },
    {
      "cell_type": "code",
      "metadata": {
        "colab": {
          "base_uri": "https://localhost:8080/"
        },
        "id": "bsOXHzGSXZ4l",
        "outputId": "1305768f-0ddc-4970-dc54-09e8383187e5"
      },
      "source": [
        "df.shape"
      ],
      "execution_count": null,
      "outputs": [
        {
          "output_type": "execute_result",
          "data": {
            "text/plain": [
              "(225, 2)"
            ]
          },
          "metadata": {
            "tags": []
          },
          "execution_count": 114
        }
      ]
    },
    {
      "cell_type": "markdown",
      "metadata": {
        "id": "dPxaTzmS1bFr"
      },
      "source": [
        "As seen from above, we have 225 weeks and almost half of them (100) are with a value of 0. This reduces the accuracy of the prediction."
      ]
    },
    {
      "cell_type": "code",
      "metadata": {
        "colab": {
          "base_uri": "https://localhost:8080/",
          "height": 1000
        },
        "id": "FTd3iEXQHblX",
        "outputId": "0486890a-55f8-4f9c-d9f0-0d488e511bbb"
      },
      "source": [
        "df.set_index('ds').y.plot().figure"
      ],
      "execution_count": null,
      "outputs": [
        {
          "output_type": "execute_result",
          "data": {
            "image/png": "[encoded data removed]",
            "text/plain": [
              "<Figure size 1440x720 with 1 Axes>"
            ]
          },
          "metadata": {
            "tags": []
          },
          "execution_count": 115
        },
        {
          "output_type": "display_data",
          "data": {
            "image/png": "[encoded data removed]",
            "text/plain": [
              "<Figure size 1440x720 with 1 Axes>"
            ]
          },
          "metadata": {
            "tags": []
          }
        }
      ]
    },
    {
      "cell_type": "markdown",
      "metadata": {
        "id": "zMtUsvh11wEy"
      },
      "source": [
        "Fluctuation can be seen here. After 2020, the number of failures increases enormously."
      ]
    },
    {
      "cell_type": "code",
      "metadata": {
        "id": "VZNnuEPIHboJ"
      },
      "source": [
        "model = Prophet()"
      ],
      "execution_count": null,
      "outputs": []
    },
    {
      "cell_type": "code",
      "metadata": {
        "colab": {
          "base_uri": "https://localhost:8080/"
        },
        "id": "EzkNrHLUHbr8",
        "outputId": "7d8947b8-8a51-4dc7-e09e-24bd0a4ecbe3"
      },
      "source": [
        "model.fit(df)"
      ],
      "execution_count": null,
      "outputs": [
        {
          "output_type": "stream",
          "text": [
            "INFO:fbprophet:Disabling weekly seasonality. Run prophet with weekly_seasonality=True to override this.\n",
            "INFO:fbprophet:Disabling daily seasonality. Run prophet with daily_seasonality=True to override this.\n"
          ],
          "name": "stderr"
        },
        {
          "output_type": "execute_result",
          "data": {
            "text/plain": [
              "<fbprophet.forecaster.Prophet at 0x7fd7377e9110>"
            ]
          },
          "metadata": {
            "tags": []
          },
          "execution_count": 137
        }
      ]
    },
    {
      "cell_type": "code",
      "metadata": {
        "colab": {
          "base_uri": "https://localhost:8080/",
          "height": 204
        },
        "id": "23SN1FFlHbuZ",
        "outputId": "4bd60b6d-f5de-42e0-bc05-80a13be33e4c"
      },
      "source": [
        "#future = list()\n",
        "#for i in range(1, 13):\n",
        "\t#date = '2020-%02d' % i\n",
        "\t#future.append([date])\n",
        "#future = pd.DataFrame(future)\n",
        "#future.columns = ['ds']\n",
        "future = model.make_future_dataframe(periods=52, freq = 'w')\n",
        "future.tail()"
      ],
      "execution_count": null,
      "outputs": [
        {
          "output_type": "execute_result",
          "data": {
            "text/html": [
              "<div>\n",
              "<style scoped>\n",
              "    .dataframe tbody tr th:only-of-type {\n",
              "        vertical-align: middle;\n",
              "    }\n",
              "\n",
              "    .dataframe tbody tr th {\n",
              "        vertical-align: top;\n",
              "    }\n",
              "\n",
              "    .dataframe thead th {\n",
              "        text-align: right;\n",
              "    }\n",
              "</style>\n",
              "<table border=\"1\" class=\"dataframe\">\n",
              "  <thead>\n",
              "    <tr style=\"text-align: right;\">\n",
              "      <th></th>\n",
              "      <th>ds</th>\n",
              "    </tr>\n",
              "  </thead>\n",
              "  <tbody>\n",
              "    <tr>\n",
              "      <th>272</th>\n",
              "      <td>2022-02-13</td>\n",
              "    </tr>\n",
              "    <tr>\n",
              "      <th>273</th>\n",
              "      <td>2022-02-20</td>\n",
              "    </tr>\n",
              "    <tr>\n",
              "      <th>274</th>\n",
              "      <td>2022-02-27</td>\n",
              "    </tr>\n",
              "    <tr>\n",
              "      <th>275</th>\n",
              "      <td>2022-03-06</td>\n",
              "    </tr>\n",
              "    <tr>\n",
              "      <th>276</th>\n",
              "      <td>2022-03-13</td>\n",
              "    </tr>\n",
              "  </tbody>\n",
              "</table>\n",
              "</div>"
            ],
            "text/plain": [
              "            ds\n",
              "272 2022-02-13\n",
              "273 2022-02-20\n",
              "274 2022-02-27\n",
              "275 2022-03-06\n",
              "276 2022-03-13"
            ]
          },
          "metadata": {
            "tags": []
          },
          "execution_count": 138
        }
      ]
    },
    {
      "cell_type": "code",
      "metadata": {
        "id": "fVpfgF6yHbxu"
      },
      "source": [
        "forecast = model.predict(future)"
      ],
      "execution_count": null,
      "outputs": []
    },
    {
      "cell_type": "code",
      "metadata": {
        "colab": {
          "base_uri": "https://localhost:8080/"
        },
        "id": "5FH9bRnqHb0I",
        "outputId": "b91c7324-6157-4e29-9168-0554a6b292f5"
      },
      "source": [
        "print(forecast[['ds', 'yhat', 'yhat_lower', 'yhat_upper']].tail())"
      ],
      "execution_count": null,
      "outputs": [
        {
          "output_type": "stream",
          "text": [
            "            ds           yhat     yhat_lower     yhat_upper\n",
            "272 2022-02-13  211005.441692 -103070.290564  578042.086778\n",
            "273 2022-02-20  230525.447012 -111367.568991  557184.348317\n",
            "274 2022-02-27  238030.158779  -74094.155277  581821.831854\n",
            "275 2022-03-06  249548.238444  -87584.115227  595225.144765\n",
            "276 2022-03-13  279532.789488  -48049.788755  624273.846655\n"
          ],
          "name": "stdout"
        }
      ]
    },
    {
      "cell_type": "markdown",
      "metadata": {
        "id": "iA12btH12MfF"
      },
      "source": [
        "Predictions for the year 2020 can be seen above. yhat show the predicted amount of failure in that spesific week, yhatlower and yhatupper are the lower and upper limits."
      ]
    },
    {
      "cell_type": "code",
      "metadata": {
        "colab": {
          "base_uri": "https://localhost:8080/",
          "height": 441
        },
        "id": "PdDhlRAkHb2m",
        "outputId": "0f41cfc9-a30d-45be-864e-5e7b0c6b10ef"
      },
      "source": [
        "# plot forecast\n",
        "model.plot(forecast)\n",
        "plt.show()"
      ],
      "execution_count": null,
      "outputs": [
        {
          "output_type": "display_data",
          "data": {
            "image/png": "[encoded data removed]",
            "text/plain": [
              "<Figure size 720x432 with 1 Axes>"
            ]
          },
          "metadata": {
            "tags": []
          }
        }
      ]
    },
    {
      "cell_type": "markdown",
      "metadata": {
        "id": "6hghekBP2lji"
      },
      "source": [
        "As seen above trend is increasing and 2021 data kind of ruins the predictions due to huge number of failures."
      ]
    },
    {
      "cell_type": "markdown",
      "metadata": {
        "id": "XhKGexvs23AB"
      },
      "source": [
        "**Below is the monthly prediction.**"
      ]
    },
    {
      "cell_type": "code",
      "metadata": {
        "id": "H7SxtE39HcIE"
      },
      "source": [
        "monthdf= df_final.set_index(\"FIRSTOCCURRENCE\", drop=True).resample('M').agg({\"SUMMARY\":\"count\"}).rename(columns=({\"SUMMARY\":\"Num_Failures\"}))"
      ],
      "execution_count": null,
      "outputs": []
    },
    {
      "cell_type": "code",
      "metadata": {
        "id": "L9sSjgkWHcKv"
      },
      "source": [
        "#monthdf.loc[monthdf.Num_Failures >= monthdf.Num_Failures.mean(), \"Num_Failures\"]=monthdf.Num_Failures.mean()"
      ],
      "execution_count": null,
      "outputs": []
    },
    {
      "cell_type": "code",
      "metadata": {
        "id": "6KzUIHqnV5VR"
      },
      "source": [
        "df21 = monthdf.reset_index()"
      ],
      "execution_count": null,
      "outputs": []
    },
    {
      "cell_type": "code",
      "metadata": {
        "colab": {
          "base_uri": "https://localhost:8080/",
          "height": 204
        },
        "id": "Pac7xAffejC0",
        "outputId": "05f8214d-3d37-462b-8a00-42d9f0b35489"
      },
      "source": [
        "df21=df21.rename(columns={'FIRSTOCCURRENCE':'ds', 'Num_Failures':'y'})\n",
        "df21.head()"
      ],
      "execution_count": null,
      "outputs": [
        {
          "output_type": "execute_result",
          "data": {
            "text/html": [
              "<div>\n",
              "<style scoped>\n",
              "    .dataframe tbody tr th:only-of-type {\n",
              "        vertical-align: middle;\n",
              "    }\n",
              "\n",
              "    .dataframe tbody tr th {\n",
              "        vertical-align: top;\n",
              "    }\n",
              "\n",
              "    .dataframe thead th {\n",
              "        text-align: right;\n",
              "    }\n",
              "</style>\n",
              "<table border=\"1\" class=\"dataframe\">\n",
              "  <thead>\n",
              "    <tr style=\"text-align: right;\">\n",
              "      <th></th>\n",
              "      <th>ds</th>\n",
              "      <th>y</th>\n",
              "    </tr>\n",
              "  </thead>\n",
              "  <tbody>\n",
              "    <tr>\n",
              "      <th>0</th>\n",
              "      <td>2016-11-30</td>\n",
              "      <td>9121</td>\n",
              "    </tr>\n",
              "    <tr>\n",
              "      <th>1</th>\n",
              "      <td>2016-12-31</td>\n",
              "      <td>0</td>\n",
              "    </tr>\n",
              "    <tr>\n",
              "      <th>2</th>\n",
              "      <td>2017-01-31</td>\n",
              "      <td>0</td>\n",
              "    </tr>\n",
              "    <tr>\n",
              "      <th>3</th>\n",
              "      <td>2017-02-28</td>\n",
              "      <td>0</td>\n",
              "    </tr>\n",
              "    <tr>\n",
              "      <th>4</th>\n",
              "      <td>2017-03-31</td>\n",
              "      <td>7528</td>\n",
              "    </tr>\n",
              "  </tbody>\n",
              "</table>\n",
              "</div>"
            ],
            "text/plain": [
              "          ds     y\n",
              "0 2016-11-30  9121\n",
              "1 2016-12-31     0\n",
              "2 2017-01-31     0\n",
              "3 2017-02-28     0\n",
              "4 2017-03-31  7528"
            ]
          },
          "metadata": {
            "tags": []
          },
          "execution_count": 39
        }
      ]
    },
    {
      "cell_type": "code",
      "metadata": {
        "colab": {
          "base_uri": "https://localhost:8080/"
        },
        "id": "4K_KeeAmXzP7",
        "outputId": "d5f28ef2-849b-4021-d4ce-7fa091b1bcc5"
      },
      "source": [
        "df21[df21.y==0].count()"
      ],
      "execution_count": null,
      "outputs": [
        {
          "output_type": "execute_result",
          "data": {
            "text/plain": [
              "ds    10\n",
              "y     10\n",
              "dtype: int64"
            ]
          },
          "metadata": {
            "tags": []
          },
          "execution_count": 65
        }
      ]
    },
    {
      "cell_type": "code",
      "metadata": {
        "colab": {
          "base_uri": "https://localhost:8080/"
        },
        "id": "SYPGn3SUX_TW",
        "outputId": "b8ad170f-bec9-4f9e-e4b1-0c87b56e1258"
      },
      "source": [
        "df21.shape"
      ],
      "execution_count": null,
      "outputs": [
        {
          "output_type": "execute_result",
          "data": {
            "text/plain": [
              "(53, 2)"
            ]
          },
          "metadata": {
            "tags": []
          },
          "execution_count": 67
        }
      ]
    },
    {
      "cell_type": "markdown",
      "metadata": {
        "id": "4kFf3l4A3Cdf"
      },
      "source": [
        "Here we have 53 months and 10 of them do not have values."
      ]
    },
    {
      "cell_type": "code",
      "metadata": {
        "colab": {
          "base_uri": "https://localhost:8080/",
          "height": 1000
        },
        "id": "Ymx3zUQDerw0",
        "outputId": "2293c56f-7d3b-4242-b025-f633d70f1551"
      },
      "source": [
        "df21.set_index('ds').y.plot().figure"
      ],
      "execution_count": null,
      "outputs": [
        {
          "output_type": "execute_result",
          "data": {
            "image/png": "[encoded data removed]",
            "text/plain": [
              "<Figure size 1440x720 with 1 Axes>"
            ]
          },
          "metadata": {
            "tags": []
          },
          "execution_count": 40
        },
        {
          "output_type": "display_data",
          "data": {
            "image/png": "[encoded data removed]",
            "text/plain": [
              "<Figure size 1440x720 with 1 Axes>"
            ]
          },
          "metadata": {
            "tags": []
          }
        }
      ]
    },
    {
      "cell_type": "code",
      "metadata": {
        "colab": {
          "base_uri": "https://localhost:8080/"
        },
        "id": "JxQsE0Tee1Vb",
        "outputId": "0f7794b0-a397-4a40-ba47-5bf6633066a2"
      },
      "source": [
        "model = Prophet()\n",
        "model.fit(df21)"
      ],
      "execution_count": null,
      "outputs": [
        {
          "output_type": "stream",
          "text": [
            "INFO:fbprophet:Disabling weekly seasonality. Run prophet with weekly_seasonality=True to override this.\n",
            "INFO:fbprophet:Disabling daily seasonality. Run prophet with daily_seasonality=True to override this.\n"
          ],
          "name": "stderr"
        },
        {
          "output_type": "execute_result",
          "data": {
            "text/plain": [
              "<fbprophet.forecaster.Prophet at 0x7fd73f7da410>"
            ]
          },
          "metadata": {
            "tags": []
          },
          "execution_count": 41
        }
      ]
    },
    {
      "cell_type": "code",
      "metadata": {
        "colab": {
          "base_uri": "https://localhost:8080/",
          "height": 204
        },
        "id": "lpXJ3TKIe_rp",
        "outputId": "af6ad898-1ce9-4e38-9e61-6403a6baf189"
      },
      "source": [
        "future = model.make_future_dataframe(periods=12, freq = 'M')\n",
        "future.tail()"
      ],
      "execution_count": null,
      "outputs": [
        {
          "output_type": "execute_result",
          "data": {
            "text/html": [
              "<div>\n",
              "<style scoped>\n",
              "    .dataframe tbody tr th:only-of-type {\n",
              "        vertical-align: middle;\n",
              "    }\n",
              "\n",
              "    .dataframe tbody tr th {\n",
              "        vertical-align: top;\n",
              "    }\n",
              "\n",
              "    .dataframe thead th {\n",
              "        text-align: right;\n",
              "    }\n",
              "</style>\n",
              "<table border=\"1\" class=\"dataframe\">\n",
              "  <thead>\n",
              "    <tr style=\"text-align: right;\">\n",
              "      <th></th>\n",
              "      <th>ds</th>\n",
              "    </tr>\n",
              "  </thead>\n",
              "  <tbody>\n",
              "    <tr>\n",
              "      <th>60</th>\n",
              "      <td>2021-11-30</td>\n",
              "    </tr>\n",
              "    <tr>\n",
              "      <th>61</th>\n",
              "      <td>2021-12-31</td>\n",
              "    </tr>\n",
              "    <tr>\n",
              "      <th>62</th>\n",
              "      <td>2022-01-31</td>\n",
              "    </tr>\n",
              "    <tr>\n",
              "      <th>63</th>\n",
              "      <td>2022-02-28</td>\n",
              "    </tr>\n",
              "    <tr>\n",
              "      <th>64</th>\n",
              "      <td>2022-03-31</td>\n",
              "    </tr>\n",
              "  </tbody>\n",
              "</table>\n",
              "</div>"
            ],
            "text/plain": [
              "           ds\n",
              "60 2021-11-30\n",
              "61 2021-12-31\n",
              "62 2022-01-31\n",
              "63 2022-02-28\n",
              "64 2022-03-31"
            ]
          },
          "metadata": {
            "tags": []
          },
          "execution_count": 42
        }
      ]
    },
    {
      "cell_type": "code",
      "metadata": {
        "id": "eOaMUSzpfJEo"
      },
      "source": [
        "forecast = model.predict(future)"
      ],
      "execution_count": null,
      "outputs": []
    },
    {
      "cell_type": "code",
      "metadata": {
        "colab": {
          "base_uri": "https://localhost:8080/"
        },
        "id": "8XAdL9nPfPRp",
        "outputId": "80e2eb29-8f2a-4220-b691-0b9d149a81dd"
      },
      "source": [
        "print(forecast[['ds', 'yhat', 'yhat_lower', 'yhat_upper']].tail())"
      ],
      "execution_count": null,
      "outputs": [
        {
          "output_type": "stream",
          "text": [
            "           ds          yhat     yhat_lower    yhat_upper\n",
            "60 2021-11-30  5.884053e+05   35180.908437  1.158738e+06\n",
            "61 2021-12-31  1.537598e+06  987496.213572  2.088717e+06\n",
            "62 2022-01-31  5.590917e+05   17286.481362  1.123723e+06\n",
            "63 2022-02-28  7.262849e+05  195952.912955  1.243439e+06\n",
            "64 2022-03-31  7.755756e+05  241034.337164  1.325484e+06\n"
          ],
          "name": "stdout"
        }
      ]
    },
    {
      "cell_type": "markdown",
      "metadata": {
        "id": "yOWSERc13cK_"
      },
      "source": [
        "Monthly predictions can be seen above."
      ]
    },
    {
      "cell_type": "code",
      "metadata": {
        "colab": {
          "base_uri": "https://localhost:8080/",
          "height": 441
        },
        "id": "fRfRcJw-fTm6",
        "outputId": "ec06eaa1-538f-47ff-ff99-2177db1a0bdd"
      },
      "source": [
        "# plot forecast\n",
        "model.plot(forecast)\n",
        "plt.show()"
      ],
      "execution_count": null,
      "outputs": [
        {
          "output_type": "display_data",
          "data": {
            "image/png": "[encoded data removed]",
            "text/plain": [
              "<Figure size 720x432 with 1 Axes>"
            ]
          },
          "metadata": {
            "tags": []
          }
        }
      ]
    },
    {
      "cell_type": "code",
      "metadata": {
        "id": "njQupEYafbWf"
      },
      "source": [
        "from fbprophet.diagnostics import cross_validation"
      ],
      "execution_count": null,
      "outputs": []
    },
    {
      "cell_type": "code",
      "metadata": {
        "colab": {
          "base_uri": "https://localhost:8080/",
          "height": 83,
          "referenced_widgets": [
            "002f2e157c664d058f80b7b1c0d0fa36",
            "d5837aef961444f3838127889dabc9e8",
            "401358e5ef5d40639509cb0247f11e4f",
            "03b520cf17f34bfe8f3cef20cfbf9faf",
            "ba374a90eb8b4bf685a976bdfdc5bed5",
            "0a4ab7d7bf8d46888fa26bf9de8ede29",
            "65be01bb650b4c14b64875a24241ecb6",
            "43082ad523684a81824caaab9410c7c6"
          ]
        },
        "id": "1hb1THlThdPw",
        "outputId": "a341ee99-994f-4532-d37f-fd0c07c787e6"
      },
      "source": [
        "cv_results=cross_validation(model, horizon= \"360 days\" )"
      ],
      "execution_count": null,
      "outputs": [
        {
          "output_type": "stream",
          "text": [
            "INFO:fbprophet:Making 1 forecasts with cutoffs between 2020-04-05 00:00:00 and 2020-04-05 00:00:00\n"
          ],
          "name": "stderr"
        },
        {
          "output_type": "display_data",
          "data": {
            "application/vnd.jupyter.widget-view+json": {
              "model_id": "002f2e157c664d058f80b7b1c0d0fa36",
              "version_minor": 0,
              "version_major": 2
            },
            "text/plain": [
              "HBox(children=(FloatProgress(value=0.0, max=1.0), HTML(value='')))"
            ]
          },
          "metadata": {
            "tags": []
          }
        },
        {
          "output_type": "stream",
          "text": [
            "\n"
          ],
          "name": "stdout"
        }
      ]
    },
    {
      "cell_type": "code",
      "metadata": {
        "id": "uv1rDdT5hzQ0"
      },
      "source": [
        "\n",
        "def mean_absolute_percentage_error(y_true,y_pred):\n",
        "  y_true, y_pred=np.array(y_true), np.array(y_pred)\n",
        "  return np.mean(np.abs((y_true-y_pred)/y_true))*100"
      ],
      "execution_count": null,
      "outputs": []
    },
    {
      "cell_type": "code",
      "metadata": {
        "id": "ALI2R5-jjFzH"
      },
      "source": [
        "mape_baseline=mean_absolute_percentage_error(cv_results.y, cv_results.yhat)"
      ],
      "execution_count": null,
      "outputs": []
    },
    {
      "cell_type": "code",
      "metadata": {
        "colab": {
          "base_uri": "https://localhost:8080/"
        },
        "id": "b5MF-gE3jSYj",
        "outputId": "a15036c5-a34b-4887-8b6e-98bf2256421a"
      },
      "source": [
        "mape_baseline"
      ],
      "execution_count": null,
      "outputs": [
        {
          "output_type": "execute_result",
          "data": {
            "text/plain": [
              "79.85154901286103"
            ]
          },
          "metadata": {
            "tags": []
          },
          "execution_count": 60
        }
      ]
    },
    {
      "cell_type": "code",
      "metadata": {
        "id": "p4rioIRcjWgO"
      },
      "source": [
        "future2 = list()\n",
        "for i in range(1, 13):\n",
        "\tdate = '2018-01-%02d' % i\n",
        "\tfuture2.append([date])\n",
        "future2 = pd.DataFrame(future)\n",
        "future2.columns = ['ds']"
      ],
      "execution_count": null,
      "outputs": []
    },
    {
      "cell_type": "code",
      "metadata": {
        "colab": {
          "base_uri": "https://localhost:8080/",
          "height": 204
        },
        "id": "Wnq2mgeTYcTh",
        "outputId": "57f90fc3-dc5b-4623-b6c5-bf8ce3a1ed89"
      },
      "source": [
        "future2.head()"
      ],
      "execution_count": null,
      "outputs": [
        {
          "output_type": "execute_result",
          "data": {
            "text/html": [
              "<div>\n",
              "<style scoped>\n",
              "    .dataframe tbody tr th:only-of-type {\n",
              "        vertical-align: middle;\n",
              "    }\n",
              "\n",
              "    .dataframe tbody tr th {\n",
              "        vertical-align: top;\n",
              "    }\n",
              "\n",
              "    .dataframe thead th {\n",
              "        text-align: right;\n",
              "    }\n",
              "</style>\n",
              "<table border=\"1\" class=\"dataframe\">\n",
              "  <thead>\n",
              "    <tr style=\"text-align: right;\">\n",
              "      <th></th>\n",
              "      <th>ds</th>\n",
              "    </tr>\n",
              "  </thead>\n",
              "  <tbody>\n",
              "    <tr>\n",
              "      <th>0</th>\n",
              "      <td>2020-01</td>\n",
              "    </tr>\n",
              "    <tr>\n",
              "      <th>1</th>\n",
              "      <td>2020-02</td>\n",
              "    </tr>\n",
              "    <tr>\n",
              "      <th>2</th>\n",
              "      <td>2020-03</td>\n",
              "    </tr>\n",
              "    <tr>\n",
              "      <th>3</th>\n",
              "      <td>2020-04</td>\n",
              "    </tr>\n",
              "    <tr>\n",
              "      <th>4</th>\n",
              "      <td>2020-05</td>\n",
              "    </tr>\n",
              "  </tbody>\n",
              "</table>\n",
              "</div>"
            ],
            "text/plain": [
              "        ds\n",
              "0  2020-01\n",
              "1  2020-02\n",
              "2  2020-03\n",
              "3  2020-04\n",
              "4  2020-05"
            ]
          },
          "metadata": {
            "tags": []
          },
          "execution_count": 87
        }
      ]
    },
    {
      "cell_type": "code",
      "metadata": {
        "id": "SnISCRnyYdxZ"
      },
      "source": [
        "prediction = model.predict(future2)"
      ],
      "execution_count": null,
      "outputs": []
    },
    {
      "cell_type": "code",
      "metadata": {
        "colab": {
          "base_uri": "https://localhost:8080/"
        },
        "id": "2Dhp565wYoKa",
        "outputId": "eee02ddf-a94e-484b-9fbb-9c2afdd7f2bf"
      },
      "source": [
        "print(prediction[['ds', 'yhat', 'yhat_lower', 'yhat_upper']].tail())"
      ],
      "execution_count": null,
      "outputs": [
        {
          "output_type": "stream",
          "text": [
            "           ds           yhat     yhat_lower     yhat_upper\n",
            "7  2020-08-01  421464.907207 -148465.445437  984457.517697\n",
            "8  2020-09-01  -14446.603778 -583254.644054  538822.622713\n",
            "9  2020-10-01 -409849.706154 -980666.747312  168693.379038\n",
            "10 2020-11-01 -225079.843258 -776319.670644  317242.131875\n",
            "11 2020-12-01 -182026.504616 -754827.730812  347228.629026\n"
          ],
          "name": "stdout"
        }
      ]
    },
    {
      "cell_type": "code",
      "metadata": {
        "colab": {
          "base_uri": "https://localhost:8080/",
          "height": 441
        },
        "id": "h91_wrt-YtuP",
        "outputId": "875248d9-0437-4b05-8257-6fa61e0a4442"
      },
      "source": [
        "model.plot(prediction)\n",
        "plt.show()"
      ],
      "execution_count": null,
      "outputs": [
        {
          "output_type": "display_data",
          "data": {
            "image/png": "[encoded data removed]",
            "text/plain": [
              "<Figure size 720x432 with 1 Axes>"
            ]
          },
          "metadata": {
            "tags": []
          }
        }
      ]
    },
    {
      "cell_type": "code",
      "metadata": {
        "id": "9pKoeUbdYyzk"
      },
      "source": [
        ""
      ],
      "execution_count": null,
      "outputs": []
    }
  ]
}