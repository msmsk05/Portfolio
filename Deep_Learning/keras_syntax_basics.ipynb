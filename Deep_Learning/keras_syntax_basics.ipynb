{
 "cells": [
  {
   "cell_type": "code",
   "execution_count": null,
   "metadata": {
    "id": "a20LHdPzCPC-"
   },
   "outputs": [],
   "source": [
    "import pandas as pd"
   ]
  },
  {
   "cell_type": "code",
   "execution_count": null,
   "metadata": {
    "id": "VPgj3qiHCitC"
   },
   "outputs": [],
   "source": [
    "df1=pd.read_csv(\"fake_reg.csv\")"
   ]
  },
  {
   "cell_type": "code",
   "execution_count": null,
   "metadata": {
    "colab": {
     "base_uri": "https://localhost:8080/",
     "height": 203
    },
    "executionInfo": {
     "elapsed": 826,
     "status": "ok",
     "timestamp": 1609870776674,
     "user": {
      "displayName": "Richard C",
      "photoUrl": "",
      "userId": "08040814671867660929"
     },
     "user_tz": -180
    },
    "id": "F4idZf_HCn-N",
    "outputId": "e14334dd-6baf-4a77-e924-532ea68c5fe7"
   },
   "outputs": [
    {
     "data": {
      "text/html": [
       "<div>\n",
       "<style scoped>\n",
       "    .dataframe tbody tr th:only-of-type {\n",
       "        vertical-align: middle;\n",
       "    }\n",
       "\n",
       "    .dataframe tbody tr th {\n",
       "        vertical-align: top;\n",
       "    }\n",
       "\n",
       "    .dataframe thead th {\n",
       "        text-align: right;\n",
       "    }\n",
       "</style>\n",
       "<table border=\"1\" class=\"dataframe\">\n",
       "  <thead>\n",
       "    <tr style=\"text-align: right;\">\n",
       "      <th></th>\n",
       "      <th>price</th>\n",
       "      <th>feature1</th>\n",
       "      <th>feature2</th>\n",
       "    </tr>\n",
       "  </thead>\n",
       "  <tbody>\n",
       "    <tr>\n",
       "      <th>0</th>\n",
       "      <td>461.527929</td>\n",
       "      <td>999.787558</td>\n",
       "      <td>999.766096</td>\n",
       "    </tr>\n",
       "    <tr>\n",
       "      <th>1</th>\n",
       "      <td>548.130011</td>\n",
       "      <td>998.861615</td>\n",
       "      <td>1001.042403</td>\n",
       "    </tr>\n",
       "    <tr>\n",
       "      <th>2</th>\n",
       "      <td>410.297162</td>\n",
       "      <td>1000.070267</td>\n",
       "      <td>998.844015</td>\n",
       "    </tr>\n",
       "    <tr>\n",
       "      <th>3</th>\n",
       "      <td>540.382220</td>\n",
       "      <td>999.952251</td>\n",
       "      <td>1000.440940</td>\n",
       "    </tr>\n",
       "    <tr>\n",
       "      <th>4</th>\n",
       "      <td>546.024553</td>\n",
       "      <td>1000.446011</td>\n",
       "      <td>1000.338531</td>\n",
       "    </tr>\n",
       "  </tbody>\n",
       "</table>\n",
       "</div>"
      ],
      "text/plain": [
       "        price     feature1     feature2\n",
       "0  461.527929   999.787558   999.766096\n",
       "1  548.130011   998.861615  1001.042403\n",
       "2  410.297162  1000.070267   998.844015\n",
       "3  540.382220   999.952251  1000.440940\n",
       "4  546.024553  1000.446011  1000.338531"
      ]
     },
     "execution_count": 47,
     "metadata": {
      "tags": []
     },
     "output_type": "execute_result"
    }
   ],
   "source": [
    "df1.head()"
   ]
  },
  {
   "cell_type": "code",
   "execution_count": null,
   "metadata": {
    "colab": {
     "base_uri": "https://localhost:8080/"
    },
    "executionInfo": {
     "elapsed": 26846,
     "status": "ok",
     "timestamp": 1609868303338,
     "user": {
      "displayName": "Richard C",
      "photoUrl": "",
      "userId": "08040814671867660929"
     },
     "user_tz": -180
    },
    "id": "lqoJdMc1CsqW",
    "outputId": "0c8d5286-2ecc-43c2-f2cb-8b46177c4a9f"
   },
   "outputs": [
    {
     "name": "stdout",
     "output_type": "stream",
     "text": [
      "Mounted at /content/drive\n"
     ]
    }
   ],
   "source": [
    "from google.colab import drive\n",
    "drive.mount('/content/drive')"
   ]
  },
  {
   "cell_type": "code",
   "execution_count": null,
   "metadata": {
    "id": "9JcRT-LjD-hC"
   },
   "outputs": [],
   "source": [
    "df=pd.read_csv('drive/MyDrive/Colab Notebooks/DATA/fake_reg.csv')"
   ]
  },
  {
   "cell_type": "code",
   "execution_count": null,
   "metadata": {
    "colab": {
     "base_uri": "https://localhost:8080/",
     "height": 203
    },
    "executionInfo": {
     "elapsed": 27690,
     "status": "ok",
     "timestamp": 1609868304193,
     "user": {
      "displayName": "Richard C",
      "photoUrl": "",
      "userId": "08040814671867660929"
     },
     "user_tz": -180
    },
    "id": "-CccA4zwEElF",
    "outputId": "596b3cee-3653-4e75-efe2-ac0d0c8b9c24"
   },
   "outputs": [
    {
     "data": {
      "text/html": [
       "<div>\n",
       "<style scoped>\n",
       "    .dataframe tbody tr th:only-of-type {\n",
       "        vertical-align: middle;\n",
       "    }\n",
       "\n",
       "    .dataframe tbody tr th {\n",
       "        vertical-align: top;\n",
       "    }\n",
       "\n",
       "    .dataframe thead th {\n",
       "        text-align: right;\n",
       "    }\n",
       "</style>\n",
       "<table border=\"1\" class=\"dataframe\">\n",
       "  <thead>\n",
       "    <tr style=\"text-align: right;\">\n",
       "      <th></th>\n",
       "      <th>price</th>\n",
       "      <th>feature1</th>\n",
       "      <th>feature2</th>\n",
       "    </tr>\n",
       "  </thead>\n",
       "  <tbody>\n",
       "    <tr>\n",
       "      <th>0</th>\n",
       "      <td>461.527929</td>\n",
       "      <td>999.787558</td>\n",
       "      <td>999.766096</td>\n",
       "    </tr>\n",
       "    <tr>\n",
       "      <th>1</th>\n",
       "      <td>548.130011</td>\n",
       "      <td>998.861615</td>\n",
       "      <td>1001.042403</td>\n",
       "    </tr>\n",
       "    <tr>\n",
       "      <th>2</th>\n",
       "      <td>410.297162</td>\n",
       "      <td>1000.070267</td>\n",
       "      <td>998.844015</td>\n",
       "    </tr>\n",
       "    <tr>\n",
       "      <th>3</th>\n",
       "      <td>540.382220</td>\n",
       "      <td>999.952251</td>\n",
       "      <td>1000.440940</td>\n",
       "    </tr>\n",
       "    <tr>\n",
       "      <th>4</th>\n",
       "      <td>546.024553</td>\n",
       "      <td>1000.446011</td>\n",
       "      <td>1000.338531</td>\n",
       "    </tr>\n",
       "  </tbody>\n",
       "</table>\n",
       "</div>"
      ],
      "text/plain": [
       "        price     feature1     feature2\n",
       "0  461.527929   999.787558   999.766096\n",
       "1  548.130011   998.861615  1001.042403\n",
       "2  410.297162  1000.070267   998.844015\n",
       "3  540.382220   999.952251  1000.440940\n",
       "4  546.024553  1000.446011  1000.338531"
      ]
     },
     "execution_count": 6,
     "metadata": {
      "tags": []
     },
     "output_type": "execute_result"
    }
   ],
   "source": [
    "df.head()"
   ]
  },
  {
   "cell_type": "code",
   "execution_count": null,
   "metadata": {
    "colab": {
     "base_uri": "https://localhost:8080/"
    },
    "executionInfo": {
     "elapsed": 27682,
     "status": "ok",
     "timestamp": 1609868304194,
     "user": {
      "displayName": "Richard C",
      "photoUrl": "",
      "userId": "08040814671867660929"
     },
     "user_tz": -180
    },
    "id": "eXIKKSSCENVh",
    "outputId": "026eaf1d-f255-4a27-a6c6-5d9e461d3113"
   },
   "outputs": [
    {
     "data": {
      "text/plain": [
       "(1000, 3)"
      ]
     },
     "execution_count": 7,
     "metadata": {
      "tags": []
     },
     "output_type": "execute_result"
    }
   ],
   "source": [
    "df.shape"
   ]
  },
  {
   "cell_type": "code",
   "execution_count": null,
   "metadata": {
    "colab": {
     "base_uri": "https://localhost:8080/"
    },
    "executionInfo": {
     "elapsed": 27673,
     "status": "ok",
     "timestamp": 1609868304194,
     "user": {
      "displayName": "Richard C",
      "photoUrl": "",
      "userId": "08040814671867660929"
     },
     "user_tz": -180
    },
    "id": "50bn5JJtE0Mi",
    "outputId": "358fb154-b5c5-4c21-dc24-01fed7508150"
   },
   "outputs": [
    {
     "data": {
      "text/plain": [
       "False"
      ]
     },
     "execution_count": 8,
     "metadata": {
      "tags": []
     },
     "output_type": "execute_result"
    }
   ],
   "source": [
    "df.isnull().sum().any()"
   ]
  },
  {
   "cell_type": "code",
   "execution_count": null,
   "metadata": {
    "id": "uSoweyZ7E58O"
   },
   "outputs": [],
   "source": [
    "import seaborn as sns\n",
    "import matplotlib.pyplot as plt\n"
   ]
  },
  {
   "cell_type": "code",
   "execution_count": null,
   "metadata": {
    "colab": {
     "base_uri": "https://localhost:8080/",
     "height": 567
    },
    "executionInfo": {
     "elapsed": 32792,
     "status": "ok",
     "timestamp": 1609868309324,
     "user": {
      "displayName": "Richard C",
      "photoUrl": "",
      "userId": "08040814671867660929"
     },
     "user_tz": -180
    },
    "id": "BWhtkIQ0FLPN",
    "outputId": "20f2a53b-c547-42f8-86bb-0d587f325bea"
   },
   "outputs": [
    {
     "data": {
      "text/plain": [
       "<seaborn.axisgrid.PairGrid at 0x7fbe7ef08748>"
      ]
     },
     "execution_count": 10,
     "metadata": {
      "tags": []
     },
     "output_type": "execute_result"
    },
    {
     "data": {
      "image/png": "[encoded data removed]",
      "text/plain": [
       "<Figure size 540x540 with 12 Axes>"
      ]
     },
     "metadata": {
      "needs_background": "light",
      "tags": []
     },
     "output_type": "display_data"
    }
   ],
   "source": [
    "sns.pairplot(df)"
   ]
  },
  {
   "cell_type": "code",
   "execution_count": null,
   "metadata": {
    "colab": {
     "base_uri": "https://localhost:8080/",
     "height": 141
    },
    "executionInfo": {
     "elapsed": 32797,
     "status": "ok",
     "timestamp": 1609868309339,
     "user": {
      "displayName": "Richard C",
      "photoUrl": "",
      "userId": "08040814671867660929"
     },
     "user_tz": -180
    },
    "id": "MPDlUaZQFQZx",
    "outputId": "86e9e238-4b07-4ca7-eea3-e6e786822bae"
   },
   "outputs": [
    {
     "data": {
      "text/html": [
       "<div>\n",
       "<style scoped>\n",
       "    .dataframe tbody tr th:only-of-type {\n",
       "        vertical-align: middle;\n",
       "    }\n",
       "\n",
       "    .dataframe tbody tr th {\n",
       "        vertical-align: top;\n",
       "    }\n",
       "\n",
       "    .dataframe thead th {\n",
       "        text-align: right;\n",
       "    }\n",
       "</style>\n",
       "<table border=\"1\" class=\"dataframe\">\n",
       "  <thead>\n",
       "    <tr style=\"text-align: right;\">\n",
       "      <th></th>\n",
       "      <th>price</th>\n",
       "      <th>feature1</th>\n",
       "      <th>feature2</th>\n",
       "    </tr>\n",
       "  </thead>\n",
       "  <tbody>\n",
       "    <tr>\n",
       "      <th>price</th>\n",
       "      <td>1.000000</td>\n",
       "      <td>0.444190</td>\n",
       "      <td>0.907576</td>\n",
       "    </tr>\n",
       "    <tr>\n",
       "      <th>feature1</th>\n",
       "      <td>0.444190</td>\n",
       "      <td>1.000000</td>\n",
       "      <td>0.030607</td>\n",
       "    </tr>\n",
       "    <tr>\n",
       "      <th>feature2</th>\n",
       "      <td>0.907576</td>\n",
       "      <td>0.030607</td>\n",
       "      <td>1.000000</td>\n",
       "    </tr>\n",
       "  </tbody>\n",
       "</table>\n",
       "</div>"
      ],
      "text/plain": [
       "             price  feature1  feature2\n",
       "price     1.000000  0.444190  0.907576\n",
       "feature1  0.444190  1.000000  0.030607\n",
       "feature2  0.907576  0.030607  1.000000"
      ]
     },
     "execution_count": 11,
     "metadata": {
      "tags": []
     },
     "output_type": "execute_result"
    }
   ],
   "source": [
    "df.corr()"
   ]
  },
  {
   "cell_type": "code",
   "execution_count": null,
   "metadata": {
    "id": "K24ur0uCFwBE"
   },
   "outputs": [],
   "source": [
    "from sklearn.model_selection import train_test_split"
   ]
  },
  {
   "cell_type": "code",
   "execution_count": null,
   "metadata": {
    "id": "V0eI-V-WGA8G"
   },
   "outputs": [],
   "source": [
    "X = df[[\"feature1\", \"feature2\"]].values"
   ]
  },
  {
   "cell_type": "code",
   "execution_count": null,
   "metadata": {
    "id": "FANjvg5xGc4n"
   },
   "outputs": [],
   "source": [
    "y=df[\"price\"].values"
   ]
  },
  {
   "cell_type": "code",
   "execution_count": null,
   "metadata": {
    "id": "3qapExXsGoPi"
   },
   "outputs": [],
   "source": [
    "X_train, X_test, y_train, y_test = train_test_split(X,y,test_size=0.3,random_state=42)"
   ]
  },
  {
   "cell_type": "code",
   "execution_count": null,
   "metadata": {
    "colab": {
     "base_uri": "https://localhost:8080/"
    },
    "executionInfo": {
     "elapsed": 32788,
     "status": "ok",
     "timestamp": 1609868309346,
     "user": {
      "displayName": "Richard C",
      "photoUrl": "",
      "userId": "08040814671867660929"
     },
     "user_tz": -180
    },
    "id": "3LJTYRL-GuxG",
    "outputId": "d91ccd61-56ba-4a6d-c345-6d730940e8c1"
   },
   "outputs": [
    {
     "data": {
      "text/plain": [
       "(700, 2)"
      ]
     },
     "execution_count": 16,
     "metadata": {
      "tags": []
     },
     "output_type": "execute_result"
    }
   ],
   "source": [
    "X_train.shape"
   ]
  },
  {
   "cell_type": "code",
   "execution_count": null,
   "metadata": {
    "colab": {
     "base_uri": "https://localhost:8080/"
    },
    "executionInfo": {
     "elapsed": 32781,
     "status": "ok",
     "timestamp": 1609868309347,
     "user": {
      "displayName": "Richard C",
      "photoUrl": "",
      "userId": "08040814671867660929"
     },
     "user_tz": -180
    },
    "id": "vd_J76_NGu24",
    "outputId": "20521e1b-2b2b-4024-99e5-6b9a9e115360"
   },
   "outputs": [
    {
     "data": {
      "text/plain": [
       "array([[1001.63407565,  998.80950388],\n",
       "       [ 999.76150137,  998.41802414],\n",
       "       [ 998.2638401 , 1000.92030063],\n",
       "       ...,\n",
       "       [1000.47386523, 1001.44542815],\n",
       "       [ 998.8625673 ,  999.15662112],\n",
       "       [1000.55690247,  999.35441706]])"
      ]
     },
     "execution_count": 17,
     "metadata": {
      "tags": []
     },
     "output_type": "execute_result"
    }
   ],
   "source": [
    "X_train"
   ]
  },
  {
   "cell_type": "code",
   "execution_count": null,
   "metadata": {
    "id": "dAPmE0BlG7iH"
   },
   "outputs": [],
   "source": [
    "#scaling data"
   ]
  },
  {
   "cell_type": "code",
   "execution_count": null,
   "metadata": {
    "id": "SATVaqm7HH7h"
   },
   "outputs": [],
   "source": [
    "from sklearn.preprocessing import MinMaxScaler"
   ]
  },
  {
   "cell_type": "code",
   "execution_count": null,
   "metadata": {
    "id": "KcgAeQVMHZA3"
   },
   "outputs": [],
   "source": [
    "scaler = MinMaxScaler()"
   ]
  },
  {
   "cell_type": "code",
   "execution_count": null,
   "metadata": {
    "colab": {
     "base_uri": "https://localhost:8080/"
    },
    "executionInfo": {
     "elapsed": 32771,
     "status": "ok",
     "timestamp": 1609868309351,
     "user": {
      "displayName": "Richard C",
      "photoUrl": "",
      "userId": "08040814671867660929"
     },
     "user_tz": -180
    },
    "id": "79M307MeH_64",
    "outputId": "60d72367-be78-4913-e8b5-a673cc993905"
   },
   "outputs": [
    {
     "data": {
      "text/plain": [
       "MinMaxScaler(copy=True, feature_range=(0, 1))"
      ]
     },
     "execution_count": 21,
     "metadata": {
      "tags": []
     },
     "output_type": "execute_result"
    }
   ],
   "source": [
    "scaler.fit(X_train)"
   ]
  },
  {
   "cell_type": "code",
   "execution_count": null,
   "metadata": {
    "id": "OnsnfAr5IUtG"
   },
   "outputs": [],
   "source": [
    "X_train = scaler.transform(X_train)"
   ]
  },
  {
   "cell_type": "code",
   "execution_count": null,
   "metadata": {
    "id": "_K8bB7KAIi_H"
   },
   "outputs": [],
   "source": [
    "X_test = scaler.transform(X_test)"
   ]
  },
  {
   "cell_type": "code",
   "execution_count": null,
   "metadata": {
    "colab": {
     "base_uri": "https://localhost:8080/"
    },
    "executionInfo": {
     "elapsed": 32760,
     "status": "ok",
     "timestamp": 1609868309353,
     "user": {
      "displayName": "Richard C",
      "photoUrl": "",
      "userId": "08040814671867660929"
     },
     "user_tz": -180
    },
    "id": "OYqxXAEbI092",
    "outputId": "a5cf9881-78f4-4946-efd1-925a697919b4"
   },
   "outputs": [
    {
     "data": {
      "text/plain": [
       "0.0"
      ]
     },
     "execution_count": 24,
     "metadata": {
      "tags": []
     },
     "output_type": "execute_result"
    }
   ],
   "source": [
    "X_train.min()"
   ]
  },
  {
   "cell_type": "code",
   "execution_count": null,
   "metadata": {
    "colab": {
     "base_uri": "https://localhost:8080/"
    },
    "executionInfo": {
     "elapsed": 32755,
     "status": "ok",
     "timestamp": 1609868309356,
     "user": {
      "displayName": "Richard C",
      "photoUrl": "",
      "userId": "08040814671867660929"
     },
     "user_tz": -180
    },
    "id": "cYRD2qkDI4Ve",
    "outputId": "8fcd33ac-e4d9-4fd6-e618-928c4df8e538"
   },
   "outputs": [
    {
     "data": {
      "text/plain": [
       "1.0"
      ]
     },
     "execution_count": 25,
     "metadata": {
      "tags": []
     },
     "output_type": "execute_result"
    }
   ],
   "source": [
    "X_train.max()"
   ]
  },
  {
   "cell_type": "markdown",
   "metadata": {
    "id": "z8-gHH_GJj-g"
   },
   "source": [
    "TensorFlow Syntax\n",
    "(use %tensorflow_version 1.x to use old versions of tf)"
   ]
  },
  {
   "cell_type": "code",
   "execution_count": null,
   "metadata": {
    "id": "XdUhiCWgJjP1"
   },
   "outputs": [],
   "source": [
    "import tensorflow as tf"
   ]
  },
  {
   "cell_type": "code",
   "execution_count": null,
   "metadata": {
    "colab": {
     "base_uri": "https://localhost:8080/",
     "height": 35
    },
    "executionInfo": {
     "elapsed": 34288,
     "status": "ok",
     "timestamp": 1609868310900,
     "user": {
      "displayName": "Richard C",
      "photoUrl": "",
      "userId": "08040814671867660929"
     },
     "user_tz": -180
    },
    "id": "c3zRM_1sI6xs",
    "outputId": "2e1e3c57-a939-4490-deee-72040d87afb2"
   },
   "outputs": [
    {
     "data": {
      "application/vnd.google.colaboratory.intrinsic+json": {
       "type": "string"
      },
      "text/plain": [
       "'2.4.0'"
      ]
     },
     "execution_count": 27,
     "metadata": {
      "tags": []
     },
     "output_type": "execute_result"
    }
   ],
   "source": [
    "tf.__version__"
   ]
  },
  {
   "cell_type": "code",
   "execution_count": null,
   "metadata": {
    "id": "DpcXQagMJwbf"
   },
   "outputs": [],
   "source": [
    "from tensorflow.keras.models import Sequential"
   ]
  },
  {
   "cell_type": "code",
   "execution_count": null,
   "metadata": {
    "id": "06qrdGsxTLKf"
   },
   "outputs": [],
   "source": [
    "from tensorflow.keras.layers import Dense, Activation"
   ]
  },
  {
   "cell_type": "code",
   "execution_count": null,
   "metadata": {
    "id": "o7i5SkdqTXhj"
   },
   "outputs": [],
   "source": [
    "model = Sequential()\n",
    "model.add(Dense(4, input_dim=2, activation=\"relu\"))           #input_dim = 2  or input_dim = X_train.shape[0]\n",
    "model.add(Dense(4, activation=\"relu\"))\n",
    "model.add(Dense(2, activation=\"relu\"))\n",
    "model.add(Dense(1))\n",
    "model.compile(optimizer=\"rmsprop\", loss=\"mse\")"
   ]
  },
  {
   "cell_type": "code",
   "execution_count": null,
   "metadata": {
    "colab": {
     "base_uri": "https://localhost:8080/"
    },
    "executionInfo": {
     "elapsed": 48110,
     "status": "ok",
     "timestamp": 1609868324736,
     "user": {
      "displayName": "Richard C",
      "photoUrl": "",
      "userId": "08040814671867660929"
     },
     "user_tz": -180
    },
    "id": "TAXFz028TXkO",
    "outputId": "654df718-dcca-4d1b-9e56-c559789e1990"
   },
   "outputs": [
    {
     "name": "stdout",
     "output_type": "stream",
     "text": [
      "Epoch 1/250\n",
      "44/44 [==============================] - 1s 1ms/step - loss: 258530.9017\n",
      "Epoch 2/250\n",
      "44/44 [==============================] - 0s 1ms/step - loss: 256598.0663\n",
      "Epoch 3/250\n",
      "44/44 [==============================] - 0s 1ms/step - loss: 254146.9833\n",
      "Epoch 4/250\n",
      "44/44 [==============================] - 0s 906us/step - loss: 256403.8434\n",
      "Epoch 5/250\n",
      "44/44 [==============================] - 0s 929us/step - loss: 257877.0830\n",
      "Epoch 6/250\n",
      "44/44 [==============================] - 0s 925us/step - loss: 251312.1941\n",
      "Epoch 7/250\n",
      "44/44 [==============================] - 0s 987us/step - loss: 255821.5597\n",
      "Epoch 8/250\n",
      "44/44 [==============================] - 0s 975us/step - loss: 251652.0396\n",
      "Epoch 9/250\n",
      "44/44 [==============================] - 0s 908us/step - loss: 247638.4656\n",
      "Epoch 10/250\n",
      "44/44 [==============================] - 0s 897us/step - loss: 247405.6941\n",
      "Epoch 11/250\n",
      "44/44 [==============================] - 0s 950us/step - loss: 249104.7951\n",
      "Epoch 12/250\n",
      "44/44 [==============================] - 0s 904us/step - loss: 244724.3753\n",
      "Epoch 13/250\n",
      "44/44 [==============================] - 0s 907us/step - loss: 252946.5323\n",
      "Epoch 14/250\n",
      "44/44 [==============================] - 0s 905us/step - loss: 241221.9007\n",
      "Epoch 15/250\n",
      "44/44 [==============================] - 0s 946us/step - loss: 240178.5104\n",
      "Epoch 16/250\n",
      "44/44 [==============================] - 0s 953us/step - loss: 233957.8528\n",
      "Epoch 17/250\n",
      "44/44 [==============================] - 0s 901us/step - loss: 232043.7948\n",
      "Epoch 18/250\n",
      "44/44 [==============================] - 0s 913us/step - loss: 223910.4552\n",
      "Epoch 19/250\n",
      "44/44 [==============================] - 0s 938us/step - loss: 229356.1760\n",
      "Epoch 20/250\n",
      "44/44 [==============================] - 0s 940us/step - loss: 217370.1132\n",
      "Epoch 21/250\n",
      "44/44 [==============================] - 0s 966us/step - loss: 211837.6010\n",
      "Epoch 22/250\n",
      "44/44 [==============================] - 0s 1ms/step - loss: 209256.1417\n",
      "Epoch 23/250\n",
      "44/44 [==============================] - 0s 1ms/step - loss: 205284.8396\n",
      "Epoch 24/250\n",
      "44/44 [==============================] - 0s 928us/step - loss: 190092.7608\n",
      "Epoch 25/250\n",
      "44/44 [==============================] - 0s 1ms/step - loss: 191465.0649\n",
      "Epoch 26/250\n",
      "44/44 [==============================] - 0s 1ms/step - loss: 181645.0441\n",
      "Epoch 27/250\n",
      "44/44 [==============================] - 0s 974us/step - loss: 171962.1958\n",
      "Epoch 28/250\n",
      "44/44 [==============================] - 0s 944us/step - loss: 167180.5823\n",
      "Epoch 29/250\n",
      "44/44 [==============================] - 0s 937us/step - loss: 157225.5785\n",
      "Epoch 30/250\n",
      "44/44 [==============================] - 0s 935us/step - loss: 146149.7031\n",
      "Epoch 31/250\n",
      "44/44 [==============================] - 0s 933us/step - loss: 137796.9785\n",
      "Epoch 32/250\n",
      "44/44 [==============================] - 0s 1ms/step - loss: 127612.3757\n",
      "Epoch 33/250\n",
      "44/44 [==============================] - 0s 1ms/step - loss: 116547.5406\n",
      "Epoch 34/250\n",
      "44/44 [==============================] - 0s 910us/step - loss: 106622.0309\n",
      "Epoch 35/250\n",
      "44/44 [==============================] - 0s 927us/step - loss: 95510.5991\n",
      "Epoch 36/250\n",
      "44/44 [==============================] - 0s 974us/step - loss: 85009.1750\n",
      "Epoch 37/250\n",
      "44/44 [==============================] - 0s 951us/step - loss: 73235.9641\n",
      "Epoch 38/250\n",
      "44/44 [==============================] - 0s 986us/step - loss: 62244.4598\n",
      "Epoch 39/250\n",
      "44/44 [==============================] - 0s 968us/step - loss: 52101.4062\n",
      "Epoch 40/250\n",
      "44/44 [==============================] - 0s 1ms/step - loss: 42861.3544\n",
      "Epoch 41/250\n",
      "44/44 [==============================] - 0s 881us/step - loss: 33898.0368\n",
      "Epoch 42/250\n",
      "44/44 [==============================] - 0s 903us/step - loss: 25169.3493\n",
      "Epoch 43/250\n",
      "44/44 [==============================] - 0s 1ms/step - loss: 17938.9865\n",
      "Epoch 44/250\n",
      "44/44 [==============================] - 0s 953us/step - loss: 11687.7960\n",
      "Epoch 45/250\n",
      "44/44 [==============================] - 0s 906us/step - loss: 7249.7885\n",
      "Epoch 46/250\n",
      "44/44 [==============================] - 0s 933us/step - loss: 4558.8040\n",
      "Epoch 47/250\n",
      "44/44 [==============================] - 0s 995us/step - loss: 2821.9874\n",
      "Epoch 48/250\n",
      "44/44 [==============================] - 0s 956us/step - loss: 2694.1630\n",
      "Epoch 49/250\n",
      "44/44 [==============================] - 0s 991us/step - loss: 2466.1274\n",
      "Epoch 50/250\n",
      "44/44 [==============================] - 0s 968us/step - loss: 2455.5730\n",
      "Epoch 51/250\n",
      "44/44 [==============================] - 0s 1ms/step - loss: 2162.7215\n",
      "Epoch 52/250\n",
      "44/44 [==============================] - 0s 1ms/step - loss: 2219.5434\n",
      "Epoch 53/250\n",
      "44/44 [==============================] - 0s 1ms/step - loss: 2258.3180\n",
      "Epoch 54/250\n",
      "44/44 [==============================] - 0s 1ms/step - loss: 2030.8593\n",
      "Epoch 55/250\n",
      "44/44 [==============================] - 0s 1ms/step - loss: 2097.3945\n",
      "Epoch 56/250\n",
      "44/44 [==============================] - 0s 1ms/step - loss: 1957.4586\n",
      "Epoch 57/250\n",
      "44/44 [==============================] - 0s 1ms/step - loss: 1984.9016\n",
      "Epoch 58/250\n",
      "44/44 [==============================] - 0s 1ms/step - loss: 1925.2291\n",
      "Epoch 59/250\n",
      "44/44 [==============================] - 0s 962us/step - loss: 1745.9309\n",
      "Epoch 60/250\n",
      "44/44 [==============================] - 0s 946us/step - loss: 1753.1899\n",
      "Epoch 61/250\n",
      "44/44 [==============================] - 0s 1ms/step - loss: 1571.2206\n",
      "Epoch 62/250\n",
      "44/44 [==============================] - 0s 1ms/step - loss: 1632.9649\n",
      "Epoch 63/250\n",
      "44/44 [==============================] - 0s 993us/step - loss: 1705.8631\n",
      "Epoch 64/250\n",
      "44/44 [==============================] - 0s 1ms/step - loss: 1648.4980\n",
      "Epoch 65/250\n",
      "44/44 [==============================] - 0s 971us/step - loss: 1488.6461\n",
      "Epoch 66/250\n",
      "44/44 [==============================] - 0s 993us/step - loss: 1410.3292\n",
      "Epoch 67/250\n",
      "44/44 [==============================] - 0s 1ms/step - loss: 1496.3439\n",
      "Epoch 68/250\n",
      "44/44 [==============================] - 0s 1ms/step - loss: 1385.2726\n",
      "Epoch 69/250\n",
      "44/44 [==============================] - 0s 1ms/step - loss: 1391.6695\n",
      "Epoch 70/250\n",
      "44/44 [==============================] - 0s 1ms/step - loss: 1194.6571\n",
      "Epoch 71/250\n",
      "44/44 [==============================] - 0s 995us/step - loss: 1282.6225\n",
      "Epoch 72/250\n",
      "44/44 [==============================] - 0s 938us/step - loss: 1256.7701\n",
      "Epoch 73/250\n",
      "44/44 [==============================] - 0s 959us/step - loss: 1218.5482\n",
      "Epoch 74/250\n",
      "44/44 [==============================] - 0s 1ms/step - loss: 1109.5287\n",
      "Epoch 75/250\n",
      "44/44 [==============================] - 0s 1ms/step - loss: 1074.3143\n",
      "Epoch 76/250\n",
      "44/44 [==============================] - 0s 1ms/step - loss: 1103.5778\n",
      "Epoch 77/250\n",
      "44/44 [==============================] - 0s 1ms/step - loss: 1018.9636\n",
      "Epoch 78/250\n",
      "44/44 [==============================] - 0s 987us/step - loss: 863.1716\n",
      "Epoch 79/250\n",
      "44/44 [==============================] - 0s 931us/step - loss: 891.8851\n",
      "Epoch 80/250\n",
      "44/44 [==============================] - 0s 991us/step - loss: 886.2493\n",
      "Epoch 81/250\n",
      "44/44 [==============================] - 0s 924us/step - loss: 810.0095\n",
      "Epoch 82/250\n",
      "44/44 [==============================] - 0s 1ms/step - loss: 822.5025\n",
      "Epoch 83/250\n",
      "44/44 [==============================] - 0s 966us/step - loss: 772.5097\n",
      "Epoch 84/250\n",
      "44/44 [==============================] - 0s 1ms/step - loss: 736.5948\n",
      "Epoch 85/250\n",
      "44/44 [==============================] - 0s 896us/step - loss: 694.8251\n",
      "Epoch 86/250\n",
      "44/44 [==============================] - 0s 991us/step - loss: 697.9754\n",
      "Epoch 87/250\n",
      "44/44 [==============================] - 0s 1ms/step - loss: 633.2340\n",
      "Epoch 88/250\n",
      "44/44 [==============================] - 0s 980us/step - loss: 614.7284\n",
      "Epoch 89/250\n",
      "44/44 [==============================] - 0s 1ms/step - loss: 564.3673\n",
      "Epoch 90/250\n",
      "44/44 [==============================] - 0s 960us/step - loss: 525.6808\n",
      "Epoch 91/250\n",
      "44/44 [==============================] - 0s 917us/step - loss: 478.7869\n",
      "Epoch 92/250\n",
      "44/44 [==============================] - 0s 933us/step - loss: 437.5280\n",
      "Epoch 93/250\n",
      "44/44 [==============================] - 0s 964us/step - loss: 432.4032\n",
      "Epoch 94/250\n",
      "44/44 [==============================] - 0s 973us/step - loss: 429.1840\n",
      "Epoch 95/250\n",
      "44/44 [==============================] - 0s 988us/step - loss: 380.2955\n",
      "Epoch 96/250\n",
      "44/44 [==============================] - 0s 1ms/step - loss: 336.1257\n",
      "Epoch 97/250\n",
      "44/44 [==============================] - 0s 1ms/step - loss: 325.7623\n",
      "Epoch 98/250\n",
      "44/44 [==============================] - 0s 986us/step - loss: 314.5498\n",
      "Epoch 99/250\n",
      "44/44 [==============================] - 0s 952us/step - loss: 269.0591\n",
      "Epoch 100/250\n",
      "44/44 [==============================] - 0s 993us/step - loss: 256.5777\n",
      "Epoch 101/250\n",
      "44/44 [==============================] - 0s 998us/step - loss: 234.8085\n",
      "Epoch 102/250\n",
      "44/44 [==============================] - 0s 1ms/step - loss: 237.4195\n",
      "Epoch 103/250\n",
      "44/44 [==============================] - 0s 1ms/step - loss: 194.8480\n",
      "Epoch 104/250\n",
      "44/44 [==============================] - 0s 943us/step - loss: 199.2987\n",
      "Epoch 105/250\n",
      "44/44 [==============================] - 0s 1ms/step - loss: 171.1476\n",
      "Epoch 106/250\n",
      "44/44 [==============================] - 0s 1ms/step - loss: 165.0419\n",
      "Epoch 107/250\n",
      "44/44 [==============================] - 0s 1ms/step - loss: 143.9328\n",
      "Epoch 108/250\n",
      "44/44 [==============================] - 0s 1ms/step - loss: 125.6462\n",
      "Epoch 109/250\n",
      "44/44 [==============================] - 0s 1ms/step - loss: 107.2126\n",
      "Epoch 110/250\n",
      "44/44 [==============================] - 0s 940us/step - loss: 107.7097\n",
      "Epoch 111/250\n",
      "44/44 [==============================] - 0s 1ms/step - loss: 100.4370\n",
      "Epoch 112/250\n",
      "44/44 [==============================] - 0s 914us/step - loss: 89.0473\n",
      "Epoch 113/250\n",
      "44/44 [==============================] - 0s 962us/step - loss: 82.8631\n",
      "Epoch 114/250\n",
      "44/44 [==============================] - 0s 1ms/step - loss: 70.5592\n",
      "Epoch 115/250\n",
      "44/44 [==============================] - 0s 1ms/step - loss: 62.0342\n",
      "Epoch 116/250\n",
      "44/44 [==============================] - 0s 1ms/step - loss: 59.6284\n",
      "Epoch 117/250\n",
      "44/44 [==============================] - 0s 1ms/step - loss: 52.8996\n",
      "Epoch 118/250\n",
      "44/44 [==============================] - 0s 1ms/step - loss: 49.2945\n",
      "Epoch 119/250\n",
      "44/44 [==============================] - 0s 1ms/step - loss: 43.9329\n",
      "Epoch 120/250\n",
      "44/44 [==============================] - 0s 1ms/step - loss: 40.4843\n",
      "Epoch 121/250\n",
      "44/44 [==============================] - 0s 1ms/step - loss: 36.6118\n",
      "Epoch 122/250\n",
      "44/44 [==============================] - 0s 1ms/step - loss: 35.1528\n",
      "Epoch 123/250\n",
      "44/44 [==============================] - 0s 1ms/step - loss: 33.9162\n",
      "Epoch 124/250\n",
      "44/44 [==============================] - 0s 1ms/step - loss: 31.0913\n",
      "Epoch 125/250\n",
      "44/44 [==============================] - 0s 1ms/step - loss: 27.9767\n",
      "Epoch 126/250\n",
      "44/44 [==============================] - 0s 1ms/step - loss: 28.8531\n",
      "Epoch 127/250\n",
      "44/44 [==============================] - 0s 1ms/step - loss: 27.7680\n",
      "Epoch 128/250\n",
      "44/44 [==============================] - 0s 1ms/step - loss: 27.1414\n",
      "Epoch 129/250\n",
      "44/44 [==============================] - 0s 990us/step - loss: 24.7488\n",
      "Epoch 130/250\n",
      "44/44 [==============================] - 0s 965us/step - loss: 25.2315\n",
      "Epoch 131/250\n",
      "44/44 [==============================] - 0s 967us/step - loss: 24.8485\n",
      "Epoch 132/250\n",
      "44/44 [==============================] - 0s 2ms/step - loss: 24.8328\n",
      "Epoch 133/250\n",
      "44/44 [==============================] - 0s 964us/step - loss: 24.2907\n",
      "Epoch 134/250\n",
      "44/44 [==============================] - 0s 1ms/step - loss: 27.0562\n",
      "Epoch 135/250\n",
      "44/44 [==============================] - 0s 996us/step - loss: 24.7625\n",
      "Epoch 136/250\n",
      "44/44 [==============================] - 0s 1ms/step - loss: 23.0861\n",
      "Epoch 137/250\n",
      "44/44 [==============================] - 0s 1ms/step - loss: 23.4798\n",
      "Epoch 138/250\n",
      "44/44 [==============================] - 0s 964us/step - loss: 23.0896\n",
      "Epoch 139/250\n",
      "44/44 [==============================] - 0s 1ms/step - loss: 24.2524\n",
      "Epoch 140/250\n",
      "44/44 [==============================] - 0s 999us/step - loss: 25.6808\n",
      "Epoch 141/250\n",
      "44/44 [==============================] - 0s 1ms/step - loss: 26.0293\n",
      "Epoch 142/250\n",
      "44/44 [==============================] - 0s 1ms/step - loss: 24.8593\n",
      "Epoch 143/250\n",
      "44/44 [==============================] - 0s 1ms/step - loss: 24.2379\n",
      "Epoch 144/250\n",
      "44/44 [==============================] - 0s 953us/step - loss: 24.6394\n",
      "Epoch 145/250\n",
      "44/44 [==============================] - 0s 1ms/step - loss: 24.6345\n",
      "Epoch 146/250\n",
      "44/44 [==============================] - 0s 1ms/step - loss: 25.3070\n",
      "Epoch 147/250\n",
      "44/44 [==============================] - 0s 954us/step - loss: 23.1622\n",
      "Epoch 148/250\n",
      "44/44 [==============================] - 0s 1ms/step - loss: 25.6916\n",
      "Epoch 149/250\n",
      "44/44 [==============================] - 0s 1ms/step - loss: 26.6228\n",
      "Epoch 150/250\n",
      "44/44 [==============================] - 0s 1ms/step - loss: 23.6645\n",
      "Epoch 151/250\n",
      "44/44 [==============================] - 0s 1ms/step - loss: 24.4624\n",
      "Epoch 152/250\n",
      "44/44 [==============================] - 0s 930us/step - loss: 24.9379\n",
      "Epoch 153/250\n",
      "44/44 [==============================] - 0s 942us/step - loss: 23.0736\n",
      "Epoch 154/250\n",
      "44/44 [==============================] - 0s 1ms/step - loss: 26.0836\n",
      "Epoch 155/250\n",
      "44/44 [==============================] - 0s 973us/step - loss: 25.1836\n",
      "Epoch 156/250\n",
      "44/44 [==============================] - 0s 1ms/step - loss: 22.8147\n",
      "Epoch 157/250\n",
      "44/44 [==============================] - 0s 1ms/step - loss: 24.2517\n",
      "Epoch 158/250\n",
      "44/44 [==============================] - 0s 1000us/step - loss: 25.5303\n",
      "Epoch 159/250\n",
      "44/44 [==============================] - 0s 972us/step - loss: 24.7795\n",
      "Epoch 160/250\n",
      "44/44 [==============================] - 0s 1ms/step - loss: 25.9514\n",
      "Epoch 161/250\n",
      "44/44 [==============================] - 0s 1ms/step - loss: 24.7039\n",
      "Epoch 162/250\n",
      "44/44 [==============================] - 0s 947us/step - loss: 22.9024\n",
      "Epoch 163/250\n",
      "44/44 [==============================] - 0s 2ms/step - loss: 21.0765\n",
      "Epoch 164/250\n",
      "44/44 [==============================] - 0s 1ms/step - loss: 24.7403\n",
      "Epoch 165/250\n",
      "44/44 [==============================] - 0s 1ms/step - loss: 24.6641\n",
      "Epoch 166/250\n",
      "44/44 [==============================] - 0s 962us/step - loss: 24.0402\n",
      "Epoch 167/250\n",
      "44/44 [==============================] - 0s 1ms/step - loss: 23.6126\n",
      "Epoch 168/250\n",
      "44/44 [==============================] - 0s 945us/step - loss: 22.8093\n",
      "Epoch 169/250\n",
      "44/44 [==============================] - 0s 1ms/step - loss: 25.3802\n",
      "Epoch 170/250\n",
      "44/44 [==============================] - 0s 1ms/step - loss: 22.6983\n",
      "Epoch 171/250\n",
      "44/44 [==============================] - 0s 948us/step - loss: 24.1601\n",
      "Epoch 172/250\n",
      "44/44 [==============================] - 0s 974us/step - loss: 26.1384\n",
      "Epoch 173/250\n",
      "44/44 [==============================] - 0s 1ms/step - loss: 24.7862\n",
      "Epoch 174/250\n",
      "44/44 [==============================] - 0s 962us/step - loss: 24.7856\n",
      "Epoch 175/250\n",
      "44/44 [==============================] - 0s 1ms/step - loss: 24.1303\n",
      "Epoch 176/250\n",
      "44/44 [==============================] - 0s 1ms/step - loss: 25.1674\n",
      "Epoch 177/250\n",
      "44/44 [==============================] - 0s 1ms/step - loss: 26.5490\n",
      "Epoch 178/250\n",
      "44/44 [==============================] - 0s 971us/step - loss: 23.7027\n",
      "Epoch 179/250\n",
      "44/44 [==============================] - 0s 966us/step - loss: 24.0164\n",
      "Epoch 180/250\n",
      "44/44 [==============================] - 0s 939us/step - loss: 25.6332\n",
      "Epoch 181/250\n",
      "44/44 [==============================] - 0s 1ms/step - loss: 24.9763\n",
      "Epoch 182/250\n",
      "44/44 [==============================] - 0s 1ms/step - loss: 24.0587\n",
      "Epoch 183/250\n",
      "44/44 [==============================] - 0s 927us/step - loss: 26.3230\n",
      "Epoch 184/250\n",
      "44/44 [==============================] - 0s 1ms/step - loss: 26.1134\n",
      "Epoch 185/250\n",
      "44/44 [==============================] - 0s 1ms/step - loss: 25.5708\n",
      "Epoch 186/250\n",
      "44/44 [==============================] - 0s 1ms/step - loss: 25.3562\n",
      "Epoch 187/250\n",
      "44/44 [==============================] - 0s 1ms/step - loss: 25.2452\n",
      "Epoch 188/250\n",
      "44/44 [==============================] - 0s 1ms/step - loss: 23.4306\n",
      "Epoch 189/250\n",
      "44/44 [==============================] - 0s 1ms/step - loss: 23.7719\n",
      "Epoch 190/250\n",
      "44/44 [==============================] - 0s 1ms/step - loss: 25.5741\n",
      "Epoch 191/250\n",
      "44/44 [==============================] - 0s 965us/step - loss: 25.1699\n",
      "Epoch 192/250\n",
      "44/44 [==============================] - 0s 1ms/step - loss: 24.5970\n",
      "Epoch 193/250\n",
      "44/44 [==============================] - 0s 1ms/step - loss: 26.0903\n",
      "Epoch 194/250\n",
      "44/44 [==============================] - 0s 1ms/step - loss: 24.5481\n",
      "Epoch 195/250\n",
      "44/44 [==============================] - 0s 945us/step - loss: 23.7174\n",
      "Epoch 196/250\n",
      "44/44 [==============================] - 0s 1ms/step - loss: 24.3283\n",
      "Epoch 197/250\n",
      "44/44 [==============================] - 0s 919us/step - loss: 23.9108\n",
      "Epoch 198/250\n",
      "44/44 [==============================] - 0s 1ms/step - loss: 23.7546\n",
      "Epoch 199/250\n",
      "44/44 [==============================] - 0s 1ms/step - loss: 24.0979\n",
      "Epoch 200/250\n",
      "44/44 [==============================] - 0s 1ms/step - loss: 24.1740\n",
      "Epoch 201/250\n",
      "44/44 [==============================] - 0s 910us/step - loss: 24.5071\n",
      "Epoch 202/250\n",
      "44/44 [==============================] - 0s 978us/step - loss: 22.5750\n",
      "Epoch 203/250\n",
      "44/44 [==============================] - 0s 983us/step - loss: 26.1477\n",
      "Epoch 204/250\n",
      "44/44 [==============================] - 0s 1ms/step - loss: 26.5158\n",
      "Epoch 205/250\n",
      "44/44 [==============================] - 0s 1ms/step - loss: 23.3788\n",
      "Epoch 206/250\n",
      "44/44 [==============================] - 0s 945us/step - loss: 24.6670\n",
      "Epoch 207/250\n",
      "44/44 [==============================] - 0s 999us/step - loss: 24.6954\n",
      "Epoch 208/250\n",
      "44/44 [==============================] - 0s 954us/step - loss: 24.5552\n",
      "Epoch 209/250\n",
      "44/44 [==============================] - 0s 1ms/step - loss: 23.2338\n",
      "Epoch 210/250\n",
      "44/44 [==============================] - 0s 1ms/step - loss: 27.2476\n",
      "Epoch 211/250\n",
      "44/44 [==============================] - 0s 974us/step - loss: 25.3233\n",
      "Epoch 212/250\n",
      "44/44 [==============================] - 0s 1ms/step - loss: 24.2795\n",
      "Epoch 213/250\n",
      "44/44 [==============================] - 0s 1ms/step - loss: 23.3090\n",
      "Epoch 214/250\n",
      "44/44 [==============================] - 0s 1ms/step - loss: 24.7100\n",
      "Epoch 215/250\n",
      "44/44 [==============================] - 0s 1ms/step - loss: 23.7620\n",
      "Epoch 216/250\n",
      "44/44 [==============================] - 0s 1ms/step - loss: 24.0178\n",
      "Epoch 217/250\n",
      "44/44 [==============================] - 0s 915us/step - loss: 23.8198\n",
      "Epoch 218/250\n",
      "44/44 [==============================] - 0s 946us/step - loss: 24.3197\n",
      "Epoch 219/250\n",
      "44/44 [==============================] - 0s 953us/step - loss: 25.4756\n",
      "Epoch 220/250\n",
      "44/44 [==============================] - 0s 1ms/step - loss: 22.2065\n",
      "Epoch 221/250\n",
      "44/44 [==============================] - 0s 1ms/step - loss: 23.7639\n",
      "Epoch 222/250\n",
      "44/44 [==============================] - 0s 909us/step - loss: 24.1965\n",
      "Epoch 223/250\n",
      "44/44 [==============================] - 0s 983us/step - loss: 25.6215\n",
      "Epoch 224/250\n",
      "44/44 [==============================] - 0s 966us/step - loss: 24.1396\n",
      "Epoch 225/250\n",
      "44/44 [==============================] - 0s 1ms/step - loss: 26.0661\n",
      "Epoch 226/250\n",
      "44/44 [==============================] - 0s 1ms/step - loss: 24.3746\n",
      "Epoch 227/250\n",
      "44/44 [==============================] - 0s 1ms/step - loss: 25.1714\n",
      "Epoch 228/250\n",
      "44/44 [==============================] - 0s 972us/step - loss: 24.7020\n",
      "Epoch 229/250\n",
      "44/44 [==============================] - 0s 996us/step - loss: 23.4841\n",
      "Epoch 230/250\n",
      "44/44 [==============================] - 0s 1ms/step - loss: 22.7815\n",
      "Epoch 231/250\n",
      "44/44 [==============================] - 0s 1ms/step - loss: 24.9831\n",
      "Epoch 232/250\n",
      "44/44 [==============================] - 0s 1ms/step - loss: 24.1072\n",
      "Epoch 233/250\n",
      "44/44 [==============================] - 0s 1ms/step - loss: 25.9111\n",
      "Epoch 234/250\n",
      "44/44 [==============================] - 0s 1ms/step - loss: 25.8771\n",
      "Epoch 235/250\n",
      "44/44 [==============================] - 0s 1ms/step - loss: 24.5757\n",
      "Epoch 236/250\n",
      "44/44 [==============================] - 0s 1ms/step - loss: 24.0947\n",
      "Epoch 237/250\n",
      "44/44 [==============================] - 0s 1ms/step - loss: 22.8823\n",
      "Epoch 238/250\n",
      "44/44 [==============================] - 0s 1ms/step - loss: 23.2260\n",
      "Epoch 239/250\n",
      "44/44 [==============================] - 0s 1ms/step - loss: 24.0357\n",
      "Epoch 240/250\n",
      "44/44 [==============================] - 0s 1ms/step - loss: 24.7130\n",
      "Epoch 241/250\n",
      "44/44 [==============================] - 0s 947us/step - loss: 23.2907\n",
      "Epoch 242/250\n",
      "44/44 [==============================] - 0s 993us/step - loss: 24.4694\n",
      "Epoch 243/250\n",
      "44/44 [==============================] - 0s 1ms/step - loss: 24.5371\n",
      "Epoch 244/250\n",
      "44/44 [==============================] - 0s 1ms/step - loss: 26.3376\n",
      "Epoch 245/250\n",
      "44/44 [==============================] - 0s 942us/step - loss: 22.6734\n",
      "Epoch 246/250\n",
      "44/44 [==============================] - 0s 1ms/step - loss: 24.7487\n",
      "Epoch 247/250\n",
      "44/44 [==============================] - 0s 1ms/step - loss: 24.6726\n",
      "Epoch 248/250\n",
      "44/44 [==============================] - 0s 1ms/step - loss: 21.6058\n",
      "Epoch 249/250\n",
      "44/44 [==============================] - 0s 1ms/step - loss: 25.4641\n",
      "Epoch 250/250\n",
      "44/44 [==============================] - 0s 1ms/step - loss: 26.7067\n"
     ]
    },
    {
     "data": {
      "text/plain": [
       "<tensorflow.python.keras.callbacks.History at 0x7fbe3800c908>"
      ]
     },
     "execution_count": 31,
     "metadata": {
      "tags": []
     },
     "output_type": "execute_result"
    }
   ],
   "source": [
    "model.fit(X_train, y_train, batch_size=16, epochs=250)"
   ]
  },
  {
   "cell_type": "code",
   "execution_count": null,
   "metadata": {
    "colab": {
     "base_uri": "https://localhost:8080/"
    },
    "executionInfo": {
     "elapsed": 48102,
     "status": "ok",
     "timestamp": 1609868324736,
     "user": {
      "displayName": "Richard C",
      "photoUrl": "",
      "userId": "08040814671867660929"
     },
     "user_tz": -180
    },
    "id": "8KPU0R2-YaWY",
    "outputId": "6b5b020d-0e37-4019-fbf2-643ab5aeb860"
   },
   "outputs": [
    {
     "name": "stdout",
     "output_type": "stream",
     "text": [
      "Model: \"sequential\"\n",
      "_________________________________________________________________\n",
      "Layer (type)                 Output Shape              Param #   \n",
      "=================================================================\n",
      "dense (Dense)                (None, 4)                 12        \n",
      "_________________________________________________________________\n",
      "dense_1 (Dense)              (None, 4)                 20        \n",
      "_________________________________________________________________\n",
      "dense_2 (Dense)              (None, 2)                 10        \n",
      "_________________________________________________________________\n",
      "dense_3 (Dense)              (None, 1)                 3         \n",
      "=================================================================\n",
      "Total params: 45\n",
      "Trainable params: 45\n",
      "Non-trainable params: 0\n",
      "_________________________________________________________________\n"
     ]
    }
   ],
   "source": [
    "model.summary()"
   ]
  },
  {
   "cell_type": "code",
   "execution_count": null,
   "metadata": {
    "id": "SEBWFHhyiu5W"
   },
   "outputs": [],
   "source": [
    "loss_df=pd.DataFrame(model.history.history)"
   ]
  },
  {
   "cell_type": "code",
   "execution_count": null,
   "metadata": {
    "colab": {
     "base_uri": "https://localhost:8080/",
     "height": 282
    },
    "executionInfo": {
     "elapsed": 48603,
     "status": "ok",
     "timestamp": 1609868325249,
     "user": {
      "displayName": "Richard C",
      "photoUrl": "",
      "userId": "08040814671867660929"
     },
     "user_tz": -180
    },
    "id": "d3YnREPSizsq",
    "outputId": "b9e0f2f2-8dd5-412a-f163-856662ac9e16"
   },
   "outputs": [
    {
     "data": {
      "text/plain": [
       "<matplotlib.axes._subplots.AxesSubplot at 0x7fbe30ad67b8>"
      ]
     },
     "execution_count": 34,
     "metadata": {
      "tags": []
     },
     "output_type": "execute_result"
    },
    {
     "data": {
      "image/png": "[encoded data removed]",
      "text/plain": [
       "<Figure size 432x288 with 1 Axes>"
      ]
     },
     "metadata": {
      "needs_background": "light",
      "tags": []
     },
     "output_type": "display_data"
    }
   ],
   "source": [
    "loss_df.plot()"
   ]
  },
  {
   "cell_type": "code",
   "execution_count": null,
   "metadata": {
    "colab": {
     "base_uri": "https://localhost:8080/",
     "height": 312
    },
    "executionInfo": {
     "elapsed": 48595,
     "status": "ok",
     "timestamp": 1609868325250,
     "user": {
      "displayName": "Richard C",
      "photoUrl": "",
      "userId": "08040814671867660929"
     },
     "user_tz": -180
    },
    "id": "DeTYaThCLdV6",
    "outputId": "b5beed4a-f59f-429a-dbde-3c0c9c2011fe"
   },
   "outputs": [
    {
     "data": {
      "text/plain": [
       "(0.0, 50.0)"
      ]
     },
     "execution_count": 35,
     "metadata": {
      "tags": []
     },
     "output_type": "execute_result"
    },
    {
     "data": {
      "image/png": "[encoded data removed]",
      "text/plain": [
       "<Figure size 432x288 with 1 Axes>"
      ]
     },
     "metadata": {
      "needs_background": "light",
      "tags": []
     },
     "output_type": "display_data"
    }
   ],
   "source": [
    "fig, ax= plt.subplots()\n",
    "ax.plot(loss_df)\n",
    "ax.set_xlabel(\"epoch\")\n",
    "ax.set_ylabel(\"loss\")\n",
    "ax.set_title(\"loss - epoch graph\")\n",
    "ax.set_xlim([0,250]) # focusing on the given x values\n",
    "ax.set_ylim([0,50]) # focusing on the given y values"
   ]
  },
  {
   "cell_type": "code",
   "execution_count": null,
   "metadata": {
    "id": "46hrlI_llH8r"
   },
   "outputs": [],
   "source": [
    "from sklearn.metrics import mean_absolute_error\n",
    "from sklearn.metrics import mean_squared_error, mean_absolute_error, r2_score\n",
    "import numpy as np"
   ]
  },
  {
   "cell_type": "code",
   "execution_count": null,
   "metadata": {
    "id": "TRbo5Z5UlP4-"
   },
   "outputs": [],
   "source": [
    "def eval_metrics(actual, pred):\n",
    "    rmse = np.sqrt(mean_squared_error(actual, pred))\n",
    "    mae = mean_absolute_error(actual, pred)\n",
    "    mse = mean_squared_error(actual, pred)\n",
    "    score = r2_score(actual, pred)\n",
    "    return print(\"r2_score:\", score, \"\\n\",\"mae:\", mae, \"\\n\",\"mse:\",mse, \"\\n\",\"rmse:\",rmse)"
   ]
  },
  {
   "cell_type": "code",
   "execution_count": null,
   "metadata": {
    "id": "2ngMwPk5laAp"
   },
   "outputs": [],
   "source": [
    "y_pred = model.predict(X_test)"
   ]
  },
  {
   "cell_type": "code",
   "execution_count": null,
   "metadata": {
    "colab": {
     "base_uri": "https://localhost:8080/"
    },
    "executionInfo": {
     "elapsed": 48930,
     "status": "ok",
     "timestamp": 1609868325601,
     "user": {
      "displayName": "Richard C",
      "photoUrl": "",
      "userId": "08040814671867660929"
     },
     "user_tz": -180
    },
    "id": "F7zMsMpOmKCS",
    "outputId": "de2e1c12-0446-4d9e-dd41-effcf9de0a48"
   },
   "outputs": [
    {
     "name": "stdout",
     "output_type": "stream",
     "text": [
      "r2_score: 0.996926520840358 \n",
      " mae: 4.18122329518015 \n",
      " mse: 27.022126094558214 \n",
      " rmse: 5.198281071138633\n"
     ]
    }
   ],
   "source": [
    "eval_metrics(y_test, y_pred)"
   ]
  },
  {
   "cell_type": "code",
   "execution_count": null,
   "metadata": {
    "colab": {
     "base_uri": "https://localhost:8080/"
    },
    "executionInfo": {
     "elapsed": 48924,
     "status": "ok",
     "timestamp": 1609868325602,
     "user": {
      "displayName": "Richard C",
      "photoUrl": "",
      "userId": "08040814671867660929"
     },
     "user_tz": -180
    },
    "id": "1k3-gKSdlepr",
    "outputId": "ee97d25e-1c40-4503-cf05-1d71108d17ed"
   },
   "outputs": [
    {
     "data": {
      "text/plain": [
       "(300,)"
      ]
     },
     "execution_count": 40,
     "metadata": {
      "tags": []
     },
     "output_type": "execute_result"
    }
   ],
   "source": [
    "y_test.shape"
   ]
  },
  {
   "cell_type": "code",
   "execution_count": null,
   "metadata": {
    "colab": {
     "base_uri": "https://localhost:8080/"
    },
    "executionInfo": {
     "elapsed": 48916,
     "status": "ok",
     "timestamp": 1609868325603,
     "user": {
      "displayName": "Richard C",
      "photoUrl": "",
      "userId": "08040814671867660929"
     },
     "user_tz": -180
    },
    "id": "nbuMkuG5lsyp",
    "outputId": "1642d03a-72dc-4086-8bac-7ea596dc3b38"
   },
   "outputs": [
    {
     "data": {
      "text/plain": [
       "(300, 1)"
      ]
     },
     "execution_count": 41,
     "metadata": {
      "tags": []
     },
     "output_type": "execute_result"
    }
   ],
   "source": [
    "y_pred.shape"
   ]
  },
  {
   "cell_type": "code",
   "execution_count": null,
   "metadata": {
    "id": "Q2OC0-XVlwX4"
   },
   "outputs": [],
   "source": [
    "my_dict={\"Actual\":y_test, \"Pred\":y_pred.reshape(300,)}\n",
    "compare=pd.DataFrame(my_dict)"
   ]
  },
  {
   "cell_type": "code",
   "execution_count": null,
   "metadata": {
    "colab": {
     "base_uri": "https://localhost:8080/",
     "height": 203
    },
    "executionInfo": {
     "elapsed": 836,
     "status": "ok",
     "timestamp": 1609871948904,
     "user": {
      "displayName": "Richard C",
      "photoUrl": "",
      "userId": "08040814671867660929"
     },
     "user_tz": -180
    },
    "id": "62hiRf33l9KU",
    "outputId": "ed969b85-90c3-4f04-90f3-0ff8b9967e50"
   },
   "outputs": [
    {
     "data": {
      "text/html": [
       "<div>\n",
       "<style scoped>\n",
       "    .dataframe tbody tr th:only-of-type {\n",
       "        vertical-align: middle;\n",
       "    }\n",
       "\n",
       "    .dataframe tbody tr th {\n",
       "        vertical-align: top;\n",
       "    }\n",
       "\n",
       "    .dataframe thead th {\n",
       "        text-align: right;\n",
       "    }\n",
       "</style>\n",
       "<table border=\"1\" class=\"dataframe\">\n",
       "  <thead>\n",
       "    <tr style=\"text-align: right;\">\n",
       "      <th></th>\n",
       "      <th>Actual</th>\n",
       "      <th>Pred</th>\n",
       "    </tr>\n",
       "  </thead>\n",
       "  <tbody>\n",
       "    <tr>\n",
       "      <th>241</th>\n",
       "      <td>496.890477</td>\n",
       "      <td>501.618713</td>\n",
       "    </tr>\n",
       "    <tr>\n",
       "      <th>17</th>\n",
       "      <td>657.718680</td>\n",
       "      <td>658.137634</td>\n",
       "    </tr>\n",
       "    <tr>\n",
       "      <th>69</th>\n",
       "      <td>521.796992</td>\n",
       "      <td>515.020264</td>\n",
       "    </tr>\n",
       "    <tr>\n",
       "      <th>273</th>\n",
       "      <td>375.959380</td>\n",
       "      <td>380.470612</td>\n",
       "    </tr>\n",
       "    <tr>\n",
       "      <th>207</th>\n",
       "      <td>367.160966</td>\n",
       "      <td>360.820709</td>\n",
       "    </tr>\n",
       "  </tbody>\n",
       "</table>\n",
       "</div>"
      ],
      "text/plain": [
       "         Actual        Pred\n",
       "241  496.890477  501.618713\n",
       "17   657.718680  658.137634\n",
       "69   521.796992  515.020264\n",
       "273  375.959380  380.470612\n",
       "207  367.160966  360.820709"
      ]
     },
     "execution_count": 48,
     "metadata": {
      "tags": []
     },
     "output_type": "execute_result"
    }
   ],
   "source": [
    "compare.sample(5)"
   ]
  },
  {
   "cell_type": "code",
   "execution_count": null,
   "metadata": {
    "colab": {
     "base_uri": "https://localhost:8080/"
    },
    "executionInfo": {
     "elapsed": 717,
     "status": "ok",
     "timestamp": 1609872012251,
     "user": {
      "displayName": "Richard C",
      "photoUrl": "",
      "userId": "08040814671867660929"
     },
     "user_tz": -180
    },
    "id": "Ttttq7Xy2KJ9",
    "outputId": "81626712-9370-48b6-b056-fd949f4915d6"
   },
   "outputs": [
    {
     "data": {
      "text/plain": [
       "27.225183486938477"
      ]
     },
     "execution_count": 49,
     "metadata": {
      "tags": []
     },
     "output_type": "execute_result"
    }
   ],
   "source": [
    "model.evaluate(X_train, y_train, verbose=0)"
   ]
  },
  {
   "cell_type": "code",
   "execution_count": null,
   "metadata": {
    "colab": {
     "base_uri": "https://localhost:8080/"
    },
    "executionInfo": {
     "elapsed": 748,
     "status": "ok",
     "timestamp": 1609872073835,
     "user": {
      "displayName": "Richard C",
      "photoUrl": "",
      "userId": "08040814671867660929"
     },
     "user_tz": -180
    },
    "id": "lHiDc16A2gDw",
    "outputId": "5643beca-7fda-4e3d-bbbe-2ef6ddddc1c7"
   },
   "outputs": [
    {
     "data": {
      "text/plain": [
       "27.02212142944336"
      ]
     },
     "execution_count": 50,
     "metadata": {
      "tags": []
     },
     "output_type": "execute_result"
    }
   ],
   "source": [
    "model.evaluate(X_test, y_test, verbose=0)"
   ]
  },
  {
   "cell_type": "code",
   "execution_count": null,
   "metadata": {
    "id": "hiUdoZ6f2vGq"
   },
   "outputs": [],
   "source": [
    "import seaborn as sns"
   ]
  },
  {
   "cell_type": "code",
   "execution_count": null,
   "metadata": {
    "colab": {
     "base_uri": "https://localhost:8080/",
     "height": 296
    },
    "executionInfo": {
     "elapsed": 832,
     "status": "ok",
     "timestamp": 1609873342532,
     "user": {
      "displayName": "Richard C",
      "photoUrl": "",
      "userId": "08040814671867660929"
     },
     "user_tz": -180
    },
    "id": "2TkIR-Bn20gM",
    "outputId": "fcb2bee9-6b20-4322-a81c-785d4995e5ee"
   },
   "outputs": [
    {
     "data": {
      "text/plain": [
       "<matplotlib.axes._subplots.AxesSubplot at 0x7fbe2f30e390>"
      ]
     },
     "execution_count": 53,
     "metadata": {
      "tags": []
     },
     "output_type": "execute_result"
    },
    {
     "data": {
      "image/png": "[encoded data removed]",
      "text/plain": [
       "<Figure size 432x288 with 1 Axes>"
      ]
     },
     "metadata": {
      "needs_background": "light",
      "tags": []
     },
     "output_type": "display_data"
    }
   ],
   "source": [
    "sns.scatterplot(x=\"Actual\", y=\"Pred\", data=compare)"
   ]
  },
  {
   "cell_type": "code",
   "execution_count": null,
   "metadata": {
    "id": "3MtJjSfG3ATk"
   },
   "outputs": [],
   "source": [
    "# making predictions with the model"
   ]
  },
  {
   "cell_type": "code",
   "execution_count": null,
   "metadata": {
    "colab": {
     "base_uri": "https://localhost:8080/",
     "height": 203
    },
    "executionInfo": {
     "elapsed": 866,
     "status": "ok",
     "timestamp": 1609873574121,
     "user": {
      "displayName": "Richard C",
      "photoUrl": "",
      "userId": "08040814671867660929"
     },
     "user_tz": -180
    },
    "id": "b-0kC_AJ8TLr",
    "outputId": "331dff7d-6cd4-42e7-dd6e-69ea9f666fca"
   },
   "outputs": [
    {
     "data": {
      "text/html": [
       "<div>\n",
       "<style scoped>\n",
       "    .dataframe tbody tr th:only-of-type {\n",
       "        vertical-align: middle;\n",
       "    }\n",
       "\n",
       "    .dataframe tbody tr th {\n",
       "        vertical-align: top;\n",
       "    }\n",
       "\n",
       "    .dataframe thead th {\n",
       "        text-align: right;\n",
       "    }\n",
       "</style>\n",
       "<table border=\"1\" class=\"dataframe\">\n",
       "  <thead>\n",
       "    <tr style=\"text-align: right;\">\n",
       "      <th></th>\n",
       "      <th>price</th>\n",
       "      <th>feature1</th>\n",
       "      <th>feature2</th>\n",
       "    </tr>\n",
       "  </thead>\n",
       "  <tbody>\n",
       "    <tr>\n",
       "      <th>0</th>\n",
       "      <td>461.527929</td>\n",
       "      <td>999.787558</td>\n",
       "      <td>999.766096</td>\n",
       "    </tr>\n",
       "    <tr>\n",
       "      <th>1</th>\n",
       "      <td>548.130011</td>\n",
       "      <td>998.861615</td>\n",
       "      <td>1001.042403</td>\n",
       "    </tr>\n",
       "    <tr>\n",
       "      <th>2</th>\n",
       "      <td>410.297162</td>\n",
       "      <td>1000.070267</td>\n",
       "      <td>998.844015</td>\n",
       "    </tr>\n",
       "    <tr>\n",
       "      <th>3</th>\n",
       "      <td>540.382220</td>\n",
       "      <td>999.952251</td>\n",
       "      <td>1000.440940</td>\n",
       "    </tr>\n",
       "    <tr>\n",
       "      <th>4</th>\n",
       "      <td>546.024553</td>\n",
       "      <td>1000.446011</td>\n",
       "      <td>1000.338531</td>\n",
       "    </tr>\n",
       "  </tbody>\n",
       "</table>\n",
       "</div>"
      ],
      "text/plain": [
       "        price     feature1     feature2\n",
       "0  461.527929   999.787558   999.766096\n",
       "1  548.130011   998.861615  1001.042403\n",
       "2  410.297162  1000.070267   998.844015\n",
       "3  540.382220   999.952251  1000.440940\n",
       "4  546.024553  1000.446011  1000.338531"
      ]
     },
     "execution_count": 61,
     "metadata": {
      "tags": []
     },
     "output_type": "execute_result"
    }
   ],
   "source": [
    "df.head()"
   ]
  },
  {
   "cell_type": "code",
   "execution_count": null,
   "metadata": {
    "id": "wDKT5z9_7g4-"
   },
   "outputs": [],
   "source": [
    "new_data =[[999, 1001]]"
   ]
  },
  {
   "cell_type": "code",
   "execution_count": null,
   "metadata": {
    "id": "3CQkleCS7nwi"
   },
   "outputs": [],
   "source": [
    "new_data=scaler.transform(new_data)"
   ]
  },
  {
   "cell_type": "code",
   "execution_count": null,
   "metadata": {
    "colab": {
     "base_uri": "https://localhost:8080/"
    },
    "executionInfo": {
     "elapsed": 855,
     "status": "ok",
     "timestamp": 1609873480524,
     "user": {
      "displayName": "Richard C",
      "photoUrl": "",
      "userId": "08040814671867660929"
     },
     "user_tz": -180
    },
    "id": "xV4D8dZv779y",
    "outputId": "5c445e58-3dab-4cab-e90e-730327afc32f"
   },
   "outputs": [
    {
     "data": {
      "text/plain": [
       "array([[0.30608328, 0.71932348]])"
      ]
     },
     "execution_count": 57,
     "metadata": {
      "tags": []
     },
     "output_type": "execute_result"
    }
   ],
   "source": [
    "new_data"
   ]
  },
  {
   "cell_type": "code",
   "execution_count": null,
   "metadata": {
    "colab": {
     "base_uri": "https://localhost:8080/"
    },
    "executionInfo": {
     "elapsed": 857,
     "status": "ok",
     "timestamp": 1609873510408,
     "user": {
      "displayName": "Richard C",
      "photoUrl": "",
      "userId": "08040814671867660929"
     },
     "user_tz": -180
    },
    "id": "4oqsj0Yu79dS",
    "outputId": "ebc9d6fe-96a3-4cfa-b343-64646713f98f"
   },
   "outputs": [
    {
     "data": {
      "text/plain": [
       "546.65454"
      ]
     },
     "execution_count": 60,
     "metadata": {
      "tags": []
     },
     "output_type": "execute_result"
    }
   ],
   "source": [
    "model.predict(new_data)[0][0]"
   ]
  },
  {
   "cell_type": "code",
   "execution_count": null,
   "metadata": {
    "id": "QfOhdrK18Dpv"
   },
   "outputs": [],
   "source": [
    "# saving and loading the model"
   ]
  },
  {
   "cell_type": "code",
   "execution_count": null,
   "metadata": {
    "id": "A17W8-wE8OjA"
   },
   "outputs": [],
   "source": [
    "from tensorflow.keras.models import load_model"
   ]
  },
  {
   "cell_type": "code",
   "execution_count": null,
   "metadata": {
    "id": "6Tzp3Qge8rkP"
   },
   "outputs": [],
   "source": [
    "model.save(\"my_model.h5\")"
   ]
  },
  {
   "cell_type": "code",
   "execution_count": null,
   "metadata": {
    "id": "8_0PqXMU81Uk"
   },
   "outputs": [],
   "source": [
    "loaded_model=load_model(\"my_model.h5\")"
   ]
  },
  {
   "cell_type": "code",
   "execution_count": null,
   "metadata": {
    "colab": {
     "base_uri": "https://localhost:8080/"
    },
    "executionInfo": {
     "elapsed": 1184,
     "status": "ok",
     "timestamp": 1609873854275,
     "user": {
      "displayName": "Richard C",
      "photoUrl": "",
      "userId": "08040814671867660929"
     },
     "user_tz": -180
    },
    "id": "pTzxz0bj9XTt",
    "outputId": "b4f64474-56f6-4ce5-e5f6-0b795b55717e"
   },
   "outputs": [
    {
     "data": {
      "text/plain": [
       "array([[0.30608328, 0.71932348]])"
      ]
     },
     "execution_count": 70,
     "metadata": {
      "tags": []
     },
     "output_type": "execute_result"
    }
   ],
   "source": [
    "new_data"
   ]
  },
  {
   "cell_type": "code",
   "execution_count": null,
   "metadata": {
    "colab": {
     "base_uri": "https://localhost:8080/"
    },
    "executionInfo": {
     "elapsed": 965,
     "status": "ok",
     "timestamp": 1609873829201,
     "user": {
      "displayName": "Richard C",
      "photoUrl": "",
      "userId": "08040814671867660929"
     },
     "user_tz": -180
    },
    "id": "ASn40-US9Drv",
    "outputId": "61d16284-f11f-4981-e9b7-47663f67bbdc"
   },
   "outputs": [
    {
     "data": {
      "text/plain": [
       "array([[546.65454]], dtype=float32)"
      ]
     },
     "execution_count": 69,
     "metadata": {
      "tags": []
     },
     "output_type": "execute_result"
    }
   ],
   "source": [
    "loaded_model.predict(new_data)"
   ]
  },
  {
   "cell_type": "code",
   "execution_count": null,
   "metadata": {
    "id": "XDZ9b3xX9HLS"
   },
   "outputs": [],
   "source": []
  }
 ],
 "metadata": {
  "colab": {
   "collapsed_sections": [],
   "name": "00_keras_syntax_basics_2_inclass_act_richard.ipynb adlı not defterinin kopyası",
   "provenance": [
    {
     "file_id": "1VMxJLY_AqkIJd881u7C25w7uB3h9NvWh",
     "timestamp": 1609875294900
    }
   ]
  },
  "kernelspec": {
   "display_name": "Python 3",
   "language": "python",
   "name": "python3"
  },
  "language_info": {
   "codemirror_mode": {
    "name": "ipython",
    "version": 3
   },
   "file_extension": ".py",
   "mimetype": "text/x-python",
   "name": "python",
   "nbconvert_exporter": "python",
   "pygments_lexer": "ipython3",
   "version": "3.7.9"
  }
 },
 "nbformat": 4,
 "nbformat_minor": 1
}
