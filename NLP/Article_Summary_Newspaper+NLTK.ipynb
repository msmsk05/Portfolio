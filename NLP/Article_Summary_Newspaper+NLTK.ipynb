{
  "nbformat": 4,
  "nbformat_minor": 0,
  "metadata": {
    "colab": {
      "name": "Article Summary-Newspaper+NLTK.ipynb",
      "provenance": [],
      "collapsed_sections": []
    },
    "kernelspec": {
      "name": "python3",
      "display_name": "Python 3"
    },
    "language_info": {
      "name": "python"
    }
  },
  "cells": [
    {
      "cell_type": "markdown",
      "metadata": {
        "id": "g3nBLGjy59ah"
      },
      "source": [
        "## Getting a summary of an article"
      ]
    },
    {
      "cell_type": "markdown",
      "metadata": {
        "id": "LT_OJYeG6FQa"
      },
      "source": [
        "### Libraries/Dependencies"
      ]
    },
    {
      "cell_type": "code",
      "metadata": {
        "colab": {
          "base_uri": "https://localhost:8080/"
        },
        "id": "_kSfnhqy4Orq",
        "outputId": "d607d584-eac8-4732-e539-3fd40414acbd"
      },
      "source": [
        "from newspaper import Article\n",
        "import nltk\n",
        "nltk.download(\"punkt\")"
      ],
      "execution_count": 8,
      "outputs": [
        {
          "output_type": "stream",
          "text": [
            "[nltk_data] Downloading package punkt to /root/nltk_data...\n",
            "[nltk_data]   Unzipping tokenizers/punkt.zip.\n"
          ],
          "name": "stdout"
        },
        {
          "output_type": "execute_result",
          "data": {
            "text/plain": [
              "True"
            ]
          },
          "metadata": {
            "tags": []
          },
          "execution_count": 8
        }
      ]
    },
    {
      "cell_type": "markdown",
      "metadata": {
        "id": "4qBETAop6KYc"
      },
      "source": [
        "### Downloading and parsing the article"
      ]
    },
    {
      "cell_type": "code",
      "metadata": {
        "id": "wqKUOyGV4VIZ"
      },
      "source": [
        "url=\"https://www.nytimes.com/2021/03/31/climate/biden-climate-jobs.html?action=click&module=Spotlight&pgtype=Homepage\"\n",
        "article=Article(url)\n",
        "article.download()\n",
        "article.parse()"
      ],
      "execution_count": 9,
      "outputs": []
    },
    {
      "cell_type": "markdown",
      "metadata": {
        "id": "f1erFeDJ6TzU"
      },
      "source": [
        "### Title of the article"
      ]
    },
    {
      "cell_type": "code",
      "metadata": {
        "colab": {
          "base_uri": "https://localhost:8080/",
          "height": 35
        },
        "id": "S1r920W15UMh",
        "outputId": "d32d04f9-a10a-4c0f-c26b-9eeaa4133915"
      },
      "source": [
        "article.title"
      ],
      "execution_count": 10,
      "outputs": [
        {
          "output_type": "execute_result",
          "data": {
            "application/vnd.google.colaboratory.intrinsic+json": {
              "type": "string"
            },
            "text/plain": [
              "'Biden’s Big Bet: Tackling Climate Change Will Create Jobs, Not Kill Them'"
            ]
          },
          "metadata": {
            "tags": []
          },
          "execution_count": 10
        }
      ]
    },
    {
      "cell_type": "markdown",
      "metadata": {
        "id": "5f88rdtK6Yqn"
      },
      "source": [
        "### Publish date of the article"
      ]
    },
    {
      "cell_type": "code",
      "metadata": {
        "colab": {
          "base_uri": "https://localhost:8080/"
        },
        "id": "7znKdv0Y5X15",
        "outputId": "1d21cd5c-242a-4074-f33e-b0d1db15a2d4"
      },
      "source": [
        "article.publish_date"
      ],
      "execution_count": 11,
      "outputs": [
        {
          "output_type": "execute_result",
          "data": {
            "text/plain": [
              "datetime.datetime(2021, 3, 31, 0, 0)"
            ]
          },
          "metadata": {
            "tags": []
          },
          "execution_count": 11
        }
      ]
    },
    {
      "cell_type": "markdown",
      "metadata": {
        "id": "nTB9qN_r6eMd"
      },
      "source": [
        "### Top image of the article"
      ]
    },
    {
      "cell_type": "code",
      "metadata": {
        "colab": {
          "base_uri": "https://localhost:8080/",
          "height": 35
        },
        "id": "L7XtdX7O5aw1",
        "outputId": "68e53100-7291-4e5a-950f-1e5c9e143d89"
      },
      "source": [
        "article.top_image"
      ],
      "execution_count": 12,
      "outputs": [
        {
          "output_type": "execute_result",
          "data": {
            "application/vnd.google.colaboratory.intrinsic+json": {
              "type": "string"
            },
            "text/plain": [
              "'https://static01.nyt.com/images/2021/03/31/science/31cli-bidenclimate-1/merlin_180788583_3a9e790e-f13d-4d3d-8036-f5b90d213506-facebookJumbo.jpg'"
            ]
          },
          "metadata": {
            "tags": []
          },
          "execution_count": 12
        }
      ]
    },
    {
      "cell_type": "markdown",
      "metadata": {
        "id": "vIlhO8u16i-R"
      },
      "source": [
        "### Summary of the article"
      ]
    },
    {
      "cell_type": "code",
      "metadata": {
        "colab": {
          "base_uri": "https://localhost:8080/",
          "height": 103
        },
        "id": "k99kiqw35hHv",
        "outputId": "68ddb9a5-397b-491a-efcb-c817237ce14b"
      },
      "source": [
        "article.nlp()\n",
        "article.summary"
      ],
      "execution_count": 15,
      "outputs": [
        {
          "output_type": "execute_result",
          "data": {
            "application/vnd.google.colaboratory.intrinsic+json": {
              "type": "string"
            },
            "text/plain": [
              "'On the other, the plan could make Detroit more competitive and increase its share of the global automobile market.\\nIf it works, the next two years would see new electric vehicle battery and assembly plants sprouting up across the country.\\nBut even with new plants, much of the work can happen outside of the United States.\\nMr. Biden’s energy plan would also dedicate $100 billion to update and modernize the electricity grid to make it more reliable and better able to route power from wind and solar plants to large cities.\\nAccelerating the shift to wind and solar power is likely to create tens of thousands of construction jobs, economists and industry officials say.'"
            ]
          },
          "metadata": {
            "tags": []
          },
          "execution_count": 15
        }
      ]
    },
    {
      "cell_type": "markdown",
      "metadata": {
        "id": "5UtD-XbE6mYt"
      },
      "source": [
        "### Keywords of the article"
      ]
    },
    {
      "cell_type": "code",
      "metadata": {
        "colab": {
          "base_uri": "https://localhost:8080/"
        },
        "id": "dEApSQr85oC-",
        "outputId": "f425c284-cc5a-4d15-8fc9-5b2ee032ea66"
      },
      "source": [
        "print(article.keywords)"
      ],
      "execution_count": 17,
      "outputs": [
        {
          "output_type": "stream",
          "text": [
            "['plants', 'work', 'kill', 'bidens', 'bet', 'battery', 'electric', 'united', 'big', 'industry', 'tackling', 'change', 'tax', 'solar', 'wind', 'climate', 'create', 'jobs', 'states']\n"
          ],
          "name": "stdout"
        }
      ]
    },
    {
      "cell_type": "code",
      "metadata": {
        "id": "jth0RZHE50Ig"
      },
      "source": [
        ""
      ],
      "execution_count": null,
      "outputs": []
    }
  ]
}