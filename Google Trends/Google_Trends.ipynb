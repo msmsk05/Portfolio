{
  "nbformat": 4,
  "nbformat_minor": 0,
  "metadata": {
    "colab": {
      "name": "Google_Trends.ipynb",
      "provenance": [],
      "collapsed_sections": []
    },
    "kernelspec": {
      "name": "python3",
      "display_name": "Python 3"
    },
    "language_info": {
      "name": "python"
    }
  },
  "cells": [
    {
      "cell_type": "code",
      "metadata": {
        "id": "cU3jrVPP0hNK"
      },
      "source": [
        "from pytrends.request import TrendReq\n",
        "import plotly.express as px"
      ],
      "execution_count": 35,
      "outputs": []
    },
    {
      "cell_type": "code",
      "metadata": {
        "id": "4-UaSOgD00-o"
      },
      "source": [
        "pytrends=TrendReq(hl=\"en-US\", tz=360)\n",
        "pytrends.build_payload(kw_list=[\"data science\"])"
      ],
      "execution_count": 36,
      "outputs": []
    },
    {
      "cell_type": "code",
      "metadata": {
        "colab": {
          "base_uri": "https://localhost:8080/",
          "height": 542
        },
        "id": "pS4EdvZM1TCI",
        "outputId": "9b48ffd6-3876-45e9-90fe-02ea452aaa72"
      },
      "source": [
        "df=pytrends.interest_over_time()\n",
        "import seaborn as sns\n",
        "px.line(x=df.index, y=df[\"data science\"])\n",
        "#fig.update_xaxes(rangeslider_visible=True)"
      ],
      "execution_count": 76,
      "outputs": [
        {
          "output_type": "display_data",
          "data": {
            "text/html": [
              "<html>\n",
              "<head><meta charset=\"utf-8\" /></head>\n",
              "<body>\n",
              "    <div>\n",
              "            <script src=\"https://cdnjs.cloudflare.com/ajax/libs/mathjax/2.7.5/MathJax.js?config=TeX-AMS-MML_SVG\"></script><script type=\"text/javascript\">if (window.MathJax) {MathJax.Hub.Config({SVG: {font: \"STIX-Web\"}});}</script>\n",
              "                <script type=\"text/javascript\">window.PlotlyConfig = {MathJaxConfig: 'local'};</script>\n",
              "        <script src=\"https://cdn.plot.ly/plotly-latest.min.js\"></script>    \n",
              "            <div id=\"4821379c-644f-4e58-91fa-788616abb616\" class=\"plotly-graph-div\" style=\"height:525px; width:100%;\"></div>\n",
              "            <script type=\"text/javascript\">\n",
              "                \n",
              "                    window.PLOTLYENV=window.PLOTLYENV || {};\n",
              "                    \n",
              "                if (document.getElementById(\"4821379c-644f-4e58-91fa-788616abb616\")) {\n",
              "                    Plotly.newPlot(\n",
              "                        '4821379c-644f-4e58-91fa-788616abb616',\n",
              "                        [{\"hoverlabel\": {\"namelength\": 0}, \"hovertemplate\": \"x=%{x}<br>y=%{y}\", \"legendgroup\": \"\", \"line\": {\"color\": \"#636efa\", \"dash\": \"solid\"}, \"mode\": \"lines\", \"name\": \"\", \"showlegend\": false, \"type\": \"scatter\", \"x\": [\"2016-04-17T00:00:00\", \"2016-04-24T00:00:00\", \"2016-05-01T00:00:00\", \"2016-05-08T00:00:00\", \"2016-05-15T00:00:00\", \"2016-05-22T00:00:00\", \"2016-05-29T00:00:00\", \"2016-06-05T00:00:00\", \"2016-06-12T00:00:00\", \"2016-06-19T00:00:00\", \"2016-06-26T00:00:00\", \"2016-07-03T00:00:00\", \"2016-07-10T00:00:00\", \"2016-07-17T00:00:00\", \"2016-07-24T00:00:00\", \"2016-07-31T00:00:00\", \"2016-08-07T00:00:00\", \"2016-08-14T00:00:00\", \"2016-08-21T00:00:00\", \"2016-08-28T00:00:00\", \"2016-09-04T00:00:00\", \"2016-09-11T00:00:00\", \"2016-09-18T00:00:00\", \"2016-09-25T00:00:00\", \"2016-10-02T00:00:00\", \"2016-10-09T00:00:00\", \"2016-10-16T00:00:00\", \"2016-10-23T00:00:00\", \"2016-10-30T00:00:00\", \"2016-11-06T00:00:00\", \"2016-11-13T00:00:00\", \"2016-11-20T00:00:00\", \"2016-11-27T00:00:00\", \"2016-12-04T00:00:00\", \"2016-12-11T00:00:00\", \"2016-12-18T00:00:00\", \"2016-12-25T00:00:00\", \"2017-01-01T00:00:00\", \"2017-01-08T00:00:00\", \"2017-01-15T00:00:00\", \"2017-01-22T00:00:00\", \"2017-01-29T00:00:00\", \"2017-02-05T00:00:00\", \"2017-02-12T00:00:00\", \"2017-02-19T00:00:00\", \"2017-02-26T00:00:00\", \"2017-03-05T00:00:00\", \"2017-03-12T00:00:00\", \"2017-03-19T00:00:00\", \"2017-03-26T00:00:00\", \"2017-04-02T00:00:00\", \"2017-04-09T00:00:00\", \"2017-04-16T00:00:00\", \"2017-04-23T00:00:00\", \"2017-04-30T00:00:00\", \"2017-05-07T00:00:00\", \"2017-05-14T00:00:00\", \"2017-05-21T00:00:00\", \"2017-05-28T00:00:00\", \"2017-06-04T00:00:00\", \"2017-06-11T00:00:00\", \"2017-06-18T00:00:00\", \"2017-06-25T00:00:00\", \"2017-07-02T00:00:00\", \"2017-07-09T00:00:00\", \"2017-07-16T00:00:00\", \"2017-07-23T00:00:00\", \"2017-07-30T00:00:00\", \"2017-08-06T00:00:00\", \"2017-08-13T00:00:00\", \"2017-08-20T00:00:00\", \"2017-08-27T00:00:00\", \"2017-09-03T00:00:00\", \"2017-09-10T00:00:00\", \"2017-09-17T00:00:00\", \"2017-09-24T00:00:00\", \"2017-10-01T00:00:00\", \"2017-10-08T00:00:00\", \"2017-10-15T00:00:00\", \"2017-10-22T00:00:00\", \"2017-10-29T00:00:00\", \"2017-11-05T00:00:00\", \"2017-11-12T00:00:00\", \"2017-11-19T00:00:00\", \"2017-11-26T00:00:00\", \"2017-12-03T00:00:00\", \"2017-12-10T00:00:00\", \"2017-12-17T00:00:00\", \"2017-12-24T00:00:00\", \"2017-12-31T00:00:00\", \"2018-01-07T00:00:00\", \"2018-01-14T00:00:00\", \"2018-01-21T00:00:00\", \"2018-01-28T00:00:00\", \"2018-02-04T00:00:00\", \"2018-02-11T00:00:00\", \"2018-02-18T00:00:00\", \"2018-02-25T00:00:00\", \"2018-03-04T00:00:00\", \"2018-03-11T00:00:00\", \"2018-03-18T00:00:00\", \"2018-03-25T00:00:00\", \"2018-04-01T00:00:00\", \"2018-04-08T00:00:00\", \"2018-04-15T00:00:00\", \"2018-04-22T00:00:00\", \"2018-04-29T00:00:00\", \"2018-05-06T00:00:00\", \"2018-05-13T00:00:00\", \"2018-05-20T00:00:00\", \"2018-05-27T00:00:00\", \"2018-06-03T00:00:00\", \"2018-06-10T00:00:00\", \"2018-06-17T00:00:00\", \"2018-06-24T00:00:00\", \"2018-07-01T00:00:00\", \"2018-07-08T00:00:00\", \"2018-07-15T00:00:00\", \"2018-07-22T00:00:00\", \"2018-07-29T00:00:00\", \"2018-08-05T00:00:00\", \"2018-08-12T00:00:00\", \"2018-08-19T00:00:00\", \"2018-08-26T00:00:00\", \"2018-09-02T00:00:00\", \"2018-09-09T00:00:00\", \"2018-09-16T00:00:00\", \"2018-09-23T00:00:00\", \"2018-09-30T00:00:00\", \"2018-10-07T00:00:00\", \"2018-10-14T00:00:00\", \"2018-10-21T00:00:00\", \"2018-10-28T00:00:00\", \"2018-11-04T00:00:00\", \"2018-11-11T00:00:00\", \"2018-11-18T00:00:00\", \"2018-11-25T00:00:00\", \"2018-12-02T00:00:00\", \"2018-12-09T00:00:00\", \"2018-12-16T00:00:00\", \"2018-12-23T00:00:00\", \"2018-12-30T00:00:00\", \"2019-01-06T00:00:00\", \"2019-01-13T00:00:00\", \"2019-01-20T00:00:00\", \"2019-01-27T00:00:00\", \"2019-02-03T00:00:00\", \"2019-02-10T00:00:00\", \"2019-02-17T00:00:00\", \"2019-02-24T00:00:00\", \"2019-03-03T00:00:00\", \"2019-03-10T00:00:00\", \"2019-03-17T00:00:00\", \"2019-03-24T00:00:00\", \"2019-03-31T00:00:00\", \"2019-04-07T00:00:00\", \"2019-04-14T00:00:00\", \"2019-04-21T00:00:00\", \"2019-04-28T00:00:00\", \"2019-05-05T00:00:00\", \"2019-05-12T00:00:00\", \"2019-05-19T00:00:00\", \"2019-05-26T00:00:00\", \"2019-06-02T00:00:00\", \"2019-06-09T00:00:00\", \"2019-06-16T00:00:00\", \"2019-06-23T00:00:00\", \"2019-06-30T00:00:00\", \"2019-07-07T00:00:00\", \"2019-07-14T00:00:00\", \"2019-07-21T00:00:00\", \"2019-07-28T00:00:00\", \"2019-08-04T00:00:00\", \"2019-08-11T00:00:00\", \"2019-08-18T00:00:00\", \"2019-08-25T00:00:00\", \"2019-09-01T00:00:00\", \"2019-09-08T00:00:00\", \"2019-09-15T00:00:00\", \"2019-09-22T00:00:00\", \"2019-09-29T00:00:00\", \"2019-10-06T00:00:00\", \"2019-10-13T00:00:00\", \"2019-10-20T00:00:00\", \"2019-10-27T00:00:00\", \"2019-11-03T00:00:00\", \"2019-11-10T00:00:00\", \"2019-11-17T00:00:00\", \"2019-11-24T00:00:00\", \"2019-12-01T00:00:00\", \"2019-12-08T00:00:00\", \"2019-12-15T00:00:00\", \"2019-12-22T00:00:00\", \"2019-12-29T00:00:00\", \"2020-01-05T00:00:00\", \"2020-01-12T00:00:00\", \"2020-01-19T00:00:00\", \"2020-01-26T00:00:00\", \"2020-02-02T00:00:00\", \"2020-02-09T00:00:00\", \"2020-02-16T00:00:00\", \"2020-02-23T00:00:00\", \"2020-03-01T00:00:00\", \"2020-03-08T00:00:00\", \"2020-03-15T00:00:00\", \"2020-03-22T00:00:00\", \"2020-03-29T00:00:00\", \"2020-04-05T00:00:00\", \"2020-04-12T00:00:00\", \"2020-04-19T00:00:00\", \"2020-04-26T00:00:00\", \"2020-05-03T00:00:00\", \"2020-05-10T00:00:00\", \"2020-05-17T00:00:00\", \"2020-05-24T00:00:00\", \"2020-05-31T00:00:00\", \"2020-06-07T00:00:00\", \"2020-06-14T00:00:00\", \"2020-06-21T00:00:00\", \"2020-06-28T00:00:00\", \"2020-07-05T00:00:00\", \"2020-07-12T00:00:00\", \"2020-07-19T00:00:00\", \"2020-07-26T00:00:00\", \"2020-08-02T00:00:00\", \"2020-08-09T00:00:00\", \"2020-08-16T00:00:00\", \"2020-08-23T00:00:00\", \"2020-08-30T00:00:00\", \"2020-09-06T00:00:00\", \"2020-09-13T00:00:00\", \"2020-09-20T00:00:00\", \"2020-09-27T00:00:00\", \"2020-10-04T00:00:00\", \"2020-10-11T00:00:00\", \"2020-10-18T00:00:00\", \"2020-10-25T00:00:00\", \"2020-11-01T00:00:00\", \"2020-11-08T00:00:00\", \"2020-11-15T00:00:00\", \"2020-11-22T00:00:00\", \"2020-11-29T00:00:00\", \"2020-12-06T00:00:00\", \"2020-12-13T00:00:00\", \"2020-12-20T00:00:00\", \"2020-12-27T00:00:00\", \"2021-01-03T00:00:00\", \"2021-01-10T00:00:00\", \"2021-01-17T00:00:00\", \"2021-01-24T00:00:00\", \"2021-01-31T00:00:00\", \"2021-02-07T00:00:00\", \"2021-02-14T00:00:00\", \"2021-02-21T00:00:00\", \"2021-02-28T00:00:00\", \"2021-03-07T00:00:00\", \"2021-03-14T00:00:00\", \"2021-03-21T00:00:00\", \"2021-03-28T00:00:00\", \"2021-04-04T00:00:00\", \"2021-04-11T00:00:00\"], \"xaxis\": \"x\", \"y\": [27, 24, 23, 27, 27, 23, 21, 26, 24, 25, 25, 25, 27, 25, 23, 23, 23, 25, 32, 29, 33, 33, 31, 31, 28, 34, 34, 32, 32, 32, 36, 28, 33, 37, 40, 27, 23, 32, 37, 39, 38, 37, 38, 38, 39, 40, 42, 39, 37, 41, 41, 38, 41, 41, 38, 40, 38, 42, 40, 40, 38, 39, 40, 38, 37, 41, 42, 44, 43, 44, 44, 43, 45, 52, 48, 54, 46, 50, 51, 48, 51, 51, 50, 44, 49, 49, 48, 45, 34, 46, 48, 51, 56, 52, 55, 55, 53, 54, 51, 54, 54, 54, 50, 57, 51, 56, 50, 54, 54, 57, 55, 63, 51, 53, 52, 51, 57, 58, 59, 63, 57, 54, 62, 63, 64, 61, 65, 62, 64, 65, 65, 64, 61, 64, 65, 60, 66, 64, 64, 59, 47, 57, 69, 69, 74, 73, 70, 70, 65, 69, 73, 71, 69, 70, 75, 73, 70, 68, 70, 66, 69, 77, 68, 75, 74, 75, 81, 69, 79, 73, 86, 81, 80, 81, 88, 84, 86, 88, 99, 93, 85, 82, 84, 81, 77, 85, 82, 86, 76, 80, 76, 82, 67, 70, 88, 90, 91, 92, 88, 92, 91, 100, 87, 88, 74, 66, 76, 77, 81, 85, 80, 79, 82, 80, 81, 79, 85, 79, 81, 88, 92, 87, 88, 85, 87, 90, 90, 93, 95, 92, 97, 92, 89, 88, 81, 78, 76, 70, 74, 73, 72, 68, 73, 75, 59, 59, 74, 79, 71, 79, 79, 76, 70, 76, 69, 69, 70, 75, 73, 76, 72], \"yaxis\": \"y\"}],\n",
              "                        {\"legend\": {\"tracegroupgap\": 0}, \"margin\": {\"t\": 60}, \"template\": {\"data\": {\"bar\": [{\"error_x\": {\"color\": \"#2a3f5f\"}, \"error_y\": {\"color\": \"#2a3f5f\"}, \"marker\": {\"line\": {\"color\": \"#E5ECF6\", \"width\": 0.5}}, \"type\": \"bar\"}], \"barpolar\": [{\"marker\": {\"line\": {\"color\": \"#E5ECF6\", \"width\": 0.5}}, \"type\": \"barpolar\"}], \"carpet\": [{\"aaxis\": {\"endlinecolor\": \"#2a3f5f\", \"gridcolor\": \"white\", \"linecolor\": \"white\", \"minorgridcolor\": \"white\", \"startlinecolor\": \"#2a3f5f\"}, \"baxis\": {\"endlinecolor\": \"#2a3f5f\", \"gridcolor\": \"white\", \"linecolor\": \"white\", \"minorgridcolor\": \"white\", \"startlinecolor\": \"#2a3f5f\"}, \"type\": \"carpet\"}], \"choropleth\": [{\"colorbar\": {\"outlinewidth\": 0, \"ticks\": \"\"}, \"type\": \"choropleth\"}], \"contour\": [{\"colorbar\": {\"outlinewidth\": 0, \"ticks\": \"\"}, \"colorscale\": [[0.0, \"#0d0887\"], [0.1111111111111111, \"#46039f\"], [0.2222222222222222, \"#7201a8\"], [0.3333333333333333, \"#9c179e\"], [0.4444444444444444, \"#bd3786\"], [0.5555555555555556, \"#d8576b\"], [0.6666666666666666, \"#ed7953\"], [0.7777777777777778, \"#fb9f3a\"], [0.8888888888888888, \"#fdca26\"], [1.0, \"#f0f921\"]], \"type\": \"contour\"}], \"contourcarpet\": [{\"colorbar\": {\"outlinewidth\": 0, \"ticks\": \"\"}, \"type\": \"contourcarpet\"}], \"heatmap\": [{\"colorbar\": {\"outlinewidth\": 0, \"ticks\": \"\"}, \"colorscale\": [[0.0, \"#0d0887\"], [0.1111111111111111, \"#46039f\"], [0.2222222222222222, \"#7201a8\"], [0.3333333333333333, \"#9c179e\"], [0.4444444444444444, \"#bd3786\"], [0.5555555555555556, \"#d8576b\"], [0.6666666666666666, \"#ed7953\"], [0.7777777777777778, \"#fb9f3a\"], [0.8888888888888888, \"#fdca26\"], [1.0, \"#f0f921\"]], \"type\": \"heatmap\"}], \"heatmapgl\": [{\"colorbar\": {\"outlinewidth\": 0, \"ticks\": \"\"}, \"colorscale\": [[0.0, \"#0d0887\"], [0.1111111111111111, \"#46039f\"], [0.2222222222222222, \"#7201a8\"], [0.3333333333333333, \"#9c179e\"], [0.4444444444444444, \"#bd3786\"], [0.5555555555555556, \"#d8576b\"], [0.6666666666666666, \"#ed7953\"], [0.7777777777777778, \"#fb9f3a\"], [0.8888888888888888, \"#fdca26\"], [1.0, \"#f0f921\"]], \"type\": \"heatmapgl\"}], \"histogram\": [{\"marker\": {\"colorbar\": {\"outlinewidth\": 0, \"ticks\": \"\"}}, \"type\": \"histogram\"}], \"histogram2d\": [{\"colorbar\": {\"outlinewidth\": 0, \"ticks\": \"\"}, \"colorscale\": [[0.0, \"#0d0887\"], [0.1111111111111111, \"#46039f\"], [0.2222222222222222, \"#7201a8\"], [0.3333333333333333, \"#9c179e\"], [0.4444444444444444, \"#bd3786\"], [0.5555555555555556, \"#d8576b\"], [0.6666666666666666, \"#ed7953\"], [0.7777777777777778, \"#fb9f3a\"], [0.8888888888888888, \"#fdca26\"], [1.0, \"#f0f921\"]], \"type\": \"histogram2d\"}], \"histogram2dcontour\": [{\"colorbar\": {\"outlinewidth\": 0, \"ticks\": \"\"}, \"colorscale\": [[0.0, \"#0d0887\"], [0.1111111111111111, \"#46039f\"], [0.2222222222222222, \"#7201a8\"], [0.3333333333333333, \"#9c179e\"], [0.4444444444444444, \"#bd3786\"], [0.5555555555555556, \"#d8576b\"], [0.6666666666666666, \"#ed7953\"], [0.7777777777777778, \"#fb9f3a\"], [0.8888888888888888, \"#fdca26\"], [1.0, \"#f0f921\"]], \"type\": \"histogram2dcontour\"}], \"mesh3d\": [{\"colorbar\": {\"outlinewidth\": 0, \"ticks\": \"\"}, \"type\": \"mesh3d\"}], \"parcoords\": [{\"line\": {\"colorbar\": {\"outlinewidth\": 0, \"ticks\": \"\"}}, \"type\": \"parcoords\"}], \"pie\": [{\"automargin\": true, \"type\": \"pie\"}], \"scatter\": [{\"marker\": {\"colorbar\": {\"outlinewidth\": 0, \"ticks\": \"\"}}, \"type\": \"scatter\"}], \"scatter3d\": [{\"line\": {\"colorbar\": {\"outlinewidth\": 0, \"ticks\": \"\"}}, \"marker\": {\"colorbar\": {\"outlinewidth\": 0, \"ticks\": \"\"}}, \"type\": \"scatter3d\"}], \"scattercarpet\": [{\"marker\": {\"colorbar\": {\"outlinewidth\": 0, \"ticks\": \"\"}}, \"type\": \"scattercarpet\"}], \"scattergeo\": [{\"marker\": {\"colorbar\": {\"outlinewidth\": 0, \"ticks\": \"\"}}, \"type\": \"scattergeo\"}], \"scattergl\": [{\"marker\": {\"colorbar\": {\"outlinewidth\": 0, \"ticks\": \"\"}}, \"type\": \"scattergl\"}], \"scattermapbox\": [{\"marker\": {\"colorbar\": {\"outlinewidth\": 0, \"ticks\": \"\"}}, \"type\": \"scattermapbox\"}], \"scatterpolar\": [{\"marker\": {\"colorbar\": {\"outlinewidth\": 0, \"ticks\": \"\"}}, \"type\": \"scatterpolar\"}], \"scatterpolargl\": [{\"marker\": {\"colorbar\": {\"outlinewidth\": 0, \"ticks\": \"\"}}, \"type\": \"scatterpolargl\"}], \"scatterternary\": [{\"marker\": {\"colorbar\": {\"outlinewidth\": 0, \"ticks\": \"\"}}, \"type\": \"scatterternary\"}], \"surface\": [{\"colorbar\": {\"outlinewidth\": 0, \"ticks\": \"\"}, \"colorscale\": [[0.0, \"#0d0887\"], [0.1111111111111111, \"#46039f\"], [0.2222222222222222, \"#7201a8\"], [0.3333333333333333, \"#9c179e\"], [0.4444444444444444, \"#bd3786\"], [0.5555555555555556, \"#d8576b\"], [0.6666666666666666, \"#ed7953\"], [0.7777777777777778, \"#fb9f3a\"], [0.8888888888888888, \"#fdca26\"], [1.0, \"#f0f921\"]], \"type\": \"surface\"}], \"table\": [{\"cells\": {\"fill\": {\"color\": \"#EBF0F8\"}, \"line\": {\"color\": \"white\"}}, \"header\": {\"fill\": {\"color\": \"#C8D4E3\"}, \"line\": {\"color\": \"white\"}}, \"type\": \"table\"}]}, \"layout\": {\"annotationdefaults\": {\"arrowcolor\": \"#2a3f5f\", \"arrowhead\": 0, \"arrowwidth\": 1}, \"coloraxis\": {\"colorbar\": {\"outlinewidth\": 0, \"ticks\": \"\"}}, \"colorscale\": {\"diverging\": [[0, \"#8e0152\"], [0.1, \"#c51b7d\"], [0.2, \"#de77ae\"], [0.3, \"#f1b6da\"], [0.4, \"#fde0ef\"], [0.5, \"#f7f7f7\"], [0.6, \"#e6f5d0\"], [0.7, \"#b8e186\"], [0.8, \"#7fbc41\"], [0.9, \"#4d9221\"], [1, \"#276419\"]], \"sequential\": [[0.0, \"#0d0887\"], [0.1111111111111111, \"#46039f\"], [0.2222222222222222, \"#7201a8\"], [0.3333333333333333, \"#9c179e\"], [0.4444444444444444, \"#bd3786\"], [0.5555555555555556, \"#d8576b\"], [0.6666666666666666, \"#ed7953\"], [0.7777777777777778, \"#fb9f3a\"], [0.8888888888888888, \"#fdca26\"], [1.0, \"#f0f921\"]], \"sequentialminus\": [[0.0, \"#0d0887\"], [0.1111111111111111, \"#46039f\"], [0.2222222222222222, \"#7201a8\"], [0.3333333333333333, \"#9c179e\"], [0.4444444444444444, \"#bd3786\"], [0.5555555555555556, \"#d8576b\"], [0.6666666666666666, \"#ed7953\"], [0.7777777777777778, \"#fb9f3a\"], [0.8888888888888888, \"#fdca26\"], [1.0, \"#f0f921\"]]}, \"colorway\": [\"#636efa\", \"#EF553B\", \"#00cc96\", \"#ab63fa\", \"#FFA15A\", \"#19d3f3\", \"#FF6692\", \"#B6E880\", \"#FF97FF\", \"#FECB52\"], \"font\": {\"color\": \"#2a3f5f\"}, \"geo\": {\"bgcolor\": \"white\", \"lakecolor\": \"white\", \"landcolor\": \"#E5ECF6\", \"showlakes\": true, \"showland\": true, \"subunitcolor\": \"white\"}, \"hoverlabel\": {\"align\": \"left\"}, \"hovermode\": \"closest\", \"mapbox\": {\"style\": \"light\"}, \"paper_bgcolor\": \"white\", \"plot_bgcolor\": \"#E5ECF6\", \"polar\": {\"angularaxis\": {\"gridcolor\": \"white\", \"linecolor\": \"white\", \"ticks\": \"\"}, \"bgcolor\": \"#E5ECF6\", \"radialaxis\": {\"gridcolor\": \"white\", \"linecolor\": \"white\", \"ticks\": \"\"}}, \"scene\": {\"xaxis\": {\"backgroundcolor\": \"#E5ECF6\", \"gridcolor\": \"white\", \"gridwidth\": 2, \"linecolor\": \"white\", \"showbackground\": true, \"ticks\": \"\", \"zerolinecolor\": \"white\"}, \"yaxis\": {\"backgroundcolor\": \"#E5ECF6\", \"gridcolor\": \"white\", \"gridwidth\": 2, \"linecolor\": \"white\", \"showbackground\": true, \"ticks\": \"\", \"zerolinecolor\": \"white\"}, \"zaxis\": {\"backgroundcolor\": \"#E5ECF6\", \"gridcolor\": \"white\", \"gridwidth\": 2, \"linecolor\": \"white\", \"showbackground\": true, \"ticks\": \"\", \"zerolinecolor\": \"white\"}}, \"shapedefaults\": {\"line\": {\"color\": \"#2a3f5f\"}}, \"ternary\": {\"aaxis\": {\"gridcolor\": \"white\", \"linecolor\": \"white\", \"ticks\": \"\"}, \"baxis\": {\"gridcolor\": \"white\", \"linecolor\": \"white\", \"ticks\": \"\"}, \"bgcolor\": \"#E5ECF6\", \"caxis\": {\"gridcolor\": \"white\", \"linecolor\": \"white\", \"ticks\": \"\"}}, \"title\": {\"x\": 0.05}, \"xaxis\": {\"automargin\": true, \"gridcolor\": \"white\", \"linecolor\": \"white\", \"ticks\": \"\", \"title\": {\"standoff\": 15}, \"zerolinecolor\": \"white\", \"zerolinewidth\": 2}, \"yaxis\": {\"automargin\": true, \"gridcolor\": \"white\", \"linecolor\": \"white\", \"ticks\": \"\", \"title\": {\"standoff\": 15}, \"zerolinecolor\": \"white\", \"zerolinewidth\": 2}}}, \"xaxis\": {\"anchor\": \"y\", \"domain\": [0.0, 1.0], \"title\": {\"text\": \"x\"}}, \"yaxis\": {\"anchor\": \"x\", \"domain\": [0.0, 1.0], \"title\": {\"text\": \"y\"}}},\n",
              "                        {\"responsive\": true}\n",
              "                    ).then(function(){\n",
              "                            \n",
              "var gd = document.getElementById('4821379c-644f-4e58-91fa-788616abb616');\n",
              "var x = new MutationObserver(function (mutations, observer) {{\n",
              "        var display = window.getComputedStyle(gd).display;\n",
              "        if (!display || display === 'none') {{\n",
              "            console.log([gd, 'removed!']);\n",
              "            Plotly.purge(gd);\n",
              "            observer.disconnect();\n",
              "        }}\n",
              "}});\n",
              "\n",
              "// Listen for the removal of the full notebook cells\n",
              "var notebookContainer = gd.closest('#notebook-container');\n",
              "if (notebookContainer) {{\n",
              "    x.observe(notebookContainer, {childList: true});\n",
              "}}\n",
              "\n",
              "// Listen for the clearing of the current output cell\n",
              "var outputEl = gd.closest('.output');\n",
              "if (outputEl) {{\n",
              "    x.observe(outputEl, {childList: true});\n",
              "}}\n",
              "\n",
              "                        })\n",
              "                };\n",
              "                \n",
              "            </script>\n",
              "        </div>\n",
              "</body>\n",
              "</html>"
            ]
          },
          "metadata": {
            "tags": []
          }
        }
      ]
    },
    {
      "cell_type": "code",
      "metadata": {
        "colab": {
          "base_uri": "https://localhost:8080/",
          "height": 545
        },
        "id": "_DCXIhtP1hTv",
        "outputId": "1767df26-e208-4c45-c703-2d5ff646438c"
      },
      "source": [
        "pytrends.interest_by_region().sort_values(by=\"data science\", ascending=False).head(15)"
      ],
      "execution_count": 38,
      "outputs": [
        {
          "output_type": "execute_result",
          "data": {
            "text/html": [
              "<div>\n",
              "<style scoped>\n",
              "    .dataframe tbody tr th:only-of-type {\n",
              "        vertical-align: middle;\n",
              "    }\n",
              "\n",
              "    .dataframe tbody tr th {\n",
              "        vertical-align: top;\n",
              "    }\n",
              "\n",
              "    .dataframe thead th {\n",
              "        text-align: right;\n",
              "    }\n",
              "</style>\n",
              "<table border=\"1\" class=\"dataframe\">\n",
              "  <thead>\n",
              "    <tr style=\"text-align: right;\">\n",
              "      <th></th>\n",
              "      <th>data science</th>\n",
              "    </tr>\n",
              "    <tr>\n",
              "      <th>geoName</th>\n",
              "      <th></th>\n",
              "    </tr>\n",
              "  </thead>\n",
              "  <tbody>\n",
              "    <tr>\n",
              "      <th>Singapore</th>\n",
              "      <td>100</td>\n",
              "    </tr>\n",
              "    <tr>\n",
              "      <th>China</th>\n",
              "      <td>92</td>\n",
              "    </tr>\n",
              "    <tr>\n",
              "      <th>India</th>\n",
              "      <td>82</td>\n",
              "    </tr>\n",
              "    <tr>\n",
              "      <th>St. Helena</th>\n",
              "      <td>67</td>\n",
              "    </tr>\n",
              "    <tr>\n",
              "      <th>Nepal</th>\n",
              "      <td>60</td>\n",
              "    </tr>\n",
              "    <tr>\n",
              "      <th>Ghana</th>\n",
              "      <td>54</td>\n",
              "    </tr>\n",
              "    <tr>\n",
              "      <th>Nigeria</th>\n",
              "      <td>54</td>\n",
              "    </tr>\n",
              "    <tr>\n",
              "      <th>Pakistan</th>\n",
              "      <td>53</td>\n",
              "    </tr>\n",
              "    <tr>\n",
              "      <th>Hong Kong</th>\n",
              "      <td>53</td>\n",
              "    </tr>\n",
              "    <tr>\n",
              "      <th>Kenya</th>\n",
              "      <td>50</td>\n",
              "    </tr>\n",
              "    <tr>\n",
              "      <th>United States</th>\n",
              "      <td>43</td>\n",
              "    </tr>\n",
              "    <tr>\n",
              "      <th>United Arab Emirates</th>\n",
              "      <td>41</td>\n",
              "    </tr>\n",
              "    <tr>\n",
              "      <th>South Africa</th>\n",
              "      <td>40</td>\n",
              "    </tr>\n",
              "    <tr>\n",
              "      <th>Bangladesh</th>\n",
              "      <td>39</td>\n",
              "    </tr>\n",
              "    <tr>\n",
              "      <th>Australia</th>\n",
              "      <td>39</td>\n",
              "    </tr>\n",
              "  </tbody>\n",
              "</table>\n",
              "</div>"
            ],
            "text/plain": [
              "                      data science\n",
              "geoName                           \n",
              "Singapore                      100\n",
              "China                           92\n",
              "India                           82\n",
              "St. Helena                      67\n",
              "Nepal                           60\n",
              "Ghana                           54\n",
              "Nigeria                         54\n",
              "Pakistan                        53\n",
              "Hong Kong                       53\n",
              "Kenya                           50\n",
              "United States                   43\n",
              "United Arab Emirates            41\n",
              "South Africa                    40\n",
              "Bangladesh                      39\n",
              "Australia                       39"
            ]
          },
          "metadata": {
            "tags": []
          },
          "execution_count": 38
        }
      ]
    },
    {
      "cell_type": "code",
      "metadata": {
        "id": "bl3h8ydW1yKh"
      },
      "source": [
        "df2=pytrends.interest_by_region().sort_values(by=\"data science\", ascending=False).head(15)"
      ],
      "execution_count": 39,
      "outputs": []
    },
    {
      "cell_type": "code",
      "metadata": {
        "colab": {
          "base_uri": "https://localhost:8080/",
          "height": 542
        },
        "id": "MTgi4_Eq3Ij0",
        "outputId": "ce14b589-1a8d-40f0-c073-47e1ac10f9de"
      },
      "source": [
        "px.bar(x=df2.index, y=df2[\"data science\"])"
      ],
      "execution_count": 40,
      "outputs": [
        {
          "output_type": "display_data",
          "data": {
            "text/html": [
              "<html>\n",
              "<head><meta charset=\"utf-8\" /></head>\n",
              "<body>\n",
              "    <div>\n",
              "            <script src=\"https://cdnjs.cloudflare.com/ajax/libs/mathjax/2.7.5/MathJax.js?config=TeX-AMS-MML_SVG\"></script><script type=\"text/javascript\">if (window.MathJax) {MathJax.Hub.Config({SVG: {font: \"STIX-Web\"}});}</script>\n",
              "                <script type=\"text/javascript\">window.PlotlyConfig = {MathJaxConfig: 'local'};</script>\n",
              "        <script src=\"https://cdn.plot.ly/plotly-latest.min.js\"></script>    \n",
              "            <div id=\"f2d9f1ea-62c1-4a71-8d6c-c5580f674810\" class=\"plotly-graph-div\" style=\"height:525px; width:100%;\"></div>\n",
              "            <script type=\"text/javascript\">\n",
              "                \n",
              "                    window.PLOTLYENV=window.PLOTLYENV || {};\n",
              "                    \n",
              "                if (document.getElementById(\"f2d9f1ea-62c1-4a71-8d6c-c5580f674810\")) {\n",
              "                    Plotly.newPlot(\n",
              "                        'f2d9f1ea-62c1-4a71-8d6c-c5580f674810',\n",
              "                        [{\"alignmentgroup\": \"True\", \"hoverlabel\": {\"namelength\": 0}, \"hovertemplate\": \"x=%{x}<br>y=%{y}\", \"legendgroup\": \"\", \"marker\": {\"color\": \"#636efa\"}, \"name\": \"\", \"offsetgroup\": \"\", \"orientation\": \"v\", \"showlegend\": false, \"textposition\": \"auto\", \"type\": \"bar\", \"x\": [\"Singapore\", \"China\", \"India\", \"St. Helena\", \"Nepal\", \"Ghana\", \"Nigeria\", \"Pakistan\", \"Hong Kong\", \"Kenya\", \"United States\", \"United Arab Emirates\", \"South Africa\", \"Bangladesh\", \"Australia\"], \"xaxis\": \"x\", \"y\": [100, 92, 82, 67, 60, 54, 54, 53, 53, 50, 43, 41, 40, 39, 39], \"yaxis\": \"y\"}],\n",
              "                        {\"barmode\": \"relative\", \"legend\": {\"tracegroupgap\": 0}, \"margin\": {\"t\": 60}, \"template\": {\"data\": {\"bar\": [{\"error_x\": {\"color\": \"#2a3f5f\"}, \"error_y\": {\"color\": \"#2a3f5f\"}, \"marker\": {\"line\": {\"color\": \"#E5ECF6\", \"width\": 0.5}}, \"type\": \"bar\"}], \"barpolar\": [{\"marker\": {\"line\": {\"color\": \"#E5ECF6\", \"width\": 0.5}}, \"type\": \"barpolar\"}], \"carpet\": [{\"aaxis\": {\"endlinecolor\": \"#2a3f5f\", \"gridcolor\": \"white\", \"linecolor\": \"white\", \"minorgridcolor\": \"white\", \"startlinecolor\": \"#2a3f5f\"}, \"baxis\": {\"endlinecolor\": \"#2a3f5f\", \"gridcolor\": \"white\", \"linecolor\": \"white\", \"minorgridcolor\": \"white\", \"startlinecolor\": \"#2a3f5f\"}, \"type\": \"carpet\"}], \"choropleth\": [{\"colorbar\": {\"outlinewidth\": 0, \"ticks\": \"\"}, \"type\": \"choropleth\"}], \"contour\": [{\"colorbar\": {\"outlinewidth\": 0, \"ticks\": \"\"}, \"colorscale\": [[0.0, \"#0d0887\"], [0.1111111111111111, \"#46039f\"], [0.2222222222222222, \"#7201a8\"], [0.3333333333333333, \"#9c179e\"], [0.4444444444444444, \"#bd3786\"], [0.5555555555555556, \"#d8576b\"], [0.6666666666666666, \"#ed7953\"], [0.7777777777777778, \"#fb9f3a\"], [0.8888888888888888, \"#fdca26\"], [1.0, \"#f0f921\"]], \"type\": \"contour\"}], \"contourcarpet\": [{\"colorbar\": {\"outlinewidth\": 0, \"ticks\": \"\"}, \"type\": \"contourcarpet\"}], \"heatmap\": [{\"colorbar\": {\"outlinewidth\": 0, \"ticks\": \"\"}, \"colorscale\": [[0.0, \"#0d0887\"], [0.1111111111111111, \"#46039f\"], [0.2222222222222222, \"#7201a8\"], [0.3333333333333333, \"#9c179e\"], [0.4444444444444444, \"#bd3786\"], [0.5555555555555556, \"#d8576b\"], [0.6666666666666666, \"#ed7953\"], [0.7777777777777778, \"#fb9f3a\"], [0.8888888888888888, \"#fdca26\"], [1.0, \"#f0f921\"]], \"type\": \"heatmap\"}], \"heatmapgl\": [{\"colorbar\": {\"outlinewidth\": 0, \"ticks\": \"\"}, \"colorscale\": [[0.0, \"#0d0887\"], [0.1111111111111111, \"#46039f\"], [0.2222222222222222, \"#7201a8\"], [0.3333333333333333, \"#9c179e\"], [0.4444444444444444, \"#bd3786\"], [0.5555555555555556, \"#d8576b\"], [0.6666666666666666, \"#ed7953\"], [0.7777777777777778, \"#fb9f3a\"], [0.8888888888888888, \"#fdca26\"], [1.0, \"#f0f921\"]], \"type\": \"heatmapgl\"}], \"histogram\": [{\"marker\": {\"colorbar\": {\"outlinewidth\": 0, \"ticks\": \"\"}}, \"type\": \"histogram\"}], \"histogram2d\": [{\"colorbar\": {\"outlinewidth\": 0, \"ticks\": \"\"}, \"colorscale\": [[0.0, \"#0d0887\"], [0.1111111111111111, \"#46039f\"], [0.2222222222222222, \"#7201a8\"], [0.3333333333333333, \"#9c179e\"], [0.4444444444444444, \"#bd3786\"], [0.5555555555555556, \"#d8576b\"], [0.6666666666666666, \"#ed7953\"], [0.7777777777777778, \"#fb9f3a\"], [0.8888888888888888, \"#fdca26\"], [1.0, \"#f0f921\"]], \"type\": \"histogram2d\"}], \"histogram2dcontour\": [{\"colorbar\": {\"outlinewidth\": 0, \"ticks\": \"\"}, \"colorscale\": [[0.0, \"#0d0887\"], [0.1111111111111111, \"#46039f\"], [0.2222222222222222, \"#7201a8\"], [0.3333333333333333, \"#9c179e\"], [0.4444444444444444, \"#bd3786\"], [0.5555555555555556, \"#d8576b\"], [0.6666666666666666, \"#ed7953\"], [0.7777777777777778, \"#fb9f3a\"], [0.8888888888888888, \"#fdca26\"], [1.0, \"#f0f921\"]], \"type\": \"histogram2dcontour\"}], \"mesh3d\": [{\"colorbar\": {\"outlinewidth\": 0, \"ticks\": \"\"}, \"type\": \"mesh3d\"}], \"parcoords\": [{\"line\": {\"colorbar\": {\"outlinewidth\": 0, \"ticks\": \"\"}}, \"type\": \"parcoords\"}], \"pie\": [{\"automargin\": true, \"type\": \"pie\"}], \"scatter\": [{\"marker\": {\"colorbar\": {\"outlinewidth\": 0, \"ticks\": \"\"}}, \"type\": \"scatter\"}], \"scatter3d\": [{\"line\": {\"colorbar\": {\"outlinewidth\": 0, \"ticks\": \"\"}}, \"marker\": {\"colorbar\": {\"outlinewidth\": 0, \"ticks\": \"\"}}, \"type\": \"scatter3d\"}], \"scattercarpet\": [{\"marker\": {\"colorbar\": {\"outlinewidth\": 0, \"ticks\": \"\"}}, \"type\": \"scattercarpet\"}], \"scattergeo\": [{\"marker\": {\"colorbar\": {\"outlinewidth\": 0, \"ticks\": \"\"}}, \"type\": \"scattergeo\"}], \"scattergl\": [{\"marker\": {\"colorbar\": {\"outlinewidth\": 0, \"ticks\": \"\"}}, \"type\": \"scattergl\"}], \"scattermapbox\": [{\"marker\": {\"colorbar\": {\"outlinewidth\": 0, \"ticks\": \"\"}}, \"type\": \"scattermapbox\"}], \"scatterpolar\": [{\"marker\": {\"colorbar\": {\"outlinewidth\": 0, \"ticks\": \"\"}}, \"type\": \"scatterpolar\"}], \"scatterpolargl\": [{\"marker\": {\"colorbar\": {\"outlinewidth\": 0, \"ticks\": \"\"}}, \"type\": \"scatterpolargl\"}], \"scatterternary\": [{\"marker\": {\"colorbar\": {\"outlinewidth\": 0, \"ticks\": \"\"}}, \"type\": \"scatterternary\"}], \"surface\": [{\"colorbar\": {\"outlinewidth\": 0, \"ticks\": \"\"}, \"colorscale\": [[0.0, \"#0d0887\"], [0.1111111111111111, \"#46039f\"], [0.2222222222222222, \"#7201a8\"], [0.3333333333333333, \"#9c179e\"], [0.4444444444444444, \"#bd3786\"], [0.5555555555555556, \"#d8576b\"], [0.6666666666666666, \"#ed7953\"], [0.7777777777777778, \"#fb9f3a\"], [0.8888888888888888, \"#fdca26\"], [1.0, \"#f0f921\"]], \"type\": \"surface\"}], \"table\": [{\"cells\": {\"fill\": {\"color\": \"#EBF0F8\"}, \"line\": {\"color\": \"white\"}}, \"header\": {\"fill\": {\"color\": \"#C8D4E3\"}, \"line\": {\"color\": \"white\"}}, \"type\": \"table\"}]}, \"layout\": {\"annotationdefaults\": {\"arrowcolor\": \"#2a3f5f\", \"arrowhead\": 0, \"arrowwidth\": 1}, \"coloraxis\": {\"colorbar\": {\"outlinewidth\": 0, \"ticks\": \"\"}}, \"colorscale\": {\"diverging\": [[0, \"#8e0152\"], [0.1, \"#c51b7d\"], [0.2, \"#de77ae\"], [0.3, \"#f1b6da\"], [0.4, \"#fde0ef\"], [0.5, \"#f7f7f7\"], [0.6, \"#e6f5d0\"], [0.7, \"#b8e186\"], [0.8, \"#7fbc41\"], [0.9, \"#4d9221\"], [1, \"#276419\"]], \"sequential\": [[0.0, \"#0d0887\"], [0.1111111111111111, \"#46039f\"], [0.2222222222222222, \"#7201a8\"], [0.3333333333333333, \"#9c179e\"], [0.4444444444444444, \"#bd3786\"], [0.5555555555555556, \"#d8576b\"], [0.6666666666666666, \"#ed7953\"], [0.7777777777777778, \"#fb9f3a\"], [0.8888888888888888, \"#fdca26\"], [1.0, \"#f0f921\"]], \"sequentialminus\": [[0.0, \"#0d0887\"], [0.1111111111111111, \"#46039f\"], [0.2222222222222222, \"#7201a8\"], [0.3333333333333333, \"#9c179e\"], [0.4444444444444444, \"#bd3786\"], [0.5555555555555556, \"#d8576b\"], [0.6666666666666666, \"#ed7953\"], [0.7777777777777778, \"#fb9f3a\"], [0.8888888888888888, \"#fdca26\"], [1.0, \"#f0f921\"]]}, \"colorway\": [\"#636efa\", \"#EF553B\", \"#00cc96\", \"#ab63fa\", \"#FFA15A\", \"#19d3f3\", \"#FF6692\", \"#B6E880\", \"#FF97FF\", \"#FECB52\"], \"font\": {\"color\": \"#2a3f5f\"}, \"geo\": {\"bgcolor\": \"white\", \"lakecolor\": \"white\", \"landcolor\": \"#E5ECF6\", \"showlakes\": true, \"showland\": true, \"subunitcolor\": \"white\"}, \"hoverlabel\": {\"align\": \"left\"}, \"hovermode\": \"closest\", \"mapbox\": {\"style\": \"light\"}, \"paper_bgcolor\": \"white\", \"plot_bgcolor\": \"#E5ECF6\", \"polar\": {\"angularaxis\": {\"gridcolor\": \"white\", \"linecolor\": \"white\", \"ticks\": \"\"}, \"bgcolor\": \"#E5ECF6\", \"radialaxis\": {\"gridcolor\": \"white\", \"linecolor\": \"white\", \"ticks\": \"\"}}, \"scene\": {\"xaxis\": {\"backgroundcolor\": \"#E5ECF6\", \"gridcolor\": \"white\", \"gridwidth\": 2, \"linecolor\": \"white\", \"showbackground\": true, \"ticks\": \"\", \"zerolinecolor\": \"white\"}, \"yaxis\": {\"backgroundcolor\": \"#E5ECF6\", \"gridcolor\": \"white\", \"gridwidth\": 2, \"linecolor\": \"white\", \"showbackground\": true, \"ticks\": \"\", \"zerolinecolor\": \"white\"}, \"zaxis\": {\"backgroundcolor\": \"#E5ECF6\", \"gridcolor\": \"white\", \"gridwidth\": 2, \"linecolor\": \"white\", \"showbackground\": true, \"ticks\": \"\", \"zerolinecolor\": \"white\"}}, \"shapedefaults\": {\"line\": {\"color\": \"#2a3f5f\"}}, \"ternary\": {\"aaxis\": {\"gridcolor\": \"white\", \"linecolor\": \"white\", \"ticks\": \"\"}, \"baxis\": {\"gridcolor\": \"white\", \"linecolor\": \"white\", \"ticks\": \"\"}, \"bgcolor\": \"#E5ECF6\", \"caxis\": {\"gridcolor\": \"white\", \"linecolor\": \"white\", \"ticks\": \"\"}}, \"title\": {\"x\": 0.05}, \"xaxis\": {\"automargin\": true, \"gridcolor\": \"white\", \"linecolor\": \"white\", \"ticks\": \"\", \"title\": {\"standoff\": 15}, \"zerolinecolor\": \"white\", \"zerolinewidth\": 2}, \"yaxis\": {\"automargin\": true, \"gridcolor\": \"white\", \"linecolor\": \"white\", \"ticks\": \"\", \"title\": {\"standoff\": 15}, \"zerolinecolor\": \"white\", \"zerolinewidth\": 2}}}, \"xaxis\": {\"anchor\": \"y\", \"domain\": [0.0, 1.0], \"title\": {\"text\": \"x\"}}, \"yaxis\": {\"anchor\": \"x\", \"domain\": [0.0, 1.0], \"title\": {\"text\": \"y\"}}},\n",
              "                        {\"responsive\": true}\n",
              "                    ).then(function(){\n",
              "                            \n",
              "var gd = document.getElementById('f2d9f1ea-62c1-4a71-8d6c-c5580f674810');\n",
              "var x = new MutationObserver(function (mutations, observer) {{\n",
              "        var display = window.getComputedStyle(gd).display;\n",
              "        if (!display || display === 'none') {{\n",
              "            console.log([gd, 'removed!']);\n",
              "            Plotly.purge(gd);\n",
              "            observer.disconnect();\n",
              "        }}\n",
              "}});\n",
              "\n",
              "// Listen for the removal of the full notebook cells\n",
              "var notebookContainer = gd.closest('#notebook-container');\n",
              "if (notebookContainer) {{\n",
              "    x.observe(notebookContainer, {childList: true});\n",
              "}}\n",
              "\n",
              "// Listen for the clearing of the current output cell\n",
              "var outputEl = gd.closest('.output');\n",
              "if (outputEl) {{\n",
              "    x.observe(outputEl, {childList: true});\n",
              "}}\n",
              "\n",
              "                        })\n",
              "                };\n",
              "                \n",
              "            </script>\n",
              "        </div>\n",
              "</body>\n",
              "</html>"
            ]
          },
          "metadata": {
            "tags": []
          }
        }
      ]
    },
    {
      "cell_type": "code",
      "metadata": {
        "colab": {
          "base_uri": "https://localhost:8080/"
        },
        "id": "mcB_N7oh3jlX",
        "outputId": "fc45cafb-ff27-4429-c650-4124bfa935b3"
      },
      "source": [
        "pytrends.related_queries()"
      ],
      "execution_count": 41,
      "outputs": [
        {
          "output_type": "execute_result",
          "data": {
            "text/plain": [
              "{'data science': {'rising':                                                 query  value\n",
              "  0           ibm data science professional certificate  25900\n",
              "  1                                    365 data science  23550\n",
              "  2                            data science course fees  21850\n",
              "  3                                 upgrad data science  18300\n",
              "  4                   data science courses in bangalore  17700\n",
              "  5                              data science workbench  16150\n",
              "  6                    data science vs data engineering  16150\n",
              "  7                    python data science handbook pdf  11950\n",
              "  8                                    data science это   9150\n",
              "  9                     cloudera data science workbench   9050\n",
              "  10                        ibm data science experience   8600\n",
              "  11                                data science adalah   8550\n",
              "  12                         data science learning path   8200\n",
              "  13  python for data science and machine learning b...   7250\n",
              "  14                     iit madras data science course   7100\n",
              "  15                       explore data science academy   3950\n",
              "  16                            devops for data science   3700\n",
              "  17                     data science course in kolkata   3600\n",
              "  18                                excelr data science   3550\n",
              "  19                                 data science là gì   3250\n",
              "  20                               towards data science   2550\n",
              "  21                    data science hierarchy of needs   1850\n",
              "  22                             data science den bosch   1750\n",
              "  23                       python data science handbook   1600\n",
              "  24                            iit madras data science   1300,\n",
              "  'top':                       query  value\n",
              "  0       python data science    100\n",
              "  1                    python     97\n",
              "  2       data science course     90\n",
              "  3              what is data     83\n",
              "  4          computer science     82\n",
              "  5      what is data science     80\n",
              "  6         data science jobs     77\n",
              "  7            data analytics     74\n",
              "  8      data science masters     68\n",
              "  9       data science online     66\n",
              "  10         machine learning     57\n",
              "  11      master data science     56\n",
              "  12           data scientist     54\n",
              "  13     data science courses     49\n",
              "  14                 big data     40\n",
              "  15    big data data science     40\n",
              "  16      data science salary     40\n",
              "  17         data science job     37\n",
              "  18      google data science     36\n",
              "  19            data analysis     36\n",
              "  20  python for data science     34\n",
              "  21  masters in data science     33\n",
              "  22      data science degree     33\n",
              "  23     jobs in data science     29\n",
              "  24          ms data science     27}}"
            ]
          },
          "metadata": {
            "tags": []
          },
          "execution_count": 41
        }
      ]
    },
    {
      "cell_type": "code",
      "metadata": {
        "id": "-oWd2kjf71iw"
      },
      "source": [
        ""
      ],
      "execution_count": null,
      "outputs": []
    }
  ]
}